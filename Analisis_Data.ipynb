{
  "nbformat": 4,
  "nbformat_minor": 0,
  "metadata": {
    "colab": {
      "name": "Analisis Data.ipynb",
      "provenance": [],
      "collapsed_sections": [],
      "include_colab_link": true
    },
    "kernelspec": {
      "display_name": "Python 3",
      "name": "python3"
    },
    "language_info": {
      "name": "python"
    }
  },
  "cells": [
    {
      "cell_type": "markdown",
      "metadata": {
        "id": "view-in-github",
        "colab_type": "text"
      },
      "source": [
        "<a href=\"https://colab.research.google.com/github/Yustira/ANN-MT-1D/blob/main/Analisis_Data.ipynb\" target=\"_parent\"><img src=\"https://colab.research.google.com/assets/colab-badge.svg\" alt=\"Open In Colab\"/></a>"
      ]
    },
    {
      "cell_type": "markdown",
      "metadata": {
        "id": "FXqt1F7uhFhD"
      },
      "source": [
        "# **Analisis Perkembangan Industri Pariwisata Perkemahan di Jawa Barat Pada Saat dan Sebelum Pandemi Covid-19**"
      ]
    },
    {
      "cell_type": "code",
      "metadata": {
        "id": "FnvgB8y-FLym"
      },
      "source": [
        "import json\n",
        "import numpy as np\n",
        "import pandas as pd\n",
        "import plotly.express as px\n",
        "import plotly.graph_objects as go\n",
        "\n",
        "from google.colab import drive\n",
        "from urllib.request import urlopen\n",
        "from plotly.subplots import make_subplots"
      ],
      "execution_count": null,
      "outputs": []
    },
    {
      "cell_type": "code",
      "metadata": {
        "colab": {
          "base_uri": "https://localhost:8080/"
        },
        "id": "F7QhqNuzFzKp",
        "outputId": "cfb5b5c2-120a-4f3c-d49f-311f26c7bd51"
      },
      "source": [
        "drive.mount('/content/drive')"
      ],
      "execution_count": null,
      "outputs": [
        {
          "output_type": "stream",
          "name": "stdout",
          "text": [
            "Drive already mounted at /content/drive; to attempt to forcibly remount, call drive.mount(\"/content/drive\", force_remount=True).\n"
          ]
        }
      ]
    },
    {
      "cell_type": "markdown",
      "source": [
        "# **Persiapan Data**"
      ],
      "metadata": {
        "id": "XaDyQZQr83rx"
      }
    },
    {
      "cell_type": "markdown",
      "source": [
        "Dataset yang digunakan:\n",
        "\n",
        "| Nama Data | Sumber |\n",
        "|-|-|\n",
        "| Luas Area Perkemahan | Data Panitia |\n",
        "| Jumlah Pengunjung Perkemahan | Data Panitia |\n",
        "| Jumlah Tenaga Kerja Perkemahan | Data Panitia |\n",
        "| Kasus Covid-19 | [Open Data Jabar](https://opendata.jabarprov.go.id/id/dataset/perkembangan-harian-kasus-terkonfirmasi-positif-covid-19-berdasarkan-kabupatenkota-di-jawa-barat) |\n",
        "| Vaksinasi | [Kementrian Kesehatan](https://vaksin.kemkes.go.id/#/provinces) |\n",
        "| Populasi Penduduk Jawa Barat | [BPS Jawa Barat](https://jabar.bps.go.id/indicator/12/133/1/jumlah-penduduk-menurut-kabupaten-kota.html) |"
      ],
      "metadata": {
        "id": "hEXB-8Is-k_-"
      }
    },
    {
      "cell_type": "markdown",
      "metadata": {
        "id": "W1oetBGNOgmE"
      },
      "source": [
        "1. Data Luas Area Wisata Perkemahan"
      ]
    },
    {
      "cell_type": "code",
      "metadata": {
        "colab": {
          "base_uri": "https://localhost:8080/",
          "height": 206
        },
        "id": "ZisabkfkZnS9",
        "outputId": "f03b7e02-71be-4271-ca5b-46d1aa811544"
      },
      "source": [
        "dat1 = pd.read_csv('/content/drive/MyDrive/TSDN 21/dataset/Wisata Perkemahan/disparbud-od_perkemahan_berdasarkan_luas_data.csv')\n",
        "dat1.head()"
      ],
      "execution_count": null,
      "outputs": [
        {
          "output_type": "execute_result",
          "data": {
            "text/html": [
              "\n",
              "  <div id=\"df-70347fef-9b92-48ea-afee-5e0c61005932\">\n",
              "    <div class=\"colab-df-container\">\n",
              "      <div>\n",
              "<style scoped>\n",
              "    .dataframe tbody tr th:only-of-type {\n",
              "        vertical-align: middle;\n",
              "    }\n",
              "\n",
              "    .dataframe tbody tr th {\n",
              "        vertical-align: top;\n",
              "    }\n",
              "\n",
              "    .dataframe thead th {\n",
              "        text-align: right;\n",
              "    }\n",
              "</style>\n",
              "<table border=\"1\" class=\"dataframe\">\n",
              "  <thead>\n",
              "    <tr style=\"text-align: right;\">\n",
              "      <th></th>\n",
              "      <th>id</th>\n",
              "      <th>kode_provinsi</th>\n",
              "      <th>nama_provinsi</th>\n",
              "      <th>kode_kabupaten_kota</th>\n",
              "      <th>nama_kabupaten_kota</th>\n",
              "      <th>luas_area</th>\n",
              "      <th>satuan</th>\n",
              "      <th>tahun</th>\n",
              "    </tr>\n",
              "  </thead>\n",
              "  <tbody>\n",
              "    <tr>\n",
              "      <th>0</th>\n",
              "      <td>0</td>\n",
              "      <td>32</td>\n",
              "      <td>JAWA BARAT</td>\n",
              "      <td>3201</td>\n",
              "      <td>KABUPATEN BOGOR</td>\n",
              "      <td>20.0</td>\n",
              "      <td>HEKTAR</td>\n",
              "      <td>2014</td>\n",
              "    </tr>\n",
              "    <tr>\n",
              "      <th>1</th>\n",
              "      <td>1</td>\n",
              "      <td>32</td>\n",
              "      <td>JAWA BARAT</td>\n",
              "      <td>3202</td>\n",
              "      <td>KABUPATEN SUKABUMI</td>\n",
              "      <td>143.0</td>\n",
              "      <td>HEKTAR</td>\n",
              "      <td>2014</td>\n",
              "    </tr>\n",
              "    <tr>\n",
              "      <th>2</th>\n",
              "      <td>2</td>\n",
              "      <td>32</td>\n",
              "      <td>JAWA BARAT</td>\n",
              "      <td>3203</td>\n",
              "      <td>KABUPATEN CIANJUR</td>\n",
              "      <td>22.0</td>\n",
              "      <td>HEKTAR</td>\n",
              "      <td>2014</td>\n",
              "    </tr>\n",
              "    <tr>\n",
              "      <th>3</th>\n",
              "      <td>3</td>\n",
              "      <td>32</td>\n",
              "      <td>JAWA BARAT</td>\n",
              "      <td>3204</td>\n",
              "      <td>KABUPATEN BANDUNG</td>\n",
              "      <td>29.5</td>\n",
              "      <td>HEKTAR</td>\n",
              "      <td>2014</td>\n",
              "    </tr>\n",
              "    <tr>\n",
              "      <th>4</th>\n",
              "      <td>4</td>\n",
              "      <td>32</td>\n",
              "      <td>JAWA BARAT</td>\n",
              "      <td>3205</td>\n",
              "      <td>KABUPATEN GARUT</td>\n",
              "      <td>0.0</td>\n",
              "      <td>HEKTAR</td>\n",
              "      <td>2014</td>\n",
              "    </tr>\n",
              "  </tbody>\n",
              "</table>\n",
              "</div>\n",
              "      <button class=\"colab-df-convert\" onclick=\"convertToInteractive('df-70347fef-9b92-48ea-afee-5e0c61005932')\"\n",
              "              title=\"Convert this dataframe to an interactive table.\"\n",
              "              style=\"display:none;\">\n",
              "        \n",
              "  <svg xmlns=\"http://www.w3.org/2000/svg\" height=\"24px\"viewBox=\"0 0 24 24\"\n",
              "       width=\"24px\">\n",
              "    <path d=\"M0 0h24v24H0V0z\" fill=\"none\"/>\n",
              "    <path d=\"M18.56 5.44l.94 2.06.94-2.06 2.06-.94-2.06-.94-.94-2.06-.94 2.06-2.06.94zm-11 1L8.5 8.5l.94-2.06 2.06-.94-2.06-.94L8.5 2.5l-.94 2.06-2.06.94zm10 10l.94 2.06.94-2.06 2.06-.94-2.06-.94-.94-2.06-.94 2.06-2.06.94z\"/><path d=\"M17.41 7.96l-1.37-1.37c-.4-.4-.92-.59-1.43-.59-.52 0-1.04.2-1.43.59L10.3 9.45l-7.72 7.72c-.78.78-.78 2.05 0 2.83L4 21.41c.39.39.9.59 1.41.59.51 0 1.02-.2 1.41-.59l7.78-7.78 2.81-2.81c.8-.78.8-2.07 0-2.86zM5.41 20L4 18.59l7.72-7.72 1.47 1.35L5.41 20z\"/>\n",
              "  </svg>\n",
              "      </button>\n",
              "      \n",
              "  <style>\n",
              "    .colab-df-container {\n",
              "      display:flex;\n",
              "      flex-wrap:wrap;\n",
              "      gap: 12px;\n",
              "    }\n",
              "\n",
              "    .colab-df-convert {\n",
              "      background-color: #E8F0FE;\n",
              "      border: none;\n",
              "      border-radius: 50%;\n",
              "      cursor: pointer;\n",
              "      display: none;\n",
              "      fill: #1967D2;\n",
              "      height: 32px;\n",
              "      padding: 0 0 0 0;\n",
              "      width: 32px;\n",
              "    }\n",
              "\n",
              "    .colab-df-convert:hover {\n",
              "      background-color: #E2EBFA;\n",
              "      box-shadow: 0px 1px 2px rgba(60, 64, 67, 0.3), 0px 1px 3px 1px rgba(60, 64, 67, 0.15);\n",
              "      fill: #174EA6;\n",
              "    }\n",
              "\n",
              "    [theme=dark] .colab-df-convert {\n",
              "      background-color: #3B4455;\n",
              "      fill: #D2E3FC;\n",
              "    }\n",
              "\n",
              "    [theme=dark] .colab-df-convert:hover {\n",
              "      background-color: #434B5C;\n",
              "      box-shadow: 0px 1px 3px 1px rgba(0, 0, 0, 0.15);\n",
              "      filter: drop-shadow(0px 1px 2px rgba(0, 0, 0, 0.3));\n",
              "      fill: #FFFFFF;\n",
              "    }\n",
              "  </style>\n",
              "\n",
              "      <script>\n",
              "        const buttonEl =\n",
              "          document.querySelector('#df-70347fef-9b92-48ea-afee-5e0c61005932 button.colab-df-convert');\n",
              "        buttonEl.style.display =\n",
              "          google.colab.kernel.accessAllowed ? 'block' : 'none';\n",
              "\n",
              "        async function convertToInteractive(key) {\n",
              "          const element = document.querySelector('#df-70347fef-9b92-48ea-afee-5e0c61005932');\n",
              "          const dataTable =\n",
              "            await google.colab.kernel.invokeFunction('convertToInteractive',\n",
              "                                                     [key], {});\n",
              "          if (!dataTable) return;\n",
              "\n",
              "          const docLinkHtml = 'Like what you see? Visit the ' +\n",
              "            '<a target=\"_blank\" href=https://colab.research.google.com/notebooks/data_table.ipynb>data table notebook</a>'\n",
              "            + ' to learn more about interactive tables.';\n",
              "          element.innerHTML = '';\n",
              "          dataTable['output_type'] = 'display_data';\n",
              "          await google.colab.output.renderOutput(dataTable, element);\n",
              "          const docLink = document.createElement('div');\n",
              "          docLink.innerHTML = docLinkHtml;\n",
              "          element.appendChild(docLink);\n",
              "        }\n",
              "      </script>\n",
              "    </div>\n",
              "  </div>\n",
              "  "
            ],
            "text/plain": [
              "   id  kode_provinsi nama_provinsi  ...  luas_area  satuan  tahun\n",
              "0   0             32    JAWA BARAT  ...       20.0  HEKTAR   2014\n",
              "1   1             32    JAWA BARAT  ...      143.0  HEKTAR   2014\n",
              "2   2             32    JAWA BARAT  ...       22.0  HEKTAR   2014\n",
              "3   3             32    JAWA BARAT  ...       29.5  HEKTAR   2014\n",
              "4   4             32    JAWA BARAT  ...        0.0  HEKTAR   2014\n",
              "\n",
              "[5 rows x 8 columns]"
            ]
          },
          "metadata": {},
          "execution_count": 3
        }
      ]
    },
    {
      "cell_type": "markdown",
      "metadata": {
        "id": "Vc5UB_ZZaVtN"
      },
      "source": [
        "2. Data Jumlah Pengunjung"
      ]
    },
    {
      "cell_type": "code",
      "metadata": {
        "colab": {
          "base_uri": "https://localhost:8080/",
          "height": 206
        },
        "id": "VTPoq2bTaIxs",
        "outputId": "4147ffe9-4f3e-41f8-be43-e82a66e42428"
      },
      "source": [
        "dat2 = pd.read_csv('/content/drive/MyDrive/TSDN 21/dataset/Wisata Perkemahan/disparbud-od_perkemahan_berdasarkan_jumlah_pengunjung_data.csv')\n",
        "dat2.head()"
      ],
      "execution_count": null,
      "outputs": [
        {
          "output_type": "execute_result",
          "data": {
            "text/html": [
              "\n",
              "  <div id=\"df-b724c551-c574-493d-abdc-5b838e0e9db8\">\n",
              "    <div class=\"colab-df-container\">\n",
              "      <div>\n",
              "<style scoped>\n",
              "    .dataframe tbody tr th:only-of-type {\n",
              "        vertical-align: middle;\n",
              "    }\n",
              "\n",
              "    .dataframe tbody tr th {\n",
              "        vertical-align: top;\n",
              "    }\n",
              "\n",
              "    .dataframe thead th {\n",
              "        text-align: right;\n",
              "    }\n",
              "</style>\n",
              "<table border=\"1\" class=\"dataframe\">\n",
              "  <thead>\n",
              "    <tr style=\"text-align: right;\">\n",
              "      <th></th>\n",
              "      <th>id</th>\n",
              "      <th>kode_provinsi</th>\n",
              "      <th>nama_provinsi</th>\n",
              "      <th>kode_kabupaten_kota</th>\n",
              "      <th>nama_kabupaten_kota</th>\n",
              "      <th>jenis_wisatawan</th>\n",
              "      <th>jumlah_pengunjung</th>\n",
              "      <th>satuan</th>\n",
              "      <th>tahun</th>\n",
              "    </tr>\n",
              "  </thead>\n",
              "  <tbody>\n",
              "    <tr>\n",
              "      <th>0</th>\n",
              "      <td>0</td>\n",
              "      <td>32</td>\n",
              "      <td>JAWA BARAT</td>\n",
              "      <td>3201</td>\n",
              "      <td>KABUPATEN BOGOR</td>\n",
              "      <td>MANCANEGARA</td>\n",
              "      <td>8</td>\n",
              "      <td>ORANG</td>\n",
              "      <td>2014</td>\n",
              "    </tr>\n",
              "    <tr>\n",
              "      <th>1</th>\n",
              "      <td>1</td>\n",
              "      <td>32</td>\n",
              "      <td>JAWA BARAT</td>\n",
              "      <td>3201</td>\n",
              "      <td>KABUPATEN BOGOR</td>\n",
              "      <td>NUSANTARA</td>\n",
              "      <td>16963</td>\n",
              "      <td>ORANG</td>\n",
              "      <td>2014</td>\n",
              "    </tr>\n",
              "    <tr>\n",
              "      <th>2</th>\n",
              "      <td>2</td>\n",
              "      <td>32</td>\n",
              "      <td>JAWA BARAT</td>\n",
              "      <td>3202</td>\n",
              "      <td>KABUPATEN SUKABUMI</td>\n",
              "      <td>MANCANEGARA</td>\n",
              "      <td>2265</td>\n",
              "      <td>ORANG</td>\n",
              "      <td>2014</td>\n",
              "    </tr>\n",
              "    <tr>\n",
              "      <th>3</th>\n",
              "      <td>3</td>\n",
              "      <td>32</td>\n",
              "      <td>JAWA BARAT</td>\n",
              "      <td>3202</td>\n",
              "      <td>KABUPATEN SUKABUMI</td>\n",
              "      <td>NUSANTARA</td>\n",
              "      <td>107550</td>\n",
              "      <td>ORANG</td>\n",
              "      <td>2014</td>\n",
              "    </tr>\n",
              "    <tr>\n",
              "      <th>4</th>\n",
              "      <td>4</td>\n",
              "      <td>32</td>\n",
              "      <td>JAWA BARAT</td>\n",
              "      <td>3203</td>\n",
              "      <td>KABUPATEN CIANJUR</td>\n",
              "      <td>MANCANEGARA</td>\n",
              "      <td>92</td>\n",
              "      <td>ORANG</td>\n",
              "      <td>2014</td>\n",
              "    </tr>\n",
              "  </tbody>\n",
              "</table>\n",
              "</div>\n",
              "      <button class=\"colab-df-convert\" onclick=\"convertToInteractive('df-b724c551-c574-493d-abdc-5b838e0e9db8')\"\n",
              "              title=\"Convert this dataframe to an interactive table.\"\n",
              "              style=\"display:none;\">\n",
              "        \n",
              "  <svg xmlns=\"http://www.w3.org/2000/svg\" height=\"24px\"viewBox=\"0 0 24 24\"\n",
              "       width=\"24px\">\n",
              "    <path d=\"M0 0h24v24H0V0z\" fill=\"none\"/>\n",
              "    <path d=\"M18.56 5.44l.94 2.06.94-2.06 2.06-.94-2.06-.94-.94-2.06-.94 2.06-2.06.94zm-11 1L8.5 8.5l.94-2.06 2.06-.94-2.06-.94L8.5 2.5l-.94 2.06-2.06.94zm10 10l.94 2.06.94-2.06 2.06-.94-2.06-.94-.94-2.06-.94 2.06-2.06.94z\"/><path d=\"M17.41 7.96l-1.37-1.37c-.4-.4-.92-.59-1.43-.59-.52 0-1.04.2-1.43.59L10.3 9.45l-7.72 7.72c-.78.78-.78 2.05 0 2.83L4 21.41c.39.39.9.59 1.41.59.51 0 1.02-.2 1.41-.59l7.78-7.78 2.81-2.81c.8-.78.8-2.07 0-2.86zM5.41 20L4 18.59l7.72-7.72 1.47 1.35L5.41 20z\"/>\n",
              "  </svg>\n",
              "      </button>\n",
              "      \n",
              "  <style>\n",
              "    .colab-df-container {\n",
              "      display:flex;\n",
              "      flex-wrap:wrap;\n",
              "      gap: 12px;\n",
              "    }\n",
              "\n",
              "    .colab-df-convert {\n",
              "      background-color: #E8F0FE;\n",
              "      border: none;\n",
              "      border-radius: 50%;\n",
              "      cursor: pointer;\n",
              "      display: none;\n",
              "      fill: #1967D2;\n",
              "      height: 32px;\n",
              "      padding: 0 0 0 0;\n",
              "      width: 32px;\n",
              "    }\n",
              "\n",
              "    .colab-df-convert:hover {\n",
              "      background-color: #E2EBFA;\n",
              "      box-shadow: 0px 1px 2px rgba(60, 64, 67, 0.3), 0px 1px 3px 1px rgba(60, 64, 67, 0.15);\n",
              "      fill: #174EA6;\n",
              "    }\n",
              "\n",
              "    [theme=dark] .colab-df-convert {\n",
              "      background-color: #3B4455;\n",
              "      fill: #D2E3FC;\n",
              "    }\n",
              "\n",
              "    [theme=dark] .colab-df-convert:hover {\n",
              "      background-color: #434B5C;\n",
              "      box-shadow: 0px 1px 3px 1px rgba(0, 0, 0, 0.15);\n",
              "      filter: drop-shadow(0px 1px 2px rgba(0, 0, 0, 0.3));\n",
              "      fill: #FFFFFF;\n",
              "    }\n",
              "  </style>\n",
              "\n",
              "      <script>\n",
              "        const buttonEl =\n",
              "          document.querySelector('#df-b724c551-c574-493d-abdc-5b838e0e9db8 button.colab-df-convert');\n",
              "        buttonEl.style.display =\n",
              "          google.colab.kernel.accessAllowed ? 'block' : 'none';\n",
              "\n",
              "        async function convertToInteractive(key) {\n",
              "          const element = document.querySelector('#df-b724c551-c574-493d-abdc-5b838e0e9db8');\n",
              "          const dataTable =\n",
              "            await google.colab.kernel.invokeFunction('convertToInteractive',\n",
              "                                                     [key], {});\n",
              "          if (!dataTable) return;\n",
              "\n",
              "          const docLinkHtml = 'Like what you see? Visit the ' +\n",
              "            '<a target=\"_blank\" href=https://colab.research.google.com/notebooks/data_table.ipynb>data table notebook</a>'\n",
              "            + ' to learn more about interactive tables.';\n",
              "          element.innerHTML = '';\n",
              "          dataTable['output_type'] = 'display_data';\n",
              "          await google.colab.output.renderOutput(dataTable, element);\n",
              "          const docLink = document.createElement('div');\n",
              "          docLink.innerHTML = docLinkHtml;\n",
              "          element.appendChild(docLink);\n",
              "        }\n",
              "      </script>\n",
              "    </div>\n",
              "  </div>\n",
              "  "
            ],
            "text/plain": [
              "   id  kode_provinsi nama_provinsi  ...  jumlah_pengunjung satuan tahun\n",
              "0   0             32    JAWA BARAT  ...                  8  ORANG  2014\n",
              "1   1             32    JAWA BARAT  ...              16963  ORANG  2014\n",
              "2   2             32    JAWA BARAT  ...               2265  ORANG  2014\n",
              "3   3             32    JAWA BARAT  ...             107550  ORANG  2014\n",
              "4   4             32    JAWA BARAT  ...                 92  ORANG  2014\n",
              "\n",
              "[5 rows x 9 columns]"
            ]
          },
          "metadata": {},
          "execution_count": 4
        }
      ]
    },
    {
      "cell_type": "markdown",
      "metadata": {
        "id": "dWZrriFpbCPv"
      },
      "source": [
        "3. Data Jumlah Tenaga Kerja"
      ]
    },
    {
      "cell_type": "code",
      "metadata": {
        "id": "QiDD72mbZ5gV",
        "colab": {
          "base_uri": "https://localhost:8080/",
          "height": 206
        },
        "outputId": "f4716945-5a70-477d-fc03-ee66207537ed"
      },
      "source": [
        "dat3 = pd.read_csv('/content/drive/MyDrive/TSDN 21/dataset/Wisata Perkemahan/disparbud-od_jumlah_tenaga_kerja_perkemahan_berdasarkan_jenis_kelamin_data.csv')\n",
        "dat3.head()"
      ],
      "execution_count": null,
      "outputs": [
        {
          "output_type": "execute_result",
          "data": {
            "text/html": [
              "\n",
              "  <div id=\"df-65ada128-9c12-4451-86f6-67e4dd43b95b\">\n",
              "    <div class=\"colab-df-container\">\n",
              "      <div>\n",
              "<style scoped>\n",
              "    .dataframe tbody tr th:only-of-type {\n",
              "        vertical-align: middle;\n",
              "    }\n",
              "\n",
              "    .dataframe tbody tr th {\n",
              "        vertical-align: top;\n",
              "    }\n",
              "\n",
              "    .dataframe thead th {\n",
              "        text-align: right;\n",
              "    }\n",
              "</style>\n",
              "<table border=\"1\" class=\"dataframe\">\n",
              "  <thead>\n",
              "    <tr style=\"text-align: right;\">\n",
              "      <th></th>\n",
              "      <th>id</th>\n",
              "      <th>kode_provinsi</th>\n",
              "      <th>nama_provinsi</th>\n",
              "      <th>kode_kabupaten_kota</th>\n",
              "      <th>nama_kabupaten_kota</th>\n",
              "      <th>jenis_kelamin</th>\n",
              "      <th>jumlah_tenaga_kerja</th>\n",
              "      <th>satuan</th>\n",
              "      <th>tahun</th>\n",
              "    </tr>\n",
              "  </thead>\n",
              "  <tbody>\n",
              "    <tr>\n",
              "      <th>0</th>\n",
              "      <td>0</td>\n",
              "      <td>32</td>\n",
              "      <td>JAWA BARAT</td>\n",
              "      <td>3201</td>\n",
              "      <td>KABUPATEN BOGOR</td>\n",
              "      <td>PRIA</td>\n",
              "      <td>15</td>\n",
              "      <td>ORANG</td>\n",
              "      <td>2014</td>\n",
              "    </tr>\n",
              "    <tr>\n",
              "      <th>1</th>\n",
              "      <td>1</td>\n",
              "      <td>32</td>\n",
              "      <td>JAWA BARAT</td>\n",
              "      <td>3201</td>\n",
              "      <td>KABUPATEN BOGOR</td>\n",
              "      <td>WANITA</td>\n",
              "      <td>0</td>\n",
              "      <td>ORANG</td>\n",
              "      <td>2014</td>\n",
              "    </tr>\n",
              "    <tr>\n",
              "      <th>2</th>\n",
              "      <td>2</td>\n",
              "      <td>32</td>\n",
              "      <td>JAWA BARAT</td>\n",
              "      <td>3202</td>\n",
              "      <td>KABUPATEN SUKABUMI</td>\n",
              "      <td>PRIA</td>\n",
              "      <td>30</td>\n",
              "      <td>ORANG</td>\n",
              "      <td>2014</td>\n",
              "    </tr>\n",
              "    <tr>\n",
              "      <th>3</th>\n",
              "      <td>3</td>\n",
              "      <td>32</td>\n",
              "      <td>JAWA BARAT</td>\n",
              "      <td>3202</td>\n",
              "      <td>KABUPATEN SUKABUMI</td>\n",
              "      <td>WANITA</td>\n",
              "      <td>7</td>\n",
              "      <td>ORANG</td>\n",
              "      <td>2014</td>\n",
              "    </tr>\n",
              "    <tr>\n",
              "      <th>4</th>\n",
              "      <td>4</td>\n",
              "      <td>32</td>\n",
              "      <td>JAWA BARAT</td>\n",
              "      <td>3203</td>\n",
              "      <td>KABUPATEN CIANJUR</td>\n",
              "      <td>PRIA</td>\n",
              "      <td>16</td>\n",
              "      <td>ORANG</td>\n",
              "      <td>2014</td>\n",
              "    </tr>\n",
              "  </tbody>\n",
              "</table>\n",
              "</div>\n",
              "      <button class=\"colab-df-convert\" onclick=\"convertToInteractive('df-65ada128-9c12-4451-86f6-67e4dd43b95b')\"\n",
              "              title=\"Convert this dataframe to an interactive table.\"\n",
              "              style=\"display:none;\">\n",
              "        \n",
              "  <svg xmlns=\"http://www.w3.org/2000/svg\" height=\"24px\"viewBox=\"0 0 24 24\"\n",
              "       width=\"24px\">\n",
              "    <path d=\"M0 0h24v24H0V0z\" fill=\"none\"/>\n",
              "    <path d=\"M18.56 5.44l.94 2.06.94-2.06 2.06-.94-2.06-.94-.94-2.06-.94 2.06-2.06.94zm-11 1L8.5 8.5l.94-2.06 2.06-.94-2.06-.94L8.5 2.5l-.94 2.06-2.06.94zm10 10l.94 2.06.94-2.06 2.06-.94-2.06-.94-.94-2.06-.94 2.06-2.06.94z\"/><path d=\"M17.41 7.96l-1.37-1.37c-.4-.4-.92-.59-1.43-.59-.52 0-1.04.2-1.43.59L10.3 9.45l-7.72 7.72c-.78.78-.78 2.05 0 2.83L4 21.41c.39.39.9.59 1.41.59.51 0 1.02-.2 1.41-.59l7.78-7.78 2.81-2.81c.8-.78.8-2.07 0-2.86zM5.41 20L4 18.59l7.72-7.72 1.47 1.35L5.41 20z\"/>\n",
              "  </svg>\n",
              "      </button>\n",
              "      \n",
              "  <style>\n",
              "    .colab-df-container {\n",
              "      display:flex;\n",
              "      flex-wrap:wrap;\n",
              "      gap: 12px;\n",
              "    }\n",
              "\n",
              "    .colab-df-convert {\n",
              "      background-color: #E8F0FE;\n",
              "      border: none;\n",
              "      border-radius: 50%;\n",
              "      cursor: pointer;\n",
              "      display: none;\n",
              "      fill: #1967D2;\n",
              "      height: 32px;\n",
              "      padding: 0 0 0 0;\n",
              "      width: 32px;\n",
              "    }\n",
              "\n",
              "    .colab-df-convert:hover {\n",
              "      background-color: #E2EBFA;\n",
              "      box-shadow: 0px 1px 2px rgba(60, 64, 67, 0.3), 0px 1px 3px 1px rgba(60, 64, 67, 0.15);\n",
              "      fill: #174EA6;\n",
              "    }\n",
              "\n",
              "    [theme=dark] .colab-df-convert {\n",
              "      background-color: #3B4455;\n",
              "      fill: #D2E3FC;\n",
              "    }\n",
              "\n",
              "    [theme=dark] .colab-df-convert:hover {\n",
              "      background-color: #434B5C;\n",
              "      box-shadow: 0px 1px 3px 1px rgba(0, 0, 0, 0.15);\n",
              "      filter: drop-shadow(0px 1px 2px rgba(0, 0, 0, 0.3));\n",
              "      fill: #FFFFFF;\n",
              "    }\n",
              "  </style>\n",
              "\n",
              "      <script>\n",
              "        const buttonEl =\n",
              "          document.querySelector('#df-65ada128-9c12-4451-86f6-67e4dd43b95b button.colab-df-convert');\n",
              "        buttonEl.style.display =\n",
              "          google.colab.kernel.accessAllowed ? 'block' : 'none';\n",
              "\n",
              "        async function convertToInteractive(key) {\n",
              "          const element = document.querySelector('#df-65ada128-9c12-4451-86f6-67e4dd43b95b');\n",
              "          const dataTable =\n",
              "            await google.colab.kernel.invokeFunction('convertToInteractive',\n",
              "                                                     [key], {});\n",
              "          if (!dataTable) return;\n",
              "\n",
              "          const docLinkHtml = 'Like what you see? Visit the ' +\n",
              "            '<a target=\"_blank\" href=https://colab.research.google.com/notebooks/data_table.ipynb>data table notebook</a>'\n",
              "            + ' to learn more about interactive tables.';\n",
              "          element.innerHTML = '';\n",
              "          dataTable['output_type'] = 'display_data';\n",
              "          await google.colab.output.renderOutput(dataTable, element);\n",
              "          const docLink = document.createElement('div');\n",
              "          docLink.innerHTML = docLinkHtml;\n",
              "          element.appendChild(docLink);\n",
              "        }\n",
              "      </script>\n",
              "    </div>\n",
              "  </div>\n",
              "  "
            ],
            "text/plain": [
              "   id  kode_provinsi nama_provinsi  ...  jumlah_tenaga_kerja satuan tahun\n",
              "0   0             32    JAWA BARAT  ...                   15  ORANG  2014\n",
              "1   1             32    JAWA BARAT  ...                    0  ORANG  2014\n",
              "2   2             32    JAWA BARAT  ...                   30  ORANG  2014\n",
              "3   3             32    JAWA BARAT  ...                    7  ORANG  2014\n",
              "4   4             32    JAWA BARAT  ...                   16  ORANG  2014\n",
              "\n",
              "[5 rows x 9 columns]"
            ]
          },
          "metadata": {},
          "execution_count": 5
        }
      ]
    },
    {
      "cell_type": "markdown",
      "source": [
        "Mengecek data null"
      ],
      "metadata": {
        "id": "qC56hlmuLYrn"
      }
    },
    {
      "cell_type": "code",
      "source": [
        "data = [dat1, dat2, dat3]\n",
        "for i in data:\n",
        "    print(i.isnull().sum(), '\\n')"
      ],
      "metadata": {
        "colab": {
          "base_uri": "https://localhost:8080/"
        },
        "id": "_UO8EECRLHv-",
        "outputId": "d47d13b0-de23-4190-b6a1-60d4c98aeccf"
      },
      "execution_count": null,
      "outputs": [
        {
          "output_type": "stream",
          "name": "stdout",
          "text": [
            "id                     0\n",
            "kode_provinsi          0\n",
            "nama_provinsi          0\n",
            "kode_kabupaten_kota    0\n",
            "nama_kabupaten_kota    0\n",
            "luas_area              0\n",
            "satuan                 0\n",
            "tahun                  0\n",
            "dtype: int64 \n",
            "\n",
            "id                     0\n",
            "kode_provinsi          0\n",
            "nama_provinsi          0\n",
            "kode_kabupaten_kota    0\n",
            "nama_kabupaten_kota    0\n",
            "jenis_wisatawan        0\n",
            "jumlah_pengunjung      0\n",
            "satuan                 0\n",
            "tahun                  0\n",
            "dtype: int64 \n",
            "\n",
            "id                     0\n",
            "kode_provinsi          0\n",
            "nama_provinsi          0\n",
            "kode_kabupaten_kota    0\n",
            "nama_kabupaten_kota    0\n",
            "jenis_kelamin          0\n",
            "jumlah_tenaga_kerja    0\n",
            "satuan                 0\n",
            "tahun                  0\n",
            "dtype: int64 \n",
            "\n"
          ]
        }
      ]
    },
    {
      "cell_type": "markdown",
      "source": [
        "# **Analisis Perkembangan Pariwisata Perkemahan Sebelum Masa Pandemi**"
      ],
      "metadata": {
        "id": "sPpxYv55Ks2c"
      }
    },
    {
      "cell_type": "code",
      "metadata": {
        "id": "89SlLe_peZ47"
      },
      "source": [
        "luas_area = dat1.groupby('tahun').sum().reset_index()\n",
        "luas_area = luas_area[['tahun', 'luas_area']]\n",
        "\n",
        "pengunjung = dat2.groupby('tahun').sum().reset_index()\n",
        "pengunjung = pengunjung[['tahun', 'jumlah_pengunjung']]\n",
        "\n",
        "pekerja = dat3.groupby('tahun').sum().reset_index()\n",
        "pekerja = pekerja[['tahun', 'jumlah_tenaga_kerja']]"
      ],
      "execution_count": null,
      "outputs": []
    },
    {
      "cell_type": "code",
      "metadata": {
        "colab": {
          "base_uri": "https://localhost:8080/",
          "height": 517
        },
        "id": "tS18loQefPBT",
        "outputId": "391e775e-cb97-40a8-bf9e-19d27de37cab"
      },
      "source": [
        "fig = make_subplots(rows=2, cols=2, shared_yaxes=False,\n",
        "                    subplot_titles=('Jumlah Pengunjung', \n",
        "                                    'Jumlah Tenaga Kerja',\n",
        "                                    'Luas Area Perkemahan'))\n",
        "\n",
        "fig.add_trace(go.Bar(x=pengunjung.tahun, y=pengunjung.jumlah_pengunjung, name='Pengunjung'), 1, 1)\n",
        "fig.add_trace(go.Bar(x=pekerja.tahun, y=pekerja.jumlah_tenaga_kerja, name='Tenaga Kerja'), 1, 2)\n",
        "fig.add_trace(go.Bar(x=luas_area.tahun, y=luas_area.luas_area, name='Luas Area'), 2, 1)\n",
        "\n",
        "fig.update_xaxes(title_text=\"Tahun\", row=1, col=1)\n",
        "fig.update_xaxes(title_text=\"Tahun\", row=1, col=2)\n",
        "fig.update_xaxes(title_text=\"Tahun\", row=2, col=1)\n",
        "fig.update_yaxes(title_text=\"Jumlah\", row=1, col=1)\n",
        "fig.update_yaxes(title_text=\"Jumlah\", row=1, col=2)\n",
        "fig.update_yaxes(title_text=\"Luas Area\", row=2, col=1)\n",
        "\n",
        "fig.update_layout(margin={\"r\":5,\"t\":25,\"l\":5,\"b\":5},\n",
        "                  width=100*12, height=100*5)\n",
        "\n",
        "fig.show()"
      ],
      "execution_count": null,
      "outputs": [
        {
          "output_type": "display_data",
          "data": {
            "text/html": [
              "<html>\n",
              "<head><meta charset=\"utf-8\" /></head>\n",
              "<body>\n",
              "    <div>\n",
              "            <script src=\"https://cdnjs.cloudflare.com/ajax/libs/mathjax/2.7.5/MathJax.js?config=TeX-AMS-MML_SVG\"></script><script type=\"text/javascript\">if (window.MathJax) {MathJax.Hub.Config({SVG: {font: \"STIX-Web\"}});}</script>\n",
              "                <script type=\"text/javascript\">window.PlotlyConfig = {MathJaxConfig: 'local'};</script>\n",
              "        <script src=\"https://cdn.plot.ly/plotly-latest.min.js\"></script>    \n",
              "            <div id=\"f6d305cb-274f-4559-be47-a2dfae300fa3\" class=\"plotly-graph-div\" style=\"height:500px; width:1200px;\"></div>\n",
              "            <script type=\"text/javascript\">\n",
              "                \n",
              "                    window.PLOTLYENV=window.PLOTLYENV || {};\n",
              "                    \n",
              "                if (document.getElementById(\"f6d305cb-274f-4559-be47-a2dfae300fa3\")) {\n",
              "                    Plotly.newPlot(\n",
              "                        'f6d305cb-274f-4559-be47-a2dfae300fa3',\n",
              "                        [{\"name\": \"Pengunjung\", \"type\": \"bar\", \"x\": [2014, 2015, 2016, 2017, 2018, 2019], \"xaxis\": \"x\", \"y\": [326632, 326297, 324668, 397912, 88556, 256097], \"yaxis\": \"y\"}, {\"name\": \"Tenaga Kerja\", \"type\": \"bar\", \"x\": [2014, 2015, 2016, 2017, 2018, 2019], \"xaxis\": \"x2\", \"y\": [355, 353, 343, 362, 220, 417], \"yaxis\": \"y2\"}, {\"name\": \"Luas Area\", \"type\": \"bar\", \"x\": [2014, 2015, 2016, 2017], \"xaxis\": \"x3\", \"y\": [514.0, 514.0, 880.4, 126251.4], \"yaxis\": \"y3\"}],\n",
              "                        {\"annotations\": [{\"font\": {\"size\": 16}, \"showarrow\": false, \"text\": \"Jumlah Pengunjung\", \"x\": 0.225, \"xanchor\": \"center\", \"xref\": \"paper\", \"y\": 1.0, \"yanchor\": \"bottom\", \"yref\": \"paper\"}, {\"font\": {\"size\": 16}, \"showarrow\": false, \"text\": \"Jumlah Tenaga Kerja\", \"x\": 0.775, \"xanchor\": \"center\", \"xref\": \"paper\", \"y\": 1.0, \"yanchor\": \"bottom\", \"yref\": \"paper\"}, {\"font\": {\"size\": 16}, \"showarrow\": false, \"text\": \"Luas Area Perkemahan\", \"x\": 0.225, \"xanchor\": \"center\", \"xref\": \"paper\", \"y\": 0.375, \"yanchor\": \"bottom\", \"yref\": \"paper\"}], \"height\": 500, \"margin\": {\"b\": 5, \"l\": 5, \"r\": 5, \"t\": 25}, \"template\": {\"data\": {\"bar\": [{\"error_x\": {\"color\": \"#2a3f5f\"}, \"error_y\": {\"color\": \"#2a3f5f\"}, \"marker\": {\"line\": {\"color\": \"#E5ECF6\", \"width\": 0.5}}, \"type\": \"bar\"}], \"barpolar\": [{\"marker\": {\"line\": {\"color\": \"#E5ECF6\", \"width\": 0.5}}, \"type\": \"barpolar\"}], \"carpet\": [{\"aaxis\": {\"endlinecolor\": \"#2a3f5f\", \"gridcolor\": \"white\", \"linecolor\": \"white\", \"minorgridcolor\": \"white\", \"startlinecolor\": \"#2a3f5f\"}, \"baxis\": {\"endlinecolor\": \"#2a3f5f\", \"gridcolor\": \"white\", \"linecolor\": \"white\", \"minorgridcolor\": \"white\", \"startlinecolor\": \"#2a3f5f\"}, \"type\": \"carpet\"}], \"choropleth\": [{\"colorbar\": {\"outlinewidth\": 0, \"ticks\": \"\"}, \"type\": \"choropleth\"}], \"contour\": [{\"colorbar\": {\"outlinewidth\": 0, \"ticks\": \"\"}, \"colorscale\": [[0.0, \"#0d0887\"], [0.1111111111111111, \"#46039f\"], [0.2222222222222222, \"#7201a8\"], [0.3333333333333333, \"#9c179e\"], [0.4444444444444444, \"#bd3786\"], [0.5555555555555556, \"#d8576b\"], [0.6666666666666666, \"#ed7953\"], [0.7777777777777778, \"#fb9f3a\"], [0.8888888888888888, \"#fdca26\"], [1.0, \"#f0f921\"]], \"type\": \"contour\"}], \"contourcarpet\": [{\"colorbar\": {\"outlinewidth\": 0, \"ticks\": \"\"}, \"type\": \"contourcarpet\"}], \"heatmap\": [{\"colorbar\": {\"outlinewidth\": 0, \"ticks\": \"\"}, \"colorscale\": [[0.0, \"#0d0887\"], [0.1111111111111111, \"#46039f\"], [0.2222222222222222, \"#7201a8\"], [0.3333333333333333, \"#9c179e\"], [0.4444444444444444, \"#bd3786\"], [0.5555555555555556, \"#d8576b\"], [0.6666666666666666, \"#ed7953\"], [0.7777777777777778, \"#fb9f3a\"], [0.8888888888888888, \"#fdca26\"], [1.0, \"#f0f921\"]], \"type\": \"heatmap\"}], \"heatmapgl\": [{\"colorbar\": {\"outlinewidth\": 0, \"ticks\": \"\"}, \"colorscale\": [[0.0, \"#0d0887\"], [0.1111111111111111, \"#46039f\"], [0.2222222222222222, \"#7201a8\"], [0.3333333333333333, \"#9c179e\"], [0.4444444444444444, \"#bd3786\"], [0.5555555555555556, \"#d8576b\"], [0.6666666666666666, \"#ed7953\"], [0.7777777777777778, \"#fb9f3a\"], [0.8888888888888888, \"#fdca26\"], [1.0, \"#f0f921\"]], \"type\": \"heatmapgl\"}], \"histogram\": [{\"marker\": {\"colorbar\": {\"outlinewidth\": 0, \"ticks\": \"\"}}, \"type\": \"histogram\"}], \"histogram2d\": [{\"colorbar\": {\"outlinewidth\": 0, \"ticks\": \"\"}, \"colorscale\": [[0.0, \"#0d0887\"], [0.1111111111111111, \"#46039f\"], [0.2222222222222222, \"#7201a8\"], [0.3333333333333333, \"#9c179e\"], [0.4444444444444444, \"#bd3786\"], [0.5555555555555556, \"#d8576b\"], [0.6666666666666666, \"#ed7953\"], [0.7777777777777778, \"#fb9f3a\"], [0.8888888888888888, \"#fdca26\"], [1.0, \"#f0f921\"]], \"type\": \"histogram2d\"}], \"histogram2dcontour\": [{\"colorbar\": {\"outlinewidth\": 0, \"ticks\": \"\"}, \"colorscale\": [[0.0, \"#0d0887\"], [0.1111111111111111, \"#46039f\"], [0.2222222222222222, \"#7201a8\"], [0.3333333333333333, \"#9c179e\"], [0.4444444444444444, \"#bd3786\"], [0.5555555555555556, \"#d8576b\"], [0.6666666666666666, \"#ed7953\"], [0.7777777777777778, \"#fb9f3a\"], [0.8888888888888888, \"#fdca26\"], [1.0, \"#f0f921\"]], \"type\": \"histogram2dcontour\"}], \"mesh3d\": [{\"colorbar\": {\"outlinewidth\": 0, \"ticks\": \"\"}, \"type\": \"mesh3d\"}], \"parcoords\": [{\"line\": {\"colorbar\": {\"outlinewidth\": 0, \"ticks\": \"\"}}, \"type\": \"parcoords\"}], \"pie\": [{\"automargin\": true, \"type\": \"pie\"}], \"scatter\": [{\"marker\": {\"colorbar\": {\"outlinewidth\": 0, \"ticks\": \"\"}}, \"type\": \"scatter\"}], \"scatter3d\": [{\"line\": {\"colorbar\": {\"outlinewidth\": 0, \"ticks\": \"\"}}, \"marker\": {\"colorbar\": {\"outlinewidth\": 0, \"ticks\": \"\"}}, \"type\": \"scatter3d\"}], \"scattercarpet\": [{\"marker\": {\"colorbar\": {\"outlinewidth\": 0, \"ticks\": \"\"}}, \"type\": \"scattercarpet\"}], \"scattergeo\": [{\"marker\": {\"colorbar\": {\"outlinewidth\": 0, \"ticks\": \"\"}}, \"type\": \"scattergeo\"}], \"scattergl\": [{\"marker\": {\"colorbar\": {\"outlinewidth\": 0, \"ticks\": \"\"}}, \"type\": \"scattergl\"}], \"scattermapbox\": [{\"marker\": {\"colorbar\": {\"outlinewidth\": 0, \"ticks\": \"\"}}, \"type\": \"scattermapbox\"}], \"scatterpolar\": [{\"marker\": {\"colorbar\": {\"outlinewidth\": 0, \"ticks\": \"\"}}, \"type\": \"scatterpolar\"}], \"scatterpolargl\": [{\"marker\": {\"colorbar\": {\"outlinewidth\": 0, \"ticks\": \"\"}}, \"type\": \"scatterpolargl\"}], \"scatterternary\": [{\"marker\": {\"colorbar\": {\"outlinewidth\": 0, \"ticks\": \"\"}}, \"type\": \"scatterternary\"}], \"surface\": [{\"colorbar\": {\"outlinewidth\": 0, \"ticks\": \"\"}, \"colorscale\": [[0.0, \"#0d0887\"], [0.1111111111111111, \"#46039f\"], [0.2222222222222222, \"#7201a8\"], [0.3333333333333333, \"#9c179e\"], [0.4444444444444444, \"#bd3786\"], [0.5555555555555556, \"#d8576b\"], [0.6666666666666666, \"#ed7953\"], [0.7777777777777778, \"#fb9f3a\"], [0.8888888888888888, \"#fdca26\"], [1.0, \"#f0f921\"]], \"type\": \"surface\"}], \"table\": [{\"cells\": {\"fill\": {\"color\": \"#EBF0F8\"}, \"line\": {\"color\": \"white\"}}, \"header\": {\"fill\": {\"color\": \"#C8D4E3\"}, \"line\": {\"color\": \"white\"}}, \"type\": \"table\"}]}, \"layout\": {\"annotationdefaults\": {\"arrowcolor\": \"#2a3f5f\", \"arrowhead\": 0, \"arrowwidth\": 1}, \"coloraxis\": {\"colorbar\": {\"outlinewidth\": 0, \"ticks\": \"\"}}, \"colorscale\": {\"diverging\": [[0, \"#8e0152\"], [0.1, \"#c51b7d\"], [0.2, \"#de77ae\"], [0.3, \"#f1b6da\"], [0.4, \"#fde0ef\"], [0.5, \"#f7f7f7\"], [0.6, \"#e6f5d0\"], [0.7, \"#b8e186\"], [0.8, \"#7fbc41\"], [0.9, \"#4d9221\"], [1, \"#276419\"]], \"sequential\": [[0.0, \"#0d0887\"], [0.1111111111111111, \"#46039f\"], [0.2222222222222222, \"#7201a8\"], [0.3333333333333333, \"#9c179e\"], [0.4444444444444444, \"#bd3786\"], [0.5555555555555556, \"#d8576b\"], [0.6666666666666666, \"#ed7953\"], [0.7777777777777778, \"#fb9f3a\"], [0.8888888888888888, \"#fdca26\"], [1.0, \"#f0f921\"]], \"sequentialminus\": [[0.0, \"#0d0887\"], [0.1111111111111111, \"#46039f\"], [0.2222222222222222, \"#7201a8\"], [0.3333333333333333, \"#9c179e\"], [0.4444444444444444, \"#bd3786\"], [0.5555555555555556, \"#d8576b\"], [0.6666666666666666, \"#ed7953\"], [0.7777777777777778, \"#fb9f3a\"], [0.8888888888888888, \"#fdca26\"], [1.0, \"#f0f921\"]]}, \"colorway\": [\"#636efa\", \"#EF553B\", \"#00cc96\", \"#ab63fa\", \"#FFA15A\", \"#19d3f3\", \"#FF6692\", \"#B6E880\", \"#FF97FF\", \"#FECB52\"], \"font\": {\"color\": \"#2a3f5f\"}, \"geo\": {\"bgcolor\": \"white\", \"lakecolor\": \"white\", \"landcolor\": \"#E5ECF6\", \"showlakes\": true, \"showland\": true, \"subunitcolor\": \"white\"}, \"hoverlabel\": {\"align\": \"left\"}, \"hovermode\": \"closest\", \"mapbox\": {\"style\": \"light\"}, \"paper_bgcolor\": \"white\", \"plot_bgcolor\": \"#E5ECF6\", \"polar\": {\"angularaxis\": {\"gridcolor\": \"white\", \"linecolor\": \"white\", \"ticks\": \"\"}, \"bgcolor\": \"#E5ECF6\", \"radialaxis\": {\"gridcolor\": \"white\", \"linecolor\": \"white\", \"ticks\": \"\"}}, \"scene\": {\"xaxis\": {\"backgroundcolor\": \"#E5ECF6\", \"gridcolor\": \"white\", \"gridwidth\": 2, \"linecolor\": \"white\", \"showbackground\": true, \"ticks\": \"\", \"zerolinecolor\": \"white\"}, \"yaxis\": {\"backgroundcolor\": \"#E5ECF6\", \"gridcolor\": \"white\", \"gridwidth\": 2, \"linecolor\": \"white\", \"showbackground\": true, \"ticks\": \"\", \"zerolinecolor\": \"white\"}, \"zaxis\": {\"backgroundcolor\": \"#E5ECF6\", \"gridcolor\": \"white\", \"gridwidth\": 2, \"linecolor\": \"white\", \"showbackground\": true, \"ticks\": \"\", \"zerolinecolor\": \"white\"}}, \"shapedefaults\": {\"line\": {\"color\": \"#2a3f5f\"}}, \"ternary\": {\"aaxis\": {\"gridcolor\": \"white\", \"linecolor\": \"white\", \"ticks\": \"\"}, \"baxis\": {\"gridcolor\": \"white\", \"linecolor\": \"white\", \"ticks\": \"\"}, \"bgcolor\": \"#E5ECF6\", \"caxis\": {\"gridcolor\": \"white\", \"linecolor\": \"white\", \"ticks\": \"\"}}, \"title\": {\"x\": 0.05}, \"xaxis\": {\"automargin\": true, \"gridcolor\": \"white\", \"linecolor\": \"white\", \"ticks\": \"\", \"title\": {\"standoff\": 15}, \"zerolinecolor\": \"white\", \"zerolinewidth\": 2}, \"yaxis\": {\"automargin\": true, \"gridcolor\": \"white\", \"linecolor\": \"white\", \"ticks\": \"\", \"title\": {\"standoff\": 15}, \"zerolinecolor\": \"white\", \"zerolinewidth\": 2}}}, \"width\": 1200, \"xaxis\": {\"anchor\": \"y\", \"domain\": [0.0, 0.45], \"title\": {\"text\": \"Tahun\"}}, \"xaxis2\": {\"anchor\": \"y2\", \"domain\": [0.55, 1.0], \"title\": {\"text\": \"Tahun\"}}, \"xaxis3\": {\"anchor\": \"y3\", \"domain\": [0.0, 0.45], \"title\": {\"text\": \"Tahun\"}}, \"xaxis4\": {\"anchor\": \"y4\", \"domain\": [0.55, 1.0]}, \"yaxis\": {\"anchor\": \"x\", \"domain\": [0.625, 1.0], \"title\": {\"text\": \"Jumlah\"}}, \"yaxis2\": {\"anchor\": \"x2\", \"domain\": [0.625, 1.0], \"title\": {\"text\": \"Jumlah\"}}, \"yaxis3\": {\"anchor\": \"x3\", \"domain\": [0.0, 0.375], \"title\": {\"text\": \"Luas Area\"}}, \"yaxis4\": {\"anchor\": \"x4\", \"domain\": [0.0, 0.375]}},\n",
              "                        {\"responsive\": true}\n",
              "                    ).then(function(){\n",
              "                            \n",
              "var gd = document.getElementById('f6d305cb-274f-4559-be47-a2dfae300fa3');\n",
              "var x = new MutationObserver(function (mutations, observer) {{\n",
              "        var display = window.getComputedStyle(gd).display;\n",
              "        if (!display || display === 'none') {{\n",
              "            console.log([gd, 'removed!']);\n",
              "            Plotly.purge(gd);\n",
              "            observer.disconnect();\n",
              "        }}\n",
              "}});\n",
              "\n",
              "// Listen for the removal of the full notebook cells\n",
              "var notebookContainer = gd.closest('#notebook-container');\n",
              "if (notebookContainer) {{\n",
              "    x.observe(notebookContainer, {childList: true});\n",
              "}}\n",
              "\n",
              "// Listen for the clearing of the current output cell\n",
              "var outputEl = gd.closest('.output');\n",
              "if (outputEl) {{\n",
              "    x.observe(outputEl, {childList: true});\n",
              "}}\n",
              "\n",
              "                        })\n",
              "                };\n",
              "                \n",
              "            </script>\n",
              "        </div>\n",
              "</body>\n",
              "</html>"
            ]
          },
          "metadata": {}
        }
      ]
    },
    {
      "cell_type": "code",
      "metadata": {
        "colab": {
          "base_uri": "https://localhost:8080/",
          "height": 143
        },
        "id": "QqEDWbZk2zjA",
        "outputId": "2ed82068-6fc0-49ba-f7ef-adb646085b14"
      },
      "source": [
        "dat1[dat1.tahun == 2017].sort_values('luas_area', ascending=False)[:3][['nama_kabupaten_kota', 'luas_area']].reset_index().drop('index', axis=1)"
      ],
      "execution_count": null,
      "outputs": [
        {
          "output_type": "execute_result",
          "data": {
            "text/html": [
              "\n",
              "  <div id=\"df-f377b6a6-134c-4bce-8183-b341d4db3381\">\n",
              "    <div class=\"colab-df-container\">\n",
              "      <div>\n",
              "<style scoped>\n",
              "    .dataframe tbody tr th:only-of-type {\n",
              "        vertical-align: middle;\n",
              "    }\n",
              "\n",
              "    .dataframe tbody tr th {\n",
              "        vertical-align: top;\n",
              "    }\n",
              "\n",
              "    .dataframe thead th {\n",
              "        text-align: right;\n",
              "    }\n",
              "</style>\n",
              "<table border=\"1\" class=\"dataframe\">\n",
              "  <thead>\n",
              "    <tr style=\"text-align: right;\">\n",
              "      <th></th>\n",
              "      <th>nama_kabupaten_kota</th>\n",
              "      <th>luas_area</th>\n",
              "    </tr>\n",
              "  </thead>\n",
              "  <tbody>\n",
              "    <tr>\n",
              "      <th>0</th>\n",
              "      <td>KABUPATEN TASIKMALAYA</td>\n",
              "      <td>125377.0</td>\n",
              "    </tr>\n",
              "    <tr>\n",
              "      <th>1</th>\n",
              "      <td>KOTA TASIKMALAYA</td>\n",
              "      <td>368.0</td>\n",
              "    </tr>\n",
              "    <tr>\n",
              "      <th>2</th>\n",
              "      <td>KABUPATEN KUNINGAN</td>\n",
              "      <td>148.9</td>\n",
              "    </tr>\n",
              "  </tbody>\n",
              "</table>\n",
              "</div>\n",
              "      <button class=\"colab-df-convert\" onclick=\"convertToInteractive('df-f377b6a6-134c-4bce-8183-b341d4db3381')\"\n",
              "              title=\"Convert this dataframe to an interactive table.\"\n",
              "              style=\"display:none;\">\n",
              "        \n",
              "  <svg xmlns=\"http://www.w3.org/2000/svg\" height=\"24px\"viewBox=\"0 0 24 24\"\n",
              "       width=\"24px\">\n",
              "    <path d=\"M0 0h24v24H0V0z\" fill=\"none\"/>\n",
              "    <path d=\"M18.56 5.44l.94 2.06.94-2.06 2.06-.94-2.06-.94-.94-2.06-.94 2.06-2.06.94zm-11 1L8.5 8.5l.94-2.06 2.06-.94-2.06-.94L8.5 2.5l-.94 2.06-2.06.94zm10 10l.94 2.06.94-2.06 2.06-.94-2.06-.94-.94-2.06-.94 2.06-2.06.94z\"/><path d=\"M17.41 7.96l-1.37-1.37c-.4-.4-.92-.59-1.43-.59-.52 0-1.04.2-1.43.59L10.3 9.45l-7.72 7.72c-.78.78-.78 2.05 0 2.83L4 21.41c.39.39.9.59 1.41.59.51 0 1.02-.2 1.41-.59l7.78-7.78 2.81-2.81c.8-.78.8-2.07 0-2.86zM5.41 20L4 18.59l7.72-7.72 1.47 1.35L5.41 20z\"/>\n",
              "  </svg>\n",
              "      </button>\n",
              "      \n",
              "  <style>\n",
              "    .colab-df-container {\n",
              "      display:flex;\n",
              "      flex-wrap:wrap;\n",
              "      gap: 12px;\n",
              "    }\n",
              "\n",
              "    .colab-df-convert {\n",
              "      background-color: #E8F0FE;\n",
              "      border: none;\n",
              "      border-radius: 50%;\n",
              "      cursor: pointer;\n",
              "      display: none;\n",
              "      fill: #1967D2;\n",
              "      height: 32px;\n",
              "      padding: 0 0 0 0;\n",
              "      width: 32px;\n",
              "    }\n",
              "\n",
              "    .colab-df-convert:hover {\n",
              "      background-color: #E2EBFA;\n",
              "      box-shadow: 0px 1px 2px rgba(60, 64, 67, 0.3), 0px 1px 3px 1px rgba(60, 64, 67, 0.15);\n",
              "      fill: #174EA6;\n",
              "    }\n",
              "\n",
              "    [theme=dark] .colab-df-convert {\n",
              "      background-color: #3B4455;\n",
              "      fill: #D2E3FC;\n",
              "    }\n",
              "\n",
              "    [theme=dark] .colab-df-convert:hover {\n",
              "      background-color: #434B5C;\n",
              "      box-shadow: 0px 1px 3px 1px rgba(0, 0, 0, 0.15);\n",
              "      filter: drop-shadow(0px 1px 2px rgba(0, 0, 0, 0.3));\n",
              "      fill: #FFFFFF;\n",
              "    }\n",
              "  </style>\n",
              "\n",
              "      <script>\n",
              "        const buttonEl =\n",
              "          document.querySelector('#df-f377b6a6-134c-4bce-8183-b341d4db3381 button.colab-df-convert');\n",
              "        buttonEl.style.display =\n",
              "          google.colab.kernel.accessAllowed ? 'block' : 'none';\n",
              "\n",
              "        async function convertToInteractive(key) {\n",
              "          const element = document.querySelector('#df-f377b6a6-134c-4bce-8183-b341d4db3381');\n",
              "          const dataTable =\n",
              "            await google.colab.kernel.invokeFunction('convertToInteractive',\n",
              "                                                     [key], {});\n",
              "          if (!dataTable) return;\n",
              "\n",
              "          const docLinkHtml = 'Like what you see? Visit the ' +\n",
              "            '<a target=\"_blank\" href=https://colab.research.google.com/notebooks/data_table.ipynb>data table notebook</a>'\n",
              "            + ' to learn more about interactive tables.';\n",
              "          element.innerHTML = '';\n",
              "          dataTable['output_type'] = 'display_data';\n",
              "          await google.colab.output.renderOutput(dataTable, element);\n",
              "          const docLink = document.createElement('div');\n",
              "          docLink.innerHTML = docLinkHtml;\n",
              "          element.appendChild(docLink);\n",
              "        }\n",
              "      </script>\n",
              "    </div>\n",
              "  </div>\n",
              "  "
            ],
            "text/plain": [
              "     nama_kabupaten_kota  luas_area\n",
              "0  KABUPATEN TASIKMALAYA   125377.0\n",
              "1       KOTA TASIKMALAYA      368.0\n",
              "2     KABUPATEN KUNINGAN      148.9"
            ]
          },
          "metadata": {},
          "execution_count": 9
        }
      ]
    },
    {
      "cell_type": "markdown",
      "metadata": {
        "id": "nZwl54yVg4e-"
      },
      "source": [
        "Dari grafik diatas, dalam kondisi normal sebelum masa pandemi covid-19 jumlah pengunjung berada di angka sekitar 300 ribu pengunjung dengan nilai terendah terjadi di tahun 2018 yaitu sebanyak 88.556 pengunjung dan nilai tertinggi terjadi di tahun 2017 dengan pengunjung sebanyak 397.912 orang. Kemudian, untuk jumlah tenaga kerja berada di angka sekitar 350 orang dengan nilai terendah ada di tahun 2018 yaitu sebanyak 220 orang, dan nilai tertinggi ada di tahun 2019 sebanyak 417 orang. \n",
        "\n",
        "Pada tahun 2017 ada peningkatan area perkemahan yang sangat signifikan mencapai 126.215 Ha. Peningkatan tersebut disebabkan oleh penambahan area perkemahan baru di Kabupaten Tasikmalaya sebanyak 125.377 Ha. Dari data luas area ini, terlihat update data terakhir dilakukan pada tahun 2017, kemungkinan data ini masih valid sampai saat ini atau mungkin ada penambahan kawasan baru tetapi tidak dilakukan update data."
      ]
    },
    {
      "cell_type": "markdown",
      "source": [
        "Sekarang kita akan menganalisis lebih dalam perkembangan industri pariwisata perkemahan khususnya pada tahun 2019, tahun sebelum pandemi covid-19 melanda Indonesia."
      ],
      "metadata": {
        "id": "GrbtccXgZHqL"
      }
    },
    {
      "cell_type": "markdown",
      "metadata": {
        "id": "yxO6BTUQ7FRs"
      },
      "source": [
        "## **Perkembangan Industri Pariwisata Perkemahan Tahun 2019**"
      ]
    },
    {
      "cell_type": "markdown",
      "source": [
        "### Peta Sebaran Jumlah Pengunjung dan Tenaga Kerja"
      ],
      "metadata": {
        "id": "J6jLwB8qaagH"
      }
    },
    {
      "cell_type": "code",
      "metadata": {
        "id": "zrfaTidF8Kgp"
      },
      "source": [
        "# Fungsi untuk membuat dictionary untuk memetakan nama kab/kota dengan kode kab/kota\n",
        "def mk_dict(df, var1, var2):\n",
        "    dic = {}\n",
        "    for i in range(len(df.index)):\n",
        "        dic[df[var1][i]] = df[var2][i]\n",
        "    return dic"
      ],
      "execution_count": null,
      "outputs": []
    },
    {
      "cell_type": "markdown",
      "metadata": {
        "id": "o2zYsKke8-Cy"
      },
      "source": [
        "Data peta sebaran pengunjung"
      ]
    },
    {
      "cell_type": "code",
      "source": [
        "dat1_17 = dat1[dat1.tahun==2017]\n",
        "dat2_19 = dat2[dat2.tahun == 2019]\n",
        "dat3_19 = dat3[dat3.tahun == 2019]\n",
        "\n",
        "pengunjung_19 = dat2_19.groupby('kode_kabupaten_kota').sum()['jumlah_pengunjung'].reset_index()\n",
        "pekerja_19 = dat3_19.groupby('kode_kabupaten_kota').sum()['jumlah_tenaga_kerja'].reset_index()\n",
        "\n",
        "pengunjung_dict = mk_dict(pengunjung_19, 'kode_kabupaten_kota', 'jumlah_pengunjung')\n",
        "pekerja_dict = mk_dict(pekerja_19, 'kode_kabupaten_kota', 'jumlah_tenaga_kerja')"
      ],
      "metadata": {
        "id": "d5MB-YUMbgyd"
      },
      "execution_count": null,
      "outputs": []
    },
    {
      "cell_type": "code",
      "metadata": {
        "id": "D_eiQSjs8IXS",
        "colab": {
          "base_uri": "https://localhost:8080/",
          "height": 206
        },
        "outputId": "50ba06fd-7c66-4761-f80c-d22250d96909"
      },
      "source": [
        "map_data = dat1_17[['kode_kabupaten_kota', 'nama_kabupaten_kota', 'luas_area']].copy()\n",
        "map_data['jumlah_pengunjung'] = map_data.kode_kabupaten_kota.apply(lambda x: pengunjung_dict[x])\n",
        "map_data['jumlah_tenaga_kerja'] = map_data.kode_kabupaten_kota.apply(lambda x: pekerja_dict[x])\n",
        "map_data.kode_kabupaten_kota = map_data.kode_kabupaten_kota.astype('str')\n",
        "map_data.rename(columns={'kode_kabupaten_kota': 'id'}, inplace=True)\n",
        "map_data.id = map_data.id.apply(lambda x: x.split('32')[1])\n",
        "map_data = map_data.reset_index().drop('index', axis=1)\n",
        "map_data.drop('luas_area', axis=1, inplace=True)\n",
        "map_data.head()"
      ],
      "execution_count": null,
      "outputs": [
        {
          "output_type": "execute_result",
          "data": {
            "text/html": [
              "\n",
              "  <div id=\"df-9b4f5245-a117-4112-bb69-6bf0716e1aa1\">\n",
              "    <div class=\"colab-df-container\">\n",
              "      <div>\n",
              "<style scoped>\n",
              "    .dataframe tbody tr th:only-of-type {\n",
              "        vertical-align: middle;\n",
              "    }\n",
              "\n",
              "    .dataframe tbody tr th {\n",
              "        vertical-align: top;\n",
              "    }\n",
              "\n",
              "    .dataframe thead th {\n",
              "        text-align: right;\n",
              "    }\n",
              "</style>\n",
              "<table border=\"1\" class=\"dataframe\">\n",
              "  <thead>\n",
              "    <tr style=\"text-align: right;\">\n",
              "      <th></th>\n",
              "      <th>id</th>\n",
              "      <th>nama_kabupaten_kota</th>\n",
              "      <th>jumlah_pengunjung</th>\n",
              "      <th>jumlah_tenaga_kerja</th>\n",
              "    </tr>\n",
              "  </thead>\n",
              "  <tbody>\n",
              "    <tr>\n",
              "      <th>0</th>\n",
              "      <td>01</td>\n",
              "      <td>KABUPATEN BOGOR</td>\n",
              "      <td>0</td>\n",
              "      <td>19</td>\n",
              "    </tr>\n",
              "    <tr>\n",
              "      <th>1</th>\n",
              "      <td>02</td>\n",
              "      <td>KABUPATEN SUKABUMI</td>\n",
              "      <td>1380</td>\n",
              "      <td>87</td>\n",
              "    </tr>\n",
              "    <tr>\n",
              "      <th>2</th>\n",
              "      <td>03</td>\n",
              "      <td>KABUPATEN CIANJUR</td>\n",
              "      <td>0</td>\n",
              "      <td>0</td>\n",
              "    </tr>\n",
              "    <tr>\n",
              "      <th>3</th>\n",
              "      <td>04</td>\n",
              "      <td>KABUPATEN BANDUNG</td>\n",
              "      <td>49101</td>\n",
              "      <td>10</td>\n",
              "    </tr>\n",
              "    <tr>\n",
              "      <th>4</th>\n",
              "      <td>05</td>\n",
              "      <td>KABUPATEN GARUT</td>\n",
              "      <td>7852</td>\n",
              "      <td>100</td>\n",
              "    </tr>\n",
              "  </tbody>\n",
              "</table>\n",
              "</div>\n",
              "      <button class=\"colab-df-convert\" onclick=\"convertToInteractive('df-9b4f5245-a117-4112-bb69-6bf0716e1aa1')\"\n",
              "              title=\"Convert this dataframe to an interactive table.\"\n",
              "              style=\"display:none;\">\n",
              "        \n",
              "  <svg xmlns=\"http://www.w3.org/2000/svg\" height=\"24px\"viewBox=\"0 0 24 24\"\n",
              "       width=\"24px\">\n",
              "    <path d=\"M0 0h24v24H0V0z\" fill=\"none\"/>\n",
              "    <path d=\"M18.56 5.44l.94 2.06.94-2.06 2.06-.94-2.06-.94-.94-2.06-.94 2.06-2.06.94zm-11 1L8.5 8.5l.94-2.06 2.06-.94-2.06-.94L8.5 2.5l-.94 2.06-2.06.94zm10 10l.94 2.06.94-2.06 2.06-.94-2.06-.94-.94-2.06-.94 2.06-2.06.94z\"/><path d=\"M17.41 7.96l-1.37-1.37c-.4-.4-.92-.59-1.43-.59-.52 0-1.04.2-1.43.59L10.3 9.45l-7.72 7.72c-.78.78-.78 2.05 0 2.83L4 21.41c.39.39.9.59 1.41.59.51 0 1.02-.2 1.41-.59l7.78-7.78 2.81-2.81c.8-.78.8-2.07 0-2.86zM5.41 20L4 18.59l7.72-7.72 1.47 1.35L5.41 20z\"/>\n",
              "  </svg>\n",
              "      </button>\n",
              "      \n",
              "  <style>\n",
              "    .colab-df-container {\n",
              "      display:flex;\n",
              "      flex-wrap:wrap;\n",
              "      gap: 12px;\n",
              "    }\n",
              "\n",
              "    .colab-df-convert {\n",
              "      background-color: #E8F0FE;\n",
              "      border: none;\n",
              "      border-radius: 50%;\n",
              "      cursor: pointer;\n",
              "      display: none;\n",
              "      fill: #1967D2;\n",
              "      height: 32px;\n",
              "      padding: 0 0 0 0;\n",
              "      width: 32px;\n",
              "    }\n",
              "\n",
              "    .colab-df-convert:hover {\n",
              "      background-color: #E2EBFA;\n",
              "      box-shadow: 0px 1px 2px rgba(60, 64, 67, 0.3), 0px 1px 3px 1px rgba(60, 64, 67, 0.15);\n",
              "      fill: #174EA6;\n",
              "    }\n",
              "\n",
              "    [theme=dark] .colab-df-convert {\n",
              "      background-color: #3B4455;\n",
              "      fill: #D2E3FC;\n",
              "    }\n",
              "\n",
              "    [theme=dark] .colab-df-convert:hover {\n",
              "      background-color: #434B5C;\n",
              "      box-shadow: 0px 1px 3px 1px rgba(0, 0, 0, 0.15);\n",
              "      filter: drop-shadow(0px 1px 2px rgba(0, 0, 0, 0.3));\n",
              "      fill: #FFFFFF;\n",
              "    }\n",
              "  </style>\n",
              "\n",
              "      <script>\n",
              "        const buttonEl =\n",
              "          document.querySelector('#df-9b4f5245-a117-4112-bb69-6bf0716e1aa1 button.colab-df-convert');\n",
              "        buttonEl.style.display =\n",
              "          google.colab.kernel.accessAllowed ? 'block' : 'none';\n",
              "\n",
              "        async function convertToInteractive(key) {\n",
              "          const element = document.querySelector('#df-9b4f5245-a117-4112-bb69-6bf0716e1aa1');\n",
              "          const dataTable =\n",
              "            await google.colab.kernel.invokeFunction('convertToInteractive',\n",
              "                                                     [key], {});\n",
              "          if (!dataTable) return;\n",
              "\n",
              "          const docLinkHtml = 'Like what you see? Visit the ' +\n",
              "            '<a target=\"_blank\" href=https://colab.research.google.com/notebooks/data_table.ipynb>data table notebook</a>'\n",
              "            + ' to learn more about interactive tables.';\n",
              "          element.innerHTML = '';\n",
              "          dataTable['output_type'] = 'display_data';\n",
              "          await google.colab.output.renderOutput(dataTable, element);\n",
              "          const docLink = document.createElement('div');\n",
              "          docLink.innerHTML = docLinkHtml;\n",
              "          element.appendChild(docLink);\n",
              "        }\n",
              "      </script>\n",
              "    </div>\n",
              "  </div>\n",
              "  "
            ],
            "text/plain": [
              "   id nama_kabupaten_kota  jumlah_pengunjung  jumlah_tenaga_kerja\n",
              "0  01     KABUPATEN BOGOR                  0                   19\n",
              "1  02  KABUPATEN SUKABUMI               1380                   87\n",
              "2  03   KABUPATEN CIANJUR                  0                    0\n",
              "3  04   KABUPATEN BANDUNG              49101                   10\n",
              "4  05     KABUPATEN GARUT               7852                  100"
            ]
          },
          "metadata": {},
          "execution_count": 12
        }
      ]
    },
    {
      "cell_type": "code",
      "source": [
        "map_data[(map_data.jumlah_tenaga_kerja == 0) & (map_data.jumlah_pengunjung > 0)]"
      ],
      "metadata": {
        "colab": {
          "base_uri": "https://localhost:8080/",
          "height": 112
        },
        "id": "bUAyFe0nfsqY",
        "outputId": "d8c42417-766c-4d15-d5ef-effb224735c1"
      },
      "execution_count": null,
      "outputs": [
        {
          "output_type": "execute_result",
          "data": {
            "text/html": [
              "\n",
              "  <div id=\"df-1e16b0a0-3c92-4743-a4ac-d5b82c5a4483\">\n",
              "    <div class=\"colab-df-container\">\n",
              "      <div>\n",
              "<style scoped>\n",
              "    .dataframe tbody tr th:only-of-type {\n",
              "        vertical-align: middle;\n",
              "    }\n",
              "\n",
              "    .dataframe tbody tr th {\n",
              "        vertical-align: top;\n",
              "    }\n",
              "\n",
              "    .dataframe thead th {\n",
              "        text-align: right;\n",
              "    }\n",
              "</style>\n",
              "<table border=\"1\" class=\"dataframe\">\n",
              "  <thead>\n",
              "    <tr style=\"text-align: right;\">\n",
              "      <th></th>\n",
              "      <th>id</th>\n",
              "      <th>nama_kabupaten_kota</th>\n",
              "      <th>jumlah_pengunjung</th>\n",
              "      <th>jumlah_tenaga_kerja</th>\n",
              "    </tr>\n",
              "  </thead>\n",
              "  <tbody>\n",
              "    <tr>\n",
              "      <th>7</th>\n",
              "      <td>08</td>\n",
              "      <td>KABUPATEN KUNINGAN</td>\n",
              "      <td>91776</td>\n",
              "      <td>0</td>\n",
              "    </tr>\n",
              "    <tr>\n",
              "      <th>15</th>\n",
              "      <td>16</td>\n",
              "      <td>KABUPATEN BEKASI</td>\n",
              "      <td>280</td>\n",
              "      <td>0</td>\n",
              "    </tr>\n",
              "  </tbody>\n",
              "</table>\n",
              "</div>\n",
              "      <button class=\"colab-df-convert\" onclick=\"convertToInteractive('df-1e16b0a0-3c92-4743-a4ac-d5b82c5a4483')\"\n",
              "              title=\"Convert this dataframe to an interactive table.\"\n",
              "              style=\"display:none;\">\n",
              "        \n",
              "  <svg xmlns=\"http://www.w3.org/2000/svg\" height=\"24px\"viewBox=\"0 0 24 24\"\n",
              "       width=\"24px\">\n",
              "    <path d=\"M0 0h24v24H0V0z\" fill=\"none\"/>\n",
              "    <path d=\"M18.56 5.44l.94 2.06.94-2.06 2.06-.94-2.06-.94-.94-2.06-.94 2.06-2.06.94zm-11 1L8.5 8.5l.94-2.06 2.06-.94-2.06-.94L8.5 2.5l-.94 2.06-2.06.94zm10 10l.94 2.06.94-2.06 2.06-.94-2.06-.94-.94-2.06-.94 2.06-2.06.94z\"/><path d=\"M17.41 7.96l-1.37-1.37c-.4-.4-.92-.59-1.43-.59-.52 0-1.04.2-1.43.59L10.3 9.45l-7.72 7.72c-.78.78-.78 2.05 0 2.83L4 21.41c.39.39.9.59 1.41.59.51 0 1.02-.2 1.41-.59l7.78-7.78 2.81-2.81c.8-.78.8-2.07 0-2.86zM5.41 20L4 18.59l7.72-7.72 1.47 1.35L5.41 20z\"/>\n",
              "  </svg>\n",
              "      </button>\n",
              "      \n",
              "  <style>\n",
              "    .colab-df-container {\n",
              "      display:flex;\n",
              "      flex-wrap:wrap;\n",
              "      gap: 12px;\n",
              "    }\n",
              "\n",
              "    .colab-df-convert {\n",
              "      background-color: #E8F0FE;\n",
              "      border: none;\n",
              "      border-radius: 50%;\n",
              "      cursor: pointer;\n",
              "      display: none;\n",
              "      fill: #1967D2;\n",
              "      height: 32px;\n",
              "      padding: 0 0 0 0;\n",
              "      width: 32px;\n",
              "    }\n",
              "\n",
              "    .colab-df-convert:hover {\n",
              "      background-color: #E2EBFA;\n",
              "      box-shadow: 0px 1px 2px rgba(60, 64, 67, 0.3), 0px 1px 3px 1px rgba(60, 64, 67, 0.15);\n",
              "      fill: #174EA6;\n",
              "    }\n",
              "\n",
              "    [theme=dark] .colab-df-convert {\n",
              "      background-color: #3B4455;\n",
              "      fill: #D2E3FC;\n",
              "    }\n",
              "\n",
              "    [theme=dark] .colab-df-convert:hover {\n",
              "      background-color: #434B5C;\n",
              "      box-shadow: 0px 1px 3px 1px rgba(0, 0, 0, 0.15);\n",
              "      filter: drop-shadow(0px 1px 2px rgba(0, 0, 0, 0.3));\n",
              "      fill: #FFFFFF;\n",
              "    }\n",
              "  </style>\n",
              "\n",
              "      <script>\n",
              "        const buttonEl =\n",
              "          document.querySelector('#df-1e16b0a0-3c92-4743-a4ac-d5b82c5a4483 button.colab-df-convert');\n",
              "        buttonEl.style.display =\n",
              "          google.colab.kernel.accessAllowed ? 'block' : 'none';\n",
              "\n",
              "        async function convertToInteractive(key) {\n",
              "          const element = document.querySelector('#df-1e16b0a0-3c92-4743-a4ac-d5b82c5a4483');\n",
              "          const dataTable =\n",
              "            await google.colab.kernel.invokeFunction('convertToInteractive',\n",
              "                                                     [key], {});\n",
              "          if (!dataTable) return;\n",
              "\n",
              "          const docLinkHtml = 'Like what you see? Visit the ' +\n",
              "            '<a target=\"_blank\" href=https://colab.research.google.com/notebooks/data_table.ipynb>data table notebook</a>'\n",
              "            + ' to learn more about interactive tables.';\n",
              "          element.innerHTML = '';\n",
              "          dataTable['output_type'] = 'display_data';\n",
              "          await google.colab.output.renderOutput(dataTable, element);\n",
              "          const docLink = document.createElement('div');\n",
              "          docLink.innerHTML = docLinkHtml;\n",
              "          element.appendChild(docLink);\n",
              "        }\n",
              "      </script>\n",
              "    </div>\n",
              "  </div>\n",
              "  "
            ],
            "text/plain": [
              "    id nama_kabupaten_kota  jumlah_pengunjung  jumlah_tenaga_kerja\n",
              "7   08  KABUPATEN KUNINGAN              91776                    0\n",
              "15  16    KABUPATEN BEKASI                280                    0"
            ]
          },
          "metadata": {},
          "execution_count": 13
        }
      ]
    },
    {
      "cell_type": "markdown",
      "source": [
        "Data di atas memiliki beberapa data yang tidak sesuai misalnya jumlah tenaga kerjanya nol tetapi jumlah pengunjungnya lebih dari nol seperti pada Kab. Kuningan dan Kab. Bekasi. Dalam kenyataanya, jika suatu kawasan perkemahan memiliki jumlah pengunjung pasti akan ada juga jumlah tenaga kerjanya, namun tidak menutup kemungkinan jika suatu kawasan ada tenaga kerja tetapi tidak ada pengunjungnya.\n",
        "\n",
        "Sekarang kita akan menangani masalah tersebut dengan melakukan sedikit manipulasi data dengan cara memasukan nilai rata-rata jumlah tenaga kerja untuk Kab. Kuningan dan Kab. Bekasi."
      ],
      "metadata": {
        "id": "pqJ3Fa5pguVG"
      }
    },
    {
      "cell_type": "code",
      "source": [
        "mean_pekerja = int(map_data.jumlah_tenaga_kerja.mean())\n",
        "map_data.loc[7, 'jumlah_tenaga_kerja'] = mean_pekerja\n",
        "map_data.loc[15, 'jumlah_tenaga_kerja'] = mean_pekerja"
      ],
      "metadata": {
        "id": "rYq3smbAibBL"
      },
      "execution_count": null,
      "outputs": []
    },
    {
      "cell_type": "code",
      "source": [
        "map_data.loc[[7, 15]]"
      ],
      "metadata": {
        "colab": {
          "base_uri": "https://localhost:8080/",
          "height": 112
        },
        "id": "XlhSY9_4k0p-",
        "outputId": "1ce6a0dc-4d73-43cb-f07a-29c4e9a48df1"
      },
      "execution_count": null,
      "outputs": [
        {
          "output_type": "execute_result",
          "data": {
            "text/html": [
              "\n",
              "  <div id=\"df-86e909b1-9686-4f7d-9675-b7b541ec7ac7\">\n",
              "    <div class=\"colab-df-container\">\n",
              "      <div>\n",
              "<style scoped>\n",
              "    .dataframe tbody tr th:only-of-type {\n",
              "        vertical-align: middle;\n",
              "    }\n",
              "\n",
              "    .dataframe tbody tr th {\n",
              "        vertical-align: top;\n",
              "    }\n",
              "\n",
              "    .dataframe thead th {\n",
              "        text-align: right;\n",
              "    }\n",
              "</style>\n",
              "<table border=\"1\" class=\"dataframe\">\n",
              "  <thead>\n",
              "    <tr style=\"text-align: right;\">\n",
              "      <th></th>\n",
              "      <th>id</th>\n",
              "      <th>nama_kabupaten_kota</th>\n",
              "      <th>jumlah_pengunjung</th>\n",
              "      <th>jumlah_tenaga_kerja</th>\n",
              "    </tr>\n",
              "  </thead>\n",
              "  <tbody>\n",
              "    <tr>\n",
              "      <th>7</th>\n",
              "      <td>08</td>\n",
              "      <td>KABUPATEN KUNINGAN</td>\n",
              "      <td>91776</td>\n",
              "      <td>15</td>\n",
              "    </tr>\n",
              "    <tr>\n",
              "      <th>15</th>\n",
              "      <td>16</td>\n",
              "      <td>KABUPATEN BEKASI</td>\n",
              "      <td>280</td>\n",
              "      <td>15</td>\n",
              "    </tr>\n",
              "  </tbody>\n",
              "</table>\n",
              "</div>\n",
              "      <button class=\"colab-df-convert\" onclick=\"convertToInteractive('df-86e909b1-9686-4f7d-9675-b7b541ec7ac7')\"\n",
              "              title=\"Convert this dataframe to an interactive table.\"\n",
              "              style=\"display:none;\">\n",
              "        \n",
              "  <svg xmlns=\"http://www.w3.org/2000/svg\" height=\"24px\"viewBox=\"0 0 24 24\"\n",
              "       width=\"24px\">\n",
              "    <path d=\"M0 0h24v24H0V0z\" fill=\"none\"/>\n",
              "    <path d=\"M18.56 5.44l.94 2.06.94-2.06 2.06-.94-2.06-.94-.94-2.06-.94 2.06-2.06.94zm-11 1L8.5 8.5l.94-2.06 2.06-.94-2.06-.94L8.5 2.5l-.94 2.06-2.06.94zm10 10l.94 2.06.94-2.06 2.06-.94-2.06-.94-.94-2.06-.94 2.06-2.06.94z\"/><path d=\"M17.41 7.96l-1.37-1.37c-.4-.4-.92-.59-1.43-.59-.52 0-1.04.2-1.43.59L10.3 9.45l-7.72 7.72c-.78.78-.78 2.05 0 2.83L4 21.41c.39.39.9.59 1.41.59.51 0 1.02-.2 1.41-.59l7.78-7.78 2.81-2.81c.8-.78.8-2.07 0-2.86zM5.41 20L4 18.59l7.72-7.72 1.47 1.35L5.41 20z\"/>\n",
              "  </svg>\n",
              "      </button>\n",
              "      \n",
              "  <style>\n",
              "    .colab-df-container {\n",
              "      display:flex;\n",
              "      flex-wrap:wrap;\n",
              "      gap: 12px;\n",
              "    }\n",
              "\n",
              "    .colab-df-convert {\n",
              "      background-color: #E8F0FE;\n",
              "      border: none;\n",
              "      border-radius: 50%;\n",
              "      cursor: pointer;\n",
              "      display: none;\n",
              "      fill: #1967D2;\n",
              "      height: 32px;\n",
              "      padding: 0 0 0 0;\n",
              "      width: 32px;\n",
              "    }\n",
              "\n",
              "    .colab-df-convert:hover {\n",
              "      background-color: #E2EBFA;\n",
              "      box-shadow: 0px 1px 2px rgba(60, 64, 67, 0.3), 0px 1px 3px 1px rgba(60, 64, 67, 0.15);\n",
              "      fill: #174EA6;\n",
              "    }\n",
              "\n",
              "    [theme=dark] .colab-df-convert {\n",
              "      background-color: #3B4455;\n",
              "      fill: #D2E3FC;\n",
              "    }\n",
              "\n",
              "    [theme=dark] .colab-df-convert:hover {\n",
              "      background-color: #434B5C;\n",
              "      box-shadow: 0px 1px 3px 1px rgba(0, 0, 0, 0.15);\n",
              "      filter: drop-shadow(0px 1px 2px rgba(0, 0, 0, 0.3));\n",
              "      fill: #FFFFFF;\n",
              "    }\n",
              "  </style>\n",
              "\n",
              "      <script>\n",
              "        const buttonEl =\n",
              "          document.querySelector('#df-86e909b1-9686-4f7d-9675-b7b541ec7ac7 button.colab-df-convert');\n",
              "        buttonEl.style.display =\n",
              "          google.colab.kernel.accessAllowed ? 'block' : 'none';\n",
              "\n",
              "        async function convertToInteractive(key) {\n",
              "          const element = document.querySelector('#df-86e909b1-9686-4f7d-9675-b7b541ec7ac7');\n",
              "          const dataTable =\n",
              "            await google.colab.kernel.invokeFunction('convertToInteractive',\n",
              "                                                     [key], {});\n",
              "          if (!dataTable) return;\n",
              "\n",
              "          const docLinkHtml = 'Like what you see? Visit the ' +\n",
              "            '<a target=\"_blank\" href=https://colab.research.google.com/notebooks/data_table.ipynb>data table notebook</a>'\n",
              "            + ' to learn more about interactive tables.';\n",
              "          element.innerHTML = '';\n",
              "          dataTable['output_type'] = 'display_data';\n",
              "          await google.colab.output.renderOutput(dataTable, element);\n",
              "          const docLink = document.createElement('div');\n",
              "          docLink.innerHTML = docLinkHtml;\n",
              "          element.appendChild(docLink);\n",
              "        }\n",
              "      </script>\n",
              "    </div>\n",
              "  </div>\n",
              "  "
            ],
            "text/plain": [
              "    id nama_kabupaten_kota  jumlah_pengunjung  jumlah_tenaga_kerja\n",
              "7   08  KABUPATEN KUNINGAN              91776                   15\n",
              "15  16    KABUPATEN BEKASI                280                   15"
            ]
          },
          "metadata": {},
          "execution_count": 15
        }
      ]
    },
    {
      "cell_type": "markdown",
      "source": [
        "Sekarang data siap untuk diplot."
      ],
      "metadata": {
        "id": "Dcr2lLARmQfP"
      }
    },
    {
      "cell_type": "code",
      "source": [
        "with urlopen('https://raw.githubusercontent.com/Yustira/West-Java-Geojson/main/west_java.json') as response:\n",
        "    west_java_geojson = json.load(response)"
      ],
      "metadata": {
        "id": "FRTYOysZmjj9"
      },
      "execution_count": null,
      "outputs": []
    },
    {
      "cell_type": "code",
      "source": [
        "fig = px.choropleth_mapbox(map_data, geojson=west_java_geojson, locations='id',\n",
        "                           color='jumlah_pengunjung',\n",
        "                           color_continuous_scale=\"blugrn\",\n",
        "                           range_color=(0, int(map_data.jumlah_pengunjung.max())),\n",
        "                           mapbox_style=\"carto-positron\",\n",
        "                           zoom=7.25, center = {\"lat\": -6.871893, \"lon\": 107.6455},\n",
        "                           opacity=0.8,\n",
        "                           hover_name='nama_kabupaten_kota',\n",
        "                           hover_data=['id', 'jumlah_pengunjung'],\n",
        "                           labels={'id': 'Id',\n",
        "                                   'jumlah_pengunjung': 'Jumlah Pengunjung'}\n",
        "                           )\n",
        "fig.update_layout(title={'text':'Peta Sebaran Jumlah Pengunjung Perkemahan',\n",
        "                         'y':0.98, 'x':0.5, 'xanchor':'center', 'yanchor':'top'},\n",
        "                  margin={\"r\":10,\"t\":35,\"l\":10,\"b\":10},\n",
        "                  width=100*10, height=100*5.5)\n",
        "fig.show()"
      ],
      "metadata": {
        "colab": {
          "base_uri": "https://localhost:8080/",
          "height": 567
        },
        "id": "BsYEFPUjmarV",
        "outputId": "64d2c1c7-8a2c-4151-de24-1cf8570bf36d"
      },
      "execution_count": null,
      "outputs": [
        {
          "output_type": "display_data",
          "data": {
            "text/html": [
              "<html>\n",
              "<head><meta charset=\"utf-8\" /></head>\n",
              "<body>\n",
              "    <div>\n",
              "            <script src=\"https://cdnjs.cloudflare.com/ajax/libs/mathjax/2.7.5/MathJax.js?config=TeX-AMS-MML_SVG\"></script><script type=\"text/javascript\">if (window.MathJax) {MathJax.Hub.Config({SVG: {font: \"STIX-Web\"}});}</script>\n",
              "                <script type=\"text/javascript\">window.PlotlyConfig = {MathJaxConfig: 'local'};</script>\n",
              "        <script src=\"https://cdn.plot.ly/plotly-latest.min.js\"></script>    \n",
              "            <div id=\"3fa8a14e-8553-4354-a09b-2e7489e1623a\" class=\"plotly-graph-div\" style=\"height:550.0px; width:1000px;\"></div>\n",
              "            <script type=\"text/javascript\">\n",
              "                \n",
              "                    window.PLOTLYENV=window.PLOTLYENV || {};\n",
              "                    \n",
              "                if (document.getElementById(\"3fa8a14e-8553-4354-a09b-2e7489e1623a\")) {\n",
              "                    Plotly.newPlot(\n",
              "                        '3fa8a14e-8553-4354-a09b-2e7489e1623a',\n",
              "                        [{\"coloraxis\": \"coloraxis\", \"customdata\": [[\"01\", 0], [\"02\", 1380], [\"03\", 0], [\"04\", 49101], [\"05\", 7852], [\"06\", 2856], [\"07\", 11758], [\"08\", 91776], [\"09\", 0], [\"10\", 5154], [\"11\", 0], [\"12\", 2455], [\"13\", 812], [\"14\", 3358], [\"15\", 78153], [\"16\", 280], [\"17\", 0], [\"18\", 650], [\"71\", 0], [\"72\", 0], [\"73\", 0], [\"74\", 0], [\"75\", 0], [\"76\", 0], [\"77\", 512], [\"78\", 0], [\"79\", 0]], \"geojson\": {\"features\": [{\"geometry\": {\"coordinates\": [[[108.323533, -6.62749], [108.31103, -6.62494], [108.292199, -6.60957], [108.28793200000013, -6.60741], [108.282128, -6.60988], [108.282729, -6.616669], [108.271318, -6.61278], [108.26938700000011, -6.60554], [108.27538, -6.59236], [108.27232, -6.58926], [108.255835, -6.58671], [108.23893800000013, -6.5791], [108.21794, -6.56621], [108.21457, -6.56524], [108.202392, -6.580691], [108.18963600000012, -6.60487], [108.18930100000011, -6.61447], [108.184448, -6.61622], [108.179528, -6.61002], [108.1744, -6.608649], [108.165253, -6.61045], [108.1548, -6.60335], [108.146897, -6.60339], [108.145347, -6.59963], [108.14589, -6.57519], [108.140839, -6.56496], [108.136001, -6.563308], [108.115174, -6.56669], [108.09566, -6.56835], [108.089896, -6.57026], [108.07624, -6.57915], [108.07309, -6.58342], [108.07222800000011, -6.59923], [108.06561, -6.61691], [108.0541300000001, -6.62493], [108.044487, -6.63632], [108.050668, -6.6392], [108.05332, -6.64917], [108.070282, -6.66348], [108.076333, -6.66473], [108.092141, -6.67395], [108.100198, -6.67537], [108.104394, -6.687149], [108.112152, -6.69766], [108.119659, -6.704249], [108.127609, -6.70504], [108.144898, -6.71092], [108.15056700000014, -6.71729], [108.158286, -6.72043], [108.162179, -6.72819], [108.16197100000011, -6.733538999999894], [108.150047, -6.74668], [108.1509, -6.76014], [108.16114900000014, -6.760109], [108.164139, -6.774021], [108.170616, -6.78517], [108.16279, -6.79927], [108.15593600000011, -6.79946], [108.15883, -6.80664], [108.163688, -6.81033], [108.156998, -6.82114], [108.16063600000012, -6.830260999999894], [108.168387, -6.83239], [108.17932, -6.83207], [108.1813, -6.85202], [108.188147, -6.85178], [108.18853, -6.86092], [108.19441300000011, -6.86344], [108.19944, -6.86975], [108.192918, -6.882478], [108.2015300000001, -6.89011], [108.212012, -6.88801], [108.21392, -6.89278], [108.211937, -6.90204], [108.216682, -6.90698], [108.21354600000012, -6.91481], [108.21694900000011, -6.917209999999898], [108.22119, -6.92807], [108.21712, -6.93401], [108.211609, -6.93575], [108.197152, -6.94884], [108.18150400000013, -6.957179], [108.1808400000001, -6.96049], [108.17047, -6.97363], [108.16855600000014, -6.988189], [108.16462700000011, -6.99977], [108.161721, -7.016139999999893], [108.15498, -7.01891], [108.14872, -7.029039999999895], [108.138298, -7.038489], [108.13785, -7.04097], [108.145347, -7.04803], [108.154136, -7.06526], [108.16214, -7.06289], [108.1702130000001, -7.06425], [108.18051200000014, -7.05486], [108.19117, -7.054261], [108.20787800000011, -7.05113], [108.216912, -7.05646], [108.22408300000012, -7.0519], [108.2303, -7.05436], [108.237518, -7.06165], [108.246277, -7.06399], [108.261146, -7.06281], [108.273453, -7.06384], [108.28978, -7.05793], [108.310592, -7.06059], [108.31886900000012, -7.05717], [108.332961, -7.065489999999897], [108.33976, -7.06462], [108.35621, -7.05153], [108.36054, -7.05122], [108.37652, -7.06173], [108.385933, -7.071639], [108.393272, -7.05629], [108.391777, -7.04621], [108.387191, -7.03623], [108.394546, -7.02949], [108.389473, -7.02116], [108.3843240000001, -7.005879], [108.384682, -6.98565], [108.386856, -6.975769999999898], [108.387681, -6.956249], [108.392533, -6.944739], [108.400681, -6.936781], [108.40358, -6.92751], [108.402518, -6.92073], [108.40960600000011, -6.87852], [108.41101, -6.8662], [108.406067, -6.85387], [108.404319, -6.84225], [108.3986670000001, -6.82763], [108.398484, -6.80922], [108.395218, -6.7983], [108.40338200000014, -6.78904], [108.400139, -6.775689], [108.39005400000013, -6.77186], [108.383811, -6.76659], [108.375686, -6.764990999999895], [108.37305, -6.75361], [108.36628, -6.742471], [108.375107, -6.73778], [108.376137, -6.732209999999895], [108.367652, -6.72516], [108.363372, -6.7185], [108.361077, -6.70867], [108.366531, -6.70262], [108.366332, -6.695019], [108.36239, -6.687149], [108.35522, -6.680271], [108.337166, -6.67359], [108.33393, -6.66819], [108.33492, -6.65507], [108.329529, -6.6456], [108.32933, -6.63927], [108.323533, -6.62749]]], \"type\": \"Polygon\"}, \"id\": \"10\", \"properties\": {\"NAME\": \"KABUPATEN MAJALENGKA\"}, \"type\": \"Feature\"}, {\"geometry\": {\"coordinates\": [[[108.044487, -6.63632], [108.03174600000011, -6.64488], [108.030876, -6.65719], [108.023819, -6.6652], [108.01479400000011, -6.66505], [107.99855100000013, -6.65472], [107.980377, -6.645279], [107.972008, -6.638], [107.96077600000012, -6.634], [107.95106, -6.62506], [107.940934, -6.62381], [107.92106700000011, -6.60518], [107.905639, -6.59383], [107.892632, -6.588859], [107.87288600000011, -6.58649], [107.8551, -6.57899], [107.850899, -6.58251], [107.857064, -6.59819], [107.853142, -6.607390999999893], [107.85486700000013, -6.626579], [107.85043400000012, -6.63883], [107.85301900000013, -6.64624], [107.850197, -6.65412], [107.841049, -6.661899], [107.837418, -6.67559], [107.83017, -6.68509], [107.83770700000014, -6.69145], [107.838676, -6.69587], [107.83448, -6.71502], [107.83678, -6.724671], [107.834877, -6.73186], [107.8358, -6.74663], [107.83833, -6.75582], [107.834587, -6.77266], [107.820076, -6.78586], [107.81598700000012, -6.79512], [107.8054580000001, -6.80612], [107.79993, -6.8078], [107.79117700000012, -6.801719], [107.783332, -6.80235], [107.774598, -6.79843], [107.76084800000012, -6.8061], [107.74429, -6.81013], [107.741182, -6.81951], [107.744461, -6.83433], [107.741241, -6.84175], [107.738586, -6.873719], [107.748208, -6.88254], [107.758453, -6.89643], [107.758056, -6.91988], [107.755866, -6.92931], [107.7595510000001, -6.94437], [107.7708970000001, -6.95164], [107.808838, -6.96351], [107.829505, -6.96351], [107.83802, -6.96688], [107.8550560000001, -6.96495], [107.86438700000014, -6.96142], [107.877572, -6.96058], [107.88742, -6.95786], [107.894784, -6.95158], [107.908372, -6.95074], [107.91615300000012, -6.94796], [107.924782, -6.94961], [107.928757, -6.953570999999897], [107.937499, -6.95355], [107.953798, -6.96132], [107.95955700000013, -6.960739], [107.966232, -6.95601], [107.98004900000012, -6.97126], [107.985291, -6.97884], [107.99680300000011, -6.982489], [108.00087800000011, -6.98589], [108.008317, -6.98225], [108.021333, -6.984], [108.031486, -6.99157], [108.042098, -6.99574], [108.059196, -6.99426], [108.07153, -6.98313], [108.08233600000011, -6.98987], [108.0898370000001, -6.99758], [108.092492, -7.00615], [108.099373, -7.019249], [108.108147, -7.02849], [108.12026, -7.03652], [108.132309, -7.04115], [108.13785, -7.04097], [108.138298, -7.038489], [108.14872, -7.029039999999895], [108.15498, -7.01891], [108.161721, -7.016139999999893], [108.16462700000011, -6.99977], [108.16855600000014, -6.988189], [108.17047, -6.97363], [108.1808400000001, -6.96049], [108.18150400000013, -6.957179], [108.197152, -6.94884], [108.211609, -6.93575], [108.21712, -6.93401], [108.22119, -6.92807], [108.21694900000011, -6.917209999999898], [108.21354600000012, -6.91481], [108.216682, -6.90698], [108.211937, -6.90204], [108.21392, -6.89278], [108.212012, -6.88801], [108.2015300000001, -6.89011], [108.192918, -6.882478], [108.19944, -6.86975], [108.19441300000011, -6.86344], [108.18853, -6.86092], [108.188147, -6.85178], [108.1813, -6.85202], [108.17932, -6.83207], [108.168387, -6.83239], [108.16063600000012, -6.830260999999894], [108.156998, -6.82114], [108.163688, -6.81033], [108.15883, -6.80664], [108.15593600000011, -6.79946], [108.16279, -6.79927], [108.170616, -6.78517], [108.164139, -6.774021], [108.16114900000014, -6.760109], [108.1509, -6.76014], [108.150047, -6.74668], [108.16197100000011, -6.733538999999894], [108.162179, -6.72819], [108.158286, -6.72043], [108.15056700000014, -6.71729], [108.144898, -6.71092], [108.127609, -6.70504], [108.119659, -6.704249], [108.112152, -6.69766], [108.104394, -6.687149], [108.100198, -6.67537], [108.092141, -6.67395], [108.076333, -6.66473], [108.070282, -6.66348], [108.05332, -6.64917], [108.050668, -6.6392], [108.044487, -6.63632]]], \"type\": \"Polygon\"}, \"id\": \"11\", \"properties\": {\"NAME\": \"KABUPATEN SUMEDANG\"}, \"type\": \"Feature\"}, {\"geometry\": {\"coordinates\": [[[108.539239, -6.51575], [108.536942, -6.49972], [108.53714, -6.4822], [108.519928, -6.47592], [108.489511, -6.46031], [108.477265, -6.45289], [108.45208, -6.434005], [108.432503, -6.41306], [108.429168, -6.41139], [108.411767, -6.389752], [108.396118, -6.36671], [108.39167900000012, -6.35821], [108.384048, -6.355160999999896], [108.37285500000013, -6.32945], [108.36767500000013, -6.30843], [108.3672, -6.30187], [108.37375, -6.295311], [108.364402, -6.264788999999894], [108.35751, -6.26269], [108.350281, -6.251939], [108.349319, -6.23966], [108.342568, -6.24077], [108.3375170000001, -6.24752], [108.340501, -6.25134], [108.340736, -6.25985], [108.338, -6.2739], [108.333695, -6.27232], [108.329101, -6.26477], [108.299057, -6.24668], [108.29036, -6.24535], [108.281991, -6.24821], [108.261451, -6.24798], [108.23972, -6.240947], [108.238655, -6.244884999999897], [108.232009, -6.24263], [108.221145, -6.25031], [108.21595700000012, -6.238494], [108.21026, -6.240923999999893], [108.207221, -6.23389], [108.199288, -6.22835], [108.196113, -6.23389], [108.201699, -6.241749], [108.20737400000013, -6.261833], [108.2121, -6.26593], [108.20977, -6.273844], [108.19530400000014, -6.279039999999895], [108.190399, -6.293740999999898], [108.18379900000014, -6.29395], [108.17055, -6.30222], [108.167656, -6.30688], [108.146416, -6.318012999999894], [108.13282, -6.32208], [108.132201, -6.33164], [108.12961700000011, -6.33414], [108.10916800000012, -6.33306], [108.111037, -6.32848], [108.091384, -6.324051], [108.086945, -6.320001], [108.080002, -6.320554999999899], [108.06179, -6.31514], [108.055267, -6.31472], [108.042634, -6.31003], [108.02961, -6.30348], [108.01339, -6.293611], [108.004738, -6.28696], [107.99028, -6.27833], [107.974442, -6.271941], [107.95333, -6.26], [107.93528, -6.2525], [107.930092, -6.25382], [107.918977, -6.24898], [107.919715, -6.25718], [107.914544, -6.273279], [107.925133, -6.28108], [107.92299700000012, -6.29654], [107.923524, -6.3101], [107.92195800000013, -6.33539], [107.9193580000001, -6.34661], [107.92362200000014, -6.35987], [107.92023, -6.36661], [107.902779, -6.383999], [107.900482, -6.38757], [107.901229, -6.40285], [107.89408900000012, -6.40764], [107.892822, -6.41213], [107.89759900000013, -6.42562], [107.89332, -6.44132], [107.89557700000012, -6.44787], [107.89224, -6.455689], [107.900299, -6.46958], [107.90277, -6.47883], [107.912727, -6.47967], [107.9212490000001, -6.484249], [107.919982, -6.491921], [107.915269, -6.49668], [107.920677, -6.50178], [107.920905, -6.51368], [107.911873, -6.53042], [107.912208, -6.53743], [107.89908700000012, -6.54574], [107.89879500000012, -6.551201], [107.887108, -6.556168999999898], [107.88181300000014, -6.567271], [107.87439, -6.569068999999899], [107.8627, -6.56892], [107.85481, -6.57204], [107.8551, -6.57899], [107.87288600000011, -6.58649], [107.892632, -6.588859], [107.905639, -6.59383], [107.92106700000011, -6.60518], [107.940934, -6.62381], [107.95106, -6.62506], [107.96077600000012, -6.634], [107.972008, -6.638], [107.980377, -6.645279], [107.99855100000013, -6.65472], [108.01479400000011, -6.66505], [108.023819, -6.6652], [108.030876, -6.65719], [108.03174600000011, -6.64488], [108.044487, -6.63632], [108.0541300000001, -6.62493], [108.06561, -6.61691], [108.07222800000011, -6.59923], [108.07309, -6.58342], [108.07624, -6.57915], [108.089896, -6.57026], [108.09566, -6.56835], [108.115174, -6.56669], [108.136001, -6.563308], [108.140839, -6.56496], [108.14589, -6.57519], [108.145347, -6.59963], [108.146897, -6.60339], [108.1548, -6.60335], [108.165253, -6.61045], [108.1744, -6.608649], [108.179528, -6.61002], [108.184448, -6.61622], [108.18930100000011, -6.61447], [108.18963600000012, -6.60487], [108.202392, -6.580691], [108.21457, -6.56524], [108.21794, -6.56621], [108.23893800000013, -6.5791], [108.255835, -6.58671], [108.27232, -6.58926], [108.27538, -6.59236], [108.26938700000011, -6.60554], [108.271318, -6.61278], [108.282729, -6.616669], [108.282128, -6.60988], [108.28793200000013, -6.60741], [108.292199, -6.60957], [108.31103, -6.62494], [108.323533, -6.62749], [108.320953, -6.61646], [108.335717, -6.60572], [108.33685400000013, -6.602039], [108.330049, -6.59953], [108.32997, -6.59447], [108.334671, -6.58882], [108.3480540000001, -6.58004], [108.35191, -6.579859], [108.355377, -6.567661], [108.360398, -6.55799], [108.37029400000011, -6.55348], [108.373382, -6.548471], [108.383499, -6.54378], [108.392449, -6.535999], [108.400337, -6.53563], [108.41078900000014, -6.52819], [108.4362, -6.51754], [108.437553, -6.52352], [108.446731, -6.5319], [108.44883, -6.57037], [108.452468, -6.57289], [108.47006, -6.56715], [108.47326, -6.55972], [108.489723, -6.55547], [108.49223, -6.55151], [108.490593, -6.5422], [108.49801, -6.54115], [108.500054, -6.53378], [108.507796, -6.52801], [108.512466, -6.51592], [108.51920300000012, -6.51401], [108.530731, -6.51737], [108.539239, -6.51575]]], \"type\": \"Polygon\"}, \"id\": \"12\", \"properties\": {\"NAME\": \"KABUPATEN INDRAMAYU\"}, \"type\": \"Feature\"}, {\"geometry\": {\"coordinates\": [[[107.918977, -6.24898], [107.902467, -6.243041], [107.896942, -6.23778], [107.88777, -6.235408], [107.884651, -6.22612], [107.890273, -6.22444], [107.88325600000013, -6.20861], [107.888785, -6.20316], [107.896942, -6.20972], [107.89917, -6.205559], [107.891488, -6.19608], [107.89138800000012, -6.19], [107.871391, -6.20028], [107.869827, -6.20727], [107.854218, -6.2101], [107.847923, -6.19621], [107.85028100000011, -6.18778], [107.837142, -6.187925], [107.828887, -6.18389], [107.820557, -6.183329999999899], [107.813179, -6.18697], [107.812195, -6.19447], [107.802087, -6.19706], [107.795769, -6.20321], [107.79076, -6.20173], [107.779441, -6.20667], [107.762779, -6.21111], [107.75027, -6.22667], [107.7213210000001, -6.236792], [107.713891, -6.23556], [107.701668, -6.22889], [107.696107, -6.22333], [107.694619, -6.232395], [107.68555, -6.241669], [107.67972500000013, -6.24472], [107.66889, -6.244998999999893], [107.651108, -6.22722], [107.641159, -6.21313], [107.63178, -6.21947], [107.62119, -6.22208], [107.612953, -6.23149], [107.600746, -6.241489], [107.597869, -6.24673], [107.58448, -6.25656], [107.580787, -6.27254], [107.580947, -6.27929], [107.586036, -6.29132], [107.586007, -6.29848], [107.581031, -6.30336], [107.582611, -6.312049], [107.57955900000013, -6.32435], [107.572295, -6.33466], [107.564927, -6.354619], [107.55918, -6.36348], [107.55261300000012, -6.36901], [107.549798, -6.37787], [107.534829, -6.39365], [107.530113, -6.40303], [107.52894600000013, -6.41763], [107.52746, -6.429759], [107.529297, -6.437968999999896], [107.54236600000013, -6.44352], [107.545411, -6.46207], [107.548576, -6.46856], [107.55844000000013, -6.47312], [107.56619200000011, -6.48536], [107.56118, -6.51658], [107.564118, -6.52359], [107.560601, -6.533878999999899], [107.56330900000012, -6.54514], [107.55909700000012, -6.556988], [107.57309, -6.579319], [107.580979, -6.58424], [107.587196, -6.59452], [107.589211, -6.60164], [107.581261, -6.62855], [107.582175, -6.63493], [107.590699, -6.64497], [107.60013500000014, -6.65213], [107.600602, -6.658569], [107.597603, -6.66737], [107.60002, -6.675929], [107.598747, -6.701391], [107.589988, -6.72205], [107.59563, -6.7269], [107.601967, -6.73616], [107.599358, -6.75604], [107.620506, -6.76415], [107.62902800000012, -6.76925], [107.6482, -6.76592], [107.65838700000012, -6.76797], [107.665298, -6.77175], [107.67353, -6.78311], [107.68159, -6.78981], [107.6897120000001, -6.79135], [107.704795, -6.79097], [107.71815, -6.796510999999896], [107.72385, -6.80552], [107.728813, -6.80827], [107.74429, -6.81013], [107.76084800000012, -6.8061], [107.774598, -6.79843], [107.783332, -6.80235], [107.79117700000012, -6.801719], [107.79993, -6.8078], [107.8054580000001, -6.80612], [107.81598700000012, -6.79512], [107.820076, -6.78586], [107.834587, -6.77266], [107.83833, -6.75582], [107.8358, -6.74663], [107.834877, -6.73186], [107.83678, -6.724671], [107.83448, -6.71502], [107.838676, -6.69587], [107.83770700000014, -6.69145], [107.83017, -6.68509], [107.837418, -6.67559], [107.841049, -6.661899], [107.850197, -6.65412], [107.85301900000013, -6.64624], [107.85043400000012, -6.63883], [107.85486700000013, -6.626579], [107.853142, -6.607390999999893], [107.857064, -6.59819], [107.850899, -6.58251], [107.8551, -6.57899], [107.85481, -6.57204], [107.8627, -6.56892], [107.87439, -6.569068999999899], [107.88181300000014, -6.567271], [107.887108, -6.556168999999898], [107.89879500000012, -6.551201], [107.89908700000012, -6.54574], [107.912208, -6.53743], [107.911873, -6.53042], [107.920905, -6.51368], [107.920677, -6.50178], [107.915269, -6.49668], [107.919982, -6.491921], [107.9212490000001, -6.484249], [107.912727, -6.47967], [107.90277, -6.47883], [107.900299, -6.46958], [107.89224, -6.455689], [107.89557700000012, -6.44787], [107.89332, -6.44132], [107.89759900000013, -6.42562], [107.892822, -6.41213], [107.89408900000012, -6.40764], [107.901229, -6.40285], [107.900482, -6.38757], [107.902779, -6.383999], [107.92023, -6.36661], [107.92362200000014, -6.35987], [107.9193580000001, -6.34661], [107.92195800000013, -6.33539], [107.923524, -6.3101], [107.92299700000012, -6.29654], [107.925133, -6.28108], [107.914544, -6.273279], [107.919715, -6.25718], [107.918977, -6.24898]]], \"type\": \"Polygon\"}, \"id\": \"13\", \"properties\": {\"NAME\": \"KABUPATEN SUBANG\"}, \"type\": \"Feature\"}, {\"geometry\": {\"coordinates\": [[[107.52894600000013, -6.41763], [107.51905, -6.41592], [107.50593, -6.409059999999897], [107.497353, -6.40994], [107.490096, -6.41731], [107.473458, -6.430049], [107.46379, -6.42846], [107.449623, -6.44033], [107.423896, -6.44033], [107.416528, -6.42764], [107.400697, -6.425089999999898], [107.388032, -6.41649], [107.38067, -6.41456], [107.372948, -6.41854], [107.37478, -6.43463], [107.37376, -6.45107], [107.3683400000001, -6.45366], [107.371392, -6.47556], [107.378532, -6.48088], [107.38031, -6.487949999999898], [107.387109, -6.4946], [107.388604, -6.50581], [107.384971, -6.52082], [107.35803, -6.50334], [107.337533, -6.49593], [107.325736, -6.48906], [107.317848, -6.49408], [107.311341, -6.49519], [107.304595, -6.50089], [107.305238, -6.505718], [107.317039, -6.51012], [107.32309, -6.52131], [107.320321, -6.525738], [107.30737, -6.526180999999895], [107.30127, -6.52113], [107.29718100000014, -6.52252], [107.295052, -6.53632], [107.28347900000011, -6.54692], [107.29010000000011, -6.56214], [107.28838, -6.57238], [107.289176, -6.5864], [107.287453, -6.591519], [107.289466, -6.60433], [107.28122700000011, -6.607799], [107.28279, -6.61447], [107.27928, -6.61815], [107.284636, -6.626759], [107.28084, -6.63166], [107.288201, -6.63755], [107.280778, -6.6412], [107.26622, -6.63613], [107.281639, -6.64999], [107.275818, -6.65946], [107.275399, -6.66948], [107.265159, -6.683291], [107.26056, -6.68606], [107.26335200000011, -6.69336], [107.27975, -6.698219], [107.286346, -6.703729999999894], [107.306512, -6.709589], [107.309677, -6.718], [107.316077, -6.727168], [107.326051, -6.73142], [107.33544100000012, -6.72906], [107.347976, -6.71016], [107.350745, -6.69844], [107.35551, -6.69458], [107.372246, -6.702381], [107.38089, -6.69839], [107.381545, -6.69017], [107.38535400000012, -6.68852], [107.393707, -6.69529], [107.4133690000001, -6.68789], [107.419053, -6.6894], [107.425972, -6.6965], [107.44843, -6.696439], [107.457466, -6.702629], [107.466507, -6.713928999999894], [107.48268200000012, -6.72958], [107.49944, -6.73512], [107.51158800000013, -6.7517], [107.528969, -6.75425], [107.540253, -6.7602], [107.550217, -6.770059], [107.561385, -6.76831], [107.55976900000013, -6.75262], [107.563735, -6.74521], [107.564378, -6.73801], [107.56823800000012, -6.730249999999899], [107.574287, -6.72495], [107.589988, -6.72205], [107.598747, -6.701391], [107.60002, -6.675929], [107.597603, -6.66737], [107.600602, -6.658569], [107.60013500000014, -6.65213], [107.590699, -6.64497], [107.582175, -6.63493], [107.581261, -6.62855], [107.589211, -6.60164], [107.587196, -6.59452], [107.580979, -6.58424], [107.57309, -6.579319], [107.55909700000012, -6.556988], [107.56330900000012, -6.54514], [107.560601, -6.533878999999899], [107.564118, -6.52359], [107.56118, -6.51658], [107.56619200000011, -6.48536], [107.55844000000013, -6.47312], [107.548576, -6.46856], [107.545411, -6.46207], [107.54236600000013, -6.44352], [107.529297, -6.437968999999896], [107.52746, -6.429759], [107.52894600000013, -6.41763]]], \"type\": \"Polygon\"}, \"id\": \"14\", \"properties\": {\"NAME\": \"KABUPATEN PURWAKARTA\"}, \"type\": \"Feature\"}, {\"geometry\": {\"coordinates\": [[[107.641159, -6.21313], [107.63603100000012, -6.21025], [107.626618, -6.19838], [107.623337, -6.18944], [107.601113, -6.18694], [107.589448, -6.18972], [107.576462, -6.187508], [107.564163, -6.181388], [107.539353, -6.177454999999895], [107.508393, -6.16234], [107.4882, -6.15692], [107.479446, -6.15222], [107.468064, -6.14361], [107.461671, -6.13528], [107.446662, -6.10694], [107.42555, -6.081389], [107.426392, -6.07805], [107.415017, -6.06079], [107.406616, -6.04326], [107.39438600000011, -6.02401], [107.375572, -6.001], [107.351112, -5.97667], [107.34333, -5.97083], [107.33333, -5.96611], [107.30284200000011, -5.95814], [107.28186, -5.95887], [107.259712, -5.96361], [107.247947, -5.96883], [107.222496, -5.975], [107.20722100000012, -5.977777], [107.193886, -5.98556], [107.18089, -5.98883], [107.16472, -5.98778], [107.144447, -5.9825], [107.134163, -5.976945], [107.121108, -5.96444], [107.10072400000013, -5.93822], [107.096519, -5.95395], [107.096801, -5.961879999999894], [107.08964, -5.97849], [107.08678, -6.00099], [107.091956, -6.0046], [107.09477, -6.012001], [107.1018, -6.01549], [107.09892300000013, -6.02108], [107.10260000000011, -6.02509], [107.11262, -6.02961], [107.116256, -6.03748], [107.123611, -6.04539], [107.12992200000014, -6.046459], [107.13443, -6.06134], [107.143127, -6.05799], [107.144966, -6.06822], [107.1519320000001, -6.07056], [107.158958, -6.06704], [107.164886, -6.069498999999894], [107.17536100000012, -6.07772], [107.1835860000001, -6.07543], [107.18877, -6.07697], [107.191224, -6.086209], [107.206918, -6.09464], [107.215943, -6.101], [107.236779, -6.10291], [107.244027, -6.09979], [107.249207, -6.10276], [107.25123, -6.11368], [107.25891200000012, -6.11078], [107.268379, -6.112319], [107.27236, -6.128221], [107.280067, -6.12557], [107.28347900000011, -6.12747], [107.28063900000012, -6.13413], [107.28824, -6.14113], [107.293999, -6.14359], [107.28864, -6.156069], [107.280869, -6.16034], [107.279609, -6.165588999999898], [107.288611, -6.16393], [107.290077, -6.1717], [107.28749, -6.18188], [107.29279, -6.1921], [107.293129, -6.19997], [107.297698, -6.20565], [107.28914700000013, -6.21929], [107.275224, -6.21748], [107.28208, -6.2254], [107.28212, -6.229469], [107.273781, -6.23817], [107.27768700000013, -6.25305], [107.27545, -6.260399], [107.27671900000013, -6.26633], [107.26762, -6.27514], [107.2672740000001, -6.28555], [107.25743, -6.29039], [107.24482000000012, -6.30094], [107.23809, -6.29992], [107.23594700000012, -6.3082], [107.23037, -6.30586], [107.2241, -6.31466], [107.223747, -6.32265], [107.220009, -6.32576], [107.22688, -6.34733], [107.225297, -6.35236], [107.214309, -6.354509], [107.21333, -6.36337], [107.20826000000011, -6.369349], [107.21937, -6.38226], [107.223298, -6.39946], [107.22, -6.40979], [107.213783, -6.41187], [107.212167, -6.41711], [107.207091, -6.41797], [107.204741, -6.42821], [107.206009, -6.436198], [107.21417900000012, -6.458249], [107.211937, -6.46647], [107.203698, -6.46764], [107.196732, -6.464129], [107.183778, -6.47355], [107.175163, -6.48535], [107.17640000000011, -6.49412], [107.16563, -6.49961], [107.164421, -6.5072], [107.17529900000011, -6.52396], [107.177002, -6.53022], [107.176697, -6.54373], [107.178643, -6.5497], [107.18679800000012, -6.55951], [107.192063, -6.56927], [107.200204, -6.59349], [107.204322, -6.58878], [107.211166, -6.58716], [107.222908, -6.58018], [107.223923, -6.59998], [107.23051, -6.60361], [107.240357, -6.61652], [107.256829, -6.63097], [107.26622, -6.63613], [107.280778, -6.6412], [107.288201, -6.63755], [107.28084, -6.63166], [107.284636, -6.626759], [107.27928, -6.61815], [107.28279, -6.61447], [107.28122700000011, -6.607799], [107.289466, -6.60433], [107.287453, -6.591519], [107.289176, -6.5864], [107.28838, -6.57238], [107.29010000000011, -6.56214], [107.28347900000011, -6.54692], [107.295052, -6.53632], [107.29718100000014, -6.52252], [107.30127, -6.52113], [107.30737, -6.526180999999895], [107.320321, -6.525738], [107.32309, -6.52131], [107.317039, -6.51012], [107.305238, -6.505718], [107.304595, -6.50089], [107.311341, -6.49519], [107.317848, -6.49408], [107.325736, -6.48906], [107.337533, -6.49593], [107.35803, -6.50334], [107.384971, -6.52082], [107.388604, -6.50581], [107.387109, -6.4946], [107.38031, -6.487949999999898], [107.378532, -6.48088], [107.371392, -6.47556], [107.3683400000001, -6.45366], [107.37376, -6.45107], [107.37478, -6.43463], [107.372948, -6.41854], [107.38067, -6.41456], [107.388032, -6.41649], [107.400697, -6.425089999999898], [107.416528, -6.42764], [107.423896, -6.44033], [107.449623, -6.44033], [107.46379, -6.42846], [107.473458, -6.430049], [107.490096, -6.41731], [107.497353, -6.40994], [107.50593, -6.409059999999897], [107.51905, -6.41592], [107.52894600000013, -6.41763], [107.530113, -6.40303], [107.534829, -6.39365], [107.549798, -6.37787], [107.55261300000012, -6.36901], [107.55918, -6.36348], [107.564927, -6.354619], [107.572295, -6.33466], [107.57955900000013, -6.32435], [107.582611, -6.312049], [107.581031, -6.30336], [107.586007, -6.29848], [107.586036, -6.29132], [107.580947, -6.27929], [107.580787, -6.27254], [107.58448, -6.25656], [107.597869, -6.24673], [107.600746, -6.241489], [107.612953, -6.23149], [107.62119, -6.22208], [107.63178, -6.21947], [107.641159, -6.21313]]], \"type\": \"Polygon\"}, \"id\": \"15\", \"properties\": {\"NAME\": \"KABUPATEN KARAWANG\"}, \"type\": \"Feature\"}, {\"geometry\": {\"coordinates\": [[[107.10072400000013, -5.93822], [107.0963890000001, -5.93583], [107.072219, -5.93361], [107.056388, -5.92806], [107.04750200000012, -5.9225], [107.038064, -5.92167], [107.037216, -5.91722], [107.026657, -5.91472], [107.004722, -5.92083], [107.005837, -5.92444], [107.001388, -5.931666], [106.991943, -5.93556], [106.989999, -5.94305], [106.999726, -5.94028], [107.005837, -5.94083], [107.01139100000012, -5.9475], [107.016113, -5.95944], [107.01667, -5.97], [107.01305500000012, -5.97722], [107.00611, -6], [106.996948, -6.0025], [106.98972, -6.01028], [106.994507, -6.02578], [107.00278, -6.01944], [107.007225, -6.01944], [107.015557, -6.03361], [107.00507, -6.04098], [107.00333400000011, -6.045278], [106.996353, -6.050000999999895], [106.987221, -6.051111], [106.998885, -6.059724], [106.998885, -6.06528], [107.004449, -6.07306], [107.012496, -6.07472], [107.01139100000012, -6.08028], [107.003052, -6.07917], [106.995248, -6.08492], [106.982498, -6.089445999999896], [106.972839, -6.09111], [106.972527, -6.14771], [106.972946, -6.17417], [106.983642, -6.16504], [107.01204, -6.16734], [107.012223, -6.18517], [107.023728, -6.19383], [107.02869, -6.19292], [107.035798, -6.196349], [107.03829200000013, -6.203758], [107.032639, -6.21721], [107.040124, -6.22128], [107.04432, -6.22932], [107.04252600000012, -6.24644], [107.039429, -6.25136], [107.029168, -6.25692], [107.024063, -6.26364], [107.01883700000013, -6.282739], [107.03115800000012, -6.27945], [107.044518, -6.28467], [107.045737, -6.30647], [107.043342, -6.32074], [107.04004, -6.3246], [107.026741, -6.32832], [107.023842, -6.348859], [107.0217970000001, -6.353249], [107.01071900000011, -6.35476], [107.00470800000011, -6.36627], [106.98464300000012, -6.37687], [107.007202, -6.39031], [107.01599900000014, -6.39408], [107.045097, -6.400801], [107.052085, -6.404919], [107.05945600000013, -6.41588], [107.071396, -6.42919], [107.078926, -6.435379999999896], [107.11531000000014, -6.459378999999899], [107.1481940000001, -6.47626], [107.17640000000011, -6.49412], [107.175163, -6.48535], [107.183778, -6.47355], [107.196732, -6.464129], [107.203698, -6.46764], [107.211937, -6.46647], [107.21417900000012, -6.458249], [107.206009, -6.436198], [107.204741, -6.42821], [107.207091, -6.41797], [107.212167, -6.41711], [107.213783, -6.41187], [107.22, -6.40979], [107.223298, -6.39946], [107.21937, -6.38226], [107.20826000000011, -6.369349], [107.21333, -6.36337], [107.214309, -6.354509], [107.225297, -6.35236], [107.22688, -6.34733], [107.220009, -6.32576], [107.223747, -6.32265], [107.2241, -6.31466], [107.23037, -6.30586], [107.23594700000012, -6.3082], [107.23809, -6.29992], [107.24482000000012, -6.30094], [107.25743, -6.29039], [107.2672740000001, -6.28555], [107.26762, -6.27514], [107.27671900000013, -6.26633], [107.27545, -6.260399], [107.27768700000013, -6.25305], [107.273781, -6.23817], [107.28212, -6.229469], [107.28208, -6.2254], [107.275224, -6.21748], [107.28914700000013, -6.21929], [107.297698, -6.20565], [107.293129, -6.19997], [107.29279, -6.1921], [107.28749, -6.18188], [107.290077, -6.1717], [107.288611, -6.16393], [107.279609, -6.165588999999898], [107.280869, -6.16034], [107.28864, -6.156069], [107.293999, -6.14359], [107.28824, -6.14113], [107.28063900000012, -6.13413], [107.28347900000011, -6.12747], [107.280067, -6.12557], [107.27236, -6.128221], [107.268379, -6.112319], [107.25891200000012, -6.11078], [107.25123, -6.11368], [107.249207, -6.10276], [107.244027, -6.09979], [107.236779, -6.10291], [107.215943, -6.101], [107.206918, -6.09464], [107.191224, -6.086209], [107.18877, -6.07697], [107.1835860000001, -6.07543], [107.17536100000012, -6.07772], [107.164886, -6.069498999999894], [107.158958, -6.06704], [107.1519320000001, -6.07056], [107.144966, -6.06822], [107.143127, -6.05799], [107.13443, -6.06134], [107.12992200000014, -6.046459], [107.123611, -6.04539], [107.116256, -6.03748], [107.11262, -6.02961], [107.10260000000011, -6.02509], [107.09892300000013, -6.02108], [107.1018, -6.01549], [107.09477, -6.012001], [107.091956, -6.0046], [107.08678, -6.00099], [107.08964, -5.97849], [107.096801, -5.961879999999894], [107.096519, -5.95395], [107.10072400000013, -5.93822]]], \"type\": \"Polygon\"}, \"id\": \"16\", \"properties\": {\"NAME\": \"KABUPATEN BEKASI\"}, \"type\": \"Feature\"}, {\"geometry\": {\"coordinates\": [[[107.18345, -6.97791], [107.184883, -6.98688], [107.188446, -6.99141], [107.183648, -6.999999], [107.194032, -7.012719], [107.193733, -7.017699], [107.188156, -7.0334], [107.185517, -7.0474], [107.188582, -7.05489], [107.195657, -7.05697], [107.205879, -7.05508], [107.218163, -7.05687], [107.22715, -7.051], [107.233673, -7.04945], [107.249175, -7.05079], [107.263839, -7.07783], [107.272605, -7.08371], [107.280908, -7.0832], [107.290191, -7.087131], [107.305878, -7.087019], [107.310607, -7.09342], [107.31857, -7.111921], [107.344169, -7.108403], [107.365664, -7.115347], [107.390782, -7.119542], [107.406654, -7.10939], [107.407148, -7.089053], [107.420642, -7.074666], [107.418639, -7.062762], [107.430634, -7.052838], [107.44713, -7.047874], [107.452628, -7.050868], [107.471126, -7.053842], [107.477126, -7.057314], [107.474624, -7.051361], [107.475238, -7.040063], [107.479731, -7.034859], [107.480853, -7.022596], [107.478553, -7.022481], [107.477866, -7.019979], [107.474658, -7.01816], [107.476491, -7.012247], [107.473741, -7.007471], [107.477637, -7.002922], [107.485427, -6.999965], [107.48726, -6.99428], [107.485583, -6.987062], [107.488254, -6.978666], [107.497604, -6.977119], [107.503615, -6.982201], [107.508067, -6.97513], [107.507844, -6.970268], [107.513632, -6.963418], [107.51818, -6.963531], [107.51818, -6.958982], [107.521617, -6.957162], [107.517722, -6.955797], [107.523679, -6.951248], [107.525971, -6.944197], [107.531928, -6.941695], [107.543963, -6.941252], [107.549548, -6.94351], [107.555466, -6.941593], [107.548943, -6.93188], [107.554779, -6.928642], [107.56422, -6.92762], [107.565765, -6.920974], [107.572632, -6.915691], [107.56628, -6.905892], [107.561474, -6.896093], [107.550144, -6.905892], [107.55023, -6.899246], [107.544565, -6.901461], [107.543192, -6.898053], [107.533493, -6.899757], [107.532549, -6.897797], [107.524867, -6.890853], [107.526219, -6.888999], [107.527184, -6.889702], [107.529266, -6.887295], [107.526026, -6.885953], [107.522936, -6.882119], [107.52388, -6.880159], [107.528429, -6.883226], [107.53006, -6.879988], [107.524223, -6.877347], [107.525339, -6.876068], [107.521198, -6.874023], [107.522914, -6.872127], [107.52491, -6.872575], [107.526455, -6.868484], [107.530231, -6.86661], [107.542012, -6.867142], [107.55038, -6.871957], [107.546518, -6.876388], [107.549973, -6.87888], [107.556152, -6.888765], [107.563534, -6.887743], [107.575893, -6.890469], [107.576923, -6.883482], [107.580261, -6.87313], [107.590027, -6.86303], [107.601532, -6.84835], [107.608932, -6.85147], [107.608686, -6.854481], [107.608385, -6.857473], [107.607886, -6.86296], [107.612189, -6.86509], [107.623963, -6.85339], [107.628692, -6.85605], [107.641644, -6.850394], [107.662243, -6.830623], [107.692112, -6.829255], [107.694173, -6.835391], [107.703444, -6.83948], [107.710998, -6.833002], [107.721299, -6.82925], [107.718207, -6.823455], [107.72385, -6.80552], [107.71815, -6.796511], [107.704795, -6.79097], [107.699665, -6.791417], [107.689712, -6.79135], [107.68159, -6.78981], [107.67353, -6.78311], [107.665298, -6.77175], [107.658387, -6.76797], [107.6482, -6.76592], [107.629028, -6.76925], [107.620506, -6.76415], [107.599358, -6.75604], [107.600676, -6.745998], [107.601967, -6.73616], [107.59563, -6.7269], [107.589988, -6.72205], [107.574287, -6.72495], [107.568238, -6.73025], [107.564378, -6.73801], [107.563735, -6.74521], [107.559769, -6.75262], [107.561385, -6.76831], [107.550217, -6.770059], [107.540253, -6.7602], [107.528969, -6.75425], [107.511588, -6.7517], [107.49944, -6.73512], [107.482682, -6.72958], [107.466507, -6.713929], [107.457466, -6.702629], [107.44843, -6.696439], [107.425972, -6.6965], [107.419053, -6.6894], [107.413369, -6.68789], [107.393707, -6.69529], [107.385354, -6.68852], [107.381545, -6.69017], [107.38089, -6.69839], [107.372246, -6.702381], [107.35551, -6.69458], [107.350745, -6.69844], [107.347976, -6.71016], [107.335441, -6.72906], [107.337663, -6.73332], [107.32764, -6.73593], [107.329431, -6.74092], [107.340705, -6.74843], [107.342376, -6.75239], [107.334037, -6.756779], [107.336341, -6.7635], [107.329782, -6.762361], [107.32402, -6.765649], [107.32265, -6.760966], [107.32034, -6.75307], [107.310607, -6.75896], [107.308007, -6.75385], [107.317048, -6.74423], [107.31239, -6.73142], [107.30652, -6.73477], [107.305427, -6.74799], [107.2984, -6.7533], [107.294197, -6.76228], [107.295592, -6.77153], [107.290626, -6.77556], [107.293382, -6.78094], [107.301796, -6.78462], [107.313844, -6.79614], [107.317565, -6.80734], [107.312973, -6.8154], [107.318901, -6.82372], [107.31976, -6.83544], [107.3227, -6.84291], [107.32034, -6.84975], [107.328583, -6.853989], [107.339919, -6.85218], [107.343536, -6.85464], [107.344001, -6.86395], [107.337212, -6.87116], [107.337212, -6.88012], [107.32898, -6.88537], [107.317178, -6.887809], [107.312446, -6.89685], [107.302726, -6.90509], [107.291962, -6.90926], [107.286027, -6.91594], [107.277229, -6.92159], [107.261512, -6.92571], [107.251548, -6.92619], [107.241187, -6.93277], [107.229789, -6.937909], [107.21341, -6.93958], [107.213897, -6.95048], [107.203362, -6.95711], [107.190009, -6.96761], [107.18345, -6.97791]]], \"type\": \"Polygon\"}, \"id\": \"17\", \"properties\": {\"NAME\": \"KABUPATEN BANDUNG BARAT\"}, \"type\": \"Feature\"}, {\"geometry\": {\"coordinates\": [[[108.715011, -7.46942], [108.697895, -7.469625], [108.691492, -7.459865], [108.649691, -7.464972], [108.64705, -7.489191], [108.655353, -7.496391], [108.650172, -7.530342], [108.619042, -7.550924], [108.575458, -7.56636], [108.549513, -7.556074], [108.543287, -7.568419], [108.524607, -7.567389], [108.517344, -7.540642], [108.539136, -7.535499], [108.520458, -7.524182], [108.485176, -7.534466], [108.468575, -7.515946], [108.445187, -7.503578], [108.436432, -7.499834], [108.429389, -7.49711], [108.423448, -7.49666], [108.417107, -7.49126], [108.409057, -7.49193], [108.397247, -7.47852], [108.39334, -7.47734], [108.372491, -7.479839], [108.36649, -7.48199], [108.356133, -7.48989], [108.34069, -7.49164], [108.333335, -7.50333], [108.33492, -7.52207], [108.333335, -7.53956], [108.33445, -7.552259], [108.350723, -7.56373], [108.354125, -7.57247], [108.36002, -7.61254], [108.357437, -7.62335], [108.358383, -7.63025], [108.35447, -7.63699], [108.35846, -7.64342], [108.362517, -7.66009], [108.35384, -7.67034], [108.351997, -7.68092], [108.341171, -7.67962], [108.331651, -7.68508], [108.323478, -7.68115], [108.320871, -7.68647], [108.314911, -7.689219], [108.315492, -7.69508], [108.32167, -7.70255], [108.321892, -7.70994], [108.315872, -7.71225], [108.316743, -7.719579], [108.312255, -7.72189], [108.3147, -7.7358], [108.31443, -7.74684], [108.319909, -7.75016], [108.323227, -7.77563], [108.321632, -7.782479], [108.32494, -7.79466], [108.338577, -7.797909], [108.34126, -7.80245], [108.335525, -7.81557], [108.34417, -7.8193], [108.349868, -7.81619], [108.362075, -7.81759], [108.370727, -7.813899], [108.382745, -7.81386], [108.41143, -7.81732], [108.42422, -7.82068], [108.44546, -7.82015], [108.449981, -7.81085], [108.46167, -7.809999], [108.474938, -7.806419], [108.48278, -7.80222], [108.48425, -7.79757], [108.496521, -7.79466], [108.503356, -7.78482], [108.501579, -7.78175], [108.507728, -7.76412], [108.50651, -7.7543], [108.503295, -7.74893], [108.497811, -7.74706], [108.497269, -7.74067], [108.50057, -7.72943], [108.496391, -7.720375], [108.501838, -7.71775], [108.50282, -7.71082], [108.517296, -7.69865], [108.539795, -7.690876], [108.559822, -7.68684], [108.584756, -7.684116], [108.593612, -7.68005], [108.59699, -7.68332], [108.62656, -7.684884], [108.640854, -7.68757], [108.651512, -7.69423], [108.6561, -7.703707], [108.650276, -7.70944], [108.650803, -7.71968], [108.663331, -7.725277], [108.666946, -7.72944], [108.678353, -7.721672], [108.675935, -7.71623], [108.66531, -7.70674], [108.65924, -7.70398], [108.661109, -7.69461], [108.671876, -7.68587], [108.686913, -7.67788], [108.699722, -7.67556], [108.721946, -7.67917], [108.732498, -7.68389], [108.740548, -7.685], [108.763046, -7.697499], [108.767501, -7.69139], [108.771112, -7.693889], [108.77583, -7.68722], [108.783166, -7.69212], [108.792023, -7.68344], [108.794304, -7.67646], [108.800278, -7.67424], [108.79826, -7.66737], [108.790543, -7.670769], [108.7859, -7.66682], [108.77835, -7.6586], [108.773796, -7.65959], [108.761238, -7.64891], [108.748131, -7.63379], [108.7492, -7.626399], [108.742622, -7.62342], [108.737998, -7.61704], [108.733451, -7.616129], [108.73776, -7.60922], [108.742814, -7.59409], [108.748863, -7.5931], [108.749366, -7.567591], [108.7533, -7.56164], [108.749359, -7.548991], [108.743529, -7.54297], [108.74253, -7.533251], [108.735817, -7.52038], [108.73332, -7.5059], [108.72162, -7.49287], [108.71682, -7.48316], [108.719628, -7.4743], [108.715011, -7.46942]]], \"type\": \"Polygon\"}, \"id\": \"18\", \"properties\": {\"NAME\": \"KABUPATEN PANGANDARAN\"}, \"type\": \"Feature\"}, {\"geometry\": {\"coordinates\": [[[106.76735700000012, -6.54053], [106.748543, -6.5604], [106.741997, -6.56476], [106.744301, -6.57604], [106.750801, -6.57598], [106.744598, -6.59796], [106.753096, -6.59641], [106.753586, -6.5869], [106.75974200000013, -6.58957], [106.766801, -6.59918], [106.77494000000013, -6.60224], [106.776483, -6.61031], [106.786666, -6.636279], [106.776298, -6.64839], [106.784637, -6.660409999999899], [106.794998, -6.65847], [106.803048, -6.654539], [106.80563, -6.66353], [106.82083200000011, -6.67451], [106.828796, -6.67416], [106.8312, -6.67712], [106.838897, -6.67191], [106.84088200000014, -6.662329], [106.845497, -6.650910999999894], [106.840317, -6.64408], [106.839341, -6.63332], [106.83131, -6.62476], [106.825286, -6.62514], [106.8205, -6.59746], [106.82229600000011, -6.59121], [106.8264, -6.593], [106.83141400000011, -6.580848], [106.83219800000012, -6.564089], [106.82775, -6.54879], [106.82800300000014, -6.53983], [106.82209000000012, -6.536879], [106.817231, -6.53969], [106.80475, -6.53602], [106.790497, -6.52671], [106.788391, -6.51737], [106.77842, -6.51907], [106.769996, -6.5153], [106.766938, -6.52216], [106.765999, -6.53353], [106.76735700000012, -6.54053]]], \"type\": \"Polygon\"}, \"id\": \"71\", \"properties\": {\"NAME\": \"KOTA BOGOR\"}, \"type\": \"Feature\"}, {\"geometry\": {\"coordinates\": [[[106.906409, -6.90913], [106.90075700000011, -6.89806], [106.897218, -6.89748], [106.892518, -6.91473], [106.892037, -6.921369], [106.885017, -6.92116], [106.88804, -6.92919], [106.898339, -6.94687], [106.89025, -6.95459], [106.87761, -6.958188], [106.861679, -6.9593], [106.855523, -6.966439], [106.855582, -6.97143], [106.848601, -6.97464], [106.84866, -6.9794], [106.854263, -6.984888999999896], [106.86172, -6.98176], [106.883057, -6.97596], [106.89689, -6.976648999999895], [106.9015, -6.979061], [106.923972, -6.981629], [106.93514, -6.97757], [106.951798, -6.97772], [106.955773, -6.97593], [106.962884, -6.94882], [106.960395, -6.936489], [106.94073, -6.94164], [106.9372780000001, -6.90382], [106.93354000000011, -6.90774], [106.92270700000012, -6.907129], [106.906409, -6.90913]]], \"type\": \"Polygon\"}, \"id\": \"72\", \"properties\": {\"NAME\": \"KOTA SUKABUMI\"}, \"type\": \"Feature\"}, {\"geometry\": {\"coordinates\": [[[107.548771, -6.931709], [107.555466, -6.941763], [107.56309, -6.949569], [107.5745, -6.96076], [107.588174, -6.96952], [107.596124, -6.97085], [107.60567, -6.968579], [107.612556, -6.96426], [107.619758, -6.96302], [107.635612, -6.96998], [107.651466, -6.96868], [107.658943, -6.971629], [107.676133, -6.972511], [107.687043, -6.97131], [107.705627, -6.96494], [107.710616, -6.96055], [107.712517, -6.94956], [107.718536, -6.94204], [107.721467, -6.92902], [107.717469, -6.9225], [107.729898, -6.91689], [107.73621, -6.911929], [107.728081, -6.90705], [107.706596, -6.912079], [107.70919, -6.90578], [107.706498, -6.89989], [107.699416, -6.9037], [107.6998, -6.91558], [107.697732, -6.91816], [107.689796, -6.9161], [107.67922, -6.90333], [107.670303, -6.902229], [107.66463, -6.89592], [107.657227, -6.904588], [107.652778, -6.90221], [107.65128, -6.893981], [107.638625, -6.89244], [107.635247, -6.88675], [107.63433, -6.87661], [107.627952, -6.87061], [107.628692, -6.85605], [107.623963, -6.85339], [107.612189, -6.86509], [107.607886, -6.86296], [107.608932, -6.85147], [107.601532, -6.84835], [107.590027, -6.86303], [107.580261, -6.87313], [107.577095, -6.883312], [107.575893, -6.890469], [107.563705, -6.888083], [107.556152, -6.888595], [107.561474, -6.896093], [107.572117, -6.91535], [107.566109, -6.920803], [107.563705, -6.92762], [107.554607, -6.928301], [107.548771, -6.931709]]], \"type\": \"Polygon\"}, \"id\": \"73\", \"properties\": {\"NAME\": \"KOTA BANDUNG\"}, \"type\": \"Feature\"}, {\"geometry\": {\"coordinates\": [[[108.583892, -6.7325], [108.574974, -6.7184], [108.5725, -6.708612], [108.56916, -6.70834], [108.561226, -6.720379], [108.55954800000012, -6.72635], [108.553819, -6.732869], [108.538612, -6.73948], [108.52561, -6.750039999999899], [108.529931, -6.77001], [108.528618, -6.78683], [108.5373, -6.790259], [108.543763, -6.78727], [108.551148, -6.77913], [108.561112, -6.75377], [108.569429, -6.74442], [108.577941, -6.74039], [108.583892, -6.7325]]], \"type\": \"Polygon\"}, \"id\": \"74\", \"properties\": {\"NAME\": \"KOTA CIREBON\"}, \"type\": \"Feature\"}, {\"geometry\": {\"coordinates\": [[[106.98464300000012, -6.37687], [107.00470800000011, -6.36627], [107.01071900000011, -6.35476], [107.0217970000001, -6.353249], [107.023842, -6.348859], [107.026741, -6.32832], [107.04004, -6.3246], [107.043342, -6.32074], [107.045737, -6.30647], [107.044518, -6.28467], [107.03115800000012, -6.27945], [107.01883700000013, -6.282739], [107.024063, -6.26364], [107.029168, -6.25692], [107.039429, -6.25136], [107.04252600000012, -6.24644], [107.04432, -6.22932], [107.040124, -6.22128], [107.032639, -6.21721], [107.03829200000013, -6.203758], [107.035798, -6.196349], [107.02869, -6.19292], [107.023728, -6.19383], [107.012223, -6.18517], [107.01204, -6.16734], [106.983642, -6.16504], [106.972946, -6.17417], [106.971572, -6.19429], [106.968461, -6.20337], [106.95539, -6.22271], [106.947678, -6.24026], [106.945259, -6.25538], [106.92562900000013, -6.258867999999893], [106.90916, -6.26396], [106.90772, -6.27448], [106.9120410000001, -6.27798], [106.911811, -6.29769], [106.922227, -6.3067], [106.922113, -6.32118], [106.91653, -6.33044], [106.91621, -6.35905], [106.909447, -6.37546], [106.904, -6.39232], [106.900627, -6.3985], [106.9031, -6.4052], [106.910117, -6.40437], [106.921928, -6.404310999999893], [106.927596, -6.40195], [106.9329, -6.393028999999899], [106.9404, -6.38827], [106.946098, -6.36557], [106.94641, -6.3531], [106.950431, -6.34221], [106.95786, -6.3334], [106.961373, -6.30684], [106.966843, -6.30304], [106.97198500000013, -6.303429], [106.98026, -6.31456], [106.977721, -6.3233], [106.97887, -6.33261], [106.97155800000013, -6.352120999999897], [106.969803, -6.36096], [106.971802, -6.367571], [106.98464300000012, -6.37687]]], \"type\": \"Polygon\"}, \"id\": \"75\", \"properties\": {\"NAME\": \"KOTA BEKASI\"}, \"type\": \"Feature\"}, {\"geometry\": {\"coordinates\": [[[106.842553, -6.34836], [106.837014, -6.354491], [106.819702, -6.35617], [106.8121, -6.362571], [106.801567, -6.36402], [106.794602, -6.36169], [106.794602, -6.35215], [106.800819, -6.33466], [106.808418, -6.31867], [106.805024, -6.31454], [106.779587, -6.31729], [106.77595, -6.31675], [106.773827, -6.33098], [106.771104, -6.33789], [106.771302, -6.347078999999894], [106.767403, -6.36123], [106.7617, -6.36268], [106.742508, -6.360531], [106.724502, -6.36075], [106.7229, -6.36836], [106.724197, -6.38444], [106.7318, -6.40486], [106.733001, -6.41262], [106.7409, -6.42593], [106.742095, -6.43818], [106.7403, -6.45318], [106.751098, -6.448779], [106.7677, -6.44548], [106.785895, -6.44351], [106.7949, -6.455149], [106.8003, -6.457578999999896], [106.819198, -6.455868999999893], [106.820602, -6.43723], [106.826995, -6.44139], [106.836501, -6.44245], [106.846199, -6.43945], [106.846703, -6.45028], [106.850999, -6.46086], [106.857002, -6.462691], [106.862, -6.45294], [106.8678, -6.44922], [106.875397, -6.449699999999893], [106.883301, -6.43418], [106.890503, -6.42744], [106.8936010000001, -6.4136], [106.89980200000014, -6.41392], [106.9032, -6.418], [106.90960000000013, -6.41473], [106.910117, -6.40437], [106.9031, -6.4052], [106.900627, -6.3985], [106.904, -6.39232], [106.909447, -6.37546], [106.90316800000011, -6.37674], [106.88289500000013, -6.36609], [106.879326, -6.36173], [106.862702, -6.35752], [106.85905, -6.34946], [106.846297, -6.34686], [106.842553, -6.34836]]], \"type\": \"Polygon\"}, \"id\": \"76\", \"properties\": {\"NAME\": \"KOTA DEPOK\"}, \"type\": \"Feature\"}, {\"geometry\": {\"coordinates\": [[[107.561219, -6.896149], [107.549801, -6.87888], [107.546456, -6.87638], [107.550404, -6.871949], [107.541993, -6.867177], [107.530146, -6.866631], [107.526412, -6.868506], [107.524867, -6.872596], [107.522938, -6.872118], [107.521222, -6.873992], [107.525342, -6.876038], [107.52418, -6.877347], [107.53006, -6.879967], [107.528431, -6.883196], [107.523796, -6.880128], [107.522938, -6.882173], [107.526028, -6.885923], [107.529289, -6.887286], [107.527163, -6.889766], [107.526886, -6.889501], [107.526199, -6.88899], [107.524826, -6.890865], [107.532722, -6.897682], [107.533665, -6.900055], [107.536154, -6.899459], [107.538986, -6.89899], [107.543149, -6.898138], [107.544395, -6.901261], [107.550232, -6.899217], [107.55006, -6.905693], [107.557957, -6.899557], [107.561219, -6.896149]]], \"type\": \"Polygon\"}, \"id\": \"77\", \"properties\": {\"NAME\": \"KOTA CIMAHI\"}, \"type\": \"Feature\"}, {\"geometry\": {\"coordinates\": [[[108.198859, -7.27629], [108.18828600000012, -7.27399], [108.182746, -7.2752], [108.16448300000013, -7.27395], [108.166496, -7.283141], [108.163239, -7.28436], [108.164269, -7.2913], [108.14629, -7.292728999999895], [108.1501090000001, -7.30545], [108.15814300000011, -7.31739], [108.15569, -7.33358], [108.16047, -7.33758], [108.163239, -7.34677], [108.16274, -7.35299], [108.17711, -7.3955], [108.175813, -7.40093], [108.17945, -7.407259999999894], [108.183006, -7.42948], [108.187119, -7.44075], [108.1914220000001, -7.444909], [108.199372, -7.44668], [108.203743, -7.44019], [108.212571, -7.43746], [108.21858300000014, -7.431629], [108.224823, -7.43564], [108.23536, -7.43611], [108.24415, -7.43284], [108.255127, -7.43382], [108.26095, -7.43164], [108.26798300000013, -7.41807], [108.267746, -7.4017], [108.26371, -7.3955], [108.26485, -7.38919], [108.27468, -7.373379], [108.27609200000012, -7.36331], [108.280136, -7.35692], [108.276482, -7.350058], [108.279823, -7.34356], [108.288972, -7.3326], [108.279105, -7.33132], [108.273086, -7.31811], [108.25634, -7.31924], [108.252777, -7.31411], [108.24508, -7.31207], [108.22898, -7.30077], [108.228417, -7.297389999999893], [108.21282100000013, -7.28953], [108.20221, -7.28259], [108.198859, -7.27629]]], \"type\": \"Polygon\"}, \"id\": \"78\", \"properties\": {\"NAME\": \"KOTA TASIKMALAYA\"}, \"type\": \"Feature\"}, {\"geometry\": {\"coordinates\": [[[108.654092, -7.34747], [108.653075, -7.3432], [108.64231100000012, -7.345], [108.63411000000013, -7.34357], [108.629632, -7.34641], [108.6222, -7.34579], [108.6201850000001, -7.34964], [108.614432, -7.34989], [108.613151, -7.34586], [108.598923, -7.35043], [108.58969900000011, -7.346371], [108.581688, -7.34891], [108.58007, -7.34282], [108.57296800000012, -7.33536], [108.56397900000013, -7.33676], [108.557862, -7.330791], [108.56199, -7.319849], [108.560936, -7.31324], [108.558609, -7.31704], [108.534546, -7.3381], [108.52285, -7.3535], [108.516265, -7.35304], [108.498016, -7.3554], [108.48266, -7.3546], [108.47107, -7.35635], [108.473069, -7.36421], [108.464675, -7.37622], [108.464158, -7.38273], [108.46811, -7.3938], [108.475562, -7.40375], [108.486473, -7.39451], [108.496758, -7.41108], [108.50167, -7.41378], [108.512528, -7.41488], [108.517487, -7.41907], [108.523552, -7.41898], [108.542282, -7.40536], [108.559708, -7.423829999999896], [108.56431600000013, -7.426669], [108.572608, -7.42123], [108.579917, -7.40544], [108.58487, -7.398618], [108.590606, -7.38496], [108.599121, -7.38333], [108.611672, -7.38516], [108.628007, -7.38186], [108.6364, -7.37514], [108.649246, -7.368561], [108.652877, -7.35746], [108.654092, -7.34747]]], \"type\": \"Polygon\"}, \"id\": \"79\", \"properties\": {\"NAME\": \"KOTA BANJAR\"}, \"type\": \"Feature\"}, {\"geometry\": {\"coordinates\": [[[107.253068, -7.1969], [107.257339, -7.20318], [107.269043, -7.20423], [107.283691, -7.20782], [107.308023, -7.20404], [107.318336, -7.20065], [107.33559, -7.20723], [107.341752, -7.20579], [107.35456, -7.21854], [107.351463, -7.228159], [107.356757, -7.23651], [107.383179, -7.247949], [107.39125, -7.25377], [107.399667, -7.255969], [107.413629, -7.25667], [107.427276, -7.25317], [107.433425, -7.25537], [107.44262, -7.25272], [107.453292, -7.25613], [107.462967, -7.249979], [107.473839, -7.25082], [107.484307, -7.257478], [107.489617, -7.258239], [107.5091, -7.25105], [107.524438, -7.25089], [107.535797, -7.24923], [107.542717, -7.25529], [107.55713, -7.253569], [107.570397, -7.26257], [107.58159, -7.27733], [107.59497, -7.28374], [107.600053, -7.28829], [107.60126, -7.29959], [107.605712, -7.30795], [107.610671, -7.30962], [107.618156, -7.307031], [107.625832, -7.30105], [107.632576, -7.300879], [107.64347, -7.29588], [107.65545, -7.28172], [107.664147, -7.27977], [107.669587, -7.2921], [107.67892, -7.29182], [107.683023, -7.29793], [107.696747, -7.295929], [107.712257, -7.30182], [107.718727, -7.31001], [107.723053, -7.30834], [107.727737, -7.29466], [107.721237, -7.29537], [107.722169, -7.28869], [107.73438, -7.27453], [107.736343, -7.267561], [107.733223, -7.26272], [107.712569, -7.24916], [107.70687, -7.23853], [107.70668, -7.227489], [107.708968, -7.2224], [107.722923, -7.2119], [107.721175, -7.19507], [107.732879, -7.17895], [107.738839, -7.16783], [107.748673, -7.170319], [107.7549, -7.16958], [107.75852, -7.15737], [107.773627, -7.15364], [107.779877, -7.15849], [107.78753, -7.156991], [107.795646, -7.15176], [107.8085, -7.13494], [107.807687, -7.121], [107.809348, -7.10493], [107.80807, -7.09813], [107.81067, -7.09508], [107.821906, -7.092149], [107.826752, -7.08812], [107.83458, -7.06987], [107.837983, -7.06566], [107.85251, -7.05869], [107.875785, -7.05256], [107.896377, -7.05022], [107.910218, -7.05288], [107.921571, -7.05151], [107.926986, -7.04783], [107.930901, -7.03579], [107.925712, -7.03405], [107.91124, -7.03335], [107.90899, -7.02932], [107.905694, -7.005749], [107.907937, -6.99978], [107.905487, -6.99133], [107.898934, -6.98462], [107.89692, -6.97928], [107.905838, -6.96799], [107.914544, -6.96492], [107.916153, -6.94796], [107.908372, -6.95074], [107.894784, -6.95158], [107.88742, -6.95786], [107.877572, -6.96058], [107.864387, -6.96142], [107.855056, -6.96495], [107.83802, -6.96688], [107.829505, -6.96351], [107.808838, -6.96351], [107.770897, -6.95164], [107.759551, -6.94437], [107.755866, -6.92931], [107.758056, -6.91988], [107.758453, -6.89643], [107.748208, -6.88254], [107.738586, -6.873719], [107.741241, -6.84175], [107.744461, -6.83433], [107.741182, -6.81951], [107.74429, -6.81013], [107.728813, -6.80827], [107.72385, -6.80552], [107.718207, -6.823455], [107.721299, -6.82925], [107.710998, -6.833002], [107.703444, -6.83948], [107.694173, -6.835391], [107.692112, -6.829255], [107.662243, -6.830623], [107.641644, -6.850394], [107.628692, -6.85605], [107.627952, -6.87061], [107.63433, -6.87661], [107.635247, -6.88675], [107.638625, -6.89244], [107.65128, -6.893981], [107.652778, -6.90221], [107.657227, -6.904588], [107.66463, -6.89592], [107.670303, -6.902229], [107.67922, -6.90333], [107.689796, -6.9161], [107.697732, -6.91816], [107.6998, -6.91558], [107.699416, -6.9037], [107.706498, -6.89989], [107.70919, -6.90578], [107.706596, -6.912079], [107.728081, -6.90705], [107.73621, -6.911929], [107.729898, -6.91689], [107.717469, -6.9225], [107.721467, -6.92902], [107.718536, -6.94204], [107.712517, -6.94956], [107.710616, -6.96055], [107.705627, -6.96494], [107.687043, -6.97131], [107.676133, -6.972511], [107.658943, -6.971629], [107.651466, -6.96868], [107.635612, -6.96998], [107.619758, -6.96302], [107.612556, -6.96426], [107.60567, -6.968579], [107.596124, -6.97085], [107.588174, -6.96952], [107.5745, -6.96076], [107.56309, -6.949569], [107.55817, -6.94093], [107.549548, -6.94351], [107.543963, -6.941252], [107.531928, -6.941695], [107.525971, -6.944197], [107.523679, -6.951248], [107.517722, -6.955797], [107.521617, -6.957162], [107.51818, -6.958982], [107.51818, -6.963531], [107.513632, -6.963418], [107.507844, -6.970268], [107.508067, -6.97513], [107.503615, -6.982201], [107.497604, -6.977119], [107.488254, -6.978666], [107.485583, -6.987062], [107.48726, -6.99428], [107.485427, -6.999965], [107.477637, -7.002922], [107.473741, -7.007471], [107.476491, -7.012247], [107.474658, -7.01816], [107.477866, -7.019979], [107.478553, -7.022481], [107.480853, -7.022596], [107.479731, -7.034859], [107.475238, -7.040063], [107.474624, -7.051361], [107.477126, -7.057314], [107.471126, -7.053842], [107.452628, -7.050868], [107.44713, -7.047874], [107.430634, -7.052838], [107.418639, -7.062762], [107.420642, -7.074666], [107.407148, -7.089053], [107.406654, -7.10939], [107.390782, -7.119542], [107.365664, -7.115347], [107.344169, -7.108403], [107.31857, -7.111921], [107.309417, -7.12505], [107.298058, -7.12884], [107.290863, -7.12849], [107.287681, -7.132059], [107.287057, -7.14312], [107.284285, -7.15504], [107.27791, -7.167349], [107.25796, -7.18855], [107.253068, -7.1969]]], \"type\": \"Polygon\"}, \"id\": \"04\", \"properties\": {\"NAME\": \"KABUPATEN BANDUNG\"}, \"type\": \"Feature\"}, {\"geometry\": {\"coordinates\": [[[107.17640000000011, -6.49412], [107.1481940000001, -6.47626], [107.11531000000014, -6.459378999999899], [107.078926, -6.435379999999896], [107.071396, -6.42919], [107.05945600000013, -6.41588], [107.052085, -6.404919], [107.045097, -6.400801], [107.01599900000014, -6.39408], [107.007202, -6.39031], [106.98464300000012, -6.37687], [106.971802, -6.367571], [106.969803, -6.36096], [106.97155800000013, -6.352120999999897], [106.97887, -6.33261], [106.977721, -6.3233], [106.98026, -6.31456], [106.97198500000013, -6.303429], [106.966843, -6.30304], [106.961373, -6.30684], [106.95786, -6.3334], [106.950431, -6.34221], [106.94641, -6.3531], [106.946098, -6.36557], [106.9404, -6.38827], [106.9329, -6.393028999999899], [106.927596, -6.40195], [106.921928, -6.404310999999893], [106.910117, -6.40437], [106.90960000000013, -6.41473], [106.9032, -6.418], [106.89980200000014, -6.41392], [106.8936010000001, -6.4136], [106.890503, -6.42744], [106.883301, -6.43418], [106.875397, -6.449699999999893], [106.8678, -6.44922], [106.862, -6.45294], [106.857002, -6.462691], [106.850999, -6.46086], [106.846703, -6.45028], [106.846199, -6.43945], [106.836501, -6.44245], [106.826995, -6.44139], [106.820602, -6.43723], [106.819198, -6.455868999999893], [106.8003, -6.457578999999896], [106.7949, -6.455149], [106.785895, -6.44351], [106.7677, -6.44548], [106.751098, -6.448779], [106.7403, -6.45318], [106.742095, -6.43818], [106.7409, -6.42593], [106.733001, -6.41262], [106.7318, -6.40486], [106.724197, -6.38444], [106.7229, -6.36836], [106.724502, -6.36075], [106.71325700000011, -6.35916], [106.675004, -6.359649], [106.6688, -6.358701], [106.652466, -6.362279], [106.64032700000013, -6.36122], [106.623977, -6.362172], [106.5991, -6.361759], [106.59525, -6.36367], [106.58914900000013, -6.35903], [106.58772, -6.35248], [106.57769900000011, -6.34261], [106.55761, -6.34036], [106.548546, -6.33611], [106.532098, -6.33363], [106.51955, -6.32599], [106.51328, -6.32879], [106.516297, -6.333259], [106.53088, -6.33834], [106.532586, -6.34953], [106.528588, -6.35502], [106.52117, -6.354169999999897], [106.4981, -6.355368], [106.495536, -6.35213], [106.49384, -6.33608], [106.49087, -6.32406], [106.485802, -6.31675], [106.47228200000012, -6.31181], [106.4665, -6.31338], [106.457901, -6.32408], [106.446701, -6.33352], [106.4364, -6.346290999999894], [106.428001, -6.348768], [106.4319, -6.35717], [106.43499700000012, -6.37609], [106.443704, -6.39886], [106.443902, -6.40658], [106.453103, -6.40979], [106.45829700000013, -6.4218], [106.4555, -6.422911], [106.455398, -6.43154], [106.450799, -6.43931], [106.441003, -6.449611], [106.4358, -6.45272], [106.417801, -6.45089], [106.40489900000011, -6.45314], [106.4041, -6.45912], [106.4077, -6.47304], [106.398698, -6.50532], [106.4012, -6.51683], [106.4018, -6.52988], [106.4124, -6.54041], [106.415901, -6.547999], [106.418198, -6.56341], [106.431396, -6.58377], [106.430603, -6.60345], [106.427299, -6.61179], [106.4263, -6.63073], [106.430298, -6.65907], [106.426398, -6.67547], [106.429398, -6.69578], [106.433502, -6.70251], [106.441101, -6.70112], [106.456497, -6.71647], [106.4682, -6.73068], [106.47820300000012, -6.72792], [106.487999, -6.74021], [106.495201, -6.753151], [106.499702, -6.75516], [106.511497, -6.76596], [106.52557, -6.76662], [106.525299, -6.75748], [106.5306, -6.75413], [106.54508, -6.75168], [106.548104, -6.74708], [106.55650300000013, -6.742340999999897], [106.563331, -6.72848], [106.573517, -6.721441], [106.5832, -6.724579], [106.58940200000012, -6.740251], [106.59410200000013, -6.74553], [106.605422, -6.749529], [106.620323, -6.748289], [106.63143200000013, -6.75357], [106.658599, -6.74618], [106.667488, -6.742028], [106.6723, -6.73367], [106.68129, -6.735878999999898], [106.685798, -6.743359], [106.69310000000013, -6.74271], [106.695503, -6.736989], [106.70813, -6.73072], [106.713936, -6.72502], [106.73950100000013, -6.712539], [106.746872, -6.716718999999898], [106.75791900000013, -6.732549], [106.7713480000001, -6.7481], [106.783028, -6.753939], [106.795798, -6.7542], [106.808005, -6.763309], [106.828957, -6.76469], [106.84555, -6.77316], [106.86020000000013, -6.77439], [106.899697, -6.78516], [106.906922, -6.78515], [106.92276, -6.780569], [106.935601, -6.76433], [106.942208, -6.75966], [106.95199700000012, -6.75659], [106.960008, -6.76358], [106.966499, -6.75276], [106.980896, -6.74134], [106.984101, -6.735469], [106.987747, -6.70931], [106.990113, -6.70316], [106.99630100000013, -6.69831], [107.00127, -6.6902], [107.001397, -6.68554], [106.995102, -6.678310999999894], [106.99179900000013, -6.670031], [107.000604, -6.664561], [107.01429000000013, -6.66505], [107.04000100000013, -6.65711], [107.0541, -6.65707], [107.06244, -6.66226], [107.084198, -6.665859999999896], [107.100113, -6.66393], [107.119057, -6.66365], [107.1252, -6.66806], [107.14221, -6.66578], [107.1508, -6.660529], [107.151002, -6.65323], [107.15989700000011, -6.645621], [107.169196, -6.644851], [107.181526, -6.64747], [107.190857, -6.64359], [107.205986, -6.62884], [107.21958100000012, -6.61116], [107.223923, -6.59998], [107.222908, -6.58018], [107.211166, -6.58716], [107.204322, -6.58878], [107.200204, -6.59349], [107.192063, -6.56927], [107.18679800000012, -6.55951], [107.178643, -6.5497], [107.176697, -6.54373], [107.177002, -6.53022], [107.17529900000011, -6.52396], [107.164421, -6.5072], [107.16563, -6.49961], [107.17640000000011, -6.49412]], [[106.76735700000012, -6.54053], [106.765999, -6.53353], [106.766938, -6.52216], [106.769996, -6.5153], [106.77842, -6.51907], [106.788391, -6.51737], [106.790497, -6.52671], [106.80475, -6.53602], [106.817231, -6.53969], [106.82209000000012, -6.536879], [106.82800300000014, -6.53983], [106.82775, -6.54879], [106.83219800000012, -6.564089], [106.83141400000011, -6.580848], [106.8264, -6.593], [106.82229600000011, -6.59121], [106.8205, -6.59746], [106.825286, -6.62514], [106.83131, -6.62476], [106.839341, -6.63332], [106.840317, -6.64408], [106.845497, -6.650910999999894], [106.84088200000014, -6.662329], [106.838897, -6.67191], [106.8312, -6.67712], [106.828796, -6.67416], [106.82083200000011, -6.67451], [106.80563, -6.66353], [106.803048, -6.654539], [106.794998, -6.65847], [106.784637, -6.660409999999899], [106.776298, -6.64839], [106.786666, -6.636279], [106.776483, -6.61031], [106.77494000000013, -6.60224], [106.766801, -6.59918], [106.75974200000013, -6.58957], [106.753586, -6.5869], [106.753096, -6.59641], [106.744598, -6.59796], [106.750801, -6.57598], [106.744301, -6.57604], [106.741997, -6.56476], [106.748543, -6.5604], [106.76735700000012, -6.54053]]], \"type\": \"Polygon\"}, \"id\": \"01\", \"properties\": {\"NAME\": \"KABUPATEN BOGOR\"}, \"type\": \"Feature\"}, {\"geometry\": {\"coordinates\": [[[106.960008, -6.76358], [106.95199700000012, -6.75659], [106.942208, -6.75966], [106.935601, -6.76433], [106.92276, -6.780569], [106.906922, -6.78515], [106.899697, -6.78516], [106.86020000000013, -6.77439], [106.84555, -6.77316], [106.828957, -6.76469], [106.808005, -6.763309], [106.795798, -6.7542], [106.783028, -6.753939], [106.7713480000001, -6.7481], [106.75791900000013, -6.732549], [106.746872, -6.716718999999898], [106.73950100000013, -6.712539], [106.713936, -6.72502], [106.70813, -6.73072], [106.695503, -6.736989], [106.69310000000013, -6.74271], [106.685798, -6.743359], [106.68129, -6.735878999999898], [106.6723, -6.73367], [106.667488, -6.742028], [106.658599, -6.74618], [106.63143200000013, -6.75357], [106.620323, -6.748289], [106.605422, -6.749529], [106.59410200000013, -6.74553], [106.58940200000012, -6.740251], [106.5832, -6.724579], [106.573517, -6.721441], [106.563331, -6.72848], [106.55650300000013, -6.742340999999897], [106.548104, -6.74708], [106.54508, -6.75168], [106.5306, -6.75413], [106.525299, -6.75748], [106.52557, -6.76662], [106.511497, -6.76596], [106.502091, -6.774197999999899], [106.494203, -6.776339], [106.490768, -6.78065], [106.487456, -6.79458], [106.45670400000012, -6.80529], [106.4487, -6.81675], [106.438407, -6.81564], [106.434302, -6.82061], [106.435638, -6.82639], [106.43355, -6.84074], [106.429261, -6.85254], [106.427567, -6.86508], [106.420457, -6.87487], [106.4187, -6.88108], [106.407997, -6.88609], [106.397797, -6.8968], [106.3914, -6.90002], [106.390602, -6.90497], [106.395402, -6.91187], [106.397697, -6.92671], [106.3887, -6.93414], [106.38810000000012, -6.94397], [106.394363, -6.95743], [106.39039700000012, -6.96854], [106.39305900000011, -6.97659], [106.396667, -6.97889], [106.41417, -6.976112], [106.41556, -6.963889], [106.42917000000011, -6.95778], [106.434448, -6.958056], [106.44021, -6.952566], [106.45138400000013, -6.95389], [106.456948, -6.9575], [106.46, -6.955], [106.47862, -6.96361], [106.488053, -6.96111], [106.497222, -6.96417], [106.505279, -6.96333], [106.51638800000012, -6.967221], [106.528893, -6.97639], [106.533333, -6.98139], [106.543054, -6.98556], [106.540772, -7.00814], [106.5411140000001, -7.0175], [106.544724, -7.02805], [106.54777600000011, -7.02861], [106.54583, -7.03972], [106.5426, -7.04547], [106.54404, -7.05598], [106.5293, -7.06495], [106.522491, -7.078759], [106.51200000000011, -7.08698], [106.511093, -7.09072], [106.498834, -7.099673], [106.484323, -7.10329], [106.481567, -7.11162], [106.47, -7.11944], [106.46629200000012, -7.12724], [106.457725, -7.1286], [106.458053, -7.13278], [106.452225, -7.14333], [106.448891, -7.15333], [106.45807600000012, -7.16677], [106.465194, -7.17072], [106.465896, -7.17724], [106.460572, -7.18357], [106.45440700000012, -7.18684], [106.448189, -7.18596], [106.44005, -7.19043], [106.43383100000011, -7.184504], [106.424165, -7.19055], [106.41417, -7.18639], [106.406944, -7.188333], [106.400557, -7.18639], [106.39555200000012, -7.199166], [106.399169, -7.20583], [106.394996, -7.21167], [106.38944, -7.21194], [106.388337, -7.21806], [106.39083, -7.22861], [106.379997, -7.23944], [106.37861, -7.246103], [106.384902, -7.26222], [106.382058, -7.271419], [106.37040700000011, -7.280021], [106.37816, -7.29491], [106.37274100000013, -7.30681], [106.380729, -7.31865], [106.385682, -7.31829], [106.397064, -7.33042], [106.39980300000013, -7.34663], [106.40243, -7.347325999999896], [106.40360900000013, -7.35667], [106.399445, -7.36778], [106.400557, -7.37333], [106.405282, -7.37444], [106.406112, -7.36972], [106.41417, -7.36333], [106.424156, -7.36], [106.443886, -7.36083], [106.449723, -7.36667], [106.459168, -7.36833], [106.467781, -7.37222], [106.47361100000012, -7.37167], [106.49028, -7.37694], [106.494424, -7.38362], [106.504753, -7.39328], [106.51566, -7.39882], [106.523278, -7.40796], [106.53306, -7.40833], [106.53616, -7.41078], [106.559525, -7.41681], [106.576249, -7.418123], [106.58194, -7.41311], [106.606673, -7.414832], [106.613609, -7.41667], [106.663964, -7.423273], [106.67972700000013, -7.421667], [106.684647, -7.425292999999897], [106.747428, -7.431573999999898], [106.776109, -7.43572], [106.79139, -7.43639], [106.789016, -7.43166], [106.793214, -7.42832], [106.790276, -7.41422], [106.779838, -7.41569], [106.77309, -7.409291], [106.77198800000014, -7.40307], [106.778153, -7.39662], [106.790734, -7.392308999999898], [106.796769, -7.38529], [106.80547300000012, -7.3808], [106.811814, -7.37401], [106.819474, -7.360189], [106.836137, -7.353928], [106.84969300000012, -7.35405], [106.85942, -7.35158], [106.87285600000013, -7.354649], [106.874413, -7.34947], [106.888817, -7.34481], [106.890717, -7.339918999999895], [106.89989, -7.33785], [106.904281, -7.345689], [106.906594, -7.34489], [106.90513, -7.334919999999897], [106.90882, -7.32392], [106.919936, -7.32266], [106.927391, -7.327219], [106.9318760000001, -7.31835], [106.938851, -7.31369], [106.952582, -7.31364], [106.960067, -7.30783], [106.96721, -7.29758], [106.97014500000012, -7.28382], [106.96932900000013, -7.27033], [106.967308, -7.26567], [106.95819100000011, -7.25719], [106.964867, -7.24429], [106.969537, -7.243199], [106.977783, -7.23606], [106.97993, -7.22631], [106.978813, -7.21745], [106.9730990000001, -7.211], [106.970841, -7.2008], [106.964951, -7.189391], [106.97049, -7.1849], [106.96718700000014, -7.17591], [106.961662, -7.17521], [106.956047, -7.160341], [106.9632, -7.147668999999894], [106.958809, -7.1396], [106.944106, -7.13106], [106.938278, -7.124549], [106.935967, -7.11763], [106.936653, -7.10519], [106.9437870000001, -7.0852], [106.943885, -7.07351], [106.954216, -7.06741], [106.955468, -7.06352], [106.951028, -7.05519], [106.952348, -7.04292], [106.95731, -7.03216], [106.9652630000001, -7.02415], [106.976547, -7.01627], [106.986184, -7.0157], [106.993737, -7.02902], [107.01629, -7.0325], [107.023728, -7.03694], [107.0386, -7.040659], [107.043388, -7.03995], [107.050941, -7.02872], [107.05676, -7.02467], [107.05565600000011, -7.01974], [107.0465400000001, -7.00004], [107.03394, -6.98763], [107.031402, -6.98034], [107.04084, -6.96026], [107.045035, -6.95795], [107.065192, -6.97583], [107.067964, -6.973360999999898], [107.064796, -6.96566], [107.048789, -6.94501], [107.046647, -6.936329], [107.048317, -6.918051], [107.04475, -6.905869], [107.031051, -6.89148], [107.03433300000012, -6.8825], [107.02103, -6.8577], [107.001976, -6.842399], [106.997247, -6.83482], [106.991836, -6.81259], [106.99098, -6.80179], [106.988198, -6.79459], [106.977676, -6.78486], [106.963173, -6.7688], [106.960008, -6.76358]], [[106.906409, -6.90913], [106.92270700000012, -6.907129], [106.93354000000011, -6.90774], [106.9372780000001, -6.90382], [106.94073, -6.94164], [106.960395, -6.936489], [106.962884, -6.94882], [106.955773, -6.97593], [106.951798, -6.97772], [106.93514, -6.97757], [106.923972, -6.981629], [106.9015, -6.979061], [106.89689, -6.976648999999895], [106.883057, -6.97596], [106.86172, -6.98176], [106.854263, -6.984888999999896], [106.84866, -6.9794], [106.848601, -6.97464], [106.855582, -6.97143], [106.855523, -6.966439], [106.861679, -6.9593], [106.87761, -6.958188], [106.89025, -6.95459], [106.898339, -6.94687], [106.88804, -6.92919], [106.885017, -6.92116], [106.892037, -6.921369], [106.892518, -6.91473], [106.897218, -6.89748], [106.90075700000011, -6.89806], [106.906409, -6.90913]]], \"type\": \"Polygon\"}, \"id\": \"02\", \"properties\": {\"NAME\": \"KABUPATEN SUKABUMI\"}, \"type\": \"Feature\"}, {\"geometry\": {\"coordinates\": [[[107.33544100000012, -6.72906], [107.326051, -6.73142], [107.316077, -6.727168], [107.309677, -6.718], [107.306512, -6.709589], [107.286346, -6.703729999999894], [107.27975, -6.698219], [107.26335200000011, -6.69336], [107.26056, -6.68606], [107.265159, -6.683291], [107.275399, -6.66948], [107.275818, -6.65946], [107.281639, -6.64999], [107.26622, -6.63613], [107.256829, -6.63097], [107.240357, -6.61652], [107.23051, -6.60361], [107.223923, -6.59998], [107.21958100000012, -6.61116], [107.205986, -6.62884], [107.190857, -6.64359], [107.181526, -6.64747], [107.169196, -6.644851], [107.15989700000011, -6.645621], [107.151002, -6.65323], [107.1508, -6.660529], [107.14221, -6.66578], [107.1252, -6.66806], [107.119057, -6.66365], [107.100113, -6.66393], [107.084198, -6.665859999999896], [107.06244, -6.66226], [107.0541, -6.65707], [107.04000100000013, -6.65711], [107.01429000000013, -6.66505], [107.000604, -6.664561], [106.99179900000013, -6.670031], [106.995102, -6.678310999999894], [107.001397, -6.68554], [107.00127, -6.6902], [106.99630100000013, -6.69831], [106.990113, -6.70316], [106.987747, -6.70931], [106.984101, -6.735469], [106.980896, -6.74134], [106.966499, -6.75276], [106.960008, -6.76358], [106.963173, -6.7688], [106.977676, -6.78486], [106.988198, -6.79459], [106.99098, -6.80179], [106.991836, -6.81259], [106.997247, -6.83482], [107.001976, -6.842399], [107.02103, -6.8577], [107.03433300000012, -6.8825], [107.031051, -6.89148], [107.04475, -6.905869], [107.048317, -6.918051], [107.046647, -6.936329], [107.048789, -6.94501], [107.064796, -6.96566], [107.067964, -6.973360999999898], [107.065192, -6.97583], [107.045035, -6.95795], [107.04084, -6.96026], [107.031402, -6.98034], [107.03394, -6.98763], [107.0465400000001, -7.00004], [107.05565600000011, -7.01974], [107.05676, -7.02467], [107.050941, -7.02872], [107.043388, -7.03995], [107.0386, -7.040659], [107.023728, -7.03694], [107.01629, -7.0325], [106.993737, -7.02902], [106.986184, -7.0157], [106.976547, -7.01627], [106.9652630000001, -7.02415], [106.95731, -7.03216], [106.952348, -7.04292], [106.951028, -7.05519], [106.955468, -7.06352], [106.954216, -7.06741], [106.943885, -7.07351], [106.9437870000001, -7.0852], [106.936653, -7.10519], [106.935967, -7.11763], [106.938278, -7.124549], [106.944106, -7.13106], [106.958809, -7.1396], [106.9632, -7.147668999999894], [106.956047, -7.160341], [106.961662, -7.17521], [106.96718700000014, -7.17591], [106.97049, -7.1849], [106.964951, -7.189391], [106.970841, -7.2008], [106.9730990000001, -7.211], [106.978813, -7.21745], [106.97993, -7.22631], [106.977783, -7.23606], [106.969537, -7.243199], [106.964867, -7.24429], [106.95819100000011, -7.25719], [106.967308, -7.26567], [106.96932900000013, -7.27033], [106.97014500000012, -7.28382], [106.96721, -7.29758], [106.960067, -7.30783], [106.952582, -7.31364], [106.938851, -7.31369], [106.9318760000001, -7.31835], [106.927391, -7.327219], [106.919936, -7.32266], [106.90882, -7.32392], [106.90513, -7.334919999999897], [106.906594, -7.34489], [106.904281, -7.345689], [106.89989, -7.33785], [106.890717, -7.339918999999895], [106.888817, -7.34481], [106.874413, -7.34947], [106.87285600000013, -7.354649], [106.85942, -7.35158], [106.84969300000012, -7.35405], [106.836137, -7.353928], [106.819474, -7.360189], [106.811814, -7.37401], [106.80547300000012, -7.3808], [106.796769, -7.38529], [106.790734, -7.392308999999898], [106.778153, -7.39662], [106.77198800000014, -7.40307], [106.77309, -7.409291], [106.779838, -7.41569], [106.790276, -7.41422], [106.792792, -7.41776], [106.79389, -7.420001], [106.79667, -7.436666], [106.816026, -7.434259], [106.835578, -7.433356], [106.861884, -7.434164999999894], [106.867698, -7.431205], [106.882752, -7.43506], [106.91689300000013, -7.437788999999896], [106.979264, -7.44468], [106.987633, -7.443918], [107.00904, -7.44786], [107.03587, -7.44794], [107.058938, -7.45129], [107.07768, -7.45181], [107.10112, -7.45568], [107.12844, -7.45792], [107.129676, -7.46106], [107.163842, -7.46892], [107.185882, -7.47537], [107.190665, -7.47528], [107.215095, -7.481239], [107.21675, -7.47924], [107.2314, -7.48333], [107.242165, -7.48793], [107.256469, -7.48908], [107.28737600000011, -7.49323], [107.319557, -7.49329], [107.352516, -7.499369], [107.380866, -7.49861], [107.385094, -7.49977], [107.393395, -7.49481], [107.397896, -7.49531], [107.40700600000014, -7.50197], [107.422112, -7.50438], [107.4221280000001, -7.49888], [107.417168, -7.48672], [107.418426, -7.47468], [107.416863, -7.45895], [107.422385, -7.44968], [107.422479, -7.435891], [107.42687300000011, -7.42658], [107.434127, -7.41628], [107.441514, -7.41144], [107.4707580000001, -7.39826], [107.469308, -7.38375], [107.472838, -7.370109999999897], [107.48063, -7.35801], [107.480446, -7.35201], [107.469711, -7.33265], [107.462211, -7.321928999999898], [107.455278, -7.307], [107.452103, -7.291849], [107.453185, -7.28724], [107.466377, -7.27066], [107.47383900000011, -7.25082], [107.4629670000001, -7.249979], [107.453292, -7.25613], [107.44262, -7.25272], [107.433425, -7.25537], [107.427276, -7.25317], [107.41362900000013, -7.25667], [107.399667, -7.255969], [107.39125, -7.25377], [107.383179, -7.247949], [107.356757, -7.23651], [107.351463, -7.228159], [107.35456, -7.21854], [107.341752, -7.20579], [107.33559, -7.20723], [107.3183360000001, -7.20065], [107.308023, -7.20404], [107.283691, -7.20782], [107.269043, -7.20423], [107.257339, -7.20318], [107.253068, -7.1969], [107.25796, -7.18855], [107.27791, -7.167349], [107.284285, -7.15504], [107.287057, -7.143119999999897], [107.28768100000013, -7.132059], [107.290863, -7.12849], [107.298058, -7.12884], [107.309417, -7.12505], [107.31857, -7.111921], [107.310607, -7.09342], [107.30587800000012, -7.087019], [107.290191, -7.087131], [107.280908, -7.0832], [107.27260500000011, -7.08371], [107.263839, -7.07783], [107.249175, -7.050789999999893], [107.23367300000012, -7.04945], [107.22715, -7.051], [107.218163, -7.05687], [107.205879, -7.05508], [107.195657, -7.05697], [107.188582, -7.05489], [107.185517, -7.0474], [107.188156, -7.0334], [107.193733, -7.017699], [107.194032, -7.012719], [107.18364800000012, -6.999999], [107.188446, -6.99141], [107.18488300000013, -6.98688], [107.18345, -6.97791], [107.190009, -6.96761], [107.203362, -6.95711], [107.213897, -6.95048], [107.21341, -6.93958], [107.229789, -6.937909], [107.241187, -6.93277], [107.251548, -6.92619], [107.261512, -6.92571], [107.277229, -6.92159], [107.286027, -6.91594], [107.29196200000013, -6.90926], [107.30272600000012, -6.90509], [107.312446, -6.89685], [107.317178, -6.887809], [107.32898, -6.88537], [107.33721200000014, -6.88012], [107.33721200000014, -6.87116], [107.344001, -6.86395], [107.343536, -6.85464], [107.33991900000012, -6.85218], [107.328583, -6.853988999999899], [107.32034, -6.84975], [107.3227, -6.84291], [107.31976, -6.83544], [107.318901, -6.82372], [107.312973, -6.8154], [107.317565, -6.80734], [107.313844, -6.79614], [107.301796, -6.78462], [107.293382, -6.78094], [107.290626, -6.77556], [107.29559200000011, -6.77153], [107.294197, -6.76228], [107.2984, -6.7533], [107.302307, -6.755240999999899], [107.30542700000012, -6.74799], [107.30652, -6.73477], [107.31239, -6.73142], [107.31704800000011, -6.74423], [107.308007, -6.75385], [107.310607, -6.75896], [107.32034, -6.75307], [107.320968, -6.761289], [107.32402, -6.765649], [107.32978200000014, -6.762361], [107.336341, -6.7635], [107.33403700000014, -6.756779], [107.342376, -6.75239], [107.34070500000013, -6.74843], [107.329431, -6.74092], [107.32764, -6.73593], [107.33766300000013, -6.73332], [107.33544100000012, -6.72906]]], \"type\": \"Polygon\"}, \"id\": \"03\", \"properties\": {\"Name\": \"KABUPATEN CIANJUR\"}, \"type\": \"Feature\"}, {\"geometry\": {\"coordinates\": [[[108.132309, -7.04115], [108.12026, -7.03652], [108.108147, -7.02849], [108.099373, -7.019249], [108.092492, -7.00615], [108.0898370000001, -6.99758], [108.08233600000011, -6.98987], [108.07153, -6.98313], [108.059196, -6.99426], [108.042098, -6.99574], [108.031486, -6.99157], [108.021333, -6.984], [108.008317, -6.98225], [108.00087800000011, -6.98589], [107.99680300000011, -6.982489], [107.985291, -6.97884], [107.98004900000012, -6.97126], [107.966232, -6.95601], [107.95955700000013, -6.960739], [107.953798, -6.96132], [107.937499, -6.95355], [107.928757, -6.953570999999897], [107.924782, -6.94961], [107.91615300000012, -6.94796], [107.914544, -6.96492], [107.905838, -6.96799], [107.89692, -6.97928], [107.898934, -6.98462], [107.90548700000011, -6.99133], [107.907937, -6.99978], [107.905694, -7.005749], [107.90899, -7.02932], [107.91124, -7.03335], [107.925712, -7.03405], [107.930901, -7.03579], [107.92698600000011, -7.04783], [107.921571, -7.05151], [107.910218, -7.05288], [107.896377, -7.05022], [107.875785, -7.05256], [107.85251, -7.05869], [107.837983, -7.06566], [107.83458, -7.06987], [107.826752, -7.08812], [107.82190600000013, -7.092148999999893], [107.81067, -7.09508], [107.80807, -7.09813], [107.809348, -7.10493], [107.807687, -7.121], [107.8085, -7.13494], [107.795646, -7.15176], [107.78753, -7.156991], [107.779877, -7.15849], [107.773627, -7.15364], [107.75852, -7.15737], [107.7549, -7.16958], [107.748673, -7.170318999999893], [107.738839, -7.16783], [107.732879, -7.17895], [107.72117500000013, -7.19507], [107.722923, -7.2119], [107.708968, -7.2224], [107.70668, -7.227489], [107.70687, -7.23853], [107.712569, -7.24916], [107.733223, -7.26272], [107.736343, -7.267561], [107.73438, -7.27453], [107.72216900000012, -7.28869], [107.721237, -7.29537], [107.727737, -7.29466], [107.723053, -7.30834], [107.718727, -7.31001], [107.71225700000014, -7.30182], [107.696747, -7.295929], [107.683023, -7.297929999999894], [107.67892, -7.29182], [107.669587, -7.2921], [107.66414700000013, -7.27977], [107.65545, -7.28172], [107.64347, -7.29588], [107.632576, -7.300878999999895], [107.625832, -7.30105], [107.61815600000011, -7.307031], [107.610671, -7.30962], [107.605712, -7.30795], [107.60126, -7.29959], [107.60005300000012, -7.28829], [107.59497, -7.28374], [107.58159000000012, -7.27733], [107.570397, -7.26257], [107.55713, -7.253569], [107.542717, -7.25529], [107.535797, -7.24923], [107.524438, -7.25089], [107.5091, -7.25105], [107.489617, -7.258239], [107.48430700000011, -7.257478], [107.47383900000011, -7.25082], [107.466377, -7.27066], [107.453185, -7.28724], [107.452103, -7.291849], [107.455278, -7.307], [107.462211, -7.321928999999898], [107.469711, -7.33265], [107.480446, -7.35201], [107.48063, -7.35801], [107.472838, -7.370109999999897], [107.469308, -7.38375], [107.4707580000001, -7.39826], [107.441514, -7.41144], [107.434127, -7.41628], [107.42687300000011, -7.42658], [107.422479, -7.435891], [107.422385, -7.44968], [107.416863, -7.45895], [107.418426, -7.47468], [107.417168, -7.48672], [107.4221280000001, -7.49888], [107.422112, -7.50438], [107.433425, -7.5069], [107.439538, -7.50623], [107.473716, -7.51858], [107.48097300000012, -7.530842], [107.47889, -7.53348], [107.48293300000012, -7.53937], [107.494773, -7.53425], [107.506303, -7.53926], [107.516336, -7.54117], [107.532745, -7.55107], [107.54802, -7.55294], [107.570358, -7.562921], [107.597366, -7.56942], [107.60528, -7.57333], [107.611474, -7.58414], [107.617775, -7.583055], [107.623909, -7.58965], [107.623252, -7.59534], [107.630935, -7.600953], [107.635199, -7.59972], [107.65361000000013, -7.61014], [107.669938, -7.62325], [107.682519, -7.637989], [107.683068, -7.644826], [107.688226, -7.652327], [107.687813, -7.658982], [107.682068, -7.66192], [107.695961, -7.668723], [107.710251, -7.66643], [107.72390800000011, -7.667009], [107.74208, -7.66965], [107.744659, -7.67159], [107.770553, -7.67722], [107.78633800000011, -7.67902], [107.803618, -7.68684], [107.807967, -7.68704], [107.827301, -7.69843], [107.833977, -7.70498], [107.837562, -7.713703999999893], [107.83406800000012, -7.721288999999899], [107.8356930000001, -7.72702], [107.846879, -7.73731], [107.850555, -7.73417], [107.85583, -7.73778], [107.875703, -7.740448999999899], [107.888229, -7.739660999999899], [107.893312, -7.73581], [107.89887900000014, -7.74151], [107.907349, -7.73691], [107.90964, -7.730992999999899], [107.905694, -7.73078], [107.913147, -7.71061], [107.92018, -7.70141], [107.92457700000011, -7.68577], [107.9207770000001, -7.67393], [107.922692, -7.65632], [107.91853, -7.64842], [107.918808, -7.620538999999894], [107.91227, -7.60587], [107.91314, -7.59495], [107.92148600000013, -7.586029], [107.93065700000011, -7.57907], [107.931861, -7.569681], [107.927642, -7.55873], [107.93490600000013, -7.54612], [107.937379, -7.53754], [107.934197, -7.51962], [107.93396, -7.50729], [107.939888, -7.4922], [107.94252, -7.48073], [107.94085, -7.46817], [107.942657, -7.45453], [107.938874, -7.427959], [107.939147, -7.416609], [107.93199, -7.399949], [107.92553, -7.39367], [107.919351, -7.383978999999897], [107.915656, -7.37453], [107.909997, -7.37078], [107.89338700000013, -7.36748], [107.8908770000001, -7.36123], [107.902961, -7.35436], [107.92049, -7.34821], [107.92359, -7.33778], [107.934021, -7.33001], [107.93499, -7.326409999999896], [107.930901, -7.31613], [107.922943, -7.309959], [107.92178, -7.300909], [107.91756, -7.28869], [107.9193, -7.28423], [107.93595, -7.28151], [107.956252, -7.27559], [107.969674, -7.26713], [107.975196, -7.25596], [107.983811, -7.24908], [108.000611, -7.24523], [108.01690700000012, -7.231881], [108.04281600000013, -7.22332], [108.048416, -7.22435], [108.0626380000001, -7.22219], [108.069703, -7.20148], [108.07361, -7.19572], [108.06895, -7.18786], [108.074501, -7.18245], [108.082658, -7.164019], [108.078133, -7.14194], [108.070922, -7.13598], [108.0696410000001, -7.130749], [108.075622, -7.12119], [108.0879910000001, -7.1099], [108.101593, -7.10412], [108.11357, -7.10571], [108.11923300000012, -7.113919999999894], [108.12252, -7.11368], [108.121246, -7.095999], [108.12293, -7.08487], [108.12119300000012, -7.07533], [108.132117, -7.06507], [108.13961100000012, -7.06287], [108.139878, -7.05574], [108.13294900000011, -7.04552], [108.132309, -7.04115]]], \"type\": \"Polygon\"}, \"id\": \"05\", \"properties\": {\"NAME\": \"KABUPATEN GARUT\"}, \"type\": \"Feature\"}, {\"geometry\": {\"coordinates\": [[[108.13785, -7.04097], [108.132309, -7.04115], [108.13294900000011, -7.04552], [108.139878, -7.05574], [108.13961100000012, -7.06287], [108.132117, -7.06507], [108.12119300000012, -7.07533], [108.12293, -7.08487], [108.121246, -7.095999], [108.12252, -7.11368], [108.11923300000012, -7.113919999999894], [108.11357, -7.10571], [108.101593, -7.10412], [108.0879910000001, -7.1099], [108.075622, -7.12119], [108.0696410000001, -7.130749], [108.070922, -7.13598], [108.078133, -7.14194], [108.082658, -7.164019], [108.074501, -7.18245], [108.06895, -7.18786], [108.07361, -7.19572], [108.069703, -7.20148], [108.0626380000001, -7.22219], [108.048416, -7.22435], [108.04281600000013, -7.22332], [108.01690700000012, -7.231881], [108.000611, -7.24523], [107.983811, -7.24908], [107.975196, -7.25596], [107.969674, -7.26713], [107.956252, -7.27559], [107.93595, -7.28151], [107.9193, -7.28423], [107.91756, -7.28869], [107.92178, -7.300909], [107.922943, -7.309959], [107.930901, -7.31613], [107.93499, -7.326409999999896], [107.934021, -7.33001], [107.92359, -7.33778], [107.92049, -7.34821], [107.902961, -7.35436], [107.8908770000001, -7.36123], [107.89338700000013, -7.36748], [107.909997, -7.37078], [107.915656, -7.37453], [107.919351, -7.383978999999897], [107.92553, -7.39367], [107.93199, -7.399949], [107.939147, -7.416609], [107.938874, -7.427959], [107.942657, -7.45453], [107.94085, -7.46817], [107.94252, -7.48073], [107.939888, -7.4922], [107.93396, -7.50729], [107.934197, -7.51962], [107.937379, -7.53754], [107.93490600000013, -7.54612], [107.927642, -7.55873], [107.931861, -7.569681], [107.93065700000011, -7.57907], [107.92148600000013, -7.586029], [107.91314, -7.59495], [107.91227, -7.60587], [107.918808, -7.620538999999894], [107.91853, -7.64842], [107.922692, -7.65632], [107.9207770000001, -7.67393], [107.92457700000011, -7.68577], [107.92018, -7.70141], [107.913147, -7.71061], [107.905694, -7.73078], [107.90964, -7.730992999999899], [107.940551, -7.73194], [107.950798, -7.73596], [108.00000000000011, -7.745], [108.02554, -7.75221], [108.03826900000013, -7.754279], [108.049004, -7.75847], [108.06305700000013, -7.7675], [108.072219, -7.7675], [108.080276, -7.77194], [108.10228, -7.77173], [108.1251, -7.7806], [108.129822, -7.77838], [108.151451, -7.787039], [108.181, -7.790909], [108.205795, -7.79584], [108.24459900000011, -7.80227], [108.251633, -7.80003], [108.2607650000001, -7.80455], [108.29418, -7.81072], [108.299424, -7.814366], [108.303383, -7.81147], [108.31479000000013, -7.812659], [108.322373, -7.815406], [108.33552500000013, -7.81557], [108.34126, -7.80245], [108.338577, -7.797909], [108.32494, -7.79466], [108.321632, -7.782479], [108.323227, -7.77563], [108.319909, -7.75016], [108.31443, -7.74684], [108.3147, -7.7358], [108.312255, -7.72189], [108.316743, -7.719578999999896], [108.31587200000013, -7.71225], [108.3218920000001, -7.70994], [108.32167, -7.70255], [108.31549200000012, -7.69508], [108.314911, -7.689219], [108.320871, -7.68647], [108.323478, -7.68115], [108.331651, -7.68508], [108.341171, -7.67962], [108.351997, -7.68092], [108.35384, -7.67034], [108.362517, -7.66009], [108.35846, -7.64342], [108.35447, -7.63699], [108.35838300000012, -7.63025], [108.357437, -7.62335], [108.36002, -7.61254], [108.354125, -7.57247], [108.35072300000013, -7.56373], [108.33445, -7.552259], [108.333335, -7.53956], [108.33492, -7.52207], [108.333335, -7.50333], [108.34069000000011, -7.49164], [108.35613300000011, -7.48989], [108.36649, -7.48199], [108.372491, -7.479839], [108.39334, -7.47734], [108.397247, -7.47852], [108.409057, -7.49193], [108.4171070000001, -7.491259999999897], [108.423448, -7.49666], [108.429389, -7.49711], [108.437622, -7.490879], [108.428908, -7.48486], [108.42565800000011, -7.47078], [108.425232, -7.45571], [108.421462, -7.43881], [108.42321, -7.42958], [108.41878, -7.4218], [108.401887, -7.42033], [108.397026, -7.407748], [108.39765200000011, -7.40056], [108.40356, -7.38738], [108.411263, -7.377511], [108.409691, -7.3635], [108.40553, -7.35949], [108.392859, -7.35899], [108.380051, -7.35356], [108.370827, -7.35375], [108.359816, -7.34922], [108.34102700000011, -7.35214], [108.337166, -7.34518], [108.3283990000001, -7.34417], [108.32298300000014, -7.33871], [108.31364, -7.33718], [108.30745800000011, -7.3311], [108.288972, -7.3326], [108.279823, -7.34356], [108.276482, -7.350058], [108.280136, -7.35692], [108.27609200000012, -7.36331], [108.27468, -7.373379], [108.26485, -7.38919], [108.26371, -7.3955], [108.267746, -7.4017], [108.26798300000013, -7.41807], [108.26095, -7.43164], [108.255127, -7.43382], [108.24415, -7.43284], [108.23536, -7.43611], [108.224823, -7.43564], [108.21858300000014, -7.431629], [108.212571, -7.43746], [108.203743, -7.44019], [108.199372, -7.44668], [108.1914220000001, -7.444909], [108.187119, -7.44075], [108.183006, -7.42948], [108.17945, -7.407259999999894], [108.175813, -7.40093], [108.17711, -7.3955], [108.16274, -7.35299], [108.163239, -7.34677], [108.16047, -7.33758], [108.15569, -7.33358], [108.15814300000011, -7.31739], [108.1501090000001, -7.30545], [108.14629, -7.292728999999895], [108.164269, -7.2913], [108.163239, -7.28436], [108.166496, -7.283141], [108.16448300000013, -7.27395], [108.182746, -7.2752], [108.18828600000012, -7.27399], [108.198859, -7.27629], [108.192551, -7.25995], [108.195687, -7.23639], [108.1993, -7.23038], [108.198021, -7.19019], [108.19495, -7.1787], [108.201407, -7.14395], [108.204972, -7.13819], [108.216133, -7.12955], [108.21889, -7.12494], [108.21644500000014, -7.114419], [108.21740000000011, -7.09366], [108.21991600000013, -7.08704], [108.208518, -7.08689], [108.201699, -7.07788], [108.19264, -7.07134], [108.17177600000014, -7.06661], [108.1702130000001, -7.06425], [108.16214, -7.06289], [108.154136, -7.06526], [108.145347, -7.04803], [108.13785, -7.04097]]], \"type\": \"Polygon\"}, \"id\": \"06\", \"properties\": {\"NAME\": \"KABUPATEN TASIKMALAYA\"}, \"type\": \"Feature\"}, {\"geometry\": {\"coordinates\": [[[108.385933, -7.071639], [108.37652, -7.06173], [108.36054, -7.05122], [108.35621, -7.05153], [108.33976, -7.06462], [108.332961, -7.06549], [108.318869, -7.05717], [108.310592, -7.06059], [108.28978, -7.05793], [108.273453, -7.06384], [108.261146, -7.06281], [108.246277, -7.06399], [108.237518, -7.06165], [108.2303, -7.05436], [108.224083, -7.0519], [108.216912, -7.05646], [108.207878, -7.05113], [108.19117, -7.054261], [108.180512, -7.05486], [108.170213, -7.06425], [108.171776, -7.06661], [108.19264, -7.07134], [108.201699, -7.07788], [108.208518, -7.08689], [108.219916, -7.08704], [108.2174, -7.09366], [108.216445, -7.114419], [108.21889, -7.12494], [108.216133, -7.12955], [108.204972, -7.13819], [108.201407, -7.14395], [108.19495, -7.1787], [108.198021, -7.19019], [108.1993, -7.23038], [108.195687, -7.23639], [108.192551, -7.25995], [108.198859, -7.27629], [108.20221, -7.28259], [108.212821, -7.28953], [108.228417, -7.29739], [108.22898, -7.30077], [108.24508, -7.31207], [108.252777, -7.31411], [108.25634, -7.31924], [108.273086, -7.31811], [108.279105, -7.33132], [108.288972, -7.3326], [108.307458, -7.3311], [108.31364, -7.33718], [108.322983, -7.33871], [108.328399, -7.34417], [108.337166, -7.34518], [108.341027, -7.35214], [108.359816, -7.34922], [108.370827, -7.35375], [108.380051, -7.35356], [108.392859, -7.35899], [108.40553, -7.35949], [108.409691, -7.3635], [108.411263, -7.377511], [108.40356, -7.38738], [108.397652, -7.40056], [108.397026, -7.407748], [108.401887, -7.42033], [108.41878, -7.4218], [108.42321, -7.42958], [108.421462, -7.43881], [108.425232, -7.45571], [108.425658, -7.47078], [108.428908, -7.48486], [108.437622, -7.490879], [108.436432, -7.499834], [108.445187, -7.503578], [108.468575, -7.515946], [108.485176, -7.534466], [108.520458, -7.524182], [108.539136, -7.535499], [108.517344, -7.540642], [108.524607, -7.567389], [108.543287, -7.568419], [108.549513, -7.556074], [108.549513, -7.556074], [108.549513, -7.556074], [108.575458, -7.56636], [108.619042, -7.550924], [108.650172, -7.530342], [108.655353, -7.496391], [108.64705, -7.489191], [108.649691, -7.464972], [108.691492, -7.459865], [108.697895, -7.469625], [108.715011, -7.46942], [108.711585, -7.45741], [108.71911, -7.4406], [108.71951, -7.43226], [108.71026, -7.4263], [108.704148, -7.41843], [108.698617, -7.41626], [108.697037, -7.40355], [108.68591, -7.39828], [108.68422, -7.380091], [108.677856, -7.37524], [108.67825, -7.36828], [108.674782, -7.35909], [108.669585, -7.358229], [108.654092, -7.34747], [108.652877, -7.35746], [108.649246, -7.368561], [108.6364, -7.37514], [108.628007, -7.38186], [108.611672, -7.38516], [108.599121, -7.38333], [108.590606, -7.38496], [108.58487, -7.398618], [108.579917, -7.40544], [108.572608, -7.42123], [108.564316, -7.426669], [108.559708, -7.42383], [108.542282, -7.40536], [108.523552, -7.41898], [108.517487, -7.41907], [108.512528, -7.41488], [108.50167, -7.41378], [108.496758, -7.41108], [108.486473, -7.39451], [108.475562, -7.40375], [108.46811, -7.3938], [108.464158, -7.38273], [108.464675, -7.37622], [108.473069, -7.36421], [108.47107, -7.35635], [108.48266, -7.3546], [108.498016, -7.3554], [108.516265, -7.35304], [108.52285, -7.3535], [108.534546, -7.3381], [108.558609, -7.31704], [108.560936, -7.31324], [108.555649, -7.284561], [108.5682, -7.27367], [108.569556, -7.26027], [108.57473, -7.252609], [108.581123, -7.24989], [108.58282, -7.24201], [108.579949, -7.23517], [108.584662, -7.229239], [108.58493, -7.21809], [108.58071, -7.20642], [108.57235, -7.20304], [108.563735, -7.19414], [108.55521, -7.19209], [108.54633, -7.18705], [108.53572, -7.184709], [108.525498, -7.17639], [108.528258, -7.169779], [108.517594, -7.16537], [108.5132, -7.15744], [108.51307, -7.14554], [108.509879, -7.13548], [108.503541, -7.13296], [108.488319, -7.13052], [108.480011, -7.12415], [108.467216, -7.12395], [108.442093, -7.12049], [108.435158, -7.11481], [108.43348, -7.10952], [108.424767, -7.10241], [108.424988, -7.09735], [108.41623, -7.09857], [108.413048, -7.091388], [108.403022, -7.087671], [108.398683, -7.08043], [108.385933, -7.071639]]], \"type\": \"Polygon\"}, \"id\": \"07\", \"properties\": {\"NAME\": \"KABUPATEN CIAMIS\"}, \"type\": \"Feature\"}, {\"geometry\": {\"coordinates\": [[[108.76111, -6.98306], [108.756074, -6.98929], [108.740883, -6.99485], [108.730301, -6.99694], [108.7203980000001, -6.99132], [108.728341, -6.966229], [108.7203530000001, -6.95487], [108.704171, -6.93783], [108.695107, -6.933128999999894], [108.688431, -6.93286], [108.68039, -6.92258], [108.678857, -6.92742], [108.67093, -6.93198], [108.668067, -6.93809], [108.6561430000001, -6.93415], [108.656861, -6.92724], [108.664674, -6.92182], [108.66482, -6.91578], [108.653237, -6.9131], [108.653298, -6.90137], [108.637306, -6.90198], [108.62510800000013, -6.90616], [108.609482, -6.89877], [108.60321, -6.89844], [108.58379, -6.89343], [108.575942, -6.887759], [108.566299, -6.86794], [108.56846, -6.859708999999896], [108.564476, -6.85638], [108.546968, -6.855039], [108.537956, -6.84753], [108.52487100000013, -6.84291], [108.510239, -6.840929], [108.50996, -6.82943], [108.5065770000001, -6.818329], [108.51276, -6.80745], [108.510276, -6.792389999999898], [108.49903100000012, -6.79267], [108.48345300000011, -6.79038], [108.480827, -6.796311], [108.47673, -6.79546], [108.474167, -6.78672], [108.470092, -6.78806], [108.463836, -6.798138], [108.457801, -6.798549], [108.453423, -6.78286], [108.438928, -6.7867], [108.417969, -6.785479999999893], [108.40856, -6.79407], [108.40338200000014, -6.78904], [108.395218, -6.7983], [108.398484, -6.80922], [108.3986670000001, -6.82763], [108.404319, -6.84225], [108.406067, -6.85387], [108.41101, -6.8662], [108.40960600000011, -6.87852], [108.402518, -6.92073], [108.40358, -6.92751], [108.400681, -6.936781], [108.392533, -6.944739], [108.387681, -6.956249], [108.386856, -6.975769999999898], [108.384682, -6.98565], [108.3843240000001, -7.005879], [108.389473, -7.02116], [108.394546, -7.02949], [108.387191, -7.03623], [108.391777, -7.04621], [108.393272, -7.05629], [108.385933, -7.071639], [108.398683, -7.08043], [108.403022, -7.087671], [108.413048, -7.091388], [108.41623, -7.09857], [108.424988, -7.09735], [108.424767, -7.10241], [108.43348, -7.10952], [108.43515800000011, -7.11481], [108.44209300000011, -7.12049], [108.46721600000012, -7.12395], [108.4800110000001, -7.12415], [108.488319, -7.13052], [108.503541, -7.13296], [108.50987900000013, -7.13548], [108.51307, -7.14554], [108.5132, -7.157439999999895], [108.517594, -7.16537], [108.528258, -7.169779], [108.525498, -7.17639], [108.53572, -7.184709], [108.54633, -7.18705], [108.55521, -7.19209], [108.563735, -7.19414], [108.56668000000013, -7.19316], [108.56458, -7.17281], [108.56825, -7.16504], [108.58075, -7.16053], [108.585868, -7.15483], [108.593986, -7.15194], [108.60153900000012, -7.15227], [108.614724, -7.14149], [108.6253650000001, -7.13698], [108.632463, -7.13852], [108.6426, -7.13741], [108.65297700000013, -7.14389], [108.6606, -7.15377], [108.67796, -7.15477], [108.68492, -7.14998], [108.6963740000001, -7.15118], [108.713463, -7.13611], [108.72033, -7.126799], [108.724708, -7.12512], [108.72648, -7.11672], [108.73373, -7.11251], [108.7433, -7.1156], [108.748193, -7.11168], [108.764222, -7.11475], [108.777687, -7.10483], [108.7813, -7.09195], [108.777999, -7.08442], [108.777589, -7.075341], [108.78282, -7.07021], [108.78682600000013, -7.056629], [108.786361, -7.05186], [108.780768, -7.04784], [108.781096, -7.03927], [108.788171, -7.03121], [108.796982, -7.02481], [108.795578, -7.01199], [108.79862300000013, -7.00497], [108.786849, -6.995329], [108.767745, -6.9892], [108.76111, -6.98306]]], \"type\": \"Polygon\"}, \"id\": \"08\", \"properties\": {\"NAME\": \"KABUPATEN KUNINGAN\"}, \"type\": \"Feature\"}, {\"geometry\": {\"coordinates\": [[[108.539239, -6.51575], [108.530731, -6.51737], [108.51920300000012, -6.51401], [108.512466, -6.51592], [108.507796, -6.52801], [108.500054, -6.53378], [108.49801, -6.54115], [108.490593, -6.5422], [108.49223, -6.55151], [108.489723, -6.55547], [108.47326, -6.55972], [108.47006, -6.56715], [108.452468, -6.57289], [108.44883, -6.57037], [108.446731, -6.5319], [108.437553, -6.52352], [108.4362, -6.51754], [108.41078900000014, -6.52819], [108.400337, -6.53563], [108.392449, -6.535999], [108.383499, -6.54378], [108.373382, -6.548471], [108.37029400000011, -6.55348], [108.360398, -6.55799], [108.355377, -6.567661], [108.35191, -6.579859], [108.3480540000001, -6.58004], [108.334671, -6.58882], [108.32997, -6.59447], [108.330049, -6.59953], [108.33685400000013, -6.602039], [108.335717, -6.60572], [108.320953, -6.61646], [108.323533, -6.62749], [108.32933, -6.63927], [108.329529, -6.6456], [108.33492, -6.65507], [108.33393, -6.66819], [108.337166, -6.67359], [108.35522, -6.680271], [108.36239, -6.687149], [108.366332, -6.695019], [108.366531, -6.70262], [108.361077, -6.70867], [108.363372, -6.7185], [108.367652, -6.72516], [108.376137, -6.732209999999895], [108.375107, -6.73778], [108.36628, -6.742471], [108.37305, -6.75361], [108.375686, -6.764990999999895], [108.383811, -6.76659], [108.39005400000013, -6.77186], [108.400139, -6.775689], [108.40338200000014, -6.78904], [108.40856, -6.79407], [108.417969, -6.785479999999893], [108.438928, -6.7867], [108.453423, -6.78286], [108.457801, -6.798549], [108.463836, -6.798138], [108.470092, -6.78806], [108.474167, -6.78672], [108.47673, -6.79546], [108.480827, -6.796311], [108.48345300000011, -6.79038], [108.49903100000012, -6.79267], [108.510276, -6.792389999999898], [108.51276, -6.80745], [108.5065770000001, -6.818329], [108.50996, -6.82943], [108.510239, -6.840929], [108.52487100000013, -6.84291], [108.537956, -6.84753], [108.546968, -6.855039], [108.564476, -6.85638], [108.56846, -6.859708999999896], [108.566299, -6.86794], [108.575942, -6.887759], [108.58379, -6.89343], [108.60321, -6.89844], [108.609482, -6.89877], [108.62510800000013, -6.90616], [108.637306, -6.90198], [108.653298, -6.90137], [108.653237, -6.9131], [108.66482, -6.91578], [108.664674, -6.92182], [108.656861, -6.92724], [108.6561430000001, -6.93415], [108.668067, -6.93809], [108.67093, -6.93198], [108.678857, -6.92742], [108.68039, -6.92258], [108.688431, -6.93286], [108.695107, -6.933128999999894], [108.704171, -6.93783], [108.7203530000001, -6.95487], [108.728341, -6.966229], [108.7203980000001, -6.99132], [108.730301, -6.99694], [108.740883, -6.99485], [108.756074, -6.98929], [108.76111, -6.98306], [108.7622070000001, -6.97052], [108.7608800000001, -6.95408], [108.76325300000013, -6.94096], [108.755821, -6.92545], [108.75497, -6.91349], [108.760498, -6.91273], [108.767358, -6.90104], [108.765161, -6.89638], [108.777108, -6.88957], [108.77749, -6.883469], [108.78444700000011, -6.883399], [108.795646, -6.87566], [108.798851, -6.868], [108.80407, -6.86362], [108.80979100000013, -6.85366], [108.813895, -6.84272], [108.824623, -6.82929], [108.826476, -6.82279], [108.82585200000011, -6.80772], [108.83048300000013, -6.79742], [108.826417, -6.78822], [108.828979, -6.78068], [108.828881, -6.76901], [108.826866, -6.75682], [108.830613, -6.74465], [108.828582, -6.74636], [108.815543, -6.74634], [108.808594, -6.74331], [108.80123, -6.744212], [108.80285, -6.75092], [108.789718, -6.75786], [108.78958200000011, -6.76071], [108.80772, -6.76557], [108.803674, -6.77342], [108.80743, -6.78039], [108.80546, -6.785109], [108.79718, -6.792466], [108.769806, -6.80859], [108.75900200000012, -6.81299], [108.749496, -6.8147], [108.74102, -6.81269], [108.731507, -6.80727], [108.70913, -6.80969], [108.693099, -6.80409], [108.68176, -6.79505], [108.677079, -6.78332], [108.67675800000012, -6.77562], [108.679406, -6.7688], [108.677697, -6.76271], [108.66278, -6.75972], [108.65027600000013, -6.751111], [108.649201, -6.75852], [108.63318700000013, -6.77049], [108.6261060000001, -6.771391], [108.61723, -6.765], [108.6111140000001, -6.76778], [108.60250100000013, -6.76306], [108.597496, -6.75778], [108.594718, -6.749167], [108.583892, -6.7325], [108.577941, -6.74039], [108.569429, -6.74442], [108.561112, -6.75377], [108.551148, -6.77913], [108.543763, -6.78727], [108.5373, -6.790259], [108.528618, -6.78683], [108.529931, -6.77001], [108.52561, -6.750039999999899], [108.538612, -6.73948], [108.553819, -6.732869], [108.55954800000012, -6.72635], [108.561226, -6.720379], [108.56916, -6.70834], [108.561385, -6.685], [108.55666, -6.66], [108.558051, -6.64472], [108.55194100000011, -6.624999], [108.544472, -6.59309], [108.54364, -6.575854], [108.547127, -6.560671], [108.544534, -6.54303], [108.54606700000011, -6.53471], [108.539239, -6.51575]]], \"type\": \"Polygon\"}, \"id\": \"09\", \"properties\": {\"NAME\": \"KABUPATEN CIREBON\"}, \"type\": \"Feature\"}], \"type\": \"FeatureCollection\"}, \"hoverlabel\": {\"namelength\": 0}, \"hovertemplate\": \"<b>%{hovertext}</b><br><br>Id=%{location}<br>Jumlah Pengunjung=%{z}\", \"hovertext\": [\"KABUPATEN BOGOR\", \"KABUPATEN SUKABUMI\", \"KABUPATEN CIANJUR\", \"KABUPATEN BANDUNG\", \"KABUPATEN GARUT\", \"KABUPATEN TASIKMALAYA\", \"KABUPATEN CIAMIS\", \"KABUPATEN KUNINGAN\", \"KABUPATEN CIREBON\", \"KABUPATEN MAJALENGKA\", \"KABUPATEN SUMEDANG\", \"KABUPATEN INDRAMAYU\", \"KABUPATEN SUBANG\", \"KABUPATEN PURWAKARTA\", \"KABUPATEN KARAWANG\", \"KABUPATEN BEKASI\", \"KABUPATEN BANDUNG BARAT\", \"KABUPATEN PANGANDARAN\", \"KOTA BOGOR\", \"KOTA SUKABUMI\", \"KOTA BANDUNG\", \"KOTA CIREBON\", \"KOTA BEKASI\", \"KOTA DEPOK\", \"KOTA CIMAHI\", \"KOTA TASIKMALAYA\", \"KOTA BANJAR\"], \"locations\": [\"01\", \"02\", \"03\", \"04\", \"05\", \"06\", \"07\", \"08\", \"09\", \"10\", \"11\", \"12\", \"13\", \"14\", \"15\", \"16\", \"17\", \"18\", \"71\", \"72\", \"73\", \"74\", \"75\", \"76\", \"77\", \"78\", \"79\"], \"marker\": {\"opacity\": 0.8}, \"name\": \"\", \"subplot\": \"mapbox\", \"type\": \"choroplethmapbox\", \"z\": [0, 1380, 0, 49101, 7852, 2856, 11758, 91776, 0, 5154, 0, 2455, 812, 3358, 78153, 280, 0, 650, 0, 0, 0, 0, 0, 0, 512, 0, 0]}],\n",
              "                        {\"coloraxis\": {\"cmax\": 91776, \"cmin\": 0, \"colorbar\": {\"title\": {\"text\": \"Jumlah Pengunjung\"}}, \"colorscale\": [[0.0, \"rgb(196, 230, 195)\"], [0.16666666666666666, \"rgb(150, 210, 164)\"], [0.3333333333333333, \"rgb(109, 188, 144)\"], [0.5, \"rgb(77, 162, 132)\"], [0.6666666666666666, \"rgb(54, 135, 122)\"], [0.8333333333333334, \"rgb(38, 107, 110)\"], [1.0, \"rgb(29, 79, 96)\"]]}, \"height\": 550.0, \"legend\": {\"tracegroupgap\": 0}, \"mapbox\": {\"center\": {\"lat\": -6.871893, \"lon\": 107.6455}, \"domain\": {\"x\": [0.0, 1.0], \"y\": [0.0, 1.0]}, \"style\": \"carto-positron\", \"zoom\": 7.25}, \"margin\": {\"b\": 10, \"l\": 10, \"r\": 10, \"t\": 35}, \"template\": {\"data\": {\"bar\": [{\"error_x\": {\"color\": \"#2a3f5f\"}, \"error_y\": {\"color\": \"#2a3f5f\"}, \"marker\": {\"line\": {\"color\": \"#E5ECF6\", \"width\": 0.5}}, \"type\": \"bar\"}], \"barpolar\": [{\"marker\": {\"line\": {\"color\": \"#E5ECF6\", \"width\": 0.5}}, \"type\": \"barpolar\"}], \"carpet\": [{\"aaxis\": {\"endlinecolor\": \"#2a3f5f\", \"gridcolor\": \"white\", \"linecolor\": \"white\", \"minorgridcolor\": \"white\", \"startlinecolor\": \"#2a3f5f\"}, \"baxis\": {\"endlinecolor\": \"#2a3f5f\", \"gridcolor\": \"white\", \"linecolor\": \"white\", \"minorgridcolor\": \"white\", \"startlinecolor\": \"#2a3f5f\"}, \"type\": \"carpet\"}], \"choropleth\": [{\"colorbar\": {\"outlinewidth\": 0, \"ticks\": \"\"}, \"type\": \"choropleth\"}], \"contour\": [{\"colorbar\": {\"outlinewidth\": 0, \"ticks\": \"\"}, \"colorscale\": [[0.0, \"#0d0887\"], [0.1111111111111111, \"#46039f\"], [0.2222222222222222, \"#7201a8\"], [0.3333333333333333, \"#9c179e\"], [0.4444444444444444, \"#bd3786\"], [0.5555555555555556, \"#d8576b\"], [0.6666666666666666, \"#ed7953\"], [0.7777777777777778, \"#fb9f3a\"], [0.8888888888888888, \"#fdca26\"], [1.0, \"#f0f921\"]], \"type\": \"contour\"}], \"contourcarpet\": [{\"colorbar\": {\"outlinewidth\": 0, \"ticks\": \"\"}, \"type\": \"contourcarpet\"}], \"heatmap\": [{\"colorbar\": {\"outlinewidth\": 0, \"ticks\": \"\"}, \"colorscale\": [[0.0, \"#0d0887\"], [0.1111111111111111, \"#46039f\"], [0.2222222222222222, \"#7201a8\"], [0.3333333333333333, \"#9c179e\"], [0.4444444444444444, \"#bd3786\"], [0.5555555555555556, \"#d8576b\"], [0.6666666666666666, \"#ed7953\"], [0.7777777777777778, \"#fb9f3a\"], [0.8888888888888888, \"#fdca26\"], [1.0, \"#f0f921\"]], \"type\": \"heatmap\"}], \"heatmapgl\": [{\"colorbar\": {\"outlinewidth\": 0, \"ticks\": \"\"}, \"colorscale\": [[0.0, \"#0d0887\"], [0.1111111111111111, \"#46039f\"], [0.2222222222222222, \"#7201a8\"], [0.3333333333333333, \"#9c179e\"], [0.4444444444444444, \"#bd3786\"], [0.5555555555555556, \"#d8576b\"], [0.6666666666666666, \"#ed7953\"], [0.7777777777777778, \"#fb9f3a\"], [0.8888888888888888, \"#fdca26\"], [1.0, \"#f0f921\"]], \"type\": \"heatmapgl\"}], \"histogram\": [{\"marker\": {\"colorbar\": {\"outlinewidth\": 0, \"ticks\": \"\"}}, \"type\": \"histogram\"}], \"histogram2d\": [{\"colorbar\": {\"outlinewidth\": 0, \"ticks\": \"\"}, \"colorscale\": [[0.0, \"#0d0887\"], [0.1111111111111111, \"#46039f\"], [0.2222222222222222, \"#7201a8\"], [0.3333333333333333, \"#9c179e\"], [0.4444444444444444, \"#bd3786\"], [0.5555555555555556, \"#d8576b\"], [0.6666666666666666, \"#ed7953\"], [0.7777777777777778, \"#fb9f3a\"], [0.8888888888888888, \"#fdca26\"], [1.0, \"#f0f921\"]], \"type\": \"histogram2d\"}], \"histogram2dcontour\": [{\"colorbar\": {\"outlinewidth\": 0, \"ticks\": \"\"}, \"colorscale\": [[0.0, \"#0d0887\"], [0.1111111111111111, \"#46039f\"], [0.2222222222222222, \"#7201a8\"], [0.3333333333333333, \"#9c179e\"], [0.4444444444444444, \"#bd3786\"], [0.5555555555555556, \"#d8576b\"], [0.6666666666666666, \"#ed7953\"], [0.7777777777777778, \"#fb9f3a\"], [0.8888888888888888, \"#fdca26\"], [1.0, \"#f0f921\"]], \"type\": \"histogram2dcontour\"}], \"mesh3d\": [{\"colorbar\": {\"outlinewidth\": 0, \"ticks\": \"\"}, \"type\": \"mesh3d\"}], \"parcoords\": [{\"line\": {\"colorbar\": {\"outlinewidth\": 0, \"ticks\": \"\"}}, \"type\": \"parcoords\"}], \"pie\": [{\"automargin\": true, \"type\": \"pie\"}], \"scatter\": [{\"marker\": {\"colorbar\": {\"outlinewidth\": 0, \"ticks\": \"\"}}, \"type\": \"scatter\"}], \"scatter3d\": [{\"line\": {\"colorbar\": {\"outlinewidth\": 0, \"ticks\": \"\"}}, \"marker\": {\"colorbar\": {\"outlinewidth\": 0, \"ticks\": \"\"}}, \"type\": \"scatter3d\"}], \"scattercarpet\": [{\"marker\": {\"colorbar\": {\"outlinewidth\": 0, \"ticks\": \"\"}}, \"type\": \"scattercarpet\"}], \"scattergeo\": [{\"marker\": {\"colorbar\": {\"outlinewidth\": 0, \"ticks\": \"\"}}, \"type\": \"scattergeo\"}], \"scattergl\": [{\"marker\": {\"colorbar\": {\"outlinewidth\": 0, \"ticks\": \"\"}}, \"type\": \"scattergl\"}], \"scattermapbox\": [{\"marker\": {\"colorbar\": {\"outlinewidth\": 0, \"ticks\": \"\"}}, \"type\": \"scattermapbox\"}], \"scatterpolar\": [{\"marker\": {\"colorbar\": {\"outlinewidth\": 0, \"ticks\": \"\"}}, \"type\": \"scatterpolar\"}], \"scatterpolargl\": [{\"marker\": {\"colorbar\": {\"outlinewidth\": 0, \"ticks\": \"\"}}, \"type\": \"scatterpolargl\"}], \"scatterternary\": [{\"marker\": {\"colorbar\": {\"outlinewidth\": 0, \"ticks\": \"\"}}, \"type\": \"scatterternary\"}], \"surface\": [{\"colorbar\": {\"outlinewidth\": 0, \"ticks\": \"\"}, \"colorscale\": [[0.0, \"#0d0887\"], [0.1111111111111111, \"#46039f\"], [0.2222222222222222, \"#7201a8\"], [0.3333333333333333, \"#9c179e\"], [0.4444444444444444, \"#bd3786\"], [0.5555555555555556, \"#d8576b\"], [0.6666666666666666, \"#ed7953\"], [0.7777777777777778, \"#fb9f3a\"], [0.8888888888888888, \"#fdca26\"], [1.0, \"#f0f921\"]], \"type\": \"surface\"}], \"table\": [{\"cells\": {\"fill\": {\"color\": \"#EBF0F8\"}, \"line\": {\"color\": \"white\"}}, \"header\": {\"fill\": {\"color\": \"#C8D4E3\"}, \"line\": {\"color\": \"white\"}}, \"type\": \"table\"}]}, \"layout\": {\"annotationdefaults\": {\"arrowcolor\": \"#2a3f5f\", \"arrowhead\": 0, \"arrowwidth\": 1}, \"coloraxis\": {\"colorbar\": {\"outlinewidth\": 0, \"ticks\": \"\"}}, \"colorscale\": {\"diverging\": [[0, \"#8e0152\"], [0.1, \"#c51b7d\"], [0.2, \"#de77ae\"], [0.3, \"#f1b6da\"], [0.4, \"#fde0ef\"], [0.5, \"#f7f7f7\"], [0.6, \"#e6f5d0\"], [0.7, \"#b8e186\"], [0.8, \"#7fbc41\"], [0.9, \"#4d9221\"], [1, \"#276419\"]], \"sequential\": [[0.0, \"#0d0887\"], [0.1111111111111111, \"#46039f\"], [0.2222222222222222, \"#7201a8\"], [0.3333333333333333, \"#9c179e\"], [0.4444444444444444, \"#bd3786\"], [0.5555555555555556, \"#d8576b\"], [0.6666666666666666, \"#ed7953\"], [0.7777777777777778, \"#fb9f3a\"], [0.8888888888888888, \"#fdca26\"], [1.0, \"#f0f921\"]], \"sequentialminus\": [[0.0, \"#0d0887\"], [0.1111111111111111, \"#46039f\"], [0.2222222222222222, \"#7201a8\"], [0.3333333333333333, \"#9c179e\"], [0.4444444444444444, \"#bd3786\"], [0.5555555555555556, \"#d8576b\"], [0.6666666666666666, \"#ed7953\"], [0.7777777777777778, \"#fb9f3a\"], [0.8888888888888888, \"#fdca26\"], [1.0, \"#f0f921\"]]}, \"colorway\": [\"#636efa\", \"#EF553B\", \"#00cc96\", \"#ab63fa\", \"#FFA15A\", \"#19d3f3\", \"#FF6692\", \"#B6E880\", \"#FF97FF\", \"#FECB52\"], \"font\": {\"color\": \"#2a3f5f\"}, \"geo\": {\"bgcolor\": \"white\", \"lakecolor\": \"white\", \"landcolor\": \"#E5ECF6\", \"showlakes\": true, \"showland\": true, \"subunitcolor\": \"white\"}, \"hoverlabel\": {\"align\": \"left\"}, \"hovermode\": \"closest\", \"mapbox\": {\"style\": \"light\"}, \"paper_bgcolor\": \"white\", \"plot_bgcolor\": \"#E5ECF6\", \"polar\": {\"angularaxis\": {\"gridcolor\": \"white\", \"linecolor\": \"white\", \"ticks\": \"\"}, \"bgcolor\": \"#E5ECF6\", \"radialaxis\": {\"gridcolor\": \"white\", \"linecolor\": \"white\", \"ticks\": \"\"}}, \"scene\": {\"xaxis\": {\"backgroundcolor\": \"#E5ECF6\", \"gridcolor\": \"white\", \"gridwidth\": 2, \"linecolor\": \"white\", \"showbackground\": true, \"ticks\": \"\", \"zerolinecolor\": \"white\"}, \"yaxis\": {\"backgroundcolor\": \"#E5ECF6\", \"gridcolor\": \"white\", \"gridwidth\": 2, \"linecolor\": \"white\", \"showbackground\": true, \"ticks\": \"\", \"zerolinecolor\": \"white\"}, \"zaxis\": {\"backgroundcolor\": \"#E5ECF6\", \"gridcolor\": \"white\", \"gridwidth\": 2, \"linecolor\": \"white\", \"showbackground\": true, \"ticks\": \"\", \"zerolinecolor\": \"white\"}}, \"shapedefaults\": {\"line\": {\"color\": \"#2a3f5f\"}}, \"ternary\": {\"aaxis\": {\"gridcolor\": \"white\", \"linecolor\": \"white\", \"ticks\": \"\"}, \"baxis\": {\"gridcolor\": \"white\", \"linecolor\": \"white\", \"ticks\": \"\"}, \"bgcolor\": \"#E5ECF6\", \"caxis\": {\"gridcolor\": \"white\", \"linecolor\": \"white\", \"ticks\": \"\"}}, \"title\": {\"x\": 0.05}, \"xaxis\": {\"automargin\": true, \"gridcolor\": \"white\", \"linecolor\": \"white\", \"ticks\": \"\", \"title\": {\"standoff\": 15}, \"zerolinecolor\": \"white\", \"zerolinewidth\": 2}, \"yaxis\": {\"automargin\": true, \"gridcolor\": \"white\", \"linecolor\": \"white\", \"ticks\": \"\", \"title\": {\"standoff\": 15}, \"zerolinecolor\": \"white\", \"zerolinewidth\": 2}}}, \"title\": {\"text\": \"Peta Sebaran Jumlah Pengunjung Perkemahan\", \"x\": 0.5, \"xanchor\": \"center\", \"y\": 0.98, \"yanchor\": \"top\"}, \"width\": 1000},\n",
              "                        {\"responsive\": true}\n",
              "                    ).then(function(){\n",
              "                            \n",
              "var gd = document.getElementById('3fa8a14e-8553-4354-a09b-2e7489e1623a');\n",
              "var x = new MutationObserver(function (mutations, observer) {{\n",
              "        var display = window.getComputedStyle(gd).display;\n",
              "        if (!display || display === 'none') {{\n",
              "            console.log([gd, 'removed!']);\n",
              "            Plotly.purge(gd);\n",
              "            observer.disconnect();\n",
              "        }}\n",
              "}});\n",
              "\n",
              "// Listen for the removal of the full notebook cells\n",
              "var notebookContainer = gd.closest('#notebook-container');\n",
              "if (notebookContainer) {{\n",
              "    x.observe(notebookContainer, {childList: true});\n",
              "}}\n",
              "\n",
              "// Listen for the clearing of the current output cell\n",
              "var outputEl = gd.closest('.output');\n",
              "if (outputEl) {{\n",
              "    x.observe(outputEl, {childList: true});\n",
              "}}\n",
              "\n",
              "                        })\n",
              "                };\n",
              "                \n",
              "            </script>\n",
              "        </div>\n",
              "</body>\n",
              "</html>"
            ]
          },
          "metadata": {}
        }
      ]
    },
    {
      "cell_type": "markdown",
      "source": [
        "Grafik diatas merupakan peta sebaran jumlah pengunjung wisata perkemahan dari tiap Kabupaten dan Kota di Jawa Barat. Perubahan warna dari hijau muda ke hijau tua menunjukan jumlah pengunjung yang semakin meningkat. Dari peta sebaran di atas, kita mendapatkan tiga wilayah dengan jumlah pengunjung paling banyak, yaitu yang pertama adalah Kabupaten Kuningan dengan jumlah pengunjung sebanyak 91.776 orang, kedua adalah Kabupaten Karawang dengan jumlah pengunjung sebanyak 78.153 orang, dan ketiga adalah Kabupaten Bandung dengan jumlah pengunjung sebanyak 49.101 orang."
      ],
      "metadata": {
        "id": "zqnJyMyJIVaB"
      }
    },
    {
      "cell_type": "markdown",
      "source": [
        "Peta Sebaran Tenaga Kerja"
      ],
      "metadata": {
        "id": "rRINZMJtXknh"
      }
    },
    {
      "cell_type": "code",
      "source": [
        "fig = px.choropleth_mapbox(map_data, geojson=west_java_geojson, locations='id',\n",
        "                           color='jumlah_tenaga_kerja',\n",
        "                           color_continuous_scale=\"blues\",\n",
        "                           range_color=(0, int(map_data.jumlah_tenaga_kerja.max())),\n",
        "                           mapbox_style=\"carto-positron\",\n",
        "                           zoom=7.25, center = {\"lat\": -6.871893, \"lon\": 107.6455},\n",
        "                           opacity=0.8,\n",
        "                           hover_name='nama_kabupaten_kota',\n",
        "                           hover_data=['id', 'jumlah_tenaga_kerja'],\n",
        "                           labels={'id': 'Id',\n",
        "                                   'jumlah_tenaga_kerja': 'Jumlah Tenaga Kerja'}\n",
        "                           )\n",
        "fig.update_layout(title={'text':'Peta Sebaran Jumlah Tenaga Kerja',\n",
        "                         'y':0.98, 'x':0.5, 'xanchor':'center', 'yanchor':'top'},\n",
        "                  margin={\"r\":10,\"t\":35,\"l\":10,\"b\":10},\n",
        "                  width=100*10, height=100*5.5)\n",
        "fig.show()"
      ],
      "metadata": {
        "id": "b_jPgCrdo0xz",
        "outputId": "f812da86-8caa-4b7c-a585-1ed26347c224",
        "colab": {
          "base_uri": "https://localhost:8080/",
          "height": 567
        }
      },
      "execution_count": null,
      "outputs": [
        {
          "output_type": "display_data",
          "data": {
            "text/html": [
              "<html>\n",
              "<head><meta charset=\"utf-8\" /></head>\n",
              "<body>\n",
              "    <div>\n",
              "            <script src=\"https://cdnjs.cloudflare.com/ajax/libs/mathjax/2.7.5/MathJax.js?config=TeX-AMS-MML_SVG\"></script><script type=\"text/javascript\">if (window.MathJax) {MathJax.Hub.Config({SVG: {font: \"STIX-Web\"}});}</script>\n",
              "                <script type=\"text/javascript\">window.PlotlyConfig = {MathJaxConfig: 'local'};</script>\n",
              "        <script src=\"https://cdn.plot.ly/plotly-latest.min.js\"></script>    \n",
              "            <div id=\"5e0b251b-2f60-4d60-87c1-40a275182dc5\" class=\"plotly-graph-div\" style=\"height:550.0px; width:1000px;\"></div>\n",
              "            <script type=\"text/javascript\">\n",
              "                \n",
              "                    window.PLOTLYENV=window.PLOTLYENV || {};\n",
              "                    \n",
              "                if (document.getElementById(\"5e0b251b-2f60-4d60-87c1-40a275182dc5\")) {\n",
              "                    Plotly.newPlot(\n",
              "                        '5e0b251b-2f60-4d60-87c1-40a275182dc5',\n",
              "                        [{\"coloraxis\": \"coloraxis\", \"customdata\": [[\"01\", 19], [\"02\", 87], [\"03\", 0], [\"04\", 10], [\"05\", 100], [\"06\", 6], [\"07\", 5], [\"08\", 15], [\"09\", 0], [\"10\", 40], [\"11\", 0], [\"12\", 45], [\"13\", 34], [\"14\", 13], [\"15\", 37], [\"16\", 15], [\"17\", 0], [\"18\", 14], [\"71\", 0], [\"72\", 0], [\"73\", 0], [\"74\", 0], [\"75\", 0], [\"76\", 0], [\"77\", 7], [\"78\", 0], [\"79\", 0]], \"geojson\": {\"features\": [{\"geometry\": {\"coordinates\": [[[108.323533, -6.62749], [108.31103, -6.62494], [108.292199, -6.60957], [108.28793200000013, -6.60741], [108.282128, -6.60988], [108.282729, -6.616669], [108.271318, -6.61278], [108.26938700000011, -6.60554], [108.27538, -6.59236], [108.27232, -6.58926], [108.255835, -6.58671], [108.23893800000013, -6.5791], [108.21794, -6.56621], [108.21457, -6.56524], [108.202392, -6.580691], [108.18963600000012, -6.60487], [108.18930100000011, -6.61447], [108.184448, -6.61622], [108.179528, -6.61002], [108.1744, -6.608649], [108.165253, -6.61045], [108.1548, -6.60335], [108.146897, -6.60339], [108.145347, -6.59963], [108.14589, -6.57519], [108.140839, -6.56496], [108.136001, -6.563308], [108.115174, -6.56669], [108.09566, -6.56835], [108.089896, -6.57026], [108.07624, -6.57915], [108.07309, -6.58342], [108.07222800000011, -6.59923], [108.06561, -6.61691], [108.0541300000001, -6.62493], [108.044487, -6.63632], [108.050668, -6.6392], [108.05332, -6.64917], [108.070282, -6.66348], [108.076333, -6.66473], [108.092141, -6.67395], [108.100198, -6.67537], [108.104394, -6.687149], [108.112152, -6.69766], [108.119659, -6.704249], [108.127609, -6.70504], [108.144898, -6.71092], [108.15056700000014, -6.71729], [108.158286, -6.72043], [108.162179, -6.72819], [108.16197100000011, -6.733538999999894], [108.150047, -6.74668], [108.1509, -6.76014], [108.16114900000014, -6.760109], [108.164139, -6.774021], [108.170616, -6.78517], [108.16279, -6.79927], [108.15593600000011, -6.79946], [108.15883, -6.80664], [108.163688, -6.81033], [108.156998, -6.82114], [108.16063600000012, -6.830260999999894], [108.168387, -6.83239], [108.17932, -6.83207], [108.1813, -6.85202], [108.188147, -6.85178], [108.18853, -6.86092], [108.19441300000011, -6.86344], [108.19944, -6.86975], [108.192918, -6.882478], [108.2015300000001, -6.89011], [108.212012, -6.88801], [108.21392, -6.89278], [108.211937, -6.90204], [108.216682, -6.90698], [108.21354600000012, -6.91481], [108.21694900000011, -6.917209999999898], [108.22119, -6.92807], [108.21712, -6.93401], [108.211609, -6.93575], [108.197152, -6.94884], [108.18150400000013, -6.957179], [108.1808400000001, -6.96049], [108.17047, -6.97363], [108.16855600000014, -6.988189], [108.16462700000011, -6.99977], [108.161721, -7.016139999999893], [108.15498, -7.01891], [108.14872, -7.029039999999895], [108.138298, -7.038489], [108.13785, -7.04097], [108.145347, -7.04803], [108.154136, -7.06526], [108.16214, -7.06289], [108.1702130000001, -7.06425], [108.18051200000014, -7.05486], [108.19117, -7.054261], [108.20787800000011, -7.05113], [108.216912, -7.05646], [108.22408300000012, -7.0519], [108.2303, -7.05436], [108.237518, -7.06165], [108.246277, -7.06399], [108.261146, -7.06281], [108.273453, -7.06384], [108.28978, -7.05793], [108.310592, -7.06059], [108.31886900000012, -7.05717], [108.332961, -7.065489999999897], [108.33976, -7.06462], [108.35621, -7.05153], [108.36054, -7.05122], [108.37652, -7.06173], [108.385933, -7.071639], [108.393272, -7.05629], [108.391777, -7.04621], [108.387191, -7.03623], [108.394546, -7.02949], [108.389473, -7.02116], [108.3843240000001, -7.005879], [108.384682, -6.98565], [108.386856, -6.975769999999898], [108.387681, -6.956249], [108.392533, -6.944739], [108.400681, -6.936781], [108.40358, -6.92751], [108.402518, -6.92073], [108.40960600000011, -6.87852], [108.41101, -6.8662], [108.406067, -6.85387], [108.404319, -6.84225], [108.3986670000001, -6.82763], [108.398484, -6.80922], [108.395218, -6.7983], [108.40338200000014, -6.78904], [108.400139, -6.775689], [108.39005400000013, -6.77186], [108.383811, -6.76659], [108.375686, -6.764990999999895], [108.37305, -6.75361], [108.36628, -6.742471], [108.375107, -6.73778], [108.376137, -6.732209999999895], [108.367652, -6.72516], [108.363372, -6.7185], [108.361077, -6.70867], [108.366531, -6.70262], [108.366332, -6.695019], [108.36239, -6.687149], [108.35522, -6.680271], [108.337166, -6.67359], [108.33393, -6.66819], [108.33492, -6.65507], [108.329529, -6.6456], [108.32933, -6.63927], [108.323533, -6.62749]]], \"type\": \"Polygon\"}, \"id\": \"10\", \"properties\": {\"NAME\": \"KABUPATEN MAJALENGKA\"}, \"type\": \"Feature\"}, {\"geometry\": {\"coordinates\": [[[108.044487, -6.63632], [108.03174600000011, -6.64488], [108.030876, -6.65719], [108.023819, -6.6652], [108.01479400000011, -6.66505], [107.99855100000013, -6.65472], [107.980377, -6.645279], [107.972008, -6.638], [107.96077600000012, -6.634], [107.95106, -6.62506], [107.940934, -6.62381], [107.92106700000011, -6.60518], [107.905639, -6.59383], [107.892632, -6.588859], [107.87288600000011, -6.58649], [107.8551, -6.57899], [107.850899, -6.58251], [107.857064, -6.59819], [107.853142, -6.607390999999893], [107.85486700000013, -6.626579], [107.85043400000012, -6.63883], [107.85301900000013, -6.64624], [107.850197, -6.65412], [107.841049, -6.661899], [107.837418, -6.67559], [107.83017, -6.68509], [107.83770700000014, -6.69145], [107.838676, -6.69587], [107.83448, -6.71502], [107.83678, -6.724671], [107.834877, -6.73186], [107.8358, -6.74663], [107.83833, -6.75582], [107.834587, -6.77266], [107.820076, -6.78586], [107.81598700000012, -6.79512], [107.8054580000001, -6.80612], [107.79993, -6.8078], [107.79117700000012, -6.801719], [107.783332, -6.80235], [107.774598, -6.79843], [107.76084800000012, -6.8061], [107.74429, -6.81013], [107.741182, -6.81951], [107.744461, -6.83433], [107.741241, -6.84175], [107.738586, -6.873719], [107.748208, -6.88254], [107.758453, -6.89643], [107.758056, -6.91988], [107.755866, -6.92931], [107.7595510000001, -6.94437], [107.7708970000001, -6.95164], [107.808838, -6.96351], [107.829505, -6.96351], [107.83802, -6.96688], [107.8550560000001, -6.96495], [107.86438700000014, -6.96142], [107.877572, -6.96058], [107.88742, -6.95786], [107.894784, -6.95158], [107.908372, -6.95074], [107.91615300000012, -6.94796], [107.924782, -6.94961], [107.928757, -6.953570999999897], [107.937499, -6.95355], [107.953798, -6.96132], [107.95955700000013, -6.960739], [107.966232, -6.95601], [107.98004900000012, -6.97126], [107.985291, -6.97884], [107.99680300000011, -6.982489], [108.00087800000011, -6.98589], [108.008317, -6.98225], [108.021333, -6.984], [108.031486, -6.99157], [108.042098, -6.99574], [108.059196, -6.99426], [108.07153, -6.98313], [108.08233600000011, -6.98987], [108.0898370000001, -6.99758], [108.092492, -7.00615], [108.099373, -7.019249], [108.108147, -7.02849], [108.12026, -7.03652], [108.132309, -7.04115], [108.13785, -7.04097], [108.138298, -7.038489], [108.14872, -7.029039999999895], [108.15498, -7.01891], [108.161721, -7.016139999999893], [108.16462700000011, -6.99977], [108.16855600000014, -6.988189], [108.17047, -6.97363], [108.1808400000001, -6.96049], [108.18150400000013, -6.957179], [108.197152, -6.94884], [108.211609, -6.93575], [108.21712, -6.93401], [108.22119, -6.92807], [108.21694900000011, -6.917209999999898], [108.21354600000012, -6.91481], [108.216682, -6.90698], [108.211937, -6.90204], [108.21392, -6.89278], [108.212012, -6.88801], [108.2015300000001, -6.89011], [108.192918, -6.882478], [108.19944, -6.86975], [108.19441300000011, -6.86344], [108.18853, -6.86092], [108.188147, -6.85178], [108.1813, -6.85202], [108.17932, -6.83207], [108.168387, -6.83239], [108.16063600000012, -6.830260999999894], [108.156998, -6.82114], [108.163688, -6.81033], [108.15883, -6.80664], [108.15593600000011, -6.79946], [108.16279, -6.79927], [108.170616, -6.78517], [108.164139, -6.774021], [108.16114900000014, -6.760109], [108.1509, -6.76014], [108.150047, -6.74668], [108.16197100000011, -6.733538999999894], [108.162179, -6.72819], [108.158286, -6.72043], [108.15056700000014, -6.71729], [108.144898, -6.71092], [108.127609, -6.70504], [108.119659, -6.704249], [108.112152, -6.69766], [108.104394, -6.687149], [108.100198, -6.67537], [108.092141, -6.67395], [108.076333, -6.66473], [108.070282, -6.66348], [108.05332, -6.64917], [108.050668, -6.6392], [108.044487, -6.63632]]], \"type\": \"Polygon\"}, \"id\": \"11\", \"properties\": {\"NAME\": \"KABUPATEN SUMEDANG\"}, \"type\": \"Feature\"}, {\"geometry\": {\"coordinates\": [[[108.539239, -6.51575], [108.536942, -6.49972], [108.53714, -6.4822], [108.519928, -6.47592], [108.489511, -6.46031], [108.477265, -6.45289], [108.45208, -6.434005], [108.432503, -6.41306], [108.429168, -6.41139], [108.411767, -6.389752], [108.396118, -6.36671], [108.39167900000012, -6.35821], [108.384048, -6.355160999999896], [108.37285500000013, -6.32945], [108.36767500000013, -6.30843], [108.3672, -6.30187], [108.37375, -6.295311], [108.364402, -6.264788999999894], [108.35751, -6.26269], [108.350281, -6.251939], [108.349319, -6.23966], [108.342568, -6.24077], [108.3375170000001, -6.24752], [108.340501, -6.25134], [108.340736, -6.25985], [108.338, -6.2739], [108.333695, -6.27232], [108.329101, -6.26477], [108.299057, -6.24668], [108.29036, -6.24535], [108.281991, -6.24821], [108.261451, -6.24798], [108.23972, -6.240947], [108.238655, -6.244884999999897], [108.232009, -6.24263], [108.221145, -6.25031], [108.21595700000012, -6.238494], [108.21026, -6.240923999999893], [108.207221, -6.23389], [108.199288, -6.22835], [108.196113, -6.23389], [108.201699, -6.241749], [108.20737400000013, -6.261833], [108.2121, -6.26593], [108.20977, -6.273844], [108.19530400000014, -6.279039999999895], [108.190399, -6.293740999999898], [108.18379900000014, -6.29395], [108.17055, -6.30222], [108.167656, -6.30688], [108.146416, -6.318012999999894], [108.13282, -6.32208], [108.132201, -6.33164], [108.12961700000011, -6.33414], [108.10916800000012, -6.33306], [108.111037, -6.32848], [108.091384, -6.324051], [108.086945, -6.320001], [108.080002, -6.320554999999899], [108.06179, -6.31514], [108.055267, -6.31472], [108.042634, -6.31003], [108.02961, -6.30348], [108.01339, -6.293611], [108.004738, -6.28696], [107.99028, -6.27833], [107.974442, -6.271941], [107.95333, -6.26], [107.93528, -6.2525], [107.930092, -6.25382], [107.918977, -6.24898], [107.919715, -6.25718], [107.914544, -6.273279], [107.925133, -6.28108], [107.92299700000012, -6.29654], [107.923524, -6.3101], [107.92195800000013, -6.33539], [107.9193580000001, -6.34661], [107.92362200000014, -6.35987], [107.92023, -6.36661], [107.902779, -6.383999], [107.900482, -6.38757], [107.901229, -6.40285], [107.89408900000012, -6.40764], [107.892822, -6.41213], [107.89759900000013, -6.42562], [107.89332, -6.44132], [107.89557700000012, -6.44787], [107.89224, -6.455689], [107.900299, -6.46958], [107.90277, -6.47883], [107.912727, -6.47967], [107.9212490000001, -6.484249], [107.919982, -6.491921], [107.915269, -6.49668], [107.920677, -6.50178], [107.920905, -6.51368], [107.911873, -6.53042], [107.912208, -6.53743], [107.89908700000012, -6.54574], [107.89879500000012, -6.551201], [107.887108, -6.556168999999898], [107.88181300000014, -6.567271], [107.87439, -6.569068999999899], [107.8627, -6.56892], [107.85481, -6.57204], [107.8551, -6.57899], [107.87288600000011, -6.58649], [107.892632, -6.588859], [107.905639, -6.59383], [107.92106700000011, -6.60518], [107.940934, -6.62381], [107.95106, -6.62506], [107.96077600000012, -6.634], [107.972008, -6.638], [107.980377, -6.645279], [107.99855100000013, -6.65472], [108.01479400000011, -6.66505], [108.023819, -6.6652], [108.030876, -6.65719], [108.03174600000011, -6.64488], [108.044487, -6.63632], [108.0541300000001, -6.62493], [108.06561, -6.61691], [108.07222800000011, -6.59923], [108.07309, -6.58342], [108.07624, -6.57915], [108.089896, -6.57026], [108.09566, -6.56835], [108.115174, -6.56669], [108.136001, -6.563308], [108.140839, -6.56496], [108.14589, -6.57519], [108.145347, -6.59963], [108.146897, -6.60339], [108.1548, -6.60335], [108.165253, -6.61045], [108.1744, -6.608649], [108.179528, -6.61002], [108.184448, -6.61622], [108.18930100000011, -6.61447], [108.18963600000012, -6.60487], [108.202392, -6.580691], [108.21457, -6.56524], [108.21794, -6.56621], [108.23893800000013, -6.5791], [108.255835, -6.58671], [108.27232, -6.58926], [108.27538, -6.59236], [108.26938700000011, -6.60554], [108.271318, -6.61278], [108.282729, -6.616669], [108.282128, -6.60988], [108.28793200000013, -6.60741], [108.292199, -6.60957], [108.31103, -6.62494], [108.323533, -6.62749], [108.320953, -6.61646], [108.335717, -6.60572], [108.33685400000013, -6.602039], [108.330049, -6.59953], [108.32997, -6.59447], [108.334671, -6.58882], [108.3480540000001, -6.58004], [108.35191, -6.579859], [108.355377, -6.567661], [108.360398, -6.55799], [108.37029400000011, -6.55348], [108.373382, -6.548471], [108.383499, -6.54378], [108.392449, -6.535999], [108.400337, -6.53563], [108.41078900000014, -6.52819], [108.4362, -6.51754], [108.437553, -6.52352], [108.446731, -6.5319], [108.44883, -6.57037], [108.452468, -6.57289], [108.47006, -6.56715], [108.47326, -6.55972], [108.489723, -6.55547], [108.49223, -6.55151], [108.490593, -6.5422], [108.49801, -6.54115], [108.500054, -6.53378], [108.507796, -6.52801], [108.512466, -6.51592], [108.51920300000012, -6.51401], [108.530731, -6.51737], [108.539239, -6.51575]]], \"type\": \"Polygon\"}, \"id\": \"12\", \"properties\": {\"NAME\": \"KABUPATEN INDRAMAYU\"}, \"type\": \"Feature\"}, {\"geometry\": {\"coordinates\": [[[107.918977, -6.24898], [107.902467, -6.243041], [107.896942, -6.23778], [107.88777, -6.235408], [107.884651, -6.22612], [107.890273, -6.22444], [107.88325600000013, -6.20861], [107.888785, -6.20316], [107.896942, -6.20972], [107.89917, -6.205559], [107.891488, -6.19608], [107.89138800000012, -6.19], [107.871391, -6.20028], [107.869827, -6.20727], [107.854218, -6.2101], [107.847923, -6.19621], [107.85028100000011, -6.18778], [107.837142, -6.187925], [107.828887, -6.18389], [107.820557, -6.183329999999899], [107.813179, -6.18697], [107.812195, -6.19447], [107.802087, -6.19706], [107.795769, -6.20321], [107.79076, -6.20173], [107.779441, -6.20667], [107.762779, -6.21111], [107.75027, -6.22667], [107.7213210000001, -6.236792], [107.713891, -6.23556], [107.701668, -6.22889], [107.696107, -6.22333], [107.694619, -6.232395], [107.68555, -6.241669], [107.67972500000013, -6.24472], [107.66889, -6.244998999999893], [107.651108, -6.22722], [107.641159, -6.21313], [107.63178, -6.21947], [107.62119, -6.22208], [107.612953, -6.23149], [107.600746, -6.241489], [107.597869, -6.24673], [107.58448, -6.25656], [107.580787, -6.27254], [107.580947, -6.27929], [107.586036, -6.29132], [107.586007, -6.29848], [107.581031, -6.30336], [107.582611, -6.312049], [107.57955900000013, -6.32435], [107.572295, -6.33466], [107.564927, -6.354619], [107.55918, -6.36348], [107.55261300000012, -6.36901], [107.549798, -6.37787], [107.534829, -6.39365], [107.530113, -6.40303], [107.52894600000013, -6.41763], [107.52746, -6.429759], [107.529297, -6.437968999999896], [107.54236600000013, -6.44352], [107.545411, -6.46207], [107.548576, -6.46856], [107.55844000000013, -6.47312], [107.56619200000011, -6.48536], [107.56118, -6.51658], [107.564118, -6.52359], [107.560601, -6.533878999999899], [107.56330900000012, -6.54514], [107.55909700000012, -6.556988], [107.57309, -6.579319], [107.580979, -6.58424], [107.587196, -6.59452], [107.589211, -6.60164], [107.581261, -6.62855], [107.582175, -6.63493], [107.590699, -6.64497], [107.60013500000014, -6.65213], [107.600602, -6.658569], [107.597603, -6.66737], [107.60002, -6.675929], [107.598747, -6.701391], [107.589988, -6.72205], [107.59563, -6.7269], [107.601967, -6.73616], [107.599358, -6.75604], [107.620506, -6.76415], [107.62902800000012, -6.76925], [107.6482, -6.76592], [107.65838700000012, -6.76797], [107.665298, -6.77175], [107.67353, -6.78311], [107.68159, -6.78981], [107.6897120000001, -6.79135], [107.704795, -6.79097], [107.71815, -6.796510999999896], [107.72385, -6.80552], [107.728813, -6.80827], [107.74429, -6.81013], [107.76084800000012, -6.8061], [107.774598, -6.79843], [107.783332, -6.80235], [107.79117700000012, -6.801719], [107.79993, -6.8078], [107.8054580000001, -6.80612], [107.81598700000012, -6.79512], [107.820076, -6.78586], [107.834587, -6.77266], [107.83833, -6.75582], [107.8358, -6.74663], [107.834877, -6.73186], [107.83678, -6.724671], [107.83448, -6.71502], [107.838676, -6.69587], [107.83770700000014, -6.69145], [107.83017, -6.68509], [107.837418, -6.67559], [107.841049, -6.661899], [107.850197, -6.65412], [107.85301900000013, -6.64624], [107.85043400000012, -6.63883], [107.85486700000013, -6.626579], [107.853142, -6.607390999999893], [107.857064, -6.59819], [107.850899, -6.58251], [107.8551, -6.57899], [107.85481, -6.57204], [107.8627, -6.56892], [107.87439, -6.569068999999899], [107.88181300000014, -6.567271], [107.887108, -6.556168999999898], [107.89879500000012, -6.551201], [107.89908700000012, -6.54574], [107.912208, -6.53743], [107.911873, -6.53042], [107.920905, -6.51368], [107.920677, -6.50178], [107.915269, -6.49668], [107.919982, -6.491921], [107.9212490000001, -6.484249], [107.912727, -6.47967], [107.90277, -6.47883], [107.900299, -6.46958], [107.89224, -6.455689], [107.89557700000012, -6.44787], [107.89332, -6.44132], [107.89759900000013, -6.42562], [107.892822, -6.41213], [107.89408900000012, -6.40764], [107.901229, -6.40285], [107.900482, -6.38757], [107.902779, -6.383999], [107.92023, -6.36661], [107.92362200000014, -6.35987], [107.9193580000001, -6.34661], [107.92195800000013, -6.33539], [107.923524, -6.3101], [107.92299700000012, -6.29654], [107.925133, -6.28108], [107.914544, -6.273279], [107.919715, -6.25718], [107.918977, -6.24898]]], \"type\": \"Polygon\"}, \"id\": \"13\", \"properties\": {\"NAME\": \"KABUPATEN SUBANG\"}, \"type\": \"Feature\"}, {\"geometry\": {\"coordinates\": [[[107.52894600000013, -6.41763], [107.51905, -6.41592], [107.50593, -6.409059999999897], [107.497353, -6.40994], [107.490096, -6.41731], [107.473458, -6.430049], [107.46379, -6.42846], [107.449623, -6.44033], [107.423896, -6.44033], [107.416528, -6.42764], [107.400697, -6.425089999999898], [107.388032, -6.41649], [107.38067, -6.41456], [107.372948, -6.41854], [107.37478, -6.43463], [107.37376, -6.45107], [107.3683400000001, -6.45366], [107.371392, -6.47556], [107.378532, -6.48088], [107.38031, -6.487949999999898], [107.387109, -6.4946], [107.388604, -6.50581], [107.384971, -6.52082], [107.35803, -6.50334], [107.337533, -6.49593], [107.325736, -6.48906], [107.317848, -6.49408], [107.311341, -6.49519], [107.304595, -6.50089], [107.305238, -6.505718], [107.317039, -6.51012], [107.32309, -6.52131], [107.320321, -6.525738], [107.30737, -6.526180999999895], [107.30127, -6.52113], [107.29718100000014, -6.52252], [107.295052, -6.53632], [107.28347900000011, -6.54692], [107.29010000000011, -6.56214], [107.28838, -6.57238], [107.289176, -6.5864], [107.287453, -6.591519], [107.289466, -6.60433], [107.28122700000011, -6.607799], [107.28279, -6.61447], [107.27928, -6.61815], [107.284636, -6.626759], [107.28084, -6.63166], [107.288201, -6.63755], [107.280778, -6.6412], [107.26622, -6.63613], [107.281639, -6.64999], [107.275818, -6.65946], [107.275399, -6.66948], [107.265159, -6.683291], [107.26056, -6.68606], [107.26335200000011, -6.69336], [107.27975, -6.698219], [107.286346, -6.703729999999894], [107.306512, -6.709589], [107.309677, -6.718], [107.316077, -6.727168], [107.326051, -6.73142], [107.33544100000012, -6.72906], [107.347976, -6.71016], [107.350745, -6.69844], [107.35551, -6.69458], [107.372246, -6.702381], [107.38089, -6.69839], [107.381545, -6.69017], [107.38535400000012, -6.68852], [107.393707, -6.69529], [107.4133690000001, -6.68789], [107.419053, -6.6894], [107.425972, -6.6965], [107.44843, -6.696439], [107.457466, -6.702629], [107.466507, -6.713928999999894], [107.48268200000012, -6.72958], [107.49944, -6.73512], [107.51158800000013, -6.7517], [107.528969, -6.75425], [107.540253, -6.7602], [107.550217, -6.770059], [107.561385, -6.76831], [107.55976900000013, -6.75262], [107.563735, -6.74521], [107.564378, -6.73801], [107.56823800000012, -6.730249999999899], [107.574287, -6.72495], [107.589988, -6.72205], [107.598747, -6.701391], [107.60002, -6.675929], [107.597603, -6.66737], [107.600602, -6.658569], [107.60013500000014, -6.65213], [107.590699, -6.64497], [107.582175, -6.63493], [107.581261, -6.62855], [107.589211, -6.60164], [107.587196, -6.59452], [107.580979, -6.58424], [107.57309, -6.579319], [107.55909700000012, -6.556988], [107.56330900000012, -6.54514], [107.560601, -6.533878999999899], [107.564118, -6.52359], [107.56118, -6.51658], [107.56619200000011, -6.48536], [107.55844000000013, -6.47312], [107.548576, -6.46856], [107.545411, -6.46207], [107.54236600000013, -6.44352], [107.529297, -6.437968999999896], [107.52746, -6.429759], [107.52894600000013, -6.41763]]], \"type\": \"Polygon\"}, \"id\": \"14\", \"properties\": {\"NAME\": \"KABUPATEN PURWAKARTA\"}, \"type\": \"Feature\"}, {\"geometry\": {\"coordinates\": [[[107.641159, -6.21313], [107.63603100000012, -6.21025], [107.626618, -6.19838], [107.623337, -6.18944], [107.601113, -6.18694], [107.589448, -6.18972], [107.576462, -6.187508], [107.564163, -6.181388], [107.539353, -6.177454999999895], [107.508393, -6.16234], [107.4882, -6.15692], [107.479446, -6.15222], [107.468064, -6.14361], [107.461671, -6.13528], [107.446662, -6.10694], [107.42555, -6.081389], [107.426392, -6.07805], [107.415017, -6.06079], [107.406616, -6.04326], [107.39438600000011, -6.02401], [107.375572, -6.001], [107.351112, -5.97667], [107.34333, -5.97083], [107.33333, -5.96611], [107.30284200000011, -5.95814], [107.28186, -5.95887], [107.259712, -5.96361], [107.247947, -5.96883], [107.222496, -5.975], [107.20722100000012, -5.977777], [107.193886, -5.98556], [107.18089, -5.98883], [107.16472, -5.98778], [107.144447, -5.9825], [107.134163, -5.976945], [107.121108, -5.96444], [107.10072400000013, -5.93822], [107.096519, -5.95395], [107.096801, -5.961879999999894], [107.08964, -5.97849], [107.08678, -6.00099], [107.091956, -6.0046], [107.09477, -6.012001], [107.1018, -6.01549], [107.09892300000013, -6.02108], [107.10260000000011, -6.02509], [107.11262, -6.02961], [107.116256, -6.03748], [107.123611, -6.04539], [107.12992200000014, -6.046459], [107.13443, -6.06134], [107.143127, -6.05799], [107.144966, -6.06822], [107.1519320000001, -6.07056], [107.158958, -6.06704], [107.164886, -6.069498999999894], [107.17536100000012, -6.07772], [107.1835860000001, -6.07543], [107.18877, -6.07697], [107.191224, -6.086209], [107.206918, -6.09464], [107.215943, -6.101], [107.236779, -6.10291], [107.244027, -6.09979], [107.249207, -6.10276], [107.25123, -6.11368], [107.25891200000012, -6.11078], [107.268379, -6.112319], [107.27236, -6.128221], [107.280067, -6.12557], [107.28347900000011, -6.12747], [107.28063900000012, -6.13413], [107.28824, -6.14113], [107.293999, -6.14359], [107.28864, -6.156069], [107.280869, -6.16034], [107.279609, -6.165588999999898], [107.288611, -6.16393], [107.290077, -6.1717], [107.28749, -6.18188], [107.29279, -6.1921], [107.293129, -6.19997], [107.297698, -6.20565], [107.28914700000013, -6.21929], [107.275224, -6.21748], [107.28208, -6.2254], [107.28212, -6.229469], [107.273781, -6.23817], [107.27768700000013, -6.25305], [107.27545, -6.260399], [107.27671900000013, -6.26633], [107.26762, -6.27514], [107.2672740000001, -6.28555], [107.25743, -6.29039], [107.24482000000012, -6.30094], [107.23809, -6.29992], [107.23594700000012, -6.3082], [107.23037, -6.30586], [107.2241, -6.31466], [107.223747, -6.32265], [107.220009, -6.32576], [107.22688, -6.34733], [107.225297, -6.35236], [107.214309, -6.354509], [107.21333, -6.36337], [107.20826000000011, -6.369349], [107.21937, -6.38226], [107.223298, -6.39946], [107.22, -6.40979], [107.213783, -6.41187], [107.212167, -6.41711], [107.207091, -6.41797], [107.204741, -6.42821], [107.206009, -6.436198], [107.21417900000012, -6.458249], [107.211937, -6.46647], [107.203698, -6.46764], [107.196732, -6.464129], [107.183778, -6.47355], [107.175163, -6.48535], [107.17640000000011, -6.49412], [107.16563, -6.49961], [107.164421, -6.5072], [107.17529900000011, -6.52396], [107.177002, -6.53022], [107.176697, -6.54373], [107.178643, -6.5497], [107.18679800000012, -6.55951], [107.192063, -6.56927], [107.200204, -6.59349], [107.204322, -6.58878], [107.211166, -6.58716], [107.222908, -6.58018], [107.223923, -6.59998], [107.23051, -6.60361], [107.240357, -6.61652], [107.256829, -6.63097], [107.26622, -6.63613], [107.280778, -6.6412], [107.288201, -6.63755], [107.28084, -6.63166], [107.284636, -6.626759], [107.27928, -6.61815], [107.28279, -6.61447], [107.28122700000011, -6.607799], [107.289466, -6.60433], [107.287453, -6.591519], [107.289176, -6.5864], [107.28838, -6.57238], [107.29010000000011, -6.56214], [107.28347900000011, -6.54692], [107.295052, -6.53632], [107.29718100000014, -6.52252], [107.30127, -6.52113], [107.30737, -6.526180999999895], [107.320321, -6.525738], [107.32309, -6.52131], [107.317039, -6.51012], [107.305238, -6.505718], [107.304595, -6.50089], [107.311341, -6.49519], [107.317848, -6.49408], [107.325736, -6.48906], [107.337533, -6.49593], [107.35803, -6.50334], [107.384971, -6.52082], [107.388604, -6.50581], [107.387109, -6.4946], [107.38031, -6.487949999999898], [107.378532, -6.48088], [107.371392, -6.47556], [107.3683400000001, -6.45366], [107.37376, -6.45107], [107.37478, -6.43463], [107.372948, -6.41854], [107.38067, -6.41456], [107.388032, -6.41649], [107.400697, -6.425089999999898], [107.416528, -6.42764], [107.423896, -6.44033], [107.449623, -6.44033], [107.46379, -6.42846], [107.473458, -6.430049], [107.490096, -6.41731], [107.497353, -6.40994], [107.50593, -6.409059999999897], [107.51905, -6.41592], [107.52894600000013, -6.41763], [107.530113, -6.40303], [107.534829, -6.39365], [107.549798, -6.37787], [107.55261300000012, -6.36901], [107.55918, -6.36348], [107.564927, -6.354619], [107.572295, -6.33466], [107.57955900000013, -6.32435], [107.582611, -6.312049], [107.581031, -6.30336], [107.586007, -6.29848], [107.586036, -6.29132], [107.580947, -6.27929], [107.580787, -6.27254], [107.58448, -6.25656], [107.597869, -6.24673], [107.600746, -6.241489], [107.612953, -6.23149], [107.62119, -6.22208], [107.63178, -6.21947], [107.641159, -6.21313]]], \"type\": \"Polygon\"}, \"id\": \"15\", \"properties\": {\"NAME\": \"KABUPATEN KARAWANG\"}, \"type\": \"Feature\"}, {\"geometry\": {\"coordinates\": [[[107.10072400000013, -5.93822], [107.0963890000001, -5.93583], [107.072219, -5.93361], [107.056388, -5.92806], [107.04750200000012, -5.9225], [107.038064, -5.92167], [107.037216, -5.91722], [107.026657, -5.91472], [107.004722, -5.92083], [107.005837, -5.92444], [107.001388, -5.931666], [106.991943, -5.93556], [106.989999, -5.94305], [106.999726, -5.94028], [107.005837, -5.94083], [107.01139100000012, -5.9475], [107.016113, -5.95944], [107.01667, -5.97], [107.01305500000012, -5.97722], [107.00611, -6], [106.996948, -6.0025], [106.98972, -6.01028], [106.994507, -6.02578], [107.00278, -6.01944], [107.007225, -6.01944], [107.015557, -6.03361], [107.00507, -6.04098], [107.00333400000011, -6.045278], [106.996353, -6.050000999999895], [106.987221, -6.051111], [106.998885, -6.059724], [106.998885, -6.06528], [107.004449, -6.07306], [107.012496, -6.07472], [107.01139100000012, -6.08028], [107.003052, -6.07917], [106.995248, -6.08492], [106.982498, -6.089445999999896], [106.972839, -6.09111], [106.972527, -6.14771], [106.972946, -6.17417], [106.983642, -6.16504], [107.01204, -6.16734], [107.012223, -6.18517], [107.023728, -6.19383], [107.02869, -6.19292], [107.035798, -6.196349], [107.03829200000013, -6.203758], [107.032639, -6.21721], [107.040124, -6.22128], [107.04432, -6.22932], [107.04252600000012, -6.24644], [107.039429, -6.25136], [107.029168, -6.25692], [107.024063, -6.26364], [107.01883700000013, -6.282739], [107.03115800000012, -6.27945], [107.044518, -6.28467], [107.045737, -6.30647], [107.043342, -6.32074], [107.04004, -6.3246], [107.026741, -6.32832], [107.023842, -6.348859], [107.0217970000001, -6.353249], [107.01071900000011, -6.35476], [107.00470800000011, -6.36627], [106.98464300000012, -6.37687], [107.007202, -6.39031], [107.01599900000014, -6.39408], [107.045097, -6.400801], [107.052085, -6.404919], [107.05945600000013, -6.41588], [107.071396, -6.42919], [107.078926, -6.435379999999896], [107.11531000000014, -6.459378999999899], [107.1481940000001, -6.47626], [107.17640000000011, -6.49412], [107.175163, -6.48535], [107.183778, -6.47355], [107.196732, -6.464129], [107.203698, -6.46764], [107.211937, -6.46647], [107.21417900000012, -6.458249], [107.206009, -6.436198], [107.204741, -6.42821], [107.207091, -6.41797], [107.212167, -6.41711], [107.213783, -6.41187], [107.22, -6.40979], [107.223298, -6.39946], [107.21937, -6.38226], [107.20826000000011, -6.369349], [107.21333, -6.36337], [107.214309, -6.354509], [107.225297, -6.35236], [107.22688, -6.34733], [107.220009, -6.32576], [107.223747, -6.32265], [107.2241, -6.31466], [107.23037, -6.30586], [107.23594700000012, -6.3082], [107.23809, -6.29992], [107.24482000000012, -6.30094], [107.25743, -6.29039], [107.2672740000001, -6.28555], [107.26762, -6.27514], [107.27671900000013, -6.26633], [107.27545, -6.260399], [107.27768700000013, -6.25305], [107.273781, -6.23817], [107.28212, -6.229469], [107.28208, -6.2254], [107.275224, -6.21748], [107.28914700000013, -6.21929], [107.297698, -6.20565], [107.293129, -6.19997], [107.29279, -6.1921], [107.28749, -6.18188], [107.290077, -6.1717], [107.288611, -6.16393], [107.279609, -6.165588999999898], [107.280869, -6.16034], [107.28864, -6.156069], [107.293999, -6.14359], [107.28824, -6.14113], [107.28063900000012, -6.13413], [107.28347900000011, -6.12747], [107.280067, -6.12557], [107.27236, -6.128221], [107.268379, -6.112319], [107.25891200000012, -6.11078], [107.25123, -6.11368], [107.249207, -6.10276], [107.244027, -6.09979], [107.236779, -6.10291], [107.215943, -6.101], [107.206918, -6.09464], [107.191224, -6.086209], [107.18877, -6.07697], [107.1835860000001, -6.07543], [107.17536100000012, -6.07772], [107.164886, -6.069498999999894], [107.158958, -6.06704], [107.1519320000001, -6.07056], [107.144966, -6.06822], [107.143127, -6.05799], [107.13443, -6.06134], [107.12992200000014, -6.046459], [107.123611, -6.04539], [107.116256, -6.03748], [107.11262, -6.02961], [107.10260000000011, -6.02509], [107.09892300000013, -6.02108], [107.1018, -6.01549], [107.09477, -6.012001], [107.091956, -6.0046], [107.08678, -6.00099], [107.08964, -5.97849], [107.096801, -5.961879999999894], [107.096519, -5.95395], [107.10072400000013, -5.93822]]], \"type\": \"Polygon\"}, \"id\": \"16\", \"properties\": {\"NAME\": \"KABUPATEN BEKASI\"}, \"type\": \"Feature\"}, {\"geometry\": {\"coordinates\": [[[107.18345, -6.97791], [107.184883, -6.98688], [107.188446, -6.99141], [107.183648, -6.999999], [107.194032, -7.012719], [107.193733, -7.017699], [107.188156, -7.0334], [107.185517, -7.0474], [107.188582, -7.05489], [107.195657, -7.05697], [107.205879, -7.05508], [107.218163, -7.05687], [107.22715, -7.051], [107.233673, -7.04945], [107.249175, -7.05079], [107.263839, -7.07783], [107.272605, -7.08371], [107.280908, -7.0832], [107.290191, -7.087131], [107.305878, -7.087019], [107.310607, -7.09342], [107.31857, -7.111921], [107.344169, -7.108403], [107.365664, -7.115347], [107.390782, -7.119542], [107.406654, -7.10939], [107.407148, -7.089053], [107.420642, -7.074666], [107.418639, -7.062762], [107.430634, -7.052838], [107.44713, -7.047874], [107.452628, -7.050868], [107.471126, -7.053842], [107.477126, -7.057314], [107.474624, -7.051361], [107.475238, -7.040063], [107.479731, -7.034859], [107.480853, -7.022596], [107.478553, -7.022481], [107.477866, -7.019979], [107.474658, -7.01816], [107.476491, -7.012247], [107.473741, -7.007471], [107.477637, -7.002922], [107.485427, -6.999965], [107.48726, -6.99428], [107.485583, -6.987062], [107.488254, -6.978666], [107.497604, -6.977119], [107.503615, -6.982201], [107.508067, -6.97513], [107.507844, -6.970268], [107.513632, -6.963418], [107.51818, -6.963531], [107.51818, -6.958982], [107.521617, -6.957162], [107.517722, -6.955797], [107.523679, -6.951248], [107.525971, -6.944197], [107.531928, -6.941695], [107.543963, -6.941252], [107.549548, -6.94351], [107.555466, -6.941593], [107.548943, -6.93188], [107.554779, -6.928642], [107.56422, -6.92762], [107.565765, -6.920974], [107.572632, -6.915691], [107.56628, -6.905892], [107.561474, -6.896093], [107.550144, -6.905892], [107.55023, -6.899246], [107.544565, -6.901461], [107.543192, -6.898053], [107.533493, -6.899757], [107.532549, -6.897797], [107.524867, -6.890853], [107.526219, -6.888999], [107.527184, -6.889702], [107.529266, -6.887295], [107.526026, -6.885953], [107.522936, -6.882119], [107.52388, -6.880159], [107.528429, -6.883226], [107.53006, -6.879988], [107.524223, -6.877347], [107.525339, -6.876068], [107.521198, -6.874023], [107.522914, -6.872127], [107.52491, -6.872575], [107.526455, -6.868484], [107.530231, -6.86661], [107.542012, -6.867142], [107.55038, -6.871957], [107.546518, -6.876388], [107.549973, -6.87888], [107.556152, -6.888765], [107.563534, -6.887743], [107.575893, -6.890469], [107.576923, -6.883482], [107.580261, -6.87313], [107.590027, -6.86303], [107.601532, -6.84835], [107.608932, -6.85147], [107.608686, -6.854481], [107.608385, -6.857473], [107.607886, -6.86296], [107.612189, -6.86509], [107.623963, -6.85339], [107.628692, -6.85605], [107.641644, -6.850394], [107.662243, -6.830623], [107.692112, -6.829255], [107.694173, -6.835391], [107.703444, -6.83948], [107.710998, -6.833002], [107.721299, -6.82925], [107.718207, -6.823455], [107.72385, -6.80552], [107.71815, -6.796511], [107.704795, -6.79097], [107.699665, -6.791417], [107.689712, -6.79135], [107.68159, -6.78981], [107.67353, -6.78311], [107.665298, -6.77175], [107.658387, -6.76797], [107.6482, -6.76592], [107.629028, -6.76925], [107.620506, -6.76415], [107.599358, -6.75604], [107.600676, -6.745998], [107.601967, -6.73616], [107.59563, -6.7269], [107.589988, -6.72205], [107.574287, -6.72495], [107.568238, -6.73025], [107.564378, -6.73801], [107.563735, -6.74521], [107.559769, -6.75262], [107.561385, -6.76831], [107.550217, -6.770059], [107.540253, -6.7602], [107.528969, -6.75425], [107.511588, -6.7517], [107.49944, -6.73512], [107.482682, -6.72958], [107.466507, -6.713929], [107.457466, -6.702629], [107.44843, -6.696439], [107.425972, -6.6965], [107.419053, -6.6894], [107.413369, -6.68789], [107.393707, -6.69529], [107.385354, -6.68852], [107.381545, -6.69017], [107.38089, -6.69839], [107.372246, -6.702381], [107.35551, -6.69458], [107.350745, -6.69844], [107.347976, -6.71016], [107.335441, -6.72906], [107.337663, -6.73332], [107.32764, -6.73593], [107.329431, -6.74092], [107.340705, -6.74843], [107.342376, -6.75239], [107.334037, -6.756779], [107.336341, -6.7635], [107.329782, -6.762361], [107.32402, -6.765649], [107.32265, -6.760966], [107.32034, -6.75307], [107.310607, -6.75896], [107.308007, -6.75385], [107.317048, -6.74423], [107.31239, -6.73142], [107.30652, -6.73477], [107.305427, -6.74799], [107.2984, -6.7533], [107.294197, -6.76228], [107.295592, -6.77153], [107.290626, -6.77556], [107.293382, -6.78094], [107.301796, -6.78462], [107.313844, -6.79614], [107.317565, -6.80734], [107.312973, -6.8154], [107.318901, -6.82372], [107.31976, -6.83544], [107.3227, -6.84291], [107.32034, -6.84975], [107.328583, -6.853989], [107.339919, -6.85218], [107.343536, -6.85464], [107.344001, -6.86395], [107.337212, -6.87116], [107.337212, -6.88012], [107.32898, -6.88537], [107.317178, -6.887809], [107.312446, -6.89685], [107.302726, -6.90509], [107.291962, -6.90926], [107.286027, -6.91594], [107.277229, -6.92159], [107.261512, -6.92571], [107.251548, -6.92619], [107.241187, -6.93277], [107.229789, -6.937909], [107.21341, -6.93958], [107.213897, -6.95048], [107.203362, -6.95711], [107.190009, -6.96761], [107.18345, -6.97791]]], \"type\": \"Polygon\"}, \"id\": \"17\", \"properties\": {\"NAME\": \"KABUPATEN BANDUNG BARAT\"}, \"type\": \"Feature\"}, {\"geometry\": {\"coordinates\": [[[108.715011, -7.46942], [108.697895, -7.469625], [108.691492, -7.459865], [108.649691, -7.464972], [108.64705, -7.489191], [108.655353, -7.496391], [108.650172, -7.530342], [108.619042, -7.550924], [108.575458, -7.56636], [108.549513, -7.556074], [108.543287, -7.568419], [108.524607, -7.567389], [108.517344, -7.540642], [108.539136, -7.535499], [108.520458, -7.524182], [108.485176, -7.534466], [108.468575, -7.515946], [108.445187, -7.503578], [108.436432, -7.499834], [108.429389, -7.49711], [108.423448, -7.49666], [108.417107, -7.49126], [108.409057, -7.49193], [108.397247, -7.47852], [108.39334, -7.47734], [108.372491, -7.479839], [108.36649, -7.48199], [108.356133, -7.48989], [108.34069, -7.49164], [108.333335, -7.50333], [108.33492, -7.52207], [108.333335, -7.53956], [108.33445, -7.552259], [108.350723, -7.56373], [108.354125, -7.57247], [108.36002, -7.61254], [108.357437, -7.62335], [108.358383, -7.63025], [108.35447, -7.63699], [108.35846, -7.64342], [108.362517, -7.66009], [108.35384, -7.67034], [108.351997, -7.68092], [108.341171, -7.67962], [108.331651, -7.68508], [108.323478, -7.68115], [108.320871, -7.68647], [108.314911, -7.689219], [108.315492, -7.69508], [108.32167, -7.70255], [108.321892, -7.70994], [108.315872, -7.71225], [108.316743, -7.719579], [108.312255, -7.72189], [108.3147, -7.7358], [108.31443, -7.74684], [108.319909, -7.75016], [108.323227, -7.77563], [108.321632, -7.782479], [108.32494, -7.79466], [108.338577, -7.797909], [108.34126, -7.80245], [108.335525, -7.81557], [108.34417, -7.8193], [108.349868, -7.81619], [108.362075, -7.81759], [108.370727, -7.813899], [108.382745, -7.81386], [108.41143, -7.81732], [108.42422, -7.82068], [108.44546, -7.82015], [108.449981, -7.81085], [108.46167, -7.809999], [108.474938, -7.806419], [108.48278, -7.80222], [108.48425, -7.79757], [108.496521, -7.79466], [108.503356, -7.78482], [108.501579, -7.78175], [108.507728, -7.76412], [108.50651, -7.7543], [108.503295, -7.74893], [108.497811, -7.74706], [108.497269, -7.74067], [108.50057, -7.72943], [108.496391, -7.720375], [108.501838, -7.71775], [108.50282, -7.71082], [108.517296, -7.69865], [108.539795, -7.690876], [108.559822, -7.68684], [108.584756, -7.684116], [108.593612, -7.68005], [108.59699, -7.68332], [108.62656, -7.684884], [108.640854, -7.68757], [108.651512, -7.69423], [108.6561, -7.703707], [108.650276, -7.70944], [108.650803, -7.71968], [108.663331, -7.725277], [108.666946, -7.72944], [108.678353, -7.721672], [108.675935, -7.71623], [108.66531, -7.70674], [108.65924, -7.70398], [108.661109, -7.69461], [108.671876, -7.68587], [108.686913, -7.67788], [108.699722, -7.67556], [108.721946, -7.67917], [108.732498, -7.68389], [108.740548, -7.685], [108.763046, -7.697499], [108.767501, -7.69139], [108.771112, -7.693889], [108.77583, -7.68722], [108.783166, -7.69212], [108.792023, -7.68344], [108.794304, -7.67646], [108.800278, -7.67424], [108.79826, -7.66737], [108.790543, -7.670769], [108.7859, -7.66682], [108.77835, -7.6586], [108.773796, -7.65959], [108.761238, -7.64891], [108.748131, -7.63379], [108.7492, -7.626399], [108.742622, -7.62342], [108.737998, -7.61704], [108.733451, -7.616129], [108.73776, -7.60922], [108.742814, -7.59409], [108.748863, -7.5931], [108.749366, -7.567591], [108.7533, -7.56164], [108.749359, -7.548991], [108.743529, -7.54297], [108.74253, -7.533251], [108.735817, -7.52038], [108.73332, -7.5059], [108.72162, -7.49287], [108.71682, -7.48316], [108.719628, -7.4743], [108.715011, -7.46942]]], \"type\": \"Polygon\"}, \"id\": \"18\", \"properties\": {\"NAME\": \"KABUPATEN PANGANDARAN\"}, \"type\": \"Feature\"}, {\"geometry\": {\"coordinates\": [[[106.76735700000012, -6.54053], [106.748543, -6.5604], [106.741997, -6.56476], [106.744301, -6.57604], [106.750801, -6.57598], [106.744598, -6.59796], [106.753096, -6.59641], [106.753586, -6.5869], [106.75974200000013, -6.58957], [106.766801, -6.59918], [106.77494000000013, -6.60224], [106.776483, -6.61031], [106.786666, -6.636279], [106.776298, -6.64839], [106.784637, -6.660409999999899], [106.794998, -6.65847], [106.803048, -6.654539], [106.80563, -6.66353], [106.82083200000011, -6.67451], [106.828796, -6.67416], [106.8312, -6.67712], [106.838897, -6.67191], [106.84088200000014, -6.662329], [106.845497, -6.650910999999894], [106.840317, -6.64408], [106.839341, -6.63332], [106.83131, -6.62476], [106.825286, -6.62514], [106.8205, -6.59746], [106.82229600000011, -6.59121], [106.8264, -6.593], [106.83141400000011, -6.580848], [106.83219800000012, -6.564089], [106.82775, -6.54879], [106.82800300000014, -6.53983], [106.82209000000012, -6.536879], [106.817231, -6.53969], [106.80475, -6.53602], [106.790497, -6.52671], [106.788391, -6.51737], [106.77842, -6.51907], [106.769996, -6.5153], [106.766938, -6.52216], [106.765999, -6.53353], [106.76735700000012, -6.54053]]], \"type\": \"Polygon\"}, \"id\": \"71\", \"properties\": {\"NAME\": \"KOTA BOGOR\"}, \"type\": \"Feature\"}, {\"geometry\": {\"coordinates\": [[[106.906409, -6.90913], [106.90075700000011, -6.89806], [106.897218, -6.89748], [106.892518, -6.91473], [106.892037, -6.921369], [106.885017, -6.92116], [106.88804, -6.92919], [106.898339, -6.94687], [106.89025, -6.95459], [106.87761, -6.958188], [106.861679, -6.9593], [106.855523, -6.966439], [106.855582, -6.97143], [106.848601, -6.97464], [106.84866, -6.9794], [106.854263, -6.984888999999896], [106.86172, -6.98176], [106.883057, -6.97596], [106.89689, -6.976648999999895], [106.9015, -6.979061], [106.923972, -6.981629], [106.93514, -6.97757], [106.951798, -6.97772], [106.955773, -6.97593], [106.962884, -6.94882], [106.960395, -6.936489], [106.94073, -6.94164], [106.9372780000001, -6.90382], [106.93354000000011, -6.90774], [106.92270700000012, -6.907129], [106.906409, -6.90913]]], \"type\": \"Polygon\"}, \"id\": \"72\", \"properties\": {\"NAME\": \"KOTA SUKABUMI\"}, \"type\": \"Feature\"}, {\"geometry\": {\"coordinates\": [[[107.548771, -6.931709], [107.555466, -6.941763], [107.56309, -6.949569], [107.5745, -6.96076], [107.588174, -6.96952], [107.596124, -6.97085], [107.60567, -6.968579], [107.612556, -6.96426], [107.619758, -6.96302], [107.635612, -6.96998], [107.651466, -6.96868], [107.658943, -6.971629], [107.676133, -6.972511], [107.687043, -6.97131], [107.705627, -6.96494], [107.710616, -6.96055], [107.712517, -6.94956], [107.718536, -6.94204], [107.721467, -6.92902], [107.717469, -6.9225], [107.729898, -6.91689], [107.73621, -6.911929], [107.728081, -6.90705], [107.706596, -6.912079], [107.70919, -6.90578], [107.706498, -6.89989], [107.699416, -6.9037], [107.6998, -6.91558], [107.697732, -6.91816], [107.689796, -6.9161], [107.67922, -6.90333], [107.670303, -6.902229], [107.66463, -6.89592], [107.657227, -6.904588], [107.652778, -6.90221], [107.65128, -6.893981], [107.638625, -6.89244], [107.635247, -6.88675], [107.63433, -6.87661], [107.627952, -6.87061], [107.628692, -6.85605], [107.623963, -6.85339], [107.612189, -6.86509], [107.607886, -6.86296], [107.608932, -6.85147], [107.601532, -6.84835], [107.590027, -6.86303], [107.580261, -6.87313], [107.577095, -6.883312], [107.575893, -6.890469], [107.563705, -6.888083], [107.556152, -6.888595], [107.561474, -6.896093], [107.572117, -6.91535], [107.566109, -6.920803], [107.563705, -6.92762], [107.554607, -6.928301], [107.548771, -6.931709]]], \"type\": \"Polygon\"}, \"id\": \"73\", \"properties\": {\"NAME\": \"KOTA BANDUNG\"}, \"type\": \"Feature\"}, {\"geometry\": {\"coordinates\": [[[108.583892, -6.7325], [108.574974, -6.7184], [108.5725, -6.708612], [108.56916, -6.70834], [108.561226, -6.720379], [108.55954800000012, -6.72635], [108.553819, -6.732869], [108.538612, -6.73948], [108.52561, -6.750039999999899], [108.529931, -6.77001], [108.528618, -6.78683], [108.5373, -6.790259], [108.543763, -6.78727], [108.551148, -6.77913], [108.561112, -6.75377], [108.569429, -6.74442], [108.577941, -6.74039], [108.583892, -6.7325]]], \"type\": \"Polygon\"}, \"id\": \"74\", \"properties\": {\"NAME\": \"KOTA CIREBON\"}, \"type\": \"Feature\"}, {\"geometry\": {\"coordinates\": [[[106.98464300000012, -6.37687], [107.00470800000011, -6.36627], [107.01071900000011, -6.35476], [107.0217970000001, -6.353249], [107.023842, -6.348859], [107.026741, -6.32832], [107.04004, -6.3246], [107.043342, -6.32074], [107.045737, -6.30647], [107.044518, -6.28467], [107.03115800000012, -6.27945], [107.01883700000013, -6.282739], [107.024063, -6.26364], [107.029168, -6.25692], [107.039429, -6.25136], [107.04252600000012, -6.24644], [107.04432, -6.22932], [107.040124, -6.22128], [107.032639, -6.21721], [107.03829200000013, -6.203758], [107.035798, -6.196349], [107.02869, -6.19292], [107.023728, -6.19383], [107.012223, -6.18517], [107.01204, -6.16734], [106.983642, -6.16504], [106.972946, -6.17417], [106.971572, -6.19429], [106.968461, -6.20337], [106.95539, -6.22271], [106.947678, -6.24026], [106.945259, -6.25538], [106.92562900000013, -6.258867999999893], [106.90916, -6.26396], [106.90772, -6.27448], [106.9120410000001, -6.27798], [106.911811, -6.29769], [106.922227, -6.3067], [106.922113, -6.32118], [106.91653, -6.33044], [106.91621, -6.35905], [106.909447, -6.37546], [106.904, -6.39232], [106.900627, -6.3985], [106.9031, -6.4052], [106.910117, -6.40437], [106.921928, -6.404310999999893], [106.927596, -6.40195], [106.9329, -6.393028999999899], [106.9404, -6.38827], [106.946098, -6.36557], [106.94641, -6.3531], [106.950431, -6.34221], [106.95786, -6.3334], [106.961373, -6.30684], [106.966843, -6.30304], [106.97198500000013, -6.303429], [106.98026, -6.31456], [106.977721, -6.3233], [106.97887, -6.33261], [106.97155800000013, -6.352120999999897], [106.969803, -6.36096], [106.971802, -6.367571], [106.98464300000012, -6.37687]]], \"type\": \"Polygon\"}, \"id\": \"75\", \"properties\": {\"NAME\": \"KOTA BEKASI\"}, \"type\": \"Feature\"}, {\"geometry\": {\"coordinates\": [[[106.842553, -6.34836], [106.837014, -6.354491], [106.819702, -6.35617], [106.8121, -6.362571], [106.801567, -6.36402], [106.794602, -6.36169], [106.794602, -6.35215], [106.800819, -6.33466], [106.808418, -6.31867], [106.805024, -6.31454], [106.779587, -6.31729], [106.77595, -6.31675], [106.773827, -6.33098], [106.771104, -6.33789], [106.771302, -6.347078999999894], [106.767403, -6.36123], [106.7617, -6.36268], [106.742508, -6.360531], [106.724502, -6.36075], [106.7229, -6.36836], [106.724197, -6.38444], [106.7318, -6.40486], [106.733001, -6.41262], [106.7409, -6.42593], [106.742095, -6.43818], [106.7403, -6.45318], [106.751098, -6.448779], [106.7677, -6.44548], [106.785895, -6.44351], [106.7949, -6.455149], [106.8003, -6.457578999999896], [106.819198, -6.455868999999893], [106.820602, -6.43723], [106.826995, -6.44139], [106.836501, -6.44245], [106.846199, -6.43945], [106.846703, -6.45028], [106.850999, -6.46086], [106.857002, -6.462691], [106.862, -6.45294], [106.8678, -6.44922], [106.875397, -6.449699999999893], [106.883301, -6.43418], [106.890503, -6.42744], [106.8936010000001, -6.4136], [106.89980200000014, -6.41392], [106.9032, -6.418], [106.90960000000013, -6.41473], [106.910117, -6.40437], [106.9031, -6.4052], [106.900627, -6.3985], [106.904, -6.39232], [106.909447, -6.37546], [106.90316800000011, -6.37674], [106.88289500000013, -6.36609], [106.879326, -6.36173], [106.862702, -6.35752], [106.85905, -6.34946], [106.846297, -6.34686], [106.842553, -6.34836]]], \"type\": \"Polygon\"}, \"id\": \"76\", \"properties\": {\"NAME\": \"KOTA DEPOK\"}, \"type\": \"Feature\"}, {\"geometry\": {\"coordinates\": [[[107.561219, -6.896149], [107.549801, -6.87888], [107.546456, -6.87638], [107.550404, -6.871949], [107.541993, -6.867177], [107.530146, -6.866631], [107.526412, -6.868506], [107.524867, -6.872596], [107.522938, -6.872118], [107.521222, -6.873992], [107.525342, -6.876038], [107.52418, -6.877347], [107.53006, -6.879967], [107.528431, -6.883196], [107.523796, -6.880128], [107.522938, -6.882173], [107.526028, -6.885923], [107.529289, -6.887286], [107.527163, -6.889766], [107.526886, -6.889501], [107.526199, -6.88899], [107.524826, -6.890865], [107.532722, -6.897682], [107.533665, -6.900055], [107.536154, -6.899459], [107.538986, -6.89899], [107.543149, -6.898138], [107.544395, -6.901261], [107.550232, -6.899217], [107.55006, -6.905693], [107.557957, -6.899557], [107.561219, -6.896149]]], \"type\": \"Polygon\"}, \"id\": \"77\", \"properties\": {\"NAME\": \"KOTA CIMAHI\"}, \"type\": \"Feature\"}, {\"geometry\": {\"coordinates\": [[[108.198859, -7.27629], [108.18828600000012, -7.27399], [108.182746, -7.2752], [108.16448300000013, -7.27395], [108.166496, -7.283141], [108.163239, -7.28436], [108.164269, -7.2913], [108.14629, -7.292728999999895], [108.1501090000001, -7.30545], [108.15814300000011, -7.31739], [108.15569, -7.33358], [108.16047, -7.33758], [108.163239, -7.34677], [108.16274, -7.35299], [108.17711, -7.3955], [108.175813, -7.40093], [108.17945, -7.407259999999894], [108.183006, -7.42948], [108.187119, -7.44075], [108.1914220000001, -7.444909], [108.199372, -7.44668], [108.203743, -7.44019], [108.212571, -7.43746], [108.21858300000014, -7.431629], [108.224823, -7.43564], [108.23536, -7.43611], [108.24415, -7.43284], [108.255127, -7.43382], [108.26095, -7.43164], [108.26798300000013, -7.41807], [108.267746, -7.4017], [108.26371, -7.3955], [108.26485, -7.38919], [108.27468, -7.373379], [108.27609200000012, -7.36331], [108.280136, -7.35692], [108.276482, -7.350058], [108.279823, -7.34356], [108.288972, -7.3326], [108.279105, -7.33132], [108.273086, -7.31811], [108.25634, -7.31924], [108.252777, -7.31411], [108.24508, -7.31207], [108.22898, -7.30077], [108.228417, -7.297389999999893], [108.21282100000013, -7.28953], [108.20221, -7.28259], [108.198859, -7.27629]]], \"type\": \"Polygon\"}, \"id\": \"78\", \"properties\": {\"NAME\": \"KOTA TASIKMALAYA\"}, \"type\": \"Feature\"}, {\"geometry\": {\"coordinates\": [[[108.654092, -7.34747], [108.653075, -7.3432], [108.64231100000012, -7.345], [108.63411000000013, -7.34357], [108.629632, -7.34641], [108.6222, -7.34579], [108.6201850000001, -7.34964], [108.614432, -7.34989], [108.613151, -7.34586], [108.598923, -7.35043], [108.58969900000011, -7.346371], [108.581688, -7.34891], [108.58007, -7.34282], [108.57296800000012, -7.33536], [108.56397900000013, -7.33676], [108.557862, -7.330791], [108.56199, -7.319849], [108.560936, -7.31324], [108.558609, -7.31704], [108.534546, -7.3381], [108.52285, -7.3535], [108.516265, -7.35304], [108.498016, -7.3554], [108.48266, -7.3546], [108.47107, -7.35635], [108.473069, -7.36421], [108.464675, -7.37622], [108.464158, -7.38273], [108.46811, -7.3938], [108.475562, -7.40375], [108.486473, -7.39451], [108.496758, -7.41108], [108.50167, -7.41378], [108.512528, -7.41488], [108.517487, -7.41907], [108.523552, -7.41898], [108.542282, -7.40536], [108.559708, -7.423829999999896], [108.56431600000013, -7.426669], [108.572608, -7.42123], [108.579917, -7.40544], [108.58487, -7.398618], [108.590606, -7.38496], [108.599121, -7.38333], [108.611672, -7.38516], [108.628007, -7.38186], [108.6364, -7.37514], [108.649246, -7.368561], [108.652877, -7.35746], [108.654092, -7.34747]]], \"type\": \"Polygon\"}, \"id\": \"79\", \"properties\": {\"NAME\": \"KOTA BANJAR\"}, \"type\": \"Feature\"}, {\"geometry\": {\"coordinates\": [[[107.253068, -7.1969], [107.257339, -7.20318], [107.269043, -7.20423], [107.283691, -7.20782], [107.308023, -7.20404], [107.318336, -7.20065], [107.33559, -7.20723], [107.341752, -7.20579], [107.35456, -7.21854], [107.351463, -7.228159], [107.356757, -7.23651], [107.383179, -7.247949], [107.39125, -7.25377], [107.399667, -7.255969], [107.413629, -7.25667], [107.427276, -7.25317], [107.433425, -7.25537], [107.44262, -7.25272], [107.453292, -7.25613], [107.462967, -7.249979], [107.473839, -7.25082], [107.484307, -7.257478], [107.489617, -7.258239], [107.5091, -7.25105], [107.524438, -7.25089], [107.535797, -7.24923], [107.542717, -7.25529], [107.55713, -7.253569], [107.570397, -7.26257], [107.58159, -7.27733], [107.59497, -7.28374], [107.600053, -7.28829], [107.60126, -7.29959], [107.605712, -7.30795], [107.610671, -7.30962], [107.618156, -7.307031], [107.625832, -7.30105], [107.632576, -7.300879], [107.64347, -7.29588], [107.65545, -7.28172], [107.664147, -7.27977], [107.669587, -7.2921], [107.67892, -7.29182], [107.683023, -7.29793], [107.696747, -7.295929], [107.712257, -7.30182], [107.718727, -7.31001], [107.723053, -7.30834], [107.727737, -7.29466], [107.721237, -7.29537], [107.722169, -7.28869], [107.73438, -7.27453], [107.736343, -7.267561], [107.733223, -7.26272], [107.712569, -7.24916], [107.70687, -7.23853], [107.70668, -7.227489], [107.708968, -7.2224], [107.722923, -7.2119], [107.721175, -7.19507], [107.732879, -7.17895], [107.738839, -7.16783], [107.748673, -7.170319], [107.7549, -7.16958], [107.75852, -7.15737], [107.773627, -7.15364], [107.779877, -7.15849], [107.78753, -7.156991], [107.795646, -7.15176], [107.8085, -7.13494], [107.807687, -7.121], [107.809348, -7.10493], [107.80807, -7.09813], [107.81067, -7.09508], [107.821906, -7.092149], [107.826752, -7.08812], [107.83458, -7.06987], [107.837983, -7.06566], [107.85251, -7.05869], [107.875785, -7.05256], [107.896377, -7.05022], [107.910218, -7.05288], [107.921571, -7.05151], [107.926986, -7.04783], [107.930901, -7.03579], [107.925712, -7.03405], [107.91124, -7.03335], [107.90899, -7.02932], [107.905694, -7.005749], [107.907937, -6.99978], [107.905487, -6.99133], [107.898934, -6.98462], [107.89692, -6.97928], [107.905838, -6.96799], [107.914544, -6.96492], [107.916153, -6.94796], [107.908372, -6.95074], [107.894784, -6.95158], [107.88742, -6.95786], [107.877572, -6.96058], [107.864387, -6.96142], [107.855056, -6.96495], [107.83802, -6.96688], [107.829505, -6.96351], [107.808838, -6.96351], [107.770897, -6.95164], [107.759551, -6.94437], [107.755866, -6.92931], [107.758056, -6.91988], [107.758453, -6.89643], [107.748208, -6.88254], [107.738586, -6.873719], [107.741241, -6.84175], [107.744461, -6.83433], [107.741182, -6.81951], [107.74429, -6.81013], [107.728813, -6.80827], [107.72385, -6.80552], [107.718207, -6.823455], [107.721299, -6.82925], [107.710998, -6.833002], [107.703444, -6.83948], [107.694173, -6.835391], [107.692112, -6.829255], [107.662243, -6.830623], [107.641644, -6.850394], [107.628692, -6.85605], [107.627952, -6.87061], [107.63433, -6.87661], [107.635247, -6.88675], [107.638625, -6.89244], [107.65128, -6.893981], [107.652778, -6.90221], [107.657227, -6.904588], [107.66463, -6.89592], [107.670303, -6.902229], [107.67922, -6.90333], [107.689796, -6.9161], [107.697732, -6.91816], [107.6998, -6.91558], [107.699416, -6.9037], [107.706498, -6.89989], [107.70919, -6.90578], [107.706596, -6.912079], [107.728081, -6.90705], [107.73621, -6.911929], [107.729898, -6.91689], [107.717469, -6.9225], [107.721467, -6.92902], [107.718536, -6.94204], [107.712517, -6.94956], [107.710616, -6.96055], [107.705627, -6.96494], [107.687043, -6.97131], [107.676133, -6.972511], [107.658943, -6.971629], [107.651466, -6.96868], [107.635612, -6.96998], [107.619758, -6.96302], [107.612556, -6.96426], [107.60567, -6.968579], [107.596124, -6.97085], [107.588174, -6.96952], [107.5745, -6.96076], [107.56309, -6.949569], [107.55817, -6.94093], [107.549548, -6.94351], [107.543963, -6.941252], [107.531928, -6.941695], [107.525971, -6.944197], [107.523679, -6.951248], [107.517722, -6.955797], [107.521617, -6.957162], [107.51818, -6.958982], [107.51818, -6.963531], [107.513632, -6.963418], [107.507844, -6.970268], [107.508067, -6.97513], [107.503615, -6.982201], [107.497604, -6.977119], [107.488254, -6.978666], [107.485583, -6.987062], [107.48726, -6.99428], [107.485427, -6.999965], [107.477637, -7.002922], [107.473741, -7.007471], [107.476491, -7.012247], [107.474658, -7.01816], [107.477866, -7.019979], [107.478553, -7.022481], [107.480853, -7.022596], [107.479731, -7.034859], [107.475238, -7.040063], [107.474624, -7.051361], [107.477126, -7.057314], [107.471126, -7.053842], [107.452628, -7.050868], [107.44713, -7.047874], [107.430634, -7.052838], [107.418639, -7.062762], [107.420642, -7.074666], [107.407148, -7.089053], [107.406654, -7.10939], [107.390782, -7.119542], [107.365664, -7.115347], [107.344169, -7.108403], [107.31857, -7.111921], [107.309417, -7.12505], [107.298058, -7.12884], [107.290863, -7.12849], [107.287681, -7.132059], [107.287057, -7.14312], [107.284285, -7.15504], [107.27791, -7.167349], [107.25796, -7.18855], [107.253068, -7.1969]]], \"type\": \"Polygon\"}, \"id\": \"04\", \"properties\": {\"NAME\": \"KABUPATEN BANDUNG\"}, \"type\": \"Feature\"}, {\"geometry\": {\"coordinates\": [[[107.17640000000011, -6.49412], [107.1481940000001, -6.47626], [107.11531000000014, -6.459378999999899], [107.078926, -6.435379999999896], [107.071396, -6.42919], [107.05945600000013, -6.41588], [107.052085, -6.404919], [107.045097, -6.400801], [107.01599900000014, -6.39408], [107.007202, -6.39031], [106.98464300000012, -6.37687], [106.971802, -6.367571], [106.969803, -6.36096], [106.97155800000013, -6.352120999999897], [106.97887, -6.33261], [106.977721, -6.3233], [106.98026, -6.31456], [106.97198500000013, -6.303429], [106.966843, -6.30304], [106.961373, -6.30684], [106.95786, -6.3334], [106.950431, -6.34221], [106.94641, -6.3531], [106.946098, -6.36557], [106.9404, -6.38827], [106.9329, -6.393028999999899], [106.927596, -6.40195], [106.921928, -6.404310999999893], [106.910117, -6.40437], [106.90960000000013, -6.41473], [106.9032, -6.418], [106.89980200000014, -6.41392], [106.8936010000001, -6.4136], [106.890503, -6.42744], [106.883301, -6.43418], [106.875397, -6.449699999999893], [106.8678, -6.44922], [106.862, -6.45294], [106.857002, -6.462691], [106.850999, -6.46086], [106.846703, -6.45028], [106.846199, -6.43945], [106.836501, -6.44245], [106.826995, -6.44139], [106.820602, -6.43723], [106.819198, -6.455868999999893], [106.8003, -6.457578999999896], [106.7949, -6.455149], [106.785895, -6.44351], [106.7677, -6.44548], [106.751098, -6.448779], [106.7403, -6.45318], [106.742095, -6.43818], [106.7409, -6.42593], [106.733001, -6.41262], [106.7318, -6.40486], [106.724197, -6.38444], [106.7229, -6.36836], [106.724502, -6.36075], [106.71325700000011, -6.35916], [106.675004, -6.359649], [106.6688, -6.358701], [106.652466, -6.362279], [106.64032700000013, -6.36122], [106.623977, -6.362172], [106.5991, -6.361759], [106.59525, -6.36367], [106.58914900000013, -6.35903], [106.58772, -6.35248], [106.57769900000011, -6.34261], [106.55761, -6.34036], [106.548546, -6.33611], [106.532098, -6.33363], [106.51955, -6.32599], [106.51328, -6.32879], [106.516297, -6.333259], [106.53088, -6.33834], [106.532586, -6.34953], [106.528588, -6.35502], [106.52117, -6.354169999999897], [106.4981, -6.355368], [106.495536, -6.35213], [106.49384, -6.33608], [106.49087, -6.32406], [106.485802, -6.31675], [106.47228200000012, -6.31181], [106.4665, -6.31338], [106.457901, -6.32408], [106.446701, -6.33352], [106.4364, -6.346290999999894], [106.428001, -6.348768], [106.4319, -6.35717], [106.43499700000012, -6.37609], [106.443704, -6.39886], [106.443902, -6.40658], [106.453103, -6.40979], [106.45829700000013, -6.4218], [106.4555, -6.422911], [106.455398, -6.43154], [106.450799, -6.43931], [106.441003, -6.449611], [106.4358, -6.45272], [106.417801, -6.45089], [106.40489900000011, -6.45314], [106.4041, -6.45912], [106.4077, -6.47304], [106.398698, -6.50532], [106.4012, -6.51683], [106.4018, -6.52988], [106.4124, -6.54041], [106.415901, -6.547999], [106.418198, -6.56341], [106.431396, -6.58377], [106.430603, -6.60345], [106.427299, -6.61179], [106.4263, -6.63073], [106.430298, -6.65907], [106.426398, -6.67547], [106.429398, -6.69578], [106.433502, -6.70251], [106.441101, -6.70112], [106.456497, -6.71647], [106.4682, -6.73068], [106.47820300000012, -6.72792], [106.487999, -6.74021], [106.495201, -6.753151], [106.499702, -6.75516], [106.511497, -6.76596], [106.52557, -6.76662], [106.525299, -6.75748], [106.5306, -6.75413], [106.54508, -6.75168], [106.548104, -6.74708], [106.55650300000013, -6.742340999999897], [106.563331, -6.72848], [106.573517, -6.721441], [106.5832, -6.724579], [106.58940200000012, -6.740251], [106.59410200000013, -6.74553], [106.605422, -6.749529], [106.620323, -6.748289], [106.63143200000013, -6.75357], [106.658599, -6.74618], [106.667488, -6.742028], [106.6723, -6.73367], [106.68129, -6.735878999999898], [106.685798, -6.743359], [106.69310000000013, -6.74271], [106.695503, -6.736989], [106.70813, -6.73072], [106.713936, -6.72502], [106.73950100000013, -6.712539], [106.746872, -6.716718999999898], [106.75791900000013, -6.732549], [106.7713480000001, -6.7481], [106.783028, -6.753939], [106.795798, -6.7542], [106.808005, -6.763309], [106.828957, -6.76469], [106.84555, -6.77316], [106.86020000000013, -6.77439], [106.899697, -6.78516], [106.906922, -6.78515], [106.92276, -6.780569], [106.935601, -6.76433], [106.942208, -6.75966], [106.95199700000012, -6.75659], [106.960008, -6.76358], [106.966499, -6.75276], [106.980896, -6.74134], [106.984101, -6.735469], [106.987747, -6.70931], [106.990113, -6.70316], [106.99630100000013, -6.69831], [107.00127, -6.6902], [107.001397, -6.68554], [106.995102, -6.678310999999894], [106.99179900000013, -6.670031], [107.000604, -6.664561], [107.01429000000013, -6.66505], [107.04000100000013, -6.65711], [107.0541, -6.65707], [107.06244, -6.66226], [107.084198, -6.665859999999896], [107.100113, -6.66393], [107.119057, -6.66365], [107.1252, -6.66806], [107.14221, -6.66578], [107.1508, -6.660529], [107.151002, -6.65323], [107.15989700000011, -6.645621], [107.169196, -6.644851], [107.181526, -6.64747], [107.190857, -6.64359], [107.205986, -6.62884], [107.21958100000012, -6.61116], [107.223923, -6.59998], [107.222908, -6.58018], [107.211166, -6.58716], [107.204322, -6.58878], [107.200204, -6.59349], [107.192063, -6.56927], [107.18679800000012, -6.55951], [107.178643, -6.5497], [107.176697, -6.54373], [107.177002, -6.53022], [107.17529900000011, -6.52396], [107.164421, -6.5072], [107.16563, -6.49961], [107.17640000000011, -6.49412]], [[106.76735700000012, -6.54053], [106.765999, -6.53353], [106.766938, -6.52216], [106.769996, -6.5153], [106.77842, -6.51907], [106.788391, -6.51737], [106.790497, -6.52671], [106.80475, -6.53602], [106.817231, -6.53969], [106.82209000000012, -6.536879], [106.82800300000014, -6.53983], [106.82775, -6.54879], [106.83219800000012, -6.564089], [106.83141400000011, -6.580848], [106.8264, -6.593], [106.82229600000011, -6.59121], [106.8205, -6.59746], [106.825286, -6.62514], [106.83131, -6.62476], [106.839341, -6.63332], [106.840317, -6.64408], [106.845497, -6.650910999999894], [106.84088200000014, -6.662329], [106.838897, -6.67191], [106.8312, -6.67712], [106.828796, -6.67416], [106.82083200000011, -6.67451], [106.80563, -6.66353], [106.803048, -6.654539], [106.794998, -6.65847], [106.784637, -6.660409999999899], [106.776298, -6.64839], [106.786666, -6.636279], [106.776483, -6.61031], [106.77494000000013, -6.60224], [106.766801, -6.59918], [106.75974200000013, -6.58957], [106.753586, -6.5869], [106.753096, -6.59641], [106.744598, -6.59796], [106.750801, -6.57598], [106.744301, -6.57604], [106.741997, -6.56476], [106.748543, -6.5604], [106.76735700000012, -6.54053]]], \"type\": \"Polygon\"}, \"id\": \"01\", \"properties\": {\"NAME\": \"KABUPATEN BOGOR\"}, \"type\": \"Feature\"}, {\"geometry\": {\"coordinates\": [[[106.960008, -6.76358], [106.95199700000012, -6.75659], [106.942208, -6.75966], [106.935601, -6.76433], [106.92276, -6.780569], [106.906922, -6.78515], [106.899697, -6.78516], [106.86020000000013, -6.77439], [106.84555, -6.77316], [106.828957, -6.76469], [106.808005, -6.763309], [106.795798, -6.7542], [106.783028, -6.753939], [106.7713480000001, -6.7481], [106.75791900000013, -6.732549], [106.746872, -6.716718999999898], [106.73950100000013, -6.712539], [106.713936, -6.72502], [106.70813, -6.73072], [106.695503, -6.736989], [106.69310000000013, -6.74271], [106.685798, -6.743359], [106.68129, -6.735878999999898], [106.6723, -6.73367], [106.667488, -6.742028], [106.658599, -6.74618], [106.63143200000013, -6.75357], [106.620323, -6.748289], [106.605422, -6.749529], [106.59410200000013, -6.74553], [106.58940200000012, -6.740251], [106.5832, -6.724579], [106.573517, -6.721441], [106.563331, -6.72848], [106.55650300000013, -6.742340999999897], [106.548104, -6.74708], [106.54508, -6.75168], [106.5306, -6.75413], [106.525299, -6.75748], [106.52557, -6.76662], [106.511497, -6.76596], [106.502091, -6.774197999999899], [106.494203, -6.776339], [106.490768, -6.78065], [106.487456, -6.79458], [106.45670400000012, -6.80529], [106.4487, -6.81675], [106.438407, -6.81564], [106.434302, -6.82061], [106.435638, -6.82639], [106.43355, -6.84074], [106.429261, -6.85254], [106.427567, -6.86508], [106.420457, -6.87487], [106.4187, -6.88108], [106.407997, -6.88609], [106.397797, -6.8968], [106.3914, -6.90002], [106.390602, -6.90497], [106.395402, -6.91187], [106.397697, -6.92671], [106.3887, -6.93414], [106.38810000000012, -6.94397], [106.394363, -6.95743], [106.39039700000012, -6.96854], [106.39305900000011, -6.97659], [106.396667, -6.97889], [106.41417, -6.976112], [106.41556, -6.963889], [106.42917000000011, -6.95778], [106.434448, -6.958056], [106.44021, -6.952566], [106.45138400000013, -6.95389], [106.456948, -6.9575], [106.46, -6.955], [106.47862, -6.96361], [106.488053, -6.96111], [106.497222, -6.96417], [106.505279, -6.96333], [106.51638800000012, -6.967221], [106.528893, -6.97639], [106.533333, -6.98139], [106.543054, -6.98556], [106.540772, -7.00814], [106.5411140000001, -7.0175], [106.544724, -7.02805], [106.54777600000011, -7.02861], [106.54583, -7.03972], [106.5426, -7.04547], [106.54404, -7.05598], [106.5293, -7.06495], [106.522491, -7.078759], [106.51200000000011, -7.08698], [106.511093, -7.09072], [106.498834, -7.099673], [106.484323, -7.10329], [106.481567, -7.11162], [106.47, -7.11944], [106.46629200000012, -7.12724], [106.457725, -7.1286], [106.458053, -7.13278], [106.452225, -7.14333], [106.448891, -7.15333], [106.45807600000012, -7.16677], [106.465194, -7.17072], [106.465896, -7.17724], [106.460572, -7.18357], [106.45440700000012, -7.18684], [106.448189, -7.18596], [106.44005, -7.19043], [106.43383100000011, -7.184504], [106.424165, -7.19055], [106.41417, -7.18639], [106.406944, -7.188333], [106.400557, -7.18639], [106.39555200000012, -7.199166], [106.399169, -7.20583], [106.394996, -7.21167], [106.38944, -7.21194], [106.388337, -7.21806], [106.39083, -7.22861], [106.379997, -7.23944], [106.37861, -7.246103], [106.384902, -7.26222], [106.382058, -7.271419], [106.37040700000011, -7.280021], [106.37816, -7.29491], [106.37274100000013, -7.30681], [106.380729, -7.31865], [106.385682, -7.31829], [106.397064, -7.33042], [106.39980300000013, -7.34663], [106.40243, -7.347325999999896], [106.40360900000013, -7.35667], [106.399445, -7.36778], [106.400557, -7.37333], [106.405282, -7.37444], [106.406112, -7.36972], [106.41417, -7.36333], [106.424156, -7.36], [106.443886, -7.36083], [106.449723, -7.36667], [106.459168, -7.36833], [106.467781, -7.37222], [106.47361100000012, -7.37167], [106.49028, -7.37694], [106.494424, -7.38362], [106.504753, -7.39328], [106.51566, -7.39882], [106.523278, -7.40796], [106.53306, -7.40833], [106.53616, -7.41078], [106.559525, -7.41681], [106.576249, -7.418123], [106.58194, -7.41311], [106.606673, -7.414832], [106.613609, -7.41667], [106.663964, -7.423273], [106.67972700000013, -7.421667], [106.684647, -7.425292999999897], [106.747428, -7.431573999999898], [106.776109, -7.43572], [106.79139, -7.43639], [106.789016, -7.43166], [106.793214, -7.42832], [106.790276, -7.41422], [106.779838, -7.41569], [106.77309, -7.409291], [106.77198800000014, -7.40307], [106.778153, -7.39662], [106.790734, -7.392308999999898], [106.796769, -7.38529], [106.80547300000012, -7.3808], [106.811814, -7.37401], [106.819474, -7.360189], [106.836137, -7.353928], [106.84969300000012, -7.35405], [106.85942, -7.35158], [106.87285600000013, -7.354649], [106.874413, -7.34947], [106.888817, -7.34481], [106.890717, -7.339918999999895], [106.89989, -7.33785], [106.904281, -7.345689], [106.906594, -7.34489], [106.90513, -7.334919999999897], [106.90882, -7.32392], [106.919936, -7.32266], [106.927391, -7.327219], [106.9318760000001, -7.31835], [106.938851, -7.31369], [106.952582, -7.31364], [106.960067, -7.30783], [106.96721, -7.29758], [106.97014500000012, -7.28382], [106.96932900000013, -7.27033], [106.967308, -7.26567], [106.95819100000011, -7.25719], [106.964867, -7.24429], [106.969537, -7.243199], [106.977783, -7.23606], [106.97993, -7.22631], [106.978813, -7.21745], [106.9730990000001, -7.211], [106.970841, -7.2008], [106.964951, -7.189391], [106.97049, -7.1849], [106.96718700000014, -7.17591], [106.961662, -7.17521], [106.956047, -7.160341], [106.9632, -7.147668999999894], [106.958809, -7.1396], [106.944106, -7.13106], [106.938278, -7.124549], [106.935967, -7.11763], [106.936653, -7.10519], [106.9437870000001, -7.0852], [106.943885, -7.07351], [106.954216, -7.06741], [106.955468, -7.06352], [106.951028, -7.05519], [106.952348, -7.04292], [106.95731, -7.03216], [106.9652630000001, -7.02415], [106.976547, -7.01627], [106.986184, -7.0157], [106.993737, -7.02902], [107.01629, -7.0325], [107.023728, -7.03694], [107.0386, -7.040659], [107.043388, -7.03995], [107.050941, -7.02872], [107.05676, -7.02467], [107.05565600000011, -7.01974], [107.0465400000001, -7.00004], [107.03394, -6.98763], [107.031402, -6.98034], [107.04084, -6.96026], [107.045035, -6.95795], [107.065192, -6.97583], [107.067964, -6.973360999999898], [107.064796, -6.96566], [107.048789, -6.94501], [107.046647, -6.936329], [107.048317, -6.918051], [107.04475, -6.905869], [107.031051, -6.89148], [107.03433300000012, -6.8825], [107.02103, -6.8577], [107.001976, -6.842399], [106.997247, -6.83482], [106.991836, -6.81259], [106.99098, -6.80179], [106.988198, -6.79459], [106.977676, -6.78486], [106.963173, -6.7688], [106.960008, -6.76358]], [[106.906409, -6.90913], [106.92270700000012, -6.907129], [106.93354000000011, -6.90774], [106.9372780000001, -6.90382], [106.94073, -6.94164], [106.960395, -6.936489], [106.962884, -6.94882], [106.955773, -6.97593], [106.951798, -6.97772], [106.93514, -6.97757], [106.923972, -6.981629], [106.9015, -6.979061], [106.89689, -6.976648999999895], [106.883057, -6.97596], [106.86172, -6.98176], [106.854263, -6.984888999999896], [106.84866, -6.9794], [106.848601, -6.97464], [106.855582, -6.97143], [106.855523, -6.966439], [106.861679, -6.9593], [106.87761, -6.958188], [106.89025, -6.95459], [106.898339, -6.94687], [106.88804, -6.92919], [106.885017, -6.92116], [106.892037, -6.921369], [106.892518, -6.91473], [106.897218, -6.89748], [106.90075700000011, -6.89806], [106.906409, -6.90913]]], \"type\": \"Polygon\"}, \"id\": \"02\", \"properties\": {\"NAME\": \"KABUPATEN SUKABUMI\"}, \"type\": \"Feature\"}, {\"geometry\": {\"coordinates\": [[[107.33544100000012, -6.72906], [107.326051, -6.73142], [107.316077, -6.727168], [107.309677, -6.718], [107.306512, -6.709589], [107.286346, -6.703729999999894], [107.27975, -6.698219], [107.26335200000011, -6.69336], [107.26056, -6.68606], [107.265159, -6.683291], [107.275399, -6.66948], [107.275818, -6.65946], [107.281639, -6.64999], [107.26622, -6.63613], [107.256829, -6.63097], [107.240357, -6.61652], [107.23051, -6.60361], [107.223923, -6.59998], [107.21958100000012, -6.61116], [107.205986, -6.62884], [107.190857, -6.64359], [107.181526, -6.64747], [107.169196, -6.644851], [107.15989700000011, -6.645621], [107.151002, -6.65323], [107.1508, -6.660529], [107.14221, -6.66578], [107.1252, -6.66806], [107.119057, -6.66365], [107.100113, -6.66393], [107.084198, -6.665859999999896], [107.06244, -6.66226], [107.0541, -6.65707], [107.04000100000013, -6.65711], [107.01429000000013, -6.66505], [107.000604, -6.664561], [106.99179900000013, -6.670031], [106.995102, -6.678310999999894], [107.001397, -6.68554], [107.00127, -6.6902], [106.99630100000013, -6.69831], [106.990113, -6.70316], [106.987747, -6.70931], [106.984101, -6.735469], [106.980896, -6.74134], [106.966499, -6.75276], [106.960008, -6.76358], [106.963173, -6.7688], [106.977676, -6.78486], [106.988198, -6.79459], [106.99098, -6.80179], [106.991836, -6.81259], [106.997247, -6.83482], [107.001976, -6.842399], [107.02103, -6.8577], [107.03433300000012, -6.8825], [107.031051, -6.89148], [107.04475, -6.905869], [107.048317, -6.918051], [107.046647, -6.936329], [107.048789, -6.94501], [107.064796, -6.96566], [107.067964, -6.973360999999898], [107.065192, -6.97583], [107.045035, -6.95795], [107.04084, -6.96026], [107.031402, -6.98034], [107.03394, -6.98763], [107.0465400000001, -7.00004], [107.05565600000011, -7.01974], [107.05676, -7.02467], [107.050941, -7.02872], [107.043388, -7.03995], [107.0386, -7.040659], [107.023728, -7.03694], [107.01629, -7.0325], [106.993737, -7.02902], [106.986184, -7.0157], [106.976547, -7.01627], [106.9652630000001, -7.02415], [106.95731, -7.03216], [106.952348, -7.04292], [106.951028, -7.05519], [106.955468, -7.06352], [106.954216, -7.06741], [106.943885, -7.07351], [106.9437870000001, -7.0852], [106.936653, -7.10519], [106.935967, -7.11763], [106.938278, -7.124549], [106.944106, -7.13106], [106.958809, -7.1396], [106.9632, -7.147668999999894], [106.956047, -7.160341], [106.961662, -7.17521], [106.96718700000014, -7.17591], [106.97049, -7.1849], [106.964951, -7.189391], [106.970841, -7.2008], [106.9730990000001, -7.211], [106.978813, -7.21745], [106.97993, -7.22631], [106.977783, -7.23606], [106.969537, -7.243199], [106.964867, -7.24429], [106.95819100000011, -7.25719], [106.967308, -7.26567], [106.96932900000013, -7.27033], [106.97014500000012, -7.28382], [106.96721, -7.29758], [106.960067, -7.30783], [106.952582, -7.31364], [106.938851, -7.31369], [106.9318760000001, -7.31835], [106.927391, -7.327219], [106.919936, -7.32266], [106.90882, -7.32392], [106.90513, -7.334919999999897], [106.906594, -7.34489], [106.904281, -7.345689], [106.89989, -7.33785], [106.890717, -7.339918999999895], [106.888817, -7.34481], [106.874413, -7.34947], [106.87285600000013, -7.354649], [106.85942, -7.35158], [106.84969300000012, -7.35405], [106.836137, -7.353928], [106.819474, -7.360189], [106.811814, -7.37401], [106.80547300000012, -7.3808], [106.796769, -7.38529], [106.790734, -7.392308999999898], [106.778153, -7.39662], [106.77198800000014, -7.40307], [106.77309, -7.409291], [106.779838, -7.41569], [106.790276, -7.41422], [106.792792, -7.41776], [106.79389, -7.420001], [106.79667, -7.436666], [106.816026, -7.434259], [106.835578, -7.433356], [106.861884, -7.434164999999894], [106.867698, -7.431205], [106.882752, -7.43506], [106.91689300000013, -7.437788999999896], [106.979264, -7.44468], [106.987633, -7.443918], [107.00904, -7.44786], [107.03587, -7.44794], [107.058938, -7.45129], [107.07768, -7.45181], [107.10112, -7.45568], [107.12844, -7.45792], [107.129676, -7.46106], [107.163842, -7.46892], [107.185882, -7.47537], [107.190665, -7.47528], [107.215095, -7.481239], [107.21675, -7.47924], [107.2314, -7.48333], [107.242165, -7.48793], [107.256469, -7.48908], [107.28737600000011, -7.49323], [107.319557, -7.49329], [107.352516, -7.499369], [107.380866, -7.49861], [107.385094, -7.49977], [107.393395, -7.49481], [107.397896, -7.49531], [107.40700600000014, -7.50197], [107.422112, -7.50438], [107.4221280000001, -7.49888], [107.417168, -7.48672], [107.418426, -7.47468], [107.416863, -7.45895], [107.422385, -7.44968], [107.422479, -7.435891], [107.42687300000011, -7.42658], [107.434127, -7.41628], [107.441514, -7.41144], [107.4707580000001, -7.39826], [107.469308, -7.38375], [107.472838, -7.370109999999897], [107.48063, -7.35801], [107.480446, -7.35201], [107.469711, -7.33265], [107.462211, -7.321928999999898], [107.455278, -7.307], [107.452103, -7.291849], [107.453185, -7.28724], [107.466377, -7.27066], [107.47383900000011, -7.25082], [107.4629670000001, -7.249979], [107.453292, -7.25613], [107.44262, -7.25272], [107.433425, -7.25537], [107.427276, -7.25317], [107.41362900000013, -7.25667], [107.399667, -7.255969], [107.39125, -7.25377], [107.383179, -7.247949], [107.356757, -7.23651], [107.351463, -7.228159], [107.35456, -7.21854], [107.341752, -7.20579], [107.33559, -7.20723], [107.3183360000001, -7.20065], [107.308023, -7.20404], [107.283691, -7.20782], [107.269043, -7.20423], [107.257339, -7.20318], [107.253068, -7.1969], [107.25796, -7.18855], [107.27791, -7.167349], [107.284285, -7.15504], [107.287057, -7.143119999999897], [107.28768100000013, -7.132059], [107.290863, -7.12849], [107.298058, -7.12884], [107.309417, -7.12505], [107.31857, -7.111921], [107.310607, -7.09342], [107.30587800000012, -7.087019], [107.290191, -7.087131], [107.280908, -7.0832], [107.27260500000011, -7.08371], [107.263839, -7.07783], [107.249175, -7.050789999999893], [107.23367300000012, -7.04945], [107.22715, -7.051], [107.218163, -7.05687], [107.205879, -7.05508], [107.195657, -7.05697], [107.188582, -7.05489], [107.185517, -7.0474], [107.188156, -7.0334], [107.193733, -7.017699], [107.194032, -7.012719], [107.18364800000012, -6.999999], [107.188446, -6.99141], [107.18488300000013, -6.98688], [107.18345, -6.97791], [107.190009, -6.96761], [107.203362, -6.95711], [107.213897, -6.95048], [107.21341, -6.93958], [107.229789, -6.937909], [107.241187, -6.93277], [107.251548, -6.92619], [107.261512, -6.92571], [107.277229, -6.92159], [107.286027, -6.91594], [107.29196200000013, -6.90926], [107.30272600000012, -6.90509], [107.312446, -6.89685], [107.317178, -6.887809], [107.32898, -6.88537], [107.33721200000014, -6.88012], [107.33721200000014, -6.87116], [107.344001, -6.86395], [107.343536, -6.85464], [107.33991900000012, -6.85218], [107.328583, -6.853988999999899], [107.32034, -6.84975], [107.3227, -6.84291], [107.31976, -6.83544], [107.318901, -6.82372], [107.312973, -6.8154], [107.317565, -6.80734], [107.313844, -6.79614], [107.301796, -6.78462], [107.293382, -6.78094], [107.290626, -6.77556], [107.29559200000011, -6.77153], [107.294197, -6.76228], [107.2984, -6.7533], [107.302307, -6.755240999999899], [107.30542700000012, -6.74799], [107.30652, -6.73477], [107.31239, -6.73142], [107.31704800000011, -6.74423], [107.308007, -6.75385], [107.310607, -6.75896], [107.32034, -6.75307], [107.320968, -6.761289], [107.32402, -6.765649], [107.32978200000014, -6.762361], [107.336341, -6.7635], [107.33403700000014, -6.756779], [107.342376, -6.75239], [107.34070500000013, -6.74843], [107.329431, -6.74092], [107.32764, -6.73593], [107.33766300000013, -6.73332], [107.33544100000012, -6.72906]]], \"type\": \"Polygon\"}, \"id\": \"03\", \"properties\": {\"Name\": \"KABUPATEN CIANJUR\"}, \"type\": \"Feature\"}, {\"geometry\": {\"coordinates\": [[[108.132309, -7.04115], [108.12026, -7.03652], [108.108147, -7.02849], [108.099373, -7.019249], [108.092492, -7.00615], [108.0898370000001, -6.99758], [108.08233600000011, -6.98987], [108.07153, -6.98313], [108.059196, -6.99426], [108.042098, -6.99574], [108.031486, -6.99157], [108.021333, -6.984], [108.008317, -6.98225], [108.00087800000011, -6.98589], [107.99680300000011, -6.982489], [107.985291, -6.97884], [107.98004900000012, -6.97126], [107.966232, -6.95601], [107.95955700000013, -6.960739], [107.953798, -6.96132], [107.937499, -6.95355], [107.928757, -6.953570999999897], [107.924782, -6.94961], [107.91615300000012, -6.94796], [107.914544, -6.96492], [107.905838, -6.96799], [107.89692, -6.97928], [107.898934, -6.98462], [107.90548700000011, -6.99133], [107.907937, -6.99978], [107.905694, -7.005749], [107.90899, -7.02932], [107.91124, -7.03335], [107.925712, -7.03405], [107.930901, -7.03579], [107.92698600000011, -7.04783], [107.921571, -7.05151], [107.910218, -7.05288], [107.896377, -7.05022], [107.875785, -7.05256], [107.85251, -7.05869], [107.837983, -7.06566], [107.83458, -7.06987], [107.826752, -7.08812], [107.82190600000013, -7.092148999999893], [107.81067, -7.09508], [107.80807, -7.09813], [107.809348, -7.10493], [107.807687, -7.121], [107.8085, -7.13494], [107.795646, -7.15176], [107.78753, -7.156991], [107.779877, -7.15849], [107.773627, -7.15364], [107.75852, -7.15737], [107.7549, -7.16958], [107.748673, -7.170318999999893], [107.738839, -7.16783], [107.732879, -7.17895], [107.72117500000013, -7.19507], [107.722923, -7.2119], [107.708968, -7.2224], [107.70668, -7.227489], [107.70687, -7.23853], [107.712569, -7.24916], [107.733223, -7.26272], [107.736343, -7.267561], [107.73438, -7.27453], [107.72216900000012, -7.28869], [107.721237, -7.29537], [107.727737, -7.29466], [107.723053, -7.30834], [107.718727, -7.31001], [107.71225700000014, -7.30182], [107.696747, -7.295929], [107.683023, -7.297929999999894], [107.67892, -7.29182], [107.669587, -7.2921], [107.66414700000013, -7.27977], [107.65545, -7.28172], [107.64347, -7.29588], [107.632576, -7.300878999999895], [107.625832, -7.30105], [107.61815600000011, -7.307031], [107.610671, -7.30962], [107.605712, -7.30795], [107.60126, -7.29959], [107.60005300000012, -7.28829], [107.59497, -7.28374], [107.58159000000012, -7.27733], [107.570397, -7.26257], [107.55713, -7.253569], [107.542717, -7.25529], [107.535797, -7.24923], [107.524438, -7.25089], [107.5091, -7.25105], [107.489617, -7.258239], [107.48430700000011, -7.257478], [107.47383900000011, -7.25082], [107.466377, -7.27066], [107.453185, -7.28724], [107.452103, -7.291849], [107.455278, -7.307], [107.462211, -7.321928999999898], [107.469711, -7.33265], [107.480446, -7.35201], [107.48063, -7.35801], [107.472838, -7.370109999999897], [107.469308, -7.38375], [107.4707580000001, -7.39826], [107.441514, -7.41144], [107.434127, -7.41628], [107.42687300000011, -7.42658], [107.422479, -7.435891], [107.422385, -7.44968], [107.416863, -7.45895], [107.418426, -7.47468], [107.417168, -7.48672], [107.4221280000001, -7.49888], [107.422112, -7.50438], [107.433425, -7.5069], [107.439538, -7.50623], [107.473716, -7.51858], [107.48097300000012, -7.530842], [107.47889, -7.53348], [107.48293300000012, -7.53937], [107.494773, -7.53425], [107.506303, -7.53926], [107.516336, -7.54117], [107.532745, -7.55107], [107.54802, -7.55294], [107.570358, -7.562921], [107.597366, -7.56942], [107.60528, -7.57333], [107.611474, -7.58414], [107.617775, -7.583055], [107.623909, -7.58965], [107.623252, -7.59534], [107.630935, -7.600953], [107.635199, -7.59972], [107.65361000000013, -7.61014], [107.669938, -7.62325], [107.682519, -7.637989], [107.683068, -7.644826], [107.688226, -7.652327], [107.687813, -7.658982], [107.682068, -7.66192], [107.695961, -7.668723], [107.710251, -7.66643], [107.72390800000011, -7.667009], [107.74208, -7.66965], [107.744659, -7.67159], [107.770553, -7.67722], [107.78633800000011, -7.67902], [107.803618, -7.68684], [107.807967, -7.68704], [107.827301, -7.69843], [107.833977, -7.70498], [107.837562, -7.713703999999893], [107.83406800000012, -7.721288999999899], [107.8356930000001, -7.72702], [107.846879, -7.73731], [107.850555, -7.73417], [107.85583, -7.73778], [107.875703, -7.740448999999899], [107.888229, -7.739660999999899], [107.893312, -7.73581], [107.89887900000014, -7.74151], [107.907349, -7.73691], [107.90964, -7.730992999999899], [107.905694, -7.73078], [107.913147, -7.71061], [107.92018, -7.70141], [107.92457700000011, -7.68577], [107.9207770000001, -7.67393], [107.922692, -7.65632], [107.91853, -7.64842], [107.918808, -7.620538999999894], [107.91227, -7.60587], [107.91314, -7.59495], [107.92148600000013, -7.586029], [107.93065700000011, -7.57907], [107.931861, -7.569681], [107.927642, -7.55873], [107.93490600000013, -7.54612], [107.937379, -7.53754], [107.934197, -7.51962], [107.93396, -7.50729], [107.939888, -7.4922], [107.94252, -7.48073], [107.94085, -7.46817], [107.942657, -7.45453], [107.938874, -7.427959], [107.939147, -7.416609], [107.93199, -7.399949], [107.92553, -7.39367], [107.919351, -7.383978999999897], [107.915656, -7.37453], [107.909997, -7.37078], [107.89338700000013, -7.36748], [107.8908770000001, -7.36123], [107.902961, -7.35436], [107.92049, -7.34821], [107.92359, -7.33778], [107.934021, -7.33001], [107.93499, -7.326409999999896], [107.930901, -7.31613], [107.922943, -7.309959], [107.92178, -7.300909], [107.91756, -7.28869], [107.9193, -7.28423], [107.93595, -7.28151], [107.956252, -7.27559], [107.969674, -7.26713], [107.975196, -7.25596], [107.983811, -7.24908], [108.000611, -7.24523], [108.01690700000012, -7.231881], [108.04281600000013, -7.22332], [108.048416, -7.22435], [108.0626380000001, -7.22219], [108.069703, -7.20148], [108.07361, -7.19572], [108.06895, -7.18786], [108.074501, -7.18245], [108.082658, -7.164019], [108.078133, -7.14194], [108.070922, -7.13598], [108.0696410000001, -7.130749], [108.075622, -7.12119], [108.0879910000001, -7.1099], [108.101593, -7.10412], [108.11357, -7.10571], [108.11923300000012, -7.113919999999894], [108.12252, -7.11368], [108.121246, -7.095999], [108.12293, -7.08487], [108.12119300000012, -7.07533], [108.132117, -7.06507], [108.13961100000012, -7.06287], [108.139878, -7.05574], [108.13294900000011, -7.04552], [108.132309, -7.04115]]], \"type\": \"Polygon\"}, \"id\": \"05\", \"properties\": {\"NAME\": \"KABUPATEN GARUT\"}, \"type\": \"Feature\"}, {\"geometry\": {\"coordinates\": [[[108.13785, -7.04097], [108.132309, -7.04115], [108.13294900000011, -7.04552], [108.139878, -7.05574], [108.13961100000012, -7.06287], [108.132117, -7.06507], [108.12119300000012, -7.07533], [108.12293, -7.08487], [108.121246, -7.095999], [108.12252, -7.11368], [108.11923300000012, -7.113919999999894], [108.11357, -7.10571], [108.101593, -7.10412], [108.0879910000001, -7.1099], [108.075622, -7.12119], [108.0696410000001, -7.130749], [108.070922, -7.13598], [108.078133, -7.14194], [108.082658, -7.164019], [108.074501, -7.18245], [108.06895, -7.18786], [108.07361, -7.19572], [108.069703, -7.20148], [108.0626380000001, -7.22219], [108.048416, -7.22435], [108.04281600000013, -7.22332], [108.01690700000012, -7.231881], [108.000611, -7.24523], [107.983811, -7.24908], [107.975196, -7.25596], [107.969674, -7.26713], [107.956252, -7.27559], [107.93595, -7.28151], [107.9193, -7.28423], [107.91756, -7.28869], [107.92178, -7.300909], [107.922943, -7.309959], [107.930901, -7.31613], [107.93499, -7.326409999999896], [107.934021, -7.33001], [107.92359, -7.33778], [107.92049, -7.34821], [107.902961, -7.35436], [107.8908770000001, -7.36123], [107.89338700000013, -7.36748], [107.909997, -7.37078], [107.915656, -7.37453], [107.919351, -7.383978999999897], [107.92553, -7.39367], [107.93199, -7.399949], [107.939147, -7.416609], [107.938874, -7.427959], [107.942657, -7.45453], [107.94085, -7.46817], [107.94252, -7.48073], [107.939888, -7.4922], [107.93396, -7.50729], [107.934197, -7.51962], [107.937379, -7.53754], [107.93490600000013, -7.54612], [107.927642, -7.55873], [107.931861, -7.569681], [107.93065700000011, -7.57907], [107.92148600000013, -7.586029], [107.91314, -7.59495], [107.91227, -7.60587], [107.918808, -7.620538999999894], [107.91853, -7.64842], [107.922692, -7.65632], [107.9207770000001, -7.67393], [107.92457700000011, -7.68577], [107.92018, -7.70141], [107.913147, -7.71061], [107.905694, -7.73078], [107.90964, -7.730992999999899], [107.940551, -7.73194], [107.950798, -7.73596], [108.00000000000011, -7.745], [108.02554, -7.75221], [108.03826900000013, -7.754279], [108.049004, -7.75847], [108.06305700000013, -7.7675], [108.072219, -7.7675], [108.080276, -7.77194], [108.10228, -7.77173], [108.1251, -7.7806], [108.129822, -7.77838], [108.151451, -7.787039], [108.181, -7.790909], [108.205795, -7.79584], [108.24459900000011, -7.80227], [108.251633, -7.80003], [108.2607650000001, -7.80455], [108.29418, -7.81072], [108.299424, -7.814366], [108.303383, -7.81147], [108.31479000000013, -7.812659], [108.322373, -7.815406], [108.33552500000013, -7.81557], [108.34126, -7.80245], [108.338577, -7.797909], [108.32494, -7.79466], [108.321632, -7.782479], [108.323227, -7.77563], [108.319909, -7.75016], [108.31443, -7.74684], [108.3147, -7.7358], [108.312255, -7.72189], [108.316743, -7.719578999999896], [108.31587200000013, -7.71225], [108.3218920000001, -7.70994], [108.32167, -7.70255], [108.31549200000012, -7.69508], [108.314911, -7.689219], [108.320871, -7.68647], [108.323478, -7.68115], [108.331651, -7.68508], [108.341171, -7.67962], [108.351997, -7.68092], [108.35384, -7.67034], [108.362517, -7.66009], [108.35846, -7.64342], [108.35447, -7.63699], [108.35838300000012, -7.63025], [108.357437, -7.62335], [108.36002, -7.61254], [108.354125, -7.57247], [108.35072300000013, -7.56373], [108.33445, -7.552259], [108.333335, -7.53956], [108.33492, -7.52207], [108.333335, -7.50333], [108.34069000000011, -7.49164], [108.35613300000011, -7.48989], [108.36649, -7.48199], [108.372491, -7.479839], [108.39334, -7.47734], [108.397247, -7.47852], [108.409057, -7.49193], [108.4171070000001, -7.491259999999897], [108.423448, -7.49666], [108.429389, -7.49711], [108.437622, -7.490879], [108.428908, -7.48486], [108.42565800000011, -7.47078], [108.425232, -7.45571], [108.421462, -7.43881], [108.42321, -7.42958], [108.41878, -7.4218], [108.401887, -7.42033], [108.397026, -7.407748], [108.39765200000011, -7.40056], [108.40356, -7.38738], [108.411263, -7.377511], [108.409691, -7.3635], [108.40553, -7.35949], [108.392859, -7.35899], [108.380051, -7.35356], [108.370827, -7.35375], [108.359816, -7.34922], [108.34102700000011, -7.35214], [108.337166, -7.34518], [108.3283990000001, -7.34417], [108.32298300000014, -7.33871], [108.31364, -7.33718], [108.30745800000011, -7.3311], [108.288972, -7.3326], [108.279823, -7.34356], [108.276482, -7.350058], [108.280136, -7.35692], [108.27609200000012, -7.36331], [108.27468, -7.373379], [108.26485, -7.38919], [108.26371, -7.3955], [108.267746, -7.4017], [108.26798300000013, -7.41807], [108.26095, -7.43164], [108.255127, -7.43382], [108.24415, -7.43284], [108.23536, -7.43611], [108.224823, -7.43564], [108.21858300000014, -7.431629], [108.212571, -7.43746], [108.203743, -7.44019], [108.199372, -7.44668], [108.1914220000001, -7.444909], [108.187119, -7.44075], [108.183006, -7.42948], [108.17945, -7.407259999999894], [108.175813, -7.40093], [108.17711, -7.3955], [108.16274, -7.35299], [108.163239, -7.34677], [108.16047, -7.33758], [108.15569, -7.33358], [108.15814300000011, -7.31739], [108.1501090000001, -7.30545], [108.14629, -7.292728999999895], [108.164269, -7.2913], [108.163239, -7.28436], [108.166496, -7.283141], [108.16448300000013, -7.27395], [108.182746, -7.2752], [108.18828600000012, -7.27399], [108.198859, -7.27629], [108.192551, -7.25995], [108.195687, -7.23639], [108.1993, -7.23038], [108.198021, -7.19019], [108.19495, -7.1787], [108.201407, -7.14395], [108.204972, -7.13819], [108.216133, -7.12955], [108.21889, -7.12494], [108.21644500000014, -7.114419], [108.21740000000011, -7.09366], [108.21991600000013, -7.08704], [108.208518, -7.08689], [108.201699, -7.07788], [108.19264, -7.07134], [108.17177600000014, -7.06661], [108.1702130000001, -7.06425], [108.16214, -7.06289], [108.154136, -7.06526], [108.145347, -7.04803], [108.13785, -7.04097]]], \"type\": \"Polygon\"}, \"id\": \"06\", \"properties\": {\"NAME\": \"KABUPATEN TASIKMALAYA\"}, \"type\": \"Feature\"}, {\"geometry\": {\"coordinates\": [[[108.385933, -7.071639], [108.37652, -7.06173], [108.36054, -7.05122], [108.35621, -7.05153], [108.33976, -7.06462], [108.332961, -7.06549], [108.318869, -7.05717], [108.310592, -7.06059], [108.28978, -7.05793], [108.273453, -7.06384], [108.261146, -7.06281], [108.246277, -7.06399], [108.237518, -7.06165], [108.2303, -7.05436], [108.224083, -7.0519], [108.216912, -7.05646], [108.207878, -7.05113], [108.19117, -7.054261], [108.180512, -7.05486], [108.170213, -7.06425], [108.171776, -7.06661], [108.19264, -7.07134], [108.201699, -7.07788], [108.208518, -7.08689], [108.219916, -7.08704], [108.2174, -7.09366], [108.216445, -7.114419], [108.21889, -7.12494], [108.216133, -7.12955], [108.204972, -7.13819], [108.201407, -7.14395], [108.19495, -7.1787], [108.198021, -7.19019], [108.1993, -7.23038], [108.195687, -7.23639], [108.192551, -7.25995], [108.198859, -7.27629], [108.20221, -7.28259], [108.212821, -7.28953], [108.228417, -7.29739], [108.22898, -7.30077], [108.24508, -7.31207], [108.252777, -7.31411], [108.25634, -7.31924], [108.273086, -7.31811], [108.279105, -7.33132], [108.288972, -7.3326], [108.307458, -7.3311], [108.31364, -7.33718], [108.322983, -7.33871], [108.328399, -7.34417], [108.337166, -7.34518], [108.341027, -7.35214], [108.359816, -7.34922], [108.370827, -7.35375], [108.380051, -7.35356], [108.392859, -7.35899], [108.40553, -7.35949], [108.409691, -7.3635], [108.411263, -7.377511], [108.40356, -7.38738], [108.397652, -7.40056], [108.397026, -7.407748], [108.401887, -7.42033], [108.41878, -7.4218], [108.42321, -7.42958], [108.421462, -7.43881], [108.425232, -7.45571], [108.425658, -7.47078], [108.428908, -7.48486], [108.437622, -7.490879], [108.436432, -7.499834], [108.445187, -7.503578], [108.468575, -7.515946], [108.485176, -7.534466], [108.520458, -7.524182], [108.539136, -7.535499], [108.517344, -7.540642], [108.524607, -7.567389], [108.543287, -7.568419], [108.549513, -7.556074], [108.549513, -7.556074], [108.549513, -7.556074], [108.575458, -7.56636], [108.619042, -7.550924], [108.650172, -7.530342], [108.655353, -7.496391], [108.64705, -7.489191], [108.649691, -7.464972], [108.691492, -7.459865], [108.697895, -7.469625], [108.715011, -7.46942], [108.711585, -7.45741], [108.71911, -7.4406], [108.71951, -7.43226], [108.71026, -7.4263], [108.704148, -7.41843], [108.698617, -7.41626], [108.697037, -7.40355], [108.68591, -7.39828], [108.68422, -7.380091], [108.677856, -7.37524], [108.67825, -7.36828], [108.674782, -7.35909], [108.669585, -7.358229], [108.654092, -7.34747], [108.652877, -7.35746], [108.649246, -7.368561], [108.6364, -7.37514], [108.628007, -7.38186], [108.611672, -7.38516], [108.599121, -7.38333], [108.590606, -7.38496], [108.58487, -7.398618], [108.579917, -7.40544], [108.572608, -7.42123], [108.564316, -7.426669], [108.559708, -7.42383], [108.542282, -7.40536], [108.523552, -7.41898], [108.517487, -7.41907], [108.512528, -7.41488], [108.50167, -7.41378], [108.496758, -7.41108], [108.486473, -7.39451], [108.475562, -7.40375], [108.46811, -7.3938], [108.464158, -7.38273], [108.464675, -7.37622], [108.473069, -7.36421], [108.47107, -7.35635], [108.48266, -7.3546], [108.498016, -7.3554], [108.516265, -7.35304], [108.52285, -7.3535], [108.534546, -7.3381], [108.558609, -7.31704], [108.560936, -7.31324], [108.555649, -7.284561], [108.5682, -7.27367], [108.569556, -7.26027], [108.57473, -7.252609], [108.581123, -7.24989], [108.58282, -7.24201], [108.579949, -7.23517], [108.584662, -7.229239], [108.58493, -7.21809], [108.58071, -7.20642], [108.57235, -7.20304], [108.563735, -7.19414], [108.55521, -7.19209], [108.54633, -7.18705], [108.53572, -7.184709], [108.525498, -7.17639], [108.528258, -7.169779], [108.517594, -7.16537], [108.5132, -7.15744], [108.51307, -7.14554], [108.509879, -7.13548], [108.503541, -7.13296], [108.488319, -7.13052], [108.480011, -7.12415], [108.467216, -7.12395], [108.442093, -7.12049], [108.435158, -7.11481], [108.43348, -7.10952], [108.424767, -7.10241], [108.424988, -7.09735], [108.41623, -7.09857], [108.413048, -7.091388], [108.403022, -7.087671], [108.398683, -7.08043], [108.385933, -7.071639]]], \"type\": \"Polygon\"}, \"id\": \"07\", \"properties\": {\"NAME\": \"KABUPATEN CIAMIS\"}, \"type\": \"Feature\"}, {\"geometry\": {\"coordinates\": [[[108.76111, -6.98306], [108.756074, -6.98929], [108.740883, -6.99485], [108.730301, -6.99694], [108.7203980000001, -6.99132], [108.728341, -6.966229], [108.7203530000001, -6.95487], [108.704171, -6.93783], [108.695107, -6.933128999999894], [108.688431, -6.93286], [108.68039, -6.92258], [108.678857, -6.92742], [108.67093, -6.93198], [108.668067, -6.93809], [108.6561430000001, -6.93415], [108.656861, -6.92724], [108.664674, -6.92182], [108.66482, -6.91578], [108.653237, -6.9131], [108.653298, -6.90137], [108.637306, -6.90198], [108.62510800000013, -6.90616], [108.609482, -6.89877], [108.60321, -6.89844], [108.58379, -6.89343], [108.575942, -6.887759], [108.566299, -6.86794], [108.56846, -6.859708999999896], [108.564476, -6.85638], [108.546968, -6.855039], [108.537956, -6.84753], [108.52487100000013, -6.84291], [108.510239, -6.840929], [108.50996, -6.82943], [108.5065770000001, -6.818329], [108.51276, -6.80745], [108.510276, -6.792389999999898], [108.49903100000012, -6.79267], [108.48345300000011, -6.79038], [108.480827, -6.796311], [108.47673, -6.79546], [108.474167, -6.78672], [108.470092, -6.78806], [108.463836, -6.798138], [108.457801, -6.798549], [108.453423, -6.78286], [108.438928, -6.7867], [108.417969, -6.785479999999893], [108.40856, -6.79407], [108.40338200000014, -6.78904], [108.395218, -6.7983], [108.398484, -6.80922], [108.3986670000001, -6.82763], [108.404319, -6.84225], [108.406067, -6.85387], [108.41101, -6.8662], [108.40960600000011, -6.87852], [108.402518, -6.92073], [108.40358, -6.92751], [108.400681, -6.936781], [108.392533, -6.944739], [108.387681, -6.956249], [108.386856, -6.975769999999898], [108.384682, -6.98565], [108.3843240000001, -7.005879], [108.389473, -7.02116], [108.394546, -7.02949], [108.387191, -7.03623], [108.391777, -7.04621], [108.393272, -7.05629], [108.385933, -7.071639], [108.398683, -7.08043], [108.403022, -7.087671], [108.413048, -7.091388], [108.41623, -7.09857], [108.424988, -7.09735], [108.424767, -7.10241], [108.43348, -7.10952], [108.43515800000011, -7.11481], [108.44209300000011, -7.12049], [108.46721600000012, -7.12395], [108.4800110000001, -7.12415], [108.488319, -7.13052], [108.503541, -7.13296], [108.50987900000013, -7.13548], [108.51307, -7.14554], [108.5132, -7.157439999999895], [108.517594, -7.16537], [108.528258, -7.169779], [108.525498, -7.17639], [108.53572, -7.184709], [108.54633, -7.18705], [108.55521, -7.19209], [108.563735, -7.19414], [108.56668000000013, -7.19316], [108.56458, -7.17281], [108.56825, -7.16504], [108.58075, -7.16053], [108.585868, -7.15483], [108.593986, -7.15194], [108.60153900000012, -7.15227], [108.614724, -7.14149], [108.6253650000001, -7.13698], [108.632463, -7.13852], [108.6426, -7.13741], [108.65297700000013, -7.14389], [108.6606, -7.15377], [108.67796, -7.15477], [108.68492, -7.14998], [108.6963740000001, -7.15118], [108.713463, -7.13611], [108.72033, -7.126799], [108.724708, -7.12512], [108.72648, -7.11672], [108.73373, -7.11251], [108.7433, -7.1156], [108.748193, -7.11168], [108.764222, -7.11475], [108.777687, -7.10483], [108.7813, -7.09195], [108.777999, -7.08442], [108.777589, -7.075341], [108.78282, -7.07021], [108.78682600000013, -7.056629], [108.786361, -7.05186], [108.780768, -7.04784], [108.781096, -7.03927], [108.788171, -7.03121], [108.796982, -7.02481], [108.795578, -7.01199], [108.79862300000013, -7.00497], [108.786849, -6.995329], [108.767745, -6.9892], [108.76111, -6.98306]]], \"type\": \"Polygon\"}, \"id\": \"08\", \"properties\": {\"NAME\": \"KABUPATEN KUNINGAN\"}, \"type\": \"Feature\"}, {\"geometry\": {\"coordinates\": [[[108.539239, -6.51575], [108.530731, -6.51737], [108.51920300000012, -6.51401], [108.512466, -6.51592], [108.507796, -6.52801], [108.500054, -6.53378], [108.49801, -6.54115], [108.490593, -6.5422], [108.49223, -6.55151], [108.489723, -6.55547], [108.47326, -6.55972], [108.47006, -6.56715], [108.452468, -6.57289], [108.44883, -6.57037], [108.446731, -6.5319], [108.437553, -6.52352], [108.4362, -6.51754], [108.41078900000014, -6.52819], [108.400337, -6.53563], [108.392449, -6.535999], [108.383499, -6.54378], [108.373382, -6.548471], [108.37029400000011, -6.55348], [108.360398, -6.55799], [108.355377, -6.567661], [108.35191, -6.579859], [108.3480540000001, -6.58004], [108.334671, -6.58882], [108.32997, -6.59447], [108.330049, -6.59953], [108.33685400000013, -6.602039], [108.335717, -6.60572], [108.320953, -6.61646], [108.323533, -6.62749], [108.32933, -6.63927], [108.329529, -6.6456], [108.33492, -6.65507], [108.33393, -6.66819], [108.337166, -6.67359], [108.35522, -6.680271], [108.36239, -6.687149], [108.366332, -6.695019], [108.366531, -6.70262], [108.361077, -6.70867], [108.363372, -6.7185], [108.367652, -6.72516], [108.376137, -6.732209999999895], [108.375107, -6.73778], [108.36628, -6.742471], [108.37305, -6.75361], [108.375686, -6.764990999999895], [108.383811, -6.76659], [108.39005400000013, -6.77186], [108.400139, -6.775689], [108.40338200000014, -6.78904], [108.40856, -6.79407], [108.417969, -6.785479999999893], [108.438928, -6.7867], [108.453423, -6.78286], [108.457801, -6.798549], [108.463836, -6.798138], [108.470092, -6.78806], [108.474167, -6.78672], [108.47673, -6.79546], [108.480827, -6.796311], [108.48345300000011, -6.79038], [108.49903100000012, -6.79267], [108.510276, -6.792389999999898], [108.51276, -6.80745], [108.5065770000001, -6.818329], [108.50996, -6.82943], [108.510239, -6.840929], [108.52487100000013, -6.84291], [108.537956, -6.84753], [108.546968, -6.855039], [108.564476, -6.85638], [108.56846, -6.859708999999896], [108.566299, -6.86794], [108.575942, -6.887759], [108.58379, -6.89343], [108.60321, -6.89844], [108.609482, -6.89877], [108.62510800000013, -6.90616], [108.637306, -6.90198], [108.653298, -6.90137], [108.653237, -6.9131], [108.66482, -6.91578], [108.664674, -6.92182], [108.656861, -6.92724], [108.6561430000001, -6.93415], [108.668067, -6.93809], [108.67093, -6.93198], [108.678857, -6.92742], [108.68039, -6.92258], [108.688431, -6.93286], [108.695107, -6.933128999999894], [108.704171, -6.93783], [108.7203530000001, -6.95487], [108.728341, -6.966229], [108.7203980000001, -6.99132], [108.730301, -6.99694], [108.740883, -6.99485], [108.756074, -6.98929], [108.76111, -6.98306], [108.7622070000001, -6.97052], [108.7608800000001, -6.95408], [108.76325300000013, -6.94096], [108.755821, -6.92545], [108.75497, -6.91349], [108.760498, -6.91273], [108.767358, -6.90104], [108.765161, -6.89638], [108.777108, -6.88957], [108.77749, -6.883469], [108.78444700000011, -6.883399], [108.795646, -6.87566], [108.798851, -6.868], [108.80407, -6.86362], [108.80979100000013, -6.85366], [108.813895, -6.84272], [108.824623, -6.82929], [108.826476, -6.82279], [108.82585200000011, -6.80772], [108.83048300000013, -6.79742], [108.826417, -6.78822], [108.828979, -6.78068], [108.828881, -6.76901], [108.826866, -6.75682], [108.830613, -6.74465], [108.828582, -6.74636], [108.815543, -6.74634], [108.808594, -6.74331], [108.80123, -6.744212], [108.80285, -6.75092], [108.789718, -6.75786], [108.78958200000011, -6.76071], [108.80772, -6.76557], [108.803674, -6.77342], [108.80743, -6.78039], [108.80546, -6.785109], [108.79718, -6.792466], [108.769806, -6.80859], [108.75900200000012, -6.81299], [108.749496, -6.8147], [108.74102, -6.81269], [108.731507, -6.80727], [108.70913, -6.80969], [108.693099, -6.80409], [108.68176, -6.79505], [108.677079, -6.78332], [108.67675800000012, -6.77562], [108.679406, -6.7688], [108.677697, -6.76271], [108.66278, -6.75972], [108.65027600000013, -6.751111], [108.649201, -6.75852], [108.63318700000013, -6.77049], [108.6261060000001, -6.771391], [108.61723, -6.765], [108.6111140000001, -6.76778], [108.60250100000013, -6.76306], [108.597496, -6.75778], [108.594718, -6.749167], [108.583892, -6.7325], [108.577941, -6.74039], [108.569429, -6.74442], [108.561112, -6.75377], [108.551148, -6.77913], [108.543763, -6.78727], [108.5373, -6.790259], [108.528618, -6.78683], [108.529931, -6.77001], [108.52561, -6.750039999999899], [108.538612, -6.73948], [108.553819, -6.732869], [108.55954800000012, -6.72635], [108.561226, -6.720379], [108.56916, -6.70834], [108.561385, -6.685], [108.55666, -6.66], [108.558051, -6.64472], [108.55194100000011, -6.624999], [108.544472, -6.59309], [108.54364, -6.575854], [108.547127, -6.560671], [108.544534, -6.54303], [108.54606700000011, -6.53471], [108.539239, -6.51575]]], \"type\": \"Polygon\"}, \"id\": \"09\", \"properties\": {\"NAME\": \"KABUPATEN CIREBON\"}, \"type\": \"Feature\"}], \"type\": \"FeatureCollection\"}, \"hoverlabel\": {\"namelength\": 0}, \"hovertemplate\": \"<b>%{hovertext}</b><br><br>Id=%{location}<br>Jumlah Tenaga Kerja=%{z}\", \"hovertext\": [\"KABUPATEN BOGOR\", \"KABUPATEN SUKABUMI\", \"KABUPATEN CIANJUR\", \"KABUPATEN BANDUNG\", \"KABUPATEN GARUT\", \"KABUPATEN TASIKMALAYA\", \"KABUPATEN CIAMIS\", \"KABUPATEN KUNINGAN\", \"KABUPATEN CIREBON\", \"KABUPATEN MAJALENGKA\", \"KABUPATEN SUMEDANG\", \"KABUPATEN INDRAMAYU\", \"KABUPATEN SUBANG\", \"KABUPATEN PURWAKARTA\", \"KABUPATEN KARAWANG\", \"KABUPATEN BEKASI\", \"KABUPATEN BANDUNG BARAT\", \"KABUPATEN PANGANDARAN\", \"KOTA BOGOR\", \"KOTA SUKABUMI\", \"KOTA BANDUNG\", \"KOTA CIREBON\", \"KOTA BEKASI\", \"KOTA DEPOK\", \"KOTA CIMAHI\", \"KOTA TASIKMALAYA\", \"KOTA BANJAR\"], \"locations\": [\"01\", \"02\", \"03\", \"04\", \"05\", \"06\", \"07\", \"08\", \"09\", \"10\", \"11\", \"12\", \"13\", \"14\", \"15\", \"16\", \"17\", \"18\", \"71\", \"72\", \"73\", \"74\", \"75\", \"76\", \"77\", \"78\", \"79\"], \"marker\": {\"opacity\": 0.8}, \"name\": \"\", \"subplot\": \"mapbox\", \"type\": \"choroplethmapbox\", \"z\": [19, 87, 0, 10, 100, 6, 5, 15, 0, 40, 0, 45, 34, 13, 37, 15, 0, 14, 0, 0, 0, 0, 0, 0, 7, 0, 0]}],\n",
              "                        {\"coloraxis\": {\"cmax\": 100, \"cmin\": 0, \"colorbar\": {\"title\": {\"text\": \"Jumlah Tenaga Kerja\"}}, \"colorscale\": [[0.0, \"rgb(247,251,255)\"], [0.125, \"rgb(222,235,247)\"], [0.25, \"rgb(198,219,239)\"], [0.375, \"rgb(158,202,225)\"], [0.5, \"rgb(107,174,214)\"], [0.625, \"rgb(66,146,198)\"], [0.75, \"rgb(33,113,181)\"], [0.875, \"rgb(8,81,156)\"], [1.0, \"rgb(8,48,107)\"]]}, \"height\": 550.0, \"legend\": {\"tracegroupgap\": 0}, \"mapbox\": {\"center\": {\"lat\": -6.871893, \"lon\": 107.6455}, \"domain\": {\"x\": [0.0, 1.0], \"y\": [0.0, 1.0]}, \"style\": \"carto-positron\", \"zoom\": 7.25}, \"margin\": {\"b\": 10, \"l\": 10, \"r\": 10, \"t\": 35}, \"template\": {\"data\": {\"bar\": [{\"error_x\": {\"color\": \"#2a3f5f\"}, \"error_y\": {\"color\": \"#2a3f5f\"}, \"marker\": {\"line\": {\"color\": \"#E5ECF6\", \"width\": 0.5}}, \"type\": \"bar\"}], \"barpolar\": [{\"marker\": {\"line\": {\"color\": \"#E5ECF6\", \"width\": 0.5}}, \"type\": \"barpolar\"}], \"carpet\": [{\"aaxis\": {\"endlinecolor\": \"#2a3f5f\", \"gridcolor\": \"white\", \"linecolor\": \"white\", \"minorgridcolor\": \"white\", \"startlinecolor\": \"#2a3f5f\"}, \"baxis\": {\"endlinecolor\": \"#2a3f5f\", \"gridcolor\": \"white\", \"linecolor\": \"white\", \"minorgridcolor\": \"white\", \"startlinecolor\": \"#2a3f5f\"}, \"type\": \"carpet\"}], \"choropleth\": [{\"colorbar\": {\"outlinewidth\": 0, \"ticks\": \"\"}, \"type\": \"choropleth\"}], \"contour\": [{\"colorbar\": {\"outlinewidth\": 0, \"ticks\": \"\"}, \"colorscale\": [[0.0, \"#0d0887\"], [0.1111111111111111, \"#46039f\"], [0.2222222222222222, \"#7201a8\"], [0.3333333333333333, \"#9c179e\"], [0.4444444444444444, \"#bd3786\"], [0.5555555555555556, \"#d8576b\"], [0.6666666666666666, \"#ed7953\"], [0.7777777777777778, \"#fb9f3a\"], [0.8888888888888888, \"#fdca26\"], [1.0, \"#f0f921\"]], \"type\": \"contour\"}], \"contourcarpet\": [{\"colorbar\": {\"outlinewidth\": 0, \"ticks\": \"\"}, \"type\": \"contourcarpet\"}], \"heatmap\": [{\"colorbar\": {\"outlinewidth\": 0, \"ticks\": \"\"}, \"colorscale\": [[0.0, \"#0d0887\"], [0.1111111111111111, \"#46039f\"], [0.2222222222222222, \"#7201a8\"], [0.3333333333333333, \"#9c179e\"], [0.4444444444444444, \"#bd3786\"], [0.5555555555555556, \"#d8576b\"], [0.6666666666666666, \"#ed7953\"], [0.7777777777777778, \"#fb9f3a\"], [0.8888888888888888, \"#fdca26\"], [1.0, \"#f0f921\"]], \"type\": \"heatmap\"}], \"heatmapgl\": [{\"colorbar\": {\"outlinewidth\": 0, \"ticks\": \"\"}, \"colorscale\": [[0.0, \"#0d0887\"], [0.1111111111111111, \"#46039f\"], [0.2222222222222222, \"#7201a8\"], [0.3333333333333333, \"#9c179e\"], [0.4444444444444444, \"#bd3786\"], [0.5555555555555556, \"#d8576b\"], [0.6666666666666666, \"#ed7953\"], [0.7777777777777778, \"#fb9f3a\"], [0.8888888888888888, \"#fdca26\"], [1.0, \"#f0f921\"]], \"type\": \"heatmapgl\"}], \"histogram\": [{\"marker\": {\"colorbar\": {\"outlinewidth\": 0, \"ticks\": \"\"}}, \"type\": \"histogram\"}], \"histogram2d\": [{\"colorbar\": {\"outlinewidth\": 0, \"ticks\": \"\"}, \"colorscale\": [[0.0, \"#0d0887\"], [0.1111111111111111, \"#46039f\"], [0.2222222222222222, \"#7201a8\"], [0.3333333333333333, \"#9c179e\"], [0.4444444444444444, \"#bd3786\"], [0.5555555555555556, \"#d8576b\"], [0.6666666666666666, \"#ed7953\"], [0.7777777777777778, \"#fb9f3a\"], [0.8888888888888888, \"#fdca26\"], [1.0, \"#f0f921\"]], \"type\": \"histogram2d\"}], \"histogram2dcontour\": [{\"colorbar\": {\"outlinewidth\": 0, \"ticks\": \"\"}, \"colorscale\": [[0.0, \"#0d0887\"], [0.1111111111111111, \"#46039f\"], [0.2222222222222222, \"#7201a8\"], [0.3333333333333333, \"#9c179e\"], [0.4444444444444444, \"#bd3786\"], [0.5555555555555556, \"#d8576b\"], [0.6666666666666666, \"#ed7953\"], [0.7777777777777778, \"#fb9f3a\"], [0.8888888888888888, \"#fdca26\"], [1.0, \"#f0f921\"]], \"type\": \"histogram2dcontour\"}], \"mesh3d\": [{\"colorbar\": {\"outlinewidth\": 0, \"ticks\": \"\"}, \"type\": \"mesh3d\"}], \"parcoords\": [{\"line\": {\"colorbar\": {\"outlinewidth\": 0, \"ticks\": \"\"}}, \"type\": \"parcoords\"}], \"pie\": [{\"automargin\": true, \"type\": \"pie\"}], \"scatter\": [{\"marker\": {\"colorbar\": {\"outlinewidth\": 0, \"ticks\": \"\"}}, \"type\": \"scatter\"}], \"scatter3d\": [{\"line\": {\"colorbar\": {\"outlinewidth\": 0, \"ticks\": \"\"}}, \"marker\": {\"colorbar\": {\"outlinewidth\": 0, \"ticks\": \"\"}}, \"type\": \"scatter3d\"}], \"scattercarpet\": [{\"marker\": {\"colorbar\": {\"outlinewidth\": 0, \"ticks\": \"\"}}, \"type\": \"scattercarpet\"}], \"scattergeo\": [{\"marker\": {\"colorbar\": {\"outlinewidth\": 0, \"ticks\": \"\"}}, \"type\": \"scattergeo\"}], \"scattergl\": [{\"marker\": {\"colorbar\": {\"outlinewidth\": 0, \"ticks\": \"\"}}, \"type\": \"scattergl\"}], \"scattermapbox\": [{\"marker\": {\"colorbar\": {\"outlinewidth\": 0, \"ticks\": \"\"}}, \"type\": \"scattermapbox\"}], \"scatterpolar\": [{\"marker\": {\"colorbar\": {\"outlinewidth\": 0, \"ticks\": \"\"}}, \"type\": \"scatterpolar\"}], \"scatterpolargl\": [{\"marker\": {\"colorbar\": {\"outlinewidth\": 0, \"ticks\": \"\"}}, \"type\": \"scatterpolargl\"}], \"scatterternary\": [{\"marker\": {\"colorbar\": {\"outlinewidth\": 0, \"ticks\": \"\"}}, \"type\": \"scatterternary\"}], \"surface\": [{\"colorbar\": {\"outlinewidth\": 0, \"ticks\": \"\"}, \"colorscale\": [[0.0, \"#0d0887\"], [0.1111111111111111, \"#46039f\"], [0.2222222222222222, \"#7201a8\"], [0.3333333333333333, \"#9c179e\"], [0.4444444444444444, \"#bd3786\"], [0.5555555555555556, \"#d8576b\"], [0.6666666666666666, \"#ed7953\"], [0.7777777777777778, \"#fb9f3a\"], [0.8888888888888888, \"#fdca26\"], [1.0, \"#f0f921\"]], \"type\": \"surface\"}], \"table\": [{\"cells\": {\"fill\": {\"color\": \"#EBF0F8\"}, \"line\": {\"color\": \"white\"}}, \"header\": {\"fill\": {\"color\": \"#C8D4E3\"}, \"line\": {\"color\": \"white\"}}, \"type\": \"table\"}]}, \"layout\": {\"annotationdefaults\": {\"arrowcolor\": \"#2a3f5f\", \"arrowhead\": 0, \"arrowwidth\": 1}, \"coloraxis\": {\"colorbar\": {\"outlinewidth\": 0, \"ticks\": \"\"}}, \"colorscale\": {\"diverging\": [[0, \"#8e0152\"], [0.1, \"#c51b7d\"], [0.2, \"#de77ae\"], [0.3, \"#f1b6da\"], [0.4, \"#fde0ef\"], [0.5, \"#f7f7f7\"], [0.6, \"#e6f5d0\"], [0.7, \"#b8e186\"], [0.8, \"#7fbc41\"], [0.9, \"#4d9221\"], [1, \"#276419\"]], \"sequential\": [[0.0, \"#0d0887\"], [0.1111111111111111, \"#46039f\"], [0.2222222222222222, \"#7201a8\"], [0.3333333333333333, \"#9c179e\"], [0.4444444444444444, \"#bd3786\"], [0.5555555555555556, \"#d8576b\"], [0.6666666666666666, \"#ed7953\"], [0.7777777777777778, \"#fb9f3a\"], [0.8888888888888888, \"#fdca26\"], [1.0, \"#f0f921\"]], \"sequentialminus\": [[0.0, \"#0d0887\"], [0.1111111111111111, \"#46039f\"], [0.2222222222222222, \"#7201a8\"], [0.3333333333333333, \"#9c179e\"], [0.4444444444444444, \"#bd3786\"], [0.5555555555555556, \"#d8576b\"], [0.6666666666666666, \"#ed7953\"], [0.7777777777777778, \"#fb9f3a\"], [0.8888888888888888, \"#fdca26\"], [1.0, \"#f0f921\"]]}, \"colorway\": [\"#636efa\", \"#EF553B\", \"#00cc96\", \"#ab63fa\", \"#FFA15A\", \"#19d3f3\", \"#FF6692\", \"#B6E880\", \"#FF97FF\", \"#FECB52\"], \"font\": {\"color\": \"#2a3f5f\"}, \"geo\": {\"bgcolor\": \"white\", \"lakecolor\": \"white\", \"landcolor\": \"#E5ECF6\", \"showlakes\": true, \"showland\": true, \"subunitcolor\": \"white\"}, \"hoverlabel\": {\"align\": \"left\"}, \"hovermode\": \"closest\", \"mapbox\": {\"style\": \"light\"}, \"paper_bgcolor\": \"white\", \"plot_bgcolor\": \"#E5ECF6\", \"polar\": {\"angularaxis\": {\"gridcolor\": \"white\", \"linecolor\": \"white\", \"ticks\": \"\"}, \"bgcolor\": \"#E5ECF6\", \"radialaxis\": {\"gridcolor\": \"white\", \"linecolor\": \"white\", \"ticks\": \"\"}}, \"scene\": {\"xaxis\": {\"backgroundcolor\": \"#E5ECF6\", \"gridcolor\": \"white\", \"gridwidth\": 2, \"linecolor\": \"white\", \"showbackground\": true, \"ticks\": \"\", \"zerolinecolor\": \"white\"}, \"yaxis\": {\"backgroundcolor\": \"#E5ECF6\", \"gridcolor\": \"white\", \"gridwidth\": 2, \"linecolor\": \"white\", \"showbackground\": true, \"ticks\": \"\", \"zerolinecolor\": \"white\"}, \"zaxis\": {\"backgroundcolor\": \"#E5ECF6\", \"gridcolor\": \"white\", \"gridwidth\": 2, \"linecolor\": \"white\", \"showbackground\": true, \"ticks\": \"\", \"zerolinecolor\": \"white\"}}, \"shapedefaults\": {\"line\": {\"color\": \"#2a3f5f\"}}, \"ternary\": {\"aaxis\": {\"gridcolor\": \"white\", \"linecolor\": \"white\", \"ticks\": \"\"}, \"baxis\": {\"gridcolor\": \"white\", \"linecolor\": \"white\", \"ticks\": \"\"}, \"bgcolor\": \"#E5ECF6\", \"caxis\": {\"gridcolor\": \"white\", \"linecolor\": \"white\", \"ticks\": \"\"}}, \"title\": {\"x\": 0.05}, \"xaxis\": {\"automargin\": true, \"gridcolor\": \"white\", \"linecolor\": \"white\", \"ticks\": \"\", \"title\": {\"standoff\": 15}, \"zerolinecolor\": \"white\", \"zerolinewidth\": 2}, \"yaxis\": {\"automargin\": true, \"gridcolor\": \"white\", \"linecolor\": \"white\", \"ticks\": \"\", \"title\": {\"standoff\": 15}, \"zerolinecolor\": \"white\", \"zerolinewidth\": 2}}}, \"title\": {\"text\": \"Peta Sebaran Jumlah Tenaga Kerja\", \"x\": 0.5, \"xanchor\": \"center\", \"y\": 0.98, \"yanchor\": \"top\"}, \"width\": 1000},\n",
              "                        {\"responsive\": true}\n",
              "                    ).then(function(){\n",
              "                            \n",
              "var gd = document.getElementById('5e0b251b-2f60-4d60-87c1-40a275182dc5');\n",
              "var x = new MutationObserver(function (mutations, observer) {{\n",
              "        var display = window.getComputedStyle(gd).display;\n",
              "        if (!display || display === 'none') {{\n",
              "            console.log([gd, 'removed!']);\n",
              "            Plotly.purge(gd);\n",
              "            observer.disconnect();\n",
              "        }}\n",
              "}});\n",
              "\n",
              "// Listen for the removal of the full notebook cells\n",
              "var notebookContainer = gd.closest('#notebook-container');\n",
              "if (notebookContainer) {{\n",
              "    x.observe(notebookContainer, {childList: true});\n",
              "}}\n",
              "\n",
              "// Listen for the clearing of the current output cell\n",
              "var outputEl = gd.closest('.output');\n",
              "if (outputEl) {{\n",
              "    x.observe(outputEl, {childList: true});\n",
              "}}\n",
              "\n",
              "                        })\n",
              "                };\n",
              "                \n",
              "            </script>\n",
              "        </div>\n",
              "</body>\n",
              "</html>"
            ]
          },
          "metadata": {}
        }
      ]
    },
    {
      "cell_type": "markdown",
      "source": [
        "Grafik diatas merupakan peta sebaran jumlah tenaga kerja wisata perkemahan dari tiap Kabupaten dan Kota di Jawa Barat. Perubahan warna dari putih ke biru tua menunjukan jumlah tenaga kerja yang semakin meningkat. Dari peta sebaran di atas, kita mendapatkan tiga wilayah dengan jumlah tenaga kerja paling banyak, yaitu yang pertama adalah Kabupaten Garut dengan jumlah tenaga kerja sebanyak 100 orang, kedua adalah Kabupaten Sukabumi dengan jumlah tenaga kerja sebanyak 87 orang, dan ketiga adalah Kabupaten Indramayu dengan jumlah tenaga kerja sebanyak 45 orang."
      ],
      "metadata": {
        "id": "hPNRUk_ILhgo"
      }
    },
    {
      "cell_type": "markdown",
      "source": [
        "### Persentase Wisatawan dan Tenaga Kerja"
      ],
      "metadata": {
        "id": "K211Gc9nMxJi"
      }
    },
    {
      "cell_type": "code",
      "source": [
        "jenis_wisatawan = dat2_19.groupby('jenis_wisatawan').sum().reset_index()[['jenis_wisatawan', 'jumlah_pengunjung']]\n",
        "jenis_pekerja = dat3_19.groupby('jenis_kelamin').sum().reset_index()[['jenis_kelamin', 'jumlah_tenaga_kerja']]"
      ],
      "metadata": {
        "id": "iv21e1jxNM-1"
      },
      "execution_count": null,
      "outputs": []
    },
    {
      "cell_type": "code",
      "source": [
        "fig = make_subplots(rows=1, cols=2,\n",
        "                    specs=[[{\"type\": \"pie\"}, {\"type\": \"pie\"}]],\n",
        "                    subplot_titles=(\"Persentase Wisatawan\", \"Persentase Tenaga Kerja\"))\n",
        "\n",
        "fig.add_trace(go.Pie(values=jenis_wisatawan.jumlah_pengunjung,\n",
        "                     labels=jenis_wisatawan.jenis_wisatawan,\n",
        "                     name='Jenis Wisatawan'),\n",
        "              row=1, col=1)\n",
        "\n",
        "fig.add_trace(go.Pie(values=jenis_pekerja.jumlah_tenaga_kerja,\n",
        "                     labels=jenis_pekerja.jenis_kelamin,\n",
        "                     name='Jenis Kelamin'),\n",
        "              row=1, col=2)\n",
        "\n",
        "fig.update_layout(showlegend=True,\n",
        "                  margin={\"r\":5,\"t\":5,\"l\":5,\"b\":5},\n",
        "                  width=100*10, height=100*5)\n",
        "\n",
        "fig.show()"
      ],
      "metadata": {
        "colab": {
          "base_uri": "https://localhost:8080/",
          "height": 517
        },
        "id": "XHL7BBQnNzFy",
        "outputId": "210a85f4-0033-45cb-b936-ed486d0bfe86"
      },
      "execution_count": null,
      "outputs": [
        {
          "output_type": "display_data",
          "data": {
            "text/html": [
              "<html>\n",
              "<head><meta charset=\"utf-8\" /></head>\n",
              "<body>\n",
              "    <div>\n",
              "            <script src=\"https://cdnjs.cloudflare.com/ajax/libs/mathjax/2.7.5/MathJax.js?config=TeX-AMS-MML_SVG\"></script><script type=\"text/javascript\">if (window.MathJax) {MathJax.Hub.Config({SVG: {font: \"STIX-Web\"}});}</script>\n",
              "                <script type=\"text/javascript\">window.PlotlyConfig = {MathJaxConfig: 'local'};</script>\n",
              "        <script src=\"https://cdn.plot.ly/plotly-latest.min.js\"></script>    \n",
              "            <div id=\"1abd402e-dbbb-433c-a992-c4089eb78fdc\" class=\"plotly-graph-div\" style=\"height:500px; width:1000px;\"></div>\n",
              "            <script type=\"text/javascript\">\n",
              "                \n",
              "                    window.PLOTLYENV=window.PLOTLYENV || {};\n",
              "                    \n",
              "                if (document.getElementById(\"1abd402e-dbbb-433c-a992-c4089eb78fdc\")) {\n",
              "                    Plotly.newPlot(\n",
              "                        '1abd402e-dbbb-433c-a992-c4089eb78fdc',\n",
              "                        [{\"domain\": {\"x\": [0.0, 0.45], \"y\": [0.0, 1.0]}, \"labels\": [\"MANCANEGARA\", \"NUSANTARA\"], \"name\": \"Jenis Wisatawan\", \"type\": \"pie\", \"values\": [495, 255602]}, {\"domain\": {\"x\": [0.55, 1.0], \"y\": [0.0, 1.0]}, \"labels\": [\"PRIA\", \"WANITA\"], \"name\": \"Jenis Kelamin\", \"type\": \"pie\", \"values\": [321, 96]}],\n",
              "                        {\"annotations\": [{\"font\": {\"size\": 16}, \"showarrow\": false, \"text\": \"Persentase Wisatawan\", \"x\": 0.225, \"xanchor\": \"center\", \"xref\": \"paper\", \"y\": 1.0, \"yanchor\": \"bottom\", \"yref\": \"paper\"}, {\"font\": {\"size\": 16}, \"showarrow\": false, \"text\": \"Persentase Tenaga Kerja\", \"x\": 0.775, \"xanchor\": \"center\", \"xref\": \"paper\", \"y\": 1.0, \"yanchor\": \"bottom\", \"yref\": \"paper\"}], \"height\": 500, \"margin\": {\"b\": 5, \"l\": 5, \"r\": 5, \"t\": 5}, \"showlegend\": true, \"template\": {\"data\": {\"bar\": [{\"error_x\": {\"color\": \"#2a3f5f\"}, \"error_y\": {\"color\": \"#2a3f5f\"}, \"marker\": {\"line\": {\"color\": \"#E5ECF6\", \"width\": 0.5}}, \"type\": \"bar\"}], \"barpolar\": [{\"marker\": {\"line\": {\"color\": \"#E5ECF6\", \"width\": 0.5}}, \"type\": \"barpolar\"}], \"carpet\": [{\"aaxis\": {\"endlinecolor\": \"#2a3f5f\", \"gridcolor\": \"white\", \"linecolor\": \"white\", \"minorgridcolor\": \"white\", \"startlinecolor\": \"#2a3f5f\"}, \"baxis\": {\"endlinecolor\": \"#2a3f5f\", \"gridcolor\": \"white\", \"linecolor\": \"white\", \"minorgridcolor\": \"white\", \"startlinecolor\": \"#2a3f5f\"}, \"type\": \"carpet\"}], \"choropleth\": [{\"colorbar\": {\"outlinewidth\": 0, \"ticks\": \"\"}, \"type\": \"choropleth\"}], \"contour\": [{\"colorbar\": {\"outlinewidth\": 0, \"ticks\": \"\"}, \"colorscale\": [[0.0, \"#0d0887\"], [0.1111111111111111, \"#46039f\"], [0.2222222222222222, \"#7201a8\"], [0.3333333333333333, \"#9c179e\"], [0.4444444444444444, \"#bd3786\"], [0.5555555555555556, \"#d8576b\"], [0.6666666666666666, \"#ed7953\"], [0.7777777777777778, \"#fb9f3a\"], [0.8888888888888888, \"#fdca26\"], [1.0, \"#f0f921\"]], \"type\": \"contour\"}], \"contourcarpet\": [{\"colorbar\": {\"outlinewidth\": 0, \"ticks\": \"\"}, \"type\": \"contourcarpet\"}], \"heatmap\": [{\"colorbar\": {\"outlinewidth\": 0, \"ticks\": \"\"}, \"colorscale\": [[0.0, \"#0d0887\"], [0.1111111111111111, \"#46039f\"], [0.2222222222222222, \"#7201a8\"], [0.3333333333333333, \"#9c179e\"], [0.4444444444444444, \"#bd3786\"], [0.5555555555555556, \"#d8576b\"], [0.6666666666666666, \"#ed7953\"], [0.7777777777777778, \"#fb9f3a\"], [0.8888888888888888, \"#fdca26\"], [1.0, \"#f0f921\"]], \"type\": \"heatmap\"}], \"heatmapgl\": [{\"colorbar\": {\"outlinewidth\": 0, \"ticks\": \"\"}, \"colorscale\": [[0.0, \"#0d0887\"], [0.1111111111111111, \"#46039f\"], [0.2222222222222222, \"#7201a8\"], [0.3333333333333333, \"#9c179e\"], [0.4444444444444444, \"#bd3786\"], [0.5555555555555556, \"#d8576b\"], [0.6666666666666666, \"#ed7953\"], [0.7777777777777778, \"#fb9f3a\"], [0.8888888888888888, \"#fdca26\"], [1.0, \"#f0f921\"]], \"type\": \"heatmapgl\"}], \"histogram\": [{\"marker\": {\"colorbar\": {\"outlinewidth\": 0, \"ticks\": \"\"}}, \"type\": \"histogram\"}], \"histogram2d\": [{\"colorbar\": {\"outlinewidth\": 0, \"ticks\": \"\"}, \"colorscale\": [[0.0, \"#0d0887\"], [0.1111111111111111, \"#46039f\"], [0.2222222222222222, \"#7201a8\"], [0.3333333333333333, \"#9c179e\"], [0.4444444444444444, \"#bd3786\"], [0.5555555555555556, \"#d8576b\"], [0.6666666666666666, \"#ed7953\"], [0.7777777777777778, \"#fb9f3a\"], [0.8888888888888888, \"#fdca26\"], [1.0, \"#f0f921\"]], \"type\": \"histogram2d\"}], \"histogram2dcontour\": [{\"colorbar\": {\"outlinewidth\": 0, \"ticks\": \"\"}, \"colorscale\": [[0.0, \"#0d0887\"], [0.1111111111111111, \"#46039f\"], [0.2222222222222222, \"#7201a8\"], [0.3333333333333333, \"#9c179e\"], [0.4444444444444444, \"#bd3786\"], [0.5555555555555556, \"#d8576b\"], [0.6666666666666666, \"#ed7953\"], [0.7777777777777778, \"#fb9f3a\"], [0.8888888888888888, \"#fdca26\"], [1.0, \"#f0f921\"]], \"type\": \"histogram2dcontour\"}], \"mesh3d\": [{\"colorbar\": {\"outlinewidth\": 0, \"ticks\": \"\"}, \"type\": \"mesh3d\"}], \"parcoords\": [{\"line\": {\"colorbar\": {\"outlinewidth\": 0, \"ticks\": \"\"}}, \"type\": \"parcoords\"}], \"pie\": [{\"automargin\": true, \"type\": \"pie\"}], \"scatter\": [{\"marker\": {\"colorbar\": {\"outlinewidth\": 0, \"ticks\": \"\"}}, \"type\": \"scatter\"}], \"scatter3d\": [{\"line\": {\"colorbar\": {\"outlinewidth\": 0, \"ticks\": \"\"}}, \"marker\": {\"colorbar\": {\"outlinewidth\": 0, \"ticks\": \"\"}}, \"type\": \"scatter3d\"}], \"scattercarpet\": [{\"marker\": {\"colorbar\": {\"outlinewidth\": 0, \"ticks\": \"\"}}, \"type\": \"scattercarpet\"}], \"scattergeo\": [{\"marker\": {\"colorbar\": {\"outlinewidth\": 0, \"ticks\": \"\"}}, \"type\": \"scattergeo\"}], \"scattergl\": [{\"marker\": {\"colorbar\": {\"outlinewidth\": 0, \"ticks\": \"\"}}, \"type\": \"scattergl\"}], \"scattermapbox\": [{\"marker\": {\"colorbar\": {\"outlinewidth\": 0, \"ticks\": \"\"}}, \"type\": \"scattermapbox\"}], \"scatterpolar\": [{\"marker\": {\"colorbar\": {\"outlinewidth\": 0, \"ticks\": \"\"}}, \"type\": \"scatterpolar\"}], \"scatterpolargl\": [{\"marker\": {\"colorbar\": {\"outlinewidth\": 0, \"ticks\": \"\"}}, \"type\": \"scatterpolargl\"}], \"scatterternary\": [{\"marker\": {\"colorbar\": {\"outlinewidth\": 0, \"ticks\": \"\"}}, \"type\": \"scatterternary\"}], \"surface\": [{\"colorbar\": {\"outlinewidth\": 0, \"ticks\": \"\"}, \"colorscale\": [[0.0, \"#0d0887\"], [0.1111111111111111, \"#46039f\"], [0.2222222222222222, \"#7201a8\"], [0.3333333333333333, \"#9c179e\"], [0.4444444444444444, \"#bd3786\"], [0.5555555555555556, \"#d8576b\"], [0.6666666666666666, \"#ed7953\"], [0.7777777777777778, \"#fb9f3a\"], [0.8888888888888888, \"#fdca26\"], [1.0, \"#f0f921\"]], \"type\": \"surface\"}], \"table\": [{\"cells\": {\"fill\": {\"color\": \"#EBF0F8\"}, \"line\": {\"color\": \"white\"}}, \"header\": {\"fill\": {\"color\": \"#C8D4E3\"}, \"line\": {\"color\": \"white\"}}, \"type\": \"table\"}]}, \"layout\": {\"annotationdefaults\": {\"arrowcolor\": \"#2a3f5f\", \"arrowhead\": 0, \"arrowwidth\": 1}, \"coloraxis\": {\"colorbar\": {\"outlinewidth\": 0, \"ticks\": \"\"}}, \"colorscale\": {\"diverging\": [[0, \"#8e0152\"], [0.1, \"#c51b7d\"], [0.2, \"#de77ae\"], [0.3, \"#f1b6da\"], [0.4, \"#fde0ef\"], [0.5, \"#f7f7f7\"], [0.6, \"#e6f5d0\"], [0.7, \"#b8e186\"], [0.8, \"#7fbc41\"], [0.9, \"#4d9221\"], [1, \"#276419\"]], \"sequential\": [[0.0, \"#0d0887\"], [0.1111111111111111, \"#46039f\"], [0.2222222222222222, \"#7201a8\"], [0.3333333333333333, \"#9c179e\"], [0.4444444444444444, \"#bd3786\"], [0.5555555555555556, \"#d8576b\"], [0.6666666666666666, \"#ed7953\"], [0.7777777777777778, \"#fb9f3a\"], [0.8888888888888888, \"#fdca26\"], [1.0, \"#f0f921\"]], \"sequentialminus\": [[0.0, \"#0d0887\"], [0.1111111111111111, \"#46039f\"], [0.2222222222222222, \"#7201a8\"], [0.3333333333333333, \"#9c179e\"], [0.4444444444444444, \"#bd3786\"], [0.5555555555555556, \"#d8576b\"], [0.6666666666666666, \"#ed7953\"], [0.7777777777777778, \"#fb9f3a\"], [0.8888888888888888, \"#fdca26\"], [1.0, \"#f0f921\"]]}, \"colorway\": [\"#636efa\", \"#EF553B\", \"#00cc96\", \"#ab63fa\", \"#FFA15A\", \"#19d3f3\", \"#FF6692\", \"#B6E880\", \"#FF97FF\", \"#FECB52\"], \"font\": {\"color\": \"#2a3f5f\"}, \"geo\": {\"bgcolor\": \"white\", \"lakecolor\": \"white\", \"landcolor\": \"#E5ECF6\", \"showlakes\": true, \"showland\": true, \"subunitcolor\": \"white\"}, \"hoverlabel\": {\"align\": \"left\"}, \"hovermode\": \"closest\", \"mapbox\": {\"style\": \"light\"}, \"paper_bgcolor\": \"white\", \"plot_bgcolor\": \"#E5ECF6\", \"polar\": {\"angularaxis\": {\"gridcolor\": \"white\", \"linecolor\": \"white\", \"ticks\": \"\"}, \"bgcolor\": \"#E5ECF6\", \"radialaxis\": {\"gridcolor\": \"white\", \"linecolor\": \"white\", \"ticks\": \"\"}}, \"scene\": {\"xaxis\": {\"backgroundcolor\": \"#E5ECF6\", \"gridcolor\": \"white\", \"gridwidth\": 2, \"linecolor\": \"white\", \"showbackground\": true, \"ticks\": \"\", \"zerolinecolor\": \"white\"}, \"yaxis\": {\"backgroundcolor\": \"#E5ECF6\", \"gridcolor\": \"white\", \"gridwidth\": 2, \"linecolor\": \"white\", \"showbackground\": true, \"ticks\": \"\", \"zerolinecolor\": \"white\"}, \"zaxis\": {\"backgroundcolor\": \"#E5ECF6\", \"gridcolor\": \"white\", \"gridwidth\": 2, \"linecolor\": \"white\", \"showbackground\": true, \"ticks\": \"\", \"zerolinecolor\": \"white\"}}, \"shapedefaults\": {\"line\": {\"color\": \"#2a3f5f\"}}, \"ternary\": {\"aaxis\": {\"gridcolor\": \"white\", \"linecolor\": \"white\", \"ticks\": \"\"}, \"baxis\": {\"gridcolor\": \"white\", \"linecolor\": \"white\", \"ticks\": \"\"}, \"bgcolor\": \"#E5ECF6\", \"caxis\": {\"gridcolor\": \"white\", \"linecolor\": \"white\", \"ticks\": \"\"}}, \"title\": {\"x\": 0.05}, \"xaxis\": {\"automargin\": true, \"gridcolor\": \"white\", \"linecolor\": \"white\", \"ticks\": \"\", \"title\": {\"standoff\": 15}, \"zerolinecolor\": \"white\", \"zerolinewidth\": 2}, \"yaxis\": {\"automargin\": true, \"gridcolor\": \"white\", \"linecolor\": \"white\", \"ticks\": \"\", \"title\": {\"standoff\": 15}, \"zerolinecolor\": \"white\", \"zerolinewidth\": 2}}}, \"width\": 1000},\n",
              "                        {\"responsive\": true}\n",
              "                    ).then(function(){\n",
              "                            \n",
              "var gd = document.getElementById('1abd402e-dbbb-433c-a992-c4089eb78fdc');\n",
              "var x = new MutationObserver(function (mutations, observer) {{\n",
              "        var display = window.getComputedStyle(gd).display;\n",
              "        if (!display || display === 'none') {{\n",
              "            console.log([gd, 'removed!']);\n",
              "            Plotly.purge(gd);\n",
              "            observer.disconnect();\n",
              "        }}\n",
              "}});\n",
              "\n",
              "// Listen for the removal of the full notebook cells\n",
              "var notebookContainer = gd.closest('#notebook-container');\n",
              "if (notebookContainer) {{\n",
              "    x.observe(notebookContainer, {childList: true});\n",
              "}}\n",
              "\n",
              "// Listen for the clearing of the current output cell\n",
              "var outputEl = gd.closest('.output');\n",
              "if (outputEl) {{\n",
              "    x.observe(outputEl, {childList: true});\n",
              "}}\n",
              "\n",
              "                        })\n",
              "                };\n",
              "                \n",
              "            </script>\n",
              "        </div>\n",
              "</body>\n",
              "</html>"
            ]
          },
          "metadata": {}
        }
      ]
    },
    {
      "cell_type": "markdown",
      "source": [
        "Persentase wisatawan merupakan perbandingan jumlah pengunjung manca negara dengan jumlah pengunjung nusantara (dalam persen). Dapat kita lihat, bahwa industri parawisata perkemahan di Jawa Barat sebagian besarnya didominasi oleh pengunjung dari nusantara sebanyak 99.8% dan hanya sebagian kecil saja pengunjung dari mancanegara. \n",
        "\n",
        "Persentase tenaga kerja merupakan perbandingan jumlah tenaga kerja berdasarkan jenis kelamin. Seperti yang terlihat persentase tenaga kerja 77%-nya\n",
        "didominasi oleh para pria dan 23%-nya adalah para wanita."
      ],
      "metadata": {
        "id": "AY8e-Q0pOnvn"
      }
    },
    {
      "cell_type": "markdown",
      "metadata": {
        "id": "J-vk-c3qeA6h"
      },
      "source": [
        "# **Analisis Perkembangan Pariwisata Perkemahan Pada Masa Pandemi Covid-19**"
      ]
    },
    {
      "cell_type": "markdown",
      "source": [
        "Pandemi Covig-19 di Indonesia terjadi di awal tahun 2020 dan masih terjadi sampai sekarang ini. Akibat dari pandemi ini, hampir semua sektor terkena dampaknya termasuk dalam sektor industri pariwisata perkemahan. Selama pandemi ini, pemerintah berusaha untuk mengatasi penyebaran virus covid-19 dengan cara memberlakukan kebijakan **Pembatasan Sosial Berskala Besar** (PSBB) dan **Pemberlakukan Pembatasan Kegiatan Masyarakat** (PPKM) sehingga para pelaku industri pariwisata harus ditutup dan kehilangan pengunjungnya. Akibat dari penutupan ini, masyarakat dan pekerja parawisata harus kehilangan mata pencahariannya."
      ],
      "metadata": {
        "id": "T2YNnijXZcWK"
      }
    },
    {
      "cell_type": "markdown",
      "source": [
        "Dalam analisis ini, sebenarnya tidak ada data pengunjung wisata perkemahan untuk tahun 2020 dan 2021 sehingga kita tidak bisa melihat lebih jauh pada datanya. Oleh karena itu, kami mengasumsikan bahwa selama pandami pada tahun 2020 dan 2021 tidak ada pengunjung yang datang dan juga sebagian tenaga kerjanya dirumahkan. Asumsi ini juga akan kami gunakan dalam pemodelan data sebagai pertimbangan untuk pengambilan keputusan pembukaan wisata perkemahan untuk tahun 2022 dan selanjutnya. Untuk mendukung asumsi tersebut kita akan melihat lebih jauh terhadap data perkembangan kasus Covid-19 dan vaksinasi."
      ],
      "metadata": {
        "id": "f0DxEMjjLjWP"
      }
    },
    {
      "cell_type": "markdown",
      "metadata": {
        "id": "VhmDJVJK3VQS"
      },
      "source": [
        "## **Perkembangan Kasus Covid-19**"
      ]
    },
    {
      "cell_type": "code",
      "metadata": {
        "id": "3dewMEHDbKVk"
      },
      "source": [
        "dat4 = pd.read_csv('/content/drive/MyDrive/TSDN 21/dataset/West Java Covid-19/satgas-covid-19-dp_cvd_agregat_kasus_terkonfirmasi_covid19_kabkota_jabar_data.csv')\n",
        "dat4.drop(dat4.index[dat4['nama_kab_kota'] == 'jawa barat'], inplace=True)"
      ],
      "execution_count": null,
      "outputs": []
    },
    {
      "cell_type": "markdown",
      "metadata": {
        "id": "7sdURgQz7O1R"
      },
      "source": [
        "Informasi penting yang diambil dari data covid-19 di atas adalah pertumbuhan harian terkonfirmasi positif, pertumbuhan harian sembuh dan pertumbuhan harian meninggal."
      ]
    },
    {
      "cell_type": "code",
      "metadata": {
        "colab": {
          "base_uri": "https://localhost:8080/",
          "height": 238
        },
        "id": "cmY4FL7u6wGf",
        "outputId": "a8039d6d-9d5d-49e9-e316-90174877450f"
      },
      "source": [
        "dat_cov = dat4[['tanggal', 'nama_kab_kota', 'konfirmasi_total_daily_growth', \n",
        "                'konfirmasi_sembuh_daily_growth', 'konfirmasi_meninggal_daily_growth']].copy()\n",
        "dat_cov.tanggal = pd.to_datetime(dat_cov.tanggal)\n",
        "dat_cov.set_index('tanggal', inplace=True)\n",
        "dat_cov.nama_kab_kota = dat_cov.nama_kab_kota.str.upper()\n",
        "kab_id = mk_dict(map_data, 'nama_kabupaten_kota', 'id')\n",
        "dat_cov['id'] = dat_cov.nama_kab_kota.apply(lambda x: kab_id[x])\n",
        "dat_cov.head()"
      ],
      "execution_count": null,
      "outputs": [
        {
          "output_type": "execute_result",
          "data": {
            "text/html": [
              "\n",
              "  <div id=\"df-34ef99c4-252c-4346-992a-1c7e29c77d74\">\n",
              "    <div class=\"colab-df-container\">\n",
              "      <div>\n",
              "<style scoped>\n",
              "    .dataframe tbody tr th:only-of-type {\n",
              "        vertical-align: middle;\n",
              "    }\n",
              "\n",
              "    .dataframe tbody tr th {\n",
              "        vertical-align: top;\n",
              "    }\n",
              "\n",
              "    .dataframe thead th {\n",
              "        text-align: right;\n",
              "    }\n",
              "</style>\n",
              "<table border=\"1\" class=\"dataframe\">\n",
              "  <thead>\n",
              "    <tr style=\"text-align: right;\">\n",
              "      <th></th>\n",
              "      <th>nama_kab_kota</th>\n",
              "      <th>konfirmasi_total_daily_growth</th>\n",
              "      <th>konfirmasi_sembuh_daily_growth</th>\n",
              "      <th>konfirmasi_meninggal_daily_growth</th>\n",
              "      <th>id</th>\n",
              "    </tr>\n",
              "    <tr>\n",
              "      <th>tanggal</th>\n",
              "      <th></th>\n",
              "      <th></th>\n",
              "      <th></th>\n",
              "      <th></th>\n",
              "      <th></th>\n",
              "    </tr>\n",
              "  </thead>\n",
              "  <tbody>\n",
              "    <tr>\n",
              "      <th>2020-03-01</th>\n",
              "      <td>KABUPATEN BANDUNG</td>\n",
              "      <td>0.0</td>\n",
              "      <td>0.0</td>\n",
              "      <td>0.0</td>\n",
              "      <td>04</td>\n",
              "    </tr>\n",
              "    <tr>\n",
              "      <th>2020-03-01</th>\n",
              "      <td>KABUPATEN BANDUNG BARAT</td>\n",
              "      <td>0.0</td>\n",
              "      <td>0.0</td>\n",
              "      <td>0.0</td>\n",
              "      <td>17</td>\n",
              "    </tr>\n",
              "    <tr>\n",
              "      <th>2020-03-01</th>\n",
              "      <td>KABUPATEN BEKASI</td>\n",
              "      <td>0.0</td>\n",
              "      <td>0.0</td>\n",
              "      <td>0.0</td>\n",
              "      <td>16</td>\n",
              "    </tr>\n",
              "    <tr>\n",
              "      <th>2020-03-01</th>\n",
              "      <td>KABUPATEN BOGOR</td>\n",
              "      <td>0.0</td>\n",
              "      <td>0.0</td>\n",
              "      <td>0.0</td>\n",
              "      <td>01</td>\n",
              "    </tr>\n",
              "    <tr>\n",
              "      <th>2020-03-01</th>\n",
              "      <td>KABUPATEN CIAMIS</td>\n",
              "      <td>0.0</td>\n",
              "      <td>0.0</td>\n",
              "      <td>0.0</td>\n",
              "      <td>07</td>\n",
              "    </tr>\n",
              "  </tbody>\n",
              "</table>\n",
              "</div>\n",
              "      <button class=\"colab-df-convert\" onclick=\"convertToInteractive('df-34ef99c4-252c-4346-992a-1c7e29c77d74')\"\n",
              "              title=\"Convert this dataframe to an interactive table.\"\n",
              "              style=\"display:none;\">\n",
              "        \n",
              "  <svg xmlns=\"http://www.w3.org/2000/svg\" height=\"24px\"viewBox=\"0 0 24 24\"\n",
              "       width=\"24px\">\n",
              "    <path d=\"M0 0h24v24H0V0z\" fill=\"none\"/>\n",
              "    <path d=\"M18.56 5.44l.94 2.06.94-2.06 2.06-.94-2.06-.94-.94-2.06-.94 2.06-2.06.94zm-11 1L8.5 8.5l.94-2.06 2.06-.94-2.06-.94L8.5 2.5l-.94 2.06-2.06.94zm10 10l.94 2.06.94-2.06 2.06-.94-2.06-.94-.94-2.06-.94 2.06-2.06.94z\"/><path d=\"M17.41 7.96l-1.37-1.37c-.4-.4-.92-.59-1.43-.59-.52 0-1.04.2-1.43.59L10.3 9.45l-7.72 7.72c-.78.78-.78 2.05 0 2.83L4 21.41c.39.39.9.59 1.41.59.51 0 1.02-.2 1.41-.59l7.78-7.78 2.81-2.81c.8-.78.8-2.07 0-2.86zM5.41 20L4 18.59l7.72-7.72 1.47 1.35L5.41 20z\"/>\n",
              "  </svg>\n",
              "      </button>\n",
              "      \n",
              "  <style>\n",
              "    .colab-df-container {\n",
              "      display:flex;\n",
              "      flex-wrap:wrap;\n",
              "      gap: 12px;\n",
              "    }\n",
              "\n",
              "    .colab-df-convert {\n",
              "      background-color: #E8F0FE;\n",
              "      border: none;\n",
              "      border-radius: 50%;\n",
              "      cursor: pointer;\n",
              "      display: none;\n",
              "      fill: #1967D2;\n",
              "      height: 32px;\n",
              "      padding: 0 0 0 0;\n",
              "      width: 32px;\n",
              "    }\n",
              "\n",
              "    .colab-df-convert:hover {\n",
              "      background-color: #E2EBFA;\n",
              "      box-shadow: 0px 1px 2px rgba(60, 64, 67, 0.3), 0px 1px 3px 1px rgba(60, 64, 67, 0.15);\n",
              "      fill: #174EA6;\n",
              "    }\n",
              "\n",
              "    [theme=dark] .colab-df-convert {\n",
              "      background-color: #3B4455;\n",
              "      fill: #D2E3FC;\n",
              "    }\n",
              "\n",
              "    [theme=dark] .colab-df-convert:hover {\n",
              "      background-color: #434B5C;\n",
              "      box-shadow: 0px 1px 3px 1px rgba(0, 0, 0, 0.15);\n",
              "      filter: drop-shadow(0px 1px 2px rgba(0, 0, 0, 0.3));\n",
              "      fill: #FFFFFF;\n",
              "    }\n",
              "  </style>\n",
              "\n",
              "      <script>\n",
              "        const buttonEl =\n",
              "          document.querySelector('#df-34ef99c4-252c-4346-992a-1c7e29c77d74 button.colab-df-convert');\n",
              "        buttonEl.style.display =\n",
              "          google.colab.kernel.accessAllowed ? 'block' : 'none';\n",
              "\n",
              "        async function convertToInteractive(key) {\n",
              "          const element = document.querySelector('#df-34ef99c4-252c-4346-992a-1c7e29c77d74');\n",
              "          const dataTable =\n",
              "            await google.colab.kernel.invokeFunction('convertToInteractive',\n",
              "                                                     [key], {});\n",
              "          if (!dataTable) return;\n",
              "\n",
              "          const docLinkHtml = 'Like what you see? Visit the ' +\n",
              "            '<a target=\"_blank\" href=https://colab.research.google.com/notebooks/data_table.ipynb>data table notebook</a>'\n",
              "            + ' to learn more about interactive tables.';\n",
              "          element.innerHTML = '';\n",
              "          dataTable['output_type'] = 'display_data';\n",
              "          await google.colab.output.renderOutput(dataTable, element);\n",
              "          const docLink = document.createElement('div');\n",
              "          docLink.innerHTML = docLinkHtml;\n",
              "          element.appendChild(docLink);\n",
              "        }\n",
              "      </script>\n",
              "    </div>\n",
              "  </div>\n",
              "  "
            ],
            "text/plain": [
              "                      nama_kab_kota  ...  id\n",
              "tanggal                              ...    \n",
              "2020-03-01        KABUPATEN BANDUNG  ...  04\n",
              "2020-03-01  KABUPATEN BANDUNG BARAT  ...  17\n",
              "2020-03-01         KABUPATEN BEKASI  ...  16\n",
              "2020-03-01          KABUPATEN BOGOR  ...  01\n",
              "2020-03-01         KABUPATEN CIAMIS  ...  07\n",
              "\n",
              "[5 rows x 5 columns]"
            ]
          },
          "metadata": {},
          "execution_count": 22
        }
      ]
    },
    {
      "cell_type": "code",
      "metadata": {
        "colab": {
          "base_uri": "https://localhost:8080/"
        },
        "id": "0tz924xybe6L",
        "outputId": "8efae282-85e2-45ea-b34a-7bba6707bdd3"
      },
      "source": [
        "dat_cov.isnull().sum()"
      ],
      "execution_count": null,
      "outputs": [
        {
          "output_type": "execute_result",
          "data": {
            "text/plain": [
              "nama_kab_kota                        0\n",
              "konfirmasi_total_daily_growth        0\n",
              "konfirmasi_sembuh_daily_growth       0\n",
              "konfirmasi_meninggal_daily_growth    0\n",
              "id                                   0\n",
              "dtype: int64"
            ]
          },
          "metadata": {},
          "execution_count": 23
        }
      ]
    },
    {
      "cell_type": "markdown",
      "metadata": {
        "id": "glBfjU278Lny"
      },
      "source": [
        "Peta Persebaran dan Pertumbuhan Covid-19 di Jawa Barat"
      ]
    },
    {
      "cell_type": "code",
      "metadata": {
        "id": "fE0Wj8XW-Sv1"
      },
      "source": [
        "cov_vis = dat_cov.groupby(pd.Grouper(freq='m')).sum()[:-1]"
      ],
      "execution_count": null,
      "outputs": []
    },
    {
      "cell_type": "code",
      "metadata": {
        "id": "hhUKvJOb8KWI"
      },
      "source": [
        "map_cov = dat_cov.loc['2021-09'].groupby('nama_kab_kota').sum().reset_index()\n",
        "map_cov['id'] = map_cov.nama_kab_kota.apply(lambda x: kab_id[x])\n",
        "map_cov.rename(columns={'konfirmasi_total_daily_growth':'konfirmasi_total', \n",
        "                        'konfirmasi_sembuh_daily_growth': 'konfirmasi_sembuh',\n",
        "                        'konfirmasi_meninggal_daily_growth': 'konfirmasi_meninggal'},\n",
        "               inplace=True)"
      ],
      "execution_count": null,
      "outputs": []
    },
    {
      "cell_type": "code",
      "metadata": {
        "colab": {
          "base_uri": "https://localhost:8080/",
          "height": 867
        },
        "id": "gXhu7VHc4Bjk",
        "outputId": "d5686b99-d9be-4816-db6a-6976edac8042"
      },
      "source": [
        "fig = px.choropleth_mapbox(map_cov, geojson=west_java_geojson, locations='id',\n",
        "                           color='konfirmasi_total',\n",
        "                           color_continuous_scale=\"reds\",\n",
        "                           range_color=(0, int(dat_cov.konfirmasi_total_daily_growth.max())),\n",
        "                           mapbox_style=\"carto-positron\",\n",
        "                           zoom=7.25, center = {\"lat\": -6.871893, \"lon\": 107.6455},\n",
        "                           opacity=0.8,\n",
        "                           hover_name='nama_kab_kota',\n",
        "                           hover_data=['id', 'konfirmasi_total', 'konfirmasi_sembuh'],\n",
        "                           labels={'konfirmasi_total':'Konfirmasi Total',\n",
        "                                   'konfirmasi_sembuh': 'Konfirmasi Sembuh'}\n",
        "                           )\n",
        "fig.update_layout(title={'text':'Peta Sebaran Kasus Covid-19 Update September 2021',\n",
        "                         'y':0.98, 'x':0.5, 'xanchor':'center', 'yanchor':'top'},\n",
        "                  margin={\"r\":10,\"t\":35,\"l\":10,\"b\":10},\n",
        "                  width=100*10, height=100*5.5)\n",
        "fig.show()\n",
        "\n",
        "fig = go.Figure(data=[\n",
        "            go.Scatter(x=cov_vis.index, \n",
        "                       y=cov_vis.konfirmasi_total_daily_growth, \n",
        "                       name='Positif'),\n",
        "            go.Scatter(x=cov_vis.index, \n",
        "                       y=cov_vis.konfirmasi_sembuh_daily_growth, \n",
        "                       name='Sembuh'),\n",
        "            go.Scatter(x=cov_vis.index, \n",
        "                       y=cov_vis.konfirmasi_meninggal_daily_growth, \n",
        "                       name='Meinggal')])\n",
        "\n",
        "fig.update_layout(title={'text':'Pertumbuhan Kasus Covid-19',\n",
        "                         'y':0.98, 'x':0.5, 'xanchor':'center', 'yanchor':'top'},\n",
        "                  xaxis_title='Tahun',\n",
        "                  yaxis_title='Jumlah',\n",
        "                  margin={\"r\":10,\"t\":25,\"l\":0,\"b\":0},\n",
        "                  width=100*10, height=100*3)\n",
        "fig.show()"
      ],
      "execution_count": null,
      "outputs": [
        {
          "output_type": "display_data",
          "data": {
            "text/html": [
              "<html>\n",
              "<head><meta charset=\"utf-8\" /></head>\n",
              "<body>\n",
              "    <div>\n",
              "            <script src=\"https://cdnjs.cloudflare.com/ajax/libs/mathjax/2.7.5/MathJax.js?config=TeX-AMS-MML_SVG\"></script><script type=\"text/javascript\">if (window.MathJax) {MathJax.Hub.Config({SVG: {font: \"STIX-Web\"}});}</script>\n",
              "                <script type=\"text/javascript\">window.PlotlyConfig = {MathJaxConfig: 'local'};</script>\n",
              "        <script src=\"https://cdn.plot.ly/plotly-latest.min.js\"></script>    \n",
              "            <div id=\"0350d0ce-f2ac-45a3-8886-732df2ebbdc3\" class=\"plotly-graph-div\" style=\"height:550.0px; width:1000px;\"></div>\n",
              "            <script type=\"text/javascript\">\n",
              "                \n",
              "                    window.PLOTLYENV=window.PLOTLYENV || {};\n",
              "                    \n",
              "                if (document.getElementById(\"0350d0ce-f2ac-45a3-8886-732df2ebbdc3\")) {\n",
              "                    Plotly.newPlot(\n",
              "                        '0350d0ce-f2ac-45a3-8886-732df2ebbdc3',\n",
              "                        [{\"coloraxis\": \"coloraxis\", \"customdata\": [[\"04\", 649.0, 1513.0], [\"17\", 607.0, 754.0], [\"16\", 912.0, 5134.0], [\"01\", 1112.0, 1328.0], [\"07\", 468.0, 871.0], [\"03\", 224.0, 571.0], [\"09\", 405.0, 501.0], [\"05\", 201.0, 1276.0], [\"12\", 174.0, 771.0], [\"15\", 331.0, 482.0], [\"08\", 192.0, 473.0], [\"10\", 183.0, 352.0], [\"18\", 113.0, 192.0], [\"14\", 163.0, 218.0], [\"13\", 156.0, 999.0], [\"02\", 304.0, 1109.0], [\"11\", 228.0, 410.0], [\"06\", 278.0, 1229.0], [\"73\", 1111.0, 3601.0], [\"79\", 73.0, 251.0], [\"75\", 1225.0, 2370.0], [\"71\", 701.0, 1116.0], [\"77\", 161.0, 315.0], [\"74\", 124.0, 146.0], [\"76\", 1305.0, 2410.0], [\"72\", 193.0, 258.0], [\"78\", 255.0, 524.0]], \"geojson\": {\"features\": [{\"geometry\": {\"coordinates\": [[[108.323533, -6.62749], [108.31103, -6.62494], [108.292199, -6.60957], [108.28793200000013, -6.60741], [108.282128, -6.60988], [108.282729, -6.616669], [108.271318, -6.61278], [108.26938700000011, -6.60554], [108.27538, -6.59236], [108.27232, -6.58926], [108.255835, -6.58671], [108.23893800000013, -6.5791], [108.21794, -6.56621], [108.21457, -6.56524], [108.202392, -6.580691], [108.18963600000012, -6.60487], [108.18930100000011, -6.61447], [108.184448, -6.61622], [108.179528, -6.61002], [108.1744, -6.608649], [108.165253, -6.61045], [108.1548, -6.60335], [108.146897, -6.60339], [108.145347, -6.59963], [108.14589, -6.57519], [108.140839, -6.56496], [108.136001, -6.563308], [108.115174, -6.56669], [108.09566, -6.56835], [108.089896, -6.57026], [108.07624, -6.57915], [108.07309, -6.58342], [108.07222800000011, -6.59923], [108.06561, -6.61691], [108.0541300000001, -6.62493], [108.044487, -6.63632], [108.050668, -6.6392], [108.05332, -6.64917], [108.070282, -6.66348], [108.076333, -6.66473], [108.092141, -6.67395], [108.100198, -6.67537], [108.104394, -6.687149], [108.112152, -6.69766], [108.119659, -6.704249], [108.127609, -6.70504], [108.144898, -6.71092], [108.15056700000014, -6.71729], [108.158286, -6.72043], [108.162179, -6.72819], [108.16197100000011, -6.733538999999894], [108.150047, -6.74668], [108.1509, -6.76014], [108.16114900000014, -6.760109], [108.164139, -6.774021], [108.170616, -6.78517], [108.16279, -6.79927], [108.15593600000011, -6.79946], [108.15883, -6.80664], [108.163688, -6.81033], [108.156998, -6.82114], [108.16063600000012, -6.830260999999894], [108.168387, -6.83239], [108.17932, -6.83207], [108.1813, -6.85202], [108.188147, -6.85178], [108.18853, -6.86092], [108.19441300000011, -6.86344], [108.19944, -6.86975], [108.192918, -6.882478], [108.2015300000001, -6.89011], [108.212012, -6.88801], [108.21392, -6.89278], [108.211937, -6.90204], [108.216682, -6.90698], [108.21354600000012, -6.91481], [108.21694900000011, -6.917209999999898], [108.22119, -6.92807], [108.21712, -6.93401], [108.211609, -6.93575], [108.197152, -6.94884], [108.18150400000013, -6.957179], [108.1808400000001, -6.96049], [108.17047, -6.97363], [108.16855600000014, -6.988189], [108.16462700000011, -6.99977], [108.161721, -7.016139999999893], [108.15498, -7.01891], [108.14872, -7.029039999999895], [108.138298, -7.038489], [108.13785, -7.04097], [108.145347, -7.04803], [108.154136, -7.06526], [108.16214, -7.06289], [108.1702130000001, -7.06425], [108.18051200000014, -7.05486], [108.19117, -7.054261], [108.20787800000011, -7.05113], [108.216912, -7.05646], [108.22408300000012, -7.0519], [108.2303, -7.05436], [108.237518, -7.06165], [108.246277, -7.06399], [108.261146, -7.06281], [108.273453, -7.06384], [108.28978, -7.05793], [108.310592, -7.06059], [108.31886900000012, -7.05717], [108.332961, -7.065489999999897], [108.33976, -7.06462], [108.35621, -7.05153], [108.36054, -7.05122], [108.37652, -7.06173], [108.385933, -7.071639], [108.393272, -7.05629], [108.391777, -7.04621], [108.387191, -7.03623], [108.394546, -7.02949], [108.389473, -7.02116], [108.3843240000001, -7.005879], [108.384682, -6.98565], [108.386856, -6.975769999999898], [108.387681, -6.956249], [108.392533, -6.944739], [108.400681, -6.936781], [108.40358, -6.92751], [108.402518, -6.92073], [108.40960600000011, -6.87852], [108.41101, -6.8662], [108.406067, -6.85387], [108.404319, -6.84225], [108.3986670000001, -6.82763], [108.398484, -6.80922], [108.395218, -6.7983], [108.40338200000014, -6.78904], [108.400139, -6.775689], [108.39005400000013, -6.77186], [108.383811, -6.76659], [108.375686, -6.764990999999895], [108.37305, -6.75361], [108.36628, -6.742471], [108.375107, -6.73778], [108.376137, -6.732209999999895], [108.367652, -6.72516], [108.363372, -6.7185], [108.361077, -6.70867], [108.366531, -6.70262], [108.366332, -6.695019], [108.36239, -6.687149], [108.35522, -6.680271], [108.337166, -6.67359], [108.33393, -6.66819], [108.33492, -6.65507], [108.329529, -6.6456], [108.32933, -6.63927], [108.323533, -6.62749]]], \"type\": \"Polygon\"}, \"id\": \"10\", \"properties\": {\"NAME\": \"KABUPATEN MAJALENGKA\"}, \"type\": \"Feature\"}, {\"geometry\": {\"coordinates\": [[[108.044487, -6.63632], [108.03174600000011, -6.64488], [108.030876, -6.65719], [108.023819, -6.6652], [108.01479400000011, -6.66505], [107.99855100000013, -6.65472], [107.980377, -6.645279], [107.972008, -6.638], [107.96077600000012, -6.634], [107.95106, -6.62506], [107.940934, -6.62381], [107.92106700000011, -6.60518], [107.905639, -6.59383], [107.892632, -6.588859], [107.87288600000011, -6.58649], [107.8551, -6.57899], [107.850899, -6.58251], [107.857064, -6.59819], [107.853142, -6.607390999999893], [107.85486700000013, -6.626579], [107.85043400000012, -6.63883], [107.85301900000013, -6.64624], [107.850197, -6.65412], [107.841049, -6.661899], [107.837418, -6.67559], [107.83017, -6.68509], [107.83770700000014, -6.69145], [107.838676, -6.69587], [107.83448, -6.71502], [107.83678, -6.724671], [107.834877, -6.73186], [107.8358, -6.74663], [107.83833, -6.75582], [107.834587, -6.77266], [107.820076, -6.78586], [107.81598700000012, -6.79512], [107.8054580000001, -6.80612], [107.79993, -6.8078], [107.79117700000012, -6.801719], [107.783332, -6.80235], [107.774598, -6.79843], [107.76084800000012, -6.8061], [107.74429, -6.81013], [107.741182, -6.81951], [107.744461, -6.83433], [107.741241, -6.84175], [107.738586, -6.873719], [107.748208, -6.88254], [107.758453, -6.89643], [107.758056, -6.91988], [107.755866, -6.92931], [107.7595510000001, -6.94437], [107.7708970000001, -6.95164], [107.808838, -6.96351], [107.829505, -6.96351], [107.83802, -6.96688], [107.8550560000001, -6.96495], [107.86438700000014, -6.96142], [107.877572, -6.96058], [107.88742, -6.95786], [107.894784, -6.95158], [107.908372, -6.95074], [107.91615300000012, -6.94796], [107.924782, -6.94961], [107.928757, -6.953570999999897], [107.937499, -6.95355], [107.953798, -6.96132], [107.95955700000013, -6.960739], [107.966232, -6.95601], [107.98004900000012, -6.97126], [107.985291, -6.97884], [107.99680300000011, -6.982489], [108.00087800000011, -6.98589], [108.008317, -6.98225], [108.021333, -6.984], [108.031486, -6.99157], [108.042098, -6.99574], [108.059196, -6.99426], [108.07153, -6.98313], [108.08233600000011, -6.98987], [108.0898370000001, -6.99758], [108.092492, -7.00615], [108.099373, -7.019249], [108.108147, -7.02849], [108.12026, -7.03652], [108.132309, -7.04115], [108.13785, -7.04097], [108.138298, -7.038489], [108.14872, -7.029039999999895], [108.15498, -7.01891], [108.161721, -7.016139999999893], [108.16462700000011, -6.99977], [108.16855600000014, -6.988189], [108.17047, -6.97363], [108.1808400000001, -6.96049], [108.18150400000013, -6.957179], [108.197152, -6.94884], [108.211609, -6.93575], [108.21712, -6.93401], [108.22119, -6.92807], [108.21694900000011, -6.917209999999898], [108.21354600000012, -6.91481], [108.216682, -6.90698], [108.211937, -6.90204], [108.21392, -6.89278], [108.212012, -6.88801], [108.2015300000001, -6.89011], [108.192918, -6.882478], [108.19944, -6.86975], [108.19441300000011, -6.86344], [108.18853, -6.86092], [108.188147, -6.85178], [108.1813, -6.85202], [108.17932, -6.83207], [108.168387, -6.83239], [108.16063600000012, -6.830260999999894], [108.156998, -6.82114], [108.163688, -6.81033], [108.15883, -6.80664], [108.15593600000011, -6.79946], [108.16279, -6.79927], [108.170616, -6.78517], [108.164139, -6.774021], [108.16114900000014, -6.760109], [108.1509, -6.76014], [108.150047, -6.74668], [108.16197100000011, -6.733538999999894], [108.162179, -6.72819], [108.158286, -6.72043], [108.15056700000014, -6.71729], [108.144898, -6.71092], [108.127609, -6.70504], [108.119659, -6.704249], [108.112152, -6.69766], [108.104394, -6.687149], [108.100198, -6.67537], [108.092141, -6.67395], [108.076333, -6.66473], [108.070282, -6.66348], [108.05332, -6.64917], [108.050668, -6.6392], [108.044487, -6.63632]]], \"type\": \"Polygon\"}, \"id\": \"11\", \"properties\": {\"NAME\": \"KABUPATEN SUMEDANG\"}, \"type\": \"Feature\"}, {\"geometry\": {\"coordinates\": [[[108.539239, -6.51575], [108.536942, -6.49972], [108.53714, -6.4822], [108.519928, -6.47592], [108.489511, -6.46031], [108.477265, -6.45289], [108.45208, -6.434005], [108.432503, -6.41306], [108.429168, -6.41139], [108.411767, -6.389752], [108.396118, -6.36671], [108.39167900000012, -6.35821], [108.384048, -6.355160999999896], [108.37285500000013, -6.32945], [108.36767500000013, -6.30843], [108.3672, -6.30187], [108.37375, -6.295311], [108.364402, -6.264788999999894], [108.35751, -6.26269], [108.350281, -6.251939], [108.349319, -6.23966], [108.342568, -6.24077], [108.3375170000001, -6.24752], [108.340501, -6.25134], [108.340736, -6.25985], [108.338, -6.2739], [108.333695, -6.27232], [108.329101, -6.26477], [108.299057, -6.24668], [108.29036, -6.24535], [108.281991, -6.24821], [108.261451, -6.24798], [108.23972, -6.240947], [108.238655, -6.244884999999897], [108.232009, -6.24263], [108.221145, -6.25031], [108.21595700000012, -6.238494], [108.21026, -6.240923999999893], [108.207221, -6.23389], [108.199288, -6.22835], [108.196113, -6.23389], [108.201699, -6.241749], [108.20737400000013, -6.261833], [108.2121, -6.26593], [108.20977, -6.273844], [108.19530400000014, -6.279039999999895], [108.190399, -6.293740999999898], [108.18379900000014, -6.29395], [108.17055, -6.30222], [108.167656, -6.30688], [108.146416, -6.318012999999894], [108.13282, -6.32208], [108.132201, -6.33164], [108.12961700000011, -6.33414], [108.10916800000012, -6.33306], [108.111037, -6.32848], [108.091384, -6.324051], [108.086945, -6.320001], [108.080002, -6.320554999999899], [108.06179, -6.31514], [108.055267, -6.31472], [108.042634, -6.31003], [108.02961, -6.30348], [108.01339, -6.293611], [108.004738, -6.28696], [107.99028, -6.27833], [107.974442, -6.271941], [107.95333, -6.26], [107.93528, -6.2525], [107.930092, -6.25382], [107.918977, -6.24898], [107.919715, -6.25718], [107.914544, -6.273279], [107.925133, -6.28108], [107.92299700000012, -6.29654], [107.923524, -6.3101], [107.92195800000013, -6.33539], [107.9193580000001, -6.34661], [107.92362200000014, -6.35987], [107.92023, -6.36661], [107.902779, -6.383999], [107.900482, -6.38757], [107.901229, -6.40285], [107.89408900000012, -6.40764], [107.892822, -6.41213], [107.89759900000013, -6.42562], [107.89332, -6.44132], [107.89557700000012, -6.44787], [107.89224, -6.455689], [107.900299, -6.46958], [107.90277, -6.47883], [107.912727, -6.47967], [107.9212490000001, -6.484249], [107.919982, -6.491921], [107.915269, -6.49668], [107.920677, -6.50178], [107.920905, -6.51368], [107.911873, -6.53042], [107.912208, -6.53743], [107.89908700000012, -6.54574], [107.89879500000012, -6.551201], [107.887108, -6.556168999999898], [107.88181300000014, -6.567271], [107.87439, -6.569068999999899], [107.8627, -6.56892], [107.85481, -6.57204], [107.8551, -6.57899], [107.87288600000011, -6.58649], [107.892632, -6.588859], [107.905639, -6.59383], [107.92106700000011, -6.60518], [107.940934, -6.62381], [107.95106, -6.62506], [107.96077600000012, -6.634], [107.972008, -6.638], [107.980377, -6.645279], [107.99855100000013, -6.65472], [108.01479400000011, -6.66505], [108.023819, -6.6652], [108.030876, -6.65719], [108.03174600000011, -6.64488], [108.044487, -6.63632], [108.0541300000001, -6.62493], [108.06561, -6.61691], [108.07222800000011, -6.59923], [108.07309, -6.58342], [108.07624, -6.57915], [108.089896, -6.57026], [108.09566, -6.56835], [108.115174, -6.56669], [108.136001, -6.563308], [108.140839, -6.56496], [108.14589, -6.57519], [108.145347, -6.59963], [108.146897, -6.60339], [108.1548, -6.60335], [108.165253, -6.61045], [108.1744, -6.608649], [108.179528, -6.61002], [108.184448, -6.61622], [108.18930100000011, -6.61447], [108.18963600000012, -6.60487], [108.202392, -6.580691], [108.21457, -6.56524], [108.21794, -6.56621], [108.23893800000013, -6.5791], [108.255835, -6.58671], [108.27232, -6.58926], [108.27538, -6.59236], [108.26938700000011, -6.60554], [108.271318, -6.61278], [108.282729, -6.616669], [108.282128, -6.60988], [108.28793200000013, -6.60741], [108.292199, -6.60957], [108.31103, -6.62494], [108.323533, -6.62749], [108.320953, -6.61646], [108.335717, -6.60572], [108.33685400000013, -6.602039], [108.330049, -6.59953], [108.32997, -6.59447], [108.334671, -6.58882], [108.3480540000001, -6.58004], [108.35191, -6.579859], [108.355377, -6.567661], [108.360398, -6.55799], [108.37029400000011, -6.55348], [108.373382, -6.548471], [108.383499, -6.54378], [108.392449, -6.535999], [108.400337, -6.53563], [108.41078900000014, -6.52819], [108.4362, -6.51754], [108.437553, -6.52352], [108.446731, -6.5319], [108.44883, -6.57037], [108.452468, -6.57289], [108.47006, -6.56715], [108.47326, -6.55972], [108.489723, -6.55547], [108.49223, -6.55151], [108.490593, -6.5422], [108.49801, -6.54115], [108.500054, -6.53378], [108.507796, -6.52801], [108.512466, -6.51592], [108.51920300000012, -6.51401], [108.530731, -6.51737], [108.539239, -6.51575]]], \"type\": \"Polygon\"}, \"id\": \"12\", \"properties\": {\"NAME\": \"KABUPATEN INDRAMAYU\"}, \"type\": \"Feature\"}, {\"geometry\": {\"coordinates\": [[[107.918977, -6.24898], [107.902467, -6.243041], [107.896942, -6.23778], [107.88777, -6.235408], [107.884651, -6.22612], [107.890273, -6.22444], [107.88325600000013, -6.20861], [107.888785, -6.20316], [107.896942, -6.20972], [107.89917, -6.205559], [107.891488, -6.19608], [107.89138800000012, -6.19], [107.871391, -6.20028], [107.869827, -6.20727], [107.854218, -6.2101], [107.847923, -6.19621], [107.85028100000011, -6.18778], [107.837142, -6.187925], [107.828887, -6.18389], [107.820557, -6.183329999999899], [107.813179, -6.18697], [107.812195, -6.19447], [107.802087, -6.19706], [107.795769, -6.20321], [107.79076, -6.20173], [107.779441, -6.20667], [107.762779, -6.21111], [107.75027, -6.22667], [107.7213210000001, -6.236792], [107.713891, -6.23556], [107.701668, -6.22889], [107.696107, -6.22333], [107.694619, -6.232395], [107.68555, -6.241669], [107.67972500000013, -6.24472], [107.66889, -6.244998999999893], [107.651108, -6.22722], [107.641159, -6.21313], [107.63178, -6.21947], [107.62119, -6.22208], [107.612953, -6.23149], [107.600746, -6.241489], [107.597869, -6.24673], [107.58448, -6.25656], [107.580787, -6.27254], [107.580947, -6.27929], [107.586036, -6.29132], [107.586007, -6.29848], [107.581031, -6.30336], [107.582611, -6.312049], [107.57955900000013, -6.32435], [107.572295, -6.33466], [107.564927, -6.354619], [107.55918, -6.36348], [107.55261300000012, -6.36901], [107.549798, -6.37787], [107.534829, -6.39365], [107.530113, -6.40303], [107.52894600000013, -6.41763], [107.52746, -6.429759], [107.529297, -6.437968999999896], [107.54236600000013, -6.44352], [107.545411, -6.46207], [107.548576, -6.46856], [107.55844000000013, -6.47312], [107.56619200000011, -6.48536], [107.56118, -6.51658], [107.564118, -6.52359], [107.560601, -6.533878999999899], [107.56330900000012, -6.54514], [107.55909700000012, -6.556988], [107.57309, -6.579319], [107.580979, -6.58424], [107.587196, -6.59452], [107.589211, -6.60164], [107.581261, -6.62855], [107.582175, -6.63493], [107.590699, -6.64497], [107.60013500000014, -6.65213], [107.600602, -6.658569], [107.597603, -6.66737], [107.60002, -6.675929], [107.598747, -6.701391], [107.589988, -6.72205], [107.59563, -6.7269], [107.601967, -6.73616], [107.599358, -6.75604], [107.620506, -6.76415], [107.62902800000012, -6.76925], [107.6482, -6.76592], [107.65838700000012, -6.76797], [107.665298, -6.77175], [107.67353, -6.78311], [107.68159, -6.78981], [107.6897120000001, -6.79135], [107.704795, -6.79097], [107.71815, -6.796510999999896], [107.72385, -6.80552], [107.728813, -6.80827], [107.74429, -6.81013], [107.76084800000012, -6.8061], [107.774598, -6.79843], [107.783332, -6.80235], [107.79117700000012, -6.801719], [107.79993, -6.8078], [107.8054580000001, -6.80612], [107.81598700000012, -6.79512], [107.820076, -6.78586], [107.834587, -6.77266], [107.83833, -6.75582], [107.8358, -6.74663], [107.834877, -6.73186], [107.83678, -6.724671], [107.83448, -6.71502], [107.838676, -6.69587], [107.83770700000014, -6.69145], [107.83017, -6.68509], [107.837418, -6.67559], [107.841049, -6.661899], [107.850197, -6.65412], [107.85301900000013, -6.64624], [107.85043400000012, -6.63883], [107.85486700000013, -6.626579], [107.853142, -6.607390999999893], [107.857064, -6.59819], [107.850899, -6.58251], [107.8551, -6.57899], [107.85481, -6.57204], [107.8627, -6.56892], [107.87439, -6.569068999999899], [107.88181300000014, -6.567271], [107.887108, -6.556168999999898], [107.89879500000012, -6.551201], [107.89908700000012, -6.54574], [107.912208, -6.53743], [107.911873, -6.53042], [107.920905, -6.51368], [107.920677, -6.50178], [107.915269, -6.49668], [107.919982, -6.491921], [107.9212490000001, -6.484249], [107.912727, -6.47967], [107.90277, -6.47883], [107.900299, -6.46958], [107.89224, -6.455689], [107.89557700000012, -6.44787], [107.89332, -6.44132], [107.89759900000013, -6.42562], [107.892822, -6.41213], [107.89408900000012, -6.40764], [107.901229, -6.40285], [107.900482, -6.38757], [107.902779, -6.383999], [107.92023, -6.36661], [107.92362200000014, -6.35987], [107.9193580000001, -6.34661], [107.92195800000013, -6.33539], [107.923524, -6.3101], [107.92299700000012, -6.29654], [107.925133, -6.28108], [107.914544, -6.273279], [107.919715, -6.25718], [107.918977, -6.24898]]], \"type\": \"Polygon\"}, \"id\": \"13\", \"properties\": {\"NAME\": \"KABUPATEN SUBANG\"}, \"type\": \"Feature\"}, {\"geometry\": {\"coordinates\": [[[107.52894600000013, -6.41763], [107.51905, -6.41592], [107.50593, -6.409059999999897], [107.497353, -6.40994], [107.490096, -6.41731], [107.473458, -6.430049], [107.46379, -6.42846], [107.449623, -6.44033], [107.423896, -6.44033], [107.416528, -6.42764], [107.400697, -6.425089999999898], [107.388032, -6.41649], [107.38067, -6.41456], [107.372948, -6.41854], [107.37478, -6.43463], [107.37376, -6.45107], [107.3683400000001, -6.45366], [107.371392, -6.47556], [107.378532, -6.48088], [107.38031, -6.487949999999898], [107.387109, -6.4946], [107.388604, -6.50581], [107.384971, -6.52082], [107.35803, -6.50334], [107.337533, -6.49593], [107.325736, -6.48906], [107.317848, -6.49408], [107.311341, -6.49519], [107.304595, -6.50089], [107.305238, -6.505718], [107.317039, -6.51012], [107.32309, -6.52131], [107.320321, -6.525738], [107.30737, -6.526180999999895], [107.30127, -6.52113], [107.29718100000014, -6.52252], [107.295052, -6.53632], [107.28347900000011, -6.54692], [107.29010000000011, -6.56214], [107.28838, -6.57238], [107.289176, -6.5864], [107.287453, -6.591519], [107.289466, -6.60433], [107.28122700000011, -6.607799], [107.28279, -6.61447], [107.27928, -6.61815], [107.284636, -6.626759], [107.28084, -6.63166], [107.288201, -6.63755], [107.280778, -6.6412], [107.26622, -6.63613], [107.281639, -6.64999], [107.275818, -6.65946], [107.275399, -6.66948], [107.265159, -6.683291], [107.26056, -6.68606], [107.26335200000011, -6.69336], [107.27975, -6.698219], [107.286346, -6.703729999999894], [107.306512, -6.709589], [107.309677, -6.718], [107.316077, -6.727168], [107.326051, -6.73142], [107.33544100000012, -6.72906], [107.347976, -6.71016], [107.350745, -6.69844], [107.35551, -6.69458], [107.372246, -6.702381], [107.38089, -6.69839], [107.381545, -6.69017], [107.38535400000012, -6.68852], [107.393707, -6.69529], [107.4133690000001, -6.68789], [107.419053, -6.6894], [107.425972, -6.6965], [107.44843, -6.696439], [107.457466, -6.702629], [107.466507, -6.713928999999894], [107.48268200000012, -6.72958], [107.49944, -6.73512], [107.51158800000013, -6.7517], [107.528969, -6.75425], [107.540253, -6.7602], [107.550217, -6.770059], [107.561385, -6.76831], [107.55976900000013, -6.75262], [107.563735, -6.74521], [107.564378, -6.73801], [107.56823800000012, -6.730249999999899], [107.574287, -6.72495], [107.589988, -6.72205], [107.598747, -6.701391], [107.60002, -6.675929], [107.597603, -6.66737], [107.600602, -6.658569], [107.60013500000014, -6.65213], [107.590699, -6.64497], [107.582175, -6.63493], [107.581261, -6.62855], [107.589211, -6.60164], [107.587196, -6.59452], [107.580979, -6.58424], [107.57309, -6.579319], [107.55909700000012, -6.556988], [107.56330900000012, -6.54514], [107.560601, -6.533878999999899], [107.564118, -6.52359], [107.56118, -6.51658], [107.56619200000011, -6.48536], [107.55844000000013, -6.47312], [107.548576, -6.46856], [107.545411, -6.46207], [107.54236600000013, -6.44352], [107.529297, -6.437968999999896], [107.52746, -6.429759], [107.52894600000013, -6.41763]]], \"type\": \"Polygon\"}, \"id\": \"14\", \"properties\": {\"NAME\": \"KABUPATEN PURWAKARTA\"}, \"type\": \"Feature\"}, {\"geometry\": {\"coordinates\": [[[107.641159, -6.21313], [107.63603100000012, -6.21025], [107.626618, -6.19838], [107.623337, -6.18944], [107.601113, -6.18694], [107.589448, -6.18972], [107.576462, -6.187508], [107.564163, -6.181388], [107.539353, -6.177454999999895], [107.508393, -6.16234], [107.4882, -6.15692], [107.479446, -6.15222], [107.468064, -6.14361], [107.461671, -6.13528], [107.446662, -6.10694], [107.42555, -6.081389], [107.426392, -6.07805], [107.415017, -6.06079], [107.406616, -6.04326], [107.39438600000011, -6.02401], [107.375572, -6.001], [107.351112, -5.97667], [107.34333, -5.97083], [107.33333, -5.96611], [107.30284200000011, -5.95814], [107.28186, -5.95887], [107.259712, -5.96361], [107.247947, -5.96883], [107.222496, -5.975], [107.20722100000012, -5.977777], [107.193886, -5.98556], [107.18089, -5.98883], [107.16472, -5.98778], [107.144447, -5.9825], [107.134163, -5.976945], [107.121108, -5.96444], [107.10072400000013, -5.93822], [107.096519, -5.95395], [107.096801, -5.961879999999894], [107.08964, -5.97849], [107.08678, -6.00099], [107.091956, -6.0046], [107.09477, -6.012001], [107.1018, -6.01549], [107.09892300000013, -6.02108], [107.10260000000011, -6.02509], [107.11262, -6.02961], [107.116256, -6.03748], [107.123611, -6.04539], [107.12992200000014, -6.046459], [107.13443, -6.06134], [107.143127, -6.05799], [107.144966, -6.06822], [107.1519320000001, -6.07056], [107.158958, -6.06704], [107.164886, -6.069498999999894], [107.17536100000012, -6.07772], [107.1835860000001, -6.07543], [107.18877, -6.07697], [107.191224, -6.086209], [107.206918, -6.09464], [107.215943, -6.101], [107.236779, -6.10291], [107.244027, -6.09979], [107.249207, -6.10276], [107.25123, -6.11368], [107.25891200000012, -6.11078], [107.268379, -6.112319], [107.27236, -6.128221], [107.280067, -6.12557], [107.28347900000011, -6.12747], [107.28063900000012, -6.13413], [107.28824, -6.14113], [107.293999, -6.14359], [107.28864, -6.156069], [107.280869, -6.16034], [107.279609, -6.165588999999898], [107.288611, -6.16393], [107.290077, -6.1717], [107.28749, -6.18188], [107.29279, -6.1921], [107.293129, -6.19997], [107.297698, -6.20565], [107.28914700000013, -6.21929], [107.275224, -6.21748], [107.28208, -6.2254], [107.28212, -6.229469], [107.273781, -6.23817], [107.27768700000013, -6.25305], [107.27545, -6.260399], [107.27671900000013, -6.26633], [107.26762, -6.27514], [107.2672740000001, -6.28555], [107.25743, -6.29039], [107.24482000000012, -6.30094], [107.23809, -6.29992], [107.23594700000012, -6.3082], [107.23037, -6.30586], [107.2241, -6.31466], [107.223747, -6.32265], [107.220009, -6.32576], [107.22688, -6.34733], [107.225297, -6.35236], [107.214309, -6.354509], [107.21333, -6.36337], [107.20826000000011, -6.369349], [107.21937, -6.38226], [107.223298, -6.39946], [107.22, -6.40979], [107.213783, -6.41187], [107.212167, -6.41711], [107.207091, -6.41797], [107.204741, -6.42821], [107.206009, -6.436198], [107.21417900000012, -6.458249], [107.211937, -6.46647], [107.203698, -6.46764], [107.196732, -6.464129], [107.183778, -6.47355], [107.175163, -6.48535], [107.17640000000011, -6.49412], [107.16563, -6.49961], [107.164421, -6.5072], [107.17529900000011, -6.52396], [107.177002, -6.53022], [107.176697, -6.54373], [107.178643, -6.5497], [107.18679800000012, -6.55951], [107.192063, -6.56927], [107.200204, -6.59349], [107.204322, -6.58878], [107.211166, -6.58716], [107.222908, -6.58018], [107.223923, -6.59998], [107.23051, -6.60361], [107.240357, -6.61652], [107.256829, -6.63097], [107.26622, -6.63613], [107.280778, -6.6412], [107.288201, -6.63755], [107.28084, -6.63166], [107.284636, -6.626759], [107.27928, -6.61815], [107.28279, -6.61447], [107.28122700000011, -6.607799], [107.289466, -6.60433], [107.287453, -6.591519], [107.289176, -6.5864], [107.28838, -6.57238], [107.29010000000011, -6.56214], [107.28347900000011, -6.54692], [107.295052, -6.53632], [107.29718100000014, -6.52252], [107.30127, -6.52113], [107.30737, -6.526180999999895], [107.320321, -6.525738], [107.32309, -6.52131], [107.317039, -6.51012], [107.305238, -6.505718], [107.304595, -6.50089], [107.311341, -6.49519], [107.317848, -6.49408], [107.325736, -6.48906], [107.337533, -6.49593], [107.35803, -6.50334], [107.384971, -6.52082], [107.388604, -6.50581], [107.387109, -6.4946], [107.38031, -6.487949999999898], [107.378532, -6.48088], [107.371392, -6.47556], [107.3683400000001, -6.45366], [107.37376, -6.45107], [107.37478, -6.43463], [107.372948, -6.41854], [107.38067, -6.41456], [107.388032, -6.41649], [107.400697, -6.425089999999898], [107.416528, -6.42764], [107.423896, -6.44033], [107.449623, -6.44033], [107.46379, -6.42846], [107.473458, -6.430049], [107.490096, -6.41731], [107.497353, -6.40994], [107.50593, -6.409059999999897], [107.51905, -6.41592], [107.52894600000013, -6.41763], [107.530113, -6.40303], [107.534829, -6.39365], [107.549798, -6.37787], [107.55261300000012, -6.36901], [107.55918, -6.36348], [107.564927, -6.354619], [107.572295, -6.33466], [107.57955900000013, -6.32435], [107.582611, -6.312049], [107.581031, -6.30336], [107.586007, -6.29848], [107.586036, -6.29132], [107.580947, -6.27929], [107.580787, -6.27254], [107.58448, -6.25656], [107.597869, -6.24673], [107.600746, -6.241489], [107.612953, -6.23149], [107.62119, -6.22208], [107.63178, -6.21947], [107.641159, -6.21313]]], \"type\": \"Polygon\"}, \"id\": \"15\", \"properties\": {\"NAME\": \"KABUPATEN KARAWANG\"}, \"type\": \"Feature\"}, {\"geometry\": {\"coordinates\": [[[107.10072400000013, -5.93822], [107.0963890000001, -5.93583], [107.072219, -5.93361], [107.056388, -5.92806], [107.04750200000012, -5.9225], [107.038064, -5.92167], [107.037216, -5.91722], [107.026657, -5.91472], [107.004722, -5.92083], [107.005837, -5.92444], [107.001388, -5.931666], [106.991943, -5.93556], [106.989999, -5.94305], [106.999726, -5.94028], [107.005837, -5.94083], [107.01139100000012, -5.9475], [107.016113, -5.95944], [107.01667, -5.97], [107.01305500000012, -5.97722], [107.00611, -6], [106.996948, -6.0025], [106.98972, -6.01028], [106.994507, -6.02578], [107.00278, -6.01944], [107.007225, -6.01944], [107.015557, -6.03361], [107.00507, -6.04098], [107.00333400000011, -6.045278], [106.996353, -6.050000999999895], [106.987221, -6.051111], [106.998885, -6.059724], [106.998885, -6.06528], [107.004449, -6.07306], [107.012496, -6.07472], [107.01139100000012, -6.08028], [107.003052, -6.07917], [106.995248, -6.08492], [106.982498, -6.089445999999896], [106.972839, -6.09111], [106.972527, -6.14771], [106.972946, -6.17417], [106.983642, -6.16504], [107.01204, -6.16734], [107.012223, -6.18517], [107.023728, -6.19383], [107.02869, -6.19292], [107.035798, -6.196349], [107.03829200000013, -6.203758], [107.032639, -6.21721], [107.040124, -6.22128], [107.04432, -6.22932], [107.04252600000012, -6.24644], [107.039429, -6.25136], [107.029168, -6.25692], [107.024063, -6.26364], [107.01883700000013, -6.282739], [107.03115800000012, -6.27945], [107.044518, -6.28467], [107.045737, -6.30647], [107.043342, -6.32074], [107.04004, -6.3246], [107.026741, -6.32832], [107.023842, -6.348859], [107.0217970000001, -6.353249], [107.01071900000011, -6.35476], [107.00470800000011, -6.36627], [106.98464300000012, -6.37687], [107.007202, -6.39031], [107.01599900000014, -6.39408], [107.045097, -6.400801], [107.052085, -6.404919], [107.05945600000013, -6.41588], [107.071396, -6.42919], [107.078926, -6.435379999999896], [107.11531000000014, -6.459378999999899], [107.1481940000001, -6.47626], [107.17640000000011, -6.49412], [107.175163, -6.48535], [107.183778, -6.47355], [107.196732, -6.464129], [107.203698, -6.46764], [107.211937, -6.46647], [107.21417900000012, -6.458249], [107.206009, -6.436198], [107.204741, -6.42821], [107.207091, -6.41797], [107.212167, -6.41711], [107.213783, -6.41187], [107.22, -6.40979], [107.223298, -6.39946], [107.21937, -6.38226], [107.20826000000011, -6.369349], [107.21333, -6.36337], [107.214309, -6.354509], [107.225297, -6.35236], [107.22688, -6.34733], [107.220009, -6.32576], [107.223747, -6.32265], [107.2241, -6.31466], [107.23037, -6.30586], [107.23594700000012, -6.3082], [107.23809, -6.29992], [107.24482000000012, -6.30094], [107.25743, -6.29039], [107.2672740000001, -6.28555], [107.26762, -6.27514], [107.27671900000013, -6.26633], [107.27545, -6.260399], [107.27768700000013, -6.25305], [107.273781, -6.23817], [107.28212, -6.229469], [107.28208, -6.2254], [107.275224, -6.21748], [107.28914700000013, -6.21929], [107.297698, -6.20565], [107.293129, -6.19997], [107.29279, -6.1921], [107.28749, -6.18188], [107.290077, -6.1717], [107.288611, -6.16393], [107.279609, -6.165588999999898], [107.280869, -6.16034], [107.28864, -6.156069], [107.293999, -6.14359], [107.28824, -6.14113], [107.28063900000012, -6.13413], [107.28347900000011, -6.12747], [107.280067, -6.12557], [107.27236, -6.128221], [107.268379, -6.112319], [107.25891200000012, -6.11078], [107.25123, -6.11368], [107.249207, -6.10276], [107.244027, -6.09979], [107.236779, -6.10291], [107.215943, -6.101], [107.206918, -6.09464], [107.191224, -6.086209], [107.18877, -6.07697], [107.1835860000001, -6.07543], [107.17536100000012, -6.07772], [107.164886, -6.069498999999894], [107.158958, -6.06704], [107.1519320000001, -6.07056], [107.144966, -6.06822], [107.143127, -6.05799], [107.13443, -6.06134], [107.12992200000014, -6.046459], [107.123611, -6.04539], [107.116256, -6.03748], [107.11262, -6.02961], [107.10260000000011, -6.02509], [107.09892300000013, -6.02108], [107.1018, -6.01549], [107.09477, -6.012001], [107.091956, -6.0046], [107.08678, -6.00099], [107.08964, -5.97849], [107.096801, -5.961879999999894], [107.096519, -5.95395], [107.10072400000013, -5.93822]]], \"type\": \"Polygon\"}, \"id\": \"16\", \"properties\": {\"NAME\": \"KABUPATEN BEKASI\"}, \"type\": \"Feature\"}, {\"geometry\": {\"coordinates\": [[[107.18345, -6.97791], [107.184883, -6.98688], [107.188446, -6.99141], [107.183648, -6.999999], [107.194032, -7.012719], [107.193733, -7.017699], [107.188156, -7.0334], [107.185517, -7.0474], [107.188582, -7.05489], [107.195657, -7.05697], [107.205879, -7.05508], [107.218163, -7.05687], [107.22715, -7.051], [107.233673, -7.04945], [107.249175, -7.05079], [107.263839, -7.07783], [107.272605, -7.08371], [107.280908, -7.0832], [107.290191, -7.087131], [107.305878, -7.087019], [107.310607, -7.09342], [107.31857, -7.111921], [107.344169, -7.108403], [107.365664, -7.115347], [107.390782, -7.119542], [107.406654, -7.10939], [107.407148, -7.089053], [107.420642, -7.074666], [107.418639, -7.062762], [107.430634, -7.052838], [107.44713, -7.047874], [107.452628, -7.050868], [107.471126, -7.053842], [107.477126, -7.057314], [107.474624, -7.051361], [107.475238, -7.040063], [107.479731, -7.034859], [107.480853, -7.022596], [107.478553, -7.022481], [107.477866, -7.019979], [107.474658, -7.01816], [107.476491, -7.012247], [107.473741, -7.007471], [107.477637, -7.002922], [107.485427, -6.999965], [107.48726, -6.99428], [107.485583, -6.987062], [107.488254, -6.978666], [107.497604, -6.977119], [107.503615, -6.982201], [107.508067, -6.97513], [107.507844, -6.970268], [107.513632, -6.963418], [107.51818, -6.963531], [107.51818, -6.958982], [107.521617, -6.957162], [107.517722, -6.955797], [107.523679, -6.951248], [107.525971, -6.944197], [107.531928, -6.941695], [107.543963, -6.941252], [107.549548, -6.94351], [107.555466, -6.941593], [107.548943, -6.93188], [107.554779, -6.928642], [107.56422, -6.92762], [107.565765, -6.920974], [107.572632, -6.915691], [107.56628, -6.905892], [107.561474, -6.896093], [107.550144, -6.905892], [107.55023, -6.899246], [107.544565, -6.901461], [107.543192, -6.898053], [107.533493, -6.899757], [107.532549, -6.897797], [107.524867, -6.890853], [107.526219, -6.888999], [107.527184, -6.889702], [107.529266, -6.887295], [107.526026, -6.885953], [107.522936, -6.882119], [107.52388, -6.880159], [107.528429, -6.883226], [107.53006, -6.879988], [107.524223, -6.877347], [107.525339, -6.876068], [107.521198, -6.874023], [107.522914, -6.872127], [107.52491, -6.872575], [107.526455, -6.868484], [107.530231, -6.86661], [107.542012, -6.867142], [107.55038, -6.871957], [107.546518, -6.876388], [107.549973, -6.87888], [107.556152, -6.888765], [107.563534, -6.887743], [107.575893, -6.890469], [107.576923, -6.883482], [107.580261, -6.87313], [107.590027, -6.86303], [107.601532, -6.84835], [107.608932, -6.85147], [107.608686, -6.854481], [107.608385, -6.857473], [107.607886, -6.86296], [107.612189, -6.86509], [107.623963, -6.85339], [107.628692, -6.85605], [107.641644, -6.850394], [107.662243, -6.830623], [107.692112, -6.829255], [107.694173, -6.835391], [107.703444, -6.83948], [107.710998, -6.833002], [107.721299, -6.82925], [107.718207, -6.823455], [107.72385, -6.80552], [107.71815, -6.796511], [107.704795, -6.79097], [107.699665, -6.791417], [107.689712, -6.79135], [107.68159, -6.78981], [107.67353, -6.78311], [107.665298, -6.77175], [107.658387, -6.76797], [107.6482, -6.76592], [107.629028, -6.76925], [107.620506, -6.76415], [107.599358, -6.75604], [107.600676, -6.745998], [107.601967, -6.73616], [107.59563, -6.7269], [107.589988, -6.72205], [107.574287, -6.72495], [107.568238, -6.73025], [107.564378, -6.73801], [107.563735, -6.74521], [107.559769, -6.75262], [107.561385, -6.76831], [107.550217, -6.770059], [107.540253, -6.7602], [107.528969, -6.75425], [107.511588, -6.7517], [107.49944, -6.73512], [107.482682, -6.72958], [107.466507, -6.713929], [107.457466, -6.702629], [107.44843, -6.696439], [107.425972, -6.6965], [107.419053, -6.6894], [107.413369, -6.68789], [107.393707, -6.69529], [107.385354, -6.68852], [107.381545, -6.69017], [107.38089, -6.69839], [107.372246, -6.702381], [107.35551, -6.69458], [107.350745, -6.69844], [107.347976, -6.71016], [107.335441, -6.72906], [107.337663, -6.73332], [107.32764, -6.73593], [107.329431, -6.74092], [107.340705, -6.74843], [107.342376, -6.75239], [107.334037, -6.756779], [107.336341, -6.7635], [107.329782, -6.762361], [107.32402, -6.765649], [107.32265, -6.760966], [107.32034, -6.75307], [107.310607, -6.75896], [107.308007, -6.75385], [107.317048, -6.74423], [107.31239, -6.73142], [107.30652, -6.73477], [107.305427, -6.74799], [107.2984, -6.7533], [107.294197, -6.76228], [107.295592, -6.77153], [107.290626, -6.77556], [107.293382, -6.78094], [107.301796, -6.78462], [107.313844, -6.79614], [107.317565, -6.80734], [107.312973, -6.8154], [107.318901, -6.82372], [107.31976, -6.83544], [107.3227, -6.84291], [107.32034, -6.84975], [107.328583, -6.853989], [107.339919, -6.85218], [107.343536, -6.85464], [107.344001, -6.86395], [107.337212, -6.87116], [107.337212, -6.88012], [107.32898, -6.88537], [107.317178, -6.887809], [107.312446, -6.89685], [107.302726, -6.90509], [107.291962, -6.90926], [107.286027, -6.91594], [107.277229, -6.92159], [107.261512, -6.92571], [107.251548, -6.92619], [107.241187, -6.93277], [107.229789, -6.937909], [107.21341, -6.93958], [107.213897, -6.95048], [107.203362, -6.95711], [107.190009, -6.96761], [107.18345, -6.97791]]], \"type\": \"Polygon\"}, \"id\": \"17\", \"properties\": {\"NAME\": \"KABUPATEN BANDUNG BARAT\"}, \"type\": \"Feature\"}, {\"geometry\": {\"coordinates\": [[[108.715011, -7.46942], [108.697895, -7.469625], [108.691492, -7.459865], [108.649691, -7.464972], [108.64705, -7.489191], [108.655353, -7.496391], [108.650172, -7.530342], [108.619042, -7.550924], [108.575458, -7.56636], [108.549513, -7.556074], [108.543287, -7.568419], [108.524607, -7.567389], [108.517344, -7.540642], [108.539136, -7.535499], [108.520458, -7.524182], [108.485176, -7.534466], [108.468575, -7.515946], [108.445187, -7.503578], [108.436432, -7.499834], [108.429389, -7.49711], [108.423448, -7.49666], [108.417107, -7.49126], [108.409057, -7.49193], [108.397247, -7.47852], [108.39334, -7.47734], [108.372491, -7.479839], [108.36649, -7.48199], [108.356133, -7.48989], [108.34069, -7.49164], [108.333335, -7.50333], [108.33492, -7.52207], [108.333335, -7.53956], [108.33445, -7.552259], [108.350723, -7.56373], [108.354125, -7.57247], [108.36002, -7.61254], [108.357437, -7.62335], [108.358383, -7.63025], [108.35447, -7.63699], [108.35846, -7.64342], [108.362517, -7.66009], [108.35384, -7.67034], [108.351997, -7.68092], [108.341171, -7.67962], [108.331651, -7.68508], [108.323478, -7.68115], [108.320871, -7.68647], [108.314911, -7.689219], [108.315492, -7.69508], [108.32167, -7.70255], [108.321892, -7.70994], [108.315872, -7.71225], [108.316743, -7.719579], [108.312255, -7.72189], [108.3147, -7.7358], [108.31443, -7.74684], [108.319909, -7.75016], [108.323227, -7.77563], [108.321632, -7.782479], [108.32494, -7.79466], [108.338577, -7.797909], [108.34126, -7.80245], [108.335525, -7.81557], [108.34417, -7.8193], [108.349868, -7.81619], [108.362075, -7.81759], [108.370727, -7.813899], [108.382745, -7.81386], [108.41143, -7.81732], [108.42422, -7.82068], [108.44546, -7.82015], [108.449981, -7.81085], [108.46167, -7.809999], [108.474938, -7.806419], [108.48278, -7.80222], [108.48425, -7.79757], [108.496521, -7.79466], [108.503356, -7.78482], [108.501579, -7.78175], [108.507728, -7.76412], [108.50651, -7.7543], [108.503295, -7.74893], [108.497811, -7.74706], [108.497269, -7.74067], [108.50057, -7.72943], [108.496391, -7.720375], [108.501838, -7.71775], [108.50282, -7.71082], [108.517296, -7.69865], [108.539795, -7.690876], [108.559822, -7.68684], [108.584756, -7.684116], [108.593612, -7.68005], [108.59699, -7.68332], [108.62656, -7.684884], [108.640854, -7.68757], [108.651512, -7.69423], [108.6561, -7.703707], [108.650276, -7.70944], [108.650803, -7.71968], [108.663331, -7.725277], [108.666946, -7.72944], [108.678353, -7.721672], [108.675935, -7.71623], [108.66531, -7.70674], [108.65924, -7.70398], [108.661109, -7.69461], [108.671876, -7.68587], [108.686913, -7.67788], [108.699722, -7.67556], [108.721946, -7.67917], [108.732498, -7.68389], [108.740548, -7.685], [108.763046, -7.697499], [108.767501, -7.69139], [108.771112, -7.693889], [108.77583, -7.68722], [108.783166, -7.69212], [108.792023, -7.68344], [108.794304, -7.67646], [108.800278, -7.67424], [108.79826, -7.66737], [108.790543, -7.670769], [108.7859, -7.66682], [108.77835, -7.6586], [108.773796, -7.65959], [108.761238, -7.64891], [108.748131, -7.63379], [108.7492, -7.626399], [108.742622, -7.62342], [108.737998, -7.61704], [108.733451, -7.616129], [108.73776, -7.60922], [108.742814, -7.59409], [108.748863, -7.5931], [108.749366, -7.567591], [108.7533, -7.56164], [108.749359, -7.548991], [108.743529, -7.54297], [108.74253, -7.533251], [108.735817, -7.52038], [108.73332, -7.5059], [108.72162, -7.49287], [108.71682, -7.48316], [108.719628, -7.4743], [108.715011, -7.46942]]], \"type\": \"Polygon\"}, \"id\": \"18\", \"properties\": {\"NAME\": \"KABUPATEN PANGANDARAN\"}, \"type\": \"Feature\"}, {\"geometry\": {\"coordinates\": [[[106.76735700000012, -6.54053], [106.748543, -6.5604], [106.741997, -6.56476], [106.744301, -6.57604], [106.750801, -6.57598], [106.744598, -6.59796], [106.753096, -6.59641], [106.753586, -6.5869], [106.75974200000013, -6.58957], [106.766801, -6.59918], [106.77494000000013, -6.60224], [106.776483, -6.61031], [106.786666, -6.636279], [106.776298, -6.64839], [106.784637, -6.660409999999899], [106.794998, -6.65847], [106.803048, -6.654539], [106.80563, -6.66353], [106.82083200000011, -6.67451], [106.828796, -6.67416], [106.8312, -6.67712], [106.838897, -6.67191], [106.84088200000014, -6.662329], [106.845497, -6.650910999999894], [106.840317, -6.64408], [106.839341, -6.63332], [106.83131, -6.62476], [106.825286, -6.62514], [106.8205, -6.59746], [106.82229600000011, -6.59121], [106.8264, -6.593], [106.83141400000011, -6.580848], [106.83219800000012, -6.564089], [106.82775, -6.54879], [106.82800300000014, -6.53983], [106.82209000000012, -6.536879], [106.817231, -6.53969], [106.80475, -6.53602], [106.790497, -6.52671], [106.788391, -6.51737], [106.77842, -6.51907], [106.769996, -6.5153], [106.766938, -6.52216], [106.765999, -6.53353], [106.76735700000012, -6.54053]]], \"type\": \"Polygon\"}, \"id\": \"71\", \"properties\": {\"NAME\": \"KOTA BOGOR\"}, \"type\": \"Feature\"}, {\"geometry\": {\"coordinates\": [[[106.906409, -6.90913], [106.90075700000011, -6.89806], [106.897218, -6.89748], [106.892518, -6.91473], [106.892037, -6.921369], [106.885017, -6.92116], [106.88804, -6.92919], [106.898339, -6.94687], [106.89025, -6.95459], [106.87761, -6.958188], [106.861679, -6.9593], [106.855523, -6.966439], [106.855582, -6.97143], [106.848601, -6.97464], [106.84866, -6.9794], [106.854263, -6.984888999999896], [106.86172, -6.98176], [106.883057, -6.97596], [106.89689, -6.976648999999895], [106.9015, -6.979061], [106.923972, -6.981629], [106.93514, -6.97757], [106.951798, -6.97772], [106.955773, -6.97593], [106.962884, -6.94882], [106.960395, -6.936489], [106.94073, -6.94164], [106.9372780000001, -6.90382], [106.93354000000011, -6.90774], [106.92270700000012, -6.907129], [106.906409, -6.90913]]], \"type\": \"Polygon\"}, \"id\": \"72\", \"properties\": {\"NAME\": \"KOTA SUKABUMI\"}, \"type\": \"Feature\"}, {\"geometry\": {\"coordinates\": [[[107.548771, -6.931709], [107.555466, -6.941763], [107.56309, -6.949569], [107.5745, -6.96076], [107.588174, -6.96952], [107.596124, -6.97085], [107.60567, -6.968579], [107.612556, -6.96426], [107.619758, -6.96302], [107.635612, -6.96998], [107.651466, -6.96868], [107.658943, -6.971629], [107.676133, -6.972511], [107.687043, -6.97131], [107.705627, -6.96494], [107.710616, -6.96055], [107.712517, -6.94956], [107.718536, -6.94204], [107.721467, -6.92902], [107.717469, -6.9225], [107.729898, -6.91689], [107.73621, -6.911929], [107.728081, -6.90705], [107.706596, -6.912079], [107.70919, -6.90578], [107.706498, -6.89989], [107.699416, -6.9037], [107.6998, -6.91558], [107.697732, -6.91816], [107.689796, -6.9161], [107.67922, -6.90333], [107.670303, -6.902229], [107.66463, -6.89592], [107.657227, -6.904588], [107.652778, -6.90221], [107.65128, -6.893981], [107.638625, -6.89244], [107.635247, -6.88675], [107.63433, -6.87661], [107.627952, -6.87061], [107.628692, -6.85605], [107.623963, -6.85339], [107.612189, -6.86509], [107.607886, -6.86296], [107.608932, -6.85147], [107.601532, -6.84835], [107.590027, -6.86303], [107.580261, -6.87313], [107.577095, -6.883312], [107.575893, -6.890469], [107.563705, -6.888083], [107.556152, -6.888595], [107.561474, -6.896093], [107.572117, -6.91535], [107.566109, -6.920803], [107.563705, -6.92762], [107.554607, -6.928301], [107.548771, -6.931709]]], \"type\": \"Polygon\"}, \"id\": \"73\", \"properties\": {\"NAME\": \"KOTA BANDUNG\"}, \"type\": \"Feature\"}, {\"geometry\": {\"coordinates\": [[[108.583892, -6.7325], [108.574974, -6.7184], [108.5725, -6.708612], [108.56916, -6.70834], [108.561226, -6.720379], [108.55954800000012, -6.72635], [108.553819, -6.732869], [108.538612, -6.73948], [108.52561, -6.750039999999899], [108.529931, -6.77001], [108.528618, -6.78683], [108.5373, -6.790259], [108.543763, -6.78727], [108.551148, -6.77913], [108.561112, -6.75377], [108.569429, -6.74442], [108.577941, -6.74039], [108.583892, -6.7325]]], \"type\": \"Polygon\"}, \"id\": \"74\", \"properties\": {\"NAME\": \"KOTA CIREBON\"}, \"type\": \"Feature\"}, {\"geometry\": {\"coordinates\": [[[106.98464300000012, -6.37687], [107.00470800000011, -6.36627], [107.01071900000011, -6.35476], [107.0217970000001, -6.353249], [107.023842, -6.348859], [107.026741, -6.32832], [107.04004, -6.3246], [107.043342, -6.32074], [107.045737, -6.30647], [107.044518, -6.28467], [107.03115800000012, -6.27945], [107.01883700000013, -6.282739], [107.024063, -6.26364], [107.029168, -6.25692], [107.039429, -6.25136], [107.04252600000012, -6.24644], [107.04432, -6.22932], [107.040124, -6.22128], [107.032639, -6.21721], [107.03829200000013, -6.203758], [107.035798, -6.196349], [107.02869, -6.19292], [107.023728, -6.19383], [107.012223, -6.18517], [107.01204, -6.16734], [106.983642, -6.16504], [106.972946, -6.17417], [106.971572, -6.19429], [106.968461, -6.20337], [106.95539, -6.22271], [106.947678, -6.24026], [106.945259, -6.25538], [106.92562900000013, -6.258867999999893], [106.90916, -6.26396], [106.90772, -6.27448], [106.9120410000001, -6.27798], [106.911811, -6.29769], [106.922227, -6.3067], [106.922113, -6.32118], [106.91653, -6.33044], [106.91621, -6.35905], [106.909447, -6.37546], [106.904, -6.39232], [106.900627, -6.3985], [106.9031, -6.4052], [106.910117, -6.40437], [106.921928, -6.404310999999893], [106.927596, -6.40195], [106.9329, -6.393028999999899], [106.9404, -6.38827], [106.946098, -6.36557], [106.94641, -6.3531], [106.950431, -6.34221], [106.95786, -6.3334], [106.961373, -6.30684], [106.966843, -6.30304], [106.97198500000013, -6.303429], [106.98026, -6.31456], [106.977721, -6.3233], [106.97887, -6.33261], [106.97155800000013, -6.352120999999897], [106.969803, -6.36096], [106.971802, -6.367571], [106.98464300000012, -6.37687]]], \"type\": \"Polygon\"}, \"id\": \"75\", \"properties\": {\"NAME\": \"KOTA BEKASI\"}, \"type\": \"Feature\"}, {\"geometry\": {\"coordinates\": [[[106.842553, -6.34836], [106.837014, -6.354491], [106.819702, -6.35617], [106.8121, -6.362571], [106.801567, -6.36402], [106.794602, -6.36169], [106.794602, -6.35215], [106.800819, -6.33466], [106.808418, -6.31867], [106.805024, -6.31454], [106.779587, -6.31729], [106.77595, -6.31675], [106.773827, -6.33098], [106.771104, -6.33789], [106.771302, -6.347078999999894], [106.767403, -6.36123], [106.7617, -6.36268], [106.742508, -6.360531], [106.724502, -6.36075], [106.7229, -6.36836], [106.724197, -6.38444], [106.7318, -6.40486], [106.733001, -6.41262], [106.7409, -6.42593], [106.742095, -6.43818], [106.7403, -6.45318], [106.751098, -6.448779], [106.7677, -6.44548], [106.785895, -6.44351], [106.7949, -6.455149], [106.8003, -6.457578999999896], [106.819198, -6.455868999999893], [106.820602, -6.43723], [106.826995, -6.44139], [106.836501, -6.44245], [106.846199, -6.43945], [106.846703, -6.45028], [106.850999, -6.46086], [106.857002, -6.462691], [106.862, -6.45294], [106.8678, -6.44922], [106.875397, -6.449699999999893], [106.883301, -6.43418], [106.890503, -6.42744], [106.8936010000001, -6.4136], [106.89980200000014, -6.41392], [106.9032, -6.418], [106.90960000000013, -6.41473], [106.910117, -6.40437], [106.9031, -6.4052], [106.900627, -6.3985], [106.904, -6.39232], [106.909447, -6.37546], [106.90316800000011, -6.37674], [106.88289500000013, -6.36609], [106.879326, -6.36173], [106.862702, -6.35752], [106.85905, -6.34946], [106.846297, -6.34686], [106.842553, -6.34836]]], \"type\": \"Polygon\"}, \"id\": \"76\", \"properties\": {\"NAME\": \"KOTA DEPOK\"}, \"type\": \"Feature\"}, {\"geometry\": {\"coordinates\": [[[107.561219, -6.896149], [107.549801, -6.87888], [107.546456, -6.87638], [107.550404, -6.871949], [107.541993, -6.867177], [107.530146, -6.866631], [107.526412, -6.868506], [107.524867, -6.872596], [107.522938, -6.872118], [107.521222, -6.873992], [107.525342, -6.876038], [107.52418, -6.877347], [107.53006, -6.879967], [107.528431, -6.883196], [107.523796, -6.880128], [107.522938, -6.882173], [107.526028, -6.885923], [107.529289, -6.887286], [107.527163, -6.889766], [107.526886, -6.889501], [107.526199, -6.88899], [107.524826, -6.890865], [107.532722, -6.897682], [107.533665, -6.900055], [107.536154, -6.899459], [107.538986, -6.89899], [107.543149, -6.898138], [107.544395, -6.901261], [107.550232, -6.899217], [107.55006, -6.905693], [107.557957, -6.899557], [107.561219, -6.896149]]], \"type\": \"Polygon\"}, \"id\": \"77\", \"properties\": {\"NAME\": \"KOTA CIMAHI\"}, \"type\": \"Feature\"}, {\"geometry\": {\"coordinates\": [[[108.198859, -7.27629], [108.18828600000012, -7.27399], [108.182746, -7.2752], [108.16448300000013, -7.27395], [108.166496, -7.283141], [108.163239, -7.28436], [108.164269, -7.2913], [108.14629, -7.292728999999895], [108.1501090000001, -7.30545], [108.15814300000011, -7.31739], [108.15569, -7.33358], [108.16047, -7.33758], [108.163239, -7.34677], [108.16274, -7.35299], [108.17711, -7.3955], [108.175813, -7.40093], [108.17945, -7.407259999999894], [108.183006, -7.42948], [108.187119, -7.44075], [108.1914220000001, -7.444909], [108.199372, -7.44668], [108.203743, -7.44019], [108.212571, -7.43746], [108.21858300000014, -7.431629], [108.224823, -7.43564], [108.23536, -7.43611], [108.24415, -7.43284], [108.255127, -7.43382], [108.26095, -7.43164], [108.26798300000013, -7.41807], [108.267746, -7.4017], [108.26371, -7.3955], [108.26485, -7.38919], [108.27468, -7.373379], [108.27609200000012, -7.36331], [108.280136, -7.35692], [108.276482, -7.350058], [108.279823, -7.34356], [108.288972, -7.3326], [108.279105, -7.33132], [108.273086, -7.31811], [108.25634, -7.31924], [108.252777, -7.31411], [108.24508, -7.31207], [108.22898, -7.30077], [108.228417, -7.297389999999893], [108.21282100000013, -7.28953], [108.20221, -7.28259], [108.198859, -7.27629]]], \"type\": \"Polygon\"}, \"id\": \"78\", \"properties\": {\"NAME\": \"KOTA TASIKMALAYA\"}, \"type\": \"Feature\"}, {\"geometry\": {\"coordinates\": [[[108.654092, -7.34747], [108.653075, -7.3432], [108.64231100000012, -7.345], [108.63411000000013, -7.34357], [108.629632, -7.34641], [108.6222, -7.34579], [108.6201850000001, -7.34964], [108.614432, -7.34989], [108.613151, -7.34586], [108.598923, -7.35043], [108.58969900000011, -7.346371], [108.581688, -7.34891], [108.58007, -7.34282], [108.57296800000012, -7.33536], [108.56397900000013, -7.33676], [108.557862, -7.330791], [108.56199, -7.319849], [108.560936, -7.31324], [108.558609, -7.31704], [108.534546, -7.3381], [108.52285, -7.3535], [108.516265, -7.35304], [108.498016, -7.3554], [108.48266, -7.3546], [108.47107, -7.35635], [108.473069, -7.36421], [108.464675, -7.37622], [108.464158, -7.38273], [108.46811, -7.3938], [108.475562, -7.40375], [108.486473, -7.39451], [108.496758, -7.41108], [108.50167, -7.41378], [108.512528, -7.41488], [108.517487, -7.41907], [108.523552, -7.41898], [108.542282, -7.40536], [108.559708, -7.423829999999896], [108.56431600000013, -7.426669], [108.572608, -7.42123], [108.579917, -7.40544], [108.58487, -7.398618], [108.590606, -7.38496], [108.599121, -7.38333], [108.611672, -7.38516], [108.628007, -7.38186], [108.6364, -7.37514], [108.649246, -7.368561], [108.652877, -7.35746], [108.654092, -7.34747]]], \"type\": \"Polygon\"}, \"id\": \"79\", \"properties\": {\"NAME\": \"KOTA BANJAR\"}, \"type\": \"Feature\"}, {\"geometry\": {\"coordinates\": [[[107.253068, -7.1969], [107.257339, -7.20318], [107.269043, -7.20423], [107.283691, -7.20782], [107.308023, -7.20404], [107.318336, -7.20065], [107.33559, -7.20723], [107.341752, -7.20579], [107.35456, -7.21854], [107.351463, -7.228159], [107.356757, -7.23651], [107.383179, -7.247949], [107.39125, -7.25377], [107.399667, -7.255969], [107.413629, -7.25667], [107.427276, -7.25317], [107.433425, -7.25537], [107.44262, -7.25272], [107.453292, -7.25613], [107.462967, -7.249979], [107.473839, -7.25082], [107.484307, -7.257478], [107.489617, -7.258239], [107.5091, -7.25105], [107.524438, -7.25089], [107.535797, -7.24923], [107.542717, -7.25529], [107.55713, -7.253569], [107.570397, -7.26257], [107.58159, -7.27733], [107.59497, -7.28374], [107.600053, -7.28829], [107.60126, -7.29959], [107.605712, -7.30795], [107.610671, -7.30962], [107.618156, -7.307031], [107.625832, -7.30105], [107.632576, -7.300879], [107.64347, -7.29588], [107.65545, -7.28172], [107.664147, -7.27977], [107.669587, -7.2921], [107.67892, -7.29182], [107.683023, -7.29793], [107.696747, -7.295929], [107.712257, -7.30182], [107.718727, -7.31001], [107.723053, -7.30834], [107.727737, -7.29466], [107.721237, -7.29537], [107.722169, -7.28869], [107.73438, -7.27453], [107.736343, -7.267561], [107.733223, -7.26272], [107.712569, -7.24916], [107.70687, -7.23853], [107.70668, -7.227489], [107.708968, -7.2224], [107.722923, -7.2119], [107.721175, -7.19507], [107.732879, -7.17895], [107.738839, -7.16783], [107.748673, -7.170319], [107.7549, -7.16958], [107.75852, -7.15737], [107.773627, -7.15364], [107.779877, -7.15849], [107.78753, -7.156991], [107.795646, -7.15176], [107.8085, -7.13494], [107.807687, -7.121], [107.809348, -7.10493], [107.80807, -7.09813], [107.81067, -7.09508], [107.821906, -7.092149], [107.826752, -7.08812], [107.83458, -7.06987], [107.837983, -7.06566], [107.85251, -7.05869], [107.875785, -7.05256], [107.896377, -7.05022], [107.910218, -7.05288], [107.921571, -7.05151], [107.926986, -7.04783], [107.930901, -7.03579], [107.925712, -7.03405], [107.91124, -7.03335], [107.90899, -7.02932], [107.905694, -7.005749], [107.907937, -6.99978], [107.905487, -6.99133], [107.898934, -6.98462], [107.89692, -6.97928], [107.905838, -6.96799], [107.914544, -6.96492], [107.916153, -6.94796], [107.908372, -6.95074], [107.894784, -6.95158], [107.88742, -6.95786], [107.877572, -6.96058], [107.864387, -6.96142], [107.855056, -6.96495], [107.83802, -6.96688], [107.829505, -6.96351], [107.808838, -6.96351], [107.770897, -6.95164], [107.759551, -6.94437], [107.755866, -6.92931], [107.758056, -6.91988], [107.758453, -6.89643], [107.748208, -6.88254], [107.738586, -6.873719], [107.741241, -6.84175], [107.744461, -6.83433], [107.741182, -6.81951], [107.74429, -6.81013], [107.728813, -6.80827], [107.72385, -6.80552], [107.718207, -6.823455], [107.721299, -6.82925], [107.710998, -6.833002], [107.703444, -6.83948], [107.694173, -6.835391], [107.692112, -6.829255], [107.662243, -6.830623], [107.641644, -6.850394], [107.628692, -6.85605], [107.627952, -6.87061], [107.63433, -6.87661], [107.635247, -6.88675], [107.638625, -6.89244], [107.65128, -6.893981], [107.652778, -6.90221], [107.657227, -6.904588], [107.66463, -6.89592], [107.670303, -6.902229], [107.67922, -6.90333], [107.689796, -6.9161], [107.697732, -6.91816], [107.6998, -6.91558], [107.699416, -6.9037], [107.706498, -6.89989], [107.70919, -6.90578], [107.706596, -6.912079], [107.728081, -6.90705], [107.73621, -6.911929], [107.729898, -6.91689], [107.717469, -6.9225], [107.721467, -6.92902], [107.718536, -6.94204], [107.712517, -6.94956], [107.710616, -6.96055], [107.705627, -6.96494], [107.687043, -6.97131], [107.676133, -6.972511], [107.658943, -6.971629], [107.651466, -6.96868], [107.635612, -6.96998], [107.619758, -6.96302], [107.612556, -6.96426], [107.60567, -6.968579], [107.596124, -6.97085], [107.588174, -6.96952], [107.5745, -6.96076], [107.56309, -6.949569], [107.55817, -6.94093], [107.549548, -6.94351], [107.543963, -6.941252], [107.531928, -6.941695], [107.525971, -6.944197], [107.523679, -6.951248], [107.517722, -6.955797], [107.521617, -6.957162], [107.51818, -6.958982], [107.51818, -6.963531], [107.513632, -6.963418], [107.507844, -6.970268], [107.508067, -6.97513], [107.503615, -6.982201], [107.497604, -6.977119], [107.488254, -6.978666], [107.485583, -6.987062], [107.48726, -6.99428], [107.485427, -6.999965], [107.477637, -7.002922], [107.473741, -7.007471], [107.476491, -7.012247], [107.474658, -7.01816], [107.477866, -7.019979], [107.478553, -7.022481], [107.480853, -7.022596], [107.479731, -7.034859], [107.475238, -7.040063], [107.474624, -7.051361], [107.477126, -7.057314], [107.471126, -7.053842], [107.452628, -7.050868], [107.44713, -7.047874], [107.430634, -7.052838], [107.418639, -7.062762], [107.420642, -7.074666], [107.407148, -7.089053], [107.406654, -7.10939], [107.390782, -7.119542], [107.365664, -7.115347], [107.344169, -7.108403], [107.31857, -7.111921], [107.309417, -7.12505], [107.298058, -7.12884], [107.290863, -7.12849], [107.287681, -7.132059], [107.287057, -7.14312], [107.284285, -7.15504], [107.27791, -7.167349], [107.25796, -7.18855], [107.253068, -7.1969]]], \"type\": \"Polygon\"}, \"id\": \"04\", \"properties\": {\"NAME\": \"KABUPATEN BANDUNG\"}, \"type\": \"Feature\"}, {\"geometry\": {\"coordinates\": [[[107.17640000000011, -6.49412], [107.1481940000001, -6.47626], [107.11531000000014, -6.459378999999899], [107.078926, -6.435379999999896], [107.071396, -6.42919], [107.05945600000013, -6.41588], [107.052085, -6.404919], [107.045097, -6.400801], [107.01599900000014, -6.39408], [107.007202, -6.39031], [106.98464300000012, -6.37687], [106.971802, -6.367571], [106.969803, -6.36096], [106.97155800000013, -6.352120999999897], [106.97887, -6.33261], [106.977721, -6.3233], [106.98026, -6.31456], [106.97198500000013, -6.303429], [106.966843, -6.30304], [106.961373, -6.30684], [106.95786, -6.3334], [106.950431, -6.34221], [106.94641, -6.3531], [106.946098, -6.36557], [106.9404, -6.38827], [106.9329, -6.393028999999899], [106.927596, -6.40195], [106.921928, -6.404310999999893], [106.910117, -6.40437], [106.90960000000013, -6.41473], [106.9032, -6.418], [106.89980200000014, -6.41392], [106.8936010000001, -6.4136], [106.890503, -6.42744], [106.883301, -6.43418], [106.875397, -6.449699999999893], [106.8678, -6.44922], [106.862, -6.45294], [106.857002, -6.462691], [106.850999, -6.46086], [106.846703, -6.45028], [106.846199, -6.43945], [106.836501, -6.44245], [106.826995, -6.44139], [106.820602, -6.43723], [106.819198, -6.455868999999893], [106.8003, -6.457578999999896], [106.7949, -6.455149], [106.785895, -6.44351], [106.7677, -6.44548], [106.751098, -6.448779], [106.7403, -6.45318], [106.742095, -6.43818], [106.7409, -6.42593], [106.733001, -6.41262], [106.7318, -6.40486], [106.724197, -6.38444], [106.7229, -6.36836], [106.724502, -6.36075], [106.71325700000011, -6.35916], [106.675004, -6.359649], [106.6688, -6.358701], [106.652466, -6.362279], [106.64032700000013, -6.36122], [106.623977, -6.362172], [106.5991, -6.361759], [106.59525, -6.36367], [106.58914900000013, -6.35903], [106.58772, -6.35248], [106.57769900000011, -6.34261], [106.55761, -6.34036], [106.548546, -6.33611], [106.532098, -6.33363], [106.51955, -6.32599], [106.51328, -6.32879], [106.516297, -6.333259], [106.53088, -6.33834], [106.532586, -6.34953], [106.528588, -6.35502], [106.52117, -6.354169999999897], [106.4981, -6.355368], [106.495536, -6.35213], [106.49384, -6.33608], [106.49087, -6.32406], [106.485802, -6.31675], [106.47228200000012, -6.31181], [106.4665, -6.31338], [106.457901, -6.32408], [106.446701, -6.33352], [106.4364, -6.346290999999894], [106.428001, -6.348768], [106.4319, -6.35717], [106.43499700000012, -6.37609], [106.443704, -6.39886], [106.443902, -6.40658], [106.453103, -6.40979], [106.45829700000013, -6.4218], [106.4555, -6.422911], [106.455398, -6.43154], [106.450799, -6.43931], [106.441003, -6.449611], [106.4358, -6.45272], [106.417801, -6.45089], [106.40489900000011, -6.45314], [106.4041, -6.45912], [106.4077, -6.47304], [106.398698, -6.50532], [106.4012, -6.51683], [106.4018, -6.52988], [106.4124, -6.54041], [106.415901, -6.547999], [106.418198, -6.56341], [106.431396, -6.58377], [106.430603, -6.60345], [106.427299, -6.61179], [106.4263, -6.63073], [106.430298, -6.65907], [106.426398, -6.67547], [106.429398, -6.69578], [106.433502, -6.70251], [106.441101, -6.70112], [106.456497, -6.71647], [106.4682, -6.73068], [106.47820300000012, -6.72792], [106.487999, -6.74021], [106.495201, -6.753151], [106.499702, -6.75516], [106.511497, -6.76596], [106.52557, -6.76662], [106.525299, -6.75748], [106.5306, -6.75413], [106.54508, -6.75168], [106.548104, -6.74708], [106.55650300000013, -6.742340999999897], [106.563331, -6.72848], [106.573517, -6.721441], [106.5832, -6.724579], [106.58940200000012, -6.740251], [106.59410200000013, -6.74553], [106.605422, -6.749529], [106.620323, -6.748289], [106.63143200000013, -6.75357], [106.658599, -6.74618], [106.667488, -6.742028], [106.6723, -6.73367], [106.68129, -6.735878999999898], [106.685798, -6.743359], [106.69310000000013, -6.74271], [106.695503, -6.736989], [106.70813, -6.73072], [106.713936, -6.72502], [106.73950100000013, -6.712539], [106.746872, -6.716718999999898], [106.75791900000013, -6.732549], [106.7713480000001, -6.7481], [106.783028, -6.753939], [106.795798, -6.7542], [106.808005, -6.763309], [106.828957, -6.76469], [106.84555, -6.77316], [106.86020000000013, -6.77439], [106.899697, -6.78516], [106.906922, -6.78515], [106.92276, -6.780569], [106.935601, -6.76433], [106.942208, -6.75966], [106.95199700000012, -6.75659], [106.960008, -6.76358], [106.966499, -6.75276], [106.980896, -6.74134], [106.984101, -6.735469], [106.987747, -6.70931], [106.990113, -6.70316], [106.99630100000013, -6.69831], [107.00127, -6.6902], [107.001397, -6.68554], [106.995102, -6.678310999999894], [106.99179900000013, -6.670031], [107.000604, -6.664561], [107.01429000000013, -6.66505], [107.04000100000013, -6.65711], [107.0541, -6.65707], [107.06244, -6.66226], [107.084198, -6.665859999999896], [107.100113, -6.66393], [107.119057, -6.66365], [107.1252, -6.66806], [107.14221, -6.66578], [107.1508, -6.660529], [107.151002, -6.65323], [107.15989700000011, -6.645621], [107.169196, -6.644851], [107.181526, -6.64747], [107.190857, -6.64359], [107.205986, -6.62884], [107.21958100000012, -6.61116], [107.223923, -6.59998], [107.222908, -6.58018], [107.211166, -6.58716], [107.204322, -6.58878], [107.200204, -6.59349], [107.192063, -6.56927], [107.18679800000012, -6.55951], [107.178643, -6.5497], [107.176697, -6.54373], [107.177002, -6.53022], [107.17529900000011, -6.52396], [107.164421, -6.5072], [107.16563, -6.49961], [107.17640000000011, -6.49412]], [[106.76735700000012, -6.54053], [106.765999, -6.53353], [106.766938, -6.52216], [106.769996, -6.5153], [106.77842, -6.51907], [106.788391, -6.51737], [106.790497, -6.52671], [106.80475, -6.53602], [106.817231, -6.53969], [106.82209000000012, -6.536879], [106.82800300000014, -6.53983], [106.82775, -6.54879], [106.83219800000012, -6.564089], [106.83141400000011, -6.580848], [106.8264, -6.593], [106.82229600000011, -6.59121], [106.8205, -6.59746], [106.825286, -6.62514], [106.83131, -6.62476], [106.839341, -6.63332], [106.840317, -6.64408], [106.845497, -6.650910999999894], [106.84088200000014, -6.662329], [106.838897, -6.67191], [106.8312, -6.67712], [106.828796, -6.67416], [106.82083200000011, -6.67451], [106.80563, -6.66353], [106.803048, -6.654539], [106.794998, -6.65847], [106.784637, -6.660409999999899], [106.776298, -6.64839], [106.786666, -6.636279], [106.776483, -6.61031], [106.77494000000013, -6.60224], [106.766801, -6.59918], [106.75974200000013, -6.58957], [106.753586, -6.5869], [106.753096, -6.59641], [106.744598, -6.59796], [106.750801, -6.57598], [106.744301, -6.57604], [106.741997, -6.56476], [106.748543, -6.5604], [106.76735700000012, -6.54053]]], \"type\": \"Polygon\"}, \"id\": \"01\", \"properties\": {\"NAME\": \"KABUPATEN BOGOR\"}, \"type\": \"Feature\"}, {\"geometry\": {\"coordinates\": [[[106.960008, -6.76358], [106.95199700000012, -6.75659], [106.942208, -6.75966], [106.935601, -6.76433], [106.92276, -6.780569], [106.906922, -6.78515], [106.899697, -6.78516], [106.86020000000013, -6.77439], [106.84555, -6.77316], [106.828957, -6.76469], [106.808005, -6.763309], [106.795798, -6.7542], [106.783028, -6.753939], [106.7713480000001, -6.7481], [106.75791900000013, -6.732549], [106.746872, -6.716718999999898], [106.73950100000013, -6.712539], [106.713936, -6.72502], [106.70813, -6.73072], [106.695503, -6.736989], [106.69310000000013, -6.74271], [106.685798, -6.743359], [106.68129, -6.735878999999898], [106.6723, -6.73367], [106.667488, -6.742028], [106.658599, -6.74618], [106.63143200000013, -6.75357], [106.620323, -6.748289], [106.605422, -6.749529], [106.59410200000013, -6.74553], [106.58940200000012, -6.740251], [106.5832, -6.724579], [106.573517, -6.721441], [106.563331, -6.72848], [106.55650300000013, -6.742340999999897], [106.548104, -6.74708], [106.54508, -6.75168], [106.5306, -6.75413], [106.525299, -6.75748], [106.52557, -6.76662], [106.511497, -6.76596], [106.502091, -6.774197999999899], [106.494203, -6.776339], [106.490768, -6.78065], [106.487456, -6.79458], [106.45670400000012, -6.80529], [106.4487, -6.81675], [106.438407, -6.81564], [106.434302, -6.82061], [106.435638, -6.82639], [106.43355, -6.84074], [106.429261, -6.85254], [106.427567, -6.86508], [106.420457, -6.87487], [106.4187, -6.88108], [106.407997, -6.88609], [106.397797, -6.8968], [106.3914, -6.90002], [106.390602, -6.90497], [106.395402, -6.91187], [106.397697, -6.92671], [106.3887, -6.93414], [106.38810000000012, -6.94397], [106.394363, -6.95743], [106.39039700000012, -6.96854], [106.39305900000011, -6.97659], [106.396667, -6.97889], [106.41417, -6.976112], [106.41556, -6.963889], [106.42917000000011, -6.95778], [106.434448, -6.958056], [106.44021, -6.952566], [106.45138400000013, -6.95389], [106.456948, -6.9575], [106.46, -6.955], [106.47862, -6.96361], [106.488053, -6.96111], [106.497222, -6.96417], [106.505279, -6.96333], [106.51638800000012, -6.967221], [106.528893, -6.97639], [106.533333, -6.98139], [106.543054, -6.98556], [106.540772, -7.00814], [106.5411140000001, -7.0175], [106.544724, -7.02805], [106.54777600000011, -7.02861], [106.54583, -7.03972], [106.5426, -7.04547], [106.54404, -7.05598], [106.5293, -7.06495], [106.522491, -7.078759], [106.51200000000011, -7.08698], [106.511093, -7.09072], [106.498834, -7.099673], [106.484323, -7.10329], [106.481567, -7.11162], [106.47, -7.11944], [106.46629200000012, -7.12724], [106.457725, -7.1286], [106.458053, -7.13278], [106.452225, -7.14333], [106.448891, -7.15333], [106.45807600000012, -7.16677], [106.465194, -7.17072], [106.465896, -7.17724], [106.460572, -7.18357], [106.45440700000012, -7.18684], [106.448189, -7.18596], [106.44005, -7.19043], [106.43383100000011, -7.184504], [106.424165, -7.19055], [106.41417, -7.18639], [106.406944, -7.188333], [106.400557, -7.18639], [106.39555200000012, -7.199166], [106.399169, -7.20583], [106.394996, -7.21167], [106.38944, -7.21194], [106.388337, -7.21806], [106.39083, -7.22861], [106.379997, -7.23944], [106.37861, -7.246103], [106.384902, -7.26222], [106.382058, -7.271419], [106.37040700000011, -7.280021], [106.37816, -7.29491], [106.37274100000013, -7.30681], [106.380729, -7.31865], [106.385682, -7.31829], [106.397064, -7.33042], [106.39980300000013, -7.34663], [106.40243, -7.347325999999896], [106.40360900000013, -7.35667], [106.399445, -7.36778], [106.400557, -7.37333], [106.405282, -7.37444], [106.406112, -7.36972], [106.41417, -7.36333], [106.424156, -7.36], [106.443886, -7.36083], [106.449723, -7.36667], [106.459168, -7.36833], [106.467781, -7.37222], [106.47361100000012, -7.37167], [106.49028, -7.37694], [106.494424, -7.38362], [106.504753, -7.39328], [106.51566, -7.39882], [106.523278, -7.40796], [106.53306, -7.40833], [106.53616, -7.41078], [106.559525, -7.41681], [106.576249, -7.418123], [106.58194, -7.41311], [106.606673, -7.414832], [106.613609, -7.41667], [106.663964, -7.423273], [106.67972700000013, -7.421667], [106.684647, -7.425292999999897], [106.747428, -7.431573999999898], [106.776109, -7.43572], [106.79139, -7.43639], [106.789016, -7.43166], [106.793214, -7.42832], [106.790276, -7.41422], [106.779838, -7.41569], [106.77309, -7.409291], [106.77198800000014, -7.40307], [106.778153, -7.39662], [106.790734, -7.392308999999898], [106.796769, -7.38529], [106.80547300000012, -7.3808], [106.811814, -7.37401], [106.819474, -7.360189], [106.836137, -7.353928], [106.84969300000012, -7.35405], [106.85942, -7.35158], [106.87285600000013, -7.354649], [106.874413, -7.34947], [106.888817, -7.34481], [106.890717, -7.339918999999895], [106.89989, -7.33785], [106.904281, -7.345689], [106.906594, -7.34489], [106.90513, -7.334919999999897], [106.90882, -7.32392], [106.919936, -7.32266], [106.927391, -7.327219], [106.9318760000001, -7.31835], [106.938851, -7.31369], [106.952582, -7.31364], [106.960067, -7.30783], [106.96721, -7.29758], [106.97014500000012, -7.28382], [106.96932900000013, -7.27033], [106.967308, -7.26567], [106.95819100000011, -7.25719], [106.964867, -7.24429], [106.969537, -7.243199], [106.977783, -7.23606], [106.97993, -7.22631], [106.978813, -7.21745], [106.9730990000001, -7.211], [106.970841, -7.2008], [106.964951, -7.189391], [106.97049, -7.1849], [106.96718700000014, -7.17591], [106.961662, -7.17521], [106.956047, -7.160341], [106.9632, -7.147668999999894], [106.958809, -7.1396], [106.944106, -7.13106], [106.938278, -7.124549], [106.935967, -7.11763], [106.936653, -7.10519], [106.9437870000001, -7.0852], [106.943885, -7.07351], [106.954216, -7.06741], [106.955468, -7.06352], [106.951028, -7.05519], [106.952348, -7.04292], [106.95731, -7.03216], [106.9652630000001, -7.02415], [106.976547, -7.01627], [106.986184, -7.0157], [106.993737, -7.02902], [107.01629, -7.0325], [107.023728, -7.03694], [107.0386, -7.040659], [107.043388, -7.03995], [107.050941, -7.02872], [107.05676, -7.02467], [107.05565600000011, -7.01974], [107.0465400000001, -7.00004], [107.03394, -6.98763], [107.031402, -6.98034], [107.04084, -6.96026], [107.045035, -6.95795], [107.065192, -6.97583], [107.067964, -6.973360999999898], [107.064796, -6.96566], [107.048789, -6.94501], [107.046647, -6.936329], [107.048317, -6.918051], [107.04475, -6.905869], [107.031051, -6.89148], [107.03433300000012, -6.8825], [107.02103, -6.8577], [107.001976, -6.842399], [106.997247, -6.83482], [106.991836, -6.81259], [106.99098, -6.80179], [106.988198, -6.79459], [106.977676, -6.78486], [106.963173, -6.7688], [106.960008, -6.76358]], [[106.906409, -6.90913], [106.92270700000012, -6.907129], [106.93354000000011, -6.90774], [106.9372780000001, -6.90382], [106.94073, -6.94164], [106.960395, -6.936489], [106.962884, -6.94882], [106.955773, -6.97593], [106.951798, -6.97772], [106.93514, -6.97757], [106.923972, -6.981629], [106.9015, -6.979061], [106.89689, -6.976648999999895], [106.883057, -6.97596], [106.86172, -6.98176], [106.854263, -6.984888999999896], [106.84866, -6.9794], [106.848601, -6.97464], [106.855582, -6.97143], [106.855523, -6.966439], [106.861679, -6.9593], [106.87761, -6.958188], [106.89025, -6.95459], [106.898339, -6.94687], [106.88804, -6.92919], [106.885017, -6.92116], [106.892037, -6.921369], [106.892518, -6.91473], [106.897218, -6.89748], [106.90075700000011, -6.89806], [106.906409, -6.90913]]], \"type\": \"Polygon\"}, \"id\": \"02\", \"properties\": {\"NAME\": \"KABUPATEN SUKABUMI\"}, \"type\": \"Feature\"}, {\"geometry\": {\"coordinates\": [[[107.33544100000012, -6.72906], [107.326051, -6.73142], [107.316077, -6.727168], [107.309677, -6.718], [107.306512, -6.709589], [107.286346, -6.703729999999894], [107.27975, -6.698219], [107.26335200000011, -6.69336], [107.26056, -6.68606], [107.265159, -6.683291], [107.275399, -6.66948], [107.275818, -6.65946], [107.281639, -6.64999], [107.26622, -6.63613], [107.256829, -6.63097], [107.240357, -6.61652], [107.23051, -6.60361], [107.223923, -6.59998], [107.21958100000012, -6.61116], [107.205986, -6.62884], [107.190857, -6.64359], [107.181526, -6.64747], [107.169196, -6.644851], [107.15989700000011, -6.645621], [107.151002, -6.65323], [107.1508, -6.660529], [107.14221, -6.66578], [107.1252, -6.66806], [107.119057, -6.66365], [107.100113, -6.66393], [107.084198, -6.665859999999896], [107.06244, -6.66226], [107.0541, -6.65707], [107.04000100000013, -6.65711], [107.01429000000013, -6.66505], [107.000604, -6.664561], [106.99179900000013, -6.670031], [106.995102, -6.678310999999894], [107.001397, -6.68554], [107.00127, -6.6902], [106.99630100000013, -6.69831], [106.990113, -6.70316], [106.987747, -6.70931], [106.984101, -6.735469], [106.980896, -6.74134], [106.966499, -6.75276], [106.960008, -6.76358], [106.963173, -6.7688], [106.977676, -6.78486], [106.988198, -6.79459], [106.99098, -6.80179], [106.991836, -6.81259], [106.997247, -6.83482], [107.001976, -6.842399], [107.02103, -6.8577], [107.03433300000012, -6.8825], [107.031051, -6.89148], [107.04475, -6.905869], [107.048317, -6.918051], [107.046647, -6.936329], [107.048789, -6.94501], [107.064796, -6.96566], [107.067964, -6.973360999999898], [107.065192, -6.97583], [107.045035, -6.95795], [107.04084, -6.96026], [107.031402, -6.98034], [107.03394, -6.98763], [107.0465400000001, -7.00004], [107.05565600000011, -7.01974], [107.05676, -7.02467], [107.050941, -7.02872], [107.043388, -7.03995], [107.0386, -7.040659], [107.023728, -7.03694], [107.01629, -7.0325], [106.993737, -7.02902], [106.986184, -7.0157], [106.976547, -7.01627], [106.9652630000001, -7.02415], [106.95731, -7.03216], [106.952348, -7.04292], [106.951028, -7.05519], [106.955468, -7.06352], [106.954216, -7.06741], [106.943885, -7.07351], [106.9437870000001, -7.0852], [106.936653, -7.10519], [106.935967, -7.11763], [106.938278, -7.124549], [106.944106, -7.13106], [106.958809, -7.1396], [106.9632, -7.147668999999894], [106.956047, -7.160341], [106.961662, -7.17521], [106.96718700000014, -7.17591], [106.97049, -7.1849], [106.964951, -7.189391], [106.970841, -7.2008], [106.9730990000001, -7.211], [106.978813, -7.21745], [106.97993, -7.22631], [106.977783, -7.23606], [106.969537, -7.243199], [106.964867, -7.24429], [106.95819100000011, -7.25719], [106.967308, -7.26567], [106.96932900000013, -7.27033], [106.97014500000012, -7.28382], [106.96721, -7.29758], [106.960067, -7.30783], [106.952582, -7.31364], [106.938851, -7.31369], [106.9318760000001, -7.31835], [106.927391, -7.327219], [106.919936, -7.32266], [106.90882, -7.32392], [106.90513, -7.334919999999897], [106.906594, -7.34489], [106.904281, -7.345689], [106.89989, -7.33785], [106.890717, -7.339918999999895], [106.888817, -7.34481], [106.874413, -7.34947], [106.87285600000013, -7.354649], [106.85942, -7.35158], [106.84969300000012, -7.35405], [106.836137, -7.353928], [106.819474, -7.360189], [106.811814, -7.37401], [106.80547300000012, -7.3808], [106.796769, -7.38529], [106.790734, -7.392308999999898], [106.778153, -7.39662], [106.77198800000014, -7.40307], [106.77309, -7.409291], [106.779838, -7.41569], [106.790276, -7.41422], [106.792792, -7.41776], [106.79389, -7.420001], [106.79667, -7.436666], [106.816026, -7.434259], [106.835578, -7.433356], [106.861884, -7.434164999999894], [106.867698, -7.431205], [106.882752, -7.43506], [106.91689300000013, -7.437788999999896], [106.979264, -7.44468], [106.987633, -7.443918], [107.00904, -7.44786], [107.03587, -7.44794], [107.058938, -7.45129], [107.07768, -7.45181], [107.10112, -7.45568], [107.12844, -7.45792], [107.129676, -7.46106], [107.163842, -7.46892], [107.185882, -7.47537], [107.190665, -7.47528], [107.215095, -7.481239], [107.21675, -7.47924], [107.2314, -7.48333], [107.242165, -7.48793], [107.256469, -7.48908], [107.28737600000011, -7.49323], [107.319557, -7.49329], [107.352516, -7.499369], [107.380866, -7.49861], [107.385094, -7.49977], [107.393395, -7.49481], [107.397896, -7.49531], [107.40700600000014, -7.50197], [107.422112, -7.50438], [107.4221280000001, -7.49888], [107.417168, -7.48672], [107.418426, -7.47468], [107.416863, -7.45895], [107.422385, -7.44968], [107.422479, -7.435891], [107.42687300000011, -7.42658], [107.434127, -7.41628], [107.441514, -7.41144], [107.4707580000001, -7.39826], [107.469308, -7.38375], [107.472838, -7.370109999999897], [107.48063, -7.35801], [107.480446, -7.35201], [107.469711, -7.33265], [107.462211, -7.321928999999898], [107.455278, -7.307], [107.452103, -7.291849], [107.453185, -7.28724], [107.466377, -7.27066], [107.47383900000011, -7.25082], [107.4629670000001, -7.249979], [107.453292, -7.25613], [107.44262, -7.25272], [107.433425, -7.25537], [107.427276, -7.25317], [107.41362900000013, -7.25667], [107.399667, -7.255969], [107.39125, -7.25377], [107.383179, -7.247949], [107.356757, -7.23651], [107.351463, -7.228159], [107.35456, -7.21854], [107.341752, -7.20579], [107.33559, -7.20723], [107.3183360000001, -7.20065], [107.308023, -7.20404], [107.283691, -7.20782], [107.269043, -7.20423], [107.257339, -7.20318], [107.253068, -7.1969], [107.25796, -7.18855], [107.27791, -7.167349], [107.284285, -7.15504], [107.287057, -7.143119999999897], [107.28768100000013, -7.132059], [107.290863, -7.12849], [107.298058, -7.12884], [107.309417, -7.12505], [107.31857, -7.111921], [107.310607, -7.09342], [107.30587800000012, -7.087019], [107.290191, -7.087131], [107.280908, -7.0832], [107.27260500000011, -7.08371], [107.263839, -7.07783], [107.249175, -7.050789999999893], [107.23367300000012, -7.04945], [107.22715, -7.051], [107.218163, -7.05687], [107.205879, -7.05508], [107.195657, -7.05697], [107.188582, -7.05489], [107.185517, -7.0474], [107.188156, -7.0334], [107.193733, -7.017699], [107.194032, -7.012719], [107.18364800000012, -6.999999], [107.188446, -6.99141], [107.18488300000013, -6.98688], [107.18345, -6.97791], [107.190009, -6.96761], [107.203362, -6.95711], [107.213897, -6.95048], [107.21341, -6.93958], [107.229789, -6.937909], [107.241187, -6.93277], [107.251548, -6.92619], [107.261512, -6.92571], [107.277229, -6.92159], [107.286027, -6.91594], [107.29196200000013, -6.90926], [107.30272600000012, -6.90509], [107.312446, -6.89685], [107.317178, -6.887809], [107.32898, -6.88537], [107.33721200000014, -6.88012], [107.33721200000014, -6.87116], [107.344001, -6.86395], [107.343536, -6.85464], [107.33991900000012, -6.85218], [107.328583, -6.853988999999899], [107.32034, -6.84975], [107.3227, -6.84291], [107.31976, -6.83544], [107.318901, -6.82372], [107.312973, -6.8154], [107.317565, -6.80734], [107.313844, -6.79614], [107.301796, -6.78462], [107.293382, -6.78094], [107.290626, -6.77556], [107.29559200000011, -6.77153], [107.294197, -6.76228], [107.2984, -6.7533], [107.302307, -6.755240999999899], [107.30542700000012, -6.74799], [107.30652, -6.73477], [107.31239, -6.73142], [107.31704800000011, -6.74423], [107.308007, -6.75385], [107.310607, -6.75896], [107.32034, -6.75307], [107.320968, -6.761289], [107.32402, -6.765649], [107.32978200000014, -6.762361], [107.336341, -6.7635], [107.33403700000014, -6.756779], [107.342376, -6.75239], [107.34070500000013, -6.74843], [107.329431, -6.74092], [107.32764, -6.73593], [107.33766300000013, -6.73332], [107.33544100000012, -6.72906]]], \"type\": \"Polygon\"}, \"id\": \"03\", \"properties\": {\"Name\": \"KABUPATEN CIANJUR\"}, \"type\": \"Feature\"}, {\"geometry\": {\"coordinates\": [[[108.132309, -7.04115], [108.12026, -7.03652], [108.108147, -7.02849], [108.099373, -7.019249], [108.092492, -7.00615], [108.0898370000001, -6.99758], [108.08233600000011, -6.98987], [108.07153, -6.98313], [108.059196, -6.99426], [108.042098, -6.99574], [108.031486, -6.99157], [108.021333, -6.984], [108.008317, -6.98225], [108.00087800000011, -6.98589], [107.99680300000011, -6.982489], [107.985291, -6.97884], [107.98004900000012, -6.97126], [107.966232, -6.95601], [107.95955700000013, -6.960739], [107.953798, -6.96132], [107.937499, -6.95355], [107.928757, -6.953570999999897], [107.924782, -6.94961], [107.91615300000012, -6.94796], [107.914544, -6.96492], [107.905838, -6.96799], [107.89692, -6.97928], [107.898934, -6.98462], [107.90548700000011, -6.99133], [107.907937, -6.99978], [107.905694, -7.005749], [107.90899, -7.02932], [107.91124, -7.03335], [107.925712, -7.03405], [107.930901, -7.03579], [107.92698600000011, -7.04783], [107.921571, -7.05151], [107.910218, -7.05288], [107.896377, -7.05022], [107.875785, -7.05256], [107.85251, -7.05869], [107.837983, -7.06566], [107.83458, -7.06987], [107.826752, -7.08812], [107.82190600000013, -7.092148999999893], [107.81067, -7.09508], [107.80807, -7.09813], [107.809348, -7.10493], [107.807687, -7.121], [107.8085, -7.13494], [107.795646, -7.15176], [107.78753, -7.156991], [107.779877, -7.15849], [107.773627, -7.15364], [107.75852, -7.15737], [107.7549, -7.16958], [107.748673, -7.170318999999893], [107.738839, -7.16783], [107.732879, -7.17895], [107.72117500000013, -7.19507], [107.722923, -7.2119], [107.708968, -7.2224], [107.70668, -7.227489], [107.70687, -7.23853], [107.712569, -7.24916], [107.733223, -7.26272], [107.736343, -7.267561], [107.73438, -7.27453], [107.72216900000012, -7.28869], [107.721237, -7.29537], [107.727737, -7.29466], [107.723053, -7.30834], [107.718727, -7.31001], [107.71225700000014, -7.30182], [107.696747, -7.295929], [107.683023, -7.297929999999894], [107.67892, -7.29182], [107.669587, -7.2921], [107.66414700000013, -7.27977], [107.65545, -7.28172], [107.64347, -7.29588], [107.632576, -7.300878999999895], [107.625832, -7.30105], [107.61815600000011, -7.307031], [107.610671, -7.30962], [107.605712, -7.30795], [107.60126, -7.29959], [107.60005300000012, -7.28829], [107.59497, -7.28374], [107.58159000000012, -7.27733], [107.570397, -7.26257], [107.55713, -7.253569], [107.542717, -7.25529], [107.535797, -7.24923], [107.524438, -7.25089], [107.5091, -7.25105], [107.489617, -7.258239], [107.48430700000011, -7.257478], [107.47383900000011, -7.25082], [107.466377, -7.27066], [107.453185, -7.28724], [107.452103, -7.291849], [107.455278, -7.307], [107.462211, -7.321928999999898], [107.469711, -7.33265], [107.480446, -7.35201], [107.48063, -7.35801], [107.472838, -7.370109999999897], [107.469308, -7.38375], [107.4707580000001, -7.39826], [107.441514, -7.41144], [107.434127, -7.41628], [107.42687300000011, -7.42658], [107.422479, -7.435891], [107.422385, -7.44968], [107.416863, -7.45895], [107.418426, -7.47468], [107.417168, -7.48672], [107.4221280000001, -7.49888], [107.422112, -7.50438], [107.433425, -7.5069], [107.439538, -7.50623], [107.473716, -7.51858], [107.48097300000012, -7.530842], [107.47889, -7.53348], [107.48293300000012, -7.53937], [107.494773, -7.53425], [107.506303, -7.53926], [107.516336, -7.54117], [107.532745, -7.55107], [107.54802, -7.55294], [107.570358, -7.562921], [107.597366, -7.56942], [107.60528, -7.57333], [107.611474, -7.58414], [107.617775, -7.583055], [107.623909, -7.58965], [107.623252, -7.59534], [107.630935, -7.600953], [107.635199, -7.59972], [107.65361000000013, -7.61014], [107.669938, -7.62325], [107.682519, -7.637989], [107.683068, -7.644826], [107.688226, -7.652327], [107.687813, -7.658982], [107.682068, -7.66192], [107.695961, -7.668723], [107.710251, -7.66643], [107.72390800000011, -7.667009], [107.74208, -7.66965], [107.744659, -7.67159], [107.770553, -7.67722], [107.78633800000011, -7.67902], [107.803618, -7.68684], [107.807967, -7.68704], [107.827301, -7.69843], [107.833977, -7.70498], [107.837562, -7.713703999999893], [107.83406800000012, -7.721288999999899], [107.8356930000001, -7.72702], [107.846879, -7.73731], [107.850555, -7.73417], [107.85583, -7.73778], [107.875703, -7.740448999999899], [107.888229, -7.739660999999899], [107.893312, -7.73581], [107.89887900000014, -7.74151], [107.907349, -7.73691], [107.90964, -7.730992999999899], [107.905694, -7.73078], [107.913147, -7.71061], [107.92018, -7.70141], [107.92457700000011, -7.68577], [107.9207770000001, -7.67393], [107.922692, -7.65632], [107.91853, -7.64842], [107.918808, -7.620538999999894], [107.91227, -7.60587], [107.91314, -7.59495], [107.92148600000013, -7.586029], [107.93065700000011, -7.57907], [107.931861, -7.569681], [107.927642, -7.55873], [107.93490600000013, -7.54612], [107.937379, -7.53754], [107.934197, -7.51962], [107.93396, -7.50729], [107.939888, -7.4922], [107.94252, -7.48073], [107.94085, -7.46817], [107.942657, -7.45453], [107.938874, -7.427959], [107.939147, -7.416609], [107.93199, -7.399949], [107.92553, -7.39367], [107.919351, -7.383978999999897], [107.915656, -7.37453], [107.909997, -7.37078], [107.89338700000013, -7.36748], [107.8908770000001, -7.36123], [107.902961, -7.35436], [107.92049, -7.34821], [107.92359, -7.33778], [107.934021, -7.33001], [107.93499, -7.326409999999896], [107.930901, -7.31613], [107.922943, -7.309959], [107.92178, -7.300909], [107.91756, -7.28869], [107.9193, -7.28423], [107.93595, -7.28151], [107.956252, -7.27559], [107.969674, -7.26713], [107.975196, -7.25596], [107.983811, -7.24908], [108.000611, -7.24523], [108.01690700000012, -7.231881], [108.04281600000013, -7.22332], [108.048416, -7.22435], [108.0626380000001, -7.22219], [108.069703, -7.20148], [108.07361, -7.19572], [108.06895, -7.18786], [108.074501, -7.18245], [108.082658, -7.164019], [108.078133, -7.14194], [108.070922, -7.13598], [108.0696410000001, -7.130749], [108.075622, -7.12119], [108.0879910000001, -7.1099], [108.101593, -7.10412], [108.11357, -7.10571], [108.11923300000012, -7.113919999999894], [108.12252, -7.11368], [108.121246, -7.095999], [108.12293, -7.08487], [108.12119300000012, -7.07533], [108.132117, -7.06507], [108.13961100000012, -7.06287], [108.139878, -7.05574], [108.13294900000011, -7.04552], [108.132309, -7.04115]]], \"type\": \"Polygon\"}, \"id\": \"05\", \"properties\": {\"NAME\": \"KABUPATEN GARUT\"}, \"type\": \"Feature\"}, {\"geometry\": {\"coordinates\": [[[108.13785, -7.04097], [108.132309, -7.04115], [108.13294900000011, -7.04552], [108.139878, -7.05574], [108.13961100000012, -7.06287], [108.132117, -7.06507], [108.12119300000012, -7.07533], [108.12293, -7.08487], [108.121246, -7.095999], [108.12252, -7.11368], [108.11923300000012, -7.113919999999894], [108.11357, -7.10571], [108.101593, -7.10412], [108.0879910000001, -7.1099], [108.075622, -7.12119], [108.0696410000001, -7.130749], [108.070922, -7.13598], [108.078133, -7.14194], [108.082658, -7.164019], [108.074501, -7.18245], [108.06895, -7.18786], [108.07361, -7.19572], [108.069703, -7.20148], [108.0626380000001, -7.22219], [108.048416, -7.22435], [108.04281600000013, -7.22332], [108.01690700000012, -7.231881], [108.000611, -7.24523], [107.983811, -7.24908], [107.975196, -7.25596], [107.969674, -7.26713], [107.956252, -7.27559], [107.93595, -7.28151], [107.9193, -7.28423], [107.91756, -7.28869], [107.92178, -7.300909], [107.922943, -7.309959], [107.930901, -7.31613], [107.93499, -7.326409999999896], [107.934021, -7.33001], [107.92359, -7.33778], [107.92049, -7.34821], [107.902961, -7.35436], [107.8908770000001, -7.36123], [107.89338700000013, -7.36748], [107.909997, -7.37078], [107.915656, -7.37453], [107.919351, -7.383978999999897], [107.92553, -7.39367], [107.93199, -7.399949], [107.939147, -7.416609], [107.938874, -7.427959], [107.942657, -7.45453], [107.94085, -7.46817], [107.94252, -7.48073], [107.939888, -7.4922], [107.93396, -7.50729], [107.934197, -7.51962], [107.937379, -7.53754], [107.93490600000013, -7.54612], [107.927642, -7.55873], [107.931861, -7.569681], [107.93065700000011, -7.57907], [107.92148600000013, -7.586029], [107.91314, -7.59495], [107.91227, -7.60587], [107.918808, -7.620538999999894], [107.91853, -7.64842], [107.922692, -7.65632], [107.9207770000001, -7.67393], [107.92457700000011, -7.68577], [107.92018, -7.70141], [107.913147, -7.71061], [107.905694, -7.73078], [107.90964, -7.730992999999899], [107.940551, -7.73194], [107.950798, -7.73596], [108.00000000000011, -7.745], [108.02554, -7.75221], [108.03826900000013, -7.754279], [108.049004, -7.75847], [108.06305700000013, -7.7675], [108.072219, -7.7675], [108.080276, -7.77194], [108.10228, -7.77173], [108.1251, -7.7806], [108.129822, -7.77838], [108.151451, -7.787039], [108.181, -7.790909], [108.205795, -7.79584], [108.24459900000011, -7.80227], [108.251633, -7.80003], [108.2607650000001, -7.80455], [108.29418, -7.81072], [108.299424, -7.814366], [108.303383, -7.81147], [108.31479000000013, -7.812659], [108.322373, -7.815406], [108.33552500000013, -7.81557], [108.34126, -7.80245], [108.338577, -7.797909], [108.32494, -7.79466], [108.321632, -7.782479], [108.323227, -7.77563], [108.319909, -7.75016], [108.31443, -7.74684], [108.3147, -7.7358], [108.312255, -7.72189], [108.316743, -7.719578999999896], [108.31587200000013, -7.71225], [108.3218920000001, -7.70994], [108.32167, -7.70255], [108.31549200000012, -7.69508], [108.314911, -7.689219], [108.320871, -7.68647], [108.323478, -7.68115], [108.331651, -7.68508], [108.341171, -7.67962], [108.351997, -7.68092], [108.35384, -7.67034], [108.362517, -7.66009], [108.35846, -7.64342], [108.35447, -7.63699], [108.35838300000012, -7.63025], [108.357437, -7.62335], [108.36002, -7.61254], [108.354125, -7.57247], [108.35072300000013, -7.56373], [108.33445, -7.552259], [108.333335, -7.53956], [108.33492, -7.52207], [108.333335, -7.50333], [108.34069000000011, -7.49164], [108.35613300000011, -7.48989], [108.36649, -7.48199], [108.372491, -7.479839], [108.39334, -7.47734], [108.397247, -7.47852], [108.409057, -7.49193], [108.4171070000001, -7.491259999999897], [108.423448, -7.49666], [108.429389, -7.49711], [108.437622, -7.490879], [108.428908, -7.48486], [108.42565800000011, -7.47078], [108.425232, -7.45571], [108.421462, -7.43881], [108.42321, -7.42958], [108.41878, -7.4218], [108.401887, -7.42033], [108.397026, -7.407748], [108.39765200000011, -7.40056], [108.40356, -7.38738], [108.411263, -7.377511], [108.409691, -7.3635], [108.40553, -7.35949], [108.392859, -7.35899], [108.380051, -7.35356], [108.370827, -7.35375], [108.359816, -7.34922], [108.34102700000011, -7.35214], [108.337166, -7.34518], [108.3283990000001, -7.34417], [108.32298300000014, -7.33871], [108.31364, -7.33718], [108.30745800000011, -7.3311], [108.288972, -7.3326], [108.279823, -7.34356], [108.276482, -7.350058], [108.280136, -7.35692], [108.27609200000012, -7.36331], [108.27468, -7.373379], [108.26485, -7.38919], [108.26371, -7.3955], [108.267746, -7.4017], [108.26798300000013, -7.41807], [108.26095, -7.43164], [108.255127, -7.43382], [108.24415, -7.43284], [108.23536, -7.43611], [108.224823, -7.43564], [108.21858300000014, -7.431629], [108.212571, -7.43746], [108.203743, -7.44019], [108.199372, -7.44668], [108.1914220000001, -7.444909], [108.187119, -7.44075], [108.183006, -7.42948], [108.17945, -7.407259999999894], [108.175813, -7.40093], [108.17711, -7.3955], [108.16274, -7.35299], [108.163239, -7.34677], [108.16047, -7.33758], [108.15569, -7.33358], [108.15814300000011, -7.31739], [108.1501090000001, -7.30545], [108.14629, -7.292728999999895], [108.164269, -7.2913], [108.163239, -7.28436], [108.166496, -7.283141], [108.16448300000013, -7.27395], [108.182746, -7.2752], [108.18828600000012, -7.27399], [108.198859, -7.27629], [108.192551, -7.25995], [108.195687, -7.23639], [108.1993, -7.23038], [108.198021, -7.19019], [108.19495, -7.1787], [108.201407, -7.14395], [108.204972, -7.13819], [108.216133, -7.12955], [108.21889, -7.12494], [108.21644500000014, -7.114419], [108.21740000000011, -7.09366], [108.21991600000013, -7.08704], [108.208518, -7.08689], [108.201699, -7.07788], [108.19264, -7.07134], [108.17177600000014, -7.06661], [108.1702130000001, -7.06425], [108.16214, -7.06289], [108.154136, -7.06526], [108.145347, -7.04803], [108.13785, -7.04097]]], \"type\": \"Polygon\"}, \"id\": \"06\", \"properties\": {\"NAME\": \"KABUPATEN TASIKMALAYA\"}, \"type\": \"Feature\"}, {\"geometry\": {\"coordinates\": [[[108.385933, -7.071639], [108.37652, -7.06173], [108.36054, -7.05122], [108.35621, -7.05153], [108.33976, -7.06462], [108.332961, -7.06549], [108.318869, -7.05717], [108.310592, -7.06059], [108.28978, -7.05793], [108.273453, -7.06384], [108.261146, -7.06281], [108.246277, -7.06399], [108.237518, -7.06165], [108.2303, -7.05436], [108.224083, -7.0519], [108.216912, -7.05646], [108.207878, -7.05113], [108.19117, -7.054261], [108.180512, -7.05486], [108.170213, -7.06425], [108.171776, -7.06661], [108.19264, -7.07134], [108.201699, -7.07788], [108.208518, -7.08689], [108.219916, -7.08704], [108.2174, -7.09366], [108.216445, -7.114419], [108.21889, -7.12494], [108.216133, -7.12955], [108.204972, -7.13819], [108.201407, -7.14395], [108.19495, -7.1787], [108.198021, -7.19019], [108.1993, -7.23038], [108.195687, -7.23639], [108.192551, -7.25995], [108.198859, -7.27629], [108.20221, -7.28259], [108.212821, -7.28953], [108.228417, -7.29739], [108.22898, -7.30077], [108.24508, -7.31207], [108.252777, -7.31411], [108.25634, -7.31924], [108.273086, -7.31811], [108.279105, -7.33132], [108.288972, -7.3326], [108.307458, -7.3311], [108.31364, -7.33718], [108.322983, -7.33871], [108.328399, -7.34417], [108.337166, -7.34518], [108.341027, -7.35214], [108.359816, -7.34922], [108.370827, -7.35375], [108.380051, -7.35356], [108.392859, -7.35899], [108.40553, -7.35949], [108.409691, -7.3635], [108.411263, -7.377511], [108.40356, -7.38738], [108.397652, -7.40056], [108.397026, -7.407748], [108.401887, -7.42033], [108.41878, -7.4218], [108.42321, -7.42958], [108.421462, -7.43881], [108.425232, -7.45571], [108.425658, -7.47078], [108.428908, -7.48486], [108.437622, -7.490879], [108.436432, -7.499834], [108.445187, -7.503578], [108.468575, -7.515946], [108.485176, -7.534466], [108.520458, -7.524182], [108.539136, -7.535499], [108.517344, -7.540642], [108.524607, -7.567389], [108.543287, -7.568419], [108.549513, -7.556074], [108.549513, -7.556074], [108.549513, -7.556074], [108.575458, -7.56636], [108.619042, -7.550924], [108.650172, -7.530342], [108.655353, -7.496391], [108.64705, -7.489191], [108.649691, -7.464972], [108.691492, -7.459865], [108.697895, -7.469625], [108.715011, -7.46942], [108.711585, -7.45741], [108.71911, -7.4406], [108.71951, -7.43226], [108.71026, -7.4263], [108.704148, -7.41843], [108.698617, -7.41626], [108.697037, -7.40355], [108.68591, -7.39828], [108.68422, -7.380091], [108.677856, -7.37524], [108.67825, -7.36828], [108.674782, -7.35909], [108.669585, -7.358229], [108.654092, -7.34747], [108.652877, -7.35746], [108.649246, -7.368561], [108.6364, -7.37514], [108.628007, -7.38186], [108.611672, -7.38516], [108.599121, -7.38333], [108.590606, -7.38496], [108.58487, -7.398618], [108.579917, -7.40544], [108.572608, -7.42123], [108.564316, -7.426669], [108.559708, -7.42383], [108.542282, -7.40536], [108.523552, -7.41898], [108.517487, -7.41907], [108.512528, -7.41488], [108.50167, -7.41378], [108.496758, -7.41108], [108.486473, -7.39451], [108.475562, -7.40375], [108.46811, -7.3938], [108.464158, -7.38273], [108.464675, -7.37622], [108.473069, -7.36421], [108.47107, -7.35635], [108.48266, -7.3546], [108.498016, -7.3554], [108.516265, -7.35304], [108.52285, -7.3535], [108.534546, -7.3381], [108.558609, -7.31704], [108.560936, -7.31324], [108.555649, -7.284561], [108.5682, -7.27367], [108.569556, -7.26027], [108.57473, -7.252609], [108.581123, -7.24989], [108.58282, -7.24201], [108.579949, -7.23517], [108.584662, -7.229239], [108.58493, -7.21809], [108.58071, -7.20642], [108.57235, -7.20304], [108.563735, -7.19414], [108.55521, -7.19209], [108.54633, -7.18705], [108.53572, -7.184709], [108.525498, -7.17639], [108.528258, -7.169779], [108.517594, -7.16537], [108.5132, -7.15744], [108.51307, -7.14554], [108.509879, -7.13548], [108.503541, -7.13296], [108.488319, -7.13052], [108.480011, -7.12415], [108.467216, -7.12395], [108.442093, -7.12049], [108.435158, -7.11481], [108.43348, -7.10952], [108.424767, -7.10241], [108.424988, -7.09735], [108.41623, -7.09857], [108.413048, -7.091388], [108.403022, -7.087671], [108.398683, -7.08043], [108.385933, -7.071639]]], \"type\": \"Polygon\"}, \"id\": \"07\", \"properties\": {\"NAME\": \"KABUPATEN CIAMIS\"}, \"type\": \"Feature\"}, {\"geometry\": {\"coordinates\": [[[108.76111, -6.98306], [108.756074, -6.98929], [108.740883, -6.99485], [108.730301, -6.99694], [108.7203980000001, -6.99132], [108.728341, -6.966229], [108.7203530000001, -6.95487], [108.704171, -6.93783], [108.695107, -6.933128999999894], [108.688431, -6.93286], [108.68039, -6.92258], [108.678857, -6.92742], [108.67093, -6.93198], [108.668067, -6.93809], [108.6561430000001, -6.93415], [108.656861, -6.92724], [108.664674, -6.92182], [108.66482, -6.91578], [108.653237, -6.9131], [108.653298, -6.90137], [108.637306, -6.90198], [108.62510800000013, -6.90616], [108.609482, -6.89877], [108.60321, -6.89844], [108.58379, -6.89343], [108.575942, -6.887759], [108.566299, -6.86794], [108.56846, -6.859708999999896], [108.564476, -6.85638], [108.546968, -6.855039], [108.537956, -6.84753], [108.52487100000013, -6.84291], [108.510239, -6.840929], [108.50996, -6.82943], [108.5065770000001, -6.818329], [108.51276, -6.80745], [108.510276, -6.792389999999898], [108.49903100000012, -6.79267], [108.48345300000011, -6.79038], [108.480827, -6.796311], [108.47673, -6.79546], [108.474167, -6.78672], [108.470092, -6.78806], [108.463836, -6.798138], [108.457801, -6.798549], [108.453423, -6.78286], [108.438928, -6.7867], [108.417969, -6.785479999999893], [108.40856, -6.79407], [108.40338200000014, -6.78904], [108.395218, -6.7983], [108.398484, -6.80922], [108.3986670000001, -6.82763], [108.404319, -6.84225], [108.406067, -6.85387], [108.41101, -6.8662], [108.40960600000011, -6.87852], [108.402518, -6.92073], [108.40358, -6.92751], [108.400681, -6.936781], [108.392533, -6.944739], [108.387681, -6.956249], [108.386856, -6.975769999999898], [108.384682, -6.98565], [108.3843240000001, -7.005879], [108.389473, -7.02116], [108.394546, -7.02949], [108.387191, -7.03623], [108.391777, -7.04621], [108.393272, -7.05629], [108.385933, -7.071639], [108.398683, -7.08043], [108.403022, -7.087671], [108.413048, -7.091388], [108.41623, -7.09857], [108.424988, -7.09735], [108.424767, -7.10241], [108.43348, -7.10952], [108.43515800000011, -7.11481], [108.44209300000011, -7.12049], [108.46721600000012, -7.12395], [108.4800110000001, -7.12415], [108.488319, -7.13052], [108.503541, -7.13296], [108.50987900000013, -7.13548], [108.51307, -7.14554], [108.5132, -7.157439999999895], [108.517594, -7.16537], [108.528258, -7.169779], [108.525498, -7.17639], [108.53572, -7.184709], [108.54633, -7.18705], [108.55521, -7.19209], [108.563735, -7.19414], [108.56668000000013, -7.19316], [108.56458, -7.17281], [108.56825, -7.16504], [108.58075, -7.16053], [108.585868, -7.15483], [108.593986, -7.15194], [108.60153900000012, -7.15227], [108.614724, -7.14149], [108.6253650000001, -7.13698], [108.632463, -7.13852], [108.6426, -7.13741], [108.65297700000013, -7.14389], [108.6606, -7.15377], [108.67796, -7.15477], [108.68492, -7.14998], [108.6963740000001, -7.15118], [108.713463, -7.13611], [108.72033, -7.126799], [108.724708, -7.12512], [108.72648, -7.11672], [108.73373, -7.11251], [108.7433, -7.1156], [108.748193, -7.11168], [108.764222, -7.11475], [108.777687, -7.10483], [108.7813, -7.09195], [108.777999, -7.08442], [108.777589, -7.075341], [108.78282, -7.07021], [108.78682600000013, -7.056629], [108.786361, -7.05186], [108.780768, -7.04784], [108.781096, -7.03927], [108.788171, -7.03121], [108.796982, -7.02481], [108.795578, -7.01199], [108.79862300000013, -7.00497], [108.786849, -6.995329], [108.767745, -6.9892], [108.76111, -6.98306]]], \"type\": \"Polygon\"}, \"id\": \"08\", \"properties\": {\"NAME\": \"KABUPATEN KUNINGAN\"}, \"type\": \"Feature\"}, {\"geometry\": {\"coordinates\": [[[108.539239, -6.51575], [108.530731, -6.51737], [108.51920300000012, -6.51401], [108.512466, -6.51592], [108.507796, -6.52801], [108.500054, -6.53378], [108.49801, -6.54115], [108.490593, -6.5422], [108.49223, -6.55151], [108.489723, -6.55547], [108.47326, -6.55972], [108.47006, -6.56715], [108.452468, -6.57289], [108.44883, -6.57037], [108.446731, -6.5319], [108.437553, -6.52352], [108.4362, -6.51754], [108.41078900000014, -6.52819], [108.400337, -6.53563], [108.392449, -6.535999], [108.383499, -6.54378], [108.373382, -6.548471], [108.37029400000011, -6.55348], [108.360398, -6.55799], [108.355377, -6.567661], [108.35191, -6.579859], [108.3480540000001, -6.58004], [108.334671, -6.58882], [108.32997, -6.59447], [108.330049, -6.59953], [108.33685400000013, -6.602039], [108.335717, -6.60572], [108.320953, -6.61646], [108.323533, -6.62749], [108.32933, -6.63927], [108.329529, -6.6456], [108.33492, -6.65507], [108.33393, -6.66819], [108.337166, -6.67359], [108.35522, -6.680271], [108.36239, -6.687149], [108.366332, -6.695019], [108.366531, -6.70262], [108.361077, -6.70867], [108.363372, -6.7185], [108.367652, -6.72516], [108.376137, -6.732209999999895], [108.375107, -6.73778], [108.36628, -6.742471], [108.37305, -6.75361], [108.375686, -6.764990999999895], [108.383811, -6.76659], [108.39005400000013, -6.77186], [108.400139, -6.775689], [108.40338200000014, -6.78904], [108.40856, -6.79407], [108.417969, -6.785479999999893], [108.438928, -6.7867], [108.453423, -6.78286], [108.457801, -6.798549], [108.463836, -6.798138], [108.470092, -6.78806], [108.474167, -6.78672], [108.47673, -6.79546], [108.480827, -6.796311], [108.48345300000011, -6.79038], [108.49903100000012, -6.79267], [108.510276, -6.792389999999898], [108.51276, -6.80745], [108.5065770000001, -6.818329], [108.50996, -6.82943], [108.510239, -6.840929], [108.52487100000013, -6.84291], [108.537956, -6.84753], [108.546968, -6.855039], [108.564476, -6.85638], [108.56846, -6.859708999999896], [108.566299, -6.86794], [108.575942, -6.887759], [108.58379, -6.89343], [108.60321, -6.89844], [108.609482, -6.89877], [108.62510800000013, -6.90616], [108.637306, -6.90198], [108.653298, -6.90137], [108.653237, -6.9131], [108.66482, -6.91578], [108.664674, -6.92182], [108.656861, -6.92724], [108.6561430000001, -6.93415], [108.668067, -6.93809], [108.67093, -6.93198], [108.678857, -6.92742], [108.68039, -6.92258], [108.688431, -6.93286], [108.695107, -6.933128999999894], [108.704171, -6.93783], [108.7203530000001, -6.95487], [108.728341, -6.966229], [108.7203980000001, -6.99132], [108.730301, -6.99694], [108.740883, -6.99485], [108.756074, -6.98929], [108.76111, -6.98306], [108.7622070000001, -6.97052], [108.7608800000001, -6.95408], [108.76325300000013, -6.94096], [108.755821, -6.92545], [108.75497, -6.91349], [108.760498, -6.91273], [108.767358, -6.90104], [108.765161, -6.89638], [108.777108, -6.88957], [108.77749, -6.883469], [108.78444700000011, -6.883399], [108.795646, -6.87566], [108.798851, -6.868], [108.80407, -6.86362], [108.80979100000013, -6.85366], [108.813895, -6.84272], [108.824623, -6.82929], [108.826476, -6.82279], [108.82585200000011, -6.80772], [108.83048300000013, -6.79742], [108.826417, -6.78822], [108.828979, -6.78068], [108.828881, -6.76901], [108.826866, -6.75682], [108.830613, -6.74465], [108.828582, -6.74636], [108.815543, -6.74634], [108.808594, -6.74331], [108.80123, -6.744212], [108.80285, -6.75092], [108.789718, -6.75786], [108.78958200000011, -6.76071], [108.80772, -6.76557], [108.803674, -6.77342], [108.80743, -6.78039], [108.80546, -6.785109], [108.79718, -6.792466], [108.769806, -6.80859], [108.75900200000012, -6.81299], [108.749496, -6.8147], [108.74102, -6.81269], [108.731507, -6.80727], [108.70913, -6.80969], [108.693099, -6.80409], [108.68176, -6.79505], [108.677079, -6.78332], [108.67675800000012, -6.77562], [108.679406, -6.7688], [108.677697, -6.76271], [108.66278, -6.75972], [108.65027600000013, -6.751111], [108.649201, -6.75852], [108.63318700000013, -6.77049], [108.6261060000001, -6.771391], [108.61723, -6.765], [108.6111140000001, -6.76778], [108.60250100000013, -6.76306], [108.597496, -6.75778], [108.594718, -6.749167], [108.583892, -6.7325], [108.577941, -6.74039], [108.569429, -6.74442], [108.561112, -6.75377], [108.551148, -6.77913], [108.543763, -6.78727], [108.5373, -6.790259], [108.528618, -6.78683], [108.529931, -6.77001], [108.52561, -6.750039999999899], [108.538612, -6.73948], [108.553819, -6.732869], [108.55954800000012, -6.72635], [108.561226, -6.720379], [108.56916, -6.70834], [108.561385, -6.685], [108.55666, -6.66], [108.558051, -6.64472], [108.55194100000011, -6.624999], [108.544472, -6.59309], [108.54364, -6.575854], [108.547127, -6.560671], [108.544534, -6.54303], [108.54606700000011, -6.53471], [108.539239, -6.51575]]], \"type\": \"Polygon\"}, \"id\": \"09\", \"properties\": {\"NAME\": \"KABUPATEN CIREBON\"}, \"type\": \"Feature\"}], \"type\": \"FeatureCollection\"}, \"hoverlabel\": {\"namelength\": 0}, \"hovertemplate\": \"<b>%{hovertext}</b><br><br>id=%{location}<br>Konfirmasi Total=%{z}<br>Konfirmasi Sembuh=%{customdata[2]}\", \"hovertext\": [\"KABUPATEN BANDUNG\", \"KABUPATEN BANDUNG BARAT\", \"KABUPATEN BEKASI\", \"KABUPATEN BOGOR\", \"KABUPATEN CIAMIS\", \"KABUPATEN CIANJUR\", \"KABUPATEN CIREBON\", \"KABUPATEN GARUT\", \"KABUPATEN INDRAMAYU\", \"KABUPATEN KARAWANG\", \"KABUPATEN KUNINGAN\", \"KABUPATEN MAJALENGKA\", \"KABUPATEN PANGANDARAN\", \"KABUPATEN PURWAKARTA\", \"KABUPATEN SUBANG\", \"KABUPATEN SUKABUMI\", \"KABUPATEN SUMEDANG\", \"KABUPATEN TASIKMALAYA\", \"KOTA BANDUNG\", \"KOTA BANJAR\", \"KOTA BEKASI\", \"KOTA BOGOR\", \"KOTA CIMAHI\", \"KOTA CIREBON\", \"KOTA DEPOK\", \"KOTA SUKABUMI\", \"KOTA TASIKMALAYA\"], \"locations\": [\"04\", \"17\", \"16\", \"01\", \"07\", \"03\", \"09\", \"05\", \"12\", \"15\", \"08\", \"10\", \"18\", \"14\", \"13\", \"02\", \"11\", \"06\", \"73\", \"79\", \"75\", \"71\", \"77\", \"74\", \"76\", \"72\", \"78\"], \"marker\": {\"opacity\": 0.8}, \"name\": \"\", \"subplot\": \"mapbox\", \"type\": \"choroplethmapbox\", \"z\": [649.0, 607.0, 912.0, 1112.0, 468.0, 224.0, 405.0, 201.0, 174.0, 331.0, 192.0, 183.0, 113.0, 163.0, 156.0, 304.0, 228.0, 278.0, 1111.0, 73.0, 1225.0, 701.0, 161.0, 124.0, 1305.0, 193.0, 255.0]}],\n",
              "                        {\"coloraxis\": {\"cmax\": 3828, \"cmin\": 0, \"colorbar\": {\"title\": {\"text\": \"Konfirmasi Total\"}}, \"colorscale\": [[0.0, \"rgb(255,245,240)\"], [0.125, \"rgb(254,224,210)\"], [0.25, \"rgb(252,187,161)\"], [0.375, \"rgb(252,146,114)\"], [0.5, \"rgb(251,106,74)\"], [0.625, \"rgb(239,59,44)\"], [0.75, \"rgb(203,24,29)\"], [0.875, \"rgb(165,15,21)\"], [1.0, \"rgb(103,0,13)\"]]}, \"height\": 550.0, \"legend\": {\"tracegroupgap\": 0}, \"mapbox\": {\"center\": {\"lat\": -6.871893, \"lon\": 107.6455}, \"domain\": {\"x\": [0.0, 1.0], \"y\": [0.0, 1.0]}, \"style\": \"carto-positron\", \"zoom\": 7.25}, \"margin\": {\"b\": 10, \"l\": 10, \"r\": 10, \"t\": 35}, \"template\": {\"data\": {\"bar\": [{\"error_x\": {\"color\": \"#2a3f5f\"}, \"error_y\": {\"color\": \"#2a3f5f\"}, \"marker\": {\"line\": {\"color\": \"#E5ECF6\", \"width\": 0.5}}, \"type\": \"bar\"}], \"barpolar\": [{\"marker\": {\"line\": {\"color\": \"#E5ECF6\", \"width\": 0.5}}, \"type\": \"barpolar\"}], \"carpet\": [{\"aaxis\": {\"endlinecolor\": \"#2a3f5f\", \"gridcolor\": \"white\", \"linecolor\": \"white\", \"minorgridcolor\": \"white\", \"startlinecolor\": \"#2a3f5f\"}, \"baxis\": {\"endlinecolor\": \"#2a3f5f\", \"gridcolor\": \"white\", \"linecolor\": \"white\", \"minorgridcolor\": \"white\", \"startlinecolor\": \"#2a3f5f\"}, \"type\": \"carpet\"}], \"choropleth\": [{\"colorbar\": {\"outlinewidth\": 0, \"ticks\": \"\"}, \"type\": \"choropleth\"}], \"contour\": [{\"colorbar\": {\"outlinewidth\": 0, \"ticks\": \"\"}, \"colorscale\": [[0.0, \"#0d0887\"], [0.1111111111111111, \"#46039f\"], [0.2222222222222222, \"#7201a8\"], [0.3333333333333333, \"#9c179e\"], [0.4444444444444444, \"#bd3786\"], [0.5555555555555556, \"#d8576b\"], [0.6666666666666666, \"#ed7953\"], [0.7777777777777778, \"#fb9f3a\"], [0.8888888888888888, \"#fdca26\"], [1.0, \"#f0f921\"]], \"type\": \"contour\"}], \"contourcarpet\": [{\"colorbar\": {\"outlinewidth\": 0, \"ticks\": \"\"}, \"type\": \"contourcarpet\"}], \"heatmap\": [{\"colorbar\": {\"outlinewidth\": 0, \"ticks\": \"\"}, \"colorscale\": [[0.0, \"#0d0887\"], [0.1111111111111111, \"#46039f\"], [0.2222222222222222, \"#7201a8\"], [0.3333333333333333, \"#9c179e\"], [0.4444444444444444, \"#bd3786\"], [0.5555555555555556, \"#d8576b\"], [0.6666666666666666, \"#ed7953\"], [0.7777777777777778, \"#fb9f3a\"], [0.8888888888888888, \"#fdca26\"], [1.0, \"#f0f921\"]], \"type\": \"heatmap\"}], \"heatmapgl\": [{\"colorbar\": {\"outlinewidth\": 0, \"ticks\": \"\"}, \"colorscale\": [[0.0, \"#0d0887\"], [0.1111111111111111, \"#46039f\"], [0.2222222222222222, \"#7201a8\"], [0.3333333333333333, \"#9c179e\"], [0.4444444444444444, \"#bd3786\"], [0.5555555555555556, \"#d8576b\"], [0.6666666666666666, \"#ed7953\"], [0.7777777777777778, \"#fb9f3a\"], [0.8888888888888888, \"#fdca26\"], [1.0, \"#f0f921\"]], \"type\": \"heatmapgl\"}], \"histogram\": [{\"marker\": {\"colorbar\": {\"outlinewidth\": 0, \"ticks\": \"\"}}, \"type\": \"histogram\"}], \"histogram2d\": [{\"colorbar\": {\"outlinewidth\": 0, \"ticks\": \"\"}, \"colorscale\": [[0.0, \"#0d0887\"], [0.1111111111111111, \"#46039f\"], [0.2222222222222222, \"#7201a8\"], [0.3333333333333333, \"#9c179e\"], [0.4444444444444444, \"#bd3786\"], [0.5555555555555556, \"#d8576b\"], [0.6666666666666666, \"#ed7953\"], [0.7777777777777778, \"#fb9f3a\"], [0.8888888888888888, \"#fdca26\"], [1.0, \"#f0f921\"]], \"type\": \"histogram2d\"}], \"histogram2dcontour\": [{\"colorbar\": {\"outlinewidth\": 0, \"ticks\": \"\"}, \"colorscale\": [[0.0, \"#0d0887\"], [0.1111111111111111, \"#46039f\"], [0.2222222222222222, \"#7201a8\"], [0.3333333333333333, \"#9c179e\"], [0.4444444444444444, \"#bd3786\"], [0.5555555555555556, \"#d8576b\"], [0.6666666666666666, \"#ed7953\"], [0.7777777777777778, \"#fb9f3a\"], [0.8888888888888888, \"#fdca26\"], [1.0, \"#f0f921\"]], \"type\": \"histogram2dcontour\"}], \"mesh3d\": [{\"colorbar\": {\"outlinewidth\": 0, \"ticks\": \"\"}, \"type\": \"mesh3d\"}], \"parcoords\": [{\"line\": {\"colorbar\": {\"outlinewidth\": 0, \"ticks\": \"\"}}, \"type\": \"parcoords\"}], \"pie\": [{\"automargin\": true, \"type\": \"pie\"}], \"scatter\": [{\"marker\": {\"colorbar\": {\"outlinewidth\": 0, \"ticks\": \"\"}}, \"type\": \"scatter\"}], \"scatter3d\": [{\"line\": {\"colorbar\": {\"outlinewidth\": 0, \"ticks\": \"\"}}, \"marker\": {\"colorbar\": {\"outlinewidth\": 0, \"ticks\": \"\"}}, \"type\": \"scatter3d\"}], \"scattercarpet\": [{\"marker\": {\"colorbar\": {\"outlinewidth\": 0, \"ticks\": \"\"}}, \"type\": \"scattercarpet\"}], \"scattergeo\": [{\"marker\": {\"colorbar\": {\"outlinewidth\": 0, \"ticks\": \"\"}}, \"type\": \"scattergeo\"}], \"scattergl\": [{\"marker\": {\"colorbar\": {\"outlinewidth\": 0, \"ticks\": \"\"}}, \"type\": \"scattergl\"}], \"scattermapbox\": [{\"marker\": {\"colorbar\": {\"outlinewidth\": 0, \"ticks\": \"\"}}, \"type\": \"scattermapbox\"}], \"scatterpolar\": [{\"marker\": {\"colorbar\": {\"outlinewidth\": 0, \"ticks\": \"\"}}, \"type\": \"scatterpolar\"}], \"scatterpolargl\": [{\"marker\": {\"colorbar\": {\"outlinewidth\": 0, \"ticks\": \"\"}}, \"type\": \"scatterpolargl\"}], \"scatterternary\": [{\"marker\": {\"colorbar\": {\"outlinewidth\": 0, \"ticks\": \"\"}}, \"type\": \"scatterternary\"}], \"surface\": [{\"colorbar\": {\"outlinewidth\": 0, \"ticks\": \"\"}, \"colorscale\": [[0.0, \"#0d0887\"], [0.1111111111111111, \"#46039f\"], [0.2222222222222222, \"#7201a8\"], [0.3333333333333333, \"#9c179e\"], [0.4444444444444444, \"#bd3786\"], [0.5555555555555556, \"#d8576b\"], [0.6666666666666666, \"#ed7953\"], [0.7777777777777778, \"#fb9f3a\"], [0.8888888888888888, \"#fdca26\"], [1.0, \"#f0f921\"]], \"type\": \"surface\"}], \"table\": [{\"cells\": {\"fill\": {\"color\": \"#EBF0F8\"}, \"line\": {\"color\": \"white\"}}, \"header\": {\"fill\": {\"color\": \"#C8D4E3\"}, \"line\": {\"color\": \"white\"}}, \"type\": \"table\"}]}, \"layout\": {\"annotationdefaults\": {\"arrowcolor\": \"#2a3f5f\", \"arrowhead\": 0, \"arrowwidth\": 1}, \"coloraxis\": {\"colorbar\": {\"outlinewidth\": 0, \"ticks\": \"\"}}, \"colorscale\": {\"diverging\": [[0, \"#8e0152\"], [0.1, \"#c51b7d\"], [0.2, \"#de77ae\"], [0.3, \"#f1b6da\"], [0.4, \"#fde0ef\"], [0.5, \"#f7f7f7\"], [0.6, \"#e6f5d0\"], [0.7, \"#b8e186\"], [0.8, \"#7fbc41\"], [0.9, \"#4d9221\"], [1, \"#276419\"]], \"sequential\": [[0.0, \"#0d0887\"], [0.1111111111111111, \"#46039f\"], [0.2222222222222222, \"#7201a8\"], [0.3333333333333333, \"#9c179e\"], [0.4444444444444444, \"#bd3786\"], [0.5555555555555556, \"#d8576b\"], [0.6666666666666666, \"#ed7953\"], [0.7777777777777778, \"#fb9f3a\"], [0.8888888888888888, \"#fdca26\"], [1.0, \"#f0f921\"]], \"sequentialminus\": [[0.0, \"#0d0887\"], [0.1111111111111111, \"#46039f\"], [0.2222222222222222, \"#7201a8\"], [0.3333333333333333, \"#9c179e\"], [0.4444444444444444, \"#bd3786\"], [0.5555555555555556, \"#d8576b\"], [0.6666666666666666, \"#ed7953\"], [0.7777777777777778, \"#fb9f3a\"], [0.8888888888888888, \"#fdca26\"], [1.0, \"#f0f921\"]]}, \"colorway\": [\"#636efa\", \"#EF553B\", \"#00cc96\", \"#ab63fa\", \"#FFA15A\", \"#19d3f3\", \"#FF6692\", \"#B6E880\", \"#FF97FF\", \"#FECB52\"], \"font\": {\"color\": \"#2a3f5f\"}, \"geo\": {\"bgcolor\": \"white\", \"lakecolor\": \"white\", \"landcolor\": \"#E5ECF6\", \"showlakes\": true, \"showland\": true, \"subunitcolor\": \"white\"}, \"hoverlabel\": {\"align\": \"left\"}, \"hovermode\": \"closest\", \"mapbox\": {\"style\": \"light\"}, \"paper_bgcolor\": \"white\", \"plot_bgcolor\": \"#E5ECF6\", \"polar\": {\"angularaxis\": {\"gridcolor\": \"white\", \"linecolor\": \"white\", \"ticks\": \"\"}, \"bgcolor\": \"#E5ECF6\", \"radialaxis\": {\"gridcolor\": \"white\", \"linecolor\": \"white\", \"ticks\": \"\"}}, \"scene\": {\"xaxis\": {\"backgroundcolor\": \"#E5ECF6\", \"gridcolor\": \"white\", \"gridwidth\": 2, \"linecolor\": \"white\", \"showbackground\": true, \"ticks\": \"\", \"zerolinecolor\": \"white\"}, \"yaxis\": {\"backgroundcolor\": \"#E5ECF6\", \"gridcolor\": \"white\", \"gridwidth\": 2, \"linecolor\": \"white\", \"showbackground\": true, \"ticks\": \"\", \"zerolinecolor\": \"white\"}, \"zaxis\": {\"backgroundcolor\": \"#E5ECF6\", \"gridcolor\": \"white\", \"gridwidth\": 2, \"linecolor\": \"white\", \"showbackground\": true, \"ticks\": \"\", \"zerolinecolor\": \"white\"}}, \"shapedefaults\": {\"line\": {\"color\": \"#2a3f5f\"}}, \"ternary\": {\"aaxis\": {\"gridcolor\": \"white\", \"linecolor\": \"white\", \"ticks\": \"\"}, \"baxis\": {\"gridcolor\": \"white\", \"linecolor\": \"white\", \"ticks\": \"\"}, \"bgcolor\": \"#E5ECF6\", \"caxis\": {\"gridcolor\": \"white\", \"linecolor\": \"white\", \"ticks\": \"\"}}, \"title\": {\"x\": 0.05}, \"xaxis\": {\"automargin\": true, \"gridcolor\": \"white\", \"linecolor\": \"white\", \"ticks\": \"\", \"title\": {\"standoff\": 15}, \"zerolinecolor\": \"white\", \"zerolinewidth\": 2}, \"yaxis\": {\"automargin\": true, \"gridcolor\": \"white\", \"linecolor\": \"white\", \"ticks\": \"\", \"title\": {\"standoff\": 15}, \"zerolinecolor\": \"white\", \"zerolinewidth\": 2}}}, \"title\": {\"text\": \"Peta Sebaran Kasus Covid-19 Update September 2021\", \"x\": 0.5, \"xanchor\": \"center\", \"y\": 0.98, \"yanchor\": \"top\"}, \"width\": 1000},\n",
              "                        {\"responsive\": true}\n",
              "                    ).then(function(){\n",
              "                            \n",
              "var gd = document.getElementById('0350d0ce-f2ac-45a3-8886-732df2ebbdc3');\n",
              "var x = new MutationObserver(function (mutations, observer) {{\n",
              "        var display = window.getComputedStyle(gd).display;\n",
              "        if (!display || display === 'none') {{\n",
              "            console.log([gd, 'removed!']);\n",
              "            Plotly.purge(gd);\n",
              "            observer.disconnect();\n",
              "        }}\n",
              "}});\n",
              "\n",
              "// Listen for the removal of the full notebook cells\n",
              "var notebookContainer = gd.closest('#notebook-container');\n",
              "if (notebookContainer) {{\n",
              "    x.observe(notebookContainer, {childList: true});\n",
              "}}\n",
              "\n",
              "// Listen for the clearing of the current output cell\n",
              "var outputEl = gd.closest('.output');\n",
              "if (outputEl) {{\n",
              "    x.observe(outputEl, {childList: true});\n",
              "}}\n",
              "\n",
              "                        })\n",
              "                };\n",
              "                \n",
              "            </script>\n",
              "        </div>\n",
              "</body>\n",
              "</html>"
            ]
          },
          "metadata": {}
        },
        {
          "output_type": "display_data",
          "data": {
            "text/html": [
              "<html>\n",
              "<head><meta charset=\"utf-8\" /></head>\n",
              "<body>\n",
              "    <div>\n",
              "            <script src=\"https://cdnjs.cloudflare.com/ajax/libs/mathjax/2.7.5/MathJax.js?config=TeX-AMS-MML_SVG\"></script><script type=\"text/javascript\">if (window.MathJax) {MathJax.Hub.Config({SVG: {font: \"STIX-Web\"}});}</script>\n",
              "                <script type=\"text/javascript\">window.PlotlyConfig = {MathJaxConfig: 'local'};</script>\n",
              "        <script src=\"https://cdn.plot.ly/plotly-latest.min.js\"></script>    \n",
              "            <div id=\"32009064-985d-44ce-a77c-ec1bdfbd2826\" class=\"plotly-graph-div\" style=\"height:300px; width:1000px;\"></div>\n",
              "            <script type=\"text/javascript\">\n",
              "                \n",
              "                    window.PLOTLYENV=window.PLOTLYENV || {};\n",
              "                    \n",
              "                if (document.getElementById(\"32009064-985d-44ce-a77c-ec1bdfbd2826\")) {\n",
              "                    Plotly.newPlot(\n",
              "                        '32009064-985d-44ce-a77c-ec1bdfbd2826',\n",
              "                        [{\"name\": \"Positif\", \"type\": \"scatter\", \"x\": [\"2020-03-31T00:00:00\", \"2020-04-30T00:00:00\", \"2020-05-31T00:00:00\", \"2020-06-30T00:00:00\", \"2020-07-31T00:00:00\", \"2020-08-31T00:00:00\", \"2020-09-30T00:00:00\", \"2020-10-31T00:00:00\", \"2020-11-30T00:00:00\", \"2020-12-31T00:00:00\", \"2021-01-31T00:00:00\", \"2021-02-28T00:00:00\", \"2021-03-31T00:00:00\", \"2021-04-30T00:00:00\", \"2021-05-31T00:00:00\", \"2021-06-30T00:00:00\", \"2021-07-31T00:00:00\", \"2021-08-31T00:00:00\", \"2021-09-30T00:00:00\"], \"y\": [186.0, 802.0, 1226.0, 853.0, 1827.0, 4417.0, 10892.0, 14065.0, 16097.0, 31062.0, 66745.0, 60876.0, 39069.0, 30923.0, 32744.0, 67506.0, 227564.0, 81895.0, 11848.0]}, {\"name\": \"Sembuh\", \"type\": \"scatter\", \"x\": [\"2020-03-31T00:00:00\", \"2020-04-30T00:00:00\", \"2020-05-31T00:00:00\", \"2020-06-30T00:00:00\", \"2020-07-31T00:00:00\", \"2020-08-31T00:00:00\", \"2020-09-30T00:00:00\", \"2020-10-31T00:00:00\", \"2020-11-30T00:00:00\", \"2020-12-31T00:00:00\", \"2021-01-31T00:00:00\", \"2021-02-28T00:00:00\", \"2021-03-31T00:00:00\", \"2021-04-30T00:00:00\", \"2021-05-31T00:00:00\", \"2021-06-30T00:00:00\", \"2021-07-31T00:00:00\", \"2021-08-31T00:00:00\", \"2021-09-30T00:00:00\"], \"y\": [15.0, 132.0, 459.0, 973.0, 1700.0, 1241.0, 7362.0, 11749.0, 19319.0, 25695.0, 46452.0, 54797.0, 50024.0, 24932.0, 32868.0, 44405.0, 151560.0, 180198.0, 29174.0]}, {\"name\": \"Meinggal\", \"type\": \"scatter\", \"x\": [\"2020-03-31T00:00:00\", \"2020-04-30T00:00:00\", \"2020-05-31T00:00:00\", \"2020-06-30T00:00:00\", \"2020-07-31T00:00:00\", \"2020-08-31T00:00:00\", \"2020-09-30T00:00:00\", \"2020-10-31T00:00:00\", \"2020-11-30T00:00:00\", \"2020-12-31T00:00:00\", \"2021-01-31T00:00:00\", \"2021-02-28T00:00:00\", \"2021-03-31T00:00:00\", \"2021-04-30T00:00:00\", \"2021-05-31T00:00:00\", \"2021-06-30T00:00:00\", \"2021-07-31T00:00:00\", \"2021-08-31T00:00:00\", \"2021-09-30T00:00:00\"], \"y\": [18.0, 65.0, 61.0, 32.0, 29.0, 61.0, 146.0, 299.0, 189.0, 263.0, 760.0, 428.0, 795.0, 591.0, 453.0, 1153.0, 4011.0, 4115.0, 1146.0]}],\n",
              "                        {\"height\": 300, \"margin\": {\"b\": 0, \"l\": 0, \"r\": 10, \"t\": 25}, \"template\": {\"data\": {\"bar\": [{\"error_x\": {\"color\": \"#2a3f5f\"}, \"error_y\": {\"color\": \"#2a3f5f\"}, \"marker\": {\"line\": {\"color\": \"#E5ECF6\", \"width\": 0.5}}, \"type\": \"bar\"}], \"barpolar\": [{\"marker\": {\"line\": {\"color\": \"#E5ECF6\", \"width\": 0.5}}, \"type\": \"barpolar\"}], \"carpet\": [{\"aaxis\": {\"endlinecolor\": \"#2a3f5f\", \"gridcolor\": \"white\", \"linecolor\": \"white\", \"minorgridcolor\": \"white\", \"startlinecolor\": \"#2a3f5f\"}, \"baxis\": {\"endlinecolor\": \"#2a3f5f\", \"gridcolor\": \"white\", \"linecolor\": \"white\", \"minorgridcolor\": \"white\", \"startlinecolor\": \"#2a3f5f\"}, \"type\": \"carpet\"}], \"choropleth\": [{\"colorbar\": {\"outlinewidth\": 0, \"ticks\": \"\"}, \"type\": \"choropleth\"}], \"contour\": [{\"colorbar\": {\"outlinewidth\": 0, \"ticks\": \"\"}, \"colorscale\": [[0.0, \"#0d0887\"], [0.1111111111111111, \"#46039f\"], [0.2222222222222222, \"#7201a8\"], [0.3333333333333333, \"#9c179e\"], [0.4444444444444444, \"#bd3786\"], [0.5555555555555556, \"#d8576b\"], [0.6666666666666666, \"#ed7953\"], [0.7777777777777778, \"#fb9f3a\"], [0.8888888888888888, \"#fdca26\"], [1.0, \"#f0f921\"]], \"type\": \"contour\"}], \"contourcarpet\": [{\"colorbar\": {\"outlinewidth\": 0, \"ticks\": \"\"}, \"type\": \"contourcarpet\"}], \"heatmap\": [{\"colorbar\": {\"outlinewidth\": 0, \"ticks\": \"\"}, \"colorscale\": [[0.0, \"#0d0887\"], [0.1111111111111111, \"#46039f\"], [0.2222222222222222, \"#7201a8\"], [0.3333333333333333, \"#9c179e\"], [0.4444444444444444, \"#bd3786\"], [0.5555555555555556, \"#d8576b\"], [0.6666666666666666, \"#ed7953\"], [0.7777777777777778, \"#fb9f3a\"], [0.8888888888888888, \"#fdca26\"], [1.0, \"#f0f921\"]], \"type\": \"heatmap\"}], \"heatmapgl\": [{\"colorbar\": {\"outlinewidth\": 0, \"ticks\": \"\"}, \"colorscale\": [[0.0, \"#0d0887\"], [0.1111111111111111, \"#46039f\"], [0.2222222222222222, \"#7201a8\"], [0.3333333333333333, \"#9c179e\"], [0.4444444444444444, \"#bd3786\"], [0.5555555555555556, \"#d8576b\"], [0.6666666666666666, \"#ed7953\"], [0.7777777777777778, \"#fb9f3a\"], [0.8888888888888888, \"#fdca26\"], [1.0, \"#f0f921\"]], \"type\": \"heatmapgl\"}], \"histogram\": [{\"marker\": {\"colorbar\": {\"outlinewidth\": 0, \"ticks\": \"\"}}, \"type\": \"histogram\"}], \"histogram2d\": [{\"colorbar\": {\"outlinewidth\": 0, \"ticks\": \"\"}, \"colorscale\": [[0.0, \"#0d0887\"], [0.1111111111111111, \"#46039f\"], [0.2222222222222222, \"#7201a8\"], [0.3333333333333333, \"#9c179e\"], [0.4444444444444444, \"#bd3786\"], [0.5555555555555556, \"#d8576b\"], [0.6666666666666666, \"#ed7953\"], [0.7777777777777778, \"#fb9f3a\"], [0.8888888888888888, \"#fdca26\"], [1.0, \"#f0f921\"]], \"type\": \"histogram2d\"}], \"histogram2dcontour\": [{\"colorbar\": {\"outlinewidth\": 0, \"ticks\": \"\"}, \"colorscale\": [[0.0, \"#0d0887\"], [0.1111111111111111, \"#46039f\"], [0.2222222222222222, \"#7201a8\"], [0.3333333333333333, \"#9c179e\"], [0.4444444444444444, \"#bd3786\"], [0.5555555555555556, \"#d8576b\"], [0.6666666666666666, \"#ed7953\"], [0.7777777777777778, \"#fb9f3a\"], [0.8888888888888888, \"#fdca26\"], [1.0, \"#f0f921\"]], \"type\": \"histogram2dcontour\"}], \"mesh3d\": [{\"colorbar\": {\"outlinewidth\": 0, \"ticks\": \"\"}, \"type\": \"mesh3d\"}], \"parcoords\": [{\"line\": {\"colorbar\": {\"outlinewidth\": 0, \"ticks\": \"\"}}, \"type\": \"parcoords\"}], \"pie\": [{\"automargin\": true, \"type\": \"pie\"}], \"scatter\": [{\"marker\": {\"colorbar\": {\"outlinewidth\": 0, \"ticks\": \"\"}}, \"type\": \"scatter\"}], \"scatter3d\": [{\"line\": {\"colorbar\": {\"outlinewidth\": 0, \"ticks\": \"\"}}, \"marker\": {\"colorbar\": {\"outlinewidth\": 0, \"ticks\": \"\"}}, \"type\": \"scatter3d\"}], \"scattercarpet\": [{\"marker\": {\"colorbar\": {\"outlinewidth\": 0, \"ticks\": \"\"}}, \"type\": \"scattercarpet\"}], \"scattergeo\": [{\"marker\": {\"colorbar\": {\"outlinewidth\": 0, \"ticks\": \"\"}}, \"type\": \"scattergeo\"}], \"scattergl\": [{\"marker\": {\"colorbar\": {\"outlinewidth\": 0, \"ticks\": \"\"}}, \"type\": \"scattergl\"}], \"scattermapbox\": [{\"marker\": {\"colorbar\": {\"outlinewidth\": 0, \"ticks\": \"\"}}, \"type\": \"scattermapbox\"}], \"scatterpolar\": [{\"marker\": {\"colorbar\": {\"outlinewidth\": 0, \"ticks\": \"\"}}, \"type\": \"scatterpolar\"}], \"scatterpolargl\": [{\"marker\": {\"colorbar\": {\"outlinewidth\": 0, \"ticks\": \"\"}}, \"type\": \"scatterpolargl\"}], \"scatterternary\": [{\"marker\": {\"colorbar\": {\"outlinewidth\": 0, \"ticks\": \"\"}}, \"type\": \"scatterternary\"}], \"surface\": [{\"colorbar\": {\"outlinewidth\": 0, \"ticks\": \"\"}, \"colorscale\": [[0.0, \"#0d0887\"], [0.1111111111111111, \"#46039f\"], [0.2222222222222222, \"#7201a8\"], [0.3333333333333333, \"#9c179e\"], [0.4444444444444444, \"#bd3786\"], [0.5555555555555556, \"#d8576b\"], [0.6666666666666666, \"#ed7953\"], [0.7777777777777778, \"#fb9f3a\"], [0.8888888888888888, \"#fdca26\"], [1.0, \"#f0f921\"]], \"type\": \"surface\"}], \"table\": [{\"cells\": {\"fill\": {\"color\": \"#EBF0F8\"}, \"line\": {\"color\": \"white\"}}, \"header\": {\"fill\": {\"color\": \"#C8D4E3\"}, \"line\": {\"color\": \"white\"}}, \"type\": \"table\"}]}, \"layout\": {\"annotationdefaults\": {\"arrowcolor\": \"#2a3f5f\", \"arrowhead\": 0, \"arrowwidth\": 1}, \"coloraxis\": {\"colorbar\": {\"outlinewidth\": 0, \"ticks\": \"\"}}, \"colorscale\": {\"diverging\": [[0, \"#8e0152\"], [0.1, \"#c51b7d\"], [0.2, \"#de77ae\"], [0.3, \"#f1b6da\"], [0.4, \"#fde0ef\"], [0.5, \"#f7f7f7\"], [0.6, \"#e6f5d0\"], [0.7, \"#b8e186\"], [0.8, \"#7fbc41\"], [0.9, \"#4d9221\"], [1, \"#276419\"]], \"sequential\": [[0.0, \"#0d0887\"], [0.1111111111111111, \"#46039f\"], [0.2222222222222222, \"#7201a8\"], [0.3333333333333333, \"#9c179e\"], [0.4444444444444444, \"#bd3786\"], [0.5555555555555556, \"#d8576b\"], [0.6666666666666666, \"#ed7953\"], [0.7777777777777778, \"#fb9f3a\"], [0.8888888888888888, \"#fdca26\"], [1.0, \"#f0f921\"]], \"sequentialminus\": [[0.0, \"#0d0887\"], [0.1111111111111111, \"#46039f\"], [0.2222222222222222, \"#7201a8\"], [0.3333333333333333, \"#9c179e\"], [0.4444444444444444, \"#bd3786\"], [0.5555555555555556, \"#d8576b\"], [0.6666666666666666, \"#ed7953\"], [0.7777777777777778, \"#fb9f3a\"], [0.8888888888888888, \"#fdca26\"], [1.0, \"#f0f921\"]]}, \"colorway\": [\"#636efa\", \"#EF553B\", \"#00cc96\", \"#ab63fa\", \"#FFA15A\", \"#19d3f3\", \"#FF6692\", \"#B6E880\", \"#FF97FF\", \"#FECB52\"], \"font\": {\"color\": \"#2a3f5f\"}, \"geo\": {\"bgcolor\": \"white\", \"lakecolor\": \"white\", \"landcolor\": \"#E5ECF6\", \"showlakes\": true, \"showland\": true, \"subunitcolor\": \"white\"}, \"hoverlabel\": {\"align\": \"left\"}, \"hovermode\": \"closest\", \"mapbox\": {\"style\": \"light\"}, \"paper_bgcolor\": \"white\", \"plot_bgcolor\": \"#E5ECF6\", \"polar\": {\"angularaxis\": {\"gridcolor\": \"white\", \"linecolor\": \"white\", \"ticks\": \"\"}, \"bgcolor\": \"#E5ECF6\", \"radialaxis\": {\"gridcolor\": \"white\", \"linecolor\": \"white\", \"ticks\": \"\"}}, \"scene\": {\"xaxis\": {\"backgroundcolor\": \"#E5ECF6\", \"gridcolor\": \"white\", \"gridwidth\": 2, \"linecolor\": \"white\", \"showbackground\": true, \"ticks\": \"\", \"zerolinecolor\": \"white\"}, \"yaxis\": {\"backgroundcolor\": \"#E5ECF6\", \"gridcolor\": \"white\", \"gridwidth\": 2, \"linecolor\": \"white\", \"showbackground\": true, \"ticks\": \"\", \"zerolinecolor\": \"white\"}, \"zaxis\": {\"backgroundcolor\": \"#E5ECF6\", \"gridcolor\": \"white\", \"gridwidth\": 2, \"linecolor\": \"white\", \"showbackground\": true, \"ticks\": \"\", \"zerolinecolor\": \"white\"}}, \"shapedefaults\": {\"line\": {\"color\": \"#2a3f5f\"}}, \"ternary\": {\"aaxis\": {\"gridcolor\": \"white\", \"linecolor\": \"white\", \"ticks\": \"\"}, \"baxis\": {\"gridcolor\": \"white\", \"linecolor\": \"white\", \"ticks\": \"\"}, \"bgcolor\": \"#E5ECF6\", \"caxis\": {\"gridcolor\": \"white\", \"linecolor\": \"white\", \"ticks\": \"\"}}, \"title\": {\"x\": 0.05}, \"xaxis\": {\"automargin\": true, \"gridcolor\": \"white\", \"linecolor\": \"white\", \"ticks\": \"\", \"title\": {\"standoff\": 15}, \"zerolinecolor\": \"white\", \"zerolinewidth\": 2}, \"yaxis\": {\"automargin\": true, \"gridcolor\": \"white\", \"linecolor\": \"white\", \"ticks\": \"\", \"title\": {\"standoff\": 15}, \"zerolinecolor\": \"white\", \"zerolinewidth\": 2}}}, \"title\": {\"text\": \"Pertumbuhan Kasus Covid-19\", \"x\": 0.5, \"xanchor\": \"center\", \"y\": 0.98, \"yanchor\": \"top\"}, \"width\": 1000, \"xaxis\": {\"title\": {\"text\": \"Tahun\"}}, \"yaxis\": {\"title\": {\"text\": \"Jumlah\"}}},\n",
              "                        {\"responsive\": true}\n",
              "                    ).then(function(){\n",
              "                            \n",
              "var gd = document.getElementById('32009064-985d-44ce-a77c-ec1bdfbd2826');\n",
              "var x = new MutationObserver(function (mutations, observer) {{\n",
              "        var display = window.getComputedStyle(gd).display;\n",
              "        if (!display || display === 'none') {{\n",
              "            console.log([gd, 'removed!']);\n",
              "            Plotly.purge(gd);\n",
              "            observer.disconnect();\n",
              "        }}\n",
              "}});\n",
              "\n",
              "// Listen for the removal of the full notebook cells\n",
              "var notebookContainer = gd.closest('#notebook-container');\n",
              "if (notebookContainer) {{\n",
              "    x.observe(notebookContainer, {childList: true});\n",
              "}}\n",
              "\n",
              "// Listen for the clearing of the current output cell\n",
              "var outputEl = gd.closest('.output');\n",
              "if (outputEl) {{\n",
              "    x.observe(outputEl, {childList: true});\n",
              "}}\n",
              "\n",
              "                        })\n",
              "                };\n",
              "                \n",
              "            </script>\n",
              "        </div>\n",
              "</body>\n",
              "</html>"
            ]
          },
          "metadata": {}
        }
      ]
    },
    {
      "cell_type": "markdown",
      "source": [
        "Berdasarkan grafik di atas, ada lima wilayah yang termasuk kedalam zona merah dengan pertumbuhan kasus Covid-19 paling banyak per September 2021 diantaranya yaitu, Kota Depok dengan kasus positif Covid-19 sebanyak 1.305 orang, Kota Bekasi dengan kasus positif Covid-19 sebanyak 1.225 orang, Kabupaten Bogor dengan kasus positif Covid-19 sebanyak 1.112 orang, Kota Bandung dengan kasus positif Covid-19 sebanyak 1.111 orang, dan Kabupaten Bekasi dengan kasus positif Covid-19 sebanyak 912 orang.\n",
        "\n",
        "Jika kita lihat pertumbuhan harian kasus Covid-19 dari awal pandemi sampai bulan September ini nampaknya sudah lebih baik dengan grafik pertumbuhan kasus positifnya menurun jika dibandingkan degan bulan sebelumnya."
      ],
      "metadata": {
        "id": "UMNMEQy6RcRA"
      }
    },
    {
      "cell_type": "markdown",
      "source": [
        "Sekarang, Berapa banyak orang yang terkena kasus Covid-19 di Jawa Barat?"
      ],
      "metadata": {
        "id": "z2VREkvaYOyl"
      }
    },
    {
      "cell_type": "code",
      "source": [
        "dat5 =  pd.read_excel('/content/drive/MyDrive/TSDN 21/dataset/West Java Population/Jumlah Penduduk Menurut Kabupaten_Kota.xlsx')"
      ],
      "metadata": {
        "id": "IH-vh3fDYhb4"
      },
      "execution_count": null,
      "outputs": []
    },
    {
      "cell_type": "code",
      "source": [
        "dat_pop = dat5.groupby('Tahun').sum().reset_index()\n",
        "pop_cov = dat_pop.iloc[2:3].reset_index()\n",
        "pop_cov['terkonfirmasi_positif'] = cov_vis.konfirmasi_total_daily_growth.sum()\n",
        "pop_cov['terkonfirmasi_sembuh'] = cov_vis.konfirmasi_sembuh_daily_growth.sum()\n",
        "pop_cov['terkonfirmasi_meninggal'] = cov_vis.konfirmasi_meninggal_daily_growth.sum()\n",
        "pop_cov = pd.DataFrame(data={'Jenis': ['Unknown', 'Positif', 'Sembuh', 'Meninggal'], \n",
        "                             'Jumlah':[pop_cov.Populasi[0] - (pop_cov.terkonfirmasi_positif[0] + pop_cov.terkonfirmasi_sembuh[0] + pop_cov.terkonfirmasi_meninggal[0]),\n",
        "                                       pop_cov.terkonfirmasi_positif[0],\n",
        "                                       pop_cov.terkonfirmasi_sembuh[0],\n",
        "                                       pop_cov.terkonfirmasi_meninggal[0]]})\n",
        "dat_pop"
      ],
      "metadata": {
        "colab": {
          "base_uri": "https://localhost:8080/",
          "height": 143
        },
        "id": "whEuiUR5YmYZ",
        "outputId": "f5e16eb8-2693-48bd-becf-15719b1027ed"
      },
      "execution_count": null,
      "outputs": [
        {
          "output_type": "execute_result",
          "data": {
            "text/html": [
              "\n",
              "  <div id=\"df-15fcc961-81ae-4b93-a985-0e406549e141\">\n",
              "    <div class=\"colab-df-container\">\n",
              "      <div>\n",
              "<style scoped>\n",
              "    .dataframe tbody tr th:only-of-type {\n",
              "        vertical-align: middle;\n",
              "    }\n",
              "\n",
              "    .dataframe tbody tr th {\n",
              "        vertical-align: top;\n",
              "    }\n",
              "\n",
              "    .dataframe thead th {\n",
              "        text-align: right;\n",
              "    }\n",
              "</style>\n",
              "<table border=\"1\" class=\"dataframe\">\n",
              "  <thead>\n",
              "    <tr style=\"text-align: right;\">\n",
              "      <th></th>\n",
              "      <th>Tahun</th>\n",
              "      <th>Populasi</th>\n",
              "    </tr>\n",
              "  </thead>\n",
              "  <tbody>\n",
              "    <tr>\n",
              "      <th>0</th>\n",
              "      <td>2018</td>\n",
              "      <td>48683861</td>\n",
              "    </tr>\n",
              "    <tr>\n",
              "      <th>1</th>\n",
              "      <td>2019</td>\n",
              "      <td>49316712</td>\n",
              "    </tr>\n",
              "    <tr>\n",
              "      <th>2</th>\n",
              "      <td>2020</td>\n",
              "      <td>49935858</td>\n",
              "    </tr>\n",
              "  </tbody>\n",
              "</table>\n",
              "</div>\n",
              "      <button class=\"colab-df-convert\" onclick=\"convertToInteractive('df-15fcc961-81ae-4b93-a985-0e406549e141')\"\n",
              "              title=\"Convert this dataframe to an interactive table.\"\n",
              "              style=\"display:none;\">\n",
              "        \n",
              "  <svg xmlns=\"http://www.w3.org/2000/svg\" height=\"24px\"viewBox=\"0 0 24 24\"\n",
              "       width=\"24px\">\n",
              "    <path d=\"M0 0h24v24H0V0z\" fill=\"none\"/>\n",
              "    <path d=\"M18.56 5.44l.94 2.06.94-2.06 2.06-.94-2.06-.94-.94-2.06-.94 2.06-2.06.94zm-11 1L8.5 8.5l.94-2.06 2.06-.94-2.06-.94L8.5 2.5l-.94 2.06-2.06.94zm10 10l.94 2.06.94-2.06 2.06-.94-2.06-.94-.94-2.06-.94 2.06-2.06.94z\"/><path d=\"M17.41 7.96l-1.37-1.37c-.4-.4-.92-.59-1.43-.59-.52 0-1.04.2-1.43.59L10.3 9.45l-7.72 7.72c-.78.78-.78 2.05 0 2.83L4 21.41c.39.39.9.59 1.41.59.51 0 1.02-.2 1.41-.59l7.78-7.78 2.81-2.81c.8-.78.8-2.07 0-2.86zM5.41 20L4 18.59l7.72-7.72 1.47 1.35L5.41 20z\"/>\n",
              "  </svg>\n",
              "      </button>\n",
              "      \n",
              "  <style>\n",
              "    .colab-df-container {\n",
              "      display:flex;\n",
              "      flex-wrap:wrap;\n",
              "      gap: 12px;\n",
              "    }\n",
              "\n",
              "    .colab-df-convert {\n",
              "      background-color: #E8F0FE;\n",
              "      border: none;\n",
              "      border-radius: 50%;\n",
              "      cursor: pointer;\n",
              "      display: none;\n",
              "      fill: #1967D2;\n",
              "      height: 32px;\n",
              "      padding: 0 0 0 0;\n",
              "      width: 32px;\n",
              "    }\n",
              "\n",
              "    .colab-df-convert:hover {\n",
              "      background-color: #E2EBFA;\n",
              "      box-shadow: 0px 1px 2px rgba(60, 64, 67, 0.3), 0px 1px 3px 1px rgba(60, 64, 67, 0.15);\n",
              "      fill: #174EA6;\n",
              "    }\n",
              "\n",
              "    [theme=dark] .colab-df-convert {\n",
              "      background-color: #3B4455;\n",
              "      fill: #D2E3FC;\n",
              "    }\n",
              "\n",
              "    [theme=dark] .colab-df-convert:hover {\n",
              "      background-color: #434B5C;\n",
              "      box-shadow: 0px 1px 3px 1px rgba(0, 0, 0, 0.15);\n",
              "      filter: drop-shadow(0px 1px 2px rgba(0, 0, 0, 0.3));\n",
              "      fill: #FFFFFF;\n",
              "    }\n",
              "  </style>\n",
              "\n",
              "      <script>\n",
              "        const buttonEl =\n",
              "          document.querySelector('#df-15fcc961-81ae-4b93-a985-0e406549e141 button.colab-df-convert');\n",
              "        buttonEl.style.display =\n",
              "          google.colab.kernel.accessAllowed ? 'block' : 'none';\n",
              "\n",
              "        async function convertToInteractive(key) {\n",
              "          const element = document.querySelector('#df-15fcc961-81ae-4b93-a985-0e406549e141');\n",
              "          const dataTable =\n",
              "            await google.colab.kernel.invokeFunction('convertToInteractive',\n",
              "                                                     [key], {});\n",
              "          if (!dataTable) return;\n",
              "\n",
              "          const docLinkHtml = 'Like what you see? Visit the ' +\n",
              "            '<a target=\"_blank\" href=https://colab.research.google.com/notebooks/data_table.ipynb>data table notebook</a>'\n",
              "            + ' to learn more about interactive tables.';\n",
              "          element.innerHTML = '';\n",
              "          dataTable['output_type'] = 'display_data';\n",
              "          await google.colab.output.renderOutput(dataTable, element);\n",
              "          const docLink = document.createElement('div');\n",
              "          docLink.innerHTML = docLinkHtml;\n",
              "          element.appendChild(docLink);\n",
              "        }\n",
              "      </script>\n",
              "    </div>\n",
              "  </div>\n",
              "  "
            ],
            "text/plain": [
              "   Tahun  Populasi\n",
              "0   2018  48683861\n",
              "1   2019  49316712\n",
              "2   2020  49935858"
            ]
          },
          "metadata": {},
          "execution_count": 28
        }
      ]
    },
    {
      "cell_type": "code",
      "metadata": {
        "colab": {
          "base_uri": "https://localhost:8080/",
          "height": 517
        },
        "id": "rBK6JiTIFVj3",
        "outputId": "8a291d79-5c16-4675-a0c1-921280a38c32"
      },
      "source": [
        "fig = go.Figure(data=[\n",
        "            go.Pie(values=pop_cov.Jumlah, labels=pop_cov.Jenis)])\n",
        "\n",
        "fig.update_layout(title={'text':'Persentase Kasus Covid-19 Terhadap Populasi',\n",
        "                         'y':0.98, 'x':0.5, 'xanchor':'center', 'yanchor':'top'},\n",
        "                  margin={\"r\":10,\"t\":45,\"l\":10,\"b\":0},\n",
        "                  width=100*5, height=100*5)\n",
        "fig.show()"
      ],
      "execution_count": null,
      "outputs": [
        {
          "output_type": "display_data",
          "data": {
            "text/html": [
              "<html>\n",
              "<head><meta charset=\"utf-8\" /></head>\n",
              "<body>\n",
              "    <div>\n",
              "            <script src=\"https://cdnjs.cloudflare.com/ajax/libs/mathjax/2.7.5/MathJax.js?config=TeX-AMS-MML_SVG\"></script><script type=\"text/javascript\">if (window.MathJax) {MathJax.Hub.Config({SVG: {font: \"STIX-Web\"}});}</script>\n",
              "                <script type=\"text/javascript\">window.PlotlyConfig = {MathJaxConfig: 'local'};</script>\n",
              "        <script src=\"https://cdn.plot.ly/plotly-latest.min.js\"></script>    \n",
              "            <div id=\"881d3049-3fee-4347-b239-4381cd3c45ee\" class=\"plotly-graph-div\" style=\"height:500px; width:500px;\"></div>\n",
              "            <script type=\"text/javascript\">\n",
              "                \n",
              "                    window.PLOTLYENV=window.PLOTLYENV || {};\n",
              "                    \n",
              "                if (document.getElementById(\"881d3049-3fee-4347-b239-4381cd3c45ee\")) {\n",
              "                    Plotly.newPlot(\n",
              "                        '881d3049-3fee-4347-b239-4381cd3c45ee',\n",
              "                        [{\"labels\": [\"Unknown\", \"Positif\", \"Sembuh\", \"Meninggal\"], \"type\": \"pie\", \"values\": [48537591.0, 700597.0, 683055.0, 14615.0]}],\n",
              "                        {\"height\": 500, \"margin\": {\"b\": 0, \"l\": 10, \"r\": 10, \"t\": 45}, \"template\": {\"data\": {\"bar\": [{\"error_x\": {\"color\": \"#2a3f5f\"}, \"error_y\": {\"color\": \"#2a3f5f\"}, \"marker\": {\"line\": {\"color\": \"#E5ECF6\", \"width\": 0.5}}, \"type\": \"bar\"}], \"barpolar\": [{\"marker\": {\"line\": {\"color\": \"#E5ECF6\", \"width\": 0.5}}, \"type\": \"barpolar\"}], \"carpet\": [{\"aaxis\": {\"endlinecolor\": \"#2a3f5f\", \"gridcolor\": \"white\", \"linecolor\": \"white\", \"minorgridcolor\": \"white\", \"startlinecolor\": \"#2a3f5f\"}, \"baxis\": {\"endlinecolor\": \"#2a3f5f\", \"gridcolor\": \"white\", \"linecolor\": \"white\", \"minorgridcolor\": \"white\", \"startlinecolor\": \"#2a3f5f\"}, \"type\": \"carpet\"}], \"choropleth\": [{\"colorbar\": {\"outlinewidth\": 0, \"ticks\": \"\"}, \"type\": \"choropleth\"}], \"contour\": [{\"colorbar\": {\"outlinewidth\": 0, \"ticks\": \"\"}, \"colorscale\": [[0.0, \"#0d0887\"], [0.1111111111111111, \"#46039f\"], [0.2222222222222222, \"#7201a8\"], [0.3333333333333333, \"#9c179e\"], [0.4444444444444444, \"#bd3786\"], [0.5555555555555556, \"#d8576b\"], [0.6666666666666666, \"#ed7953\"], [0.7777777777777778, \"#fb9f3a\"], [0.8888888888888888, \"#fdca26\"], [1.0, \"#f0f921\"]], \"type\": \"contour\"}], \"contourcarpet\": [{\"colorbar\": {\"outlinewidth\": 0, \"ticks\": \"\"}, \"type\": \"contourcarpet\"}], \"heatmap\": [{\"colorbar\": {\"outlinewidth\": 0, \"ticks\": \"\"}, \"colorscale\": [[0.0, \"#0d0887\"], [0.1111111111111111, \"#46039f\"], [0.2222222222222222, \"#7201a8\"], [0.3333333333333333, \"#9c179e\"], [0.4444444444444444, \"#bd3786\"], [0.5555555555555556, \"#d8576b\"], [0.6666666666666666, \"#ed7953\"], [0.7777777777777778, \"#fb9f3a\"], [0.8888888888888888, \"#fdca26\"], [1.0, \"#f0f921\"]], \"type\": \"heatmap\"}], \"heatmapgl\": [{\"colorbar\": {\"outlinewidth\": 0, \"ticks\": \"\"}, \"colorscale\": [[0.0, \"#0d0887\"], [0.1111111111111111, \"#46039f\"], [0.2222222222222222, \"#7201a8\"], [0.3333333333333333, \"#9c179e\"], [0.4444444444444444, \"#bd3786\"], [0.5555555555555556, \"#d8576b\"], [0.6666666666666666, \"#ed7953\"], [0.7777777777777778, \"#fb9f3a\"], [0.8888888888888888, \"#fdca26\"], [1.0, \"#f0f921\"]], \"type\": \"heatmapgl\"}], \"histogram\": [{\"marker\": {\"colorbar\": {\"outlinewidth\": 0, \"ticks\": \"\"}}, \"type\": \"histogram\"}], \"histogram2d\": [{\"colorbar\": {\"outlinewidth\": 0, \"ticks\": \"\"}, \"colorscale\": [[0.0, \"#0d0887\"], [0.1111111111111111, \"#46039f\"], [0.2222222222222222, \"#7201a8\"], [0.3333333333333333, \"#9c179e\"], [0.4444444444444444, \"#bd3786\"], [0.5555555555555556, \"#d8576b\"], [0.6666666666666666, \"#ed7953\"], [0.7777777777777778, \"#fb9f3a\"], [0.8888888888888888, \"#fdca26\"], [1.0, \"#f0f921\"]], \"type\": \"histogram2d\"}], \"histogram2dcontour\": [{\"colorbar\": {\"outlinewidth\": 0, \"ticks\": \"\"}, \"colorscale\": [[0.0, \"#0d0887\"], [0.1111111111111111, \"#46039f\"], [0.2222222222222222, \"#7201a8\"], [0.3333333333333333, \"#9c179e\"], [0.4444444444444444, \"#bd3786\"], [0.5555555555555556, \"#d8576b\"], [0.6666666666666666, \"#ed7953\"], [0.7777777777777778, \"#fb9f3a\"], [0.8888888888888888, \"#fdca26\"], [1.0, \"#f0f921\"]], \"type\": \"histogram2dcontour\"}], \"mesh3d\": [{\"colorbar\": {\"outlinewidth\": 0, \"ticks\": \"\"}, \"type\": \"mesh3d\"}], \"parcoords\": [{\"line\": {\"colorbar\": {\"outlinewidth\": 0, \"ticks\": \"\"}}, \"type\": \"parcoords\"}], \"pie\": [{\"automargin\": true, \"type\": \"pie\"}], \"scatter\": [{\"marker\": {\"colorbar\": {\"outlinewidth\": 0, \"ticks\": \"\"}}, \"type\": \"scatter\"}], \"scatter3d\": [{\"line\": {\"colorbar\": {\"outlinewidth\": 0, \"ticks\": \"\"}}, \"marker\": {\"colorbar\": {\"outlinewidth\": 0, \"ticks\": \"\"}}, \"type\": \"scatter3d\"}], \"scattercarpet\": [{\"marker\": {\"colorbar\": {\"outlinewidth\": 0, \"ticks\": \"\"}}, \"type\": \"scattercarpet\"}], \"scattergeo\": [{\"marker\": {\"colorbar\": {\"outlinewidth\": 0, \"ticks\": \"\"}}, \"type\": \"scattergeo\"}], \"scattergl\": [{\"marker\": {\"colorbar\": {\"outlinewidth\": 0, \"ticks\": \"\"}}, \"type\": \"scattergl\"}], \"scattermapbox\": [{\"marker\": {\"colorbar\": {\"outlinewidth\": 0, \"ticks\": \"\"}}, \"type\": \"scattermapbox\"}], \"scatterpolar\": [{\"marker\": {\"colorbar\": {\"outlinewidth\": 0, \"ticks\": \"\"}}, \"type\": \"scatterpolar\"}], \"scatterpolargl\": [{\"marker\": {\"colorbar\": {\"outlinewidth\": 0, \"ticks\": \"\"}}, \"type\": \"scatterpolargl\"}], \"scatterternary\": [{\"marker\": {\"colorbar\": {\"outlinewidth\": 0, \"ticks\": \"\"}}, \"type\": \"scatterternary\"}], \"surface\": [{\"colorbar\": {\"outlinewidth\": 0, \"ticks\": \"\"}, \"colorscale\": [[0.0, \"#0d0887\"], [0.1111111111111111, \"#46039f\"], [0.2222222222222222, \"#7201a8\"], [0.3333333333333333, \"#9c179e\"], [0.4444444444444444, \"#bd3786\"], [0.5555555555555556, \"#d8576b\"], [0.6666666666666666, \"#ed7953\"], [0.7777777777777778, \"#fb9f3a\"], [0.8888888888888888, \"#fdca26\"], [1.0, \"#f0f921\"]], \"type\": \"surface\"}], \"table\": [{\"cells\": {\"fill\": {\"color\": \"#EBF0F8\"}, \"line\": {\"color\": \"white\"}}, \"header\": {\"fill\": {\"color\": \"#C8D4E3\"}, \"line\": {\"color\": \"white\"}}, \"type\": \"table\"}]}, \"layout\": {\"annotationdefaults\": {\"arrowcolor\": \"#2a3f5f\", \"arrowhead\": 0, \"arrowwidth\": 1}, \"coloraxis\": {\"colorbar\": {\"outlinewidth\": 0, \"ticks\": \"\"}}, \"colorscale\": {\"diverging\": [[0, \"#8e0152\"], [0.1, \"#c51b7d\"], [0.2, \"#de77ae\"], [0.3, \"#f1b6da\"], [0.4, \"#fde0ef\"], [0.5, \"#f7f7f7\"], [0.6, \"#e6f5d0\"], [0.7, \"#b8e186\"], [0.8, \"#7fbc41\"], [0.9, \"#4d9221\"], [1, \"#276419\"]], \"sequential\": [[0.0, \"#0d0887\"], [0.1111111111111111, \"#46039f\"], [0.2222222222222222, \"#7201a8\"], [0.3333333333333333, \"#9c179e\"], [0.4444444444444444, \"#bd3786\"], [0.5555555555555556, \"#d8576b\"], [0.6666666666666666, \"#ed7953\"], [0.7777777777777778, \"#fb9f3a\"], [0.8888888888888888, \"#fdca26\"], [1.0, \"#f0f921\"]], \"sequentialminus\": [[0.0, \"#0d0887\"], [0.1111111111111111, \"#46039f\"], [0.2222222222222222, \"#7201a8\"], [0.3333333333333333, \"#9c179e\"], [0.4444444444444444, \"#bd3786\"], [0.5555555555555556, \"#d8576b\"], [0.6666666666666666, \"#ed7953\"], [0.7777777777777778, \"#fb9f3a\"], [0.8888888888888888, \"#fdca26\"], [1.0, \"#f0f921\"]]}, \"colorway\": [\"#636efa\", \"#EF553B\", \"#00cc96\", \"#ab63fa\", \"#FFA15A\", \"#19d3f3\", \"#FF6692\", \"#B6E880\", \"#FF97FF\", \"#FECB52\"], \"font\": {\"color\": \"#2a3f5f\"}, \"geo\": {\"bgcolor\": \"white\", \"lakecolor\": \"white\", \"landcolor\": \"#E5ECF6\", \"showlakes\": true, \"showland\": true, \"subunitcolor\": \"white\"}, \"hoverlabel\": {\"align\": \"left\"}, \"hovermode\": \"closest\", \"mapbox\": {\"style\": \"light\"}, \"paper_bgcolor\": \"white\", \"plot_bgcolor\": \"#E5ECF6\", \"polar\": {\"angularaxis\": {\"gridcolor\": \"white\", \"linecolor\": \"white\", \"ticks\": \"\"}, \"bgcolor\": \"#E5ECF6\", \"radialaxis\": {\"gridcolor\": \"white\", \"linecolor\": \"white\", \"ticks\": \"\"}}, \"scene\": {\"xaxis\": {\"backgroundcolor\": \"#E5ECF6\", \"gridcolor\": \"white\", \"gridwidth\": 2, \"linecolor\": \"white\", \"showbackground\": true, \"ticks\": \"\", \"zerolinecolor\": \"white\"}, \"yaxis\": {\"backgroundcolor\": \"#E5ECF6\", \"gridcolor\": \"white\", \"gridwidth\": 2, \"linecolor\": \"white\", \"showbackground\": true, \"ticks\": \"\", \"zerolinecolor\": \"white\"}, \"zaxis\": {\"backgroundcolor\": \"#E5ECF6\", \"gridcolor\": \"white\", \"gridwidth\": 2, \"linecolor\": \"white\", \"showbackground\": true, \"ticks\": \"\", \"zerolinecolor\": \"white\"}}, \"shapedefaults\": {\"line\": {\"color\": \"#2a3f5f\"}}, \"ternary\": {\"aaxis\": {\"gridcolor\": \"white\", \"linecolor\": \"white\", \"ticks\": \"\"}, \"baxis\": {\"gridcolor\": \"white\", \"linecolor\": \"white\", \"ticks\": \"\"}, \"bgcolor\": \"#E5ECF6\", \"caxis\": {\"gridcolor\": \"white\", \"linecolor\": \"white\", \"ticks\": \"\"}}, \"title\": {\"x\": 0.05}, \"xaxis\": {\"automargin\": true, \"gridcolor\": \"white\", \"linecolor\": \"white\", \"ticks\": \"\", \"title\": {\"standoff\": 15}, \"zerolinecolor\": \"white\", \"zerolinewidth\": 2}, \"yaxis\": {\"automargin\": true, \"gridcolor\": \"white\", \"linecolor\": \"white\", \"ticks\": \"\", \"title\": {\"standoff\": 15}, \"zerolinecolor\": \"white\", \"zerolinewidth\": 2}}}, \"title\": {\"text\": \"Persentase Kasus Covid-19 Terhadap Populasi\", \"x\": 0.5, \"xanchor\": \"center\", \"y\": 0.98, \"yanchor\": \"top\"}, \"width\": 500},\n",
              "                        {\"responsive\": true}\n",
              "                    ).then(function(){\n",
              "                            \n",
              "var gd = document.getElementById('881d3049-3fee-4347-b239-4381cd3c45ee');\n",
              "var x = new MutationObserver(function (mutations, observer) {{\n",
              "        var display = window.getComputedStyle(gd).display;\n",
              "        if (!display || display === 'none') {{\n",
              "            console.log([gd, 'removed!']);\n",
              "            Plotly.purge(gd);\n",
              "            observer.disconnect();\n",
              "        }}\n",
              "}});\n",
              "\n",
              "// Listen for the removal of the full notebook cells\n",
              "var notebookContainer = gd.closest('#notebook-container');\n",
              "if (notebookContainer) {{\n",
              "    x.observe(notebookContainer, {childList: true});\n",
              "}}\n",
              "\n",
              "// Listen for the clearing of the current output cell\n",
              "var outputEl = gd.closest('.output');\n",
              "if (outputEl) {{\n",
              "    x.observe(outputEl, {childList: true});\n",
              "}}\n",
              "\n",
              "                        })\n",
              "                };\n",
              "                \n",
              "            </script>\n",
              "        </div>\n",
              "</body>\n",
              "</html>"
            ]
          },
          "metadata": {}
        }
      ]
    },
    {
      "cell_type": "markdown",
      "metadata": {
        "id": "6lDLWgJhGhQE"
      },
      "source": [
        "Dari grafik di atas kita tahu sekarang bahwa orang yang terkonfirmasi positif Covid-19 sebanyak 1.4% dari total pupulasi penduduk. Kemudian, orang yang sembuh dari Covid-19 sebanyak 1.37% dan meninggal 0.0293%. Meskipun jumlahnya terihat sangat kecil sekitar 1% tetapi ini sangat banyak bisa mencapai ratusan ribu orang karena populasi penduduk Jawa Barat ini mencapai 49 juta jiwa."
      ]
    },
    {
      "cell_type": "markdown",
      "metadata": {
        "id": "r_BXvjpm3Q9q"
      },
      "source": [
        "## **Persebaran Vaksin**"
      ]
    },
    {
      "cell_type": "code",
      "metadata": {
        "colab": {
          "base_uri": "https://localhost:8080/"
        },
        "id": "5dgnDVGDbj7z",
        "outputId": "32cdef3d-e858-4af6-ce1a-94c2354b4f31"
      },
      "source": [
        "dat6 = pd.read_csv('/content/drive/MyDrive/TSDN 21/dataset/Vaksinasi West Java/Time_Series_Pelaksanaan_Vaksinasi_Pertama_Per_Prov_data.csv')"
      ],
      "execution_count": null,
      "outputs": [
        {
          "output_type": "stream",
          "name": "stderr",
          "text": [
            "/usr/local/lib/python3.7/dist-packages/IPython/core/interactiveshell.py:2718: DtypeWarning:\n",
            "\n",
            "Columns (10,11,12,13,14,17,18,19,20,21,22) have mixed types.Specify dtype option on import or set low_memory=False.\n",
            "\n"
          ]
        }
      ]
    },
    {
      "cell_type": "code",
      "metadata": {
        "id": "Am-0fgdRdMbe"
      },
      "source": [
        "dat_vac = dat6[['Tanggal', 'Kab/kota', 'Kategori', 'Divaksin 1', 'Divaksin 2']].copy()\n",
        "dat_vac.Tanggal = pd.to_datetime(dat_vac.Tanggal)\n",
        "dat_vac.set_index('Tanggal', inplace=True)"
      ],
      "execution_count": null,
      "outputs": []
    },
    {
      "cell_type": "code",
      "metadata": {
        "colab": {
          "base_uri": "https://localhost:8080/",
          "height": 238
        },
        "id": "3iaQTX4mINna",
        "outputId": "28d1e976-d5fb-40d6-f66a-d6d3b588cec7"
      },
      "source": [
        "dat_vac.head()"
      ],
      "execution_count": null,
      "outputs": [
        {
          "output_type": "execute_result",
          "data": {
            "text/html": [
              "\n",
              "  <div id=\"df-bc5da79b-647a-4bca-b9cc-d05de7f0f5b3\">\n",
              "    <div class=\"colab-df-container\">\n",
              "      <div>\n",
              "<style scoped>\n",
              "    .dataframe tbody tr th:only-of-type {\n",
              "        vertical-align: middle;\n",
              "    }\n",
              "\n",
              "    .dataframe tbody tr th {\n",
              "        vertical-align: top;\n",
              "    }\n",
              "\n",
              "    .dataframe thead th {\n",
              "        text-align: right;\n",
              "    }\n",
              "</style>\n",
              "<table border=\"1\" class=\"dataframe\">\n",
              "  <thead>\n",
              "    <tr style=\"text-align: right;\">\n",
              "      <th></th>\n",
              "      <th>Kab/kota</th>\n",
              "      <th>Kategori</th>\n",
              "      <th>Divaksin 1</th>\n",
              "      <th>Divaksin 2</th>\n",
              "    </tr>\n",
              "    <tr>\n",
              "      <th>Tanggal</th>\n",
              "      <th></th>\n",
              "      <th></th>\n",
              "      <th></th>\n",
              "      <th></th>\n",
              "    </tr>\n",
              "  </thead>\n",
              "  <tbody>\n",
              "    <tr>\n",
              "      <th>2021-07-01</th>\n",
              "      <td>Kab. Bekasi</td>\n",
              "      <td>BUMN</td>\n",
              "      <td>0</td>\n",
              "      <td>1</td>\n",
              "    </tr>\n",
              "    <tr>\n",
              "      <th>2021-07-01</th>\n",
              "      <td>Kota Bekasi</td>\n",
              "      <td>BUMN</td>\n",
              "      <td>4</td>\n",
              "      <td>4</td>\n",
              "    </tr>\n",
              "    <tr>\n",
              "      <th>2021-07-02</th>\n",
              "      <td>Kab. Cirebon</td>\n",
              "      <td>BUMN</td>\n",
              "      <td>1</td>\n",
              "      <td>0</td>\n",
              "    </tr>\n",
              "    <tr>\n",
              "      <th>2021-07-02</th>\n",
              "      <td>Kota Bekasi</td>\n",
              "      <td>BUMN</td>\n",
              "      <td>7</td>\n",
              "      <td>0</td>\n",
              "    </tr>\n",
              "    <tr>\n",
              "      <th>2021-07-03</th>\n",
              "      <td>Kab. Karawang</td>\n",
              "      <td>BUMN</td>\n",
              "      <td>1</td>\n",
              "      <td>0</td>\n",
              "    </tr>\n",
              "  </tbody>\n",
              "</table>\n",
              "</div>\n",
              "      <button class=\"colab-df-convert\" onclick=\"convertToInteractive('df-bc5da79b-647a-4bca-b9cc-d05de7f0f5b3')\"\n",
              "              title=\"Convert this dataframe to an interactive table.\"\n",
              "              style=\"display:none;\">\n",
              "        \n",
              "  <svg xmlns=\"http://www.w3.org/2000/svg\" height=\"24px\"viewBox=\"0 0 24 24\"\n",
              "       width=\"24px\">\n",
              "    <path d=\"M0 0h24v24H0V0z\" fill=\"none\"/>\n",
              "    <path d=\"M18.56 5.44l.94 2.06.94-2.06 2.06-.94-2.06-.94-.94-2.06-.94 2.06-2.06.94zm-11 1L8.5 8.5l.94-2.06 2.06-.94-2.06-.94L8.5 2.5l-.94 2.06-2.06.94zm10 10l.94 2.06.94-2.06 2.06-.94-2.06-.94-.94-2.06-.94 2.06-2.06.94z\"/><path d=\"M17.41 7.96l-1.37-1.37c-.4-.4-.92-.59-1.43-.59-.52 0-1.04.2-1.43.59L10.3 9.45l-7.72 7.72c-.78.78-.78 2.05 0 2.83L4 21.41c.39.39.9.59 1.41.59.51 0 1.02-.2 1.41-.59l7.78-7.78 2.81-2.81c.8-.78.8-2.07 0-2.86zM5.41 20L4 18.59l7.72-7.72 1.47 1.35L5.41 20z\"/>\n",
              "  </svg>\n",
              "      </button>\n",
              "      \n",
              "  <style>\n",
              "    .colab-df-container {\n",
              "      display:flex;\n",
              "      flex-wrap:wrap;\n",
              "      gap: 12px;\n",
              "    }\n",
              "\n",
              "    .colab-df-convert {\n",
              "      background-color: #E8F0FE;\n",
              "      border: none;\n",
              "      border-radius: 50%;\n",
              "      cursor: pointer;\n",
              "      display: none;\n",
              "      fill: #1967D2;\n",
              "      height: 32px;\n",
              "      padding: 0 0 0 0;\n",
              "      width: 32px;\n",
              "    }\n",
              "\n",
              "    .colab-df-convert:hover {\n",
              "      background-color: #E2EBFA;\n",
              "      box-shadow: 0px 1px 2px rgba(60, 64, 67, 0.3), 0px 1px 3px 1px rgba(60, 64, 67, 0.15);\n",
              "      fill: #174EA6;\n",
              "    }\n",
              "\n",
              "    [theme=dark] .colab-df-convert {\n",
              "      background-color: #3B4455;\n",
              "      fill: #D2E3FC;\n",
              "    }\n",
              "\n",
              "    [theme=dark] .colab-df-convert:hover {\n",
              "      background-color: #434B5C;\n",
              "      box-shadow: 0px 1px 3px 1px rgba(0, 0, 0, 0.15);\n",
              "      filter: drop-shadow(0px 1px 2px rgba(0, 0, 0, 0.3));\n",
              "      fill: #FFFFFF;\n",
              "    }\n",
              "  </style>\n",
              "\n",
              "      <script>\n",
              "        const buttonEl =\n",
              "          document.querySelector('#df-bc5da79b-647a-4bca-b9cc-d05de7f0f5b3 button.colab-df-convert');\n",
              "        buttonEl.style.display =\n",
              "          google.colab.kernel.accessAllowed ? 'block' : 'none';\n",
              "\n",
              "        async function convertToInteractive(key) {\n",
              "          const element = document.querySelector('#df-bc5da79b-647a-4bca-b9cc-d05de7f0f5b3');\n",
              "          const dataTable =\n",
              "            await google.colab.kernel.invokeFunction('convertToInteractive',\n",
              "                                                     [key], {});\n",
              "          if (!dataTable) return;\n",
              "\n",
              "          const docLinkHtml = 'Like what you see? Visit the ' +\n",
              "            '<a target=\"_blank\" href=https://colab.research.google.com/notebooks/data_table.ipynb>data table notebook</a>'\n",
              "            + ' to learn more about interactive tables.';\n",
              "          element.innerHTML = '';\n",
              "          dataTable['output_type'] = 'display_data';\n",
              "          await google.colab.output.renderOutput(dataTable, element);\n",
              "          const docLink = document.createElement('div');\n",
              "          docLink.innerHTML = docLinkHtml;\n",
              "          element.appendChild(docLink);\n",
              "        }\n",
              "      </script>\n",
              "    </div>\n",
              "  </div>\n",
              "  "
            ],
            "text/plain": [
              "                 Kab/kota Kategori  Divaksin 1  Divaksin 2\n",
              "Tanggal                                                   \n",
              "2021-07-01    Kab. Bekasi     BUMN           0           1\n",
              "2021-07-01    Kota Bekasi     BUMN           4           4\n",
              "2021-07-02   Kab. Cirebon     BUMN           1           0\n",
              "2021-07-02    Kota Bekasi     BUMN           7           0\n",
              "2021-07-03  Kab. Karawang     BUMN           1           0"
            ]
          },
          "metadata": {},
          "execution_count": 32
        }
      ]
    },
    {
      "cell_type": "code",
      "metadata": {
        "colab": {
          "base_uri": "https://localhost:8080/"
        },
        "id": "SfAkOaxHIR6_",
        "outputId": "b374c850-1902-43dd-87e2-ea03e18bf336"
      },
      "source": [
        "dat_vac.isnull().sum()"
      ],
      "execution_count": null,
      "outputs": [
        {
          "output_type": "execute_result",
          "data": {
            "text/plain": [
              "Kab/kota      0\n",
              "Kategori      0\n",
              "Divaksin 1    0\n",
              "Divaksin 2    0\n",
              "dtype: int64"
            ]
          },
          "metadata": {},
          "execution_count": 33
        }
      ]
    },
    {
      "cell_type": "code",
      "metadata": {
        "id": "SnfMZdBeIKhi"
      },
      "source": [
        "# Mengubah format Nama Kab/kota menjadi uppercase dan sesuai dengan dataset lainnya\n",
        "a = dat_vac.sort_values('Kab/kota', ascending=True)['Kab/kota'].unique()\n",
        "b = dat_cov.sort_values('nama_kab_kota', ascending=True)['nama_kab_kota'].unique()\n",
        "\n",
        "for i in range(len(a)):\n",
        "    dat_vac['Kab/kota'].replace({a[i]: b[i]}, inplace=True)"
      ],
      "execution_count": null,
      "outputs": []
    },
    {
      "cell_type": "code",
      "metadata": {
        "id": "mPx_7r1mKVZ9"
      },
      "source": [
        "vac_vis = dat_vac.groupby(pd.Grouper(freq='m')).sum()[:-1]"
      ],
      "execution_count": null,
      "outputs": []
    },
    {
      "cell_type": "code",
      "source": [
        "fig = go.Figure(data=[\n",
        "            go.Scatter(x=vac_vis.index, \n",
        "                       y=vac_vis['Divaksin 1'], \n",
        "                       name='Dosis 1'),\n",
        "            go.Scatter(x=vac_vis.index, \n",
        "                       y=vac_vis['Divaksin 2'], \n",
        "                       name='Dosis 2')])\n",
        "fig.update_layout(title={'text':'Pertumbuhan Vaksinisasi Dosis Pertama dan Kedua',\n",
        "                         'y':0.98, 'x':0.5, 'xanchor':'center', 'yanchor':'top'},\n",
        "                  xaxis_title='Bulan',\n",
        "                  yaxis_title='Jumlah',\n",
        "                  margin={\"r\":10,\"t\":25,\"l\":0,\"b\":0},\n",
        "                  width=100*10, height=100*3)\n",
        "fig.show()"
      ],
      "metadata": {
        "colab": {
          "base_uri": "https://localhost:8080/",
          "height": 317
        },
        "id": "9CtN-RRvde4Z",
        "outputId": "08236ad9-1bc9-49cb-9062-25c5ba58e429"
      },
      "execution_count": null,
      "outputs": [
        {
          "output_type": "display_data",
          "data": {
            "text/html": [
              "<html>\n",
              "<head><meta charset=\"utf-8\" /></head>\n",
              "<body>\n",
              "    <div>\n",
              "            <script src=\"https://cdnjs.cloudflare.com/ajax/libs/mathjax/2.7.5/MathJax.js?config=TeX-AMS-MML_SVG\"></script><script type=\"text/javascript\">if (window.MathJax) {MathJax.Hub.Config({SVG: {font: \"STIX-Web\"}});}</script>\n",
              "                <script type=\"text/javascript\">window.PlotlyConfig = {MathJaxConfig: 'local'};</script>\n",
              "        <script src=\"https://cdn.plot.ly/plotly-latest.min.js\"></script>    \n",
              "            <div id=\"be82f721-e177-4371-82c2-5e60aabdc9f4\" class=\"plotly-graph-div\" style=\"height:300px; width:1000px;\"></div>\n",
              "            <script type=\"text/javascript\">\n",
              "                \n",
              "                    window.PLOTLYENV=window.PLOTLYENV || {};\n",
              "                    \n",
              "                if (document.getElementById(\"be82f721-e177-4371-82c2-5e60aabdc9f4\")) {\n",
              "                    Plotly.newPlot(\n",
              "                        'be82f721-e177-4371-82c2-5e60aabdc9f4',\n",
              "                        [{\"name\": \"Dosis 1\", \"type\": \"scatter\", \"x\": [\"2021-01-31T00:00:00\", \"2021-02-28T00:00:00\", \"2021-03-31T00:00:00\", \"2021-04-30T00:00:00\", \"2021-05-31T00:00:00\", \"2021-06-30T00:00:00\", \"2021-07-31T00:00:00\", \"2021-08-31T00:00:00\", \"2021-09-30T00:00:00\"], \"y\": [59147, 127353, 1018977, 599532, 344814, 1310540, 2753058, 3708644, 6073375]}, {\"name\": \"Dosis 2\", \"type\": \"scatter\", \"x\": [\"2021-01-31T00:00:00\", \"2021-02-28T00:00:00\", \"2021-03-31T00:00:00\", \"2021-04-30T00:00:00\", \"2021-05-31T00:00:00\", \"2021-06-30T00:00:00\", \"2021-07-31T00:00:00\", \"2021-08-31T00:00:00\", \"2021-09-30T00:00:00\"], \"y\": [4518, 129314, 421051, 598674, 489467, 295924, 968625, 2336465, 3089280]}],\n",
              "                        {\"height\": 300, \"margin\": {\"b\": 0, \"l\": 0, \"r\": 10, \"t\": 25}, \"template\": {\"data\": {\"bar\": [{\"error_x\": {\"color\": \"#2a3f5f\"}, \"error_y\": {\"color\": \"#2a3f5f\"}, \"marker\": {\"line\": {\"color\": \"#E5ECF6\", \"width\": 0.5}}, \"type\": \"bar\"}], \"barpolar\": [{\"marker\": {\"line\": {\"color\": \"#E5ECF6\", \"width\": 0.5}}, \"type\": \"barpolar\"}], \"carpet\": [{\"aaxis\": {\"endlinecolor\": \"#2a3f5f\", \"gridcolor\": \"white\", \"linecolor\": \"white\", \"minorgridcolor\": \"white\", \"startlinecolor\": \"#2a3f5f\"}, \"baxis\": {\"endlinecolor\": \"#2a3f5f\", \"gridcolor\": \"white\", \"linecolor\": \"white\", \"minorgridcolor\": \"white\", \"startlinecolor\": \"#2a3f5f\"}, \"type\": \"carpet\"}], \"choropleth\": [{\"colorbar\": {\"outlinewidth\": 0, \"ticks\": \"\"}, \"type\": \"choropleth\"}], \"contour\": [{\"colorbar\": {\"outlinewidth\": 0, \"ticks\": \"\"}, \"colorscale\": [[0.0, \"#0d0887\"], [0.1111111111111111, \"#46039f\"], [0.2222222222222222, \"#7201a8\"], [0.3333333333333333, \"#9c179e\"], [0.4444444444444444, \"#bd3786\"], [0.5555555555555556, \"#d8576b\"], [0.6666666666666666, \"#ed7953\"], [0.7777777777777778, \"#fb9f3a\"], [0.8888888888888888, \"#fdca26\"], [1.0, \"#f0f921\"]], \"type\": \"contour\"}], \"contourcarpet\": [{\"colorbar\": {\"outlinewidth\": 0, \"ticks\": \"\"}, \"type\": \"contourcarpet\"}], \"heatmap\": [{\"colorbar\": {\"outlinewidth\": 0, \"ticks\": \"\"}, \"colorscale\": [[0.0, \"#0d0887\"], [0.1111111111111111, \"#46039f\"], [0.2222222222222222, \"#7201a8\"], [0.3333333333333333, \"#9c179e\"], [0.4444444444444444, \"#bd3786\"], [0.5555555555555556, \"#d8576b\"], [0.6666666666666666, \"#ed7953\"], [0.7777777777777778, \"#fb9f3a\"], [0.8888888888888888, \"#fdca26\"], [1.0, \"#f0f921\"]], \"type\": \"heatmap\"}], \"heatmapgl\": [{\"colorbar\": {\"outlinewidth\": 0, \"ticks\": \"\"}, \"colorscale\": [[0.0, \"#0d0887\"], [0.1111111111111111, \"#46039f\"], [0.2222222222222222, \"#7201a8\"], [0.3333333333333333, \"#9c179e\"], [0.4444444444444444, \"#bd3786\"], [0.5555555555555556, \"#d8576b\"], [0.6666666666666666, \"#ed7953\"], [0.7777777777777778, \"#fb9f3a\"], [0.8888888888888888, \"#fdca26\"], [1.0, \"#f0f921\"]], \"type\": \"heatmapgl\"}], \"histogram\": [{\"marker\": {\"colorbar\": {\"outlinewidth\": 0, \"ticks\": \"\"}}, \"type\": \"histogram\"}], \"histogram2d\": [{\"colorbar\": {\"outlinewidth\": 0, \"ticks\": \"\"}, \"colorscale\": [[0.0, \"#0d0887\"], [0.1111111111111111, \"#46039f\"], [0.2222222222222222, \"#7201a8\"], [0.3333333333333333, \"#9c179e\"], [0.4444444444444444, \"#bd3786\"], [0.5555555555555556, \"#d8576b\"], [0.6666666666666666, \"#ed7953\"], [0.7777777777777778, \"#fb9f3a\"], [0.8888888888888888, \"#fdca26\"], [1.0, \"#f0f921\"]], \"type\": \"histogram2d\"}], \"histogram2dcontour\": [{\"colorbar\": {\"outlinewidth\": 0, \"ticks\": \"\"}, \"colorscale\": [[0.0, \"#0d0887\"], [0.1111111111111111, \"#46039f\"], [0.2222222222222222, \"#7201a8\"], [0.3333333333333333, \"#9c179e\"], [0.4444444444444444, \"#bd3786\"], [0.5555555555555556, \"#d8576b\"], [0.6666666666666666, \"#ed7953\"], [0.7777777777777778, \"#fb9f3a\"], [0.8888888888888888, \"#fdca26\"], [1.0, \"#f0f921\"]], \"type\": \"histogram2dcontour\"}], \"mesh3d\": [{\"colorbar\": {\"outlinewidth\": 0, \"ticks\": \"\"}, \"type\": \"mesh3d\"}], \"parcoords\": [{\"line\": {\"colorbar\": {\"outlinewidth\": 0, \"ticks\": \"\"}}, \"type\": \"parcoords\"}], \"pie\": [{\"automargin\": true, \"type\": \"pie\"}], \"scatter\": [{\"marker\": {\"colorbar\": {\"outlinewidth\": 0, \"ticks\": \"\"}}, \"type\": \"scatter\"}], \"scatter3d\": [{\"line\": {\"colorbar\": {\"outlinewidth\": 0, \"ticks\": \"\"}}, \"marker\": {\"colorbar\": {\"outlinewidth\": 0, \"ticks\": \"\"}}, \"type\": \"scatter3d\"}], \"scattercarpet\": [{\"marker\": {\"colorbar\": {\"outlinewidth\": 0, \"ticks\": \"\"}}, \"type\": \"scattercarpet\"}], \"scattergeo\": [{\"marker\": {\"colorbar\": {\"outlinewidth\": 0, \"ticks\": \"\"}}, \"type\": \"scattergeo\"}], \"scattergl\": [{\"marker\": {\"colorbar\": {\"outlinewidth\": 0, \"ticks\": \"\"}}, \"type\": \"scattergl\"}], \"scattermapbox\": [{\"marker\": {\"colorbar\": {\"outlinewidth\": 0, \"ticks\": \"\"}}, \"type\": \"scattermapbox\"}], \"scatterpolar\": [{\"marker\": {\"colorbar\": {\"outlinewidth\": 0, \"ticks\": \"\"}}, \"type\": \"scatterpolar\"}], \"scatterpolargl\": [{\"marker\": {\"colorbar\": {\"outlinewidth\": 0, \"ticks\": \"\"}}, \"type\": \"scatterpolargl\"}], \"scatterternary\": [{\"marker\": {\"colorbar\": {\"outlinewidth\": 0, \"ticks\": \"\"}}, \"type\": \"scatterternary\"}], \"surface\": [{\"colorbar\": {\"outlinewidth\": 0, \"ticks\": \"\"}, \"colorscale\": [[0.0, \"#0d0887\"], [0.1111111111111111, \"#46039f\"], [0.2222222222222222, \"#7201a8\"], [0.3333333333333333, \"#9c179e\"], [0.4444444444444444, \"#bd3786\"], [0.5555555555555556, \"#d8576b\"], [0.6666666666666666, \"#ed7953\"], [0.7777777777777778, \"#fb9f3a\"], [0.8888888888888888, \"#fdca26\"], [1.0, \"#f0f921\"]], \"type\": \"surface\"}], \"table\": [{\"cells\": {\"fill\": {\"color\": \"#EBF0F8\"}, \"line\": {\"color\": \"white\"}}, \"header\": {\"fill\": {\"color\": \"#C8D4E3\"}, \"line\": {\"color\": \"white\"}}, \"type\": \"table\"}]}, \"layout\": {\"annotationdefaults\": {\"arrowcolor\": \"#2a3f5f\", \"arrowhead\": 0, \"arrowwidth\": 1}, \"coloraxis\": {\"colorbar\": {\"outlinewidth\": 0, \"ticks\": \"\"}}, \"colorscale\": {\"diverging\": [[0, \"#8e0152\"], [0.1, \"#c51b7d\"], [0.2, \"#de77ae\"], [0.3, \"#f1b6da\"], [0.4, \"#fde0ef\"], [0.5, \"#f7f7f7\"], [0.6, \"#e6f5d0\"], [0.7, \"#b8e186\"], [0.8, \"#7fbc41\"], [0.9, \"#4d9221\"], [1, \"#276419\"]], \"sequential\": [[0.0, \"#0d0887\"], [0.1111111111111111, \"#46039f\"], [0.2222222222222222, \"#7201a8\"], [0.3333333333333333, \"#9c179e\"], [0.4444444444444444, \"#bd3786\"], [0.5555555555555556, \"#d8576b\"], [0.6666666666666666, \"#ed7953\"], [0.7777777777777778, \"#fb9f3a\"], [0.8888888888888888, \"#fdca26\"], [1.0, \"#f0f921\"]], \"sequentialminus\": [[0.0, \"#0d0887\"], [0.1111111111111111, \"#46039f\"], [0.2222222222222222, \"#7201a8\"], [0.3333333333333333, \"#9c179e\"], [0.4444444444444444, \"#bd3786\"], [0.5555555555555556, \"#d8576b\"], [0.6666666666666666, \"#ed7953\"], [0.7777777777777778, \"#fb9f3a\"], [0.8888888888888888, \"#fdca26\"], [1.0, \"#f0f921\"]]}, \"colorway\": [\"#636efa\", \"#EF553B\", \"#00cc96\", \"#ab63fa\", \"#FFA15A\", \"#19d3f3\", \"#FF6692\", \"#B6E880\", \"#FF97FF\", \"#FECB52\"], \"font\": {\"color\": \"#2a3f5f\"}, \"geo\": {\"bgcolor\": \"white\", \"lakecolor\": \"white\", \"landcolor\": \"#E5ECF6\", \"showlakes\": true, \"showland\": true, \"subunitcolor\": \"white\"}, \"hoverlabel\": {\"align\": \"left\"}, \"hovermode\": \"closest\", \"mapbox\": {\"style\": \"light\"}, \"paper_bgcolor\": \"white\", \"plot_bgcolor\": \"#E5ECF6\", \"polar\": {\"angularaxis\": {\"gridcolor\": \"white\", \"linecolor\": \"white\", \"ticks\": \"\"}, \"bgcolor\": \"#E5ECF6\", \"radialaxis\": {\"gridcolor\": \"white\", \"linecolor\": \"white\", \"ticks\": \"\"}}, \"scene\": {\"xaxis\": {\"backgroundcolor\": \"#E5ECF6\", \"gridcolor\": \"white\", \"gridwidth\": 2, \"linecolor\": \"white\", \"showbackground\": true, \"ticks\": \"\", \"zerolinecolor\": \"white\"}, \"yaxis\": {\"backgroundcolor\": \"#E5ECF6\", \"gridcolor\": \"white\", \"gridwidth\": 2, \"linecolor\": \"white\", \"showbackground\": true, \"ticks\": \"\", \"zerolinecolor\": \"white\"}, \"zaxis\": {\"backgroundcolor\": \"#E5ECF6\", \"gridcolor\": \"white\", \"gridwidth\": 2, \"linecolor\": \"white\", \"showbackground\": true, \"ticks\": \"\", \"zerolinecolor\": \"white\"}}, \"shapedefaults\": {\"line\": {\"color\": \"#2a3f5f\"}}, \"ternary\": {\"aaxis\": {\"gridcolor\": \"white\", \"linecolor\": \"white\", \"ticks\": \"\"}, \"baxis\": {\"gridcolor\": \"white\", \"linecolor\": \"white\", \"ticks\": \"\"}, \"bgcolor\": \"#E5ECF6\", \"caxis\": {\"gridcolor\": \"white\", \"linecolor\": \"white\", \"ticks\": \"\"}}, \"title\": {\"x\": 0.05}, \"xaxis\": {\"automargin\": true, \"gridcolor\": \"white\", \"linecolor\": \"white\", \"ticks\": \"\", \"title\": {\"standoff\": 15}, \"zerolinecolor\": \"white\", \"zerolinewidth\": 2}, \"yaxis\": {\"automargin\": true, \"gridcolor\": \"white\", \"linecolor\": \"white\", \"ticks\": \"\", \"title\": {\"standoff\": 15}, \"zerolinecolor\": \"white\", \"zerolinewidth\": 2}}}, \"title\": {\"text\": \"Pertumbuhan Vaksinisasi Dosis Pertama dan Kedua\", \"x\": 0.5, \"xanchor\": \"center\", \"y\": 0.98, \"yanchor\": \"top\"}, \"width\": 1000, \"xaxis\": {\"title\": {\"text\": \"Bulan\"}}, \"yaxis\": {\"title\": {\"text\": \"Jumlah\"}}},\n",
              "                        {\"responsive\": true}\n",
              "                    ).then(function(){\n",
              "                            \n",
              "var gd = document.getElementById('be82f721-e177-4371-82c2-5e60aabdc9f4');\n",
              "var x = new MutationObserver(function (mutations, observer) {{\n",
              "        var display = window.getComputedStyle(gd).display;\n",
              "        if (!display || display === 'none') {{\n",
              "            console.log([gd, 'removed!']);\n",
              "            Plotly.purge(gd);\n",
              "            observer.disconnect();\n",
              "        }}\n",
              "}});\n",
              "\n",
              "// Listen for the removal of the full notebook cells\n",
              "var notebookContainer = gd.closest('#notebook-container');\n",
              "if (notebookContainer) {{\n",
              "    x.observe(notebookContainer, {childList: true});\n",
              "}}\n",
              "\n",
              "// Listen for the clearing of the current output cell\n",
              "var outputEl = gd.closest('.output');\n",
              "if (outputEl) {{\n",
              "    x.observe(outputEl, {childList: true});\n",
              "}}\n",
              "\n",
              "                        })\n",
              "                };\n",
              "                \n",
              "            </script>\n",
              "        </div>\n",
              "</body>\n",
              "</html>"
            ]
          },
          "metadata": {}
        }
      ]
    },
    {
      "cell_type": "markdown",
      "source": [
        "Terlihat dari grafik, dari bulan Juni 2021 pertumbuhan vaksinasi di Jawa Barat setiap bulanya terus meningkat. Pada bulan tersebut pertumbuhan kasus Covid-19 juga sedang meningkat. Dengan demikian, semakin banyaknya orang yang melakukan vaksinasi maka pertumbuhan Covid-19 tersebut dapat ditekan sehingga pertumbuhannya menurun di bulan Agustus 2021. \n",
        "\n",
        "Lalu bagaimana distribusi vaksin Covid-19 untuk setiap wilayah?\n"
      ],
      "metadata": {
        "id": "XMGvrog1d0pl"
      }
    },
    {
      "cell_type": "code",
      "source": [
        "map_vac = dat_vac.groupby('Kab/kota').sum().reset_index()\n",
        "map_vac['id'] = map_vac['Kab/kota'].apply(lambda x: kab_id[x])"
      ],
      "metadata": {
        "id": "XvpFGIBtiOeu"
      },
      "execution_count": null,
      "outputs": []
    },
    {
      "cell_type": "code",
      "source": [
        "vac_cate = dat_vac.groupby('Kategori').sum().sort_values('Divaksin 1', ascending=True)"
      ],
      "metadata": {
        "id": "BPjcc-F4kOSD"
      },
      "execution_count": null,
      "outputs": []
    },
    {
      "cell_type": "code",
      "source": [
        "fig = px.choropleth_mapbox(map_vac, geojson=west_java_geojson, locations='id',\n",
        "                           color='Divaksin 1',\n",
        "                           color_continuous_scale=\"blues\",\n",
        "                           range_color=(0, int(map_vac['Divaksin 1'].max())),\n",
        "                           mapbox_style=\"carto-positron\",\n",
        "                           zoom=7.25, center = {\"lat\": -6.871893, \"lon\": 107.6455},\n",
        "                           opacity=0.8,\n",
        "                           hover_name='Kab/kota',\n",
        "                           hover_data=['id', 'Divaksin 1', 'Divaksin 2'],\n",
        "                           labels={'Divaksin 1': 'Penerima Dosis 1',\n",
        "                                   'Divaksin 2': 'Penerima Dosis 2'}\n",
        "                           )\n",
        "fig.update_layout(title={'text':'Peta Sebaran Vaksinisasi Dosis Pertama',\n",
        "                         'y':0.98, 'x':0.5, 'xanchor':'center', 'yanchor':'top'},\n",
        "                  margin={\"r\":10,\"t\":35,\"l\":10,\"b\":10},\n",
        "                  width=100*10, height=100*5.5)\n",
        "fig.show()\n",
        "\n",
        "fig = go.Figure(data=[go.Bar(x=vac_cate['Divaksin 1'], y=vac_cate.index, orientation='h')])\n",
        "fig.update_layout(title={'text':'Penerima Vaksinasi Dosis 1 Berdasarkan Kategori',\n",
        "                         'y':0.98, 'x':0.5, 'xanchor':'center', 'yanchor':'top'},\n",
        "                  margin={\"r\":90,\"t\":25,\"l\":0,\"b\":0},\n",
        "                  width=100*10, height=100*6)\n",
        "fig.show()"
      ],
      "metadata": {
        "colab": {
          "base_uri": "https://localhost:8080/",
          "height": 1000
        },
        "id": "cSk-9E5AiTJm",
        "outputId": "3592b035-7faf-4468-f774-c269295c3578"
      },
      "execution_count": null,
      "outputs": [
        {
          "output_type": "display_data",
          "data": {
            "text/html": [
              "<html>\n",
              "<head><meta charset=\"utf-8\" /></head>\n",
              "<body>\n",
              "    <div>\n",
              "            <script src=\"https://cdnjs.cloudflare.com/ajax/libs/mathjax/2.7.5/MathJax.js?config=TeX-AMS-MML_SVG\"></script><script type=\"text/javascript\">if (window.MathJax) {MathJax.Hub.Config({SVG: {font: \"STIX-Web\"}});}</script>\n",
              "                <script type=\"text/javascript\">window.PlotlyConfig = {MathJaxConfig: 'local'};</script>\n",
              "        <script src=\"https://cdn.plot.ly/plotly-latest.min.js\"></script>    \n",
              "            <div id=\"597ba9bf-fe89-4e1d-9020-5fb38d4dc228\" class=\"plotly-graph-div\" style=\"height:550.0px; width:1000px;\"></div>\n",
              "            <script type=\"text/javascript\">\n",
              "                \n",
              "                    window.PLOTLYENV=window.PLOTLYENV || {};\n",
              "                    \n",
              "                if (document.getElementById(\"597ba9bf-fe89-4e1d-9020-5fb38d4dc228\")) {\n",
              "                    Plotly.newPlot(\n",
              "                        '597ba9bf-fe89-4e1d-9020-5fb38d4dc228',\n",
              "                        [{\"coloraxis\": \"coloraxis\", \"customdata\": [[\"04\", 970221, 424488], [\"17\", 674731, 306541], [\"16\", 1433584, 700041], [\"01\", 1721120, 741787], [\"07\", 256402, 120126], [\"03\", 421812, 197736], [\"09\", 406599, 224800], [\"05\", 545025, 225971], [\"12\", 385555, 171719], [\"15\", 972389, 611072], [\"08\", 301392, 129563], [\"10\", 287790, 152288], [\"18\", 201070, 81946], [\"14\", 370671, 131567], [\"13\", 383860, 203453], [\"02\", 558742, 229357], [\"11\", 532923, 221135], [\"06\", 297306, 121758], [\"73\", 1683264, 1158185], [\"79\", 109318, 79120], [\"75\", 1338517, 930400], [\"71\", 679670, 443117], [\"77\", 366677, 226852], [\"74\", 198778, 126081], [\"76\", 931160, 524765], [\"72\", 195435, 94186], [\"78\", 213392, 143201]], \"geojson\": {\"features\": [{\"geometry\": {\"coordinates\": [[[108.323533, -6.62749], [108.31103, -6.62494], [108.292199, -6.60957], [108.28793200000013, -6.60741], [108.282128, -6.60988], [108.282729, -6.616669], [108.271318, -6.61278], [108.26938700000011, -6.60554], [108.27538, -6.59236], [108.27232, -6.58926], [108.255835, -6.58671], [108.23893800000013, -6.5791], [108.21794, -6.56621], [108.21457, -6.56524], [108.202392, -6.580691], [108.18963600000012, -6.60487], [108.18930100000011, -6.61447], [108.184448, -6.61622], [108.179528, -6.61002], [108.1744, -6.608649], [108.165253, -6.61045], [108.1548, -6.60335], [108.146897, -6.60339], [108.145347, -6.59963], [108.14589, -6.57519], [108.140839, -6.56496], [108.136001, -6.563308], [108.115174, -6.56669], [108.09566, -6.56835], [108.089896, -6.57026], [108.07624, -6.57915], [108.07309, -6.58342], [108.07222800000011, -6.59923], [108.06561, -6.61691], [108.0541300000001, -6.62493], [108.044487, -6.63632], [108.050668, -6.6392], [108.05332, -6.64917], [108.070282, -6.66348], [108.076333, -6.66473], [108.092141, -6.67395], [108.100198, -6.67537], [108.104394, -6.687149], [108.112152, -6.69766], [108.119659, -6.704249], [108.127609, -6.70504], [108.144898, -6.71092], [108.15056700000014, -6.71729], [108.158286, -6.72043], [108.162179, -6.72819], [108.16197100000011, -6.733538999999894], [108.150047, -6.74668], [108.1509, -6.76014], [108.16114900000014, -6.760109], [108.164139, -6.774021], [108.170616, -6.78517], [108.16279, -6.79927], [108.15593600000011, -6.79946], [108.15883, -6.80664], [108.163688, -6.81033], [108.156998, -6.82114], [108.16063600000012, -6.830260999999894], [108.168387, -6.83239], [108.17932, -6.83207], [108.1813, -6.85202], [108.188147, -6.85178], [108.18853, -6.86092], [108.19441300000011, -6.86344], [108.19944, -6.86975], [108.192918, -6.882478], [108.2015300000001, -6.89011], [108.212012, -6.88801], [108.21392, -6.89278], [108.211937, -6.90204], [108.216682, -6.90698], [108.21354600000012, -6.91481], [108.21694900000011, -6.917209999999898], [108.22119, -6.92807], [108.21712, -6.93401], [108.211609, -6.93575], [108.197152, -6.94884], [108.18150400000013, -6.957179], [108.1808400000001, -6.96049], [108.17047, -6.97363], [108.16855600000014, -6.988189], [108.16462700000011, -6.99977], [108.161721, -7.016139999999893], [108.15498, -7.01891], [108.14872, -7.029039999999895], [108.138298, -7.038489], [108.13785, -7.04097], [108.145347, -7.04803], [108.154136, -7.06526], [108.16214, -7.06289], [108.1702130000001, -7.06425], [108.18051200000014, -7.05486], [108.19117, -7.054261], [108.20787800000011, -7.05113], [108.216912, -7.05646], [108.22408300000012, -7.0519], [108.2303, -7.05436], [108.237518, -7.06165], [108.246277, -7.06399], [108.261146, -7.06281], [108.273453, -7.06384], [108.28978, -7.05793], [108.310592, -7.06059], [108.31886900000012, -7.05717], [108.332961, -7.065489999999897], [108.33976, -7.06462], [108.35621, -7.05153], [108.36054, -7.05122], [108.37652, -7.06173], [108.385933, -7.071639], [108.393272, -7.05629], [108.391777, -7.04621], [108.387191, -7.03623], [108.394546, -7.02949], [108.389473, -7.02116], [108.3843240000001, -7.005879], [108.384682, -6.98565], [108.386856, -6.975769999999898], [108.387681, -6.956249], [108.392533, -6.944739], [108.400681, -6.936781], [108.40358, -6.92751], [108.402518, -6.92073], [108.40960600000011, -6.87852], [108.41101, -6.8662], [108.406067, -6.85387], [108.404319, -6.84225], [108.3986670000001, -6.82763], [108.398484, -6.80922], [108.395218, -6.7983], [108.40338200000014, -6.78904], [108.400139, -6.775689], [108.39005400000013, -6.77186], [108.383811, -6.76659], [108.375686, -6.764990999999895], [108.37305, -6.75361], [108.36628, -6.742471], [108.375107, -6.73778], [108.376137, -6.732209999999895], [108.367652, -6.72516], [108.363372, -6.7185], [108.361077, -6.70867], [108.366531, -6.70262], [108.366332, -6.695019], [108.36239, -6.687149], [108.35522, -6.680271], [108.337166, -6.67359], [108.33393, -6.66819], [108.33492, -6.65507], [108.329529, -6.6456], [108.32933, -6.63927], [108.323533, -6.62749]]], \"type\": \"Polygon\"}, \"id\": \"10\", \"properties\": {\"NAME\": \"KABUPATEN MAJALENGKA\"}, \"type\": \"Feature\"}, {\"geometry\": {\"coordinates\": [[[108.044487, -6.63632], [108.03174600000011, -6.64488], [108.030876, -6.65719], [108.023819, -6.6652], [108.01479400000011, -6.66505], [107.99855100000013, -6.65472], [107.980377, -6.645279], [107.972008, -6.638], [107.96077600000012, -6.634], [107.95106, -6.62506], [107.940934, -6.62381], [107.92106700000011, -6.60518], [107.905639, -6.59383], [107.892632, -6.588859], [107.87288600000011, -6.58649], [107.8551, -6.57899], [107.850899, -6.58251], [107.857064, -6.59819], [107.853142, -6.607390999999893], [107.85486700000013, -6.626579], [107.85043400000012, -6.63883], [107.85301900000013, -6.64624], [107.850197, -6.65412], [107.841049, -6.661899], [107.837418, -6.67559], [107.83017, -6.68509], [107.83770700000014, -6.69145], [107.838676, -6.69587], [107.83448, -6.71502], [107.83678, -6.724671], [107.834877, -6.73186], [107.8358, -6.74663], [107.83833, -6.75582], [107.834587, -6.77266], [107.820076, -6.78586], [107.81598700000012, -6.79512], [107.8054580000001, -6.80612], [107.79993, -6.8078], [107.79117700000012, -6.801719], [107.783332, -6.80235], [107.774598, -6.79843], [107.76084800000012, -6.8061], [107.74429, -6.81013], [107.741182, -6.81951], [107.744461, -6.83433], [107.741241, -6.84175], [107.738586, -6.873719], [107.748208, -6.88254], [107.758453, -6.89643], [107.758056, -6.91988], [107.755866, -6.92931], [107.7595510000001, -6.94437], [107.7708970000001, -6.95164], [107.808838, -6.96351], [107.829505, -6.96351], [107.83802, -6.96688], [107.8550560000001, -6.96495], [107.86438700000014, -6.96142], [107.877572, -6.96058], [107.88742, -6.95786], [107.894784, -6.95158], [107.908372, -6.95074], [107.91615300000012, -6.94796], [107.924782, -6.94961], [107.928757, -6.953570999999897], [107.937499, -6.95355], [107.953798, -6.96132], [107.95955700000013, -6.960739], [107.966232, -6.95601], [107.98004900000012, -6.97126], [107.985291, -6.97884], [107.99680300000011, -6.982489], [108.00087800000011, -6.98589], [108.008317, -6.98225], [108.021333, -6.984], [108.031486, -6.99157], [108.042098, -6.99574], [108.059196, -6.99426], [108.07153, -6.98313], [108.08233600000011, -6.98987], [108.0898370000001, -6.99758], [108.092492, -7.00615], [108.099373, -7.019249], [108.108147, -7.02849], [108.12026, -7.03652], [108.132309, -7.04115], [108.13785, -7.04097], [108.138298, -7.038489], [108.14872, -7.029039999999895], [108.15498, -7.01891], [108.161721, -7.016139999999893], [108.16462700000011, -6.99977], [108.16855600000014, -6.988189], [108.17047, -6.97363], [108.1808400000001, -6.96049], [108.18150400000013, -6.957179], [108.197152, -6.94884], [108.211609, -6.93575], [108.21712, -6.93401], [108.22119, -6.92807], [108.21694900000011, -6.917209999999898], [108.21354600000012, -6.91481], [108.216682, -6.90698], [108.211937, -6.90204], [108.21392, -6.89278], [108.212012, -6.88801], [108.2015300000001, -6.89011], [108.192918, -6.882478], [108.19944, -6.86975], [108.19441300000011, -6.86344], [108.18853, -6.86092], [108.188147, -6.85178], [108.1813, -6.85202], [108.17932, -6.83207], [108.168387, -6.83239], [108.16063600000012, -6.830260999999894], [108.156998, -6.82114], [108.163688, -6.81033], [108.15883, -6.80664], [108.15593600000011, -6.79946], [108.16279, -6.79927], [108.170616, -6.78517], [108.164139, -6.774021], [108.16114900000014, -6.760109], [108.1509, -6.76014], [108.150047, -6.74668], [108.16197100000011, -6.733538999999894], [108.162179, -6.72819], [108.158286, -6.72043], [108.15056700000014, -6.71729], [108.144898, -6.71092], [108.127609, -6.70504], [108.119659, -6.704249], [108.112152, -6.69766], [108.104394, -6.687149], [108.100198, -6.67537], [108.092141, -6.67395], [108.076333, -6.66473], [108.070282, -6.66348], [108.05332, -6.64917], [108.050668, -6.6392], [108.044487, -6.63632]]], \"type\": \"Polygon\"}, \"id\": \"11\", \"properties\": {\"NAME\": \"KABUPATEN SUMEDANG\"}, \"type\": \"Feature\"}, {\"geometry\": {\"coordinates\": [[[108.539239, -6.51575], [108.536942, -6.49972], [108.53714, -6.4822], [108.519928, -6.47592], [108.489511, -6.46031], [108.477265, -6.45289], [108.45208, -6.434005], [108.432503, -6.41306], [108.429168, -6.41139], [108.411767, -6.389752], [108.396118, -6.36671], [108.39167900000012, -6.35821], [108.384048, -6.355160999999896], [108.37285500000013, -6.32945], [108.36767500000013, -6.30843], [108.3672, -6.30187], [108.37375, -6.295311], [108.364402, -6.264788999999894], [108.35751, -6.26269], [108.350281, -6.251939], [108.349319, -6.23966], [108.342568, -6.24077], [108.3375170000001, -6.24752], [108.340501, -6.25134], [108.340736, -6.25985], [108.338, -6.2739], [108.333695, -6.27232], [108.329101, -6.26477], [108.299057, -6.24668], [108.29036, -6.24535], [108.281991, -6.24821], [108.261451, -6.24798], [108.23972, -6.240947], [108.238655, -6.244884999999897], [108.232009, -6.24263], [108.221145, -6.25031], [108.21595700000012, -6.238494], [108.21026, -6.240923999999893], [108.207221, -6.23389], [108.199288, -6.22835], [108.196113, -6.23389], [108.201699, -6.241749], [108.20737400000013, -6.261833], [108.2121, -6.26593], [108.20977, -6.273844], [108.19530400000014, -6.279039999999895], [108.190399, -6.293740999999898], [108.18379900000014, -6.29395], [108.17055, -6.30222], [108.167656, -6.30688], [108.146416, -6.318012999999894], [108.13282, -6.32208], [108.132201, -6.33164], [108.12961700000011, -6.33414], [108.10916800000012, -6.33306], [108.111037, -6.32848], [108.091384, -6.324051], [108.086945, -6.320001], [108.080002, -6.320554999999899], [108.06179, -6.31514], [108.055267, -6.31472], [108.042634, -6.31003], [108.02961, -6.30348], [108.01339, -6.293611], [108.004738, -6.28696], [107.99028, -6.27833], [107.974442, -6.271941], [107.95333, -6.26], [107.93528, -6.2525], [107.930092, -6.25382], [107.918977, -6.24898], [107.919715, -6.25718], [107.914544, -6.273279], [107.925133, -6.28108], [107.92299700000012, -6.29654], [107.923524, -6.3101], [107.92195800000013, -6.33539], [107.9193580000001, -6.34661], [107.92362200000014, -6.35987], [107.92023, -6.36661], [107.902779, -6.383999], [107.900482, -6.38757], [107.901229, -6.40285], [107.89408900000012, -6.40764], [107.892822, -6.41213], [107.89759900000013, -6.42562], [107.89332, -6.44132], [107.89557700000012, -6.44787], [107.89224, -6.455689], [107.900299, -6.46958], [107.90277, -6.47883], [107.912727, -6.47967], [107.9212490000001, -6.484249], [107.919982, -6.491921], [107.915269, -6.49668], [107.920677, -6.50178], [107.920905, -6.51368], [107.911873, -6.53042], [107.912208, -6.53743], [107.89908700000012, -6.54574], [107.89879500000012, -6.551201], [107.887108, -6.556168999999898], [107.88181300000014, -6.567271], [107.87439, -6.569068999999899], [107.8627, -6.56892], [107.85481, -6.57204], [107.8551, -6.57899], [107.87288600000011, -6.58649], [107.892632, -6.588859], [107.905639, -6.59383], [107.92106700000011, -6.60518], [107.940934, -6.62381], [107.95106, -6.62506], [107.96077600000012, -6.634], [107.972008, -6.638], [107.980377, -6.645279], [107.99855100000013, -6.65472], [108.01479400000011, -6.66505], [108.023819, -6.6652], [108.030876, -6.65719], [108.03174600000011, -6.64488], [108.044487, -6.63632], [108.0541300000001, -6.62493], [108.06561, -6.61691], [108.07222800000011, -6.59923], [108.07309, -6.58342], [108.07624, -6.57915], [108.089896, -6.57026], [108.09566, -6.56835], [108.115174, -6.56669], [108.136001, -6.563308], [108.140839, -6.56496], [108.14589, -6.57519], [108.145347, -6.59963], [108.146897, -6.60339], [108.1548, -6.60335], [108.165253, -6.61045], [108.1744, -6.608649], [108.179528, -6.61002], [108.184448, -6.61622], [108.18930100000011, -6.61447], [108.18963600000012, -6.60487], [108.202392, -6.580691], [108.21457, -6.56524], [108.21794, -6.56621], [108.23893800000013, -6.5791], [108.255835, -6.58671], [108.27232, -6.58926], [108.27538, -6.59236], [108.26938700000011, -6.60554], [108.271318, -6.61278], [108.282729, -6.616669], [108.282128, -6.60988], [108.28793200000013, -6.60741], [108.292199, -6.60957], [108.31103, -6.62494], [108.323533, -6.62749], [108.320953, -6.61646], [108.335717, -6.60572], [108.33685400000013, -6.602039], [108.330049, -6.59953], [108.32997, -6.59447], [108.334671, -6.58882], [108.3480540000001, -6.58004], [108.35191, -6.579859], [108.355377, -6.567661], [108.360398, -6.55799], [108.37029400000011, -6.55348], [108.373382, -6.548471], [108.383499, -6.54378], [108.392449, -6.535999], [108.400337, -6.53563], [108.41078900000014, -6.52819], [108.4362, -6.51754], [108.437553, -6.52352], [108.446731, -6.5319], [108.44883, -6.57037], [108.452468, -6.57289], [108.47006, -6.56715], [108.47326, -6.55972], [108.489723, -6.55547], [108.49223, -6.55151], [108.490593, -6.5422], [108.49801, -6.54115], [108.500054, -6.53378], [108.507796, -6.52801], [108.512466, -6.51592], [108.51920300000012, -6.51401], [108.530731, -6.51737], [108.539239, -6.51575]]], \"type\": \"Polygon\"}, \"id\": \"12\", \"properties\": {\"NAME\": \"KABUPATEN INDRAMAYU\"}, \"type\": \"Feature\"}, {\"geometry\": {\"coordinates\": [[[107.918977, -6.24898], [107.902467, -6.243041], [107.896942, -6.23778], [107.88777, -6.235408], [107.884651, -6.22612], [107.890273, -6.22444], [107.88325600000013, -6.20861], [107.888785, -6.20316], [107.896942, -6.20972], [107.89917, -6.205559], [107.891488, -6.19608], [107.89138800000012, -6.19], [107.871391, -6.20028], [107.869827, -6.20727], [107.854218, -6.2101], [107.847923, -6.19621], [107.85028100000011, -6.18778], [107.837142, -6.187925], [107.828887, -6.18389], [107.820557, -6.183329999999899], [107.813179, -6.18697], [107.812195, -6.19447], [107.802087, -6.19706], [107.795769, -6.20321], [107.79076, -6.20173], [107.779441, -6.20667], [107.762779, -6.21111], [107.75027, -6.22667], [107.7213210000001, -6.236792], [107.713891, -6.23556], [107.701668, -6.22889], [107.696107, -6.22333], [107.694619, -6.232395], [107.68555, -6.241669], [107.67972500000013, -6.24472], [107.66889, -6.244998999999893], [107.651108, -6.22722], [107.641159, -6.21313], [107.63178, -6.21947], [107.62119, -6.22208], [107.612953, -6.23149], [107.600746, -6.241489], [107.597869, -6.24673], [107.58448, -6.25656], [107.580787, -6.27254], [107.580947, -6.27929], [107.586036, -6.29132], [107.586007, -6.29848], [107.581031, -6.30336], [107.582611, -6.312049], [107.57955900000013, -6.32435], [107.572295, -6.33466], [107.564927, -6.354619], [107.55918, -6.36348], [107.55261300000012, -6.36901], [107.549798, -6.37787], [107.534829, -6.39365], [107.530113, -6.40303], [107.52894600000013, -6.41763], [107.52746, -6.429759], [107.529297, -6.437968999999896], [107.54236600000013, -6.44352], [107.545411, -6.46207], [107.548576, -6.46856], [107.55844000000013, -6.47312], [107.56619200000011, -6.48536], [107.56118, -6.51658], [107.564118, -6.52359], [107.560601, -6.533878999999899], [107.56330900000012, -6.54514], [107.55909700000012, -6.556988], [107.57309, -6.579319], [107.580979, -6.58424], [107.587196, -6.59452], [107.589211, -6.60164], [107.581261, -6.62855], [107.582175, -6.63493], [107.590699, -6.64497], [107.60013500000014, -6.65213], [107.600602, -6.658569], [107.597603, -6.66737], [107.60002, -6.675929], [107.598747, -6.701391], [107.589988, -6.72205], [107.59563, -6.7269], [107.601967, -6.73616], [107.599358, -6.75604], [107.620506, -6.76415], [107.62902800000012, -6.76925], [107.6482, -6.76592], [107.65838700000012, -6.76797], [107.665298, -6.77175], [107.67353, -6.78311], [107.68159, -6.78981], [107.6897120000001, -6.79135], [107.704795, -6.79097], [107.71815, -6.796510999999896], [107.72385, -6.80552], [107.728813, -6.80827], [107.74429, -6.81013], [107.76084800000012, -6.8061], [107.774598, -6.79843], [107.783332, -6.80235], [107.79117700000012, -6.801719], [107.79993, -6.8078], [107.8054580000001, -6.80612], [107.81598700000012, -6.79512], [107.820076, -6.78586], [107.834587, -6.77266], [107.83833, -6.75582], [107.8358, -6.74663], [107.834877, -6.73186], [107.83678, -6.724671], [107.83448, -6.71502], [107.838676, -6.69587], [107.83770700000014, -6.69145], [107.83017, -6.68509], [107.837418, -6.67559], [107.841049, -6.661899], [107.850197, -6.65412], [107.85301900000013, -6.64624], [107.85043400000012, -6.63883], [107.85486700000013, -6.626579], [107.853142, -6.607390999999893], [107.857064, -6.59819], [107.850899, -6.58251], [107.8551, -6.57899], [107.85481, -6.57204], [107.8627, -6.56892], [107.87439, -6.569068999999899], [107.88181300000014, -6.567271], [107.887108, -6.556168999999898], [107.89879500000012, -6.551201], [107.89908700000012, -6.54574], [107.912208, -6.53743], [107.911873, -6.53042], [107.920905, -6.51368], [107.920677, -6.50178], [107.915269, -6.49668], [107.919982, -6.491921], [107.9212490000001, -6.484249], [107.912727, -6.47967], [107.90277, -6.47883], [107.900299, -6.46958], [107.89224, -6.455689], [107.89557700000012, -6.44787], [107.89332, -6.44132], [107.89759900000013, -6.42562], [107.892822, -6.41213], [107.89408900000012, -6.40764], [107.901229, -6.40285], [107.900482, -6.38757], [107.902779, -6.383999], [107.92023, -6.36661], [107.92362200000014, -6.35987], [107.9193580000001, -6.34661], [107.92195800000013, -6.33539], [107.923524, -6.3101], [107.92299700000012, -6.29654], [107.925133, -6.28108], [107.914544, -6.273279], [107.919715, -6.25718], [107.918977, -6.24898]]], \"type\": \"Polygon\"}, \"id\": \"13\", \"properties\": {\"NAME\": \"KABUPATEN SUBANG\"}, \"type\": \"Feature\"}, {\"geometry\": {\"coordinates\": [[[107.52894600000013, -6.41763], [107.51905, -6.41592], [107.50593, -6.409059999999897], [107.497353, -6.40994], [107.490096, -6.41731], [107.473458, -6.430049], [107.46379, -6.42846], [107.449623, -6.44033], [107.423896, -6.44033], [107.416528, -6.42764], [107.400697, -6.425089999999898], [107.388032, -6.41649], [107.38067, -6.41456], [107.372948, -6.41854], [107.37478, -6.43463], [107.37376, -6.45107], [107.3683400000001, -6.45366], [107.371392, -6.47556], [107.378532, -6.48088], [107.38031, -6.487949999999898], [107.387109, -6.4946], [107.388604, -6.50581], [107.384971, -6.52082], [107.35803, -6.50334], [107.337533, -6.49593], [107.325736, -6.48906], [107.317848, -6.49408], [107.311341, -6.49519], [107.304595, -6.50089], [107.305238, -6.505718], [107.317039, -6.51012], [107.32309, -6.52131], [107.320321, -6.525738], [107.30737, -6.526180999999895], [107.30127, -6.52113], [107.29718100000014, -6.52252], [107.295052, -6.53632], [107.28347900000011, -6.54692], [107.29010000000011, -6.56214], [107.28838, -6.57238], [107.289176, -6.5864], [107.287453, -6.591519], [107.289466, -6.60433], [107.28122700000011, -6.607799], [107.28279, -6.61447], [107.27928, -6.61815], [107.284636, -6.626759], [107.28084, -6.63166], [107.288201, -6.63755], [107.280778, -6.6412], [107.26622, -6.63613], [107.281639, -6.64999], [107.275818, -6.65946], [107.275399, -6.66948], [107.265159, -6.683291], [107.26056, -6.68606], [107.26335200000011, -6.69336], [107.27975, -6.698219], [107.286346, -6.703729999999894], [107.306512, -6.709589], [107.309677, -6.718], [107.316077, -6.727168], [107.326051, -6.73142], [107.33544100000012, -6.72906], [107.347976, -6.71016], [107.350745, -6.69844], [107.35551, -6.69458], [107.372246, -6.702381], [107.38089, -6.69839], [107.381545, -6.69017], [107.38535400000012, -6.68852], [107.393707, -6.69529], [107.4133690000001, -6.68789], [107.419053, -6.6894], [107.425972, -6.6965], [107.44843, -6.696439], [107.457466, -6.702629], [107.466507, -6.713928999999894], [107.48268200000012, -6.72958], [107.49944, -6.73512], [107.51158800000013, -6.7517], [107.528969, -6.75425], [107.540253, -6.7602], [107.550217, -6.770059], [107.561385, -6.76831], [107.55976900000013, -6.75262], [107.563735, -6.74521], [107.564378, -6.73801], [107.56823800000012, -6.730249999999899], [107.574287, -6.72495], [107.589988, -6.72205], [107.598747, -6.701391], [107.60002, -6.675929], [107.597603, -6.66737], [107.600602, -6.658569], [107.60013500000014, -6.65213], [107.590699, -6.64497], [107.582175, -6.63493], [107.581261, -6.62855], [107.589211, -6.60164], [107.587196, -6.59452], [107.580979, -6.58424], [107.57309, -6.579319], [107.55909700000012, -6.556988], [107.56330900000012, -6.54514], [107.560601, -6.533878999999899], [107.564118, -6.52359], [107.56118, -6.51658], [107.56619200000011, -6.48536], [107.55844000000013, -6.47312], [107.548576, -6.46856], [107.545411, -6.46207], [107.54236600000013, -6.44352], [107.529297, -6.437968999999896], [107.52746, -6.429759], [107.52894600000013, -6.41763]]], \"type\": \"Polygon\"}, \"id\": \"14\", \"properties\": {\"NAME\": \"KABUPATEN PURWAKARTA\"}, \"type\": \"Feature\"}, {\"geometry\": {\"coordinates\": [[[107.641159, -6.21313], [107.63603100000012, -6.21025], [107.626618, -6.19838], [107.623337, -6.18944], [107.601113, -6.18694], [107.589448, -6.18972], [107.576462, -6.187508], [107.564163, -6.181388], [107.539353, -6.177454999999895], [107.508393, -6.16234], [107.4882, -6.15692], [107.479446, -6.15222], [107.468064, -6.14361], [107.461671, -6.13528], [107.446662, -6.10694], [107.42555, -6.081389], [107.426392, -6.07805], [107.415017, -6.06079], [107.406616, -6.04326], [107.39438600000011, -6.02401], [107.375572, -6.001], [107.351112, -5.97667], [107.34333, -5.97083], [107.33333, -5.96611], [107.30284200000011, -5.95814], [107.28186, -5.95887], [107.259712, -5.96361], [107.247947, -5.96883], [107.222496, -5.975], [107.20722100000012, -5.977777], [107.193886, -5.98556], [107.18089, -5.98883], [107.16472, -5.98778], [107.144447, -5.9825], [107.134163, -5.976945], [107.121108, -5.96444], [107.10072400000013, -5.93822], [107.096519, -5.95395], [107.096801, -5.961879999999894], [107.08964, -5.97849], [107.08678, -6.00099], [107.091956, -6.0046], [107.09477, -6.012001], [107.1018, -6.01549], [107.09892300000013, -6.02108], [107.10260000000011, -6.02509], [107.11262, -6.02961], [107.116256, -6.03748], [107.123611, -6.04539], [107.12992200000014, -6.046459], [107.13443, -6.06134], [107.143127, -6.05799], [107.144966, -6.06822], [107.1519320000001, -6.07056], [107.158958, -6.06704], [107.164886, -6.069498999999894], [107.17536100000012, -6.07772], [107.1835860000001, -6.07543], [107.18877, -6.07697], [107.191224, -6.086209], [107.206918, -6.09464], [107.215943, -6.101], [107.236779, -6.10291], [107.244027, -6.09979], [107.249207, -6.10276], [107.25123, -6.11368], [107.25891200000012, -6.11078], [107.268379, -6.112319], [107.27236, -6.128221], [107.280067, -6.12557], [107.28347900000011, -6.12747], [107.28063900000012, -6.13413], [107.28824, -6.14113], [107.293999, -6.14359], [107.28864, -6.156069], [107.280869, -6.16034], [107.279609, -6.165588999999898], [107.288611, -6.16393], [107.290077, -6.1717], [107.28749, -6.18188], [107.29279, -6.1921], [107.293129, -6.19997], [107.297698, -6.20565], [107.28914700000013, -6.21929], [107.275224, -6.21748], [107.28208, -6.2254], [107.28212, -6.229469], [107.273781, -6.23817], [107.27768700000013, -6.25305], [107.27545, -6.260399], [107.27671900000013, -6.26633], [107.26762, -6.27514], [107.2672740000001, -6.28555], [107.25743, -6.29039], [107.24482000000012, -6.30094], [107.23809, -6.29992], [107.23594700000012, -6.3082], [107.23037, -6.30586], [107.2241, -6.31466], [107.223747, -6.32265], [107.220009, -6.32576], [107.22688, -6.34733], [107.225297, -6.35236], [107.214309, -6.354509], [107.21333, -6.36337], [107.20826000000011, -6.369349], [107.21937, -6.38226], [107.223298, -6.39946], [107.22, -6.40979], [107.213783, -6.41187], [107.212167, -6.41711], [107.207091, -6.41797], [107.204741, -6.42821], [107.206009, -6.436198], [107.21417900000012, -6.458249], [107.211937, -6.46647], [107.203698, -6.46764], [107.196732, -6.464129], [107.183778, -6.47355], [107.175163, -6.48535], [107.17640000000011, -6.49412], [107.16563, -6.49961], [107.164421, -6.5072], [107.17529900000011, -6.52396], [107.177002, -6.53022], [107.176697, -6.54373], [107.178643, -6.5497], [107.18679800000012, -6.55951], [107.192063, -6.56927], [107.200204, -6.59349], [107.204322, -6.58878], [107.211166, -6.58716], [107.222908, -6.58018], [107.223923, -6.59998], [107.23051, -6.60361], [107.240357, -6.61652], [107.256829, -6.63097], [107.26622, -6.63613], [107.280778, -6.6412], [107.288201, -6.63755], [107.28084, -6.63166], [107.284636, -6.626759], [107.27928, -6.61815], [107.28279, -6.61447], [107.28122700000011, -6.607799], [107.289466, -6.60433], [107.287453, -6.591519], [107.289176, -6.5864], [107.28838, -6.57238], [107.29010000000011, -6.56214], [107.28347900000011, -6.54692], [107.295052, -6.53632], [107.29718100000014, -6.52252], [107.30127, -6.52113], [107.30737, -6.526180999999895], [107.320321, -6.525738], [107.32309, -6.52131], [107.317039, -6.51012], [107.305238, -6.505718], [107.304595, -6.50089], [107.311341, -6.49519], [107.317848, -6.49408], [107.325736, -6.48906], [107.337533, -6.49593], [107.35803, -6.50334], [107.384971, -6.52082], [107.388604, -6.50581], [107.387109, -6.4946], [107.38031, -6.487949999999898], [107.378532, -6.48088], [107.371392, -6.47556], [107.3683400000001, -6.45366], [107.37376, -6.45107], [107.37478, -6.43463], [107.372948, -6.41854], [107.38067, -6.41456], [107.388032, -6.41649], [107.400697, -6.425089999999898], [107.416528, -6.42764], [107.423896, -6.44033], [107.449623, -6.44033], [107.46379, -6.42846], [107.473458, -6.430049], [107.490096, -6.41731], [107.497353, -6.40994], [107.50593, -6.409059999999897], [107.51905, -6.41592], [107.52894600000013, -6.41763], [107.530113, -6.40303], [107.534829, -6.39365], [107.549798, -6.37787], [107.55261300000012, -6.36901], [107.55918, -6.36348], [107.564927, -6.354619], [107.572295, -6.33466], [107.57955900000013, -6.32435], [107.582611, -6.312049], [107.581031, -6.30336], [107.586007, -6.29848], [107.586036, -6.29132], [107.580947, -6.27929], [107.580787, -6.27254], [107.58448, -6.25656], [107.597869, -6.24673], [107.600746, -6.241489], [107.612953, -6.23149], [107.62119, -6.22208], [107.63178, -6.21947], [107.641159, -6.21313]]], \"type\": \"Polygon\"}, \"id\": \"15\", \"properties\": {\"NAME\": \"KABUPATEN KARAWANG\"}, \"type\": \"Feature\"}, {\"geometry\": {\"coordinates\": [[[107.10072400000013, -5.93822], [107.0963890000001, -5.93583], [107.072219, -5.93361], [107.056388, -5.92806], [107.04750200000012, -5.9225], [107.038064, -5.92167], [107.037216, -5.91722], [107.026657, -5.91472], [107.004722, -5.92083], [107.005837, -5.92444], [107.001388, -5.931666], [106.991943, -5.93556], [106.989999, -5.94305], [106.999726, -5.94028], [107.005837, -5.94083], [107.01139100000012, -5.9475], [107.016113, -5.95944], [107.01667, -5.97], [107.01305500000012, -5.97722], [107.00611, -6], [106.996948, -6.0025], [106.98972, -6.01028], [106.994507, -6.02578], [107.00278, -6.01944], [107.007225, -6.01944], [107.015557, -6.03361], [107.00507, -6.04098], [107.00333400000011, -6.045278], [106.996353, -6.050000999999895], [106.987221, -6.051111], [106.998885, -6.059724], [106.998885, -6.06528], [107.004449, -6.07306], [107.012496, -6.07472], [107.01139100000012, -6.08028], [107.003052, -6.07917], [106.995248, -6.08492], [106.982498, -6.089445999999896], [106.972839, -6.09111], [106.972527, -6.14771], [106.972946, -6.17417], [106.983642, -6.16504], [107.01204, -6.16734], [107.012223, -6.18517], [107.023728, -6.19383], [107.02869, -6.19292], [107.035798, -6.196349], [107.03829200000013, -6.203758], [107.032639, -6.21721], [107.040124, -6.22128], [107.04432, -6.22932], [107.04252600000012, -6.24644], [107.039429, -6.25136], [107.029168, -6.25692], [107.024063, -6.26364], [107.01883700000013, -6.282739], [107.03115800000012, -6.27945], [107.044518, -6.28467], [107.045737, -6.30647], [107.043342, -6.32074], [107.04004, -6.3246], [107.026741, -6.32832], [107.023842, -6.348859], [107.0217970000001, -6.353249], [107.01071900000011, -6.35476], [107.00470800000011, -6.36627], [106.98464300000012, -6.37687], [107.007202, -6.39031], [107.01599900000014, -6.39408], [107.045097, -6.400801], [107.052085, -6.404919], [107.05945600000013, -6.41588], [107.071396, -6.42919], [107.078926, -6.435379999999896], [107.11531000000014, -6.459378999999899], [107.1481940000001, -6.47626], [107.17640000000011, -6.49412], [107.175163, -6.48535], [107.183778, -6.47355], [107.196732, -6.464129], [107.203698, -6.46764], [107.211937, -6.46647], [107.21417900000012, -6.458249], [107.206009, -6.436198], [107.204741, -6.42821], [107.207091, -6.41797], [107.212167, -6.41711], [107.213783, -6.41187], [107.22, -6.40979], [107.223298, -6.39946], [107.21937, -6.38226], [107.20826000000011, -6.369349], [107.21333, -6.36337], [107.214309, -6.354509], [107.225297, -6.35236], [107.22688, -6.34733], [107.220009, -6.32576], [107.223747, -6.32265], [107.2241, -6.31466], [107.23037, -6.30586], [107.23594700000012, -6.3082], [107.23809, -6.29992], [107.24482000000012, -6.30094], [107.25743, -6.29039], [107.2672740000001, -6.28555], [107.26762, -6.27514], [107.27671900000013, -6.26633], [107.27545, -6.260399], [107.27768700000013, -6.25305], [107.273781, -6.23817], [107.28212, -6.229469], [107.28208, -6.2254], [107.275224, -6.21748], [107.28914700000013, -6.21929], [107.297698, -6.20565], [107.293129, -6.19997], [107.29279, -6.1921], [107.28749, -6.18188], [107.290077, -6.1717], [107.288611, -6.16393], [107.279609, -6.165588999999898], [107.280869, -6.16034], [107.28864, -6.156069], [107.293999, -6.14359], [107.28824, -6.14113], [107.28063900000012, -6.13413], [107.28347900000011, -6.12747], [107.280067, -6.12557], [107.27236, -6.128221], [107.268379, -6.112319], [107.25891200000012, -6.11078], [107.25123, -6.11368], [107.249207, -6.10276], [107.244027, -6.09979], [107.236779, -6.10291], [107.215943, -6.101], [107.206918, -6.09464], [107.191224, -6.086209], [107.18877, -6.07697], [107.1835860000001, -6.07543], [107.17536100000012, -6.07772], [107.164886, -6.069498999999894], [107.158958, -6.06704], [107.1519320000001, -6.07056], [107.144966, -6.06822], [107.143127, -6.05799], [107.13443, -6.06134], [107.12992200000014, -6.046459], [107.123611, -6.04539], [107.116256, -6.03748], [107.11262, -6.02961], [107.10260000000011, -6.02509], [107.09892300000013, -6.02108], [107.1018, -6.01549], [107.09477, -6.012001], [107.091956, -6.0046], [107.08678, -6.00099], [107.08964, -5.97849], [107.096801, -5.961879999999894], [107.096519, -5.95395], [107.10072400000013, -5.93822]]], \"type\": \"Polygon\"}, \"id\": \"16\", \"properties\": {\"NAME\": \"KABUPATEN BEKASI\"}, \"type\": \"Feature\"}, {\"geometry\": {\"coordinates\": [[[107.18345, -6.97791], [107.184883, -6.98688], [107.188446, -6.99141], [107.183648, -6.999999], [107.194032, -7.012719], [107.193733, -7.017699], [107.188156, -7.0334], [107.185517, -7.0474], [107.188582, -7.05489], [107.195657, -7.05697], [107.205879, -7.05508], [107.218163, -7.05687], [107.22715, -7.051], [107.233673, -7.04945], [107.249175, -7.05079], [107.263839, -7.07783], [107.272605, -7.08371], [107.280908, -7.0832], [107.290191, -7.087131], [107.305878, -7.087019], [107.310607, -7.09342], [107.31857, -7.111921], [107.344169, -7.108403], [107.365664, -7.115347], [107.390782, -7.119542], [107.406654, -7.10939], [107.407148, -7.089053], [107.420642, -7.074666], [107.418639, -7.062762], [107.430634, -7.052838], [107.44713, -7.047874], [107.452628, -7.050868], [107.471126, -7.053842], [107.477126, -7.057314], [107.474624, -7.051361], [107.475238, -7.040063], [107.479731, -7.034859], [107.480853, -7.022596], [107.478553, -7.022481], [107.477866, -7.019979], [107.474658, -7.01816], [107.476491, -7.012247], [107.473741, -7.007471], [107.477637, -7.002922], [107.485427, -6.999965], [107.48726, -6.99428], [107.485583, -6.987062], [107.488254, -6.978666], [107.497604, -6.977119], [107.503615, -6.982201], [107.508067, -6.97513], [107.507844, -6.970268], [107.513632, -6.963418], [107.51818, -6.963531], [107.51818, -6.958982], [107.521617, -6.957162], [107.517722, -6.955797], [107.523679, -6.951248], [107.525971, -6.944197], [107.531928, -6.941695], [107.543963, -6.941252], [107.549548, -6.94351], [107.555466, -6.941593], [107.548943, -6.93188], [107.554779, -6.928642], [107.56422, -6.92762], [107.565765, -6.920974], [107.572632, -6.915691], [107.56628, -6.905892], [107.561474, -6.896093], [107.550144, -6.905892], [107.55023, -6.899246], [107.544565, -6.901461], [107.543192, -6.898053], [107.533493, -6.899757], [107.532549, -6.897797], [107.524867, -6.890853], [107.526219, -6.888999], [107.527184, -6.889702], [107.529266, -6.887295], [107.526026, -6.885953], [107.522936, -6.882119], [107.52388, -6.880159], [107.528429, -6.883226], [107.53006, -6.879988], [107.524223, -6.877347], [107.525339, -6.876068], [107.521198, -6.874023], [107.522914, -6.872127], [107.52491, -6.872575], [107.526455, -6.868484], [107.530231, -6.86661], [107.542012, -6.867142], [107.55038, -6.871957], [107.546518, -6.876388], [107.549973, -6.87888], [107.556152, -6.888765], [107.563534, -6.887743], [107.575893, -6.890469], [107.576923, -6.883482], [107.580261, -6.87313], [107.590027, -6.86303], [107.601532, -6.84835], [107.608932, -6.85147], [107.608686, -6.854481], [107.608385, -6.857473], [107.607886, -6.86296], [107.612189, -6.86509], [107.623963, -6.85339], [107.628692, -6.85605], [107.641644, -6.850394], [107.662243, -6.830623], [107.692112, -6.829255], [107.694173, -6.835391], [107.703444, -6.83948], [107.710998, -6.833002], [107.721299, -6.82925], [107.718207, -6.823455], [107.72385, -6.80552], [107.71815, -6.796511], [107.704795, -6.79097], [107.699665, -6.791417], [107.689712, -6.79135], [107.68159, -6.78981], [107.67353, -6.78311], [107.665298, -6.77175], [107.658387, -6.76797], [107.6482, -6.76592], [107.629028, -6.76925], [107.620506, -6.76415], [107.599358, -6.75604], [107.600676, -6.745998], [107.601967, -6.73616], [107.59563, -6.7269], [107.589988, -6.72205], [107.574287, -6.72495], [107.568238, -6.73025], [107.564378, -6.73801], [107.563735, -6.74521], [107.559769, -6.75262], [107.561385, -6.76831], [107.550217, -6.770059], [107.540253, -6.7602], [107.528969, -6.75425], [107.511588, -6.7517], [107.49944, -6.73512], [107.482682, -6.72958], [107.466507, -6.713929], [107.457466, -6.702629], [107.44843, -6.696439], [107.425972, -6.6965], [107.419053, -6.6894], [107.413369, -6.68789], [107.393707, -6.69529], [107.385354, -6.68852], [107.381545, -6.69017], [107.38089, -6.69839], [107.372246, -6.702381], [107.35551, -6.69458], [107.350745, -6.69844], [107.347976, -6.71016], [107.335441, -6.72906], [107.337663, -6.73332], [107.32764, -6.73593], [107.329431, -6.74092], [107.340705, -6.74843], [107.342376, -6.75239], [107.334037, -6.756779], [107.336341, -6.7635], [107.329782, -6.762361], [107.32402, -6.765649], [107.32265, -6.760966], [107.32034, -6.75307], [107.310607, -6.75896], [107.308007, -6.75385], [107.317048, -6.74423], [107.31239, -6.73142], [107.30652, -6.73477], [107.305427, -6.74799], [107.2984, -6.7533], [107.294197, -6.76228], [107.295592, -6.77153], [107.290626, -6.77556], [107.293382, -6.78094], [107.301796, -6.78462], [107.313844, -6.79614], [107.317565, -6.80734], [107.312973, -6.8154], [107.318901, -6.82372], [107.31976, -6.83544], [107.3227, -6.84291], [107.32034, -6.84975], [107.328583, -6.853989], [107.339919, -6.85218], [107.343536, -6.85464], [107.344001, -6.86395], [107.337212, -6.87116], [107.337212, -6.88012], [107.32898, -6.88537], [107.317178, -6.887809], [107.312446, -6.89685], [107.302726, -6.90509], [107.291962, -6.90926], [107.286027, -6.91594], [107.277229, -6.92159], [107.261512, -6.92571], [107.251548, -6.92619], [107.241187, -6.93277], [107.229789, -6.937909], [107.21341, -6.93958], [107.213897, -6.95048], [107.203362, -6.95711], [107.190009, -6.96761], [107.18345, -6.97791]]], \"type\": \"Polygon\"}, \"id\": \"17\", \"properties\": {\"NAME\": \"KABUPATEN BANDUNG BARAT\"}, \"type\": \"Feature\"}, {\"geometry\": {\"coordinates\": [[[108.715011, -7.46942], [108.697895, -7.469625], [108.691492, -7.459865], [108.649691, -7.464972], [108.64705, -7.489191], [108.655353, -7.496391], [108.650172, -7.530342], [108.619042, -7.550924], [108.575458, -7.56636], [108.549513, -7.556074], [108.543287, -7.568419], [108.524607, -7.567389], [108.517344, -7.540642], [108.539136, -7.535499], [108.520458, -7.524182], [108.485176, -7.534466], [108.468575, -7.515946], [108.445187, -7.503578], [108.436432, -7.499834], [108.429389, -7.49711], [108.423448, -7.49666], [108.417107, -7.49126], [108.409057, -7.49193], [108.397247, -7.47852], [108.39334, -7.47734], [108.372491, -7.479839], [108.36649, -7.48199], [108.356133, -7.48989], [108.34069, -7.49164], [108.333335, -7.50333], [108.33492, -7.52207], [108.333335, -7.53956], [108.33445, -7.552259], [108.350723, -7.56373], [108.354125, -7.57247], [108.36002, -7.61254], [108.357437, -7.62335], [108.358383, -7.63025], [108.35447, -7.63699], [108.35846, -7.64342], [108.362517, -7.66009], [108.35384, -7.67034], [108.351997, -7.68092], [108.341171, -7.67962], [108.331651, -7.68508], [108.323478, -7.68115], [108.320871, -7.68647], [108.314911, -7.689219], [108.315492, -7.69508], [108.32167, -7.70255], [108.321892, -7.70994], [108.315872, -7.71225], [108.316743, -7.719579], [108.312255, -7.72189], [108.3147, -7.7358], [108.31443, -7.74684], [108.319909, -7.75016], [108.323227, -7.77563], [108.321632, -7.782479], [108.32494, -7.79466], [108.338577, -7.797909], [108.34126, -7.80245], [108.335525, -7.81557], [108.34417, -7.8193], [108.349868, -7.81619], [108.362075, -7.81759], [108.370727, -7.813899], [108.382745, -7.81386], [108.41143, -7.81732], [108.42422, -7.82068], [108.44546, -7.82015], [108.449981, -7.81085], [108.46167, -7.809999], [108.474938, -7.806419], [108.48278, -7.80222], [108.48425, -7.79757], [108.496521, -7.79466], [108.503356, -7.78482], [108.501579, -7.78175], [108.507728, -7.76412], [108.50651, -7.7543], [108.503295, -7.74893], [108.497811, -7.74706], [108.497269, -7.74067], [108.50057, -7.72943], [108.496391, -7.720375], [108.501838, -7.71775], [108.50282, -7.71082], [108.517296, -7.69865], [108.539795, -7.690876], [108.559822, -7.68684], [108.584756, -7.684116], [108.593612, -7.68005], [108.59699, -7.68332], [108.62656, -7.684884], [108.640854, -7.68757], [108.651512, -7.69423], [108.6561, -7.703707], [108.650276, -7.70944], [108.650803, -7.71968], [108.663331, -7.725277], [108.666946, -7.72944], [108.678353, -7.721672], [108.675935, -7.71623], [108.66531, -7.70674], [108.65924, -7.70398], [108.661109, -7.69461], [108.671876, -7.68587], [108.686913, -7.67788], [108.699722, -7.67556], [108.721946, -7.67917], [108.732498, -7.68389], [108.740548, -7.685], [108.763046, -7.697499], [108.767501, -7.69139], [108.771112, -7.693889], [108.77583, -7.68722], [108.783166, -7.69212], [108.792023, -7.68344], [108.794304, -7.67646], [108.800278, -7.67424], [108.79826, -7.66737], [108.790543, -7.670769], [108.7859, -7.66682], [108.77835, -7.6586], [108.773796, -7.65959], [108.761238, -7.64891], [108.748131, -7.63379], [108.7492, -7.626399], [108.742622, -7.62342], [108.737998, -7.61704], [108.733451, -7.616129], [108.73776, -7.60922], [108.742814, -7.59409], [108.748863, -7.5931], [108.749366, -7.567591], [108.7533, -7.56164], [108.749359, -7.548991], [108.743529, -7.54297], [108.74253, -7.533251], [108.735817, -7.52038], [108.73332, -7.5059], [108.72162, -7.49287], [108.71682, -7.48316], [108.719628, -7.4743], [108.715011, -7.46942]]], \"type\": \"Polygon\"}, \"id\": \"18\", \"properties\": {\"NAME\": \"KABUPATEN PANGANDARAN\"}, \"type\": \"Feature\"}, {\"geometry\": {\"coordinates\": [[[106.76735700000012, -6.54053], [106.748543, -6.5604], [106.741997, -6.56476], [106.744301, -6.57604], [106.750801, -6.57598], [106.744598, -6.59796], [106.753096, -6.59641], [106.753586, -6.5869], [106.75974200000013, -6.58957], [106.766801, -6.59918], [106.77494000000013, -6.60224], [106.776483, -6.61031], [106.786666, -6.636279], [106.776298, -6.64839], [106.784637, -6.660409999999899], [106.794998, -6.65847], [106.803048, -6.654539], [106.80563, -6.66353], [106.82083200000011, -6.67451], [106.828796, -6.67416], [106.8312, -6.67712], [106.838897, -6.67191], [106.84088200000014, -6.662329], [106.845497, -6.650910999999894], [106.840317, -6.64408], [106.839341, -6.63332], [106.83131, -6.62476], [106.825286, -6.62514], [106.8205, -6.59746], [106.82229600000011, -6.59121], [106.8264, -6.593], [106.83141400000011, -6.580848], [106.83219800000012, -6.564089], [106.82775, -6.54879], [106.82800300000014, -6.53983], [106.82209000000012, -6.536879], [106.817231, -6.53969], [106.80475, -6.53602], [106.790497, -6.52671], [106.788391, -6.51737], [106.77842, -6.51907], [106.769996, -6.5153], [106.766938, -6.52216], [106.765999, -6.53353], [106.76735700000012, -6.54053]]], \"type\": \"Polygon\"}, \"id\": \"71\", \"properties\": {\"NAME\": \"KOTA BOGOR\"}, \"type\": \"Feature\"}, {\"geometry\": {\"coordinates\": [[[106.906409, -6.90913], [106.90075700000011, -6.89806], [106.897218, -6.89748], [106.892518, -6.91473], [106.892037, -6.921369], [106.885017, -6.92116], [106.88804, -6.92919], [106.898339, -6.94687], [106.89025, -6.95459], [106.87761, -6.958188], [106.861679, -6.9593], [106.855523, -6.966439], [106.855582, -6.97143], [106.848601, -6.97464], [106.84866, -6.9794], [106.854263, -6.984888999999896], [106.86172, -6.98176], [106.883057, -6.97596], [106.89689, -6.976648999999895], [106.9015, -6.979061], [106.923972, -6.981629], [106.93514, -6.97757], [106.951798, -6.97772], [106.955773, -6.97593], [106.962884, -6.94882], [106.960395, -6.936489], [106.94073, -6.94164], [106.9372780000001, -6.90382], [106.93354000000011, -6.90774], [106.92270700000012, -6.907129], [106.906409, -6.90913]]], \"type\": \"Polygon\"}, \"id\": \"72\", \"properties\": {\"NAME\": \"KOTA SUKABUMI\"}, \"type\": \"Feature\"}, {\"geometry\": {\"coordinates\": [[[107.548771, -6.931709], [107.555466, -6.941763], [107.56309, -6.949569], [107.5745, -6.96076], [107.588174, -6.96952], [107.596124, -6.97085], [107.60567, -6.968579], [107.612556, -6.96426], [107.619758, -6.96302], [107.635612, -6.96998], [107.651466, -6.96868], [107.658943, -6.971629], [107.676133, -6.972511], [107.687043, -6.97131], [107.705627, -6.96494], [107.710616, -6.96055], [107.712517, -6.94956], [107.718536, -6.94204], [107.721467, -6.92902], [107.717469, -6.9225], [107.729898, -6.91689], [107.73621, -6.911929], [107.728081, -6.90705], [107.706596, -6.912079], [107.70919, -6.90578], [107.706498, -6.89989], [107.699416, -6.9037], [107.6998, -6.91558], [107.697732, -6.91816], [107.689796, -6.9161], [107.67922, -6.90333], [107.670303, -6.902229], [107.66463, -6.89592], [107.657227, -6.904588], [107.652778, -6.90221], [107.65128, -6.893981], [107.638625, -6.89244], [107.635247, -6.88675], [107.63433, -6.87661], [107.627952, -6.87061], [107.628692, -6.85605], [107.623963, -6.85339], [107.612189, -6.86509], [107.607886, -6.86296], [107.608932, -6.85147], [107.601532, -6.84835], [107.590027, -6.86303], [107.580261, -6.87313], [107.577095, -6.883312], [107.575893, -6.890469], [107.563705, -6.888083], [107.556152, -6.888595], [107.561474, -6.896093], [107.572117, -6.91535], [107.566109, -6.920803], [107.563705, -6.92762], [107.554607, -6.928301], [107.548771, -6.931709]]], \"type\": \"Polygon\"}, \"id\": \"73\", \"properties\": {\"NAME\": \"KOTA BANDUNG\"}, \"type\": \"Feature\"}, {\"geometry\": {\"coordinates\": [[[108.583892, -6.7325], [108.574974, -6.7184], [108.5725, -6.708612], [108.56916, -6.70834], [108.561226, -6.720379], [108.55954800000012, -6.72635], [108.553819, -6.732869], [108.538612, -6.73948], [108.52561, -6.750039999999899], [108.529931, -6.77001], [108.528618, -6.78683], [108.5373, -6.790259], [108.543763, -6.78727], [108.551148, -6.77913], [108.561112, -6.75377], [108.569429, -6.74442], [108.577941, -6.74039], [108.583892, -6.7325]]], \"type\": \"Polygon\"}, \"id\": \"74\", \"properties\": {\"NAME\": \"KOTA CIREBON\"}, \"type\": \"Feature\"}, {\"geometry\": {\"coordinates\": [[[106.98464300000012, -6.37687], [107.00470800000011, -6.36627], [107.01071900000011, -6.35476], [107.0217970000001, -6.353249], [107.023842, -6.348859], [107.026741, -6.32832], [107.04004, -6.3246], [107.043342, -6.32074], [107.045737, -6.30647], [107.044518, -6.28467], [107.03115800000012, -6.27945], [107.01883700000013, -6.282739], [107.024063, -6.26364], [107.029168, -6.25692], [107.039429, -6.25136], [107.04252600000012, -6.24644], [107.04432, -6.22932], [107.040124, -6.22128], [107.032639, -6.21721], [107.03829200000013, -6.203758], [107.035798, -6.196349], [107.02869, -6.19292], [107.023728, -6.19383], [107.012223, -6.18517], [107.01204, -6.16734], [106.983642, -6.16504], [106.972946, -6.17417], [106.971572, -6.19429], [106.968461, -6.20337], [106.95539, -6.22271], [106.947678, -6.24026], [106.945259, -6.25538], [106.92562900000013, -6.258867999999893], [106.90916, -6.26396], [106.90772, -6.27448], [106.9120410000001, -6.27798], [106.911811, -6.29769], [106.922227, -6.3067], [106.922113, -6.32118], [106.91653, -6.33044], [106.91621, -6.35905], [106.909447, -6.37546], [106.904, -6.39232], [106.900627, -6.3985], [106.9031, -6.4052], [106.910117, -6.40437], [106.921928, -6.404310999999893], [106.927596, -6.40195], [106.9329, -6.393028999999899], [106.9404, -6.38827], [106.946098, -6.36557], [106.94641, -6.3531], [106.950431, -6.34221], [106.95786, -6.3334], [106.961373, -6.30684], [106.966843, -6.30304], [106.97198500000013, -6.303429], [106.98026, -6.31456], [106.977721, -6.3233], [106.97887, -6.33261], [106.97155800000013, -6.352120999999897], [106.969803, -6.36096], [106.971802, -6.367571], [106.98464300000012, -6.37687]]], \"type\": \"Polygon\"}, \"id\": \"75\", \"properties\": {\"NAME\": \"KOTA BEKASI\"}, \"type\": \"Feature\"}, {\"geometry\": {\"coordinates\": [[[106.842553, -6.34836], [106.837014, -6.354491], [106.819702, -6.35617], [106.8121, -6.362571], [106.801567, -6.36402], [106.794602, -6.36169], [106.794602, -6.35215], [106.800819, -6.33466], [106.808418, -6.31867], [106.805024, -6.31454], [106.779587, -6.31729], [106.77595, -6.31675], [106.773827, -6.33098], [106.771104, -6.33789], [106.771302, -6.347078999999894], [106.767403, -6.36123], [106.7617, -6.36268], [106.742508, -6.360531], [106.724502, -6.36075], [106.7229, -6.36836], [106.724197, -6.38444], [106.7318, -6.40486], [106.733001, -6.41262], [106.7409, -6.42593], [106.742095, -6.43818], [106.7403, -6.45318], [106.751098, -6.448779], [106.7677, -6.44548], [106.785895, -6.44351], [106.7949, -6.455149], [106.8003, -6.457578999999896], [106.819198, -6.455868999999893], [106.820602, -6.43723], [106.826995, -6.44139], [106.836501, -6.44245], [106.846199, -6.43945], [106.846703, -6.45028], [106.850999, -6.46086], [106.857002, -6.462691], [106.862, -6.45294], [106.8678, -6.44922], [106.875397, -6.449699999999893], [106.883301, -6.43418], [106.890503, -6.42744], [106.8936010000001, -6.4136], [106.89980200000014, -6.41392], [106.9032, -6.418], [106.90960000000013, -6.41473], [106.910117, -6.40437], [106.9031, -6.4052], [106.900627, -6.3985], [106.904, -6.39232], [106.909447, -6.37546], [106.90316800000011, -6.37674], [106.88289500000013, -6.36609], [106.879326, -6.36173], [106.862702, -6.35752], [106.85905, -6.34946], [106.846297, -6.34686], [106.842553, -6.34836]]], \"type\": \"Polygon\"}, \"id\": \"76\", \"properties\": {\"NAME\": \"KOTA DEPOK\"}, \"type\": \"Feature\"}, {\"geometry\": {\"coordinates\": [[[107.561219, -6.896149], [107.549801, -6.87888], [107.546456, -6.87638], [107.550404, -6.871949], [107.541993, -6.867177], [107.530146, -6.866631], [107.526412, -6.868506], [107.524867, -6.872596], [107.522938, -6.872118], [107.521222, -6.873992], [107.525342, -6.876038], [107.52418, -6.877347], [107.53006, -6.879967], [107.528431, -6.883196], [107.523796, -6.880128], [107.522938, -6.882173], [107.526028, -6.885923], [107.529289, -6.887286], [107.527163, -6.889766], [107.526886, -6.889501], [107.526199, -6.88899], [107.524826, -6.890865], [107.532722, -6.897682], [107.533665, -6.900055], [107.536154, -6.899459], [107.538986, -6.89899], [107.543149, -6.898138], [107.544395, -6.901261], [107.550232, -6.899217], [107.55006, -6.905693], [107.557957, -6.899557], [107.561219, -6.896149]]], \"type\": \"Polygon\"}, \"id\": \"77\", \"properties\": {\"NAME\": \"KOTA CIMAHI\"}, \"type\": \"Feature\"}, {\"geometry\": {\"coordinates\": [[[108.198859, -7.27629], [108.18828600000012, -7.27399], [108.182746, -7.2752], [108.16448300000013, -7.27395], [108.166496, -7.283141], [108.163239, -7.28436], [108.164269, -7.2913], [108.14629, -7.292728999999895], [108.1501090000001, -7.30545], [108.15814300000011, -7.31739], [108.15569, -7.33358], [108.16047, -7.33758], [108.163239, -7.34677], [108.16274, -7.35299], [108.17711, -7.3955], [108.175813, -7.40093], [108.17945, -7.407259999999894], [108.183006, -7.42948], [108.187119, -7.44075], [108.1914220000001, -7.444909], [108.199372, -7.44668], [108.203743, -7.44019], [108.212571, -7.43746], [108.21858300000014, -7.431629], [108.224823, -7.43564], [108.23536, -7.43611], [108.24415, -7.43284], [108.255127, -7.43382], [108.26095, -7.43164], [108.26798300000013, -7.41807], [108.267746, -7.4017], [108.26371, -7.3955], [108.26485, -7.38919], [108.27468, -7.373379], [108.27609200000012, -7.36331], [108.280136, -7.35692], [108.276482, -7.350058], [108.279823, -7.34356], [108.288972, -7.3326], [108.279105, -7.33132], [108.273086, -7.31811], [108.25634, -7.31924], [108.252777, -7.31411], [108.24508, -7.31207], [108.22898, -7.30077], [108.228417, -7.297389999999893], [108.21282100000013, -7.28953], [108.20221, -7.28259], [108.198859, -7.27629]]], \"type\": \"Polygon\"}, \"id\": \"78\", \"properties\": {\"NAME\": \"KOTA TASIKMALAYA\"}, \"type\": \"Feature\"}, {\"geometry\": {\"coordinates\": [[[108.654092, -7.34747], [108.653075, -7.3432], [108.64231100000012, -7.345], [108.63411000000013, -7.34357], [108.629632, -7.34641], [108.6222, -7.34579], [108.6201850000001, -7.34964], [108.614432, -7.34989], [108.613151, -7.34586], [108.598923, -7.35043], [108.58969900000011, -7.346371], [108.581688, -7.34891], [108.58007, -7.34282], [108.57296800000012, -7.33536], [108.56397900000013, -7.33676], [108.557862, -7.330791], [108.56199, -7.319849], [108.560936, -7.31324], [108.558609, -7.31704], [108.534546, -7.3381], [108.52285, -7.3535], [108.516265, -7.35304], [108.498016, -7.3554], [108.48266, -7.3546], [108.47107, -7.35635], [108.473069, -7.36421], [108.464675, -7.37622], [108.464158, -7.38273], [108.46811, -7.3938], [108.475562, -7.40375], [108.486473, -7.39451], [108.496758, -7.41108], [108.50167, -7.41378], [108.512528, -7.41488], [108.517487, -7.41907], [108.523552, -7.41898], [108.542282, -7.40536], [108.559708, -7.423829999999896], [108.56431600000013, -7.426669], [108.572608, -7.42123], [108.579917, -7.40544], [108.58487, -7.398618], [108.590606, -7.38496], [108.599121, -7.38333], [108.611672, -7.38516], [108.628007, -7.38186], [108.6364, -7.37514], [108.649246, -7.368561], [108.652877, -7.35746], [108.654092, -7.34747]]], \"type\": \"Polygon\"}, \"id\": \"79\", \"properties\": {\"NAME\": \"KOTA BANJAR\"}, \"type\": \"Feature\"}, {\"geometry\": {\"coordinates\": [[[107.253068, -7.1969], [107.257339, -7.20318], [107.269043, -7.20423], [107.283691, -7.20782], [107.308023, -7.20404], [107.318336, -7.20065], [107.33559, -7.20723], [107.341752, -7.20579], [107.35456, -7.21854], [107.351463, -7.228159], [107.356757, -7.23651], [107.383179, -7.247949], [107.39125, -7.25377], [107.399667, -7.255969], [107.413629, -7.25667], [107.427276, -7.25317], [107.433425, -7.25537], [107.44262, -7.25272], [107.453292, -7.25613], [107.462967, -7.249979], [107.473839, -7.25082], [107.484307, -7.257478], [107.489617, -7.258239], [107.5091, -7.25105], [107.524438, -7.25089], [107.535797, -7.24923], [107.542717, -7.25529], [107.55713, -7.253569], [107.570397, -7.26257], [107.58159, -7.27733], [107.59497, -7.28374], [107.600053, -7.28829], [107.60126, -7.29959], [107.605712, -7.30795], [107.610671, -7.30962], [107.618156, -7.307031], [107.625832, -7.30105], [107.632576, -7.300879], [107.64347, -7.29588], [107.65545, -7.28172], [107.664147, -7.27977], [107.669587, -7.2921], [107.67892, -7.29182], [107.683023, -7.29793], [107.696747, -7.295929], [107.712257, -7.30182], [107.718727, -7.31001], [107.723053, -7.30834], [107.727737, -7.29466], [107.721237, -7.29537], [107.722169, -7.28869], [107.73438, -7.27453], [107.736343, -7.267561], [107.733223, -7.26272], [107.712569, -7.24916], [107.70687, -7.23853], [107.70668, -7.227489], [107.708968, -7.2224], [107.722923, -7.2119], [107.721175, -7.19507], [107.732879, -7.17895], [107.738839, -7.16783], [107.748673, -7.170319], [107.7549, -7.16958], [107.75852, -7.15737], [107.773627, -7.15364], [107.779877, -7.15849], [107.78753, -7.156991], [107.795646, -7.15176], [107.8085, -7.13494], [107.807687, -7.121], [107.809348, -7.10493], [107.80807, -7.09813], [107.81067, -7.09508], [107.821906, -7.092149], [107.826752, -7.08812], [107.83458, -7.06987], [107.837983, -7.06566], [107.85251, -7.05869], [107.875785, -7.05256], [107.896377, -7.05022], [107.910218, -7.05288], [107.921571, -7.05151], [107.926986, -7.04783], [107.930901, -7.03579], [107.925712, -7.03405], [107.91124, -7.03335], [107.90899, -7.02932], [107.905694, -7.005749], [107.907937, -6.99978], [107.905487, -6.99133], [107.898934, -6.98462], [107.89692, -6.97928], [107.905838, -6.96799], [107.914544, -6.96492], [107.916153, -6.94796], [107.908372, -6.95074], [107.894784, -6.95158], [107.88742, -6.95786], [107.877572, -6.96058], [107.864387, -6.96142], [107.855056, -6.96495], [107.83802, -6.96688], [107.829505, -6.96351], [107.808838, -6.96351], [107.770897, -6.95164], [107.759551, -6.94437], [107.755866, -6.92931], [107.758056, -6.91988], [107.758453, -6.89643], [107.748208, -6.88254], [107.738586, -6.873719], [107.741241, -6.84175], [107.744461, -6.83433], [107.741182, -6.81951], [107.74429, -6.81013], [107.728813, -6.80827], [107.72385, -6.80552], [107.718207, -6.823455], [107.721299, -6.82925], [107.710998, -6.833002], [107.703444, -6.83948], [107.694173, -6.835391], [107.692112, -6.829255], [107.662243, -6.830623], [107.641644, -6.850394], [107.628692, -6.85605], [107.627952, -6.87061], [107.63433, -6.87661], [107.635247, -6.88675], [107.638625, -6.89244], [107.65128, -6.893981], [107.652778, -6.90221], [107.657227, -6.904588], [107.66463, -6.89592], [107.670303, -6.902229], [107.67922, -6.90333], [107.689796, -6.9161], [107.697732, -6.91816], [107.6998, -6.91558], [107.699416, -6.9037], [107.706498, -6.89989], [107.70919, -6.90578], [107.706596, -6.912079], [107.728081, -6.90705], [107.73621, -6.911929], [107.729898, -6.91689], [107.717469, -6.9225], [107.721467, -6.92902], [107.718536, -6.94204], [107.712517, -6.94956], [107.710616, -6.96055], [107.705627, -6.96494], [107.687043, -6.97131], [107.676133, -6.972511], [107.658943, -6.971629], [107.651466, -6.96868], [107.635612, -6.96998], [107.619758, -6.96302], [107.612556, -6.96426], [107.60567, -6.968579], [107.596124, -6.97085], [107.588174, -6.96952], [107.5745, -6.96076], [107.56309, -6.949569], [107.55817, -6.94093], [107.549548, -6.94351], [107.543963, -6.941252], [107.531928, -6.941695], [107.525971, -6.944197], [107.523679, -6.951248], [107.517722, -6.955797], [107.521617, -6.957162], [107.51818, -6.958982], [107.51818, -6.963531], [107.513632, -6.963418], [107.507844, -6.970268], [107.508067, -6.97513], [107.503615, -6.982201], [107.497604, -6.977119], [107.488254, -6.978666], [107.485583, -6.987062], [107.48726, -6.99428], [107.485427, -6.999965], [107.477637, -7.002922], [107.473741, -7.007471], [107.476491, -7.012247], [107.474658, -7.01816], [107.477866, -7.019979], [107.478553, -7.022481], [107.480853, -7.022596], [107.479731, -7.034859], [107.475238, -7.040063], [107.474624, -7.051361], [107.477126, -7.057314], [107.471126, -7.053842], [107.452628, -7.050868], [107.44713, -7.047874], [107.430634, -7.052838], [107.418639, -7.062762], [107.420642, -7.074666], [107.407148, -7.089053], [107.406654, -7.10939], [107.390782, -7.119542], [107.365664, -7.115347], [107.344169, -7.108403], [107.31857, -7.111921], [107.309417, -7.12505], [107.298058, -7.12884], [107.290863, -7.12849], [107.287681, -7.132059], [107.287057, -7.14312], [107.284285, -7.15504], [107.27791, -7.167349], [107.25796, -7.18855], [107.253068, -7.1969]]], \"type\": \"Polygon\"}, \"id\": \"04\", \"properties\": {\"NAME\": \"KABUPATEN BANDUNG\"}, \"type\": \"Feature\"}, {\"geometry\": {\"coordinates\": [[[107.17640000000011, -6.49412], [107.1481940000001, -6.47626], [107.11531000000014, -6.459378999999899], [107.078926, -6.435379999999896], [107.071396, -6.42919], [107.05945600000013, -6.41588], [107.052085, -6.404919], [107.045097, -6.400801], [107.01599900000014, -6.39408], [107.007202, -6.39031], [106.98464300000012, -6.37687], [106.971802, -6.367571], [106.969803, -6.36096], [106.97155800000013, -6.352120999999897], [106.97887, -6.33261], [106.977721, -6.3233], [106.98026, -6.31456], [106.97198500000013, -6.303429], [106.966843, -6.30304], [106.961373, -6.30684], [106.95786, -6.3334], [106.950431, -6.34221], [106.94641, -6.3531], [106.946098, -6.36557], [106.9404, -6.38827], [106.9329, -6.393028999999899], [106.927596, -6.40195], [106.921928, -6.404310999999893], [106.910117, -6.40437], [106.90960000000013, -6.41473], [106.9032, -6.418], [106.89980200000014, -6.41392], [106.8936010000001, -6.4136], [106.890503, -6.42744], [106.883301, -6.43418], [106.875397, -6.449699999999893], [106.8678, -6.44922], [106.862, -6.45294], [106.857002, -6.462691], [106.850999, -6.46086], [106.846703, -6.45028], [106.846199, -6.43945], [106.836501, -6.44245], [106.826995, -6.44139], [106.820602, -6.43723], [106.819198, -6.455868999999893], [106.8003, -6.457578999999896], [106.7949, -6.455149], [106.785895, -6.44351], [106.7677, -6.44548], [106.751098, -6.448779], [106.7403, -6.45318], [106.742095, -6.43818], [106.7409, -6.42593], [106.733001, -6.41262], [106.7318, -6.40486], [106.724197, -6.38444], [106.7229, -6.36836], [106.724502, -6.36075], [106.71325700000011, -6.35916], [106.675004, -6.359649], [106.6688, -6.358701], [106.652466, -6.362279], [106.64032700000013, -6.36122], [106.623977, -6.362172], [106.5991, -6.361759], [106.59525, -6.36367], [106.58914900000013, -6.35903], [106.58772, -6.35248], [106.57769900000011, -6.34261], [106.55761, -6.34036], [106.548546, -6.33611], [106.532098, -6.33363], [106.51955, -6.32599], [106.51328, -6.32879], [106.516297, -6.333259], [106.53088, -6.33834], [106.532586, -6.34953], [106.528588, -6.35502], [106.52117, -6.354169999999897], [106.4981, -6.355368], [106.495536, -6.35213], [106.49384, -6.33608], [106.49087, -6.32406], [106.485802, -6.31675], [106.47228200000012, -6.31181], [106.4665, -6.31338], [106.457901, -6.32408], [106.446701, -6.33352], [106.4364, -6.346290999999894], [106.428001, -6.348768], [106.4319, -6.35717], [106.43499700000012, -6.37609], [106.443704, -6.39886], [106.443902, -6.40658], [106.453103, -6.40979], [106.45829700000013, -6.4218], [106.4555, -6.422911], [106.455398, -6.43154], [106.450799, -6.43931], [106.441003, -6.449611], [106.4358, -6.45272], [106.417801, -6.45089], [106.40489900000011, -6.45314], [106.4041, -6.45912], [106.4077, -6.47304], [106.398698, -6.50532], [106.4012, -6.51683], [106.4018, -6.52988], [106.4124, -6.54041], [106.415901, -6.547999], [106.418198, -6.56341], [106.431396, -6.58377], [106.430603, -6.60345], [106.427299, -6.61179], [106.4263, -6.63073], [106.430298, -6.65907], [106.426398, -6.67547], [106.429398, -6.69578], [106.433502, -6.70251], [106.441101, -6.70112], [106.456497, -6.71647], [106.4682, -6.73068], [106.47820300000012, -6.72792], [106.487999, -6.74021], [106.495201, -6.753151], [106.499702, -6.75516], [106.511497, -6.76596], [106.52557, -6.76662], [106.525299, -6.75748], [106.5306, -6.75413], [106.54508, -6.75168], [106.548104, -6.74708], [106.55650300000013, -6.742340999999897], [106.563331, -6.72848], [106.573517, -6.721441], [106.5832, -6.724579], [106.58940200000012, -6.740251], [106.59410200000013, -6.74553], [106.605422, -6.749529], [106.620323, -6.748289], [106.63143200000013, -6.75357], [106.658599, -6.74618], [106.667488, -6.742028], [106.6723, -6.73367], [106.68129, -6.735878999999898], [106.685798, -6.743359], [106.69310000000013, -6.74271], [106.695503, -6.736989], [106.70813, -6.73072], [106.713936, -6.72502], [106.73950100000013, -6.712539], [106.746872, -6.716718999999898], [106.75791900000013, -6.732549], [106.7713480000001, -6.7481], [106.783028, -6.753939], [106.795798, -6.7542], [106.808005, -6.763309], [106.828957, -6.76469], [106.84555, -6.77316], [106.86020000000013, -6.77439], [106.899697, -6.78516], [106.906922, -6.78515], [106.92276, -6.780569], [106.935601, -6.76433], [106.942208, -6.75966], [106.95199700000012, -6.75659], [106.960008, -6.76358], [106.966499, -6.75276], [106.980896, -6.74134], [106.984101, -6.735469], [106.987747, -6.70931], [106.990113, -6.70316], [106.99630100000013, -6.69831], [107.00127, -6.6902], [107.001397, -6.68554], [106.995102, -6.678310999999894], [106.99179900000013, -6.670031], [107.000604, -6.664561], [107.01429000000013, -6.66505], [107.04000100000013, -6.65711], [107.0541, -6.65707], [107.06244, -6.66226], [107.084198, -6.665859999999896], [107.100113, -6.66393], [107.119057, -6.66365], [107.1252, -6.66806], [107.14221, -6.66578], [107.1508, -6.660529], [107.151002, -6.65323], [107.15989700000011, -6.645621], [107.169196, -6.644851], [107.181526, -6.64747], [107.190857, -6.64359], [107.205986, -6.62884], [107.21958100000012, -6.61116], [107.223923, -6.59998], [107.222908, -6.58018], [107.211166, -6.58716], [107.204322, -6.58878], [107.200204, -6.59349], [107.192063, -6.56927], [107.18679800000012, -6.55951], [107.178643, -6.5497], [107.176697, -6.54373], [107.177002, -6.53022], [107.17529900000011, -6.52396], [107.164421, -6.5072], [107.16563, -6.49961], [107.17640000000011, -6.49412]], [[106.76735700000012, -6.54053], [106.765999, -6.53353], [106.766938, -6.52216], [106.769996, -6.5153], [106.77842, -6.51907], [106.788391, -6.51737], [106.790497, -6.52671], [106.80475, -6.53602], [106.817231, -6.53969], [106.82209000000012, -6.536879], [106.82800300000014, -6.53983], [106.82775, -6.54879], [106.83219800000012, -6.564089], [106.83141400000011, -6.580848], [106.8264, -6.593], [106.82229600000011, -6.59121], [106.8205, -6.59746], [106.825286, -6.62514], [106.83131, -6.62476], [106.839341, -6.63332], [106.840317, -6.64408], [106.845497, -6.650910999999894], [106.84088200000014, -6.662329], [106.838897, -6.67191], [106.8312, -6.67712], [106.828796, -6.67416], [106.82083200000011, -6.67451], [106.80563, -6.66353], [106.803048, -6.654539], [106.794998, -6.65847], [106.784637, -6.660409999999899], [106.776298, -6.64839], [106.786666, -6.636279], [106.776483, -6.61031], [106.77494000000013, -6.60224], [106.766801, -6.59918], [106.75974200000013, -6.58957], [106.753586, -6.5869], [106.753096, -6.59641], [106.744598, -6.59796], [106.750801, -6.57598], [106.744301, -6.57604], [106.741997, -6.56476], [106.748543, -6.5604], [106.76735700000012, -6.54053]]], \"type\": \"Polygon\"}, \"id\": \"01\", \"properties\": {\"NAME\": \"KABUPATEN BOGOR\"}, \"type\": \"Feature\"}, {\"geometry\": {\"coordinates\": [[[106.960008, -6.76358], [106.95199700000012, -6.75659], [106.942208, -6.75966], [106.935601, -6.76433], [106.92276, -6.780569], [106.906922, -6.78515], [106.899697, -6.78516], [106.86020000000013, -6.77439], [106.84555, -6.77316], [106.828957, -6.76469], [106.808005, -6.763309], [106.795798, -6.7542], [106.783028, -6.753939], [106.7713480000001, -6.7481], [106.75791900000013, -6.732549], [106.746872, -6.716718999999898], [106.73950100000013, -6.712539], [106.713936, -6.72502], [106.70813, -6.73072], [106.695503, -6.736989], [106.69310000000013, -6.74271], [106.685798, -6.743359], [106.68129, -6.735878999999898], [106.6723, -6.73367], [106.667488, -6.742028], [106.658599, -6.74618], [106.63143200000013, -6.75357], [106.620323, -6.748289], [106.605422, -6.749529], [106.59410200000013, -6.74553], [106.58940200000012, -6.740251], [106.5832, -6.724579], [106.573517, -6.721441], [106.563331, -6.72848], [106.55650300000013, -6.742340999999897], [106.548104, -6.74708], [106.54508, -6.75168], [106.5306, -6.75413], [106.525299, -6.75748], [106.52557, -6.76662], [106.511497, -6.76596], [106.502091, -6.774197999999899], [106.494203, -6.776339], [106.490768, -6.78065], [106.487456, -6.79458], [106.45670400000012, -6.80529], [106.4487, -6.81675], [106.438407, -6.81564], [106.434302, -6.82061], [106.435638, -6.82639], [106.43355, -6.84074], [106.429261, -6.85254], [106.427567, -6.86508], [106.420457, -6.87487], [106.4187, -6.88108], [106.407997, -6.88609], [106.397797, -6.8968], [106.3914, -6.90002], [106.390602, -6.90497], [106.395402, -6.91187], [106.397697, -6.92671], [106.3887, -6.93414], [106.38810000000012, -6.94397], [106.394363, -6.95743], [106.39039700000012, -6.96854], [106.39305900000011, -6.97659], [106.396667, -6.97889], [106.41417, -6.976112], [106.41556, -6.963889], [106.42917000000011, -6.95778], [106.434448, -6.958056], [106.44021, -6.952566], [106.45138400000013, -6.95389], [106.456948, -6.9575], [106.46, -6.955], [106.47862, -6.96361], [106.488053, -6.96111], [106.497222, -6.96417], [106.505279, -6.96333], [106.51638800000012, -6.967221], [106.528893, -6.97639], [106.533333, -6.98139], [106.543054, -6.98556], [106.540772, -7.00814], [106.5411140000001, -7.0175], [106.544724, -7.02805], [106.54777600000011, -7.02861], [106.54583, -7.03972], [106.5426, -7.04547], [106.54404, -7.05598], [106.5293, -7.06495], [106.522491, -7.078759], [106.51200000000011, -7.08698], [106.511093, -7.09072], [106.498834, -7.099673], [106.484323, -7.10329], [106.481567, -7.11162], [106.47, -7.11944], [106.46629200000012, -7.12724], [106.457725, -7.1286], [106.458053, -7.13278], [106.452225, -7.14333], [106.448891, -7.15333], [106.45807600000012, -7.16677], [106.465194, -7.17072], [106.465896, -7.17724], [106.460572, -7.18357], [106.45440700000012, -7.18684], [106.448189, -7.18596], [106.44005, -7.19043], [106.43383100000011, -7.184504], [106.424165, -7.19055], [106.41417, -7.18639], [106.406944, -7.188333], [106.400557, -7.18639], [106.39555200000012, -7.199166], [106.399169, -7.20583], [106.394996, -7.21167], [106.38944, -7.21194], [106.388337, -7.21806], [106.39083, -7.22861], [106.379997, -7.23944], [106.37861, -7.246103], [106.384902, -7.26222], [106.382058, -7.271419], [106.37040700000011, -7.280021], [106.37816, -7.29491], [106.37274100000013, -7.30681], [106.380729, -7.31865], [106.385682, -7.31829], [106.397064, -7.33042], [106.39980300000013, -7.34663], [106.40243, -7.347325999999896], [106.40360900000013, -7.35667], [106.399445, -7.36778], [106.400557, -7.37333], [106.405282, -7.37444], [106.406112, -7.36972], [106.41417, -7.36333], [106.424156, -7.36], [106.443886, -7.36083], [106.449723, -7.36667], [106.459168, -7.36833], [106.467781, -7.37222], [106.47361100000012, -7.37167], [106.49028, -7.37694], [106.494424, -7.38362], [106.504753, -7.39328], [106.51566, -7.39882], [106.523278, -7.40796], [106.53306, -7.40833], [106.53616, -7.41078], [106.559525, -7.41681], [106.576249, -7.418123], [106.58194, -7.41311], [106.606673, -7.414832], [106.613609, -7.41667], [106.663964, -7.423273], [106.67972700000013, -7.421667], [106.684647, -7.425292999999897], [106.747428, -7.431573999999898], [106.776109, -7.43572], [106.79139, -7.43639], [106.789016, -7.43166], [106.793214, -7.42832], [106.790276, -7.41422], [106.779838, -7.41569], [106.77309, -7.409291], [106.77198800000014, -7.40307], [106.778153, -7.39662], [106.790734, -7.392308999999898], [106.796769, -7.38529], [106.80547300000012, -7.3808], [106.811814, -7.37401], [106.819474, -7.360189], [106.836137, -7.353928], [106.84969300000012, -7.35405], [106.85942, -7.35158], [106.87285600000013, -7.354649], [106.874413, -7.34947], [106.888817, -7.34481], [106.890717, -7.339918999999895], [106.89989, -7.33785], [106.904281, -7.345689], [106.906594, -7.34489], [106.90513, -7.334919999999897], [106.90882, -7.32392], [106.919936, -7.32266], [106.927391, -7.327219], [106.9318760000001, -7.31835], [106.938851, -7.31369], [106.952582, -7.31364], [106.960067, -7.30783], [106.96721, -7.29758], [106.97014500000012, -7.28382], [106.96932900000013, -7.27033], [106.967308, -7.26567], [106.95819100000011, -7.25719], [106.964867, -7.24429], [106.969537, -7.243199], [106.977783, -7.23606], [106.97993, -7.22631], [106.978813, -7.21745], [106.9730990000001, -7.211], [106.970841, -7.2008], [106.964951, -7.189391], [106.97049, -7.1849], [106.96718700000014, -7.17591], [106.961662, -7.17521], [106.956047, -7.160341], [106.9632, -7.147668999999894], [106.958809, -7.1396], [106.944106, -7.13106], [106.938278, -7.124549], [106.935967, -7.11763], [106.936653, -7.10519], [106.9437870000001, -7.0852], [106.943885, -7.07351], [106.954216, -7.06741], [106.955468, -7.06352], [106.951028, -7.05519], [106.952348, -7.04292], [106.95731, -7.03216], [106.9652630000001, -7.02415], [106.976547, -7.01627], [106.986184, -7.0157], [106.993737, -7.02902], [107.01629, -7.0325], [107.023728, -7.03694], [107.0386, -7.040659], [107.043388, -7.03995], [107.050941, -7.02872], [107.05676, -7.02467], [107.05565600000011, -7.01974], [107.0465400000001, -7.00004], [107.03394, -6.98763], [107.031402, -6.98034], [107.04084, -6.96026], [107.045035, -6.95795], [107.065192, -6.97583], [107.067964, -6.973360999999898], [107.064796, -6.96566], [107.048789, -6.94501], [107.046647, -6.936329], [107.048317, -6.918051], [107.04475, -6.905869], [107.031051, -6.89148], [107.03433300000012, -6.8825], [107.02103, -6.8577], [107.001976, -6.842399], [106.997247, -6.83482], [106.991836, -6.81259], [106.99098, -6.80179], [106.988198, -6.79459], [106.977676, -6.78486], [106.963173, -6.7688], [106.960008, -6.76358]], [[106.906409, -6.90913], [106.92270700000012, -6.907129], [106.93354000000011, -6.90774], [106.9372780000001, -6.90382], [106.94073, -6.94164], [106.960395, -6.936489], [106.962884, -6.94882], [106.955773, -6.97593], [106.951798, -6.97772], [106.93514, -6.97757], [106.923972, -6.981629], [106.9015, -6.979061], [106.89689, -6.976648999999895], [106.883057, -6.97596], [106.86172, -6.98176], [106.854263, -6.984888999999896], [106.84866, -6.9794], [106.848601, -6.97464], [106.855582, -6.97143], [106.855523, -6.966439], [106.861679, -6.9593], [106.87761, -6.958188], [106.89025, -6.95459], [106.898339, -6.94687], [106.88804, -6.92919], [106.885017, -6.92116], [106.892037, -6.921369], [106.892518, -6.91473], [106.897218, -6.89748], [106.90075700000011, -6.89806], [106.906409, -6.90913]]], \"type\": \"Polygon\"}, \"id\": \"02\", \"properties\": {\"NAME\": \"KABUPATEN SUKABUMI\"}, \"type\": \"Feature\"}, {\"geometry\": {\"coordinates\": [[[107.33544100000012, -6.72906], [107.326051, -6.73142], [107.316077, -6.727168], [107.309677, -6.718], [107.306512, -6.709589], [107.286346, -6.703729999999894], [107.27975, -6.698219], [107.26335200000011, -6.69336], [107.26056, -6.68606], [107.265159, -6.683291], [107.275399, -6.66948], [107.275818, -6.65946], [107.281639, -6.64999], [107.26622, -6.63613], [107.256829, -6.63097], [107.240357, -6.61652], [107.23051, -6.60361], [107.223923, -6.59998], [107.21958100000012, -6.61116], [107.205986, -6.62884], [107.190857, -6.64359], [107.181526, -6.64747], [107.169196, -6.644851], [107.15989700000011, -6.645621], [107.151002, -6.65323], [107.1508, -6.660529], [107.14221, -6.66578], [107.1252, -6.66806], [107.119057, -6.66365], [107.100113, -6.66393], [107.084198, -6.665859999999896], [107.06244, -6.66226], [107.0541, -6.65707], [107.04000100000013, -6.65711], [107.01429000000013, -6.66505], [107.000604, -6.664561], [106.99179900000013, -6.670031], [106.995102, -6.678310999999894], [107.001397, -6.68554], [107.00127, -6.6902], [106.99630100000013, -6.69831], [106.990113, -6.70316], [106.987747, -6.70931], [106.984101, -6.735469], [106.980896, -6.74134], [106.966499, -6.75276], [106.960008, -6.76358], [106.963173, -6.7688], [106.977676, -6.78486], [106.988198, -6.79459], [106.99098, -6.80179], [106.991836, -6.81259], [106.997247, -6.83482], [107.001976, -6.842399], [107.02103, -6.8577], [107.03433300000012, -6.8825], [107.031051, -6.89148], [107.04475, -6.905869], [107.048317, -6.918051], [107.046647, -6.936329], [107.048789, -6.94501], [107.064796, -6.96566], [107.067964, -6.973360999999898], [107.065192, -6.97583], [107.045035, -6.95795], [107.04084, -6.96026], [107.031402, -6.98034], [107.03394, -6.98763], [107.0465400000001, -7.00004], [107.05565600000011, -7.01974], [107.05676, -7.02467], [107.050941, -7.02872], [107.043388, -7.03995], [107.0386, -7.040659], [107.023728, -7.03694], [107.01629, -7.0325], [106.993737, -7.02902], [106.986184, -7.0157], [106.976547, -7.01627], [106.9652630000001, -7.02415], [106.95731, -7.03216], [106.952348, -7.04292], [106.951028, -7.05519], [106.955468, -7.06352], [106.954216, -7.06741], [106.943885, -7.07351], [106.9437870000001, -7.0852], [106.936653, -7.10519], [106.935967, -7.11763], [106.938278, -7.124549], [106.944106, -7.13106], [106.958809, -7.1396], [106.9632, -7.147668999999894], [106.956047, -7.160341], [106.961662, -7.17521], [106.96718700000014, -7.17591], [106.97049, -7.1849], [106.964951, -7.189391], [106.970841, -7.2008], [106.9730990000001, -7.211], [106.978813, -7.21745], [106.97993, -7.22631], [106.977783, -7.23606], [106.969537, -7.243199], [106.964867, -7.24429], [106.95819100000011, -7.25719], [106.967308, -7.26567], [106.96932900000013, -7.27033], [106.97014500000012, -7.28382], [106.96721, -7.29758], [106.960067, -7.30783], [106.952582, -7.31364], [106.938851, -7.31369], [106.9318760000001, -7.31835], [106.927391, -7.327219], [106.919936, -7.32266], [106.90882, -7.32392], [106.90513, -7.334919999999897], [106.906594, -7.34489], [106.904281, -7.345689], [106.89989, -7.33785], [106.890717, -7.339918999999895], [106.888817, -7.34481], [106.874413, -7.34947], [106.87285600000013, -7.354649], [106.85942, -7.35158], [106.84969300000012, -7.35405], [106.836137, -7.353928], [106.819474, -7.360189], [106.811814, -7.37401], [106.80547300000012, -7.3808], [106.796769, -7.38529], [106.790734, -7.392308999999898], [106.778153, -7.39662], [106.77198800000014, -7.40307], [106.77309, -7.409291], [106.779838, -7.41569], [106.790276, -7.41422], [106.792792, -7.41776], [106.79389, -7.420001], [106.79667, -7.436666], [106.816026, -7.434259], [106.835578, -7.433356], [106.861884, -7.434164999999894], [106.867698, -7.431205], [106.882752, -7.43506], [106.91689300000013, -7.437788999999896], [106.979264, -7.44468], [106.987633, -7.443918], [107.00904, -7.44786], [107.03587, -7.44794], [107.058938, -7.45129], [107.07768, -7.45181], [107.10112, -7.45568], [107.12844, -7.45792], [107.129676, -7.46106], [107.163842, -7.46892], [107.185882, -7.47537], [107.190665, -7.47528], [107.215095, -7.481239], [107.21675, -7.47924], [107.2314, -7.48333], [107.242165, -7.48793], [107.256469, -7.48908], [107.28737600000011, -7.49323], [107.319557, -7.49329], [107.352516, -7.499369], [107.380866, -7.49861], [107.385094, -7.49977], [107.393395, -7.49481], [107.397896, -7.49531], [107.40700600000014, -7.50197], [107.422112, -7.50438], [107.4221280000001, -7.49888], [107.417168, -7.48672], [107.418426, -7.47468], [107.416863, -7.45895], [107.422385, -7.44968], [107.422479, -7.435891], [107.42687300000011, -7.42658], [107.434127, -7.41628], [107.441514, -7.41144], [107.4707580000001, -7.39826], [107.469308, -7.38375], [107.472838, -7.370109999999897], [107.48063, -7.35801], [107.480446, -7.35201], [107.469711, -7.33265], [107.462211, -7.321928999999898], [107.455278, -7.307], [107.452103, -7.291849], [107.453185, -7.28724], [107.466377, -7.27066], [107.47383900000011, -7.25082], [107.4629670000001, -7.249979], [107.453292, -7.25613], [107.44262, -7.25272], [107.433425, -7.25537], [107.427276, -7.25317], [107.41362900000013, -7.25667], [107.399667, -7.255969], [107.39125, -7.25377], [107.383179, -7.247949], [107.356757, -7.23651], [107.351463, -7.228159], [107.35456, -7.21854], [107.341752, -7.20579], [107.33559, -7.20723], [107.3183360000001, -7.20065], [107.308023, -7.20404], [107.283691, -7.20782], [107.269043, -7.20423], [107.257339, -7.20318], [107.253068, -7.1969], [107.25796, -7.18855], [107.27791, -7.167349], [107.284285, -7.15504], [107.287057, -7.143119999999897], [107.28768100000013, -7.132059], [107.290863, -7.12849], [107.298058, -7.12884], [107.309417, -7.12505], [107.31857, -7.111921], [107.310607, -7.09342], [107.30587800000012, -7.087019], [107.290191, -7.087131], [107.280908, -7.0832], [107.27260500000011, -7.08371], [107.263839, -7.07783], [107.249175, -7.050789999999893], [107.23367300000012, -7.04945], [107.22715, -7.051], [107.218163, -7.05687], [107.205879, -7.05508], [107.195657, -7.05697], [107.188582, -7.05489], [107.185517, -7.0474], [107.188156, -7.0334], [107.193733, -7.017699], [107.194032, -7.012719], [107.18364800000012, -6.999999], [107.188446, -6.99141], [107.18488300000013, -6.98688], [107.18345, -6.97791], [107.190009, -6.96761], [107.203362, -6.95711], [107.213897, -6.95048], [107.21341, -6.93958], [107.229789, -6.937909], [107.241187, -6.93277], [107.251548, -6.92619], [107.261512, -6.92571], [107.277229, -6.92159], [107.286027, -6.91594], [107.29196200000013, -6.90926], [107.30272600000012, -6.90509], [107.312446, -6.89685], [107.317178, -6.887809], [107.32898, -6.88537], [107.33721200000014, -6.88012], [107.33721200000014, -6.87116], [107.344001, -6.86395], [107.343536, -6.85464], [107.33991900000012, -6.85218], [107.328583, -6.853988999999899], [107.32034, -6.84975], [107.3227, -6.84291], [107.31976, -6.83544], [107.318901, -6.82372], [107.312973, -6.8154], [107.317565, -6.80734], [107.313844, -6.79614], [107.301796, -6.78462], [107.293382, -6.78094], [107.290626, -6.77556], [107.29559200000011, -6.77153], [107.294197, -6.76228], [107.2984, -6.7533], [107.302307, -6.755240999999899], [107.30542700000012, -6.74799], [107.30652, -6.73477], [107.31239, -6.73142], [107.31704800000011, -6.74423], [107.308007, -6.75385], [107.310607, -6.75896], [107.32034, -6.75307], [107.320968, -6.761289], [107.32402, -6.765649], [107.32978200000014, -6.762361], [107.336341, -6.7635], [107.33403700000014, -6.756779], [107.342376, -6.75239], [107.34070500000013, -6.74843], [107.329431, -6.74092], [107.32764, -6.73593], [107.33766300000013, -6.73332], [107.33544100000012, -6.72906]]], \"type\": \"Polygon\"}, \"id\": \"03\", \"properties\": {\"Name\": \"KABUPATEN CIANJUR\"}, \"type\": \"Feature\"}, {\"geometry\": {\"coordinates\": [[[108.132309, -7.04115], [108.12026, -7.03652], [108.108147, -7.02849], [108.099373, -7.019249], [108.092492, -7.00615], [108.0898370000001, -6.99758], [108.08233600000011, -6.98987], [108.07153, -6.98313], [108.059196, -6.99426], [108.042098, -6.99574], [108.031486, -6.99157], [108.021333, -6.984], [108.008317, -6.98225], [108.00087800000011, -6.98589], [107.99680300000011, -6.982489], [107.985291, -6.97884], [107.98004900000012, -6.97126], [107.966232, -6.95601], [107.95955700000013, -6.960739], [107.953798, -6.96132], [107.937499, -6.95355], [107.928757, -6.953570999999897], [107.924782, -6.94961], [107.91615300000012, -6.94796], [107.914544, -6.96492], [107.905838, -6.96799], [107.89692, -6.97928], [107.898934, -6.98462], [107.90548700000011, -6.99133], [107.907937, -6.99978], [107.905694, -7.005749], [107.90899, -7.02932], [107.91124, -7.03335], [107.925712, -7.03405], [107.930901, -7.03579], [107.92698600000011, -7.04783], [107.921571, -7.05151], [107.910218, -7.05288], [107.896377, -7.05022], [107.875785, -7.05256], [107.85251, -7.05869], [107.837983, -7.06566], [107.83458, -7.06987], [107.826752, -7.08812], [107.82190600000013, -7.092148999999893], [107.81067, -7.09508], [107.80807, -7.09813], [107.809348, -7.10493], [107.807687, -7.121], [107.8085, -7.13494], [107.795646, -7.15176], [107.78753, -7.156991], [107.779877, -7.15849], [107.773627, -7.15364], [107.75852, -7.15737], [107.7549, -7.16958], [107.748673, -7.170318999999893], [107.738839, -7.16783], [107.732879, -7.17895], [107.72117500000013, -7.19507], [107.722923, -7.2119], [107.708968, -7.2224], [107.70668, -7.227489], [107.70687, -7.23853], [107.712569, -7.24916], [107.733223, -7.26272], [107.736343, -7.267561], [107.73438, -7.27453], [107.72216900000012, -7.28869], [107.721237, -7.29537], [107.727737, -7.29466], [107.723053, -7.30834], [107.718727, -7.31001], [107.71225700000014, -7.30182], [107.696747, -7.295929], [107.683023, -7.297929999999894], [107.67892, -7.29182], [107.669587, -7.2921], [107.66414700000013, -7.27977], [107.65545, -7.28172], [107.64347, -7.29588], [107.632576, -7.300878999999895], [107.625832, -7.30105], [107.61815600000011, -7.307031], [107.610671, -7.30962], [107.605712, -7.30795], [107.60126, -7.29959], [107.60005300000012, -7.28829], [107.59497, -7.28374], [107.58159000000012, -7.27733], [107.570397, -7.26257], [107.55713, -7.253569], [107.542717, -7.25529], [107.535797, -7.24923], [107.524438, -7.25089], [107.5091, -7.25105], [107.489617, -7.258239], [107.48430700000011, -7.257478], [107.47383900000011, -7.25082], [107.466377, -7.27066], [107.453185, -7.28724], [107.452103, -7.291849], [107.455278, -7.307], [107.462211, -7.321928999999898], [107.469711, -7.33265], [107.480446, -7.35201], [107.48063, -7.35801], [107.472838, -7.370109999999897], [107.469308, -7.38375], [107.4707580000001, -7.39826], [107.441514, -7.41144], [107.434127, -7.41628], [107.42687300000011, -7.42658], [107.422479, -7.435891], [107.422385, -7.44968], [107.416863, -7.45895], [107.418426, -7.47468], [107.417168, -7.48672], [107.4221280000001, -7.49888], [107.422112, -7.50438], [107.433425, -7.5069], [107.439538, -7.50623], [107.473716, -7.51858], [107.48097300000012, -7.530842], [107.47889, -7.53348], [107.48293300000012, -7.53937], [107.494773, -7.53425], [107.506303, -7.53926], [107.516336, -7.54117], [107.532745, -7.55107], [107.54802, -7.55294], [107.570358, -7.562921], [107.597366, -7.56942], [107.60528, -7.57333], [107.611474, -7.58414], [107.617775, -7.583055], [107.623909, -7.58965], [107.623252, -7.59534], [107.630935, -7.600953], [107.635199, -7.59972], [107.65361000000013, -7.61014], [107.669938, -7.62325], [107.682519, -7.637989], [107.683068, -7.644826], [107.688226, -7.652327], [107.687813, -7.658982], [107.682068, -7.66192], [107.695961, -7.668723], [107.710251, -7.66643], [107.72390800000011, -7.667009], [107.74208, -7.66965], [107.744659, -7.67159], [107.770553, -7.67722], [107.78633800000011, -7.67902], [107.803618, -7.68684], [107.807967, -7.68704], [107.827301, -7.69843], [107.833977, -7.70498], [107.837562, -7.713703999999893], [107.83406800000012, -7.721288999999899], [107.8356930000001, -7.72702], [107.846879, -7.73731], [107.850555, -7.73417], [107.85583, -7.73778], [107.875703, -7.740448999999899], [107.888229, -7.739660999999899], [107.893312, -7.73581], [107.89887900000014, -7.74151], [107.907349, -7.73691], [107.90964, -7.730992999999899], [107.905694, -7.73078], [107.913147, -7.71061], [107.92018, -7.70141], [107.92457700000011, -7.68577], [107.9207770000001, -7.67393], [107.922692, -7.65632], [107.91853, -7.64842], [107.918808, -7.620538999999894], [107.91227, -7.60587], [107.91314, -7.59495], [107.92148600000013, -7.586029], [107.93065700000011, -7.57907], [107.931861, -7.569681], [107.927642, -7.55873], [107.93490600000013, -7.54612], [107.937379, -7.53754], [107.934197, -7.51962], [107.93396, -7.50729], [107.939888, -7.4922], [107.94252, -7.48073], [107.94085, -7.46817], [107.942657, -7.45453], [107.938874, -7.427959], [107.939147, -7.416609], [107.93199, -7.399949], [107.92553, -7.39367], [107.919351, -7.383978999999897], [107.915656, -7.37453], [107.909997, -7.37078], [107.89338700000013, -7.36748], [107.8908770000001, -7.36123], [107.902961, -7.35436], [107.92049, -7.34821], [107.92359, -7.33778], [107.934021, -7.33001], [107.93499, -7.326409999999896], [107.930901, -7.31613], [107.922943, -7.309959], [107.92178, -7.300909], [107.91756, -7.28869], [107.9193, -7.28423], [107.93595, -7.28151], [107.956252, -7.27559], [107.969674, -7.26713], [107.975196, -7.25596], [107.983811, -7.24908], [108.000611, -7.24523], [108.01690700000012, -7.231881], [108.04281600000013, -7.22332], [108.048416, -7.22435], [108.0626380000001, -7.22219], [108.069703, -7.20148], [108.07361, -7.19572], [108.06895, -7.18786], [108.074501, -7.18245], [108.082658, -7.164019], [108.078133, -7.14194], [108.070922, -7.13598], [108.0696410000001, -7.130749], [108.075622, -7.12119], [108.0879910000001, -7.1099], [108.101593, -7.10412], [108.11357, -7.10571], [108.11923300000012, -7.113919999999894], [108.12252, -7.11368], [108.121246, -7.095999], [108.12293, -7.08487], [108.12119300000012, -7.07533], [108.132117, -7.06507], [108.13961100000012, -7.06287], [108.139878, -7.05574], [108.13294900000011, -7.04552], [108.132309, -7.04115]]], \"type\": \"Polygon\"}, \"id\": \"05\", \"properties\": {\"NAME\": \"KABUPATEN GARUT\"}, \"type\": \"Feature\"}, {\"geometry\": {\"coordinates\": [[[108.13785, -7.04097], [108.132309, -7.04115], [108.13294900000011, -7.04552], [108.139878, -7.05574], [108.13961100000012, -7.06287], [108.132117, -7.06507], [108.12119300000012, -7.07533], [108.12293, -7.08487], [108.121246, -7.095999], [108.12252, -7.11368], [108.11923300000012, -7.113919999999894], [108.11357, -7.10571], [108.101593, -7.10412], [108.0879910000001, -7.1099], [108.075622, -7.12119], [108.0696410000001, -7.130749], [108.070922, -7.13598], [108.078133, -7.14194], [108.082658, -7.164019], [108.074501, -7.18245], [108.06895, -7.18786], [108.07361, -7.19572], [108.069703, -7.20148], [108.0626380000001, -7.22219], [108.048416, -7.22435], [108.04281600000013, -7.22332], [108.01690700000012, -7.231881], [108.000611, -7.24523], [107.983811, -7.24908], [107.975196, -7.25596], [107.969674, -7.26713], [107.956252, -7.27559], [107.93595, -7.28151], [107.9193, -7.28423], [107.91756, -7.28869], [107.92178, -7.300909], [107.922943, -7.309959], [107.930901, -7.31613], [107.93499, -7.326409999999896], [107.934021, -7.33001], [107.92359, -7.33778], [107.92049, -7.34821], [107.902961, -7.35436], [107.8908770000001, -7.36123], [107.89338700000013, -7.36748], [107.909997, -7.37078], [107.915656, -7.37453], [107.919351, -7.383978999999897], [107.92553, -7.39367], [107.93199, -7.399949], [107.939147, -7.416609], [107.938874, -7.427959], [107.942657, -7.45453], [107.94085, -7.46817], [107.94252, -7.48073], [107.939888, -7.4922], [107.93396, -7.50729], [107.934197, -7.51962], [107.937379, -7.53754], [107.93490600000013, -7.54612], [107.927642, -7.55873], [107.931861, -7.569681], [107.93065700000011, -7.57907], [107.92148600000013, -7.586029], [107.91314, -7.59495], [107.91227, -7.60587], [107.918808, -7.620538999999894], [107.91853, -7.64842], [107.922692, -7.65632], [107.9207770000001, -7.67393], [107.92457700000011, -7.68577], [107.92018, -7.70141], [107.913147, -7.71061], [107.905694, -7.73078], [107.90964, -7.730992999999899], [107.940551, -7.73194], [107.950798, -7.73596], [108.00000000000011, -7.745], [108.02554, -7.75221], [108.03826900000013, -7.754279], [108.049004, -7.75847], [108.06305700000013, -7.7675], [108.072219, -7.7675], [108.080276, -7.77194], [108.10228, -7.77173], [108.1251, -7.7806], [108.129822, -7.77838], [108.151451, -7.787039], [108.181, -7.790909], [108.205795, -7.79584], [108.24459900000011, -7.80227], [108.251633, -7.80003], [108.2607650000001, -7.80455], [108.29418, -7.81072], [108.299424, -7.814366], [108.303383, -7.81147], [108.31479000000013, -7.812659], [108.322373, -7.815406], [108.33552500000013, -7.81557], [108.34126, -7.80245], [108.338577, -7.797909], [108.32494, -7.79466], [108.321632, -7.782479], [108.323227, -7.77563], [108.319909, -7.75016], [108.31443, -7.74684], [108.3147, -7.7358], [108.312255, -7.72189], [108.316743, -7.719578999999896], [108.31587200000013, -7.71225], [108.3218920000001, -7.70994], [108.32167, -7.70255], [108.31549200000012, -7.69508], [108.314911, -7.689219], [108.320871, -7.68647], [108.323478, -7.68115], [108.331651, -7.68508], [108.341171, -7.67962], [108.351997, -7.68092], [108.35384, -7.67034], [108.362517, -7.66009], [108.35846, -7.64342], [108.35447, -7.63699], [108.35838300000012, -7.63025], [108.357437, -7.62335], [108.36002, -7.61254], [108.354125, -7.57247], [108.35072300000013, -7.56373], [108.33445, -7.552259], [108.333335, -7.53956], [108.33492, -7.52207], [108.333335, -7.50333], [108.34069000000011, -7.49164], [108.35613300000011, -7.48989], [108.36649, -7.48199], [108.372491, -7.479839], [108.39334, -7.47734], [108.397247, -7.47852], [108.409057, -7.49193], [108.4171070000001, -7.491259999999897], [108.423448, -7.49666], [108.429389, -7.49711], [108.437622, -7.490879], [108.428908, -7.48486], [108.42565800000011, -7.47078], [108.425232, -7.45571], [108.421462, -7.43881], [108.42321, -7.42958], [108.41878, -7.4218], [108.401887, -7.42033], [108.397026, -7.407748], [108.39765200000011, -7.40056], [108.40356, -7.38738], [108.411263, -7.377511], [108.409691, -7.3635], [108.40553, -7.35949], [108.392859, -7.35899], [108.380051, -7.35356], [108.370827, -7.35375], [108.359816, -7.34922], [108.34102700000011, -7.35214], [108.337166, -7.34518], [108.3283990000001, -7.34417], [108.32298300000014, -7.33871], [108.31364, -7.33718], [108.30745800000011, -7.3311], [108.288972, -7.3326], [108.279823, -7.34356], [108.276482, -7.350058], [108.280136, -7.35692], [108.27609200000012, -7.36331], [108.27468, -7.373379], [108.26485, -7.38919], [108.26371, -7.3955], [108.267746, -7.4017], [108.26798300000013, -7.41807], [108.26095, -7.43164], [108.255127, -7.43382], [108.24415, -7.43284], [108.23536, -7.43611], [108.224823, -7.43564], [108.21858300000014, -7.431629], [108.212571, -7.43746], [108.203743, -7.44019], [108.199372, -7.44668], [108.1914220000001, -7.444909], [108.187119, -7.44075], [108.183006, -7.42948], [108.17945, -7.407259999999894], [108.175813, -7.40093], [108.17711, -7.3955], [108.16274, -7.35299], [108.163239, -7.34677], [108.16047, -7.33758], [108.15569, -7.33358], [108.15814300000011, -7.31739], [108.1501090000001, -7.30545], [108.14629, -7.292728999999895], [108.164269, -7.2913], [108.163239, -7.28436], [108.166496, -7.283141], [108.16448300000013, -7.27395], [108.182746, -7.2752], [108.18828600000012, -7.27399], [108.198859, -7.27629], [108.192551, -7.25995], [108.195687, -7.23639], [108.1993, -7.23038], [108.198021, -7.19019], [108.19495, -7.1787], [108.201407, -7.14395], [108.204972, -7.13819], [108.216133, -7.12955], [108.21889, -7.12494], [108.21644500000014, -7.114419], [108.21740000000011, -7.09366], [108.21991600000013, -7.08704], [108.208518, -7.08689], [108.201699, -7.07788], [108.19264, -7.07134], [108.17177600000014, -7.06661], [108.1702130000001, -7.06425], [108.16214, -7.06289], [108.154136, -7.06526], [108.145347, -7.04803], [108.13785, -7.04097]]], \"type\": \"Polygon\"}, \"id\": \"06\", \"properties\": {\"NAME\": \"KABUPATEN TASIKMALAYA\"}, \"type\": \"Feature\"}, {\"geometry\": {\"coordinates\": [[[108.385933, -7.071639], [108.37652, -7.06173], [108.36054, -7.05122], [108.35621, -7.05153], [108.33976, -7.06462], [108.332961, -7.06549], [108.318869, -7.05717], [108.310592, -7.06059], [108.28978, -7.05793], [108.273453, -7.06384], [108.261146, -7.06281], [108.246277, -7.06399], [108.237518, -7.06165], [108.2303, -7.05436], [108.224083, -7.0519], [108.216912, -7.05646], [108.207878, -7.05113], [108.19117, -7.054261], [108.180512, -7.05486], [108.170213, -7.06425], [108.171776, -7.06661], [108.19264, -7.07134], [108.201699, -7.07788], [108.208518, -7.08689], [108.219916, -7.08704], [108.2174, -7.09366], [108.216445, -7.114419], [108.21889, -7.12494], [108.216133, -7.12955], [108.204972, -7.13819], [108.201407, -7.14395], [108.19495, -7.1787], [108.198021, -7.19019], [108.1993, -7.23038], [108.195687, -7.23639], [108.192551, -7.25995], [108.198859, -7.27629], [108.20221, -7.28259], [108.212821, -7.28953], [108.228417, -7.29739], [108.22898, -7.30077], [108.24508, -7.31207], [108.252777, -7.31411], [108.25634, -7.31924], [108.273086, -7.31811], [108.279105, -7.33132], [108.288972, -7.3326], [108.307458, -7.3311], [108.31364, -7.33718], [108.322983, -7.33871], [108.328399, -7.34417], [108.337166, -7.34518], [108.341027, -7.35214], [108.359816, -7.34922], [108.370827, -7.35375], [108.380051, -7.35356], [108.392859, -7.35899], [108.40553, -7.35949], [108.409691, -7.3635], [108.411263, -7.377511], [108.40356, -7.38738], [108.397652, -7.40056], [108.397026, -7.407748], [108.401887, -7.42033], [108.41878, -7.4218], [108.42321, -7.42958], [108.421462, -7.43881], [108.425232, -7.45571], [108.425658, -7.47078], [108.428908, -7.48486], [108.437622, -7.490879], [108.436432, -7.499834], [108.445187, -7.503578], [108.468575, -7.515946], [108.485176, -7.534466], [108.520458, -7.524182], [108.539136, -7.535499], [108.517344, -7.540642], [108.524607, -7.567389], [108.543287, -7.568419], [108.549513, -7.556074], [108.549513, -7.556074], [108.549513, -7.556074], [108.575458, -7.56636], [108.619042, -7.550924], [108.650172, -7.530342], [108.655353, -7.496391], [108.64705, -7.489191], [108.649691, -7.464972], [108.691492, -7.459865], [108.697895, -7.469625], [108.715011, -7.46942], [108.711585, -7.45741], [108.71911, -7.4406], [108.71951, -7.43226], [108.71026, -7.4263], [108.704148, -7.41843], [108.698617, -7.41626], [108.697037, -7.40355], [108.68591, -7.39828], [108.68422, -7.380091], [108.677856, -7.37524], [108.67825, -7.36828], [108.674782, -7.35909], [108.669585, -7.358229], [108.654092, -7.34747], [108.652877, -7.35746], [108.649246, -7.368561], [108.6364, -7.37514], [108.628007, -7.38186], [108.611672, -7.38516], [108.599121, -7.38333], [108.590606, -7.38496], [108.58487, -7.398618], [108.579917, -7.40544], [108.572608, -7.42123], [108.564316, -7.426669], [108.559708, -7.42383], [108.542282, -7.40536], [108.523552, -7.41898], [108.517487, -7.41907], [108.512528, -7.41488], [108.50167, -7.41378], [108.496758, -7.41108], [108.486473, -7.39451], [108.475562, -7.40375], [108.46811, -7.3938], [108.464158, -7.38273], [108.464675, -7.37622], [108.473069, -7.36421], [108.47107, -7.35635], [108.48266, -7.3546], [108.498016, -7.3554], [108.516265, -7.35304], [108.52285, -7.3535], [108.534546, -7.3381], [108.558609, -7.31704], [108.560936, -7.31324], [108.555649, -7.284561], [108.5682, -7.27367], [108.569556, -7.26027], [108.57473, -7.252609], [108.581123, -7.24989], [108.58282, -7.24201], [108.579949, -7.23517], [108.584662, -7.229239], [108.58493, -7.21809], [108.58071, -7.20642], [108.57235, -7.20304], [108.563735, -7.19414], [108.55521, -7.19209], [108.54633, -7.18705], [108.53572, -7.184709], [108.525498, -7.17639], [108.528258, -7.169779], [108.517594, -7.16537], [108.5132, -7.15744], [108.51307, -7.14554], [108.509879, -7.13548], [108.503541, -7.13296], [108.488319, -7.13052], [108.480011, -7.12415], [108.467216, -7.12395], [108.442093, -7.12049], [108.435158, -7.11481], [108.43348, -7.10952], [108.424767, -7.10241], [108.424988, -7.09735], [108.41623, -7.09857], [108.413048, -7.091388], [108.403022, -7.087671], [108.398683, -7.08043], [108.385933, -7.071639]]], \"type\": \"Polygon\"}, \"id\": \"07\", \"properties\": {\"NAME\": \"KABUPATEN CIAMIS\"}, \"type\": \"Feature\"}, {\"geometry\": {\"coordinates\": [[[108.76111, -6.98306], [108.756074, -6.98929], [108.740883, -6.99485], [108.730301, -6.99694], [108.7203980000001, -6.99132], [108.728341, -6.966229], [108.7203530000001, -6.95487], [108.704171, -6.93783], [108.695107, -6.933128999999894], [108.688431, -6.93286], [108.68039, -6.92258], [108.678857, -6.92742], [108.67093, -6.93198], [108.668067, -6.93809], [108.6561430000001, -6.93415], [108.656861, -6.92724], [108.664674, -6.92182], [108.66482, -6.91578], [108.653237, -6.9131], [108.653298, -6.90137], [108.637306, -6.90198], [108.62510800000013, -6.90616], [108.609482, -6.89877], [108.60321, -6.89844], [108.58379, -6.89343], [108.575942, -6.887759], [108.566299, -6.86794], [108.56846, -6.859708999999896], [108.564476, -6.85638], [108.546968, -6.855039], [108.537956, -6.84753], [108.52487100000013, -6.84291], [108.510239, -6.840929], [108.50996, -6.82943], [108.5065770000001, -6.818329], [108.51276, -6.80745], [108.510276, -6.792389999999898], [108.49903100000012, -6.79267], [108.48345300000011, -6.79038], [108.480827, -6.796311], [108.47673, -6.79546], [108.474167, -6.78672], [108.470092, -6.78806], [108.463836, -6.798138], [108.457801, -6.798549], [108.453423, -6.78286], [108.438928, -6.7867], [108.417969, -6.785479999999893], [108.40856, -6.79407], [108.40338200000014, -6.78904], [108.395218, -6.7983], [108.398484, -6.80922], [108.3986670000001, -6.82763], [108.404319, -6.84225], [108.406067, -6.85387], [108.41101, -6.8662], [108.40960600000011, -6.87852], [108.402518, -6.92073], [108.40358, -6.92751], [108.400681, -6.936781], [108.392533, -6.944739], [108.387681, -6.956249], [108.386856, -6.975769999999898], [108.384682, -6.98565], [108.3843240000001, -7.005879], [108.389473, -7.02116], [108.394546, -7.02949], [108.387191, -7.03623], [108.391777, -7.04621], [108.393272, -7.05629], [108.385933, -7.071639], [108.398683, -7.08043], [108.403022, -7.087671], [108.413048, -7.091388], [108.41623, -7.09857], [108.424988, -7.09735], [108.424767, -7.10241], [108.43348, -7.10952], [108.43515800000011, -7.11481], [108.44209300000011, -7.12049], [108.46721600000012, -7.12395], [108.4800110000001, -7.12415], [108.488319, -7.13052], [108.503541, -7.13296], [108.50987900000013, -7.13548], [108.51307, -7.14554], [108.5132, -7.157439999999895], [108.517594, -7.16537], [108.528258, -7.169779], [108.525498, -7.17639], [108.53572, -7.184709], [108.54633, -7.18705], [108.55521, -7.19209], [108.563735, -7.19414], [108.56668000000013, -7.19316], [108.56458, -7.17281], [108.56825, -7.16504], [108.58075, -7.16053], [108.585868, -7.15483], [108.593986, -7.15194], [108.60153900000012, -7.15227], [108.614724, -7.14149], [108.6253650000001, -7.13698], [108.632463, -7.13852], [108.6426, -7.13741], [108.65297700000013, -7.14389], [108.6606, -7.15377], [108.67796, -7.15477], [108.68492, -7.14998], [108.6963740000001, -7.15118], [108.713463, -7.13611], [108.72033, -7.126799], [108.724708, -7.12512], [108.72648, -7.11672], [108.73373, -7.11251], [108.7433, -7.1156], [108.748193, -7.11168], [108.764222, -7.11475], [108.777687, -7.10483], [108.7813, -7.09195], [108.777999, -7.08442], [108.777589, -7.075341], [108.78282, -7.07021], [108.78682600000013, -7.056629], [108.786361, -7.05186], [108.780768, -7.04784], [108.781096, -7.03927], [108.788171, -7.03121], [108.796982, -7.02481], [108.795578, -7.01199], [108.79862300000013, -7.00497], [108.786849, -6.995329], [108.767745, -6.9892], [108.76111, -6.98306]]], \"type\": \"Polygon\"}, \"id\": \"08\", \"properties\": {\"NAME\": \"KABUPATEN KUNINGAN\"}, \"type\": \"Feature\"}, {\"geometry\": {\"coordinates\": [[[108.539239, -6.51575], [108.530731, -6.51737], [108.51920300000012, -6.51401], [108.512466, -6.51592], [108.507796, -6.52801], [108.500054, -6.53378], [108.49801, -6.54115], [108.490593, -6.5422], [108.49223, -6.55151], [108.489723, -6.55547], [108.47326, -6.55972], [108.47006, -6.56715], [108.452468, -6.57289], [108.44883, -6.57037], [108.446731, -6.5319], [108.437553, -6.52352], [108.4362, -6.51754], [108.41078900000014, -6.52819], [108.400337, -6.53563], [108.392449, -6.535999], [108.383499, -6.54378], [108.373382, -6.548471], [108.37029400000011, -6.55348], [108.360398, -6.55799], [108.355377, -6.567661], [108.35191, -6.579859], [108.3480540000001, -6.58004], [108.334671, -6.58882], [108.32997, -6.59447], [108.330049, -6.59953], [108.33685400000013, -6.602039], [108.335717, -6.60572], [108.320953, -6.61646], [108.323533, -6.62749], [108.32933, -6.63927], [108.329529, -6.6456], [108.33492, -6.65507], [108.33393, -6.66819], [108.337166, -6.67359], [108.35522, -6.680271], [108.36239, -6.687149], [108.366332, -6.695019], [108.366531, -6.70262], [108.361077, -6.70867], [108.363372, -6.7185], [108.367652, -6.72516], [108.376137, -6.732209999999895], [108.375107, -6.73778], [108.36628, -6.742471], [108.37305, -6.75361], [108.375686, -6.764990999999895], [108.383811, -6.76659], [108.39005400000013, -6.77186], [108.400139, -6.775689], [108.40338200000014, -6.78904], [108.40856, -6.79407], [108.417969, -6.785479999999893], [108.438928, -6.7867], [108.453423, -6.78286], [108.457801, -6.798549], [108.463836, -6.798138], [108.470092, -6.78806], [108.474167, -6.78672], [108.47673, -6.79546], [108.480827, -6.796311], [108.48345300000011, -6.79038], [108.49903100000012, -6.79267], [108.510276, -6.792389999999898], [108.51276, -6.80745], [108.5065770000001, -6.818329], [108.50996, -6.82943], [108.510239, -6.840929], [108.52487100000013, -6.84291], [108.537956, -6.84753], [108.546968, -6.855039], [108.564476, -6.85638], [108.56846, -6.859708999999896], [108.566299, -6.86794], [108.575942, -6.887759], [108.58379, -6.89343], [108.60321, -6.89844], [108.609482, -6.89877], [108.62510800000013, -6.90616], [108.637306, -6.90198], [108.653298, -6.90137], [108.653237, -6.9131], [108.66482, -6.91578], [108.664674, -6.92182], [108.656861, -6.92724], [108.6561430000001, -6.93415], [108.668067, -6.93809], [108.67093, -6.93198], [108.678857, -6.92742], [108.68039, -6.92258], [108.688431, -6.93286], [108.695107, -6.933128999999894], [108.704171, -6.93783], [108.7203530000001, -6.95487], [108.728341, -6.966229], [108.7203980000001, -6.99132], [108.730301, -6.99694], [108.740883, -6.99485], [108.756074, -6.98929], [108.76111, -6.98306], [108.7622070000001, -6.97052], [108.7608800000001, -6.95408], [108.76325300000013, -6.94096], [108.755821, -6.92545], [108.75497, -6.91349], [108.760498, -6.91273], [108.767358, -6.90104], [108.765161, -6.89638], [108.777108, -6.88957], [108.77749, -6.883469], [108.78444700000011, -6.883399], [108.795646, -6.87566], [108.798851, -6.868], [108.80407, -6.86362], [108.80979100000013, -6.85366], [108.813895, -6.84272], [108.824623, -6.82929], [108.826476, -6.82279], [108.82585200000011, -6.80772], [108.83048300000013, -6.79742], [108.826417, -6.78822], [108.828979, -6.78068], [108.828881, -6.76901], [108.826866, -6.75682], [108.830613, -6.74465], [108.828582, -6.74636], [108.815543, -6.74634], [108.808594, -6.74331], [108.80123, -6.744212], [108.80285, -6.75092], [108.789718, -6.75786], [108.78958200000011, -6.76071], [108.80772, -6.76557], [108.803674, -6.77342], [108.80743, -6.78039], [108.80546, -6.785109], [108.79718, -6.792466], [108.769806, -6.80859], [108.75900200000012, -6.81299], [108.749496, -6.8147], [108.74102, -6.81269], [108.731507, -6.80727], [108.70913, -6.80969], [108.693099, -6.80409], [108.68176, -6.79505], [108.677079, -6.78332], [108.67675800000012, -6.77562], [108.679406, -6.7688], [108.677697, -6.76271], [108.66278, -6.75972], [108.65027600000013, -6.751111], [108.649201, -6.75852], [108.63318700000013, -6.77049], [108.6261060000001, -6.771391], [108.61723, -6.765], [108.6111140000001, -6.76778], [108.60250100000013, -6.76306], [108.597496, -6.75778], [108.594718, -6.749167], [108.583892, -6.7325], [108.577941, -6.74039], [108.569429, -6.74442], [108.561112, -6.75377], [108.551148, -6.77913], [108.543763, -6.78727], [108.5373, -6.790259], [108.528618, -6.78683], [108.529931, -6.77001], [108.52561, -6.750039999999899], [108.538612, -6.73948], [108.553819, -6.732869], [108.55954800000012, -6.72635], [108.561226, -6.720379], [108.56916, -6.70834], [108.561385, -6.685], [108.55666, -6.66], [108.558051, -6.64472], [108.55194100000011, -6.624999], [108.544472, -6.59309], [108.54364, -6.575854], [108.547127, -6.560671], [108.544534, -6.54303], [108.54606700000011, -6.53471], [108.539239, -6.51575]]], \"type\": \"Polygon\"}, \"id\": \"09\", \"properties\": {\"NAME\": \"KABUPATEN CIREBON\"}, \"type\": \"Feature\"}], \"type\": \"FeatureCollection\"}, \"hoverlabel\": {\"namelength\": 0}, \"hovertemplate\": \"<b>%{hovertext}</b><br><br>id=%{location}<br>Penerima Dosis 1=%{z}<br>Penerima Dosis 2=%{customdata[2]}\", \"hovertext\": [\"KABUPATEN BANDUNG\", \"KABUPATEN BANDUNG BARAT\", \"KABUPATEN BEKASI\", \"KABUPATEN BOGOR\", \"KABUPATEN CIAMIS\", \"KABUPATEN CIANJUR\", \"KABUPATEN CIREBON\", \"KABUPATEN GARUT\", \"KABUPATEN INDRAMAYU\", \"KABUPATEN KARAWANG\", \"KABUPATEN KUNINGAN\", \"KABUPATEN MAJALENGKA\", \"KABUPATEN PANGANDARAN\", \"KABUPATEN PURWAKARTA\", \"KABUPATEN SUBANG\", \"KABUPATEN SUKABUMI\", \"KABUPATEN SUMEDANG\", \"KABUPATEN TASIKMALAYA\", \"KOTA BANDUNG\", \"KOTA BANJAR\", \"KOTA BEKASI\", \"KOTA BOGOR\", \"KOTA CIMAHI\", \"KOTA CIREBON\", \"KOTA DEPOK\", \"KOTA SUKABUMI\", \"KOTA TASIKMALAYA\"], \"locations\": [\"04\", \"17\", \"16\", \"01\", \"07\", \"03\", \"09\", \"05\", \"12\", \"15\", \"08\", \"10\", \"18\", \"14\", \"13\", \"02\", \"11\", \"06\", \"73\", \"79\", \"75\", \"71\", \"77\", \"74\", \"76\", \"72\", \"78\"], \"marker\": {\"opacity\": 0.8}, \"name\": \"\", \"subplot\": \"mapbox\", \"type\": \"choroplethmapbox\", \"z\": [970221, 674731, 1433584, 1721120, 256402, 421812, 406599, 545025, 385555, 972389, 301392, 287790, 201070, 370671, 383860, 558742, 532923, 297306, 1683264, 109318, 1338517, 679670, 366677, 198778, 931160, 195435, 213392]}],\n",
              "                        {\"coloraxis\": {\"cmax\": 1721120, \"cmin\": 0, \"colorbar\": {\"title\": {\"text\": \"Penerima Dosis 1\"}}, \"colorscale\": [[0.0, \"rgb(247,251,255)\"], [0.125, \"rgb(222,235,247)\"], [0.25, \"rgb(198,219,239)\"], [0.375, \"rgb(158,202,225)\"], [0.5, \"rgb(107,174,214)\"], [0.625, \"rgb(66,146,198)\"], [0.75, \"rgb(33,113,181)\"], [0.875, \"rgb(8,81,156)\"], [1.0, \"rgb(8,48,107)\"]]}, \"height\": 550.0, \"legend\": {\"tracegroupgap\": 0}, \"mapbox\": {\"center\": {\"lat\": -6.871893, \"lon\": 107.6455}, \"domain\": {\"x\": [0.0, 1.0], \"y\": [0.0, 1.0]}, \"style\": \"carto-positron\", \"zoom\": 7.25}, \"margin\": {\"b\": 10, \"l\": 10, \"r\": 10, \"t\": 35}, \"template\": {\"data\": {\"bar\": [{\"error_x\": {\"color\": \"#2a3f5f\"}, \"error_y\": {\"color\": \"#2a3f5f\"}, \"marker\": {\"line\": {\"color\": \"#E5ECF6\", \"width\": 0.5}}, \"type\": \"bar\"}], \"barpolar\": [{\"marker\": {\"line\": {\"color\": \"#E5ECF6\", \"width\": 0.5}}, \"type\": \"barpolar\"}], \"carpet\": [{\"aaxis\": {\"endlinecolor\": \"#2a3f5f\", \"gridcolor\": \"white\", \"linecolor\": \"white\", \"minorgridcolor\": \"white\", \"startlinecolor\": \"#2a3f5f\"}, \"baxis\": {\"endlinecolor\": \"#2a3f5f\", \"gridcolor\": \"white\", \"linecolor\": \"white\", \"minorgridcolor\": \"white\", \"startlinecolor\": \"#2a3f5f\"}, \"type\": \"carpet\"}], \"choropleth\": [{\"colorbar\": {\"outlinewidth\": 0, \"ticks\": \"\"}, \"type\": \"choropleth\"}], \"contour\": [{\"colorbar\": {\"outlinewidth\": 0, \"ticks\": \"\"}, \"colorscale\": [[0.0, \"#0d0887\"], [0.1111111111111111, \"#46039f\"], [0.2222222222222222, \"#7201a8\"], [0.3333333333333333, \"#9c179e\"], [0.4444444444444444, \"#bd3786\"], [0.5555555555555556, \"#d8576b\"], [0.6666666666666666, \"#ed7953\"], [0.7777777777777778, \"#fb9f3a\"], [0.8888888888888888, \"#fdca26\"], [1.0, \"#f0f921\"]], \"type\": \"contour\"}], \"contourcarpet\": [{\"colorbar\": {\"outlinewidth\": 0, \"ticks\": \"\"}, \"type\": \"contourcarpet\"}], \"heatmap\": [{\"colorbar\": {\"outlinewidth\": 0, \"ticks\": \"\"}, \"colorscale\": [[0.0, \"#0d0887\"], [0.1111111111111111, \"#46039f\"], [0.2222222222222222, \"#7201a8\"], [0.3333333333333333, \"#9c179e\"], [0.4444444444444444, \"#bd3786\"], [0.5555555555555556, \"#d8576b\"], [0.6666666666666666, \"#ed7953\"], [0.7777777777777778, \"#fb9f3a\"], [0.8888888888888888, \"#fdca26\"], [1.0, \"#f0f921\"]], \"type\": \"heatmap\"}], \"heatmapgl\": [{\"colorbar\": {\"outlinewidth\": 0, \"ticks\": \"\"}, \"colorscale\": [[0.0, \"#0d0887\"], [0.1111111111111111, \"#46039f\"], [0.2222222222222222, \"#7201a8\"], [0.3333333333333333, \"#9c179e\"], [0.4444444444444444, \"#bd3786\"], [0.5555555555555556, \"#d8576b\"], [0.6666666666666666, \"#ed7953\"], [0.7777777777777778, \"#fb9f3a\"], [0.8888888888888888, \"#fdca26\"], [1.0, \"#f0f921\"]], \"type\": \"heatmapgl\"}], \"histogram\": [{\"marker\": {\"colorbar\": {\"outlinewidth\": 0, \"ticks\": \"\"}}, \"type\": \"histogram\"}], \"histogram2d\": [{\"colorbar\": {\"outlinewidth\": 0, \"ticks\": \"\"}, \"colorscale\": [[0.0, \"#0d0887\"], [0.1111111111111111, \"#46039f\"], [0.2222222222222222, \"#7201a8\"], [0.3333333333333333, \"#9c179e\"], [0.4444444444444444, \"#bd3786\"], [0.5555555555555556, \"#d8576b\"], [0.6666666666666666, \"#ed7953\"], [0.7777777777777778, \"#fb9f3a\"], [0.8888888888888888, \"#fdca26\"], [1.0, \"#f0f921\"]], \"type\": \"histogram2d\"}], \"histogram2dcontour\": [{\"colorbar\": {\"outlinewidth\": 0, \"ticks\": \"\"}, \"colorscale\": [[0.0, \"#0d0887\"], [0.1111111111111111, \"#46039f\"], [0.2222222222222222, \"#7201a8\"], [0.3333333333333333, \"#9c179e\"], [0.4444444444444444, \"#bd3786\"], [0.5555555555555556, \"#d8576b\"], [0.6666666666666666, \"#ed7953\"], [0.7777777777777778, \"#fb9f3a\"], [0.8888888888888888, \"#fdca26\"], [1.0, \"#f0f921\"]], \"type\": \"histogram2dcontour\"}], \"mesh3d\": [{\"colorbar\": {\"outlinewidth\": 0, \"ticks\": \"\"}, \"type\": \"mesh3d\"}], \"parcoords\": [{\"line\": {\"colorbar\": {\"outlinewidth\": 0, \"ticks\": \"\"}}, \"type\": \"parcoords\"}], \"pie\": [{\"automargin\": true, \"type\": \"pie\"}], \"scatter\": [{\"marker\": {\"colorbar\": {\"outlinewidth\": 0, \"ticks\": \"\"}}, \"type\": \"scatter\"}], \"scatter3d\": [{\"line\": {\"colorbar\": {\"outlinewidth\": 0, \"ticks\": \"\"}}, \"marker\": {\"colorbar\": {\"outlinewidth\": 0, \"ticks\": \"\"}}, \"type\": \"scatter3d\"}], \"scattercarpet\": [{\"marker\": {\"colorbar\": {\"outlinewidth\": 0, \"ticks\": \"\"}}, \"type\": \"scattercarpet\"}], \"scattergeo\": [{\"marker\": {\"colorbar\": {\"outlinewidth\": 0, \"ticks\": \"\"}}, \"type\": \"scattergeo\"}], \"scattergl\": [{\"marker\": {\"colorbar\": {\"outlinewidth\": 0, \"ticks\": \"\"}}, \"type\": \"scattergl\"}], \"scattermapbox\": [{\"marker\": {\"colorbar\": {\"outlinewidth\": 0, \"ticks\": \"\"}}, \"type\": \"scattermapbox\"}], \"scatterpolar\": [{\"marker\": {\"colorbar\": {\"outlinewidth\": 0, \"ticks\": \"\"}}, \"type\": \"scatterpolar\"}], \"scatterpolargl\": [{\"marker\": {\"colorbar\": {\"outlinewidth\": 0, \"ticks\": \"\"}}, \"type\": \"scatterpolargl\"}], \"scatterternary\": [{\"marker\": {\"colorbar\": {\"outlinewidth\": 0, \"ticks\": \"\"}}, \"type\": \"scatterternary\"}], \"surface\": [{\"colorbar\": {\"outlinewidth\": 0, \"ticks\": \"\"}, \"colorscale\": [[0.0, \"#0d0887\"], [0.1111111111111111, \"#46039f\"], [0.2222222222222222, \"#7201a8\"], [0.3333333333333333, \"#9c179e\"], [0.4444444444444444, \"#bd3786\"], [0.5555555555555556, \"#d8576b\"], [0.6666666666666666, \"#ed7953\"], [0.7777777777777778, \"#fb9f3a\"], [0.8888888888888888, \"#fdca26\"], [1.0, \"#f0f921\"]], \"type\": \"surface\"}], \"table\": [{\"cells\": {\"fill\": {\"color\": \"#EBF0F8\"}, \"line\": {\"color\": \"white\"}}, \"header\": {\"fill\": {\"color\": \"#C8D4E3\"}, \"line\": {\"color\": \"white\"}}, \"type\": \"table\"}]}, \"layout\": {\"annotationdefaults\": {\"arrowcolor\": \"#2a3f5f\", \"arrowhead\": 0, \"arrowwidth\": 1}, \"coloraxis\": {\"colorbar\": {\"outlinewidth\": 0, \"ticks\": \"\"}}, \"colorscale\": {\"diverging\": [[0, \"#8e0152\"], [0.1, \"#c51b7d\"], [0.2, \"#de77ae\"], [0.3, \"#f1b6da\"], [0.4, \"#fde0ef\"], [0.5, \"#f7f7f7\"], [0.6, \"#e6f5d0\"], [0.7, \"#b8e186\"], [0.8, \"#7fbc41\"], [0.9, \"#4d9221\"], [1, \"#276419\"]], \"sequential\": [[0.0, \"#0d0887\"], [0.1111111111111111, \"#46039f\"], [0.2222222222222222, \"#7201a8\"], [0.3333333333333333, \"#9c179e\"], [0.4444444444444444, \"#bd3786\"], [0.5555555555555556, \"#d8576b\"], [0.6666666666666666, \"#ed7953\"], [0.7777777777777778, \"#fb9f3a\"], [0.8888888888888888, \"#fdca26\"], [1.0, \"#f0f921\"]], \"sequentialminus\": [[0.0, \"#0d0887\"], [0.1111111111111111, \"#46039f\"], [0.2222222222222222, \"#7201a8\"], [0.3333333333333333, \"#9c179e\"], [0.4444444444444444, \"#bd3786\"], [0.5555555555555556, \"#d8576b\"], [0.6666666666666666, \"#ed7953\"], [0.7777777777777778, \"#fb9f3a\"], [0.8888888888888888, \"#fdca26\"], [1.0, \"#f0f921\"]]}, \"colorway\": [\"#636efa\", \"#EF553B\", \"#00cc96\", \"#ab63fa\", \"#FFA15A\", \"#19d3f3\", \"#FF6692\", \"#B6E880\", \"#FF97FF\", \"#FECB52\"], \"font\": {\"color\": \"#2a3f5f\"}, \"geo\": {\"bgcolor\": \"white\", \"lakecolor\": \"white\", \"landcolor\": \"#E5ECF6\", \"showlakes\": true, \"showland\": true, \"subunitcolor\": \"white\"}, \"hoverlabel\": {\"align\": \"left\"}, \"hovermode\": \"closest\", \"mapbox\": {\"style\": \"light\"}, \"paper_bgcolor\": \"white\", \"plot_bgcolor\": \"#E5ECF6\", \"polar\": {\"angularaxis\": {\"gridcolor\": \"white\", \"linecolor\": \"white\", \"ticks\": \"\"}, \"bgcolor\": \"#E5ECF6\", \"radialaxis\": {\"gridcolor\": \"white\", \"linecolor\": \"white\", \"ticks\": \"\"}}, \"scene\": {\"xaxis\": {\"backgroundcolor\": \"#E5ECF6\", \"gridcolor\": \"white\", \"gridwidth\": 2, \"linecolor\": \"white\", \"showbackground\": true, \"ticks\": \"\", \"zerolinecolor\": \"white\"}, \"yaxis\": {\"backgroundcolor\": \"#E5ECF6\", \"gridcolor\": \"white\", \"gridwidth\": 2, \"linecolor\": \"white\", \"showbackground\": true, \"ticks\": \"\", \"zerolinecolor\": \"white\"}, \"zaxis\": {\"backgroundcolor\": \"#E5ECF6\", \"gridcolor\": \"white\", \"gridwidth\": 2, \"linecolor\": \"white\", \"showbackground\": true, \"ticks\": \"\", \"zerolinecolor\": \"white\"}}, \"shapedefaults\": {\"line\": {\"color\": \"#2a3f5f\"}}, \"ternary\": {\"aaxis\": {\"gridcolor\": \"white\", \"linecolor\": \"white\", \"ticks\": \"\"}, \"baxis\": {\"gridcolor\": \"white\", \"linecolor\": \"white\", \"ticks\": \"\"}, \"bgcolor\": \"#E5ECF6\", \"caxis\": {\"gridcolor\": \"white\", \"linecolor\": \"white\", \"ticks\": \"\"}}, \"title\": {\"x\": 0.05}, \"xaxis\": {\"automargin\": true, \"gridcolor\": \"white\", \"linecolor\": \"white\", \"ticks\": \"\", \"title\": {\"standoff\": 15}, \"zerolinecolor\": \"white\", \"zerolinewidth\": 2}, \"yaxis\": {\"automargin\": true, \"gridcolor\": \"white\", \"linecolor\": \"white\", \"ticks\": \"\", \"title\": {\"standoff\": 15}, \"zerolinecolor\": \"white\", \"zerolinewidth\": 2}}}, \"title\": {\"text\": \"Peta Sebaran Vaksinisasi Dosis Pertama\", \"x\": 0.5, \"xanchor\": \"center\", \"y\": 0.98, \"yanchor\": \"top\"}, \"width\": 1000},\n",
              "                        {\"responsive\": true}\n",
              "                    ).then(function(){\n",
              "                            \n",
              "var gd = document.getElementById('597ba9bf-fe89-4e1d-9020-5fb38d4dc228');\n",
              "var x = new MutationObserver(function (mutations, observer) {{\n",
              "        var display = window.getComputedStyle(gd).display;\n",
              "        if (!display || display === 'none') {{\n",
              "            console.log([gd, 'removed!']);\n",
              "            Plotly.purge(gd);\n",
              "            observer.disconnect();\n",
              "        }}\n",
              "}});\n",
              "\n",
              "// Listen for the removal of the full notebook cells\n",
              "var notebookContainer = gd.closest('#notebook-container');\n",
              "if (notebookContainer) {{\n",
              "    x.observe(notebookContainer, {childList: true});\n",
              "}}\n",
              "\n",
              "// Listen for the clearing of the current output cell\n",
              "var outputEl = gd.closest('.output');\n",
              "if (outputEl) {{\n",
              "    x.observe(outputEl, {childList: true});\n",
              "}}\n",
              "\n",
              "                        })\n",
              "                };\n",
              "                \n",
              "            </script>\n",
              "        </div>\n",
              "</body>\n",
              "</html>"
            ]
          },
          "metadata": {}
        },
        {
          "output_type": "display_data",
          "data": {
            "text/html": [
              "<html>\n",
              "<head><meta charset=\"utf-8\" /></head>\n",
              "<body>\n",
              "    <div>\n",
              "            <script src=\"https://cdnjs.cloudflare.com/ajax/libs/mathjax/2.7.5/MathJax.js?config=TeX-AMS-MML_SVG\"></script><script type=\"text/javascript\">if (window.MathJax) {MathJax.Hub.Config({SVG: {font: \"STIX-Web\"}});}</script>\n",
              "                <script type=\"text/javascript\">window.PlotlyConfig = {MathJaxConfig: 'local'};</script>\n",
              "        <script src=\"https://cdn.plot.ly/plotly-latest.min.js\"></script>    \n",
              "            <div id=\"ce5e5621-cc1b-48a3-92e5-5e970929288d\" class=\"plotly-graph-div\" style=\"height:600px; width:1000px;\"></div>\n",
              "            <script type=\"text/javascript\">\n",
              "                \n",
              "                    window.PLOTLYENV=window.PLOTLYENV || {};\n",
              "                    \n",
              "                if (document.getElementById(\"ce5e5621-cc1b-48a3-92e5-5e970929288d\")) {\n",
              "                    Plotly.newPlot(\n",
              "                        'ce5e5621-cc1b-48a3-92e5-5e970929288d',\n",
              "                        [{\"orientation\": \"h\", \"type\": \"bar\", \"x\": [2, 114, 401, 659, 1227, 1378, 1728, 1826, 2644, 2690, 2913, 3457, 4745, 5491, 8758, 16014, 28739, 35280, 48386, 136668, 145989, 189481, 251852, 258316, 261903, 417828, 605723, 830954, 1070963, 5116953, 6984321], \"y\": [\"UJI KLINIS\", \"PENDAMPING DISABILITAS\", \"WAKIL RAKYAT\", \"PEJABAT NEGARA\", \"WARTAWAN DAN PEKERJA MEDIA\", \"IBU MENYUSUI\", \"IBU HAMIL\", \"DISABILITAS MENTAL\", \"WNA(PNA/OI)\", \"DISABILITAS LAINNYA\", \"BUMD\", \"ATLIT\", \"KEAMANAN\", \"MASYARAKAT LAINNYA\", \"PENYULUH AGAMA\", \"TNI\", \"PARIWISATA\", \"POLRI\", \"PEDAGANG PASAR\", \"BUMN\", \"TRANSPORTASI PUBLIK\", \"MASYARAKAT RENTAN\", \"PRA-LANSIA\", \"PEGAWAI PEMERINTAH\", \"SDM KESEHATAN\", \"PENDIDIK\", \"REMAJA\", \"PELAYAN PUBLIK\", \"LANSIA\", \"MASYARAKAT UMUM\", \"Menunggu Konfirmasi\"]}],\n",
              "                        {\"height\": 600, \"margin\": {\"b\": 0, \"l\": 0, \"r\": 90, \"t\": 25}, \"template\": {\"data\": {\"bar\": [{\"error_x\": {\"color\": \"#2a3f5f\"}, \"error_y\": {\"color\": \"#2a3f5f\"}, \"marker\": {\"line\": {\"color\": \"#E5ECF6\", \"width\": 0.5}}, \"type\": \"bar\"}], \"barpolar\": [{\"marker\": {\"line\": {\"color\": \"#E5ECF6\", \"width\": 0.5}}, \"type\": \"barpolar\"}], \"carpet\": [{\"aaxis\": {\"endlinecolor\": \"#2a3f5f\", \"gridcolor\": \"white\", \"linecolor\": \"white\", \"minorgridcolor\": \"white\", \"startlinecolor\": \"#2a3f5f\"}, \"baxis\": {\"endlinecolor\": \"#2a3f5f\", \"gridcolor\": \"white\", \"linecolor\": \"white\", \"minorgridcolor\": \"white\", \"startlinecolor\": \"#2a3f5f\"}, \"type\": \"carpet\"}], \"choropleth\": [{\"colorbar\": {\"outlinewidth\": 0, \"ticks\": \"\"}, \"type\": \"choropleth\"}], \"contour\": [{\"colorbar\": {\"outlinewidth\": 0, \"ticks\": \"\"}, \"colorscale\": [[0.0, \"#0d0887\"], [0.1111111111111111, \"#46039f\"], [0.2222222222222222, \"#7201a8\"], [0.3333333333333333, \"#9c179e\"], [0.4444444444444444, \"#bd3786\"], [0.5555555555555556, \"#d8576b\"], [0.6666666666666666, \"#ed7953\"], [0.7777777777777778, \"#fb9f3a\"], [0.8888888888888888, \"#fdca26\"], [1.0, \"#f0f921\"]], \"type\": \"contour\"}], \"contourcarpet\": [{\"colorbar\": {\"outlinewidth\": 0, \"ticks\": \"\"}, \"type\": \"contourcarpet\"}], \"heatmap\": [{\"colorbar\": {\"outlinewidth\": 0, \"ticks\": \"\"}, \"colorscale\": [[0.0, \"#0d0887\"], [0.1111111111111111, \"#46039f\"], [0.2222222222222222, \"#7201a8\"], [0.3333333333333333, \"#9c179e\"], [0.4444444444444444, \"#bd3786\"], [0.5555555555555556, \"#d8576b\"], [0.6666666666666666, \"#ed7953\"], [0.7777777777777778, \"#fb9f3a\"], [0.8888888888888888, \"#fdca26\"], [1.0, \"#f0f921\"]], \"type\": \"heatmap\"}], \"heatmapgl\": [{\"colorbar\": {\"outlinewidth\": 0, \"ticks\": \"\"}, \"colorscale\": [[0.0, \"#0d0887\"], [0.1111111111111111, \"#46039f\"], [0.2222222222222222, \"#7201a8\"], [0.3333333333333333, \"#9c179e\"], [0.4444444444444444, \"#bd3786\"], [0.5555555555555556, \"#d8576b\"], [0.6666666666666666, \"#ed7953\"], [0.7777777777777778, \"#fb9f3a\"], [0.8888888888888888, \"#fdca26\"], [1.0, \"#f0f921\"]], \"type\": \"heatmapgl\"}], \"histogram\": [{\"marker\": {\"colorbar\": {\"outlinewidth\": 0, \"ticks\": \"\"}}, \"type\": \"histogram\"}], \"histogram2d\": [{\"colorbar\": {\"outlinewidth\": 0, \"ticks\": \"\"}, \"colorscale\": [[0.0, \"#0d0887\"], [0.1111111111111111, \"#46039f\"], [0.2222222222222222, \"#7201a8\"], [0.3333333333333333, \"#9c179e\"], [0.4444444444444444, \"#bd3786\"], [0.5555555555555556, \"#d8576b\"], [0.6666666666666666, \"#ed7953\"], [0.7777777777777778, \"#fb9f3a\"], [0.8888888888888888, \"#fdca26\"], [1.0, \"#f0f921\"]], \"type\": \"histogram2d\"}], \"histogram2dcontour\": [{\"colorbar\": {\"outlinewidth\": 0, \"ticks\": \"\"}, \"colorscale\": [[0.0, \"#0d0887\"], [0.1111111111111111, \"#46039f\"], [0.2222222222222222, \"#7201a8\"], [0.3333333333333333, \"#9c179e\"], [0.4444444444444444, \"#bd3786\"], [0.5555555555555556, \"#d8576b\"], [0.6666666666666666, \"#ed7953\"], [0.7777777777777778, \"#fb9f3a\"], [0.8888888888888888, \"#fdca26\"], [1.0, \"#f0f921\"]], \"type\": \"histogram2dcontour\"}], \"mesh3d\": [{\"colorbar\": {\"outlinewidth\": 0, \"ticks\": \"\"}, \"type\": \"mesh3d\"}], \"parcoords\": [{\"line\": {\"colorbar\": {\"outlinewidth\": 0, \"ticks\": \"\"}}, \"type\": \"parcoords\"}], \"pie\": [{\"automargin\": true, \"type\": \"pie\"}], \"scatter\": [{\"marker\": {\"colorbar\": {\"outlinewidth\": 0, \"ticks\": \"\"}}, \"type\": \"scatter\"}], \"scatter3d\": [{\"line\": {\"colorbar\": {\"outlinewidth\": 0, \"ticks\": \"\"}}, \"marker\": {\"colorbar\": {\"outlinewidth\": 0, \"ticks\": \"\"}}, \"type\": \"scatter3d\"}], \"scattercarpet\": [{\"marker\": {\"colorbar\": {\"outlinewidth\": 0, \"ticks\": \"\"}}, \"type\": \"scattercarpet\"}], \"scattergeo\": [{\"marker\": {\"colorbar\": {\"outlinewidth\": 0, \"ticks\": \"\"}}, \"type\": \"scattergeo\"}], \"scattergl\": [{\"marker\": {\"colorbar\": {\"outlinewidth\": 0, \"ticks\": \"\"}}, \"type\": \"scattergl\"}], \"scattermapbox\": [{\"marker\": {\"colorbar\": {\"outlinewidth\": 0, \"ticks\": \"\"}}, \"type\": \"scattermapbox\"}], \"scatterpolar\": [{\"marker\": {\"colorbar\": {\"outlinewidth\": 0, \"ticks\": \"\"}}, \"type\": \"scatterpolar\"}], \"scatterpolargl\": [{\"marker\": {\"colorbar\": {\"outlinewidth\": 0, \"ticks\": \"\"}}, \"type\": \"scatterpolargl\"}], \"scatterternary\": [{\"marker\": {\"colorbar\": {\"outlinewidth\": 0, \"ticks\": \"\"}}, \"type\": \"scatterternary\"}], \"surface\": [{\"colorbar\": {\"outlinewidth\": 0, \"ticks\": \"\"}, \"colorscale\": [[0.0, \"#0d0887\"], [0.1111111111111111, \"#46039f\"], [0.2222222222222222, \"#7201a8\"], [0.3333333333333333, \"#9c179e\"], [0.4444444444444444, \"#bd3786\"], [0.5555555555555556, \"#d8576b\"], [0.6666666666666666, \"#ed7953\"], [0.7777777777777778, \"#fb9f3a\"], [0.8888888888888888, \"#fdca26\"], [1.0, \"#f0f921\"]], \"type\": \"surface\"}], \"table\": [{\"cells\": {\"fill\": {\"color\": \"#EBF0F8\"}, \"line\": {\"color\": \"white\"}}, \"header\": {\"fill\": {\"color\": \"#C8D4E3\"}, \"line\": {\"color\": \"white\"}}, \"type\": \"table\"}]}, \"layout\": {\"annotationdefaults\": {\"arrowcolor\": \"#2a3f5f\", \"arrowhead\": 0, \"arrowwidth\": 1}, \"coloraxis\": {\"colorbar\": {\"outlinewidth\": 0, \"ticks\": \"\"}}, \"colorscale\": {\"diverging\": [[0, \"#8e0152\"], [0.1, \"#c51b7d\"], [0.2, \"#de77ae\"], [0.3, \"#f1b6da\"], [0.4, \"#fde0ef\"], [0.5, \"#f7f7f7\"], [0.6, \"#e6f5d0\"], [0.7, \"#b8e186\"], [0.8, \"#7fbc41\"], [0.9, \"#4d9221\"], [1, \"#276419\"]], \"sequential\": [[0.0, \"#0d0887\"], [0.1111111111111111, \"#46039f\"], [0.2222222222222222, \"#7201a8\"], [0.3333333333333333, \"#9c179e\"], [0.4444444444444444, \"#bd3786\"], [0.5555555555555556, \"#d8576b\"], [0.6666666666666666, \"#ed7953\"], [0.7777777777777778, \"#fb9f3a\"], [0.8888888888888888, \"#fdca26\"], [1.0, \"#f0f921\"]], \"sequentialminus\": [[0.0, \"#0d0887\"], [0.1111111111111111, \"#46039f\"], [0.2222222222222222, \"#7201a8\"], [0.3333333333333333, \"#9c179e\"], [0.4444444444444444, \"#bd3786\"], [0.5555555555555556, \"#d8576b\"], [0.6666666666666666, \"#ed7953\"], [0.7777777777777778, \"#fb9f3a\"], [0.8888888888888888, \"#fdca26\"], [1.0, \"#f0f921\"]]}, \"colorway\": [\"#636efa\", \"#EF553B\", \"#00cc96\", \"#ab63fa\", \"#FFA15A\", \"#19d3f3\", \"#FF6692\", \"#B6E880\", \"#FF97FF\", \"#FECB52\"], \"font\": {\"color\": \"#2a3f5f\"}, \"geo\": {\"bgcolor\": \"white\", \"lakecolor\": \"white\", \"landcolor\": \"#E5ECF6\", \"showlakes\": true, \"showland\": true, \"subunitcolor\": \"white\"}, \"hoverlabel\": {\"align\": \"left\"}, \"hovermode\": \"closest\", \"mapbox\": {\"style\": \"light\"}, \"paper_bgcolor\": \"white\", \"plot_bgcolor\": \"#E5ECF6\", \"polar\": {\"angularaxis\": {\"gridcolor\": \"white\", \"linecolor\": \"white\", \"ticks\": \"\"}, \"bgcolor\": \"#E5ECF6\", \"radialaxis\": {\"gridcolor\": \"white\", \"linecolor\": \"white\", \"ticks\": \"\"}}, \"scene\": {\"xaxis\": {\"backgroundcolor\": \"#E5ECF6\", \"gridcolor\": \"white\", \"gridwidth\": 2, \"linecolor\": \"white\", \"showbackground\": true, \"ticks\": \"\", \"zerolinecolor\": \"white\"}, \"yaxis\": {\"backgroundcolor\": \"#E5ECF6\", \"gridcolor\": \"white\", \"gridwidth\": 2, \"linecolor\": \"white\", \"showbackground\": true, \"ticks\": \"\", \"zerolinecolor\": \"white\"}, \"zaxis\": {\"backgroundcolor\": \"#E5ECF6\", \"gridcolor\": \"white\", \"gridwidth\": 2, \"linecolor\": \"white\", \"showbackground\": true, \"ticks\": \"\", \"zerolinecolor\": \"white\"}}, \"shapedefaults\": {\"line\": {\"color\": \"#2a3f5f\"}}, \"ternary\": {\"aaxis\": {\"gridcolor\": \"white\", \"linecolor\": \"white\", \"ticks\": \"\"}, \"baxis\": {\"gridcolor\": \"white\", \"linecolor\": \"white\", \"ticks\": \"\"}, \"bgcolor\": \"#E5ECF6\", \"caxis\": {\"gridcolor\": \"white\", \"linecolor\": \"white\", \"ticks\": \"\"}}, \"title\": {\"x\": 0.05}, \"xaxis\": {\"automargin\": true, \"gridcolor\": \"white\", \"linecolor\": \"white\", \"ticks\": \"\", \"title\": {\"standoff\": 15}, \"zerolinecolor\": \"white\", \"zerolinewidth\": 2}, \"yaxis\": {\"automargin\": true, \"gridcolor\": \"white\", \"linecolor\": \"white\", \"ticks\": \"\", \"title\": {\"standoff\": 15}, \"zerolinecolor\": \"white\", \"zerolinewidth\": 2}}}, \"title\": {\"text\": \"Penerima Vaksinasi Dosis 1 Berdasarkan Kategori\", \"x\": 0.5, \"xanchor\": \"center\", \"y\": 0.98, \"yanchor\": \"top\"}, \"width\": 1000},\n",
              "                        {\"responsive\": true}\n",
              "                    ).then(function(){\n",
              "                            \n",
              "var gd = document.getElementById('ce5e5621-cc1b-48a3-92e5-5e970929288d');\n",
              "var x = new MutationObserver(function (mutations, observer) {{\n",
              "        var display = window.getComputedStyle(gd).display;\n",
              "        if (!display || display === 'none') {{\n",
              "            console.log([gd, 'removed!']);\n",
              "            Plotly.purge(gd);\n",
              "            observer.disconnect();\n",
              "        }}\n",
              "}});\n",
              "\n",
              "// Listen for the removal of the full notebook cells\n",
              "var notebookContainer = gd.closest('#notebook-container');\n",
              "if (notebookContainer) {{\n",
              "    x.observe(notebookContainer, {childList: true});\n",
              "}}\n",
              "\n",
              "// Listen for the clearing of the current output cell\n",
              "var outputEl = gd.closest('.output');\n",
              "if (outputEl) {{\n",
              "    x.observe(outputEl, {childList: true});\n",
              "}}\n",
              "\n",
              "                        })\n",
              "                };\n",
              "                \n",
              "            </script>\n",
              "        </div>\n",
              "</body>\n",
              "</html>"
            ]
          },
          "metadata": {}
        }
      ]
    },
    {
      "cell_type": "markdown",
      "source": [
        "Dari peta sebaran di atas, diketahui bahwa distribusi vaksin Covid-19 paling banyak dilakukan di kota-kota besar seperti di Kabupaten Bogor, Kabupaten dan Kota Bandung, Kabupaten dan Kota Bekasi, serta Kabupaten Karawang dengan jumlah penerima paling banyak dari masyarakat umum, kemudian lansia dan pelayan publik."
      ],
      "metadata": {
        "id": "6-HiGrDiieuQ"
      }
    },
    {
      "cell_type": "markdown",
      "metadata": {
        "id": "eowB_rwVNDBY"
      },
      "source": [
        "Berapa banyak orang yang sudah melakukan vaksin dosisi pertama dari total populasi?"
      ]
    },
    {
      "cell_type": "code",
      "metadata": {
        "id": "hoAYKoP_NH72"
      },
      "source": [
        "pop_vac = dat_pop.iloc[2:3].reset_index()\n",
        "pop_vac['Sudah Divaksin'] = vac_vis['Divaksin 1'].sum()\n",
        "pop_vac = pd.DataFrame(data={'Jenis': ['Belum Divaksin', 'Sudah Divaksin'], \n",
        "                             'Jumlah':[pop_vac.Populasi[0]-pop_vac['Sudah Divaksin'][0], \n",
        "                                       pop_vac['Sudah Divaksin'][0]]})"
      ],
      "execution_count": null,
      "outputs": []
    },
    {
      "cell_type": "code",
      "metadata": {
        "colab": {
          "base_uri": "https://localhost:8080/",
          "height": 517
        },
        "id": "duLYD3hrBJAj",
        "outputId": "144d45d0-2540-4cbc-a7c2-dca0e4e0f09b"
      },
      "source": [
        "fig = go.Figure(data=[\n",
        "            go.Pie(values=pop_vac.Jumlah, labels=pop_vac.Jenis)])\n",
        "\n",
        "fig.update_layout(title={'text':'Persentase Penerima Vaksin Dosis Pertama di Jawa Barat',\n",
        "                         'y':0.98, 'x':0.5, 'xanchor':'center', 'yanchor':'top'},\n",
        "                  margin={\"r\":10,\"t\":45,\"l\":10,\"b\":10},\n",
        "                  width=100*5, height=100*5)\n",
        "fig.show()"
      ],
      "execution_count": null,
      "outputs": [
        {
          "output_type": "display_data",
          "data": {
            "text/html": [
              "<html>\n",
              "<head><meta charset=\"utf-8\" /></head>\n",
              "<body>\n",
              "    <div>\n",
              "            <script src=\"https://cdnjs.cloudflare.com/ajax/libs/mathjax/2.7.5/MathJax.js?config=TeX-AMS-MML_SVG\"></script><script type=\"text/javascript\">if (window.MathJax) {MathJax.Hub.Config({SVG: {font: \"STIX-Web\"}});}</script>\n",
              "                <script type=\"text/javascript\">window.PlotlyConfig = {MathJaxConfig: 'local'};</script>\n",
              "        <script src=\"https://cdn.plot.ly/plotly-latest.min.js\"></script>    \n",
              "            <div id=\"73ef8309-5012-443a-8f40-5c6d92f0775a\" class=\"plotly-graph-div\" style=\"height:500px; width:500px;\"></div>\n",
              "            <script type=\"text/javascript\">\n",
              "                \n",
              "                    window.PLOTLYENV=window.PLOTLYENV || {};\n",
              "                    \n",
              "                if (document.getElementById(\"73ef8309-5012-443a-8f40-5c6d92f0775a\")) {\n",
              "                    Plotly.newPlot(\n",
              "                        '73ef8309-5012-443a-8f40-5c6d92f0775a',\n",
              "                        [{\"labels\": [\"Belum Divaksin\", \"Sudah Divaksin\"], \"type\": \"pie\", \"values\": [33940418, 15995440]}],\n",
              "                        {\"height\": 500, \"margin\": {\"b\": 10, \"l\": 10, \"r\": 10, \"t\": 45}, \"template\": {\"data\": {\"bar\": [{\"error_x\": {\"color\": \"#2a3f5f\"}, \"error_y\": {\"color\": \"#2a3f5f\"}, \"marker\": {\"line\": {\"color\": \"#E5ECF6\", \"width\": 0.5}}, \"type\": \"bar\"}], \"barpolar\": [{\"marker\": {\"line\": {\"color\": \"#E5ECF6\", \"width\": 0.5}}, \"type\": \"barpolar\"}], \"carpet\": [{\"aaxis\": {\"endlinecolor\": \"#2a3f5f\", \"gridcolor\": \"white\", \"linecolor\": \"white\", \"minorgridcolor\": \"white\", \"startlinecolor\": \"#2a3f5f\"}, \"baxis\": {\"endlinecolor\": \"#2a3f5f\", \"gridcolor\": \"white\", \"linecolor\": \"white\", \"minorgridcolor\": \"white\", \"startlinecolor\": \"#2a3f5f\"}, \"type\": \"carpet\"}], \"choropleth\": [{\"colorbar\": {\"outlinewidth\": 0, \"ticks\": \"\"}, \"type\": \"choropleth\"}], \"contour\": [{\"colorbar\": {\"outlinewidth\": 0, \"ticks\": \"\"}, \"colorscale\": [[0.0, \"#0d0887\"], [0.1111111111111111, \"#46039f\"], [0.2222222222222222, \"#7201a8\"], [0.3333333333333333, \"#9c179e\"], [0.4444444444444444, \"#bd3786\"], [0.5555555555555556, \"#d8576b\"], [0.6666666666666666, \"#ed7953\"], [0.7777777777777778, \"#fb9f3a\"], [0.8888888888888888, \"#fdca26\"], [1.0, \"#f0f921\"]], \"type\": \"contour\"}], \"contourcarpet\": [{\"colorbar\": {\"outlinewidth\": 0, \"ticks\": \"\"}, \"type\": \"contourcarpet\"}], \"heatmap\": [{\"colorbar\": {\"outlinewidth\": 0, \"ticks\": \"\"}, \"colorscale\": [[0.0, \"#0d0887\"], [0.1111111111111111, \"#46039f\"], [0.2222222222222222, \"#7201a8\"], [0.3333333333333333, \"#9c179e\"], [0.4444444444444444, \"#bd3786\"], [0.5555555555555556, \"#d8576b\"], [0.6666666666666666, \"#ed7953\"], [0.7777777777777778, \"#fb9f3a\"], [0.8888888888888888, \"#fdca26\"], [1.0, \"#f0f921\"]], \"type\": \"heatmap\"}], \"heatmapgl\": [{\"colorbar\": {\"outlinewidth\": 0, \"ticks\": \"\"}, \"colorscale\": [[0.0, \"#0d0887\"], [0.1111111111111111, \"#46039f\"], [0.2222222222222222, \"#7201a8\"], [0.3333333333333333, \"#9c179e\"], [0.4444444444444444, \"#bd3786\"], [0.5555555555555556, \"#d8576b\"], [0.6666666666666666, \"#ed7953\"], [0.7777777777777778, \"#fb9f3a\"], [0.8888888888888888, \"#fdca26\"], [1.0, \"#f0f921\"]], \"type\": \"heatmapgl\"}], \"histogram\": [{\"marker\": {\"colorbar\": {\"outlinewidth\": 0, \"ticks\": \"\"}}, \"type\": \"histogram\"}], \"histogram2d\": [{\"colorbar\": {\"outlinewidth\": 0, \"ticks\": \"\"}, \"colorscale\": [[0.0, \"#0d0887\"], [0.1111111111111111, \"#46039f\"], [0.2222222222222222, \"#7201a8\"], [0.3333333333333333, \"#9c179e\"], [0.4444444444444444, \"#bd3786\"], [0.5555555555555556, \"#d8576b\"], [0.6666666666666666, \"#ed7953\"], [0.7777777777777778, \"#fb9f3a\"], [0.8888888888888888, \"#fdca26\"], [1.0, \"#f0f921\"]], \"type\": \"histogram2d\"}], \"histogram2dcontour\": [{\"colorbar\": {\"outlinewidth\": 0, \"ticks\": \"\"}, \"colorscale\": [[0.0, \"#0d0887\"], [0.1111111111111111, \"#46039f\"], [0.2222222222222222, \"#7201a8\"], [0.3333333333333333, \"#9c179e\"], [0.4444444444444444, \"#bd3786\"], [0.5555555555555556, \"#d8576b\"], [0.6666666666666666, \"#ed7953\"], [0.7777777777777778, \"#fb9f3a\"], [0.8888888888888888, \"#fdca26\"], [1.0, \"#f0f921\"]], \"type\": \"histogram2dcontour\"}], \"mesh3d\": [{\"colorbar\": {\"outlinewidth\": 0, \"ticks\": \"\"}, \"type\": \"mesh3d\"}], \"parcoords\": [{\"line\": {\"colorbar\": {\"outlinewidth\": 0, \"ticks\": \"\"}}, \"type\": \"parcoords\"}], \"pie\": [{\"automargin\": true, \"type\": \"pie\"}], \"scatter\": [{\"marker\": {\"colorbar\": {\"outlinewidth\": 0, \"ticks\": \"\"}}, \"type\": \"scatter\"}], \"scatter3d\": [{\"line\": {\"colorbar\": {\"outlinewidth\": 0, \"ticks\": \"\"}}, \"marker\": {\"colorbar\": {\"outlinewidth\": 0, \"ticks\": \"\"}}, \"type\": \"scatter3d\"}], \"scattercarpet\": [{\"marker\": {\"colorbar\": {\"outlinewidth\": 0, \"ticks\": \"\"}}, \"type\": \"scattercarpet\"}], \"scattergeo\": [{\"marker\": {\"colorbar\": {\"outlinewidth\": 0, \"ticks\": \"\"}}, \"type\": \"scattergeo\"}], \"scattergl\": [{\"marker\": {\"colorbar\": {\"outlinewidth\": 0, \"ticks\": \"\"}}, \"type\": \"scattergl\"}], \"scattermapbox\": [{\"marker\": {\"colorbar\": {\"outlinewidth\": 0, \"ticks\": \"\"}}, \"type\": \"scattermapbox\"}], \"scatterpolar\": [{\"marker\": {\"colorbar\": {\"outlinewidth\": 0, \"ticks\": \"\"}}, \"type\": \"scatterpolar\"}], \"scatterpolargl\": [{\"marker\": {\"colorbar\": {\"outlinewidth\": 0, \"ticks\": \"\"}}, \"type\": \"scatterpolargl\"}], \"scatterternary\": [{\"marker\": {\"colorbar\": {\"outlinewidth\": 0, \"ticks\": \"\"}}, \"type\": \"scatterternary\"}], \"surface\": [{\"colorbar\": {\"outlinewidth\": 0, \"ticks\": \"\"}, \"colorscale\": [[0.0, \"#0d0887\"], [0.1111111111111111, \"#46039f\"], [0.2222222222222222, \"#7201a8\"], [0.3333333333333333, \"#9c179e\"], [0.4444444444444444, \"#bd3786\"], [0.5555555555555556, \"#d8576b\"], [0.6666666666666666, \"#ed7953\"], [0.7777777777777778, \"#fb9f3a\"], [0.8888888888888888, \"#fdca26\"], [1.0, \"#f0f921\"]], \"type\": \"surface\"}], \"table\": [{\"cells\": {\"fill\": {\"color\": \"#EBF0F8\"}, \"line\": {\"color\": \"white\"}}, \"header\": {\"fill\": {\"color\": \"#C8D4E3\"}, \"line\": {\"color\": \"white\"}}, \"type\": \"table\"}]}, \"layout\": {\"annotationdefaults\": {\"arrowcolor\": \"#2a3f5f\", \"arrowhead\": 0, \"arrowwidth\": 1}, \"coloraxis\": {\"colorbar\": {\"outlinewidth\": 0, \"ticks\": \"\"}}, \"colorscale\": {\"diverging\": [[0, \"#8e0152\"], [0.1, \"#c51b7d\"], [0.2, \"#de77ae\"], [0.3, \"#f1b6da\"], [0.4, \"#fde0ef\"], [0.5, \"#f7f7f7\"], [0.6, \"#e6f5d0\"], [0.7, \"#b8e186\"], [0.8, \"#7fbc41\"], [0.9, \"#4d9221\"], [1, \"#276419\"]], \"sequential\": [[0.0, \"#0d0887\"], [0.1111111111111111, \"#46039f\"], [0.2222222222222222, \"#7201a8\"], [0.3333333333333333, \"#9c179e\"], [0.4444444444444444, \"#bd3786\"], [0.5555555555555556, \"#d8576b\"], [0.6666666666666666, \"#ed7953\"], [0.7777777777777778, \"#fb9f3a\"], [0.8888888888888888, \"#fdca26\"], [1.0, \"#f0f921\"]], \"sequentialminus\": [[0.0, \"#0d0887\"], [0.1111111111111111, \"#46039f\"], [0.2222222222222222, \"#7201a8\"], [0.3333333333333333, \"#9c179e\"], [0.4444444444444444, \"#bd3786\"], [0.5555555555555556, \"#d8576b\"], [0.6666666666666666, \"#ed7953\"], [0.7777777777777778, \"#fb9f3a\"], [0.8888888888888888, \"#fdca26\"], [1.0, \"#f0f921\"]]}, \"colorway\": [\"#636efa\", \"#EF553B\", \"#00cc96\", \"#ab63fa\", \"#FFA15A\", \"#19d3f3\", \"#FF6692\", \"#B6E880\", \"#FF97FF\", \"#FECB52\"], \"font\": {\"color\": \"#2a3f5f\"}, \"geo\": {\"bgcolor\": \"white\", \"lakecolor\": \"white\", \"landcolor\": \"#E5ECF6\", \"showlakes\": true, \"showland\": true, \"subunitcolor\": \"white\"}, \"hoverlabel\": {\"align\": \"left\"}, \"hovermode\": \"closest\", \"mapbox\": {\"style\": \"light\"}, \"paper_bgcolor\": \"white\", \"plot_bgcolor\": \"#E5ECF6\", \"polar\": {\"angularaxis\": {\"gridcolor\": \"white\", \"linecolor\": \"white\", \"ticks\": \"\"}, \"bgcolor\": \"#E5ECF6\", \"radialaxis\": {\"gridcolor\": \"white\", \"linecolor\": \"white\", \"ticks\": \"\"}}, \"scene\": {\"xaxis\": {\"backgroundcolor\": \"#E5ECF6\", \"gridcolor\": \"white\", \"gridwidth\": 2, \"linecolor\": \"white\", \"showbackground\": true, \"ticks\": \"\", \"zerolinecolor\": \"white\"}, \"yaxis\": {\"backgroundcolor\": \"#E5ECF6\", \"gridcolor\": \"white\", \"gridwidth\": 2, \"linecolor\": \"white\", \"showbackground\": true, \"ticks\": \"\", \"zerolinecolor\": \"white\"}, \"zaxis\": {\"backgroundcolor\": \"#E5ECF6\", \"gridcolor\": \"white\", \"gridwidth\": 2, \"linecolor\": \"white\", \"showbackground\": true, \"ticks\": \"\", \"zerolinecolor\": \"white\"}}, \"shapedefaults\": {\"line\": {\"color\": \"#2a3f5f\"}}, \"ternary\": {\"aaxis\": {\"gridcolor\": \"white\", \"linecolor\": \"white\", \"ticks\": \"\"}, \"baxis\": {\"gridcolor\": \"white\", \"linecolor\": \"white\", \"ticks\": \"\"}, \"bgcolor\": \"#E5ECF6\", \"caxis\": {\"gridcolor\": \"white\", \"linecolor\": \"white\", \"ticks\": \"\"}}, \"title\": {\"x\": 0.05}, \"xaxis\": {\"automargin\": true, \"gridcolor\": \"white\", \"linecolor\": \"white\", \"ticks\": \"\", \"title\": {\"standoff\": 15}, \"zerolinecolor\": \"white\", \"zerolinewidth\": 2}, \"yaxis\": {\"automargin\": true, \"gridcolor\": \"white\", \"linecolor\": \"white\", \"ticks\": \"\", \"title\": {\"standoff\": 15}, \"zerolinecolor\": \"white\", \"zerolinewidth\": 2}}}, \"title\": {\"text\": \"Persentase Penerima Vaksin Dosis Pertama di Jawa Barat\", \"x\": 0.5, \"xanchor\": \"center\", \"y\": 0.98, \"yanchor\": \"top\"}, \"width\": 500},\n",
              "                        {\"responsive\": true}\n",
              "                    ).then(function(){\n",
              "                            \n",
              "var gd = document.getElementById('73ef8309-5012-443a-8f40-5c6d92f0775a');\n",
              "var x = new MutationObserver(function (mutations, observer) {{\n",
              "        var display = window.getComputedStyle(gd).display;\n",
              "        if (!display || display === 'none') {{\n",
              "            console.log([gd, 'removed!']);\n",
              "            Plotly.purge(gd);\n",
              "            observer.disconnect();\n",
              "        }}\n",
              "}});\n",
              "\n",
              "// Listen for the removal of the full notebook cells\n",
              "var notebookContainer = gd.closest('#notebook-container');\n",
              "if (notebookContainer) {{\n",
              "    x.observe(notebookContainer, {childList: true});\n",
              "}}\n",
              "\n",
              "// Listen for the clearing of the current output cell\n",
              "var outputEl = gd.closest('.output');\n",
              "if (outputEl) {{\n",
              "    x.observe(outputEl, {childList: true});\n",
              "}}\n",
              "\n",
              "                        })\n",
              "                };\n",
              "                \n",
              "            </script>\n",
              "        </div>\n",
              "</body>\n",
              "</html>"
            ]
          },
          "metadata": {}
        }
      ]
    },
    {
      "cell_type": "markdown",
      "source": [
        "Pemerintah Jawa Barat menargetkan 70% warganya untuk melakukan vaksinasi, sampai bulan September ini target vaksinasi baru bisa mencapai 32%."
      ],
      "metadata": {
        "id": "zCE6eoQslS0q"
      }
    },
    {
      "cell_type": "code",
      "source": [
        ""
      ],
      "metadata": {
        "id": "Wpokvik1lSJt"
      },
      "execution_count": null,
      "outputs": []
    }
  ]
}